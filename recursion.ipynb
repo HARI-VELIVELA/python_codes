{
 "cells": [
  {
   "cell_type": "code",
   "execution_count": 1,
   "metadata": {},
   "outputs": [
    {
     "data": {
      "text/plain": [
       "120"
      ]
     },
     "execution_count": 1,
     "metadata": {},
     "output_type": "execute_result"
    }
   ],
   "source": [
    "# python recursion algorithms:\n",
    "\n",
    "\"\"\" every recursion problem has the base case and recursive case. stack overflow will occur if the recursive case doesn't meet\n",
    "    the base case.\"\"\"\n",
    "\n",
    "def factorial(n):\n",
    "    if n<=1: return 1 # base case\n",
    "    return n*factorial(n-1) # recursive case \n",
    "\n",
    "factorial(5)"
   ]
  },
  {
   "cell_type": "code",
   "execution_count": null,
   "metadata": {},
   "outputs": [],
   "source": [
    "\"\"\" direct recursion: a function can be called in it's own function\n",
    "    indirect recursion: a function can be called by another function\n",
    "    \n",
    "    tailed recursion  -> \n",
    "    non-tailed recursion\"\"\""
   ]
  },
  {
   "cell_type": "code",
   "execution_count": 4,
   "metadata": {},
   "outputs": [
    {
     "data": {
      "text/plain": [
       "'elppa'"
      ]
     },
     "execution_count": 4,
     "metadata": {},
     "output_type": "execute_result"
    }
   ],
   "source": [
    "def reverse(string):\n",
    "    if len(string) == 0:\n",
    "        return string\n",
    "    else:\n",
    "        return string[-1]+reverse(string[:-1])\n",
    "    \n",
    "reverse(\"apple\")"
   ]
  },
  {
   "cell_type": "code",
   "execution_count": 11,
   "metadata": {},
   "outputs": [
    {
     "name": "stdout",
     "output_type": "stream",
     "text": [
      "1 0 0 0 1 1 "
     ]
    }
   ],
   "source": [
    "def fun(n):\n",
    "    if n==0:\n",
    "        return\n",
    "    fun(n//2)\n",
    "\n",
    "    print(n%2, end = \" \")\n",
    "    \n",
    "fun(35)"
   ]
  },
  {
   "cell_type": "code",
   "execution_count": 1,
   "metadata": {},
   "outputs": [
    {
     "name": "stdout",
     "output_type": "stream",
     "text": [
      "0 0 1 0 1 2 0 1 2 3 0 1 2 3 4 "
     ]
    }
   ],
   "source": [
    "def  fun1(n): \n",
    "    i = 0 \n",
    "    if (n > 1): \n",
    "        fun1(n - 1)  \n",
    "    for i in range(n): \n",
    "        print(i,end=\" \")\n",
    "    \n",
    "fun1(5)"
   ]
  },
  {
   "cell_type": "code",
   "execution_count": 28,
   "metadata": {},
   "outputs": [
    {
     "name": "stdout",
     "output_type": "stream",
     "text": [
      "1 2 4 8 16 32 64 64 32 16 8 4 2 1 "
     ]
    }
   ],
   "source": [
    "limit = 100\n",
    "def fun(n):\n",
    "    if n <= 0: return \n",
    "    if n > limit: return\n",
    "    print(n, end = \" \")\n",
    "    fun(2*n)\n",
    "    print(n, end = \" \")\n",
    "\n",
    "fun(1)"
   ]
  },
  {
   "cell_type": "code",
   "execution_count": 2,
   "metadata": {},
   "outputs": [
    {
     "name": "stdout",
     "output_type": "stream",
     "text": [
      "4 3 2 1 "
     ]
    }
   ],
   "source": [
    "def fun(n):\n",
    "    if n>0:\n",
    "        n-=1\n",
    "        fun(n)\n",
    "        print(n, end = \" \")\n",
    "        n-=1\n",
    "        fun(n)\n",
    "fun(4)"
   ]
  },
  {
   "cell_type": "code",
   "execution_count": 12,
   "metadata": {},
   "outputs": [
    {
     "data": {
      "text/plain": [
       "100"
      ]
     },
     "execution_count": 12,
     "metadata": {},
     "output_type": "execute_result"
    }
   ],
   "source": [
    "def fun( a, n): \n",
    "    if(n == 1): \n",
    "        return a[0] \n",
    "    else: \n",
    "        x = fun(a, n - 1) \n",
    "    if(x > a[n - 1]): \n",
    "        return x \n",
    "    else: \n",
    "        return a[n - 1]\n",
    "arr = [12,10,30,50,100]\n",
    "n = len(arr)\n",
    "fun(arr,n)"
   ]
  },
  {
   "cell_type": "code",
   "execution_count": 36,
   "metadata": {},
   "outputs": [
    {
     "name": "stdout",
     "output_type": "stream",
     "text": [
      "i i r i i r a i i r i i r a h "
     ]
    }
   ],
   "source": [
    "def fun(s):\n",
    "    if len(s) == 0:\n",
    "        return\n",
    "    fun(s[1:])\n",
    "    fun(s[1:])\n",
    "    print(s[0], end = \" \")\n",
    "fun(\"hari\")"
   ]
  },
  {
   "cell_type": "code",
   "execution_count": 29,
   "metadata": {},
   "outputs": [
    {
     "name": "stdout",
     "output_type": "stream",
     "text": [
      " 5 \n"
     ]
    }
   ],
   "source": [
    "def fun(i):\n",
    "    if i%2 == 1:\n",
    "        return i\n",
    "    else:\n",
    "        return fun(fun(i-1))\n",
    "print(\" \"+str(fun(6))+ \" \")\n",
    "   "
   ]
  },
  {
   "cell_type": "code",
   "execution_count": 47,
   "metadata": {},
   "outputs": [
    {
     "name": "stdout",
     "output_type": "stream",
     "text": [
      "1 2 3 3 3 3 3 "
     ]
    },
    {
     "data": {
      "text/plain": [
       "2"
      ]
     },
     "execution_count": 47,
     "metadata": {},
     "output_type": "execute_result"
    }
   ],
   "source": [
    "def fun(count):\n",
    "    print(count, end = \" \")\n",
    "    if count < 3:\n",
    "        count+=1\n",
    "        fun(fun(fun(count)))\n",
    "    return count\n",
    "fun(1)"
   ]
  },
  {
   "cell_type": "code",
   "execution_count": 85,
   "metadata": {},
   "outputs": [
    {
     "name": "stdout",
     "output_type": "stream",
     "text": [
      "1 4 10\n",
      "2 4 8\n",
      "1 4 10\n",
      "3 4 5\n",
      "1 4 10\n",
      "2 4 8\n",
      "1 4 10\n"
     ]
    }
   ],
   "source": [
    "def function(n, a, b):\n",
    "    if n<=0: return \n",
    "    function(n-1, a, n+b)\n",
    "    print(n,a,b)\n",
    "    \n",
    "    function(n-1, a, n+b)\n",
    "   \n",
    "    \n",
    "function(3,4,5)"
   ]
  },
  {
   "cell_type": "code",
   "execution_count": 89,
   "metadata": {},
   "outputs": [
    {
     "data": {
      "text/plain": [
       "5"
      ]
     },
     "execution_count": 89,
     "metadata": {},
     "output_type": "execute_result"
    }
   ],
   "source": [
    "def function(n):\n",
    "    i = 1\n",
    "    if n>=5: return n\n",
    "    n+=i\n",
    "    i += 1\n",
    "    return function(n)\n",
    "\n",
    "function(1)"
   ]
  },
  {
   "cell_type": "code",
   "execution_count": 92,
   "metadata": {},
   "outputs": [
    {
     "name": "stdout",
     "output_type": "stream",
     "text": [
      "1\n",
      "2\n",
      "3\n",
      "1\n",
      "4\n",
      "1\n",
      "2\n",
      "5\n",
      "1\n",
      "2\n",
      "3\n",
      "6\n"
     ]
    }
   ],
   "source": [
    "def function(n):\n",
    "    if n<1: return \n",
    "    function(n-1)\n",
    "    function(n-3)\n",
    "    print(n)\n",
    "function(6)"
   ]
  }
 ],
 "metadata": {
  "kernelspec": {
   "display_name": "Python 3",
   "language": "python",
   "name": "python3"
  },
  "language_info": {
   "codemirror_mode": {
    "name": "ipython",
    "version": 3
   },
   "file_extension": ".py",
   "mimetype": "text/x-python",
   "name": "python",
   "nbconvert_exporter": "python",
   "pygments_lexer": "ipython3",
   "version": "3.7.0"
  }
 },
 "nbformat": 4,
 "nbformat_minor": 2
}
