{
 "cells": [
  {
   "cell_type": "code",
   "execution_count": 5,
   "metadata": {},
   "outputs": [
    {
     "name": "stdout",
     "output_type": "stream",
     "text": [
      "juli\n",
      "canis familiaris\n",
      "pluto\n",
      "Felis silvestris\n",
      "pluto is 2 years old\n",
      "pluto says Bow Bow\n"
     ]
    },
    {
     "data": {
      "text/plain": [
       "False"
      ]
     },
     "execution_count": 5,
     "metadata": {},
     "output_type": "execute_result"
    }
   ],
   "source": [
    "# classes and instances\n",
    "\n",
    "class Dog:\n",
    "    species = \"canis familiaris\" # class attribute\n",
    "    def __init__(self, name, age): #dunder method\n",
    "        self.name = name # self.name -> instance attribute\n",
    "        self.age = age\n",
    "        \n",
    "    # instance methods: these are the functions that are defined inside a class and can only be called from instance of that\n",
    "    #                   class \n",
    "#     def description(self):\n",
    "#         return f\"{self.name} is {self.age} years old\"\n",
    "    def __str__(self): # dunder method\n",
    "        return f\"{self.name} is {self.age} years old\"\n",
    "    \n",
    "    def speak(self, sound):\n",
    "        return f\"{self.name} says {sound}\"\n",
    "        \n",
    "    \n",
    "\"\"\" creating the new object from a class is called instantiating an object --> Dog()\"\"\"\n",
    "a = Dog(\"juli\", 2)\n",
    "b = Dog(\"juli\", 2)\n",
    "\n",
    "print(a.name) #accessing instance attribute\n",
    "print(a.species) # we can access the class attributes\n",
    "\n",
    "a.name = \"pluto\"\n",
    "print(a.name)\n",
    "a.species = \"Felis silvestris\"\n",
    "print(a.species)\n",
    "# note: custom objects are mutable\n",
    "\n",
    "print(a)\n",
    "print(a.speak(\"Bow Bow\"))\n",
    "\n",
    "a == b # it return False even the parameters are same because, those represents two distinctive objects in the memory\n",
    "#You can give .__init__() any number of parameters, but the first parameter will always be a variable called self. \n",
    "#When a new class instance is created, the instance is automatically passed to the \n",
    "#self parameter in .__init__() so that new attributes can be defined on the object.\n"
   ]
  },
  {
   "cell_type": "code",
   "execution_count": 27,
   "metadata": {},
   "outputs": [
    {
     "name": "stdout",
     "output_type": "stream",
     "text": [
      "The Blue car has 20000 miles\n",
      "The Red car has 30000 miles\n"
     ]
    }
   ],
   "source": [
    "# create the car class:\n",
    "\n",
    "class Car:\n",
    "    def __init__(self, color, milage):\n",
    "        self.color = color\n",
    "        self.milage = milage\n",
    "#     def description(self):\n",
    "#         return f\"The {self.color}car has {self.milage} miles\"\n",
    "    \n",
    "car1 = Car(\"Blue\", 20000)\n",
    "car2 = Car(\"Red\", 30000)\n",
    "# print(car1.description())\n",
    "# print(car2.description())\n",
    "# print(f\"The {car1.color} car has {car1.milage} miles\")\n",
    "# print(f\"The {car2.color} car has {car2.milage} miles\")\n",
    "for car in (car1, car2):\n",
    "    print(f\"The {car.color} car has {car.milage} miles\")\n"
   ]
  },
  {
   "cell_type": "code",
   "execution_count": 31,
   "metadata": {},
   "outputs": [
    {
     "name": "stdout",
     "output_type": "stream",
     "text": [
      "canis familiaris\n",
      "Buddy\n",
      "Jack is 3 years old\n",
      "Jim says woof\n",
      "True\n",
      "True\n",
      "True\n",
      "True\n"
     ]
    }
   ],
   "source": [
    "# inheritance:\n",
    "\"\"\"Inheritance is the process by which one class takes on the attributes and methods of another. \n",
    "Newly formed classes are called child classes, and the classes that child classes are derived from are called parent classes.\"\"\"\n",
    "\n",
    "\"\"\" child classes inherit all of the parent attributes and methods but can also specify attributes and methods that are unique\n",
    "    to themselves.\n",
    "    \n",
    "    --> overridden -> we can override the attributes that we inherited from the parent class.\n",
    "    --> extended   -> child classes also have some extra attributes along with the inherited attributes from parent class\"\"\"\n",
    "\n",
    "\n",
    "class Dog:\n",
    "    species = \"canis familiaris\"\n",
    "    \n",
    "    def __init__(self, name, age):\n",
    "        self.name = name\n",
    "        self.age = age\n",
    "        #self.breed = breed\n",
    "        \n",
    "    def speak(self, sound):\n",
    "        return f\"{self.name} says {sound}\"\n",
    "    \n",
    "    def __str__(self):\n",
    "        return f\"{self.name} is {self.age} years old\"\n",
    "    \n",
    "    \"\"\" Remember, to create a child class, you create new class with its own name and \n",
    "        then put the name of the parent class in parentheses. \n",
    "        Add the following to the dog.py file to create three new child classes of the Dog class:\"\"\"\n",
    "    \n",
    "class JackRussellTerrier(Dog):\n",
    "    pass\n",
    "\n",
    "class Dachshund(Dog):\n",
    "    pass\n",
    "\n",
    "class Bulldog(Dog):\n",
    "    pass\n",
    "\n",
    "#miles = Dog(\"Miles\", 4, \"Jack Russell Terrier\")\n",
    "# buddy = Dog(\"Buddy\", 9, \"Dachshund\")\n",
    "#jack = Dog(\"Jack\", 3, \"Bulldog\")\n",
    "# jim = Dog(\"Jim\", 5, \"Bulldog\")\n",
    "# print(miles.speak(\"yay\"))\n",
    "# print(jim.speak(\"woof\"))\n",
    "\n",
    "miles = JackRussellTerrier(\"Miles\", 4)\n",
    "buddy = Dachshund(\"Buddy\", 9)\n",
    "jack = Bulldog(\"Jack\", 3)\n",
    "jim = Bulldog(\"Jim\", 5)\n",
    "\n",
    "print(miles.species)\n",
    "print(buddy.name)\n",
    "print(jack)\n",
    "print(jim.speak(\"woof\"))\n",
    "print(isinstance(miles, Dog)) #(object, class)\n",
    "print(isinstance(miles,JackRussellTerrier))\n",
    "print(isinstance(jim, Dog))\n",
    "print(isinstance(jim, Bulldog)) # here Jim instance of bothe Dog and Bulldog\n",
    "\"\"\" More generally, all objects are created from child class are instances of parent class, although they are not instances\n",
    "   of child classes\"\"\""
   ]
  },
  {
   "cell_type": "code",
   "execution_count": 5,
   "metadata": {},
   "outputs": [
    {
     "name": "stdout",
     "output_type": "stream",
     "text": [
      "Miles says Arf\n",
      "jim barks: oyy\n"
     ]
    }
   ],
   "source": [
    "# Extend the functionality of parent class.\n",
    "\n",
    "class Dog:\n",
    "    species = \"canis familiaris\"\n",
    "    \n",
    "    def __init__(self, name, age):\n",
    "        self.name = name\n",
    "        self.age = age\n",
    "        #self.breed = breed\n",
    "        \n",
    "    def speak(self, sound):\n",
    "        #return f\"{self.name} says {sound}\"\n",
    "        return f\"{self.name} barks: {sound}\" # Note\n",
    "    def __str__(self):\n",
    "        return f\"{self.name} is {self.age} years old\"\n",
    "    \n",
    "\"\"\" To override a method defined on the parent class, you define a method with the same name on the child class. \n",
    "Here’s what that looks like for the JackRussellTerrier class: \"\"\"\n",
    "  \n",
    "class JackRussellTerrier(Dog):\n",
    "#     def speak(self, sound = \"Arf\"): # overridden the speack functionality of parent class in child class\n",
    "#         return f\"{self.name} says {sound}\"\n",
    "    \"\"\" access the parent class inside the method of child class by using super()\"\"\"\n",
    "    def speak(self, sound=\"Arf\"):\n",
    "        return super().speak(sound)\n",
    "\n",
    "class Dachshund(Dog):\n",
    "    pass\n",
    "\n",
    "class Bulldog(Dog):\n",
    "    pass\n",
    "\n",
    "miles = JackRussellTerrier(\"Miles\", 4)\n",
    "print(miles.speak())\n",
    "\n",
    "# Note: class inheritance is that changes to the parent class automatically propagate to child classes. \n",
    "#       This occurs as long as the attribute or method being changed isn’t overridden in the child class.\n",
    "Jim = Bulldog(\"jim\", 5)\n",
    "print(Jim.speak(\"oyy\"))\n",
    "\n"
   ]
  },
  {
   "cell_type": "code",
   "execution_count": 6,
   "metadata": {},
   "outputs": [
    {
     "data": {
      "text/plain": [
       "'Miles barks: Arf'"
      ]
     },
     "execution_count": 6,
     "metadata": {},
     "output_type": "execute_result"
    }
   ],
   "source": [
    "class Dog:\n",
    "    species = \"canis familiaris\"\n",
    "    \n",
    "    def __init__(self, name, age):\n",
    "        self.name = name\n",
    "        self.age = age\n",
    "        #self.breed = breed\n",
    "        \n",
    "    def speak(self, sound):\n",
    "        #return f\"{self.name} says {sound}\"\n",
    "        return f\"{self.name} barks: {sound}\" # Note\n",
    "    def __str__(self):\n",
    "        return f\"{self.name} is {self.age} years old\"\n",
    "    \n",
    "class JackRussellTerrier(Dog):\n",
    "    \n",
    "    \"\"\" access the parent class inside the method of child class by using super()\"\"\"\n",
    "    def speak(self, sound=\"Arf\"):\n",
    "        return super().speak(sound)\n",
    "    \n",
    "miles = JackRussellTerrier(\"Miles\", 4)\n",
    "miles.speak()\n"
   ]
  },
  {
   "cell_type": "code",
   "execution_count": 10,
   "metadata": {},
   "outputs": [
    {
     "name": "stdout",
     "output_type": "stream",
     "text": [
      "Miles says Bark\n",
      "Miles is 7 years old\n"
     ]
    }
   ],
   "source": [
    "class Dog:\n",
    "    def __init__(self, name, age):\n",
    "        self.name = name\n",
    "        self.age = age\n",
    "    def speak(self, sound):\n",
    "        return f\"{self.name} says {sound}\"\n",
    "    \n",
    "    def __str__(self):\n",
    "        return f\"{self.name} is {self.age} years old\"\n",
    "    \n",
    "class JackRussellTerrier(Dog):\n",
    "    def speak(self, sound = \"Bark\"):\n",
    "        return super().speak(sound)\n",
    "    \n",
    "miles = JackRussellTerrier(\"Miles\", 7)\n",
    "print(miles.speak())\n",
    "print(miles)"
   ]
  }
 ],
 "metadata": {
  "kernelspec": {
   "display_name": "Python 3",
   "language": "python",
   "name": "python3"
  },
  "language_info": {
   "codemirror_mode": {
    "name": "ipython",
    "version": 3
   },
   "file_extension": ".py",
   "mimetype": "text/x-python",
   "name": "python",
   "nbconvert_exporter": "python",
   "pygments_lexer": "ipython3",
   "version": "3.7.0"
  }
 },
 "nbformat": 4,
 "nbformat_minor": 2
}
