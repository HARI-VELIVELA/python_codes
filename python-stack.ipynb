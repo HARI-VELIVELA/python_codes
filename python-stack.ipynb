{
 "cells": [
  {
   "cell_type": "code",
   "execution_count": null,
   "metadata": {},
   "outputs": [],
   "source": [
    "# python queues: FIFO\n",
    "\"\"\"\n",
    "enqueue - adds item to the queue in rear end. if queue is full 'overflow'                 --> O(1)T\n",
    "dequeue - remove the item from the queue at front end. if the queue is empty 'Underflow'  --> O(1)T\n",
    "Front   - get the front item in the queue                                                 --> O(1)T\n",
    "Rear    - get the last item from the queue                                                --> O(1)T\n",
    "\"\"\"\n",
    "\n",
    "\"\"\"\n",
    "implementation of queue:\n",
    "1. list\n",
    "2. collections.deque\n",
    "3. queue.Queue\n",
    "\"\"\""
   ]
  },
  {
   "cell_type": "code",
   "execution_count": 4,
   "metadata": {},
   "outputs": [
    {
     "name": "stdout",
     "output_type": "stream",
     "text": [
      "['a', 'b', 'c']\n",
      "['b', 'c']\n",
      "[]\n"
     ]
    }
   ],
   "source": [
    "# queue implementation with List: enqueue --> append, dequeue --> pop \n",
    "# lists are quite slow cuz insertion and deleton of element at beginning requires shifting all elements by one, requiring O(n)T\n",
    "queue = []\n",
    "queue.append('a')\n",
    "queue.append('b')\n",
    "queue.append('c')\n",
    "print(queue)\n",
    "queue.pop(0)\n",
    "print(queue)\n",
    "queue.pop(0)\n",
    "queue.pop(0)\n",
    "print(queue)"
   ]
  },
  {
   "cell_type": "code",
   "execution_count": 7,
   "metadata": {},
   "outputs": [
    {
     "name": "stdout",
     "output_type": "stream",
     "text": [
      "deque(['a', 'b', 'c'])\n",
      "deque(['b', 'c'])\n",
      "deque([])\n"
     ]
    }
   ],
   "source": [
    "# queue implementation with collections.deque\n",
    "# deque is very fast in append and pop operations from both ends of the container --> O(1)T\n",
    "# enqueue --> append, dequeue --> popleft()\n",
    "from collections import deque\n",
    "q = deque()\n",
    "# adding elements to the queue\n",
    "q.append('a')\n",
    "q.append('b')\n",
    "q.append('c')\n",
    "print(q)\n",
    "q.popleft()\n",
    "print(q)\n",
    "q.popleft()\n",
    "q.popleft()\n",
    "print(q)"
   ]
  },
  {
   "cell_type": "code",
   "execution_count": 12,
   "metadata": {},
   "outputs": [
    {
     "name": "stdout",
     "output_type": "stream",
     "text": [
      "0\n",
      "False\n",
      "True\n",
      "a\n",
      "b\n",
      "c\n",
      "False\n",
      "True\n"
     ]
    }
   ],
   "source": [
    "# queue implementatio with queue.Queue\n",
    "\"\"\"Queue is built in module of python which used to implement queue: queue.Queue(maxsize).\n",
    "   maxsize of '0' --> infinite queue\n",
    "   1. maxsize() --> no of items allowed in the queue\n",
    "   2. empty()   --> to check whether queue is empty or not\n",
    "   3. full()    --> True if queue filled with maxsize. if maxsize = 0, it never return True\n",
    "   4. get()     --> remove and return the item from the queue\n",
    "   5. get_nowait()-->return item if it is available else raise QueueEmpty\n",
    "   6. put(item) --> put the item into the queue. if queue is full, wait for the next slot.\n",
    "   7. put_nowait --> put the item into stack without blocking\n",
    "   8. qsize     --> reurn the no.of items in the queue, if no free slot available raise QueueFull\n",
    "   \"\"\"\n",
    "\n",
    "from queue import Queue\n",
    "q = Queue(maxsize = 5)\n",
    "# qsize\n",
    "print(q.qsize())\n",
    "q.put('a')\n",
    "q.put('b')\n",
    "q.put('c')\n",
    "print(q.full())\n",
    "q.put('d')\n",
    "q.put('e')\n",
    "print(q.full())\n",
    "print(q.get())\n",
    "print(q.get())\n",
    "print(q.get())\n",
    "print(q.empty())\n",
    "q.get()\n",
    "q.get()\n",
    "print(q.empty())\n",
    "\n",
    "#*********************************\n",
    "class Queue(object):\n",
    "    def __init__(self):\n",
    "        self.items = []\n",
    "    def enqueue(self, item):\n",
    "        self.items.insert(0, item)\n",
    "    def dequeue(self):\n",
    "        if not self.is_empty():\n",
    "            return self.items.pop()\n",
    "    def is_empty(self):\n",
    "        return len(self.items) == 0\n",
    "    def peek(self):\n",
    "        if not self.is_empty():\n",
    "            return self.items[-1].data\n",
    "    def __len__(self):\n",
    "        return self.size()\n",
    "    def size(self):\n",
    "        return len(self.items)"
   ]
  },
  {
   "cell_type": "code",
   "execution_count": 1,
   "metadata": {},
   "outputs": [
    {
     "data": {
      "text/plain": [
       "'\\nsynopsis:\\n--> isempty()          returns the stack is empty                                         --> O(1)T\\n--> size()             returns the size of the stack                                      --> O(1)T\\n--> top()              returns the referrence to the top most element of the stack        --> O(1)T\\n--> push(element)      push the element to the top of the stack                           --> O(1)T\\n--> pop()              selete the top most element of the stack                           --> O(1)T\\n\\n'"
      ]
     },
     "execution_count": 1,
     "metadata": {},
     "output_type": "execute_result"
    }
   ],
   "source": [
    "#python stacks:\n",
    "\"\"\"\n",
    "synopsis:\n",
    "--> isempty() or len(stack)==0    returns the stack is empty                                         --> O(1)T\n",
    "--> size()                        returns the size of the stack                                      --> O(1)T\n",
    "--> top()or stack[-1]             returns the referrence to the top most element of the stack        --> O(1)T\n",
    "--> push(element)or append()      push the element to the top of the stack                           --> O(1)T\n",
    "--> pop()                         selete the top most element of the stack                           --> O(1)T\n",
    "\n",
    "when the stack is empty both s[-1] and s.pop() raise an IndexERRORException.\n",
    "\n",
    "\"\"\""
   ]
  },
  {
   "cell_type": "code",
   "execution_count": 10,
   "metadata": {},
   "outputs": [
    {
     "name": "stdout",
     "output_type": "stream",
     "text": [
      "[1, 2, 3]\n",
      "3\n",
      "False\n",
      "2\n",
      "2\n",
      "\n",
      "2\n",
      "1\n"
     ]
    }
   ],
   "source": [
    "# stack implementation with list\n",
    "class Stack:\n",
    "    def __init__(self):\n",
    "        self.items = []\n",
    "        \n",
    "    def push(self,item):\n",
    "        self.items.append(item)\n",
    "        \n",
    "    def pop(self):\n",
    "        if not self.is_empty():\n",
    "            return self.items.pop()\n",
    "        else:\n",
    "            return None\n",
    "    \n",
    "    def length(self):\n",
    "        return len(self.items)\n",
    "        \n",
    "    def get_stack(self):\n",
    "        return self.items\n",
    "    \n",
    "    def is_empty(self):\n",
    "        if self.length()>0:\n",
    "            return False\n",
    "        else:\n",
    "            return True\n",
    "    def peek(self):\n",
    "        if not self.is_empty():\n",
    "            return self.items[-1]\n",
    "        else:\n",
    "            return\n",
    "            \n",
    "    def print_stack(self):\n",
    "        for i in reversed(self.items):\n",
    "            print(i)\n",
    "    \n",
    "s = Stack()\n",
    "s.push(1)\n",
    "s.push(2)\n",
    "s.push(3)\n",
    "print(s.get_stack())\n",
    "print(s.pop())\n",
    "print(s.is_empty())\n",
    "print(s.length())\n",
    "print(s.peek())\n",
    "print()\n",
    "s.print_stack()\n"
   ]
  },
  {
   "cell_type": "code",
   "execution_count": 6,
   "metadata": {},
   "outputs": [
    {
     "name": "stdout",
     "output_type": "stream",
     "text": [
      "3\n"
     ]
    },
    {
     "ename": "IndexError",
     "evalue": "pop from an empty deque",
     "output_type": "error",
     "traceback": [
      "\u001b[1;31m---------------------------------------------------------------------------\u001b[0m",
      "\u001b[1;31mIndexError\u001b[0m                                Traceback (most recent call last)",
      "\u001b[1;32m<ipython-input-6-9f411c983606>\u001b[0m in \u001b[0;36m<module>\u001b[1;34m()\u001b[0m\n\u001b[0;32m      9\u001b[0m \u001b[0mstack\u001b[0m\u001b[1;33m.\u001b[0m\u001b[0mpop\u001b[0m\u001b[1;33m(\u001b[0m\u001b[1;33m)\u001b[0m\u001b[1;33m\u001b[0m\u001b[0m\n\u001b[0;32m     10\u001b[0m \u001b[0mstack\u001b[0m\u001b[1;33m.\u001b[0m\u001b[0mpop\u001b[0m\u001b[1;33m(\u001b[0m\u001b[1;33m)\u001b[0m\u001b[1;33m\u001b[0m\u001b[0m\n\u001b[1;32m---> 11\u001b[1;33m \u001b[0mstack\u001b[0m\u001b[1;33m.\u001b[0m\u001b[0mpop\u001b[0m\u001b[1;33m(\u001b[0m\u001b[1;33m)\u001b[0m\u001b[1;33m\u001b[0m\u001b[0m\n\u001b[0m",
      "\u001b[1;31mIndexError\u001b[0m: pop from an empty deque"
     ]
    }
   ],
   "source": [
    "# stack implementation with deque:\n",
    "\n",
    "from collections import deque\n",
    "stack = deque()\n",
    "stack.append(1)\n",
    "stack.append(2)\n",
    "stack.append(3)\n",
    "print(stack.pop())\n",
    "stack.pop()\n",
    "stack.pop()\n",
    "stack.pop() # this gives you an index error\n"
   ]
  },
  {
   "cell_type": "code",
   "execution_count": 10,
   "metadata": {},
   "outputs": [
    {
     "name": "stdout",
     "output_type": "stream",
     "text": [
      "[112, 101, 111, 201, 15, 12]\n",
      "[112, 101, 111, 201]\n"
     ]
    },
    {
     "data": {
      "text/plain": [
       "101"
      ]
     },
     "execution_count": 10,
     "metadata": {},
     "output_type": "execute_result"
    }
   ],
   "source": [
    "# stack design and implementation:\n",
    "\n",
    "# method 1 --> two stacks, one is for to store the actual elements and another is auxilary stack to store the minimum elements\n",
    "#              while for each push in the actual stack, we have to push into the auxilary stack as well\n",
    "\n",
    "# method 2 --> while for pushing the element in the actual array, if that element is less than top of auxilary stack, then only \n",
    "#              push will perform on auxilary stack.\n",
    "\n",
    "class Stack:\n",
    "    def __init__(self):\n",
    "        self.items = []\n",
    "        self.min_items = []\n",
    "    def push1(self, val):\n",
    "        self.items.append(val)\n",
    "        if not self.min_items:\n",
    "            self.min_items.append(val)\n",
    "        else:\n",
    "            if self.min_items[-1]<=val:\n",
    "                self.min_items.append(self.min_items[-1])\n",
    "            else:\n",
    "                self.min_items.append(val)\n",
    "    def push2(self, val):\n",
    "        self.items.append(val)\n",
    "        if not self.min_items:\n",
    "            self.min_items.append(val)\n",
    "        else:\n",
    "            if val<self.min_items[-1]:\n",
    "                self.min_items.append(val)\n",
    "                \n",
    "    def print_stack(self):\n",
    "        return self.items\n",
    "    def get_min(self):\n",
    "        return self.min_items[-1]\n",
    "    def pop(self):\n",
    "        # here pop is same for these two methods\n",
    "        x = self.items[-1]\n",
    "        self.items = self.items[:-1]\n",
    "        if x == self.min_items[-1]:\n",
    "            self.min_items = self.min_items[:-1]\n",
    "    def length(self):\n",
    "        return len(self.items)\n",
    "    def is_empty(self):\n",
    "        if self.length()>0:\n",
    "            return False\n",
    "        else:\n",
    "            return True\n",
    "        \n",
    "st = Stack()\n",
    "#st.push(65)\n",
    "st.push2(112)\n",
    "st.push2(101)\n",
    "st.push2(111)\n",
    "st.push2(201)\n",
    "st.push2(15)\n",
    "st.push2(12)\n",
    "#print(st.min_items())\n",
    "print(st.print_stack())\n",
    "st.pop()\n",
    "st.pop()\n",
    "print(st.print_stack())\n",
    "\n",
    "#st.pop()\n",
    "st.get_min()\n"
   ]
  },
  {
   "cell_type": "code",
   "execution_count": 45,
   "metadata": {},
   "outputs": [
    {
     "data": {
      "text/plain": [
       "5"
      ]
     },
     "execution_count": 45,
     "metadata": {},
     "output_type": "execute_result"
    }
   ],
   "source": [
    "# implementation of two stacks in an array\n",
    "\"\"\"\n",
    "push1 --> pushes x to the first stack \n",
    "push2 --> pushes x to the second stack\n",
    "pop1 --> popped out the element from first stack and return the element\n",
    "pop2 --> popped out the element from the second stack and return the element\n",
    "\"\"\"\n",
    "\n",
    "# method 1--> divide the space into two halves\n",
    "\"\"\" the main drawback of this method is overflow will occur even it has the space to push the elements--> inefficient space \n",
    "    utilization\"\"\"\n",
    "class twoStacks1:\n",
    "    def __init__(self,n):\n",
    "        self.size = n\n",
    "        self.arr = [None]*n\n",
    "        self.top1 = n//2 + 1\n",
    "        self.top2 = n//2\n",
    "    def push1(self,x):\n",
    "        print(self.top1)\n",
    "        if self.top1>0:\n",
    "            self.top1 -= 1\n",
    "            self.arr[self.top1] = x\n",
    "        else:\n",
    "            print(\"overflow\")\n",
    "            return \n",
    "    def push2(self,x):\n",
    "        if self.top2 < self.size-1:\n",
    "            self.top2+=1\n",
    "            self.arr[self.top2] = x\n",
    "        else:\n",
    "            print(\"overflow\")\n",
    "            return\n",
    "    def pop1(self):\n",
    "        if self.top1 <= self.size//2:\n",
    "            x = self.arr[self.top1]\n",
    "            self.top1 += 1\n",
    "            return x\n",
    "        else:\n",
    "            print(\"stack underflow\")\n",
    "            return\n",
    "    def pop2(self):\n",
    "        if self.top2 > self.size //2 +1:\n",
    "            x = self.arr[self.top2]\n",
    "            self.top2 -= 1\n",
    "            return x\n",
    "        else:\n",
    "            print(\"underflow\")\n",
    "            return\n",
    "    \n",
    "ts = twoStacks1(5)\n",
    "ts.push1(5)\n",
    "ts.push2(10)\n",
    "ts.push2(15)\n",
    "ts.push1(20)\n",
    "ts.push2(25) # -->stack overflow by element 25\n",
    "ts.pop1()    # --> popped element from the stack1 20\n",
    "\n",
    "ts.push2(40) # --> stack overflow by element 40\n",
    "ts.pop2()    # --> popped element from the stack2 15\n",
    "\n",
    "############################################################################################################################\n",
    "\"\"\"\n",
    "0, 1 are the exit codes\n",
    "exit(0) --> clean exit without any errors/ problems\n",
    "exit(1) --> there is some issue/error/problem so that's why the program is exiting\n",
    "\n",
    "push and pop --> O(1)T and O(n)S -> Auxilary space\n",
    "\"\"\"\n",
    "class twoStacks2:\n",
    "    def __init__(self, n):\n",
    "        self.size = n\n",
    "        self.arr = [None]*n\n",
    "        self.top1 = -1\n",
    "        self.top2 = self.size\n",
    "    def push1(self, x):\n",
    "        if self.top1<self.top2 - 1:\n",
    "            self.top1 += 1\n",
    "            self.arr[self.top1] = x\n",
    "            \n",
    "        else:\n",
    "            print(\"stack overflow\")\n",
    "            exit(1)\n",
    "    def push2(self, x):\n",
    "        if self.top1 < self.top2 - 1:\n",
    "            self.top2 -= 1\n",
    "            self.arr[self.top2] = x \n",
    "        else:\n",
    "            print(\"stack overflow\")\n",
    "            exit(1)\n",
    "    def pop1(self):\n",
    "        if self.top1 >= 0:\n",
    "            x = self.arr[self.top1]\n",
    "            self.top1 -= 1\n",
    "            return x\n",
    "        else:\n",
    "            print(\"stack underflow\")\n",
    "            exit(1)\n",
    "    def pop2(self):\n",
    "        if self.top2<=sef.size:\n",
    "            x = self.arr[self.top2]\n",
    "            self.top2 += 1\n",
    "            return x\n",
    "        else:\n",
    "            print(\"stack underflow\")\n",
    "            exit()\n",
    "            \n",
    "ts = twoStacks2(5)\n",
    "ts.push1(5)\n",
    "ts.push2(10)\n",
    "ts.push2(15)\n",
    "ts.push1(20)\n",
    "ts.push2(25)\n",
    "ts.pop1()\n",
    "ts.pop1()\n"
   ]
  },
  {
   "cell_type": "code",
   "execution_count": 1,
   "metadata": {},
   "outputs": [
    {
     "name": "stdout",
     "output_type": "stream",
     "text": [
      "3\n"
     ]
    },
    {
     "ename": "AttributeError",
     "evalue": "'Queue' object has no attribute 'size'",
     "output_type": "error",
     "traceback": [
      "\u001b[1;31m---------------------------------------------------------------------------\u001b[0m",
      "\u001b[1;31mAttributeError\u001b[0m                            Traceback (most recent call last)",
      "\u001b[1;32m<ipython-input-1-afe880df95ab>\u001b[0m in \u001b[0;36m<module>\u001b[1;34m()\u001b[0m\n\u001b[0;32m     95\u001b[0m \u001b[0ms\u001b[0m\u001b[1;33m.\u001b[0m\u001b[0mpush\u001b[0m\u001b[1;33m(\u001b[0m\u001b[1;36m98\u001b[0m\u001b[1;33m)\u001b[0m\u001b[1;33m\u001b[0m\u001b[0m\n\u001b[0;32m     96\u001b[0m \u001b[0mprint\u001b[0m\u001b[1;33m(\u001b[0m\u001b[0ms\u001b[0m\u001b[1;33m.\u001b[0m\u001b[0msize\u001b[0m\u001b[1;33m(\u001b[0m\u001b[1;33m)\u001b[0m\u001b[1;33m)\u001b[0m\u001b[1;33m\u001b[0m\u001b[0m\n\u001b[1;32m---> 97\u001b[1;33m \u001b[0ms\u001b[0m\u001b[1;33m.\u001b[0m\u001b[0mpop\u001b[0m\u001b[1;33m(\u001b[0m\u001b[1;33m)\u001b[0m\u001b[1;33m\u001b[0m\u001b[0m\n\u001b[0m\u001b[0;32m     98\u001b[0m \u001b[0ms\u001b[0m\u001b[1;33m.\u001b[0m\u001b[0mpop\u001b[0m\u001b[1;33m(\u001b[0m\u001b[1;33m)\u001b[0m\u001b[1;33m\u001b[0m\u001b[0m\n\u001b[0;32m     99\u001b[0m \u001b[0mprint\u001b[0m\u001b[1;33m(\u001b[0m\u001b[0ms\u001b[0m\u001b[1;33m.\u001b[0m\u001b[0msize\u001b[0m\u001b[1;33m(\u001b[0m\u001b[1;33m)\u001b[0m\u001b[1;33m)\u001b[0m\u001b[1;33m\u001b[0m\u001b[0m\n",
      "\u001b[1;32m<ipython-input-1-afe880df95ab>\u001b[0m in \u001b[0;36mpop\u001b[1;34m(self)\u001b[0m\n\u001b[0;32m     64\u001b[0m             \u001b[1;32mreturn\u001b[0m\u001b[1;33m\u001b[0m\u001b[0m\n\u001b[0;32m     65\u001b[0m \u001b[1;33m\u001b[0m\u001b[0m\n\u001b[1;32m---> 66\u001b[1;33m         \u001b[1;32mwhile\u001b[0m \u001b[0mself\u001b[0m\u001b[1;33m.\u001b[0m\u001b[0mq1\u001b[0m\u001b[1;33m.\u001b[0m\u001b[0msize\u001b[0m\u001b[1;33m(\u001b[0m\u001b[1;33m)\u001b[0m \u001b[1;33m!=\u001b[0m \u001b[1;36m1\u001b[0m\u001b[1;33m:\u001b[0m\u001b[1;33m\u001b[0m\u001b[0m\n\u001b[0m\u001b[0;32m     67\u001b[0m             \u001b[0mself\u001b[0m\u001b[1;33m.\u001b[0m\u001b[0mq2\u001b[0m\u001b[1;33m.\u001b[0m\u001b[0madd\u001b[0m\u001b[1;33m(\u001b[0m\u001b[0mself\u001b[0m\u001b[1;33m.\u001b[0m\u001b[0mq1\u001b[0m\u001b[1;33m.\u001b[0m\u001b[0mpeek\u001b[0m\u001b[1;33m(\u001b[0m\u001b[1;33m)\u001b[0m\u001b[1;33m)\u001b[0m\u001b[1;33m\u001b[0m\u001b[0m\n\u001b[0;32m     68\u001b[0m             \u001b[0mself\u001b[0m\u001b[1;33m.\u001b[0m\u001b[0mq1\u001b[0m\u001b[1;33m.\u001b[0m\u001b[0mpop\u001b[0m\u001b[1;33m(\u001b[0m\u001b[1;33m)\u001b[0m\u001b[1;33m\u001b[0m\u001b[0m\n",
      "\u001b[1;31mAttributeError\u001b[0m: 'Queue' object has no attribute 'size'"
     ]
    }
   ],
   "source": [
    "\"\"\"   # better to avoid\n",
    "Implementation of stacks using queues:\n",
    "Method 1 --> By Making push operations costly\n",
    "\n",
    "Method 2 --> By Making pop operations costly\n",
    "\n",
    "\"\"\"\n",
    "\"\"\"# method 1:\n",
    "from queue import Queue\n",
    "class Stack:\n",
    "    def __init__(self):\n",
    "        # two built in queues\n",
    "        self.q1 = Queue()\n",
    "        self.q2 = Queue()\n",
    "        self.current_size = 0    # to maintain the current number of elements\n",
    "    def push(self,x):\n",
    "        self.current_size += 1\n",
    "        self.q2.put(x)   # put the first element in empty q2\n",
    "        while not self.q1.empty():   # enqueue all the elements into q2 by  dequeuing one by one\n",
    "            self.q2.put(self.q1.queue[0])\n",
    "            self.q1.get()\n",
    "        # swap the names of q1 and q2\n",
    "        self.q = self.q1\n",
    "        self.q1 = self.q2\n",
    "        self.q2 = self.q     \n",
    "    def pop(self):\n",
    "        # if q1 is empty\n",
    "        if self.q1.empty():\n",
    "            return\n",
    "        else:\n",
    "            self.q1.get()\n",
    "            self.current_size -= 1\n",
    "    def top(self):\n",
    "        if self.q1.empty():\n",
    "            return -1\n",
    "        return self.q1.queue[0]\n",
    "    \n",
    "    def size(self):\n",
    "        return self.current_size\n",
    "        \n",
    "        \n",
    "s = Stack()\n",
    "s.push(10)\n",
    "s.push(25)\n",
    "print(s.top())\n",
    "print(s.size())\n",
    "s.pop()\n",
    "print(s.size())\"\"\"\n",
    "\n",
    "\n",
    "# method 2:\n",
    "\n",
    "from queue import Queue\n",
    "class Stack:\n",
    "    def __init__(self):\n",
    "        self.q1 = Queue()\n",
    "        self.q2 = Queue()\n",
    "        self.current_size = 0\n",
    "    def push(self,x):\n",
    "        self.q1.put(x)\n",
    "        self.current_size += 1\n",
    "    def pop(self):\n",
    "        if self.q1.empty():\n",
    "            return \n",
    "    \n",
    "        while self.q1.size() != 1:\n",
    "            self.q2.add(self.q1.peek())\n",
    "            self.q1.pop()\n",
    "        self.q1.remove()\n",
    "        current_size -= 1\n",
    "        \n",
    "        q = q1\n",
    "        q1 = q2\n",
    "        q2 = q\n",
    "    def size(self):\n",
    "        return self.current_size\n",
    "    def top(self):\n",
    "        if self.q1.empty():\n",
    "            return -1\n",
    "        while self.q1.size()!= 1:\n",
    "            self.q2.add(self.q1.peek())\n",
    "            self.q1.pop()\n",
    "        temp = self.q1.peek()\n",
    "        self.q1.pop()\n",
    "        self.q2.add(temp)\n",
    "        q = q1\n",
    "        q1 = q2\n",
    "        q2 = q\n",
    "        return temp\n",
    "            \n",
    "            \n",
    "s = Stack()\n",
    "s.push(10)\n",
    "s.push(15)\n",
    "s.push(98)\n",
    "print(s.size())\n",
    "s.pop()\n",
    "s.pop()\n",
    "print(s.size())"
   ]
  },
  {
   "cell_type": "code",
   "execution_count": 1,
   "metadata": {},
   "outputs": [
    {
     "name": "stdout",
     "output_type": "stream",
     "text": [
      "1 1 2 4 5 1 "
     ]
    }
   ],
   "source": [
    "def stockSpan(price,s):\n",
    "    n = len(price)\n",
    "    st = []\n",
    "    st.append(0)\n",
    "    s[0] = 1\n",
    "    for i in range(1,n):\n",
    "        while(len(st)>0 and price[st[-1]] <= price[i]):\n",
    "            st.pop()\n",
    "        if len(st)<=0:\n",
    "            s[i] = i+1\n",
    "        else:\n",
    "            s[i] = i - st[-1]\n",
    "        st.append(i)\n",
    "def printArray(arr, n): \n",
    "    for i in range(0, n): \n",
    "        print (arr[i], end =\" \") \n",
    "price = [10, 4, 5, 90, 120, 80] \n",
    "S = [0 for i in range(len(price)+1)] \n",
    "  \n",
    "# Fill the span values in array S[] \n",
    "stockSpan(price, S) \n",
    "  \n",
    "# Print the calculated span values \n",
    "printArray(S, len(price)) "
   ]
  },
  {
   "cell_type": "code",
   "execution_count": null,
   "metadata": {},
   "outputs": [],
   "source": []
  },
  {
   "cell_type": "code",
   "execution_count": 8,
   "metadata": {},
   "outputs": [
    {
     "name": "stdout",
     "output_type": "stream",
     "text": [
      "[1, 2, 3]\n",
      "3\n",
      "False\n",
      "2\n",
      "2\n"
     ]
    }
   ],
   "source": []
  },
  {
   "cell_type": "code",
   "execution_count": 13,
   "metadata": {},
   "outputs": [
    {
     "data": {
      "text/plain": [
       "'python program to check whether or not a string has balanced usage of paranthesis'"
      ]
     },
     "execution_count": 13,
     "metadata": {},
     "output_type": "execute_result"
    }
   ],
   "source": [
    "\"\"\"python program to check whether or not a string has balanced usage of paranthesis\"\"\"\n"
   ]
  },
  {
   "cell_type": "code",
   "execution_count": 26,
   "metadata": {},
   "outputs": [
    {
     "data": {
      "text/plain": [
       "-9"
      ]
     },
     "execution_count": 26,
     "metadata": {},
     "output_type": "execute_result"
    }
   ],
   "source": [
    "class Stack:\n",
    "    def __init__(self):\n",
    "        self.stack = []\n",
    "        self.min = []\n",
    "    def push(self,x):\n",
    "        self.stack.append(x)\n",
    "        if len(self.min) == 0 or x <= self.min[-1]:\n",
    "            self.min.append(x)\n",
    "        return self.stack\n",
    "    def getMin(self):\n",
    "        if len(self.stack) == 0:\n",
    "            return \"stack is empty\"        \n",
    "        else:\n",
    "            return self.min[-1]\n",
    "    def peek(self):\n",
    "        return self.stack[-1]\n",
    "    def pop(self):\n",
    "        del self.stack[-1]\n",
    "        \n",
    "Astack = Stack()\n",
    "\n",
    "Astack.push(-3)\n",
    "Astack.push(0)\n",
    "Astack.push(-9)\n",
    "Astack.getMin()\n",
    "\n",
    "        "
   ]
  },
  {
   "cell_type": "code",
   "execution_count": 1,
   "metadata": {},
   "outputs": [
    {
     "data": {
      "text/plain": [
       "'j'"
      ]
     },
     "execution_count": 1,
     "metadata": {},
     "output_type": "execute_result"
    }
   ],
   "source": [
    "# string and linked list reversal using a stack:\n",
    "\n",
    "\n"
   ]
  },
  {
   "cell_type": "code",
   "execution_count": 18,
   "metadata": {},
   "outputs": [
    {
     "data": {
      "text/plain": [
       "True"
      ]
     },
     "execution_count": 18,
     "metadata": {},
     "output_type": "execute_result"
    }
   ],
   "source": [
    "def paranthesis_balanced1(string):\n",
    "    open_p = list(\"({[\")\n",
    "    close_p = list(\")}]\")\n",
    "    stack = []\n",
    "    for i in string:\n",
    "        if i in open_p:\n",
    "            stack.append(i)\n",
    "        elif i in close_p:\n",
    "            pos = close_p.index(i)\n",
    "            if len(stack) > 0:\n",
    "                if stack[-1] == open_p[pos]:\n",
    "                    stack.pop() \n",
    "                else:\n",
    "                    return False\n",
    "            else:\n",
    "                return False   \n",
    "    return len(stack) == 0   \n",
    "def paranthesis_balanced2(string):\n",
    "    stack = []\n",
    "    dict1 = {'}':'{', ')':'(', ']':'['}\n",
    "    for i in string:\n",
    "        if i in ['(','{','[']:\n",
    "            stack.append(i)\n",
    "        elif stack:\n",
    "            if i == ')':\n",
    "                if dict1[i] == stack[-1]:\n",
    "                    stack.pop()\n",
    "                else:\n",
    "                    return False\n",
    "            elif i == '}':\n",
    "                if dict1[i] == stack[-1]:\n",
    "                    stack.pop()\n",
    "                else:\n",
    "                    return False\n",
    "            else:\n",
    "                if dict1[i] == stack[-1]:\n",
    "                    stack.pop()\n",
    "                else:\n",
    "                    return False\n",
    "        elif not stack:\n",
    "            return False\n",
    "    \n",
    "    return len(stack) == 0\n",
    "                \n",
    "ip = \"{{{([])}}}\"\n",
    "paranthesis_balanced2(ip)"
   ]
  },
  {
   "cell_type": "code",
   "execution_count": 1,
   "metadata": {},
   "outputs": [
    {
     "data": {
      "text/plain": [
       "'ca'"
      ]
     },
     "execution_count": 1,
     "metadata": {},
     "output_type": "execute_result"
    }
   ],
   "source": [
    "# leetcode 1047\n",
    "def removeDuplicates1(S):\n",
    "    stack = [S[0]]\n",
    "    for i in S[1:]:\n",
    "        if len(stack) == 0:\n",
    "            stack.append(i)\n",
    "        else:\n",
    "            if stack[-1] == i:\n",
    "                stack.pop()\n",
    "            else:\n",
    "                stack.append(i)\n",
    "    res = \"\"\n",
    "    for i in stack:\n",
    "        res+=i\n",
    "    return res\n",
    "\n",
    "def removeDuplicates2(S):\n",
    "    i = 0\n",
    "    n = len(S)\n",
    "    while i<n-1:\n",
    "        if S[i] == S[i+1]:\n",
    "            S = S.replace(S[i:i+2], \"\")\n",
    "            i = 0\n",
    "            n = len(S)\n",
    "        else:\n",
    "            i = i+1\n",
    "    return S\n",
    "            \n",
    "        \n",
    "s = \"abbaca\"\n",
    "removeDuplicates2(s)"
   ]
  },
  {
   "cell_type": "code",
   "execution_count": 17,
   "metadata": {},
   "outputs": [
    {
     "data": {
      "text/plain": [
       "''"
      ]
     },
     "execution_count": 17,
     "metadata": {},
     "output_type": "execute_result"
    }
   ],
   "source": [
    "#leetcode 1249:\n",
    "# for this problem in first iteration we are deleting the excess no.of closed paranthesis\n",
    "# in second iteration in reverse order we need to delete the excess no.of open paranthesis. we need to balnace( open_p = 0)\n",
    "def function(s):\n",
    "    open_p = 0\n",
    "    res1 = \"\"\n",
    "    for i in range(len(s)):\n",
    "        if s[i] == '(':\n",
    "            open_p += 1 \n",
    "        elif s[i] == ')':\n",
    "            if open_p :\n",
    "                open_p -= 1\n",
    "            else:\n",
    "                continue\n",
    "        res1+=s[i]\n",
    "    res = \"\"\n",
    "    for i in res1[::-1]:\n",
    "        if  i == '(' and open_p > 0:\n",
    "            open_p -= 1\n",
    "            continue\n",
    "        else:\n",
    "            res+=i\n",
    "    return res[::-1]\n",
    "        \n",
    "s = \"))((\"\n",
    "function(s)"
   ]
  },
  {
   "cell_type": "code",
   "execution_count": 18,
   "metadata": {},
   "outputs": [
    {
     "data": {
      "text/plain": [
       "True"
      ]
     },
     "execution_count": 18,
     "metadata": {},
     "output_type": "execute_result"
    }
   ],
   "source": [
    "def Balanced_paranthesis(s):\n",
    "    open_count = 0\n",
    "    for i in s:\n",
    "        if i == '(':\n",
    "            open_count += 1\n",
    "        else:\n",
    "            if open_count > 0:\n",
    "                open_count -= 1\n",
    "            else:\n",
    "                return False\n",
    "    return open_count == 0\n",
    "s = \"()()\"\n",
    "\n",
    "Balanced_paranthesis(s)"
   ]
  },
  {
   "cell_type": "code",
   "execution_count": 13,
   "metadata": {},
   "outputs": [
    {
     "data": {
      "text/plain": [
       "'abcd^e-fgh*+^*+i-'"
      ]
     },
     "execution_count": 13,
     "metadata": {},
     "output_type": "execute_result"
    }
   ],
   "source": [
    "# infix to postfix conversion: PEMDAS\n",
    "\"\"\" postfix and prefix are paranthesis free\"\"\"\n",
    "def infix_to_postfix(exp):\n",
    "    stack = []\n",
    "    res = \"\"\n",
    "    dict1 = {'+':2, '-':1, '/':3, '*':4, '^':5, '(':0, ')':0} # operator_precedence\n",
    "    for i in range(len(exp)):\n",
    "        if exp[i].isalpha():\n",
    "            res+=exp[i]\n",
    "        elif exp[i] == '(':\n",
    "            stack.append(exp[i])\n",
    "        elif exp[i] == ')' :\n",
    "            while (stack and stack[-1] !='('):\n",
    "                res += stack.pop()\n",
    "            if stack:\n",
    "                stack.pop()\n",
    "        else:\n",
    "            while (stack and dict1[exp[i]] < dict1[stack[-1]]):\n",
    "                res+=stack.pop() \n",
    "            stack.append(exp[i])\n",
    "    while stack:\n",
    "        res+=stack.pop()\n",
    "    return res\n",
    "\n",
    "expression = \"a+b*(c^d-e)^(f+g*h)-i\"\n",
    "infix_to_postfix(expression)\n",
    "                \n",
    "    "
   ]
  },
  {
   "cell_type": "code",
   "execution_count": 20,
   "metadata": {},
   "outputs": [
    {
     "data": {
      "text/plain": [
       "'AB+CD-*'"
      ]
     },
     "execution_count": 20,
     "metadata": {},
     "output_type": "execute_result"
    }
   ],
   "source": [
    "# prefix to infix conversion:\n",
    "\"\"\"\n",
    "--> read the prefix operation from right  to left\n",
    "--> if the symbol is an opearand push it to the stack\n",
    "--> if the symbol is an operator pop two operands from the stack --> x = operand1+operator+operand2\n",
    "--> push x to the stack\n",
    "\"\"\"\n",
    "\n",
    "def prefix_to_infix(exp):\n",
    "    stack = []\n",
    "    for i in exp[::-1]:\n",
    "        if i.isalpha():\n",
    "            stack.append(i)\n",
    "        else:\n",
    "            op1 = stack[-1]\n",
    "            stack.pop()\n",
    "            op2 = stack[-1]\n",
    "            stack.pop()\n",
    "            x = '('+op1+i+op2+')'\n",
    "            stack.append(x)\n",
    "    return stack[-1]\n",
    "\n",
    "# prefix to postfix:\n",
    "\"\"\"\n",
    "--> same as above\n",
    "\"\"\"\n",
    "def prefix_to_postfix(exp):\n",
    "    stack = []\n",
    "    for i in exp[::-1]:\n",
    "        if i.isalpha():\n",
    "            stack.append(i)\n",
    "        else:\n",
    "            op1 = stack[-1]\n",
    "            stack.pop()\n",
    "            op2 = stack[-1]\n",
    "            stack.pop()\n",
    "            stack.append(op1+op2+i)\n",
    "    return stack[-1]\n",
    "            \n",
    "\n",
    "def infix_to_prefix(exp):\n",
    "    pass\n",
    "exp = \"*-A/BC-/AKL\"\n",
    "prefix_to_infix(exp)\n",
    "exp1 = \"*+AB-CD\"\n",
    "prefix_to_postfix(exp1)"
   ]
  },
  {
   "cell_type": "code",
   "execution_count": 26,
   "metadata": {},
   "outputs": [
    {
     "data": {
      "text/plain": [
       "'((A+B)*(C-D))'"
      ]
     },
     "execution_count": 26,
     "metadata": {},
     "output_type": "execute_result"
    }
   ],
   "source": [
    "# postfix to prefix:\n",
    "\"\"\"\n",
    "--> read the postfix expression from left to right\n",
    "--> if it is operand push to the stack \n",
    "--> if it is the operator, x = operator+operand1+operand2\n",
    "--> push x to the stack\n",
    "\"\"\"\n",
    "def postfix_to_prefix(exp):\n",
    "    stack = []\n",
    "    for i in exp:\n",
    "        if i.isalpha():\n",
    "            stack.append(i)\n",
    "        else:\n",
    "            op1 = stack.pop()\n",
    "            op2 = stack.pop()\n",
    "            stack.append(i+op2+op1)\n",
    "    return stack[-1]\n",
    "\n",
    "def postfix_to_infix(exp):\n",
    "    stack = []\n",
    "    for i in exp:\n",
    "        if i.isalpha():\n",
    "            stack.append(i)\n",
    "        else:\n",
    "            op2 = stack.pop()\n",
    "            op1 = stack.pop()\n",
    "            x = '('+op1+i+op2+')'\n",
    "            stack.append(x)\n",
    "    return stack[-1]\n",
    "\n",
    "exp = \"AB+CD-*\"\n",
    "postfix_to_infix(exp)"
   ]
  },
  {
   "cell_type": "code",
   "execution_count": 10,
   "metadata": {},
   "outputs": [
    {
     "data": {
      "text/plain": [
       "[1, 1, 1, 2, 1, 5, 6]"
      ]
     },
     "execution_count": 10,
     "metadata": {},
     "output_type": "execute_result"
    }
   ],
   "source": [
    "# stockspan problem:\n",
    "def stock_span_problem1(arr): # O(n^2)T and O(n)S\n",
    "    res = [1]*len(arr)\n",
    "    for i in range(1, len(arr)):\n",
    "        j = i-1\n",
    "        while j>=0 and arr[i]>=arr[j]:\n",
    "            res[i]+=1\n",
    "            j -= 1\n",
    "    return res\n",
    "def stock_span_problem2(price): # use the stack --> O(n)T and O(n)S\n",
    "    stack = [0]\n",
    "    res = [0]*len(price)\n",
    "    res[0] = 1\n",
    "    for i in range(1, len(arr)):\n",
    "        while (stack and price[i]>=price[stack[-1]]):\n",
    "            stack.pop()\n",
    "        if not stack:\n",
    "            res[i] = i+1\n",
    "        else:\n",
    "            res[i] = i-stack[-1]\n",
    "        stack.append(i)\n",
    "    return res\n",
    "def stock_span_problem(price):\n",
    "    res = [0]*len(price)\n",
    "    res[0] = 1\n",
    "    counter = 1\n",
    "    for i in range(1,len(arr)):\n",
    "        while ((i-counter >=0) and price[i]>=price[i-counter]):\n",
    "            counter+=res[i-counter]\n",
    "        res[i] = counter\n",
    "    return res\n",
    "    \n",
    "arr = [100,80,60,70,60,80,85]        \n",
    "stock_span_problem2(arr)"
   ]
  },
  {
   "cell_type": "code",
   "execution_count": 46,
   "metadata": {},
   "outputs": [
    {
     "data": {
      "text/plain": [
       "[5, 6, 89, -1, 45, 45, -1]"
      ]
     },
     "execution_count": 46,
     "metadata": {},
     "output_type": "execute_result"
    }
   ],
   "source": [
    "# next grater element:\n",
    "def next_grater_element1(arr):  # O(n^2)T\n",
    "    for i in range(0,len(arr),1):\n",
    "        nxt = -1\n",
    "        for j in range(i+1, len(arr),1):\n",
    "            if arr[j] >arr[i]:\n",
    "                nxt = arr[j]\n",
    "                arr[i] = nxt\n",
    "                break\n",
    "        arr[i] = nxt\n",
    "    return arr\n",
    "def next_grater_element2(arr):\n",
    "    res = [0]*len(arr)\n",
    "    stack = []\n",
    "    for i in range(len(arr)):\n",
    "        while stack and arr[stack[-1]]<arr[i]:\n",
    "            res[stack.pop()] = arr[i]\n",
    "        stack.append(i)\n",
    "    return res\n",
    "\n",
    "\n",
    "def next_grater_element3(arr):\n",
    "    res = [0]*len(arr)\n",
    "    for i in range(len(arr)):\n",
    "        arr2 = arr[i+1:]\n",
    "        for j in arr2:\n",
    "            if j>arr[i]:\n",
    "                res[i] = j\n",
    "                break\n",
    "    return res\n",
    "def next_grater_element_circular_arr(arr):\n",
    "    res = [0]*len(arr)\n",
    "    for i in range(len(arr)):\n",
    "        arr2 = arr[i+1:]+arr[0:i]\n",
    "        for j in arr2:\n",
    "            if j>arr[i]:\n",
    "                res[i] = j\n",
    "                break\n",
    "    return res\n",
    "\n",
    "# No of NGE's to the right:\n",
    "def function(arr, idx1, idx2):\n",
    "    pass\n",
    "def next_grater_element(arr):\n",
    "    pass\n",
    "arr = [2,5,6,89,15,11,45]\n",
    "arrr = [1,2,1]\n",
    "next_grater_element1(arr)\n",
    "#next_grater_element_circular_arr(arr)         "
   ]
  },
  {
   "cell_type": "code",
   "execution_count": 23,
   "metadata": {},
   "outputs": [
    {
     "name": "stdout",
     "output_type": "stream",
     "text": [
      "[0, 0, 0, 0, 3, 0, 0, 0, 0, 0]\n",
      "[0, 0, 0, 0, 5, 0, 0, 0, 0, 0]\n"
     ]
    },
    {
     "data": {
      "text/plain": [
       "15"
      ]
     },
     "execution_count": 23,
     "metadata": {},
     "output_type": "execute_result"
    }
   ],
   "source": [
    "# maximum product of indexes of next grater on left and right\n",
    "def max_product_index(arr):\n",
    "    left = nextGraterLeft(arr)\n",
    "    print(left)\n",
    "    right = nextGraterRight(arr)\n",
    "    print(right)\n",
    "    ans = -1\n",
    "    for i in range(1,len(left)-1):\n",
    "        if left[i] == 0 and right[i] == 0:\n",
    "            ans = max(ans, 0)\n",
    "        else:\n",
    "            temp = (left[i])*(right[i])\n",
    "            ans = max(ans, temp)\n",
    "    return ans\n",
    "def nextGraterLeft(arr):\n",
    "    left_idx = [0]*len(arr)\n",
    "    stack = []\n",
    "    for i in range(len(arr)):\n",
    "        while stack and arr[i]>=arr[stack[-1]]:\n",
    "            stack.pop()\n",
    "        if stack:\n",
    "            left_idx[i] = stack[-1]\n",
    "        else:\n",
    "            left_idx[i] = 0\n",
    "            \n",
    "        stack.append(i)\n",
    "    return left_idx\n",
    "\n",
    "def nextGraterRight(arr):\n",
    "    right_idx = [0]*len(arr)\n",
    "    stack = []\n",
    "    for i in range(len(arr)-1, -1, -1):\n",
    "        while stack and arr[i]>=arr[stack[-1]]:\n",
    "            stack.pop()\n",
    "        if stack:\n",
    "            right_idx[i] = stack[-1]\n",
    "        else:\n",
    "            right_idx[i] = 0\n",
    "        stack.append(i)\n",
    "        \n",
    "    return right_idx\n",
    "            \n",
    "arr1 = [1,1,1,1,0,1,1,1,1,1] \n",
    "arr2 = [3,10,5,2,15,7,9]\n",
    "max_product_index(arr1)"
   ]
  },
  {
   "cell_type": "code",
   "execution_count": 45,
   "metadata": {},
   "outputs": [
    {
     "data": {
      "text/plain": [
       "2"
      ]
     },
     "execution_count": 45,
     "metadata": {},
     "output_type": "execute_result"
    }
   ],
   "source": [
    "# the celebrity problem:\n",
    "\"\"\"\n",
    "--> if x knows y means then x must not a celebrity\n",
    "--> if x doesn't know y, then Y must not a celebrity\n",
    "\"\"\"\n",
    "def knows(a,b):\n",
    "    return matrix[a][b]\n",
    "def find_celebrity(matrix):\n",
    "    candidate = 0\n",
    "    for i in range(1, len(matrix)):# this for loop take you the point where particular person is potentially celebrity\n",
    "        if (knows(candidate, i)):\n",
    "            candidate = i\n",
    "   # print(candidate)\n",
    "            \n",
    "    # to check everybody should know celebrity and celebrity don't know anyone\n",
    "    for i in range(len(matrix)):\n",
    "        if i!=candidate:\n",
    "            if (knows(candidate, i)):\n",
    "                return -1\n",
    "            if not (knows(i, candidate)):\n",
    "                return -1\n",
    "    return candidate\n",
    "\n",
    "matrix = [[0,0,1,0],\n",
    "          [0,0,1,0],\n",
    "          [0,0,0,0],\n",
    "          [0,0,1,0]]\n",
    "find_celebrity(matrix)\n"
   ]
  },
  {
   "cell_type": "code",
   "execution_count": 23,
   "metadata": {},
   "outputs": [
    {
     "data": {
      "text/plain": [
       "'iloveu'"
      ]
     },
     "execution_count": 23,
     "metadata": {},
     "output_type": "execute_result"
    }
   ],
   "source": [
    "# leetcode: 1190\n",
    "def function1(s):\n",
    "    stack = []\n",
    "    current = \"\"\n",
    "    for i in s:\n",
    "        if i =='(':\n",
    "            stack.append(current)\n",
    "            current = \"\"\n",
    "        elif i == ')':\n",
    "            current = current[::-1]\n",
    "            current = stack.pop()+current\n",
    "        else:\n",
    "            current += i\n",
    "    return current\n",
    "\n",
    "def function2(s):\n",
    "    stack = []\n",
    "    current = \"\"\n",
    "    for i in s:\n",
    "        stack.append(i)\n",
    "        if i == ')':\n",
    "            stack.pop()\n",
    "            while stack[-1] != '(':\n",
    "                current += stack.pop()\n",
    "            stack.pop()\n",
    "            for c in current:  # stack.extend(c) --> a = [1,2], b = [3,4] --> append-[1,2,[3,4]], extend-[1,2,3,4]\n",
    "                stack.append(c)\n",
    "            current = \"\"\n",
    "            \n",
    "    return \"\".join(stack)\n",
    "                \n",
    "            \n",
    "                \n",
    "s = \"(u(love)i)\"\n",
    "function2(s)"
   ]
  },
  {
   "cell_type": "code",
   "execution_count": 50,
   "metadata": {},
   "outputs": [
    {
     "data": {
      "text/plain": [
       "'ybth'"
      ]
     },
     "execution_count": 50,
     "metadata": {},
     "output_type": "execute_result"
    }
   ],
   "source": [
    "# leetcode 1209:\n",
    "def function(s, k):\n",
    "    stack = []\n",
    "    for i in s:\n",
    "        stack.append(i)\n",
    "        if len(stack)>=k:\n",
    "            if len(set(stack[-k:])) == 1:\n",
    "                stack=stack[0:len(stack)-k]\n",
    "    return \"\".join(stack)\n",
    "s = \"yfttttfbbbbnnnnffbgffffgbbbbgssssgthyyyy\"\n",
    "k = 4\n",
    "function(s,k)\n",
    "                "
   ]
  },
  {
   "cell_type": "code",
   "execution_count": 86,
   "metadata": {},
   "outputs": [
    {
     "name": "stdout",
     "output_type": "stream",
     "text": [
      "[4]\n"
     ]
    },
    {
     "data": {
      "text/plain": [
       "[8, 77, 5, 77, -1, 77]"
      ]
     },
     "execution_count": 86,
     "metadata": {},
     "output_type": "execute_result"
    }
   ],
   "source": [
    "# leetcode 503:\n",
    "def function(arr):\n",
    "    n = len(arr)\n",
    "    stack = []\n",
    "    res = [-1]*n\n",
    "    arr = arr+arr\n",
    "    for i in range(2*n):\n",
    "        while stack and arr[stack[-1]] < arr[i]:\n",
    "            res[stack.pop()] = arr[i]\n",
    "        if i<n:\n",
    "            stack.append(i)\n",
    "    print(stack)\n",
    "    return res\n",
    "      \n",
    "arr = [1,8,4,5,77,14]\n",
    "function(arr)"
   ]
  },
  {
   "cell_type": "code",
   "execution_count": 90,
   "metadata": {},
   "outputs": [
    {
     "name": "stdout",
     "output_type": "stream",
     "text": [
      "jackjackjackjackjack\n"
     ]
    }
   ],
   "source": [
    "#leetcode 735:\n",
    "temp = 5\n",
    "string = \"jack\"\n",
    "print(temp*string)"
   ]
  },
  {
   "cell_type": "code",
   "execution_count": 17,
   "metadata": {},
   "outputs": [
    {
     "data": {
      "text/plain": [
       "'accaccacc'"
      ]
     },
     "execution_count": 17,
     "metadata": {},
     "output_type": "execute_result"
    }
   ],
   "source": [
    "# leetcode 394\n",
    "def decodeString(s):\n",
    "    num_stack = []\n",
    "    str_stack = []\n",
    "    res = \"\"\n",
    "    idx = 0\n",
    "    while idx<len(s):\n",
    "        if s[idx].isdigit():\n",
    "            count = 0\n",
    "            while s[idx].isdigit():\n",
    "                count=10*count+int(s[idx])\n",
    "                idx+=1\n",
    "            num_stack.append(count)\n",
    "        elif s[idx] == '[':\n",
    "            str_stack.append(res)\n",
    "            res = \"\"\n",
    "            idx += 1\n",
    "        elif s[idx] == ']':\n",
    "            t = num_stack.pop()\n",
    "            res = str_stack.pop()+int(t)*res\n",
    "            idx+=1\n",
    "        else:\n",
    "            res+=s[idx]\n",
    "            idx+=1\n",
    "    return res\n",
    "        \n",
    "        \n",
    "s=  \"3[a2[c]]\"\n",
    "decodeString(s)     \n",
    "        \n",
    "        "
   ]
  },
  {
   "cell_type": "code",
   "execution_count": 47,
   "metadata": {},
   "outputs": [
    {
     "name": "stdout",
     "output_type": "stream",
     "text": [
      "[1, 2, 1, 2]\n",
      "[1, 3, 1, 1]\n"
     ]
    },
    {
     "data": {
      "text/plain": [
       "593"
      ]
     },
     "execution_count": 47,
     "metadata": {},
     "output_type": "execute_result"
    }
   ],
   "source": [
    "#leetcode 907 --> sum of subarray minimum: Time complexity --> O(n) and Space complexity --> O(n)\n",
    "\n",
    "def sum_of_minimum_subarray(arr):\n",
    "    n = len(arr)\n",
    "    left = [0]*n\n",
    "    right = [0]*n\n",
    "    s1, s2 = [], []\n",
    "    mod = 10**9 + 7\n",
    "    \n",
    "    # getting the no of elements larger than left side of the element:\n",
    "    for i in range(n):\n",
    "        cnt = 1\n",
    "        while s1 and s1[-1][0]>arr[i]: cnt += s1.pop()[1]\n",
    "        left[i] = cnt\n",
    "        s1.append([arr[i], cnt])\n",
    "        \n",
    "    # gettting the no.of elements larger than arr[i] on right side\n",
    "    for i in range(n)[::-1]:\n",
    "        cnt = 1\n",
    "        while s2 and s2[-1][0]>=arr[i]: cnt += s2.pop()[1]\n",
    "        right[i] = cnt\n",
    "        s2.append([arr[i], cnt])\n",
    "        \n",
    "    print(left)\n",
    "    print(right)\n",
    "    return sum(a * l * r for a, l, r in zip(arr, left, right)) % mod\n",
    "        \n",
    "        \n",
    "        \n",
    "arr = [71,55,82,55]\n",
    "\n",
    "sum_of_minimum_subarray(arr)"
   ]
  },
  {
   "cell_type": "code",
   "execution_count": 34,
   "metadata": {},
   "outputs": [
    {
     "data": {
      "text/plain": [
       "593"
      ]
     },
     "execution_count": 34,
     "metadata": {},
     "output_type": "execute_result"
    }
   ],
   "source": [
    "def sumSubarrayMins(A):\n",
    "    res = 0\n",
    "    s = []\n",
    "    A = [0] + A + [0]\n",
    "    for i, x in enumerate(A):\n",
    "        while s and A[s[-1]] > x:\n",
    "            j = s.pop()\n",
    "            k = s[-1]\n",
    "            res += A[j] * (i - j) * (j - k)\n",
    "        s.append(i)\n",
    "    return res % (10**9 + 7)\n",
    "a = [71,55,82,55]\n",
    "sumSubarrayMins(a)\n",
    "\n"
   ]
  },
  {
   "cell_type": "code",
   "execution_count": 8,
   "metadata": {},
   "outputs": [
    {
     "data": {
      "text/plain": [
       "False"
      ]
     },
     "execution_count": 8,
     "metadata": {},
     "output_type": "execute_result"
    }
   ],
   "source": [
    "# hackerearth.com questions\n",
    "# balanced brackets\n",
    "def function1(exp):\n",
    "    stack = []\n",
    "    open_b = ['(','[','{']\n",
    "    dict1 = {'}':'{',']':'[',')':'('}\n",
    "    for i in exp:\n",
    "        if i in open_b:\n",
    "            stack.append(i)\n",
    "        else:\n",
    "            if stack and dict1[i] == stack[-1]:\n",
    "                stack.pop()\n",
    "            else:\n",
    "                return \"NO\"\n",
    "    return \"YES\" if len(stack) == 0 else \"No\"\n",
    "\n",
    "def function2(exp):\n",
    "    stack = []\n",
    "    open_b, close_b = ['(','[','{'], [')',']','}']\n",
    "    for i in exp:\n",
    "        if i in open_b:\n",
    "            stack.append(i)\n",
    "        else:\n",
    "            pos = close_b.index(i)\n",
    "            if stack and stack[-1] == open_b[pos]:\n",
    "                stack.pop()\n",
    "            else:\n",
    "                return False\n",
    "    return len(stack) == 0\n",
    "\n",
    "s = \"{[(])}\"\n",
    "s2 = \"}{{[[(())]}}\"\n",
    "      \n",
    "function2(s2)"
   ]
  },
  {
   "cell_type": "code",
   "execution_count": 27,
   "metadata": {},
   "outputs": [
    {
     "name": "stdout",
     "output_type": "stream",
     "text": [
      "[2, 2, 0]\n",
      "2 2 0\n"
     ]
    }
   ],
   "source": [
    "#Fun Game <Capillary>\n",
    "def fungame(arr):\n",
    "    astack = []\n",
    "    bstack = []\n",
    "    res = []\n",
    "    for i in arr[::-1]:\n",
    "        astack.append(i)\n",
    "    for i in arr:\n",
    "        bstack.append(i)\n",
    "    while len(astack) != 0 and len(bstack) != 0:\n",
    "        if astack[-1] > bstack[-1]:\n",
    "            res.append(1)\n",
    "            bstack.pop()\n",
    "        elif astack[-1]<bstack[-1]:\n",
    "            res.append(2)\n",
    "            astack.pop()\n",
    "        else:\n",
    "            res.append(0)\n",
    "            astack.pop()\n",
    "            bstack.pop()\n",
    "            \n",
    "    return res\n",
    "arr = [1,2,3]\n",
    "out_ = fungame(arr)\n",
    "print(\" \".join(map(str, out_))) \n",
    "\n",
    "\n",
    "            \n",
    "        "
   ]
  },
  {
   "cell_type": "code",
   "execution_count": 28,
   "metadata": {},
   "outputs": [],
   "source": [
    "#Little Shino and Pairs:\n",
    "\"\"\" sort and return (arr[1], arr[0]), (arr[2], arr[1]) .... \n",
    "    return len(set(arr))-1\n",
    "\"\"\"\n",
    "\n",
    "\n"
   ]
  },
  {
   "cell_type": "code",
   "execution_count": 30,
   "metadata": {},
   "outputs": [
    {
     "data": {
      "text/plain": [
       "13"
      ]
     },
     "execution_count": 30,
     "metadata": {},
     "output_type": "execute_result"
    }
   ],
   "source": [
    "\"\"\" You are given a stack of N integers such that the first element represents \n",
    "    the top of the stack and the last element represents the bottom of the stack. \n",
    "    You need to pop at least one element from the stack. At any one moment, you can convert stack into a queue. \n",
    "    The bottom of the stack represents the front of the queue. You cannot convert the queue back into a stack. \n",
    "    Your task is to remove exactly K elements such that the sum of the K removed elements is maximised.\"\"\"\n",
    "# total sum = (k element sum) max + (n-k element sum)min\n",
    "def function(arr, k):\n",
    "    n = len(arr)\n",
    "    r = n-k\n",
    "    i, j = 1, r+1\n",
    "    s = sum(arr)\n",
    "    t = sum(arr[i:j])\n",
    "    m = t\n",
    "    while j<len(arr):\n",
    "        t-=arr[i]\n",
    "        t+=arr[j]\n",
    "        i+=1\n",
    "        j+=1\n",
    "        m = min(m, t)\n",
    "    return s-m\n",
    "\n",
    "arr = [1,5,4,6,7,15,11,10,2]\n",
    "k = 3\n",
    "function(arr,k)\n",
    "    "
   ]
  },
  {
   "cell_type": "code",
   "execution_count": 8,
   "metadata": {},
   "outputs": [
    {
     "name": "stdout",
     "output_type": "stream",
     "text": [
      "[-2, 0, 6, 1, 3]\n"
     ]
    }
   ],
   "source": [
    "#Monk and Prisoner of Azkaban: ********************************************\n",
    "\n",
    "def process_left(A):\n",
    "    stack = []\n",
    "    left = []\n",
    "    idx = 0\n",
    "    while idx < len(A):\n",
    "        if len(stack) == 0:\n",
    "            left.append(-1)\n",
    "        else:\n",
    "            while stack:\n",
    "                if A[stack[-1]] > A[idx]:\n",
    "                    left.append(stack[-1] + 1)\n",
    "                    break\n",
    "                stack.pop()\n",
    "            else:\n",
    "                left.append(-1)\n",
    "        stack.append(idx)\n",
    "        idx += 1\n",
    "    return left\n",
    "def process_right(arr):\n",
    "    stack = []\n",
    "    right = []\n",
    "    idx = len(arr)-1\n",
    "    while idx>=0:\n",
    "        if len(stack) == 0:\n",
    "            right.append(-1)\n",
    "        else:\n",
    "            while stack:\n",
    "                if arr[stack[-1]] > arr[idx]:\n",
    "                    right.append(stack[-1]+1)\n",
    "                    break\n",
    "                stack.pop()\n",
    "            else:\n",
    "                right.append(-1)\n",
    "        stack.append(idx)\n",
    "        idx-=1\n",
    "    return right\n",
    "\n",
    "arr = [5,4,1,3,2]\n",
    "result = []\n",
    "right = process_right(arr)\n",
    "left = process_left(arr)\n",
    "for i, j in zip(right, left):\n",
    "    result.append(i+j)\n",
    "print(result)\n",
    "    "
   ]
  },
  {
   "cell_type": "code",
   "execution_count": 27,
   "metadata": {},
   "outputs": [
    {
     "name": "stdout",
     "output_type": "stream",
     "text": [
      "19\n",
      "791 58 805 879 268 54 159 833 330 819 45 348 236 210 26 204 546 771 730\n"
     ]
    }
   ],
   "source": [
    "\"\"\"\n",
    "You are given an array A of n integers. You have to make a queue and stack of the given integers. \n",
    "Queue should contain only prime numbers and stack should contain only composite numbers. \n",
    "All numbers in the array will be > 1.The rule to form the stack and queue is that you should be able to generate\n",
    " the array using the pop and dequeue operations.\"\"\"\n",
    "\n",
    "#Array Formation <Liv.ai>\n",
    "# idea: iterate through the array if arr[i] is prime Number       --> queue.append(arr[i])\n",
    "#                                 if arr[i] is not prime Number   --> satck.append(arr[i]) --> reverse the stack\n",
    "\n",
    "def queue_and_stack(arr):\n",
    "    queue = []\n",
    "    stack = []\n",
    "    for i in arr:\n",
    "        if is_prime(i):\n",
    "            queue.append(str(i))\n",
    "        else:\n",
    "            stack.append(i)\n",
    "    print(' '.join(queue))\n",
    "    print(' '.join(map(str,stack[::-1])))           \n",
    "def is_prime(num):\n",
    "    for i in range(2, num):\n",
    "        if num % i  == 0:\n",
    "            return False\n",
    "    return True\n",
    "arr = [730, 771, 546, 204, 26, 210, 236, 348, 45, 819, 330, 833, 159, 54, 268, 879, 805, 19, 58, 791]\n",
    "queue_and_stack(arr)"
   ]
  },
  {
   "cell_type": "code",
   "execution_count": 33,
   "metadata": {},
   "outputs": [
    {
     "data": {
      "text/plain": [
       "4"
      ]
     },
     "execution_count": 33,
     "metadata": {},
     "output_type": "execute_result"
    }
   ],
   "source": [
    "#Minimum Add to Make Parentheses Valid:\n",
    "def min_add_valid_paranthesis(exp):\n",
    "    stack =[]\n",
    "    close_p = 0\n",
    "    for i in exp:\n",
    "        if i == '(':\n",
    "            stack.append(i)\n",
    "        else:\n",
    "            if stack:\n",
    "                stack.pop()\n",
    "            else:\n",
    "                close_p+=1\n",
    "    return len(stack)+close_p\n",
    "def min_add_valid_paranthesis1(exp):\n",
    "    open_p = 0\n",
    "    close_p = 0\n",
    "    for i in exp:\n",
    "        if i == '(':\n",
    "            open_p += 1\n",
    "        else:\n",
    "            close_p += 1\n",
    "            if open_p > 0:\n",
    "                open_p-=1\n",
    "                close_p-= 1\n",
    "                \n",
    "    return open_p+close_p\n",
    "\n",
    "exp = '()))(('\n",
    "min_add_valid_paranthesis1(exp)\n"
   ]
  },
  {
   "cell_type": "code",
   "execution_count": 64,
   "metadata": {},
   "outputs": [
    {
     "name": "stdout",
     "output_type": "stream",
     "text": [
      "1 mathematics\n",
      "0 graphics\n"
     ]
    }
   ],
   "source": [
    "# book exercises:\n",
    "# tuple --> (exercises has to to do, book name)\n",
    "# -1    --> harry wants to finish the exercise\n",
    "def function(arr):\n",
    "    n = len(arr)\n",
    "    stack = []\n",
    "    min_count = 0\n",
    "    for i in range(len(arr)):\n",
    "        if arr[i][0] > 0:\n",
    "            if stack:\n",
    "                if arr[i][0]<=stack[-1][0]:\n",
    "                    mini_book = arr[i][1]\n",
    "                    min_count = 0\n",
    "                    stack.append(arr[i])\n",
    "                else:\n",
    "                    stack.append(arr[i])\n",
    "                    min_count+=1\n",
    "            else:\n",
    "                stack.append(arr[i])\n",
    "                mini_book = stack[-1][1]\n",
    "                min_count += 1\n",
    "        elif arr[i][0] == -1:\n",
    "            if stack:\n",
    "                # we need to find the book with minimum no.of exercises\n",
    "                print(min_count, mini_book)\n",
    "                min_index = 0\n",
    "                                \n",
    "input_arr = [(9,\"english\"), (6, \"mathematics\"),(8, \"geography\"),(-1,\"no-book\"),(3,\"graphics\"),(-1, \"no-book\")]\n",
    "function(input_arr)"
   ]
  },
  {
   "cell_type": "code",
   "execution_count": 3,
   "metadata": {},
   "outputs": [
    {
     "data": {
      "text/plain": [
       "[1, 1, 3, 1, 5, 6]"
      ]
     },
     "execution_count": 3,
     "metadata": {},
     "output_type": "execute_result"
    }
   ],
   "source": [
    "#Finacial Problem in Dholokpur:\n",
    "#Stock span problem:\n",
    "def stock_span_problem1(arr):# this solution gives you the O(n^2)T, O(n)S\n",
    "    res = []\n",
    "    for i in range(0,len(arr)):\n",
    "        if arr[i]>arr[i-1]:\n",
    "            count = 0\n",
    "            target = arr[i]\n",
    "            while i>=0:\n",
    "                count += 1\n",
    "                i-=1\n",
    "                if target<arr[i]:\n",
    "                    break\n",
    "                \n",
    "            res.append(count)\n",
    "        else:\n",
    "            res.append(1)\n",
    "    return res\n",
    "\n",
    "def stock_span_problem2(arr):\n",
    "    stack = []\n",
    "    res = []\n",
    "    for i in range(len(arr)):\n",
    "        while stack and arr[stack[-1]]<arr[i]:\n",
    "            stack.pop()\n",
    "        if not stack:\n",
    "            res.append(i+1)\n",
    "        else:\n",
    "            res.append(i-stack[-1])\n",
    "        stack.append(i)\n",
    "    return res\n",
    "            \n",
    "arr1 = [10, 4, 5, 90, 120, 80] \n",
    "arr2 = [10,5,11,4,15,25]\n",
    "stock_span_problem1(arr2)\n",
    "    "
   ]
  },
  {
   "cell_type": "code",
   "execution_count": 15,
   "metadata": {},
   "outputs": [
    {
     "data": {
      "text/plain": [
       "'acbacbabcacbcb'"
      ]
     },
     "execution_count": 15,
     "metadata": {},
     "output_type": "execute_result"
    }
   ],
   "source": [
    "#super reduced strings\n",
    "def function(s):\n",
    "    stack = []\n",
    "    for i in s:\n",
    "        if stack:\n",
    "            if stack[-1] == i:\n",
    "                stack.pop()\n",
    "            else:\n",
    "                stack.append(i)\n",
    "        else:\n",
    "            stack.append(i)\n",
    "    return \"\".join(stack)\n",
    "\n",
    "s = \"bcaacbcaacacccaabacaabccbaaccbbbbbabbaccabcacaabcb\"\n",
    "function(s)"
   ]
  },
  {
   "cell_type": "code",
   "execution_count": null,
   "metadata": {},
   "outputs": [],
   "source": [
    "#Jumpy Humpy\n"
   ]
  },
  {
   "cell_type": "code",
   "execution_count": 24,
   "metadata": {},
   "outputs": [
    {
     "data": {
      "text/plain": [
       "0"
      ]
     },
     "execution_count": 24,
     "metadata": {},
     "output_type": "execute_result"
    }
   ],
   "source": [
    "#Little Monk and Balanced Parentheses:\n",
    "# length of longest subarray that is balanced\n",
    "def function(exp):\n",
    "    stack = []\n",
    "    open_p = ['[','{','(']\n",
    "    dict1 = {'}':'{', ']':'[',')':'('}\n",
    "    balance_length = 0\n",
    "    for i in exp:\n",
    "        if i in open_p:\n",
    "            stack.append(i)\n",
    "        else:\n",
    "            if stack:\n",
    "                if stack[-1] == dict1[i]:\n",
    "                    balance_length+=2\n",
    "                    stack.pop()\n",
    "                else:\n",
    "                    stack.pop()\n",
    "    return balance_length\n",
    "exp = \"(]\"\n",
    "function(exp)"
   ]
  },
  {
   "cell_type": "code",
   "execution_count": 23,
   "metadata": {},
   "outputs": [
    {
     "name": "stdout",
     "output_type": "stream",
     "text": [
      "[1, 2, 4, 4, -1]\n",
      "[-1, -1, -1, 2, -1]\n",
      "[0, 1, 0, 0, 0]\n",
      "[0, 2, 0, 0, 0]\n",
      "[0, 2, 3, 0, 0]\n",
      "[0, 2, 3, 0, 0]\n"
     ]
    },
    {
     "data": {
      "text/plain": [
       "5"
      ]
     },
     "execution_count": 23,
     "metadata": {},
     "output_type": "execute_result"
    }
   ],
   "source": [
    "#Mancunian And Fantabulous Pairs **************************************************************\n",
    "\"\"\"An array of length at least 2 having distinct integers is said to be fantabulous iff the second highest element lies \n",
    "strictly to the left of the highest value. For example, [1, 2, 13, 10, 15] is fantabulous as the second-highest value 13 \n",
    "lies to the left of highest value 15.For every fantabulous array, we define a fantabulous pair (a, b) where a denotes the \n",
    "index of the second-highest value (1-indexed) and b denotes the index of the highest value (1-indexed). In the above array, \n",
    "the fantabulous pair is (3, 5)\"\"\"\n",
    "def function(arr):\n",
    "    n = len(arr)\n",
    "    rights = [-1]*n\n",
    "    lefts = [-1]*n\n",
    "    stack = [n-1]\n",
    "    for i in range(n-2,-1,-1): # for every index we are replacing it with next grater element index on right side, if not put -1\n",
    "        while stack and arr[stack[-1]]<arr[i]:\n",
    "            stack.pop()\n",
    "        if stack:\n",
    "            rights[i] = stack[-1]\n",
    "        stack.append(i)\n",
    "    print(rights)\n",
    "    stack = [0]\n",
    "    for i in range(1,n): # for every index we are replacing it with previous grater element index on leftside, if not put -1\n",
    "        while stack and arr[stack[-1]]<arr[i]:\n",
    "            stack.pop()\n",
    "        if stack:\n",
    "            lefts[i] = stack[-1]\n",
    "        stack.append(i)\n",
    "    print(lefts)\n",
    "    res = [0]*n\n",
    "    for i in range(n):\n",
    "        if rights[i] != -1:\n",
    "            res[rights[i] - i] = max(res[rights[i]-i], i-lefts[i])\n",
    "    \n",
    "    return sum(res)\n",
    "            \n",
    "arr = [1, 2, 13, 10, 15]\n",
    "function(arr)\n",
    "        "
   ]
  },
  {
   "cell_type": "code",
   "execution_count": 13,
   "metadata": {},
   "outputs": [
    {
     "data": {
      "text/plain": [
       "15"
      ]
     },
     "execution_count": 13,
     "metadata": {},
     "output_type": "execute_result"
    }
   ],
   "source": [
    "#Coding Legacy in Nirma 2\n",
    "# this problem logic is related to the sum of subarray minimum\n",
    "def function(arr):\n",
    "    arr.reverse()\n",
    "    stack=[]\n",
    "    for i in range(len(arr)-1):\n",
    "        stack.append(arr[-1]|arr[-2])\n",
    "        arr.pop()\n",
    "    z=max(stack)\n",
    "    return z\n",
    "\n",
    "arr = [1,2,3,4,5,6,7,8]\n",
    "function(arr)"
   ]
  },
  {
   "cell_type": "code",
   "execution_count": 15,
   "metadata": {},
   "outputs": [
    {
     "data": {
      "text/plain": [
       "[4, 4, 4, 2]"
      ]
     },
     "execution_count": 15,
     "metadata": {},
     "output_type": "execute_result"
    }
   ],
   "source": [
    "# Nitish and pillers: ********************* need optimization *********************************\n",
    "\"\"\" Nitish is a short hieghted person. He is standing facing N pillars of different heights with ith pillar having height hi. \n",
    "    He tries to see all the possible pillars. He wants to know that how many buildings will he be able to see in the range [L, R]\n",
    "    both inclusive.\"\"\"\n",
    "def function(heights, ranges):\n",
    "    res = []\n",
    "    for i in range(len(ranges)):\n",
    "        res.append(grater_pillars_in_given_range(ranges[i][0], ranges[i][1], heights))\n",
    "    return res\n",
    "def grater_pillars_in_given_range(start, end, heights):\n",
    "    # we need to find pillars count nitish can able to see in the start and end range inclusive\n",
    "    count = 1\n",
    "    previous = heights[start]\n",
    "    for i in range(start+1, end+1):\n",
    "        if heights[i]>previous:\n",
    "            count+=1\n",
    "            previous = heights[i]\n",
    "    return count\n",
    "# for the above implmentation time complexity --> len(heights) = m, len(ranges) = n: --> O(m*n)T, O(n)S        \n",
    "        \n",
    "heights = [5,2,3,7,9,8,11]\n",
    "ranges = [[0,6],[1,5],[2,6],[3,4]]\n",
    "function(heights, ranges)"
   ]
  },
  {
   "cell_type": "code",
   "execution_count": 48,
   "metadata": {},
   "outputs": [
    {
     "data": {
      "text/plain": [
       "[-1, -1, -1, -1, 15, 15, 68, 15, 46, 46, -1, 13, 13, 19, 19, 19]"
      ]
     },
     "execution_count": 48,
     "metadata": {},
     "output_type": "execute_result"
    }
   ],
   "source": [
    "#Nearest Smaller Element\n",
    "def nearest_smaller_element(arr):\n",
    "    res = [-1]*len(arr)\n",
    "    stack = []\n",
    "    stack.append(arr[0])\n",
    "    for i in range(1, len(arr)):\n",
    "        if arr[i]>stack[-1]:\n",
    "            res[i] = stack[-1]\n",
    "        elif arr[i] == stack[-1]:\n",
    "                stack.pop()\n",
    "                res[i] = stack[-1]\n",
    "        else:\n",
    "            while stack and stack[-1]>arr[i]:\n",
    "                stack.pop()\n",
    "            if stack:\n",
    "                res[i] = stack[-1]\n",
    "        stack.append(arr[i])\n",
    "    return res\n",
    "arr = [90, 86, 45, 15, 75, 68, 73, 46, 86, 67, 13, 59,19, 98,31,21]\n",
    "nearest_smaller_element(arr)\n"
   ]
  },
  {
   "cell_type": "code",
   "execution_count": 51,
   "metadata": {},
   "outputs": [
    {
     "data": {
      "text/plain": [
       "'not understand the question'"
      ]
     },
     "execution_count": 51,
     "metadata": {},
     "output_type": "execute_result"
    }
   ],
   "source": [
    "# Monk Celebrating Checkpoint:\n",
    "\"\"\"not understand the question\"\"\""
   ]
  },
  {
   "cell_type": "code",
   "execution_count": 64,
   "metadata": {},
   "outputs": [
    {
     "data": {
      "text/plain": [
       "4"
      ]
     },
     "execution_count": 64,
     "metadata": {},
     "output_type": "execute_result"
    }
   ],
   "source": [
    "#Capital of Hills:\"\"\"not understand the question\"\"\"\n",
    "def function(arr):\n",
    "    total = 0\n",
    "    stack = []\n",
    "    for x in arr:\n",
    "        count = 0\n",
    "        num = x\n",
    "        while stack:\n",
    "            if stack[-1][0] < num:\n",
    "                count += stack.pop()[1]\n",
    "            else:\n",
    "                break\n",
    "    \n",
    "        if stack:\n",
    "            if stack[-1][0] == num:\n",
    "                count += stack[-1][1]\n",
    "                stack[-1][1] += 1\n",
    "                if len(stack)>1:\n",
    "                    count += 1\n",
    "            else:\n",
    "                count += 1\n",
    "                stack.append([num,1])\n",
    "        else:\n",
    "            stack.append([num,1])\n",
    "        total += count\n",
    "    return total\n",
    "arr = [3,2,2,1]\n",
    "function(arr)"
   ]
  },
  {
   "cell_type": "code",
   "execution_count": null,
   "metadata": {},
   "outputs": [],
   "source": [
    "# feel taller:\n",
    "# same as Nitish and pillars problem above:"
   ]
  },
  {
   "cell_type": "code",
   "execution_count": 65,
   "metadata": {},
   "outputs": [
    {
     "data": {
      "text/plain": [
       "[1, 1, 1, 2, 1, 4, 6]"
      ]
     },
     "execution_count": 65,
     "metadata": {},
     "output_type": "execute_result"
    }
   ],
   "source": [
    "# signal range ~ stock span problem:\n",
    "def function(arr):\n",
    "    res = [0]*len(arr)\n",
    "    stack = []\n",
    "    for i in range(len(arr)):\n",
    "        while stack and arr[stack[-1]]<arr[i]:\n",
    "            stack.pop()\n",
    "        if stack:\n",
    "            res[i] = i-stack[-1]\n",
    "        else:\n",
    "            res[i] = i+1\n",
    "        stack.append(i)\n",
    "    return res\n",
    "arr = [100,80,60,70,60,75,85]\n",
    "function(arr)\n",
    "        "
   ]
  },
  {
   "cell_type": "code",
   "execution_count": null,
   "metadata": {},
   "outputs": [],
   "source": [
    "# Monk and Order of Phoenix:\n",
    "# ************************************** heapq problem ************\n",
    "import heapq\n",
    "from sys import stdin\n",
    "from collections import defaultdict\n",
    "def monk_task(stacks, operations):\n",
    "    pass\n",
    "#\n",
    "stacks = [[3,5,4],[1,1,2]]\n",
    "operations[[0,1],[2],[1,1,1],[2],[0,1],[2],[1,2,4],[2]]"
   ]
  },
  {
   "cell_type": "code",
   "execution_count": 83,
   "metadata": {},
   "outputs": [
    {
     "name": "stdout",
     "output_type": "stream",
     "text": [
      "[-1, -1, -1, 2, -1]\n",
      "[1, 2, 4, 4, 5]\n"
     ]
    },
    {
     "data": {
      "text/plain": [
       "[1, 2, 6, 1, 5]"
      ]
     },
     "execution_count": 83,
     "metadata": {},
     "output_type": "execute_result"
    }
   ],
   "source": [
    "# Another maximum problem  ******************************\n",
    "def total(arr, s):\n",
    "    left = [-1] * len(arr)\n",
    "    right = [len(arr)] * len(arr)\n",
    "    \n",
    "    st = [0]\n",
    "    for i in range(1,len(arr)):\n",
    "        while st and arr[st[-1]] < arr[i]:\n",
    "            st.pop()\n",
    "            \n",
    "        if st:\n",
    "            left[i] = st[-1]\n",
    "            \n",
    "        st.append(i)\n",
    "    \n",
    "    st = [ len(arr)-1]    \n",
    "    for i in range(len(arr) - 2, -1, -1):\n",
    "        while st and arr[st[-1]] <= arr[i]:\n",
    "            st.pop()\n",
    "            \n",
    "        if st:\n",
    "            right[i] = st[-1]\n",
    "            \n",
    "        st.append(i)\n",
    "        \n",
    "    hashSet = {}\n",
    "    print(left)\n",
    "    print(right)\n",
    "    for i in range(len(arr)):\n",
    "        l = i - 1 - left[i]\n",
    "        r = right[i] - 1 - i\n",
    "        count = 1 + l + r + (l * r)\n",
    "        if arr[i] in hashSet.keys():\n",
    "            count += hashSet.get(arr[i])\n",
    "        hashSet[arr[i]] = count\n",
    "        \n",
    "    res = []\n",
    "    for i in s:\n",
    "        res.append(hashSet[i])\n",
    "        \n",
    "    \n",
    "    return res\n",
    "arr = [5,6,8,2,9]\n",
    "n = len(arr),\n",
    "test_cases = [5,6,8,2,9]\n",
    "total(arr,test_cases)\n"
   ]
  },
  {
   "cell_type": "code",
   "execution_count": 95,
   "metadata": {},
   "outputs": [
    {
     "name": "stdout",
     "output_type": "stream",
     "text": [
      "[[3, 1]]\n",
      "[[2, 3]]\n",
      "[[2, 3]]\n",
      "[[2, 3]]\n",
      "[[2, 3], [1, 2]]\n"
     ]
    },
    {
     "data": {
      "text/plain": [
       "[2, 2, -1, -1, -1, -1]"
      ]
     },
     "execution_count": 95,
     "metadata": {},
     "output_type": "execute_result"
    }
   ],
   "source": [
    "# fight for laddus:\n",
    "\"\"\" Given an array, For each element find the value of nearest element to the right which is having frequency \n",
    "    greater than as that of current element. If there does not exist an answer for a position, then print '-1'\"\"\"\n",
    "def function(arr):\n",
    "    dict1 = {}\n",
    "    for i in arr:\n",
    "        if i in dict1:\n",
    "            dict1[i]+=1\n",
    "        else:\n",
    "            dict1[i] = 1\n",
    "    \n",
    "    n = len(arr)\n",
    "    res = [-1]*n\n",
    "    stack = []\n",
    "    stack.append([arr[n-1], dict1[arr[n-1]]])\n",
    "    \n",
    "    for i in range(n-2, -1, -1):\n",
    "        print(stack)\n",
    "        while stack and stack[-1][1]<=dict1[arr[i]]:\n",
    "            stack.pop()\n",
    "        if stack:\n",
    "            res[i] = stack[-1][0]\n",
    "        else:\n",
    "            res[i] = -1\n",
    "        stack.append([arr[i], dict1[arr[i]]])\n",
    "    \n",
    "    return res\n",
    "\n",
    "arr = [1,3,7,2,5,1,4,2,1,5]\n",
    "arr1 = [-1,-1,-1,-1,-1,-1]\n",
    "arr2 = [1,1,2,2,2,3]\n",
    "function(arr2)"
   ]
  },
  {
   "cell_type": "code",
   "execution_count": 6,
   "metadata": {},
   "outputs": [
    {
     "data": {
      "text/plain": [
       "23"
      ]
     },
     "execution_count": 6,
     "metadata": {},
     "output_type": "execute_result"
    }
   ],
   "source": [
    "# trapping the rain water:\n",
    "def function1(arr): # with help of two arrays\n",
    "    n = len(arr)\n",
    "    if n<2:\n",
    "        return 0\n",
    "    arr1 = [arr[0]]*n # to store the left maximum values for each index\n",
    "    arr2 = [arr[n-1]]*n # to store the right maximum values for each index\n",
    "\n",
    "    lmax = arr[0]\n",
    "    for i in range(1,n):\n",
    "        if arr[i]>lmax:\n",
    "            lmax = arr[i]\n",
    "        arr1[i] = lmax\n",
    "\n",
    "    rmax = arr[n-1]\n",
    "    for i in range(n-2, -1,-1):\n",
    "        if arr[i]>rmax:\n",
    "            rmax = arr[i]\n",
    "        arr2[i] = rmax\n",
    "\n",
    "    total_water = 0\n",
    "    for i, j in zip(arr1, arr2):\n",
    "        total_water+=(min(i,j))\n",
    "\n",
    "    return total_water-sum(arr)\n",
    "\n",
    "\n",
    "def function2(arr):\n",
    "    stack = []\n",
    "    total_water = 0\n",
    "    for i in range(len(arr)):\n",
    "        while(stack and arr[i]>arr[stack[-1]]):\n",
    "            top = stack.pop()\n",
    "            if stack:\n",
    "                distance = i-stack[-1]-1\n",
    "                bound_region = min(arr[i],arr[stack[-1]]) - arr[top]\n",
    "                print(bound_region, stack)\n",
    "                total_water += (bound_region*distance)\n",
    "            else:\n",
    "                \n",
    "                break    \n",
    "        stack.append(i)\n",
    "    \"\"\" arr1 = [9,1,4,0,2,8,6,3,5]\n",
    "        stack = [0,], top = 1, dist = 2-0-1 = 1, b = 3 -> 3*1\n",
    "        stack = [0,2,] top = 3, dist = 4-2-1 = 1, b = 2 -> 2*1\n",
    "        stack = [0,2] top = 4, dist = 5-2-1 = 2, b = 2 -> 2*2\n",
    "                [0], top = 2, dist = 5-0-1 = 4, b = 4 -> 4*4\n",
    "        stack = [0,5,6], top = 7, dist = 8-6-1 = 1, b = 2 -> 2*1\n",
    "    \"\"\"                \n",
    "    return total_water\n",
    "\n",
    "def function3(arr): # two pointers:\n",
    "    n = len(arr)\n",
    "    left = 0\n",
    "    right = n-1\n",
    "    total_water = 0\n",
    "    leftmax, rightmax = 0,0\n",
    "    while left < right:\n",
    "        if arr[left]<arr[right]:\n",
    "            if arr[left] >= leftmax:\n",
    "                leftmax = arr[left]\n",
    "            else:\n",
    "                total_water+=leftmax-arr[left]\n",
    "            left+=1\n",
    "        else:\n",
    "            if arr[right] >= rightmax:\n",
    "                rightmax = arr[right]\n",
    "            else:\n",
    "                total_water += rightmax-arr[right]\n",
    "            right -= 1\n",
    "            \n",
    "    \"\"\" arr1 = [7,1,4,0,2,8,6,3,5] , total = 2+6+3+7+5\n",
    "        left = 4, right = 5, lmax, rmax = 7, 6\n",
    "        \n",
    "    \"\"\"\n",
    "    return total_water\n",
    "        \n",
    "\n",
    "arr = [0,1,0,2,1,0,1,3,2,1,2,1]\n",
    "arr1 = [9,1,4,0,2,8,6,3,5]\n",
    "arr3 = [7,1,4,0,2,8,6,3,5]\n",
    "\n",
    "function3(arr3)"
   ]
  },
  {
   "cell_type": "code",
   "execution_count": 50,
   "metadata": {},
   "outputs": [
    {
     "data": {
      "text/plain": [
       "'H2O'"
      ]
     },
     "execution_count": 50,
     "metadata": {},
     "output_type": "execute_result"
    }
   ],
   "source": [
    "\n",
    "def countOfAtoms(formula):\n",
    "    caps = \"ABCDEFGHIJKLMNOPQRSTUVWXYZ\"\n",
    "    small = \"abcdefghijklmnopqrstuvwxyz\"\n",
    "    stack = []\n",
    "    dict1 = {}\n",
    "    chem , num = \"\", \"\"\n",
    "    n = len(formula)\n",
    "    i = 0\n",
    "    while i<n:\n",
    "        if formula[i] == '(':\n",
    "            stack.append(formula[i])\n",
    "            i+=1\n",
    "        elif formula[i] == ')':\n",
    "            stack.append(formula[i])\n",
    "            i+=1\n",
    "        elif formula[i] in caps:\n",
    "            chem += formula[i]\n",
    "            i+=1\n",
    "            while i <= n-1 and formula[i] in small:\n",
    "                chem+=formula[i]\n",
    "                i+=1\n",
    "            else:\n",
    "                stack.append([chem, 1])\n",
    "            chem = \"\"\n",
    "        else:\n",
    "            num+=formula[i]\n",
    "            i+=1\n",
    "            while (i <= n-1 and formula[i].isdigit() == True):\n",
    "                num+=formula[i]\n",
    "                i+=1\n",
    "            num = int(num)\n",
    "            if num >1:\n",
    "                if stack[-1] == ')':\n",
    "                    stack.pop()\n",
    "                    temp = len(stack)-1\n",
    "                    while stack and stack[temp] != '(':\n",
    "                        stack[temp][1]*= num\n",
    "                        temp -= 1\n",
    "                    if stack[temp]=='(':\n",
    "                        stack.pop(temp)\n",
    "                else:\n",
    "                    if stack:\n",
    "                        stack[-1][1]*=num\n",
    "            \n",
    "                num = \"\"\n",
    "    for i in stack:\n",
    "        if i[0] in dict1:\n",
    "            dict1[i[0]] += i[1]\n",
    "        else:\n",
    "            dict1[i[0]] = i[1]\n",
    "    dict1 = dict(sorted(dict1.items()))\n",
    "    \n",
    "    result = \"\"\n",
    "    for i in dict1:\n",
    "        result+=i\n",
    "        if dict1[i] >1:\n",
    "            result+=str(dict1[i])\n",
    "        \n",
    "        \n",
    "    return result\n",
    "            \n",
    "st = \"H2O\"\n",
    "countOfAtoms(st)"
   ]
  },
  {
   "cell_type": "code",
   "execution_count": 22,
   "metadata": {},
   "outputs": [
    {
     "data": {
      "text/plain": [
       "8"
      ]
     },
     "execution_count": 22,
     "metadata": {},
     "output_type": "execute_result"
    }
   ],
   "source": [
    "#224\n",
    "def calculate(s):\n",
    "    s = s.replace(\" \",\"\")\n",
    "    stack = []\n",
    "    ops = []\n",
    "    i = 0\n",
    "    n = len(s)\n",
    "    digit = \"\"\n",
    "    while i < n:\n",
    "        if s[i] == '+':\n",
    "            ops.append(s[i])\n",
    "        elif s[i] == '-':\n",
    "            ops.append(s[i])\n",
    "        elif s[i].isdigit():\n",
    "            while i <= n-1 and s[i].isdigit():\n",
    "                digit += s[i]\n",
    "                i+=1\n",
    "            stack.append(int(digit))\n",
    "            digit = \"\"\n",
    "        elif s[i] == '(':\n",
    "            stack.append(s[i])\n",
    "        else:\n",
    "            print(s[i])\n",
    "            op2 = stack.pop()\n",
    "            op1 = stack.pop()\n",
    "            op = ops.pop()\n",
    "            if op == '+':\n",
    "                stack.append(addition(op1, op2))\n",
    "            else:\n",
    "                stack.append(sub(op1, op2))\n",
    "        i += 1\n",
    "    return stack[-1]\n",
    "    def addition(op1, op2):\n",
    "        return int(op1)+int(op2)\n",
    "    def sub(op1, op2):\n",
    "        return int(op1)-int(op2)\n",
    "    \n",
    "s = \"(1+(4+5+2)-3)+(6+8)\"\n",
    "s1 = \"1 + 1\"\n",
    "calculate(s)               "
   ]
  },
  {
   "cell_type": "code",
   "execution_count": 49,
   "metadata": {},
   "outputs": [],
   "source": [
    "# leetcode 880\n",
    "# approach 1: This approach will thow an memory limit exception\n",
    "def decodeAtIndex(s, k):\n",
    "    word = \"\"\n",
    "    for i in s:\n",
    "        if i.isalpha():\n",
    "            if len(word)<=k:\n",
    "                word += i\n",
    "            else:\n",
    "                break\n",
    "        if i.isdigit():\n",
    "            if len(word) <=k:\n",
    "                word+=(int(i)-1)*word\n",
    "            else:\n",
    "                break\n",
    "    return word[k-1]\n",
    "\n",
    "# approach 2:\n",
    "def function(s, k):\n",
    "    size = 0\n",
    "    for element in s:\n",
    "        if element.isdigit():\n",
    "            size *= int(element)\n",
    "        else:\n",
    "            size += 1\n",
    "    for char in reversed(s):\n",
    "        print(size)\n",
    "        k = k%size\n",
    "        print(\"k-->\", k)\n",
    "        if k==0 and char.isalpha():\n",
    "            return char\n",
    "        if char.isdigit():\n",
    "            size = size // int(char)\n",
    "        else:\n",
    "            size -= 1\n",
    "        \n",
    "            \n",
    "s = \"leet2code3\"\n",
    "k = 21\n",
    "\n"
   ]
  },
  {
   "cell_type": "code",
   "execution_count": 63,
   "metadata": {},
   "outputs": [
    {
     "data": {
      "text/plain": [
       "10"
      ]
     },
     "execution_count": 63,
     "metadata": {},
     "output_type": "execute_result"
    }
   ],
   "source": [
    "# leetcode 560\n",
    "def function1(arr, k):\n",
    "    pass\n",
    "function1(arr, k)\n"
   ]
  },
  {
   "cell_type": "code",
   "execution_count": 13,
   "metadata": {},
   "outputs": [
    {
     "name": "stdout",
     "output_type": "stream",
     "text": [
      "1\n",
      "{0: -1, -1: 0, 1: 2}\n"
     ]
    },
    {
     "data": {
      "text/plain": [
       "3"
      ]
     },
     "execution_count": 13,
     "metadata": {},
     "output_type": "execute_result"
    }
   ],
   "source": [
    "def longestWPI(hours):\n",
    "    for i in range(len(hours)):\n",
    "        if hours[i] > 8:\n",
    "            hours[i] = 1\n",
    "        else:\n",
    "            hours[i] = -1\n",
    "    # we need to find the length of longest subarray which having the sum >=1\n",
    "    cumulative_sum = 0\n",
    "    dict1 = {}\n",
    "    dict1[0] = -1\n",
    "    max_length = 0\n",
    "    for i in range(len(hours)):\n",
    "        cumulative_sum += hours[i]\n",
    "        if cumulative_sum > 0:\n",
    "            max_length = (i+1)\n",
    "        else:\n",
    "            if cumulative_sum-1 in dict1:\n",
    "                max_length = max(max_length, i-dict1[cumulative_sum-1])\n",
    "                print(max_length)\n",
    "                \n",
    "        if not cumulative_sum in dict1: dict1[cumulative_sum] = i\n",
    "    print(dict1)\n",
    "            \n",
    "    return max_length\n",
    "            \n",
    "arr = [6,9,9]\n",
    "longestWPI(arr)"
   ]
  },
  {
   "cell_type": "code",
   "execution_count": 117,
   "metadata": {},
   "outputs": [
    {
     "data": {
      "text/plain": [
       "[3, 4]"
      ]
     },
     "execution_count": 117,
     "metadata": {},
     "output_type": "execute_result"
    }
   ],
   "source": [
    "def exclusiveTime(n, logs):  #************************** need correction ************************\n",
    "    start_stack = []\n",
    "    end_stack = []\n",
    "    result = []\n",
    "    dict1 = {}\n",
    "    temp = 0\n",
    "    travel = 0\n",
    "    for i in logs:\n",
    "        j = list(i.split(\":\"))\n",
    "        if j[1] == \"start\":\n",
    "            start_stack.append([int(j[0]), int(j[2])])\n",
    "        else:\n",
    "            end_stack.append([int(j[0]), int(j[2])])\n",
    "        \n",
    "        while start_stack and end_stack:\n",
    "            if len(start_stack) == 1 and len(end_stack) == 1:\n",
    "                travel = end_stack[-1][1] - start_stack[-1][1] + 1 - temp\n",
    "            else:\n",
    "                travel = end_stack[-1][1] - start_stack[-1][1] + 1\n",
    "                temp += travel\n",
    "        \n",
    "            if start_stack[-1][0] in dict1:\n",
    "                dict1[start_stack[-1][0]] += travel\n",
    "            else:\n",
    "                dict1[start_stack[-1][0]] = travel\n",
    "            start_stack.pop()\n",
    "            end_stack.pop()\n",
    "            \n",
    "    dict1 = dict(sorted(dict1.items()))\n",
    "    for i in dict1:\n",
    "        result.append(dict1[i])\n",
    "    return result   \n",
    "\n",
    "n1 = 3\n",
    "logs1 = [\"0:start:0\",\"0:end:0\",\"1:start:1\",\"1:end:1\",\"2:start:2\",\"2:end:2\",\"2:start:3\",\"2:end:3\"] # [1,1,2]\n",
    "\n",
    "n2 = 2\n",
    "logs2 = [\"0:start:0\",\"0:start:2\",\"0:end:5\",\"1:start:6\",\"1:end:6\",\"0:end:7\"] # [7,1]\n",
    "\n",
    "n3 = 1\n",
    "logs3 = [\"0:start:0\",\"0:start:2\",\"0:end:5\",\"0:start:6\",\"0:end:6\",\"0:end:7\"] # [8]\n",
    "\n",
    "n4 = 2\n",
    "logs4  = [\"0:start:0\",\"1:start:2\",\"1:end:5\",\"0:end:6\"] #[3,4]\n",
    "\n",
    "exclusiveTime(n4, logs4)\n"
   ]
  },
  {
   "cell_type": "code",
   "execution_count": 1,
   "metadata": {},
   "outputs": [
    {
     "data": {
      "text/plain": [
       "[7, 1]"
      ]
     },
     "execution_count": 1,
     "metadata": {},
     "output_type": "execute_result"
    }
   ],
   "source": [
    "def exclusiveTime(n, logs): # leetcode 636\n",
    "    stack = []\n",
    "    res = [0]*n\n",
    "    s = list(logs[0].split(\":\"))\n",
    "    previous = int(s[2])\n",
    "    function_id = int(s[0])\n",
    "    stack.append(function_id)\n",
    "    \n",
    "    for i in range(1, len(logs)):\n",
    "        s = list(logs[i].split(\":\"))\n",
    "        function_id = int(s[0])\n",
    "        time = int(s[2])\n",
    "        \n",
    "        if s[1] == \"start\":\n",
    "            if stack:\n",
    "                res[stack[-1]] += time - previous\n",
    "            stack.append(function_id)\n",
    "            previous = time\n",
    "        else:\n",
    "            res[stack.pop()] += time - previous + 1\n",
    "            previous = time + 1\n",
    "            \n",
    "    return res\n",
    "        \n",
    "n1 = 3\n",
    "logs1 = [\"0:start:0\",\"0:end:0\",\"1:start:1\",\"1:end:1\",\"2:start:2\",\"2:end:2\",\"2:start:3\",\"2:end:3\"] \n",
    "\n",
    "n2 = 2\n",
    "logs2 = [\"0:start:0\",\"0:start:2\",\"0:end:5\",\"1:start:6\",\"1:end:6\",\"0:end:7\"]\n",
    "exclusiveTime(n2, logs2)   "
   ]
  },
  {
   "cell_type": "code",
   "execution_count": 40,
   "metadata": {},
   "outputs": [
    {
     "data": {
      "text/plain": [
       "True"
      ]
     },
     "execution_count": 40,
     "metadata": {},
     "output_type": "execute_result"
    }
   ],
   "source": [
    "# leetcode: 1003\n",
    "def isValid(s):\n",
    "    stack = []\n",
    "    if s[0] != 'a' or len(s)<3:\n",
    "        return False\n",
    "    for i in s:\n",
    "        stack.append(i)\n",
    "        if \"\".join(stack[-3:]) ==\"abc\":\n",
    "            stack.pop()\n",
    "            stack.pop()\n",
    "            stack.pop()\n",
    "    final = \"\".join(stack)\n",
    "    if final == \"abc\" or len(final) == 0:\n",
    "        return True\n",
    "    return False\n",
    "isValid(\"abcabc\")"
   ]
  },
  {
   "cell_type": "code",
   "execution_count": 43,
   "metadata": {},
   "outputs": [
    {
     "data": {
      "text/plain": [
       "False"
      ]
     },
     "execution_count": 43,
     "metadata": {},
     "output_type": "execute_result"
    }
   ],
   "source": [
    "# leetcode 1003\n",
    "def isValid(s):\n",
    "    count = 0\n",
    "    while len(s)>2 or count<(len(s)//3):\n",
    "        s = s.replace(\"abc\",\"\")\n",
    "    if s == \"abc\" or len(s) == 0:\n",
    "        return True\n",
    "    return False\n",
    "isValid(\"abcabcabcc\")"
   ]
  },
  {
   "cell_type": "code",
   "execution_count": 11,
   "metadata": {},
   "outputs": [
    {
     "data": {
      "text/plain": [
       "61"
      ]
     },
     "execution_count": 11,
     "metadata": {},
     "output_type": "execute_result"
    }
   ],
   "source": [
    "def maxRotateFunction1(arr):\n",
    "    n = len(arr)\n",
    "    k = 0\n",
    "    maxi = float('-inf')\n",
    "    while k<n:\n",
    "        total = 0\n",
    "        for i in range(len(arr)):\n",
    "            total+=arr[i]*i\n",
    "        maxi = max(maxi, total)\n",
    "        k+=1\n",
    "        arr = arr[-1:]+arr[0:-1]\n",
    "    return maxi\n",
    "\n",
    "def maxRotateFunction(arr):\n",
    "    total = sum(arr)\n",
    "    output = 0\n",
    "    for i,j in enumerate(arr):\n",
    "        output += i*j\n",
    "    current = output\n",
    "    for i in range(len(arr)-1):\n",
    "        current = current-sum(arr)+arr[i]*len(arr)\n",
    "        if current > output:\n",
    "            output = current\n",
    "    return output\n",
    "    \n",
    "        \n",
    "arr = [4,3,2,6,9]\n",
    "maxRotateFunction(arr)"
   ]
  },
  {
   "cell_type": "code",
   "execution_count": 8,
   "metadata": {},
   "outputs": [
    {
     "name": "stdout",
     "output_type": "stream",
     "text": [
      "16\n",
      "23\n",
      "26\n"
     ]
    },
    {
     "data": {
      "text/plain": [
       "26"
      ]
     },
     "execution_count": 8,
     "metadata": {},
     "output_type": "execute_result"
    }
   ],
   "source": [
    "def maxRotateFunction(A):\n",
    "    total = sum(A)\n",
    "    ans = cur = sum(i * n for i, n in enumerate(A))\n",
    "    for i in range(len(A)-1, 0, -1):\n",
    "        cur += total - len(A) * A[i]\n",
    "        print(cur)\n",
    "    ans = max(ans, cur)\n",
    "    return ans\n",
    "arr = [4,3,2,6]\n",
    "maxRotateFunction(arr)"
   ]
  },
  {
   "cell_type": "code",
   "execution_count": 24,
   "metadata": {},
   "outputs": [
    {
     "data": {
      "text/plain": [
       "[[1, 2, 3], [1, 3, 2], [2, 1, 3], [2, 3, 1], [3, 1, 2], [3, 2, 1]]"
      ]
     },
     "execution_count": 24,
     "metadata": {},
     "output_type": "execute_result"
    }
   ],
   "source": [
    "def permutList(l):\n",
    "    if not l:\n",
    "            return [[]]\n",
    "    res = []\n",
    "    for e in l:\n",
    "            temp = l[:]\n",
    "            temp.remove(e)\n",
    "            res.extend([[e] + r for r in permutList(temp)])\n",
    "\n",
    "    return res\n",
    "permutList([1,2,3])"
   ]
  },
  {
   "cell_type": "code",
   "execution_count": 4,
   "metadata": {},
   "outputs": [
    {
     "data": {
      "text/plain": [
       "False"
      ]
     },
     "execution_count": 4,
     "metadata": {},
     "output_type": "execute_result"
    }
   ],
   "source": [
    "def balancedBrackets(string):\n",
    "    dict1 = {')':'(', '}':'{', ']':'['}\n",
    "    open_p = \"([{\"\n",
    "    stack = []\n",
    "    for i in string:\n",
    "        if i in open_p:\n",
    "            stack.append(i)\n",
    "        elif i.isalpha():\n",
    "            stack.append(i)\n",
    "        else:\n",
    "            if stack:\n",
    "                while stack[-1].isalpha():\n",
    "                    stack.pop()\n",
    "                if stack[-1] == dict1[i]:\n",
    "                    stack.pop()\n",
    "                else: return False\n",
    "            else:\n",
    "                return False\n",
    "    return len(stack) == 0\n",
    "st = \"()()[{()})]\"\n",
    "balancedBrackets(st)\n"
   ]
  },
  {
   "cell_type": "code",
   "execution_count": 29,
   "metadata": {},
   "outputs": [
    {
     "name": "stdout",
     "output_type": "stream",
     "text": [
      "[[2, 2]]\n",
      "[2]\n",
      "2\n",
      "2\n",
      "2\n",
      "[[2, 2], [2, 7]]\n",
      "[2, 7]\n",
      "<__main__.MinMaxStack object at 0x000001A13B503C88>\n",
      "2\n",
      "7\n",
      "7\n",
      "[[2, 2], [2, 7], [1, 7]]\n",
      "[2, 7, 1]\n",
      "<__main__.MinMaxStack object at 0x000001A13B503C88>\n",
      "1\n",
      "7\n",
      "1\n",
      "[[2, 2], [2, 7], [1, 7], [1, 8]]\n",
      "[2, 7, 1, 8]\n",
      "1\n",
      "8\n",
      "8\n",
      "[[2, 2], [2, 7], [1, 7], [1, 8], [1, 8]]\n",
      "[2, 7, 1, 8, 3]\n",
      "1\n",
      "8\n",
      "3\n",
      "[[2, 2], [2, 7], [1, 7], [1, 8], [1, 8], [1, 9]]\n",
      "[2, 7, 1, 8, 3, 9]\n",
      "1\n",
      "9\n",
      "9\n",
      "9\n",
      "1\n",
      "8\n",
      "3\n",
      "3\n",
      "1\n",
      "8\n",
      "8\n",
      "8\n",
      "\n",
      "<__main__.MinMaxStack object at 0x000001A13B503C88>\n",
      "\n",
      "1\n",
      "7\n",
      "1\n",
      "1\n"
     ]
    }
   ],
   "source": [
    "# Feel free to add new properties and methods to the class.\n",
    "class MinMaxStack:\n",
    "    def __init__(self):\n",
    "        self.mMstack = []\n",
    "        self.stack = []\n",
    "    def peek(self):\n",
    "        if self.stack:\n",
    "            return self.stack[-1]\n",
    "    def pop(self):\n",
    "        \"\"\"x = self.stack[-1]\n",
    "        if self.stack and self.mMstack:\n",
    "            if self.mMstack[-1][0] == self.stack[-1] or self.mMstack[-1][1] == self.stack[-1]:\n",
    "                self.mMstack.pop()\n",
    "                self.stack.pop()\n",
    "            else:\n",
    "                return self.stack.pop()\n",
    "            return x\"\"\"\n",
    "        self.mMstack.pop()\n",
    "        return self.stack.pop()\n",
    "        \n",
    "    def push(self, number):\n",
    "        self.stack.append(number)\n",
    "        minmax = [number, number]\n",
    "        if self.mMstack:\n",
    "            minmax[0] = min(self.mMstack[-1][0], number)\n",
    "            minmax[1] = max(self.mMstack[-1][1], number)\n",
    "        self.mMstack.append(minmax)\n",
    "        print(self.mMstack)\n",
    "        print(self.stack)\n",
    "        \n",
    "    def getMin(self):\n",
    "        if len(self.mMstack) > 0:\n",
    "            return self.mMstack[-1][0]\n",
    "    def getMax(self):\n",
    "        if self.mMstack:\n",
    "            return self.mMstack[-1][1]\n",
    "        \n",
    "st =MinMaxStack()\n",
    "st.push(2)\n",
    "print(st.getMin())\n",
    "print(st.getMax())\n",
    "print(st.peek())\n",
    "st.push(7)\n",
    "print(st)\n",
    "print(st.getMin())\n",
    "print(st.getMax())\n",
    "print(st.peek())\n",
    "st.push(1)\n",
    "print(st)\n",
    "print(st.getMin())\n",
    "print(st.getMax())\n",
    "print(st.peek())\n",
    "st.push(8)\n",
    "print(st.getMin())\n",
    "print(st.getMax())\n",
    "print(st.peek())\n",
    "st.push(3)\n",
    "print(st.getMin())\n",
    "print(st.getMax())\n",
    "print(st.peek())\n",
    "st.push(9)\n",
    "print(st.getMin())\n",
    "print(st.getMax())\n",
    "print(st.peek())\n",
    "print(st.pop())\n",
    "print(st.getMin())\n",
    "print(st.getMax())\n",
    "print(st.peek())\n",
    "print(st.pop())\n",
    "print(st.getMin())\n",
    "print(st.getMax())\n",
    "print(st.peek())\n",
    "print(st.pop())\n",
    "print()\n",
    "print(st)\n",
    "print()\n",
    "print(st.getMin())\n",
    "print(st.getMax())\n",
    "print(st.peek())\n",
    "print(st.pop())\n",
    "\n",
    "\n"
   ]
  },
  {
   "cell_type": "code",
   "execution_count": 21,
   "metadata": {},
   "outputs": [
    {
     "name": "stdout",
     "output_type": "stream",
     "text": [
      "['']\n"
     ]
    },
    {
     "data": {
      "text/plain": [
       "'/'"
      ]
     },
     "execution_count": 21,
     "metadata": {},
     "output_type": "execute_result"
    }
   ],
   "source": [
    "def shorten_path(string):\n",
    "    first_char = string[0]\n",
    "    \n",
    "    tokens = filter(isImp, string.split(\"/\"))\n",
    "    stack = []\n",
    "    if first_char == '/':\n",
    "        stack.append(\"\")\n",
    "    \n",
    "    for i in tokens:\n",
    "        if i ==\"..\":\n",
    "            # case 1\n",
    "            if stack and (stack[-1] != \"..\" and stack[-1] != \"\"):\n",
    "                stack.pop()\n",
    "            elif stack and stack[-1] == \"\":\n",
    "                continue\n",
    "            elif stack or stack[-1] == \"..\":\n",
    "                stack.append(i)\n",
    "        else:\n",
    "            stack.append(i) # dir names\n",
    "            \n",
    "    print(stack)\n",
    "            \n",
    "    if len(stack) == 1 and stack[0] ==\"\":\n",
    "        return '/'\n",
    "    return \"/\".join(stack)\n",
    "            \n",
    "         \n",
    "def isImp(token):# empty tokens (\"\" after filtering \"/\" will become \"\"), single dots --> '.'\n",
    "    if len(token)>0 and token != '.':\n",
    "        return True\n",
    "    return False\n",
    "        \n",
    "    \n",
    "s = \"/home/foo/.ssh/../.ssh2/authorized_keys/\"\n",
    "s1 = \"/../\"\n",
    "shorten_path(s1)"
   ]
  },
  {
   "cell_type": "code",
   "execution_count": 10,
   "metadata": {},
   "outputs": [
    {
     "data": {
      "text/plain": [
       "[1, 2, 3, 1]"
      ]
     },
     "execution_count": 10,
     "metadata": {},
     "output_type": "execute_result"
    }
   ],
   "source": [
    "def distributeCandies(candies: int, num_people):\n",
    "    res = [0]*num_people\n",
    "    i = 0\n",
    "    c = 1\n",
    "    while candies > 0:\n",
    "        res[i] += min(c, candies)\n",
    "        candies -= c\n",
    "        c+=1\n",
    "        i+=1\n",
    "        if i == len(res):\n",
    "            i = 0\n",
    "    return res\n",
    "            \n",
    "c = 7\n",
    "n = 4\n",
    "distributeCandies(c, n)"
   ]
  },
  {
   "cell_type": "code",
   "execution_count": 11,
   "metadata": {},
   "outputs": [
    {
     "data": {
      "text/plain": [
       "[6, 7, 3, 4]"
      ]
     },
     "execution_count": 11,
     "metadata": {},
     "output_type": "execute_result"
    }
   ],
   "source": [
    "def distributeCandies(candies: int, num_people):\n",
    "    res = [0]*num_people\n",
    "    i = 0\n",
    "    c = 1\n",
    "    s = 0\n",
    "    while candies > 0:\n",
    "        if (candies - s) > c:\n",
    "            res[i]+=c\n",
    "        else:\n",
    "            res[i]+=(candies-s)\n",
    "        s+=c\n",
    "        if s>candies: break\n",
    "        c+=1\n",
    "        i+=1\n",
    "        if i == len(res):\n",
    "            i = 0\n",
    "        \n",
    "    return res\n",
    "c = 20\n",
    "n = 4\n",
    "distributeCandies(c, n)"
   ]
  },
  {
   "cell_type": "code",
   "execution_count": 1,
   "metadata": {},
   "outputs": [
    {
     "data": {
      "text/plain": [
       "36"
      ]
     },
     "execution_count": 1,
     "metadata": {},
     "output_type": "execute_result"
    }
   ],
   "source": [
    "36//1\n"
   ]
  }
 ],
 "metadata": {
  "kernelspec": {
   "display_name": "Python 3",
   "language": "python",
   "name": "python3"
  },
  "language_info": {
   "codemirror_mode": {
    "name": "ipython",
    "version": 3
   },
   "file_extension": ".py",
   "mimetype": "text/x-python",
   "name": "python",
   "nbconvert_exporter": "python",
   "pygments_lexer": "ipython3",
   "version": "3.7.0"
  }
 },
 "nbformat": 4,
 "nbformat_minor": 2
}
