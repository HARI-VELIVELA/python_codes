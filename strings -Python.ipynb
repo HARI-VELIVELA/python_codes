{
 "cells": [
  {
   "cell_type": "code",
   "execution_count": 1,
   "metadata": {},
   "outputs": [
    {
     "data": {
      "text/plain": [
       "'janu'"
      ]
     },
     "execution_count": 1,
     "metadata": {},
     "output_type": "execute_result"
    }
   ],
   "source": [
    "#string reversal:\n",
    "\n",
    "# 1. with Recursion:\n",
    "\n",
    "def reverse(string):\n",
    "    if len(string) == 0:\n",
    "        return string\n",
    "    else:\n",
    "        return reverse(string[1:])+ string[0]\n",
    "\n",
    "    \n",
    "    \n",
    "s = \"unaj\"\n",
    "reverse(s)\n",
    "    "
   ]
  },
  {
   "cell_type": "code",
   "execution_count": 2,
   "metadata": {},
   "outputs": [
    {
     "data": {
      "text/plain": [
       "[9, 5, 3, 2, 1]"
      ]
     },
     "execution_count": 2,
     "metadata": {},
     "output_type": "execute_result"
    }
   ],
   "source": [
    "# list reversal --- with recursion\n",
    "def reverse_list(elems): \n",
    "    new_list = [] \n",
    "    for i in range(len(elems)):\n",
    "        new_list.append(elems[len(elems)-i-1])\n",
    "    \n",
    "    return new_list\n",
    "\n",
    "k = [1,2,3,5,9]\n",
    "reverse_list(k)\n"
   ]
  },
  {
   "cell_type": "code",
   "execution_count": 4,
   "metadata": {},
   "outputs": [
    {
     "name": "stdout",
     "output_type": "stream",
     "text": [
      "5\n",
      "55\n",
      "False\n",
      "False\n",
      "True\n",
      "True\n",
      "hari velivela\n",
      "I AM HARI AND I AM A BAD BOY AND HARI LOVES MOVIES BUT HARI LOVES IS UNCLE ALOT\n",
      "hARI nAGA rAJU vELIvELA\n",
      "How Can Mirrors Be Real If Our Eyes Aren'T Real\n"
     ]
    }
   ],
   "source": [
    "str1 = \"hari\"\n",
    "str2 = \"i am hari and i am a bad boy and hari loves movies but hari loves is uncle alot\"\n",
    "str3 = \"HARI VELIVELA\"\n",
    "\n",
    "str4 = \"Hari Naga Raju VeliVela\"\n",
    "\n",
    "str5 = \"How can mirrors be real if our eyes aren't real\"\n",
    "print(str2.find(str1))\n",
    "print(str2.rfind(str1))\n",
    "\n",
    "print(str2.startswith(str1))\n",
    "print(str2.endswith(str1))\n",
    "\n",
    "print(str2.islower())\n",
    "\n",
    "print(str3.isupper())\n",
    "\n",
    "print(str3.lower())\n",
    "\n",
    "print(str2.upper())\n",
    "\n",
    "print(str4.swapcase())\n",
    "\n",
    "print(str5.title())\n"
   ]
  },
  {
   "cell_type": "code",
   "execution_count": 42,
   "metadata": {},
   "outputs": [
    {
     "name": "stdout",
     "output_type": "stream",
     "text": [
      "a ['a', 'a', 'a', 'a']\n",
      "n ['n', 'n', 'n']\n",
      "b ['b', 'b']\n",
      "n ['n', 'n']\n",
      "c ['c', 'c']\n",
      "v ['v']\n",
      "s ['s']\n",
      "v ['v']\n",
      "f ['f']\n",
      "g ['g', 'g', 'g']\n",
      "h ['h']\n",
      "['a', 'n', 'b', 'n', 'c', 'v', 's', 'v', 'f', 'g', 'h']\n",
      "anbncvsvfgh\n"
     ]
    }
   ],
   "source": [
    "# python program to remove all consecutive duplicates in a string\n",
    "\n",
    "import itertools\n",
    "str1 = \"aaaannnbbnnccvsvfgggh\"\n",
    "result  = []\n",
    "for (key,group) in itertools.groupby(str1):\n",
    "    result.append(key)\n",
    "    print(key,list(group))\n",
    "\n",
    "print(result)\n",
    "print(''.join(result))"
   ]
  },
  {
   "cell_type": "code",
   "execution_count": 11,
   "metadata": {},
   "outputs": [
    {
     "name": "stdout",
     "output_type": "stream",
     "text": [
      "['How', 'can', 'mirrors', 'be', 'real', 'if', 'our', 'eyes', \"aren't\", 'real']\n"
     ]
    },
    {
     "data": {
      "text/plain": [
       "\"How Can Mirrors Be Real If Our Eyes Aren't Real\""
      ]
     },
     "execution_count": 11,
     "metadata": {},
     "output_type": "execute_result"
    }
   ],
   "source": [
    "def function(string):\n",
    "    string = list(string.split(\" \"))\n",
    "    for i in range(len(string)):\n",
    "        string[i] = string[i].capitalize()\n",
    "    res = \"\"\n",
    "    for i in string:\n",
    "        res+=\" \"+i\n",
    "    return res.strip()\n",
    "s = \"How can mirrors be real if our eyes aren't real\"\n",
    "function(s)"
   ]
  },
  {
   "cell_type": "code",
   "execution_count": 15,
   "metadata": {},
   "outputs": [
    {
     "data": {
      "text/plain": [
       "'Hari Naga Raju'"
      ]
     },
     "execution_count": 15,
     "metadata": {},
     "output_type": "execute_result"
    }
   ],
   "source": [
    "import string\n",
    "string.capwords(\"hari naga raju\")"
   ]
  },
  {
   "cell_type": "code",
   "execution_count": 44,
   "metadata": {},
   "outputs": [
    {
     "name": "stdout",
     "output_type": "stream",
     "text": [
      "[1, 2, 5, 6, 9, 8, 1, 2, 3]\n"
     ]
    }
   ],
   "source": [
    "# remove the consecutive duplicates from list\n",
    "\n",
    "import itertools\n",
    "arr = [1,1,2,2,2,5,5,6,6,9,9,9,9,8,8,1,1,2,2,3,3]\n",
    "res = [i[0] for i in itertools.groupby(arr)]\n",
    "print(res)"
   ]
  },
  {
   "cell_type": "code",
   "execution_count": 37,
   "metadata": {},
   "outputs": [
    {
     "data": {
      "text/plain": [
       "[1, 2, 3, 5, 6, 9, 4, 23]"
      ]
     },
     "execution_count": 37,
     "metadata": {},
     "output_type": "execute_result"
    }
   ],
   "source": [
    "# remove the duplicates from list\n",
    "\n",
    "def removeDuplicates(arr):\n",
    "    result = []\n",
    "    for i in arr:\n",
    "        if i not in result:\n",
    "            result.append(i)\n",
    "    return result\n",
    "\n",
    "arr = [1,2,3,5,6,5,6,9,4,1,23,5]\n",
    "removeDuplicates(arr)\n",
    "    "
   ]
  },
  {
   "cell_type": "code",
   "execution_count": 51,
   "metadata": {},
   "outputs": [
    {
     "name": "stdout",
     "output_type": "stream",
     "text": [
      "Enetr the user refference Id123456789101\n"
     ]
    },
    {
     "data": {
      "text/plain": [
       "False"
      ]
     },
     "execution_count": 51,
     "metadata": {},
     "output_type": "execute_result"
    }
   ],
   "source": [
    "input_Refference_Id = str(input(\"Enetr the user refference Id\"))\n",
    "\n",
    "def check_valid(string1):\n",
    "    letters = list(\"abcdefghijklmnopqrstuvwxyzABCDEFGHIJKLMNOPQRSTUVWXYZ\")\n",
    "    numbers =list(\"0123456789\")\n",
    "    if len(string1) == 12:\n",
    "        for i in string1:\n",
    "            if i in letters and i in numbers:\n",
    "                return True\n",
    "        else:\n",
    "            return False\n",
    "    else:\n",
    "        return False\n",
    "check_valid(input_Refference_Id)\n",
    "\n",
    "\n",
    "\"\"\" OR we can check the validity using .alnum() inbuilt method\n",
    "\n",
    "input_Refference_Id = str(input(\"Enetr the user refference Id\"))\n",
    "def check_valid(string1):\n",
    "    if len(string1) == 12:\n",
    "        if string1.isalnum() == True:\n",
    "            print(\"refference Id is valid\")\n",
    "    else:\n",
    "        Print(\"Not Valid\")\n",
    "check_valid(input_Refference_Id)\n",
    "\n",
    "\"\"\"\n"
   ]
  },
  {
   "cell_type": "code",
   "execution_count": 5,
   "metadata": {},
   "outputs": [
    {
     "name": "stdout",
     "output_type": "stream",
     "text": [
      "{'f': 1, 'r': 1, 'i': 1, 'e': 1, 'n': 1, 'd': 1} {'f': 1, 'a': 1, 'm': 1, 'i': 1, 'l': 1, 'y': 1}\n"
     ]
    },
    {
     "data": {
      "text/plain": [
       "4"
      ]
     },
     "execution_count": 5,
     "metadata": {},
     "output_type": "execute_result"
    }
   ],
   "source": [
    "#leetcode:1347\n",
    "def function(s,t):\n",
    "    d1, d2 = {},{}\n",
    "    for i in s:\n",
    "        if i in d1:\n",
    "            d1[i]+=1\n",
    "        else:\n",
    "            d1[i]=1\n",
    "    for i in t:\n",
    "        if i in d2:\n",
    "            d2[i] += 1\n",
    "        else:\n",
    "            d2[i] = 1\n",
    "    count = 0\n",
    "    for i in d1:\n",
    "        if i in d2:\n",
    "            if d1[i]>d2[i]:\n",
    "                count+=(d1[i]-d2[i])\n",
    "        else:\n",
    "            count+=d1[i]\n",
    "    return count\n",
    "s = \"friend\"\n",
    "t = \"family\"\n",
    "function(s,t)"
   ]
  },
  {
   "cell_type": "code",
   "execution_count": 22,
   "metadata": {},
   "outputs": [
    {
     "data": {
      "text/plain": [
       "['abab', 'dede']"
      ]
     },
     "execution_count": 22,
     "metadata": {},
     "output_type": "execute_result"
    }
   ],
   "source": [
    "# leetcode 890:************************************observe the solutions also***************\n",
    "def function(pattern, words):\n",
    "    res = []\n",
    "    pattern_dict = {}\n",
    "    pattern_sum = 0\n",
    "    for i in pattern:\n",
    "        if i not in pattern_dict:\n",
    "            pattern_dict[i] = len(pattern_dict)+1\n",
    "    pattern_cmp = \"\"\n",
    "    for i in pattern:\n",
    "        pattern_cmp+=str(pattern_dict[i])\n",
    "        \n",
    "    for word in words:\n",
    "        if len(set(word)) == len(set(pattern)):\n",
    "            if pattern_match(pattern_cmp, word):\n",
    "                res.append(word)\n",
    "    return res\n",
    "def pattern_match(pattern_cmp, word):\n",
    "    w1 = {}\n",
    "    for i in word:\n",
    "        if i not in w1:\n",
    "            w1[i] = len(w1)+1\n",
    "    w_sum = \"\"\n",
    "    for i in word:\n",
    "        w_sum+=str(w1[i])\n",
    "    return pattern_cmp==w_sum\n",
    "w = [\"badc\",\"abab\",\"dddd\",\"dede\",\"yyxx\"]\n",
    "\n",
    "p = \"baba\"\n",
    "        \n",
    "function(p, w)"
   ]
  },
  {
   "cell_type": "code",
   "execution_count": 72,
   "metadata": {},
   "outputs": [
    {
     "name": "stdout",
     "output_type": "stream",
     "text": [
      "1 0 -1 0\n"
     ]
    },
    {
     "data": {
      "text/plain": [
       "'0+0i'"
      ]
     },
     "execution_count": 72,
     "metadata": {},
     "output_type": "execute_result"
    }
   ],
   "source": [
    "# leetcode 537:Multiplication of complext numbers\n",
    "def function(a,b):\n",
    "    x = a.split(\"+\")\n",
    "    y = b.split(\"+\")\n",
    "    a_real, a_img = x[0],x[1]\n",
    "    b_real, b_img = y[0],y[1]\n",
    "    print(a_real, b_real, a_img[:-1],b_img[:-1])\n",
    "    prod_real = (int(a_real) * int(b_real)) - (int(a_img[:-1]) * int(b_img[:-1]))\n",
    "    prod_comp = (int(a_real) * int(b_img[:-1])) + (int(a_img[:-1]) * int(b_real))\n",
    "    return str(prod_real) + \"+\" + str(prod_comp) + \"i\"\n",
    "function(\"1+-1i\",\"0+0i\")\n"
   ]
  },
  {
   "cell_type": "code",
   "execution_count": 100,
   "metadata": {},
   "outputs": [
    {
     "name": "stdout",
     "output_type": "stream",
     "text": [
      "['b', 'c', 'c', 'd', 'e', 'f', 'f', 'f', 'g', 'g', 'h', 'i', 'i', 'j', 'j', 'j', 'k', 'l', 'l', 'm', 'n', 'n', 'o', 'q', 'q', 'q', 'r', 'r', 's', 't', 't', 't', 'u', 'u', 'u', 'w', 'w', 'w', 'x', 'x', 'y', 'y', 'z']\n"
     ]
    },
    {
     "data": {
      "text/plain": [
       "True"
      ]
     },
     "execution_count": 100,
     "metadata": {},
     "output_type": "execute_result"
    }
   ],
   "source": [
    "# leetcode 1433 :\n",
    "def function(s1, s2):\n",
    "    s1 = sorted(s1)\n",
    "    s2 = sorted(s2)\n",
    "    end1, end2 = len(s1)-1,len(s2)-1\n",
    "    while end1==end2:\n",
    "        if s1[end1]>s2[end2]:\n",
    "            max_string = s1\n",
    "            break\n",
    "        elif s1[end1]==s2[end2]:\n",
    "            end1-=1\n",
    "            end2-=1\n",
    "        else:\n",
    "            max_string = s2\n",
    "            break\n",
    "    flag = True\n",
    "    print(max_string)\n",
    "    if max_string == s1:\n",
    "        for i, j in zip(s1, s2):\n",
    "            if i<j:\n",
    "                flag = False\n",
    "                break\n",
    "            else:\n",
    "                flag = True\n",
    "    if max_string == s2:\n",
    "        for i, j in zip(s2,s1):\n",
    "            if i < j:\n",
    "                flag = False\n",
    "                break\n",
    "            else:\n",
    "                flag = True\n",
    "    return flag\n",
    "\n",
    "s1 = \"pazunsabwlseseeiimsmftchpafqkquovuxhhkpvphw\"\n",
    "s2 = \"nkrtxuiuhbcyqulfqyzgjjwjrlfwwxotcdtqsmfeing\"\n",
    "function(s1,s2)\n",
    "        \n",
    "    "
   ]
  },
  {
   "cell_type": "code",
   "execution_count": 148,
   "metadata": {},
   "outputs": [
    {
     "data": {
      "text/plain": [
       "True"
      ]
     },
     "execution_count": 148,
     "metadata": {},
     "output_type": "execute_result"
    }
   ],
   "source": [
    "# leetcode: 680: Valid Palindrome 2\n",
    "def function(string):\n",
    "    start = 0\n",
    "    end = len(string)-1\n",
    "    count = 0\n",
    "    while not count==1 and start<=end:\n",
    "        if start==end:\n",
    "            return True\n",
    "        if string[start]==string[end]:\n",
    "            start+=1\n",
    "            end -= 1\n",
    "        else:\n",
    "            count+=1\n",
    "            if is_palindrome(string[:start]+string[start+1:]):\n",
    "                return True\n",
    "\n",
    "            if is_palindrome(string[:end]+string[end+1:]):\n",
    "                return True\n",
    "            return False\n",
    "    return True\n",
    "    \n",
    "def is_palindrome(string):\n",
    "    return string==string[::-1]\n",
    "            \n",
    "function(\"acba\")\n",
    "    "
   ]
  },
  {
   "cell_type": "code",
   "execution_count": 163,
   "metadata": {},
   "outputs": [
    {
     "name": "stdout",
     "output_type": "stream",
     "text": [
      "Race a Car\n"
     ]
    },
    {
     "data": {
      "text/plain": [
       "False"
      ]
     },
     "execution_count": 163,
     "metadata": {},
     "output_type": "execute_result"
    }
   ],
   "source": [
    "# leetcode 125: Valid Palindrome:\n",
    "def function(text):\n",
    "    text = text.lower()\n",
    "    print(text)\n",
    "    res = \"\"\n",
    "    for i in text:\n",
    "        if i.isalnum():\n",
    "            res+=i\n",
    "    return res==res[::-1]\n",
    "function(\"Race a Car\")\n",
    "    "
   ]
  },
  {
   "cell_type": "code",
   "execution_count": 16,
   "metadata": {},
   "outputs": [
    {
     "data": {
      "text/plain": [
       "'abcdefghijklmnopqrstuvwxyz'"
      ]
     },
     "execution_count": 16,
     "metadata": {},
     "output_type": "execute_result"
    }
   ],
   "source": [
    "# leetcode 1309\n",
    "def function(string):\n",
    "    end = len(string)-1\n",
    "    alphabets =list(\"abcdefghijklmnopqrstuvwxyz\")\n",
    "    res = []\n",
    "    while end>=0:\n",
    "        if string[end] == '#':\n",
    "            res.append(alphabets[int(string[end-2:end])-1])\n",
    "            end-=3\n",
    "        else:\n",
    "            res.append(alphabets[int(string[end])-1])\n",
    "            end-=1\n",
    "    return \"\".join(res[::-1])\n",
    "    \n",
    "function(\"12345678910#11#12#13#14#15#16#17#18#19#20#21#22#23#24#25#26#\")        \n",
    "        \n",
    "        "
   ]
  },
  {
   "cell_type": "code",
   "execution_count": 86,
   "metadata": {},
   "outputs": [
    {
     "data": {
      "text/plain": [
       "2"
      ]
     },
     "execution_count": 86,
     "metadata": {},
     "output_type": "execute_result"
    }
   ],
   "source": [
    "# leetcoe: 804\n",
    "\n",
    "def function(words):\n",
    "    result = []\n",
    "    for word in words:\n",
    "        result.append(get_transform(word))\n",
    "    return len(set(result))\n",
    "    \n",
    "def get_transform(word):\n",
    "    code = [\".-\",\"-...\",\"-.-.\",\"-..\",\".\",\"..-.\",\"--.\",\"....\",\"..\",\".---\",\"-.-\",\".-..\",\n",
    "           \"--\",\"-.\",\"---\",\".--.\",\"--.-\",\".-.\",\"...\",\"-\",\"..-\",\"...-\",\".--\",\"-..-\",\"-.--\",\"--..\"]\n",
    "    alphabets =list(\"abcdefghijklmnopqrstuvwxyz\")\n",
    "    alpha_dict = {}\n",
    "    res = \"\"\n",
    "    for i in alphabets:\n",
    "        if i not in alpha_dict:\n",
    "            alpha_dict[i] = len(alpha_dict)+1\n",
    "    for char in word:\n",
    "        res+=code[alpha_dict[char]-1]\n",
    "    return res    \n",
    "    \n",
    "words = [\"gin\", \"zen\", \"gig\", \"msg\"]\n",
    "function(words)\n",
    "      "
   ]
  },
  {
   "cell_type": "code",
   "execution_count": 41,
   "metadata": {},
   "outputs": [
    {
     "data": {
      "text/plain": [
       "'a'"
      ]
     },
     "execution_count": 41,
     "metadata": {},
     "output_type": "execute_result"
    }
   ],
   "source": [
    "# leetcode 14:\n",
    "def function(words):\n",
    "    if len(words)==0:\n",
    "        return \"\"\n",
    "    prefix = words[0]\n",
    "    for i in range(1, len(words)):\n",
    "        prefix = find_common(prefix, words[i])\n",
    "    return prefix\n",
    "def find_common(word1, word2):\n",
    "    p1, p2 = 0,0\n",
    "    res=\"\"\n",
    "    while p1<min(len(word1), len(word2)):\n",
    "        if word1[p1]==word2[p2]:\n",
    "            res+=word1[p1]\n",
    "            p1+=1\n",
    "            p2+=1\n",
    "        else:\n",
    "            break\n",
    "    return res\n",
    "\n",
    "#####################################################################################\n",
    "def function2(words):\n",
    "    if len(words) == 0: return \"\"\n",
    "    prefix = words[0]\n",
    "    for i in range(1,len(words)):\n",
    "        while words[i].startswith(prefix) ==False:\n",
    "            prefix = prefix[0:len(prefix)-1]\n",
    "    return prefix\n",
    "#####################################################################################\n",
    "def function3(words):\n",
    "    if len(words) == 0: return \"\"\n",
    "    result = \"\"\n",
    "    idx = 0\n",
    "    for c in words[0]:\n",
    "        for i in range(1, len(words)):\n",
    "            if idx>=len(words[i]) or c!= words[i][idx]:\n",
    "                return result\n",
    "        result+=c\n",
    "        idx+=1\n",
    "    return result\n",
    "words1  = [\"aa\",\"a\"]\n",
    "words2 = [\"flower\",\"flow\",\"flight\"]\n",
    "function2(words1)\n",
    "        "
   ]
  },
  {
   "cell_type": "code",
   "execution_count": 53,
   "metadata": {},
   "outputs": [
    {
     "name": "stdout",
     "output_type": "stream",
     "text": [
      "3\n"
     ]
    },
    {
     "data": {
      "text/plain": [
       "3"
      ]
     },
     "execution_count": 53,
     "metadata": {},
     "output_type": "execute_result"
    }
   ],
   "source": [
    "# leetcode 686: Repeated string match:\n",
    "def function1(A, B):\n",
    "    count=1\n",
    "    temp = A\n",
    "    for i in range(len(B)):\n",
    "        if B in temp:\n",
    "            return count\n",
    "        else:\n",
    "            temp+=A\n",
    "            count+=1\n",
    "    return -1\n",
    "def function2(A,B):\n",
    "    b = len(B)//len(A)+1\n",
    "    print(b)\n",
    "    for i in range(1, b+2):\n",
    "        if B in i*A:\n",
    "            return i\n",
    "    return -1\n",
    "            \n",
    "    \n",
    "function2(\"abcd\", \"bcdabcdabc\")"
   ]
  },
  {
   "cell_type": "code",
   "execution_count": 11,
   "metadata": {},
   "outputs": [
    {
     "data": {
      "text/plain": [
       "1"
      ]
     },
     "execution_count": 11,
     "metadata": {},
     "output_type": "execute_result"
    }
   ],
   "source": [
    "def function(s):\n",
    "    p=0\n",
    "    max_val = 0\n",
    "    while p<=len(s)-2:\n",
    "        max_val = max(max_val, s[0:p+1].count(str(0))+s[p+1:].count(str(1)))\n",
    "        p+=1\n",
    "    return max_val\n",
    "s = \"00\"\n",
    "function(s)"
   ]
  },
  {
   "cell_type": "code",
   "execution_count": 56,
   "metadata": {},
   "outputs": [
    {
     "data": {
      "text/plain": [
       "5"
      ]
     },
     "execution_count": 56,
     "metadata": {},
     "output_type": "execute_result"
    }
   ],
   "source": [
    "# leetcode: 1422\n",
    "def function(s):\n",
    "    max_val = 0\n",
    "    N0 = 1 if s[0]=='0' else 0\n",
    "    N1 = s[1:].count(str(1))\n",
    "    max_val = N0+N1\n",
    "    for i in range(1, len(s)-1):\n",
    "        if s[i]=='0':\n",
    "            N0+=1\n",
    "        else:\n",
    "            N1-=1\n",
    "        max_val = max(max_val, N0+N1)\n",
    "    return max_val\n",
    "\n",
    "s =  \"011101\"\n",
    "function(s)\n",
    "    \n",
    "        \n",
    "        "
   ]
  },
  {
   "cell_type": "code",
   "execution_count": 86,
   "metadata": {},
   "outputs": [
    {
     "data": {
      "text/plain": [
       "92"
      ]
     },
     "execution_count": 86,
     "metadata": {},
     "output_type": "execute_result"
    }
   ],
   "source": [
    "# Leetcode 13:\n",
    "def roman_to_int(s):\n",
    "    total=0\n",
    "    roman_dict=  {'I':1, 'V':5,'X':10, 'L':50, 'C':100, 'D':500, 'M':1000}\n",
    "    total+=roman_dict[s[0]]\n",
    "    for i in range(1, len(s)):\n",
    "        if roman_dict[s[i-1]] < roman_dict[s[i]]:\n",
    "            total+=roman_dict[s[i]]\n",
    "            total-=2*roman_dict[s[i-1]]\n",
    "        else:\n",
    "            total+=roman_dict[s[i]]\n",
    "        \n",
    "    return total\n",
    "roman_to_int(\"LXXXXII\")"
   ]
  },
  {
   "cell_type": "code",
   "execution_count": 69,
   "metadata": {},
   "outputs": [
    {
     "data": {
      "text/plain": [
       "['let1 art can',\n",
       " 'let3 art zero',\n",
       " 'let2 own kit dig',\n",
       " 'dig1 8 1 5 1',\n",
       " 'dig2 3 6']"
      ]
     },
     "execution_count": 69,
     "metadata": {},
     "output_type": "execute_result"
    }
   ],
   "source": [
    "# leetcode 937:\n",
    "def function(logs):\n",
    "    return sorted(logs, key = f1)\n",
    "def f1(log):\n",
    "    id_ , rest = log.split(\" \", 1)\n",
    "    return (0, rest,id_) if rest[0].isalpha() else (1,)\n",
    "\n",
    "logs = [\"dig1 8 1 5 1\",\"let1 art can\",\"dig2 3 6\",\"let2 own kit dig\",\"let3 art zero\"]\n",
    "f = \"dig1 art can\"\n",
    "function(logs)"
   ]
  },
  {
   "cell_type": "code",
   "execution_count": 1,
   "metadata": {},
   "outputs": [
    {
     "data": {
      "text/plain": [
       "'LVIII'"
      ]
     },
     "execution_count": 1,
     "metadata": {},
     "output_type": "execute_result"
    }
   ],
   "source": [
    "# leetcode 14:\n",
    "def intToRoman(num):\n",
    "    roman = ['M','CM','D','CD','C','XC','L','XL','X','IX','V','IV','I']\n",
    "    integers = [1000,900,500,400,100,90,50,40,10,9,5,4,1]\n",
    "    res = \"\"\n",
    "    i = 0\n",
    "    while num>0:\n",
    "        if num-integers[i]>=0:\n",
    "            res+=roman[i]\n",
    "            num-=integers[i]\n",
    "        else:\n",
    "            i+=1\n",
    "    return res\n",
    "intToRoman(58)\n",
    "         "
   ]
  },
  {
   "cell_type": "code",
   "execution_count": 38,
   "metadata": {},
   "outputs": [
    {
     "data": {
      "text/plain": [
       "True"
      ]
     },
     "execution_count": 38,
     "metadata": {},
     "output_type": "execute_result"
    }
   ],
   "source": [
    "# leetcode: 20\n",
    "def function(string):\n",
    "    stack = []\n",
    "    dict1 = {')':'(','}':'{',']':'['}\n",
    "    for char in string:\n",
    "        if char in dict1:\n",
    "            if len(stack)!=0:\n",
    "                top_element = stack.pop() \n",
    "            else:\n",
    "                return False\n",
    "            if dict1[char]!=top_element:\n",
    "                return False\n",
    "        else:\n",
    "            stack.append(char)\n",
    "    return not stack\n",
    "#function(\"{{(])[]}}\")\n",
    "function(\"([])\")"
   ]
  },
  {
   "cell_type": "code",
   "execution_count": null,
   "metadata": {},
   "outputs": [],
   "source": [
    "# leetcode 434\n",
    "def function(s):\n",
    "    return len(s.split(\" \"))\n",
    "\n",
    "function(\"Hello, My name i\")"
   ]
  },
  {
   "cell_type": "code",
   "execution_count": null,
   "metadata": {},
   "outputs": [],
   "source": [
    "# leetcode 551:\n",
    "def function(string):\n",
    "    if string.count('A')>1 or \"LLL\" in string:\n",
    "        return False\n",
    "    return False"
   ]
  },
  {
   "cell_type": "code",
   "execution_count": 56,
   "metadata": {},
   "outputs": [
    {
     "data": {
      "text/plain": [
       "['a1', 'b', 'b', 'b', 'b', 'b', 'b12']"
      ]
     },
     "execution_count": 56,
     "metadata": {},
     "output_type": "execute_result"
    }
   ],
   "source": [
    "def function(chars):\n",
    "    if len(chars) == len(set(chars)):\n",
    "        return len(chars)\n",
    "    else:\n",
    "        count = 1\n",
    "        char = chars[0]\n",
    "        for i in range(1,len(chars)):\n",
    "            if chars[i]== char:\n",
    "                count+=1\n",
    "            else:\n",
    "                chars[i-1] = char+str(count)\n",
    "                char = chars[i]\n",
    "                count = 1\n",
    "        chars[len(chars)-1] = char+str(count)\n",
    "        for i in chars:\n",
    "            if len(i)==1:\n",
    "                chars.remove(i)\n",
    "        return chars\n",
    "                \n",
    "chars = [\"a\",\"b\",\"b\",\"b\",\"b\",\"b\",\"b\",\"b\",\"b\",\"b\",\"b\",\"b\",\"b\"]\n",
    "function(chars)"
   ]
  },
  {
   "cell_type": "code",
   "execution_count": 70,
   "metadata": {},
   "outputs": [
    {
     "name": "stdout",
     "output_type": "stream",
     "text": [
      "{'a': 1, 'b': 1, 'c': 1, 'd': 1}\n"
     ]
    },
    {
     "data": {
      "text/plain": [
       "'cbad'"
      ]
     },
     "execution_count": 70,
     "metadata": {},
     "output_type": "execute_result"
    }
   ],
   "source": [
    "def function(S,T):\n",
    "    dict1 = {}\n",
    "    for i in T:\n",
    "        if i in dict1:\n",
    "            dict1[i]+=1\n",
    "        else:\n",
    "            dict1[i]=1\n",
    "    print(dict1)\n",
    "    res1 = \"\"\n",
    "    res2 = \"\"\n",
    "    for i in S:\n",
    "        if i in dict1:\n",
    "            res1+=dict1[i]*i\n",
    "            dict1[i] = 0\n",
    "    for i in dict1:\n",
    "        if dict1[i]!=0:\n",
    "            res2+=dict1[i]*i\n",
    "    return res1+res2\n",
    "\n",
    "function(\"cba\",\"abcd\")"
   ]
  },
  {
   "cell_type": "code",
   "execution_count": 71,
   "metadata": {},
   "outputs": [
    {
     "data": {
      "text/plain": [
       "'dcba'"
      ]
     },
     "execution_count": 71,
     "metadata": {},
     "output_type": "execute_result"
    }
   ],
   "source": [
    "def function(S,T):\n",
    "    res = sorted(T, key = lambda x: S.find(x))\n",
    "    return \"\".join(res)\n",
    "function(\"cba\",\"abcd\")"
   ]
  },
  {
   "cell_type": "code",
   "execution_count": 32,
   "metadata": {},
   "outputs": [
    {
     "data": {
      "text/plain": [
       "False"
      ]
     },
     "execution_count": 32,
     "metadata": {},
     "output_type": "execute_result"
    }
   ],
   "source": [
    "# leetcode 925:\n",
    "def long_pressed_name1(name, typed):\n",
    "    res1 = function(name)\n",
    "    res2 = function(typed)\n",
    "    if len(set(name))==len(set(typed)) and len(res1) == len(res2):\n",
    "        return all(k1==k2 and v1<=v2 for (k1,v1), (k2,v2) in zip(res1, res2))\n",
    "    else:\n",
    "        return False\n",
    "\n",
    "def function(name):\n",
    "    count=1\n",
    "    i = 0\n",
    "    res = []\n",
    "    while i<len(name)-1:\n",
    "        if name[i]==name[i+1]:\n",
    "            count+=1\n",
    "            i+=1\n",
    "        else:\n",
    "            res.append((name[i],count))\n",
    "            count = 1\n",
    "            i+=1\n",
    "    res.append((name[i],count))\n",
    "    print(res)\n",
    "    return res\n",
    "#####################*********************************revised********************\n",
    "def long_pressed_name2(name, typed):\n",
    "    j = 0\n",
    "    for c in name:\n",
    "        if j==len(typed):\n",
    "            return False\n",
    "        if typed[j] !=c:\n",
    "            if j==0 or (typed[j-1] != typed[j]):\n",
    "                return False\n",
    "            temp = typed[j]\n",
    "            while j<len(typed) and typed[j]==temp:\n",
    "                j+=1\n",
    "            if j == len(typed) or typed[j] != c:\n",
    "                return False  \n",
    "        j+=1\n",
    "    return True\n",
    "            \n",
    "\n",
    "name = \"kikcxmvzi\"\n",
    "typed = \"kiikcxxmmvvzz\"\n",
    "#function(name)\n",
    "long_pressed_name2(name, typed)"
   ]
  },
  {
   "cell_type": "code",
   "execution_count": 49,
   "metadata": {},
   "outputs": [
    {
     "data": {
      "text/plain": [
       "12"
      ]
     },
     "execution_count": 49,
     "metadata": {},
     "output_type": "execute_result"
    }
   ],
   "source": [
    "# leetcode 647:################################################ do it again #########################\n",
    "def palindrome_count(string):\n",
    "    count = 0\n",
    "    matrix = [[0 for i in range(len(string))] for i in range(len(string))]\n",
    "    for i in range(len(string)):\n",
    "        matrix[i][i] = 1\n",
    "        count+=1\n",
    "    for col in range(1, len(matrix)):\n",
    "         for row in range(col):\n",
    "            if row==col-1 and string[col]==string[row]:\n",
    "                matrix[row][col] = 1\n",
    "                count+=1\n",
    "            elif matrix[row+1][col-1]==1 and string[col]==string[row]:\n",
    "                matrix[row][col] = 1\n",
    "                count+=1\n",
    "    return count\n",
    "\n",
    "word = \"abadaba\"\n",
    "palindrome_count(word)"
   ]
  },
  {
   "cell_type": "code",
   "execution_count": 90,
   "metadata": {},
   "outputs": [
    {
     "data": {
      "text/plain": [
       "'leotcede'"
      ]
     },
     "execution_count": 90,
     "metadata": {},
     "output_type": "execute_result"
    }
   ],
   "source": [
    "# leetcode 345:\n",
    "def function(s):\n",
    "    vowels = \"aeiouAEIOU\"\n",
    "    p1 = 0\n",
    "    p2 = len(s)-1\n",
    "    s = list(s)\n",
    "    while p1<p2:\n",
    "        if s[p1] not in vowels:\n",
    "            p1+=1\n",
    "        if s[p2] not in vowels:\n",
    "            p2-=1\n",
    "        if s[p1] in vowels and s[p2] in vowels:\n",
    "            temp = s[p1]\n",
    "            s[p1] = s[p2]\n",
    "            s[p2] = temp\n",
    "            p1+=1\n",
    "            p2-=1\n",
    "    return \"\".join(s)\n",
    "\n",
    "function(\"leetcode\")"
   ]
  },
  {
   "cell_type": "code",
   "execution_count": 6,
   "metadata": {},
   "outputs": [
    {
     "name": "stdout",
     "output_type": "stream",
     "text": [
      "{'a': 1, 'b': 1, 'c': 1, 'd': 1, 'e': 1}\n"
     ]
    },
    {
     "data": {
      "text/plain": [
       "'e'"
      ]
     },
     "execution_count": 6,
     "metadata": {},
     "output_type": "execute_result"
    }
   ],
   "source": [
    "def function(s,t):\n",
    "    dict1 = {}\n",
    "    res = \"\"\n",
    "    for i in t:\n",
    "        if i in dict1:\n",
    "            dict1[i]+=1\n",
    "        else:\n",
    "            dict1[i]=1\n",
    "    print(dict1)\n",
    "    for i in s:\n",
    "        if i in dict1:\n",
    "            dict1[i]-=1\n",
    "    for i in dict1:\n",
    "        if dict1[i]>=1:\n",
    "            res+=i\n",
    "    return res\n",
    "\n",
    "function(\"abcd\",\"abcde\")"
   ]
  },
  {
   "cell_type": "code",
   "execution_count": 13,
   "metadata": {},
   "outputs": [
    {
     "data": {
      "text/plain": [
       "[9, 4]"
      ]
     },
     "execution_count": 13,
     "metadata": {},
     "output_type": "execute_result"
    }
   ],
   "source": [
    "# leetcode 350:\n",
    "def function(nums1, nums2):\n",
    "    dict1 = {}\n",
    "    dict2= {}\n",
    "    res = []\n",
    "    for i in nums1:\n",
    "        if i in dict1:\n",
    "            dict1[i]+=1\n",
    "        else:\n",
    "            dict1[i]=1\n",
    "    for i in nums2:\n",
    "        if i in dict2:\n",
    "            dict2[i]+=1\n",
    "        else:\n",
    "            dict2[i]=1\n",
    "    common_elements = set(nums1).intersection(set(nums2))\n",
    "    for i in common_elements:\n",
    "        res+=[i]*min(dict1[i], dict2[i])\n",
    "    return res\n",
    "\n",
    "nums1 = [4,9,5]\n",
    "nums2 = [9,4,9,8,4]\n",
    "function(nums1, nums2)\n",
    "    "
   ]
  },
  {
   "cell_type": "code",
   "execution_count": 8,
   "metadata": {},
   "outputs": [
    {
     "data": {
      "text/plain": [
       "[4, 9, 5]"
      ]
     },
     "execution_count": 8,
     "metadata": {},
     "output_type": "execute_result"
    }
   ],
   "source": [
    "# leetcode 1300:\n",
    "def function(arr, target):\n",
    "    pass\n"
   ]
  },
  {
   "cell_type": "code",
   "execution_count": 12,
   "metadata": {},
   "outputs": [
    {
     "name": "stdout",
     "output_type": "stream",
     "text": [
      "['Fo', 'Ba']\n"
     ]
    }
   ],
   "source": [
    "word = \"FoBa\"\n",
    "result = ''.join(\" \"+ x if x.isupper() else x for x in pattern).strip(\" \").split(\" \")\n",
    "print(result)"
   ]
  },
  {
   "cell_type": "code",
   "execution_count": 63,
   "metadata": {},
   "outputs": [
    {
     "data": {
      "text/plain": [
       "False"
      ]
     },
     "execution_count": 63,
     "metadata": {},
     "output_type": "execute_result"
    }
   ],
   "source": [
    "# leetcode 205:\n",
    "def function(s,t):\n",
    "    if len(s)==len(t):\n",
    "        dict1 = {}\n",
    "        for i in range(len(s)):\n",
    "            if s[i] not in dict1:\n",
    "                dict1[s[i]] = t[i]\n",
    "        dict1 = {v:k for k, v in dict1.items()}\n",
    "        temp =\"\"\n",
    "        for i in t:\n",
    "            if i in dict1:\n",
    "                temp+=dict1[i]\n",
    "        return temp ==s\n",
    "    else:\n",
    "        return False\n",
    "            \n",
    "        \n",
    "function(\"foo\", \"bar\")"
   ]
  },
  {
   "cell_type": "code",
   "execution_count": 59,
   "metadata": {},
   "outputs": [
    {
     "name": "stdout",
     "output_type": "stream",
     "text": [
      "george\n"
     ]
    }
   ],
   "source": [
    "mydict = {'george': 16, 'amber': 19}\n",
    "print(list(mydict.keys())[list(mydict.values()).index(16)])"
   ]
  },
  {
   "cell_type": "code",
   "execution_count": 81,
   "metadata": {},
   "outputs": [
    {
     "ename": "IndexError",
     "evalue": "list index out of range",
     "output_type": "error",
     "traceback": [
      "\u001b[1;31m---------------------------------------------------------------------------\u001b[0m",
      "\u001b[1;31mIndexError\u001b[0m                                Traceback (most recent call last)",
      "\u001b[1;32m<ipython-input-81-7198f6196033>\u001b[0m in \u001b[0;36m<module>\u001b[1;34m()\u001b[0m\n\u001b[0;32m     15\u001b[0m             \u001b[1;32mreturn\u001b[0m \u001b[1;32mFalse\u001b[0m\u001b[1;33m\u001b[0m\u001b[0m\n\u001b[0;32m     16\u001b[0m     \u001b[1;32mreturn\u001b[0m \u001b[0mtemp\u001b[0m\u001b[1;33m==\u001b[0m\u001b[0mpattern\u001b[0m\u001b[1;33m\u001b[0m\u001b[0m\n\u001b[1;32m---> 17\u001b[1;33m \u001b[0mfunction\u001b[0m\u001b[1;33m(\u001b[0m\u001b[1;34m\"jquery\"\u001b[0m\u001b[1;33m,\u001b[0m\u001b[1;34m\"jquery\"\u001b[0m\u001b[1;33m)\u001b[0m\u001b[1;33m\u001b[0m\u001b[0m\n\u001b[0m\u001b[0;32m     18\u001b[0m \u001b[1;33m\u001b[0m\u001b[0m\n",
      "\u001b[1;32m<ipython-input-81-7198f6196033>\u001b[0m in \u001b[0;36mfunction\u001b[1;34m(pattern, string)\u001b[0m\n\u001b[0;32m      4\u001b[0m     \u001b[1;32mfor\u001b[0m \u001b[0mi\u001b[0m \u001b[1;32min\u001b[0m \u001b[0mrange\u001b[0m\u001b[1;33m(\u001b[0m\u001b[0mlen\u001b[0m\u001b[1;33m(\u001b[0m\u001b[0mpattern\u001b[0m\u001b[1;33m)\u001b[0m\u001b[1;33m)\u001b[0m\u001b[1;33m:\u001b[0m\u001b[1;33m\u001b[0m\u001b[0m\n\u001b[0;32m      5\u001b[0m         \u001b[1;32mif\u001b[0m \u001b[0mpattern\u001b[0m\u001b[1;33m[\u001b[0m\u001b[0mi\u001b[0m\u001b[1;33m]\u001b[0m \u001b[1;32mnot\u001b[0m \u001b[1;32min\u001b[0m \u001b[0mdict1\u001b[0m\u001b[1;33m:\u001b[0m\u001b[1;33m\u001b[0m\u001b[0m\n\u001b[1;32m----> 6\u001b[1;33m             \u001b[0mdict1\u001b[0m\u001b[1;33m[\u001b[0m\u001b[0mpattern\u001b[0m\u001b[1;33m[\u001b[0m\u001b[0mi\u001b[0m\u001b[1;33m]\u001b[0m\u001b[1;33m]\u001b[0m \u001b[1;33m=\u001b[0m \u001b[0mstring\u001b[0m\u001b[1;33m.\u001b[0m\u001b[0msplit\u001b[0m\u001b[1;33m(\u001b[0m\u001b[1;34m\" \"\u001b[0m\u001b[1;33m)\u001b[0m\u001b[1;33m[\u001b[0m\u001b[0mi\u001b[0m\u001b[1;33m]\u001b[0m\u001b[1;33m\u001b[0m\u001b[0m\n\u001b[0m\u001b[0;32m      7\u001b[0m     \u001b[0mprint\u001b[0m\u001b[1;33m(\u001b[0m\u001b[0mdict1\u001b[0m\u001b[1;33m)\u001b[0m\u001b[1;33m\u001b[0m\u001b[0m\n\u001b[0;32m      8\u001b[0m     \u001b[0mdict1\u001b[0m \u001b[1;33m=\u001b[0m \u001b[1;33m{\u001b[0m\u001b[0mv\u001b[0m\u001b[1;33m:\u001b[0m\u001b[0mk\u001b[0m \u001b[1;32mfor\u001b[0m \u001b[0mk\u001b[0m\u001b[1;33m,\u001b[0m \u001b[0mv\u001b[0m \u001b[1;32min\u001b[0m \u001b[0mdict1\u001b[0m\u001b[1;33m.\u001b[0m\u001b[0mitems\u001b[0m\u001b[1;33m(\u001b[0m\u001b[1;33m)\u001b[0m\u001b[1;33m}\u001b[0m\u001b[1;33m\u001b[0m\u001b[0m\n",
      "\u001b[1;31mIndexError\u001b[0m: list index out of range"
     ]
    }
   ],
   "source": [
    "# leetcode 290:\n",
    "def function(pattern, string):\n",
    "    dict1 = {}\n",
    "    for i in range(len(pattern)):\n",
    "        if pattern[i] not in dict1:\n",
    "            dict1[pattern[i]] = string.split(\" \")[i]\n",
    "    print(dict1)\n",
    "    dict1 = {v:k for k, v in dict1.items()}\n",
    "    print(dict1)\n",
    "    temp = \"\"\n",
    "    for i in string.split(\" \"):\n",
    "        if i in dict1:\n",
    "            temp+=dict1[i]\n",
    "        else:\n",
    "            return False\n",
    "    return temp==pattern\n",
    "function(\"jquery\",\"jquery\")\n",
    "                                    "
   ]
  },
  {
   "cell_type": "code",
   "execution_count": 93,
   "metadata": {},
   "outputs": [
    {
     "data": {
      "text/plain": [
       "[2, 3, 4, 5, 7, 9, 10, 11, 13, 17, 19, 25, 28, 29, 31, 33, 35, 41, 43]"
      ]
     },
     "execution_count": 93,
     "metadata": {},
     "output_type": "execute_result"
    }
   ],
   "source": [
    "# leetcode 970:   --> 0<=i,j<=log(bound)<19\n",
    "# 19 cuz 2^19 <= maximum Bound value(10^6)\n",
    "# time comlexity and space complexity -> O(log^2(bound))\n",
    "def powerful_num(x,y,bound):\n",
    "    s = set()\n",
    "    for i in range(20):\n",
    "        ans = x**i+y**0\n",
    "        if ans<=bound:\n",
    "            s.add(ans)\n",
    "    for j in range(20):\n",
    "        ans = x**0+y**j\n",
    "        if ans<=bound:\n",
    "            s.add(ans)\n",
    "    for i in range(20):\n",
    "        for j in range(20):\n",
    "            ans = x**i+y**j\n",
    "            if ans<=bound:\n",
    "                s.add(ans)\n",
    "    return list(s)\n",
    "        \n",
    "    \n",
    "powerful_num(3,2,50)"
   ]
  },
  {
   "cell_type": "code",
   "execution_count": 98,
   "metadata": {},
   "outputs": [
    {
     "data": {
      "text/plain": [
       "[2, 1]"
      ]
     },
     "execution_count": 98,
     "metadata": {},
     "output_type": "execute_result"
    }
   ],
   "source": [
    "# leetcode 645:\n",
    "def findErrorNums(nums):\n",
    "    max_num = len(nums)\n",
    "    n_sum = ((max_num+1)*max_num)//2\n",
    "    total_sum = sum(nums)\n",
    "    dict1 = {}\n",
    "    for i in nums:\n",
    "        if i in dict1:\n",
    "            duplicate_num = i\n",
    "            break\n",
    "        else:\n",
    "            dict1[i]=1\n",
    "    return [duplicate_num, n_sum-total_sum+duplicate_num]\n",
    "        \n",
    "findErrorNums([2,2])"
   ]
  },
  {
   "cell_type": "code",
   "execution_count": 5,
   "metadata": {},
   "outputs": [
    {
     "name": "stdout",
     "output_type": "stream",
     "text": [
      "[1, 2, 2, 3, 4]\n"
     ]
    },
    {
     "data": {
      "text/plain": [
       "2"
      ]
     },
     "execution_count": 5,
     "metadata": {},
     "output_type": "execute_result"
    }
   ],
   "source": [
    "# leetcode 287:\n",
    "def function(arr):\n",
    "    arr.sort()\n",
    "    print(arr)\n",
    "    return binary(arr)[0]\n",
    "    \n",
    "def binary(nums):\n",
    "    skip = 0\n",
    "    while len(nums)>2:\n",
    "        start=0\n",
    "        end = len(nums)-1\n",
    "        mid = start+(end-start)//2\n",
    "        if nums[mid]==(mid+1+skip):\n",
    "            skip+=mid\n",
    "            nums = nums[mid:]\n",
    "        if nums[mid]==mid+skip:\n",
    "            nums = nums[:mid+1]\n",
    "    return nums\n",
    "  \n",
    "function([1,3,4,2,2])"
   ]
  },
  {
   "cell_type": "code",
   "execution_count": 1,
   "metadata": {},
   "outputs": [
    {
     "name": "stdout",
     "output_type": "stream",
     "text": [
      "[1, 2, 2, 3, 4]\n",
      "[1, 2, 2]\n"
     ]
    },
    {
     "data": {
      "text/plain": [
       "[2, 2]"
      ]
     },
     "execution_count": 1,
     "metadata": {},
     "output_type": "execute_result"
    }
   ],
   "source": [
    "def binary(nums):\n",
    "    skip = 0\n",
    "    while len(nums)>2:\n",
    "        start=0\n",
    "        end = len(nums)-1\n",
    "        mid = start+(end-start)//2\n",
    "        if nums[mid]==(mid+1+skip):\n",
    "            skip+=mid\n",
    "            nums = nums[mid:]\n",
    "        if nums[mid]==mid+skip:\n",
    "            skip+=0\n",
    "            nums = nums[:mid+1]\n",
    "    return nums\n",
    "        \n",
    "binary([1,2,2,3,4])    "
   ]
  },
  {
   "cell_type": "markdown",
   "metadata": {},
   "source": [
    "# leetcode 599:\n"
   ]
  },
  {
   "cell_type": "code",
   "execution_count": 38,
   "metadata": {},
   "outputs": [
    {
     "name": "stdout",
     "output_type": "stream",
     "text": [
      "{'KFC': 0}\n"
     ]
    },
    {
     "data": {
      "text/plain": [
       "['KFC']"
      ]
     },
     "execution_count": 38,
     "metadata": {},
     "output_type": "execute_result"
    }
   ],
   "source": [
    "def function(list1, list2):\n",
    "    dict1 , dict2 = {},{}\n",
    "    result = []\n",
    "    for i, rest in enumerate(list1):\n",
    "        dict1[i] = rest\n",
    "    for i, rest in enumerate(list2):\n",
    "        dict2[i] = rest\n",
    "    dict1={v:k for k,v in dict1.items()}\n",
    "    dict2={v:k for k,v in dict2.items()}\n",
    "    for i in dict1:\n",
    "        if i in dict2:\n",
    "            dict1[i]+=dict2[i]\n",
    "        else:\n",
    "            dict1[i] = -1\n",
    "    print(dict1)\n",
    "    minimum = len(list1)+len(list2)\n",
    "    for i in dict1:\n",
    "        if dict1[i]>=0:\n",
    "            minimum = min(minimum, dict1[i])\n",
    "    for key, val in dict1.items():\n",
    "        if val==minimum:\n",
    "            result.append(key)\n",
    "    return result\n",
    "list1 = [\"KFC\"]\n",
    "list2 = [\"KFC\"]\n",
    "function(list1, list2)"
   ]
  },
  {
   "cell_type": "code",
   "execution_count": 93,
   "metadata": {},
   "outputs": [
    {
     "data": {
      "text/plain": [
       "'husband'"
      ]
     },
     "execution_count": 93,
     "metadata": {},
     "output_type": "execute_result"
    }
   ],
   "source": [
    "# leetcode 748\n",
    "def function(plate, words):\n",
    "    plate = plate.lower()\n",
    "    l_dict = {}\n",
    "    for i in plate:\n",
    "        if i.isalpha():\n",
    "            if i in l_dict:\n",
    "                l_dict[i]+=1\n",
    "            else:\n",
    "                l_dict[i]=1\n",
    "    res = []\n",
    "    for word in words:\n",
    "        l1_dict = l_dict.copy()\n",
    "        if alpha_count(word)>=alpha_count(plate):\n",
    "            for char in word:\n",
    "                if char in l1_dict and l1_dict[char]>0:\n",
    "                    l1_dict[char]-=1\n",
    "        flag = all(value == 0 for value in l1_dict.values())\n",
    "        if flag:\n",
    "            if len(res) == 0:\n",
    "                res.append(word)\n",
    "            else:\n",
    "                if len(res[0])>len(word):\n",
    "                    res[0]=word\n",
    "    return res[0]\n",
    "        \n",
    "def alpha_count(word):\n",
    "    alpha_count = 0\n",
    "    for i in word:\n",
    "        if i.isalpha():\n",
    "            alpha_count+=1\n",
    "    return alpha_count\n",
    "\n",
    "plate = \"Ah71752\"\n",
    "words = [\"suggest\",\"letter\",\"of\",\"husband\",\"easy\",\"education\",\"drug\",\"prevent\",\"writer\",\"old\"]\n",
    "function(plate, words)\n",
    "    "
   ]
  },
  {
   "cell_type": "code",
   "execution_count": 97,
   "metadata": {},
   "outputs": [
    {
     "data": {
      "text/plain": [
       "'steps'"
      ]
     },
     "execution_count": 97,
     "metadata": {},
     "output_type": "execute_result"
    }
   ],
   "source": [
    "# leetcode 748 \n",
    "def function(plate, words):\n",
    "    plate = plate.lower()\n",
    "    l_dict = {}\n",
    "    for i in plate:\n",
    "        if i.isalpha():\n",
    "            if i in l_dict:\n",
    "                l_dict[i]+=1\n",
    "            else:\n",
    "                l_dict[i]=1\n",
    "    res = []\n",
    "    for word in words:\n",
    "        l1_dict = l_dict.copy()\n",
    "        for char in word:\n",
    "            if char in l1_dict and l1_dict[char]>0:\n",
    "                l1_dict[char]-=1\n",
    "        flag = all(value == 0 for value in l1_dict.values())\n",
    "        if flag:\n",
    "            if len(res) == 0:\n",
    "                res.append(word)\n",
    "            else:\n",
    "                if len(res[0])>len(word):\n",
    "                    res[0]=word\n",
    "    return res[0]       \n",
    "\n",
    "plate = \"1s3 PSt\"\n",
    "words = [\"step\", \"steps\", \"stripe\", \"stepple\"]\n",
    "function(plate, words)\n",
    "    "
   ]
  },
  {
   "cell_type": "code",
   "execution_count": 9,
   "metadata": {},
   "outputs": [
    {
     "data": {
      "text/plain": [
       "'bbaA'"
      ]
     },
     "execution_count": 9,
     "metadata": {},
     "output_type": "execute_result"
    }
   ],
   "source": [
    "# leetcode: 451\n",
    "def function(string):\n",
    "    dict1 = {}\n",
    "    maxi = 0\n",
    "    res=\"\"\n",
    "    for i in string:\n",
    "        if i in dict1:\n",
    "            dict1[i]+=1\n",
    "        else:\n",
    "            dict1[i]=1\n",
    "    sort_dict = sorted(dict1.items(), key = lambda x: x[1])\n",
    "    for i in range(len(sort_dict)-1, -1, -1):\n",
    "        res+=sort_dict[i][0]*sort_dict[i][1]\n",
    "    return res\n",
    "    \n",
    "\n",
    "function(\"Aabb\")"
   ]
  },
  {
   "cell_type": "code",
   "execution_count": 28,
   "metadata": {},
   "outputs": [
    {
     "data": {
      "text/plain": [
       "[1, 1, 4, 2, 1, 1, 0, 0]"
      ]
     },
     "execution_count": 28,
     "metadata": {},
     "output_type": "execute_result"
    }
   ],
   "source": [
    "# leetcode: 739\n",
    "def function1(T):\n",
    "    res = []\n",
    "    for i in range(len(T)):\n",
    "        p1, p2 = i, i\n",
    "        count = 0\n",
    "        temp = 0\n",
    "        while T[p2]<=T[p1]:\n",
    "            if p2==len(T)-1:\n",
    "                break\n",
    "            else:\n",
    "                p2+=1\n",
    "                temp+=1\n",
    "                if T[p2]>T[p1]:\n",
    "                    count+=temp\n",
    "        res.append(count)\n",
    "    return res\n",
    "\n",
    "def function2(T):\n",
    "    res = [0]*len(T)\n",
    "    stack = []\n",
    "    for i in range(len(T)-1,-1,-1):\n",
    "        while stack and T[i]>=T[stack[-1]]:\n",
    "            stack.pop()\n",
    "        if stack and T[i]<T[stack[-1]]:\n",
    "            res[i] = stack[-1]-i\n",
    "        stack.append(i)\n",
    "    return res\n",
    "\n",
    "function2([73, 74, 75, 71, 69, 72, 76, 73])"
   ]
  },
  {
   "cell_type": "code",
   "execution_count": 52,
   "metadata": {},
   "outputs": [
    {
     "name": "stdout",
     "output_type": "stream",
     "text": [
      "['the', 'cat', 'was', 'rat', 'by', 'the', 'bat']\n"
     ]
    },
    {
     "data": {
      "text/plain": [
       "'the cat was rat by the bat'"
      ]
     },
     "execution_count": 52,
     "metadata": {},
     "output_type": "execute_result"
    }
   ],
   "source": [
    "# leetcode: 648\n",
    "def function(roots, sentence):\n",
    "    sentence = list(sentence.split(\" \"))\n",
    "    for i in range(len(sentence)):\n",
    "        sentence[i] = replace(sentence[i], roots)\n",
    "    print(sentence)\n",
    "    return \" \".join(sentence)  \n",
    "def replace(word, roots):\n",
    "    rootset = set(roots)\n",
    "    for i in range(1, len(word)):\n",
    "        if word[:i] in rootset:\n",
    "            return word[:i]\n",
    "    return word\n",
    "    \n",
    "\n",
    "dict1 = [\"cat\",\"bat\",\"rat\"]\n",
    "sentence = \"the cattle was rattled by the battery\"\n",
    "function(dict1, sentence)\n",
    "    "
   ]
  },
  {
   "cell_type": "code",
   "execution_count": 1,
   "metadata": {},
   "outputs": [
    {
     "data": {
      "text/plain": [
       "6"
      ]
     },
     "execution_count": 1,
     "metadata": {},
     "output_type": "execute_result"
    }
   ],
   "source": [
    "# LCM\n",
    "def LCM(x,y):\n",
    "    if x>y:\n",
    "        grater =x\n",
    "    else:\n",
    "        grater = y\n",
    "    while True:\n",
    "        if ((grater%x)==0 and (grater%y)==0):\n",
    "            lcm = grater\n",
    "            break\n",
    "        grater+=1\n",
    "    return lcm\n",
    "\n",
    "LCM(3,2)"
   ]
  },
  {
   "cell_type": "code",
   "execution_count": 63,
   "metadata": {},
   "outputs": [
    {
     "data": {
      "text/plain": [
       "False"
      ]
     },
     "execution_count": 63,
     "metadata": {},
     "output_type": "execute_result"
    }
   ],
   "source": [
    "# leetcode 231:\n",
    "def powerOfTwo(num):\n",
    "    for i in range(len(str(bin(num)))-2):\n",
    "        if int(pow(2,i)) == num:\n",
    "            return True\n",
    "    return False\n",
    "    \n",
    "powerOfTwo(218)"
   ]
  },
  {
   "cell_type": "code",
   "execution_count": 10,
   "metadata": {},
   "outputs": [
    {
     "data": {
      "text/plain": [
       "False"
      ]
     },
     "execution_count": 10,
     "metadata": {},
     "output_type": "execute_result"
    }
   ],
   "source": [
    "# leetcode Power of Three *********** Time Limit Exceeded *****************\n",
    "def function(num):\n",
    "    lcm_num = LCM(num,3)\n",
    "    for i in range(lcm_num):\n",
    "        if 3**i>num:\n",
    "            break\n",
    "        elif 3**i == num:\n",
    "            return True\n",
    "    return False\n",
    "def LCM(x,y):\n",
    "    if x>y:\n",
    "        grater =x\n",
    "    else:\n",
    "        grater = y\n",
    "    while True:\n",
    "        if ((grater%x)==0 and (grater%y)==0):\n",
    "            lcm = grater\n",
    "            break\n",
    "        grater+=1\n",
    "    return lcm\n",
    "\n",
    "#function(43046720)\n",
    "\n",
    "\n",
    "\n",
    "def function3(num):\n",
    "    if num>0:\n",
    "        while num%3 ==0:\n",
    "            num = num//3\n",
    "    return num==1\n",
    "function3(0)\n"
   ]
  },
  {
   "cell_type": "code",
   "execution_count": 39,
   "metadata": {},
   "outputs": [
    {
     "data": {
      "text/plain": [
       "[3, 5]"
      ]
     },
     "execution_count": 39,
     "metadata": {},
     "output_type": "execute_result"
    }
   ],
   "source": [
    "# leetcode 260:\n",
    "def function(nums):\n",
    "    val = 0\n",
    "    for i in nums:\n",
    "        val^=i\n",
    "    for i in nums:\n",
    "        if val^i in nums:\n",
    "            return ([i, val^i])\n",
    "    \n",
    "function([1,1,2,2,3,5])"
   ]
  },
  {
   "cell_type": "code",
   "execution_count": 1,
   "metadata": {},
   "outputs": [
    {
     "data": {
      "text/plain": [
       "3"
      ]
     },
     "execution_count": 1,
     "metadata": {},
     "output_type": "execute_result"
    }
   ],
   "source": [
    "# leetcode 258:\n",
    "def addDigits(num):\n",
    "        \n",
    "    \"\"\"\n",
    "    b --> base\n",
    "    n --> num\n",
    "    digit_sum = n-(b-1)*int(((num-1)/(b-1)))\n",
    "    here we are using decimal number, that means base 10\n",
    "    \"\"\"  \n",
    "    return num-9*int((num-1)/9)\n",
    "\n",
    "addDigits(1245)"
   ]
  },
  {
   "cell_type": "code",
   "execution_count": 21,
   "metadata": {},
   "outputs": [
    {
     "data": {
      "text/plain": [
       "6"
      ]
     },
     "execution_count": 21,
     "metadata": {},
     "output_type": "execute_result"
    }
   ],
   "source": [
    "# leetcode : factorial of trailing zeros:\n",
    "def function(n):\n",
    "    i = 5\n",
    "    count = 0\n",
    "    while n//i >= 1:\n",
    "        count+=n//i\n",
    "        i = i*5\n",
    "    return count\n",
    "function(25)"
   ]
  },
  {
   "cell_type": "code",
   "execution_count": 69,
   "metadata": {},
   "outputs": [
    {
     "name": "stdout",
     "output_type": "stream",
     "text": [
      "{2: 7, 1: 3}\n",
      "[1, 2]\n"
     ]
    },
    {
     "data": {
      "text/plain": [
       "16.0"
      ]
     },
     "execution_count": 69,
     "metadata": {},
     "output_type": "execute_result"
    }
   ],
   "source": [
    "def function(answers):\n",
    "    if len(answers) == 0:\n",
    "        return 0\n",
    "    total = 0\n",
    "    dict1 = {}\n",
    "    for i in answers:\n",
    "        if i in dict1:\n",
    "            dict1[i]+=1\n",
    "        else:\n",
    "            dict1[i] = 1\n",
    "    print(dict1)\n",
    "    answers = list(set(answers))\n",
    "    print(answers)\n",
    "    for i in answers:\n",
    "        if i==0:\n",
    "            total+=dict1[i]\n",
    "        else:\n",
    "            if i+1>=dict1[i]:\n",
    "                total+=(i+1)\n",
    "            else:\n",
    "                total+=dict1[i]*2 - ((dict1[i]*2)//dict1[i])\n",
    "    return total\n",
    "                \n",
    "A=[2,2,2,2,2,2,2,1,1,1]\n",
    "function(A)"
   ]
  },
  {
   "cell_type": "code",
   "execution_count": 90,
   "metadata": {},
   "outputs": [
    {
     "name": "stdout",
     "output_type": "stream",
     "text": [
      "10\n",
      "5\n",
      "2\n",
      "1\n"
     ]
    },
    {
     "data": {
      "text/plain": [
       "1024"
      ]
     },
     "execution_count": 90,
     "metadata": {},
     "output_type": "execute_result"
    }
   ],
   "source": [
    "# leetcode 50:\n",
    "def function(x,n):\n",
    "    res = 1\n",
    "    while n>0:\n",
    "        print(n)\n",
    "        if n&1:\n",
    "            res = res*x\n",
    "        x = x*x\n",
    "        n >>= 1\n",
    "    return res\n",
    "\n",
    "function(2,10)"
   ]
  },
  {
   "cell_type": "code",
   "execution_count": 4,
   "metadata": {},
   "outputs": [
    {
     "name": "stdout",
     "output_type": "stream",
     "text": [
      "['bv', 'bw', 'bz', 'vw', 'vz', 'wz']\n"
     ]
    }
   ],
   "source": [
    "import itertools\n",
    "characters = \"bvwz\"\n",
    "combinationLength = 2\n",
    "combination = [''.join(combo) for combo in itertools.combinations(characters, combinationLength)]\n",
    "print(combination)\n",
    "\n"
   ]
  },
  {
   "cell_type": "code",
   "execution_count": 22,
   "metadata": {},
   "outputs": [
    {
     "data": {
      "text/plain": [
       "True"
      ]
     },
     "execution_count": 22,
     "metadata": {},
     "output_type": "execute_result"
    }
   ],
   "source": [
    "from collections import defaultdict\n",
    "s = [('yellow', 1), ('blue', 2), ('yellow', 3), ('blue', 4), ('red', 1)]\n",
    "d = defaultdict(list)\n",
    "for k, v in s:\n",
    "    d[k].append(v)\n",
    "\"red\" in d\n",
    "#[('blue', [2, 4]), ('red', [1]), ('yellow', [1, 3])]"
   ]
  },
  {
   "cell_type": "code",
   "execution_count": 14,
   "metadata": {},
   "outputs": [
    {
     "data": {
      "text/plain": [
       "1225621"
      ]
     },
     "execution_count": 14,
     "metadata": {},
     "output_type": "execute_result"
    }
   ],
   "source": [
    "def function(s):\n",
    "    s = list(s)\n",
    "    i = 0\n",
    "    while i < len(s):\n",
    "        if s[i] == '.':\n",
    "            s.remove(s[i])\n",
    "            continue\n",
    "        i+=1\n",
    "    i = 0\n",
    "    while i < len(s):\n",
    "        if int(s[i])>0:\n",
    "            break\n",
    "        else:\n",
    "            s.pop(0)\n",
    "            continue\n",
    "    s = \"\".join(s)\n",
    "    return int(s)\n",
    "s = \"0.012.256.21\"\n",
    "function(s)"
   ]
  },
  {
   "cell_type": "code",
   "execution_count": 6,
   "metadata": {},
   "outputs": [
    {
     "data": {
      "text/plain": [
       "{1, 2, 3, 4, 6, 9, 12}"
      ]
     },
     "execution_count": 6,
     "metadata": {},
     "output_type": "execute_result"
    }
   ],
   "source": [
    "{1,2,3,4}.union({9,6,12,3})"
   ]
  }
 ],
 "metadata": {
  "kernelspec": {
   "display_name": "Python 3",
   "language": "python",
   "name": "python3"
  },
  "language_info": {
   "codemirror_mode": {
    "name": "ipython",
    "version": 3
   },
   "file_extension": ".py",
   "mimetype": "text/x-python",
   "name": "python",
   "nbconvert_exporter": "python",
   "pygments_lexer": "ipython3",
   "version": "3.7.0"
  }
 },
 "nbformat": 4,
 "nbformat_minor": 2
}
