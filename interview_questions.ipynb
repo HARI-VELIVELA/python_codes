{
 "cells": [
  {
   "cell_type": "code",
   "execution_count": 5,
   "metadata": {},
   "outputs": [
    {
     "name": "stdout",
     "output_type": "stream",
     "text": [
      "\n"
     ]
    },
    {
     "data": {
      "text/plain": [
       "10"
      ]
     },
     "execution_count": 5,
     "metadata": {},
     "output_type": "execute_result"
    }
   ],
   "source": [
    "# number of fractions that sum upto  1:\n",
    "\n",
    "def number_of_fractions(arr1, arr2):\n",
    "    for i in range(len(arr1)):\n",
    "        arr1[i] = int((arr1[i]/arr2[i])*100)\n",
    "    return total(arr1, 100)\n",
    "def total(arr, target):\n",
    "    d = {}\n",
    "    for i in arr:\n",
    "        if i in d:\n",
    "            d[i] += 1\n",
    "        else:\n",
    "            d[i] = 1\n",
    "    res = 0\n",
    "    for i in arr:\n",
    "        if target-i in d:\n",
    "            res+=d[target-i]\n",
    "            if target-i == i:\n",
    "                res-=1\n",
    "    return int(res/2)\n",
    "\n",
    "arr1 = [1,2,3,1,2,12,8,4]\n",
    "arr2 = [5,10,15,2,4,15,10,5]\n",
    "number_of_fractions(arr1, arr2)"
   ]
  },
  {
   "cell_type": "code",
   "execution_count": 21,
   "metadata": {},
   "outputs": [
    {
     "name": "stdout",
     "output_type": "stream",
     "text": [
      "(1, 2, 1, 2)\n",
      "(1, 1, 2, 2)\n",
      "(2, 1, 2, 1)\n",
      "(2, 2, 1, 1)\n",
      "(2, 1, 1, 2)\n",
      "(1, 2, 2, 1)\n"
     ]
    },
    {
     "data": {
      "text/plain": [
       "6"
      ]
     },
     "execution_count": 21,
     "metadata": {},
     "output_type": "execute_result"
    }
   ],
   "source": [
    "# count of hours variation:\n",
    "\"\"\" Given a generic digital clock, having h number of hours and m number of minutes, the task is to find how many times\n",
    "the clock shows identical time. The parameters were 4 integers A,B,C,D. The valid time should be somewhere between \n",
    "00:00 and 24:00. If the integers don't fulfil the requirements the function should return 0.\n",
    "Restrictions: A,B,C,D are integers between [0,9]\"\"\"\n",
    "\n",
    "import itertools\n",
    "def count_hours(a, b, c, d):\n",
    "    res = 0\n",
    "    for permutation in set(itertools.permutations([a, b, c, d])):\n",
    "        print(permutation)\n",
    "        if correct_time(permutation):\n",
    "            res+=1\n",
    "    return res\n",
    "\n",
    "def correct_time(time):\n",
    "    hours = time[0]*10 + time[1]\n",
    "    mins = time[2]*10 + time[3]\n",
    "    return hours<24 and mins<60\n",
    "\n",
    "a = 2\n",
    "b = 1\n",
    "c = 2\n",
    "d = 1\n",
    "count_hours(a, b, c, d)\n",
    "    "
   ]
  },
  {
   "cell_type": "code",
   "execution_count": null,
   "metadata": {},
   "outputs": [],
   "source": [
    "#count the visible nodes of Binary tree\n",
    "\"\"\" In a binary tree, if in the path from root to the node A, there is no node with greater value than A’s, \n",
    "this node A is visible. We need to count the number of visible nodes in a binary tree.\"\"\"\n",
    "\n",
    "def count_visible nodes(root):\n",
    "    def dfs(root, max_sofar):\n",
    "        if not root: return 0\n",
    "        total = 0\n",
    "        if root.val >= max_sofar:\n",
    "            total += 1\n",
    "        total += dfs(root.left, max(max_sofar, root.val))\n",
    "        total += dfs(root.right, max(max_sofar, root.val))\n",
    "        return total\n",
    "    return dfs(root, float('-inf'))\n",
    "        \n"
   ]
  },
  {
   "cell_type": "code",
   "execution_count": null,
   "metadata": {},
   "outputs": [],
   "source": [
    "# modify string:\n",
    "def modifyString(self, s: str) -> str:\n",
    "        if len(s) == 1:\n",
    "            if s[0] == '?':\n",
    "                return \"a\"\n",
    "            else:\n",
    "                return s\n",
    "        letters = \"abcdefghijklmnopqrstuvwxyz\"\n",
    "        s = list(s)\n",
    "        for i in range(len(s)):\n",
    "            # case 1: if it is first letter\n",
    "            if i ==0 and s[0] == '?':\n",
    "                for letter in letters:\n",
    "                    if s[1] != letter:\n",
    "                        s[0] = letter\n",
    "                        break\n",
    "            # case 2: if letter is in between middle of two\n",
    "            elif i>0 and i < len(s)-1 and s[i] == '?':\n",
    "                for letter in letters:\n",
    "                    if s[i-1] != letter and s[i+1] != letter:\n",
    "                        s[i] = letter\n",
    "                        break\n",
    "            \n",
    "            # case 3: if the letter is in last position\n",
    "            elif i > 0 and i == len(s)-1 and s[i] == '?':\n",
    "                for letter in letters:\n",
    "                    if s[len(s)-2] != letter:\n",
    "                        s[-1] = letter\n",
    "                        break\n",
    "        return \"\".join(s)\n",
    "    \n",
    "    "
   ]
  },
  {
   "cell_type": "code",
   "execution_count": null,
   "metadata": {},
   "outputs": [],
   "source": [
    "# minimum cost to get string without 2 identical consecutive letters:\n",
    "def function(s, c):\n",
    "    total = 0\n",
    "    for i in range(1, len(s)):\n",
    "        if s[i-1] == s[i]:\n",
    "            total += min(c[i-1], c[i])\n",
    "            if c[i-1] > c[i]:\n",
    "                c[i-1], c[i] = c[i], c[i-1]\n",
    "    return total"
   ]
  },
  {
   "cell_type": "code",
   "execution_count": 20,
   "metadata": {},
   "outputs": [
    {
     "data": {
      "text/plain": [
       "5"
      ]
     },
     "execution_count": 20,
     "metadata": {},
     "output_type": "execute_result"
    }
   ],
   "source": [
    "# largest m aligned subset:\n",
    "\n",
    "def m_aligned_subset(arr, m):\n",
    "    if m == 0: return 0\n",
    "    \n",
    "    reminders = []\n",
    "    for i in range(len(arr)):\n",
    "        reminders.append(arr[i]%m)\n",
    "    \n",
    "    res = [0]*len(arr)\n",
    "    for i in arr:\n",
    "        res[i%m] += 1\n",
    "    return max(res)\n",
    "\n",
    "arr = [5, 5, 5, 5, 5]\n",
    "m = 5\n",
    "m_aligned_subset(arr, m)"
   ]
  },
  {
   "cell_type": "code",
   "execution_count": 22,
   "metadata": {},
   "outputs": [
    {
     "data": {
      "text/plain": [
       "3"
      ]
     },
     "execution_count": 22,
     "metadata": {},
     "output_type": "execute_result"
    }
   ],
   "source": [
    "# maximum slices to make to sort the array:\n",
    "from collections import defaultdict\n",
    "def max_chunks(arr):\n",
    "    x, y = defaultdict(int), defaultdict(int)\n",
    "    res = 0\n",
    "    for i, j in zip(arr, sorted(arr)):\n",
    "        x[i] += 1\n",
    "        y[j] +=1\n",
    "        if x == y: res += 1\n",
    "    return res\n",
    "arr = [2,4,1,6,5,9,7]\n",
    "max_chunks(arr)\n"
   ]
  },
  {
   "cell_type": "code",
   "execution_count": 26,
   "metadata": {},
   "outputs": [
    {
     "data": {
      "text/plain": [
       "'codility'"
      ]
     },
     "execution_count": 26,
     "metadata": {},
     "output_type": "execute_result"
    }
   ],
   "source": [
    "# crop words:\n",
    "def function(s, k):\n",
    "    stack = []\n",
    "    i = 0\n",
    "    while i<len(s) and len(stack)<k:\n",
    "        stack.append(s[i])\n",
    "        i += 1\n",
    "    \n",
    "    while i < len(s) and s[i].isalpha() and stack and stack[-1].isalpha():\n",
    "        stack.pop()\n",
    "        \n",
    "    return \"\".join(stack).rstrip()\n",
    "\n",
    "s = \"codility me test coders\"\n",
    "k = 10\n",
    "function(s, k)\n",
    "    "
   ]
  },
  {
   "cell_type": "code",
   "execution_count": 32,
   "metadata": {},
   "outputs": [
    {
     "data": {
      "text/plain": [
       "3"
      ]
     },
     "execution_count": 32,
     "metadata": {},
     "output_type": "execute_result"
    }
   ],
   "source": [
    "# light bulb switcher:\n",
    "def function1(arr):\n",
    "    counter, total, max_val = 0, 0, 0\n",
    "    for value in arr:\n",
    "        total += value\n",
    "        max_val = max(max_val, value)\n",
    "        s = (max_val * (max_val+1))//2\n",
    "        \n",
    "        if total == s: counter+=1\n",
    "    return counter\n",
    "\n",
    "def function2(arr):\n",
    "    flags = [0]*len(arr)\n",
    "    left, res = 0, 0\n",
    "    for current in arr:\n",
    "        current -=1 \n",
    "        flags[current] = 1\n",
    "        if current == left:\n",
    "            res += 1\n",
    "            while left<len(arr) and flags[left]:\n",
    "                left+=1 \n",
    "    return res\n",
    "\n",
    "a = [2,1,3,5,4]\n",
    "function2(a)\n",
    "        "
   ]
  },
  {
   "cell_type": "code",
   "execution_count": null,
   "metadata": {},
   "outputs": [],
   "source": [
    "# meeting rooms 2:\n"
   ]
  },
  {
   "cell_type": "code",
   "execution_count": null,
   "metadata": {},
   "outputs": [],
   "source": [
    "# fair indexes:\n",
    "def function(A, B):\n",
    "    for i in range(1, len(A)):\n",
    "        A[i] += A[i - 1]\n",
    "        B[i] += B[i - 1]\n",
    "    fair = 0\n",
    "    for k in range(1, len(A)):\n",
    "        left_A, right_A = A[k - 1], A[-1] - A[k - 1]\n",
    "        left_B, right_B = B[k - 1], B[-1] - B[k - 1]\n",
    "        fair += int(left_A == right_A == left_B == right_B)\n",
    "\n",
    "    return fair\n"
   ]
  },
  {
   "cell_type": "code",
   "execution_count": 1,
   "metadata": {},
   "outputs": [
    {
     "data": {
      "text/plain": [
       "True"
      ]
     },
     "execution_count": 1,
     "metadata": {},
     "output_type": "execute_result"
    }
   ],
   "source": [
    "# jump game:\n",
    "\n",
    "def function(arr, start):\n",
    "    seen = set()\n",
    "    queue = [start]\n",
    "    while queue:\n",
    "        size = len(queue)\n",
    "        for i in range(size):\n",
    "            cur = queue.pop(0)\n",
    "            if arr[cur]==0: return True\n",
    "            if cur in seen: continue\n",
    "            seen.add(cur)\n",
    "            if cur+arr[cur]<len(arr): queue.append(cur+arr[cur])\n",
    "            if cur-arr[cur]>=0: queue.append(cur-arr[cur])\n",
    "    return False\n",
    "\n",
    "\n",
    "arr = [3, 4, 2, 3, 0, 3, 1, 2, 1]\n",
    "start = 7\n",
    "function(arr, start)"
   ]
  },
  {
   "cell_type": "code",
   "execution_count": null,
   "metadata": {},
   "outputs": [],
   "source": [
    "# widest path without trees:\n"
   ]
  },
  {
   "cell_type": "code",
   "execution_count": null,
   "metadata": {},
   "outputs": [],
   "source": [
    "#  Partition to K Equal Sum Subsets: leetcode 698\n"
   ]
  },
  {
   "cell_type": "code",
   "execution_count": null,
   "metadata": {},
   "outputs": [],
   "source": [
    "# Arithmetic Slices"
   ]
  },
  {
   "cell_type": "code",
   "execution_count": null,
   "metadata": {},
   "outputs": [],
   "source": [
    "# minimum deletions to obtian the string in the right format;\n",
    "\"\"\" 1. Count number of A's and B's. then store in global ans=min(count of A's , count of B's)\n",
    "2.Start iterating from left to right, maintaining the count of seen A's. when B encounter and \n",
    "count of seen A's is less then total A's count, it means we have A's in next positions.So delete B.\n",
    "3.When we reached to the position where A's seen == total A's count, then we stop as all the next character are B's only.\n",
    "4.Return the min(ans,no of B's deleted)\"\"\""
   ]
  },
  {
   "cell_type": "code",
   "execution_count": null,
   "metadata": {},
   "outputs": [],
   "source": [
    "# Maximum Length of a Concatenated String with Unique Characters"
   ]
  },
  {
   "cell_type": "code",
   "execution_count": 2,
   "metadata": {},
   "outputs": [
    {
     "data": {
      "text/plain": [
       "2"
      ]
     },
     "execution_count": 2,
     "metadata": {},
     "output_type": "execute_result"
    }
   ],
   "source": [
    "# min adjacent swaps to group the red balls\n",
    "def function(S):\n",
    "    R_index = []\n",
    "    for i,v in enumerate(S):\n",
    "        if v == 'R': R_index.append(i)\n",
    "    mid = len(R_index) //2\n",
    "    output = 0\n",
    "    for i in range(len(R_index)):\n",
    "        output += abs(R_index[mid] - R_index[i]) - abs(mid-i)\n",
    "    if output > 10**9:\n",
    "        return -1\n",
    "    else:\n",
    "        return output\n",
    "    \n",
    "s = \"WWRRWWRW\"\n",
    "function(s)"
   ]
  },
  {
   "cell_type": "code",
   "execution_count": 7,
   "metadata": {},
   "outputs": [
    {
     "data": {
      "text/plain": [
       "0"
      ]
     },
     "execution_count": 7,
     "metadata": {},
     "output_type": "execute_result"
    }
   ],
   "source": [
    "# Largest K such that both K and -K exist in array\n",
    "import heapq\n",
    "def function(arr):\n",
    "    positive = []\n",
    "    negative = []\n",
    "    for i in arr:\n",
    "        if i>0: positive.append(i)\n",
    "        else: negative.append(i)\n",
    "    n_d = {}\n",
    "    for i in negative:\n",
    "        if i in n_d: n_d[i] += 1\n",
    "        else: n_d[i] = 1\n",
    "    \n",
    "    for i in range(len(positive)):\n",
    "        positive[i] = -1*positive[i]\n",
    "    \n",
    "    heapq.heapify(positive)\n",
    "    while positive:\n",
    "        current = heapq.heappop(positive)\n",
    "        if current in n_d:\n",
    "            return -1*current\n",
    "    return 0\n",
    "\n",
    "arr = [1,2,3,-4]\n",
    "function(arr)\n",
    "    \n",
    "    "
   ]
  },
  {
   "cell_type": "code",
   "execution_count": null,
   "metadata": {},
   "outputs": [],
   "source": [
    "# Max Inserts to Obtain String Without 3 Consecutive 'a'"
   ]
  },
  {
   "cell_type": "code",
   "execution_count": 8,
   "metadata": {},
   "outputs": [
    {
     "data": {
      "text/plain": [
       "'Fri'"
      ]
     },
     "execution_count": 8,
     "metadata": {},
     "output_type": "execute_result"
    }
   ],
   "source": [
    "# Day of week that is K days later\n",
    "def function(day, K):\n",
    "    days = [\"Mon\", \"Tue\", \"Wed\", \"Thu\", \"Fri\", \"Sat\", \"Sun\"]\n",
    "    return days[(days.index(day) + K) % 7]\n",
    "\n",
    "d = \"Wed\"\n",
    "k = 23\n",
    "function(d, k)"
   ]
  },
  {
   "cell_type": "code",
   "execution_count": 9,
   "metadata": {},
   "outputs": [
    {
     "data": {
      "text/plain": [
       "3"
      ]
     },
     "execution_count": 9,
     "metadata": {},
     "output_type": "execute_result"
    }
   ],
   "source": [
    "# Min Steps to Make Piles Equal Height\n",
    "from collections import Counter\n",
    "def minStepEqualPiles(A):\n",
    "    cnt = Counter(A)\n",
    "    nums = sorted(cnt.keys(), reverse=True)\n",
    "    k, ans = 0, 0\n",
    "    for x in nums[:-1]:\n",
    "        k += cnt[x]\n",
    "        ans += k\n",
    "    return ans\n",
    "\n",
    "A = [5, 2, 1]\n",
    "minStepEqualPiles(A)"
   ]
  },
  {
   "cell_type": "code",
   "execution_count": null,
   "metadata": {},
   "outputs": [],
   "source": [
    "# Longest Semi-Alternating Substring:\n"
   ]
  },
  {
   "cell_type": "code",
   "execution_count": 15,
   "metadata": {},
   "outputs": [],
   "source": [
    "# String Without 3 Identical Consecutive Letters:\n"
   ]
  },
  {
   "cell_type": "code",
   "execution_count": 17,
   "metadata": {},
   "outputs": [],
   "source": [
    "# Longest Substring Without 3 Contiguous Occurrences of Letter:\n"
   ]
  },
  {
   "cell_type": "code",
   "execution_count": 16,
   "metadata": {},
   "outputs": [
    {
     "data": {
      "text/plain": [
       "'abcdba'"
      ]
     },
     "execution_count": 16,
     "metadata": {},
     "output_type": "execute_result"
    }
   ],
   "source": [
    "# Lexicographically Smallest String : Lexicographically smallest string formed by removing at most one character.\n",
    "def solution(S):\n",
    "    for i in range(len(S)-1):\n",
    "        if S[i] > S[i+1]:\n",
    "            break\n",
    "    return S[:i]+S[i+1:]\n",
    "\n",
    "s = \"abczdba\"\n",
    "solution(s)"
   ]
  },
  {
   "cell_type": "code",
   "execution_count": 18,
   "metadata": {},
   "outputs": [],
   "source": [
    "# Min Adj Swaps to Make Palindrome "
   ]
  },
  {
   "cell_type": "code",
   "execution_count": 20,
   "metadata": {},
   "outputs": [
    {
     "data": {
      "text/plain": [
       "5"
      ]
     },
     "execution_count": 20,
     "metadata": {},
     "output_type": "execute_result"
    }
   ],
   "source": [
    "# maximum sum subarray problem:\n",
    "def kadane_algo(arr):\n",
    "    res = arr[0]\n",
    "    current = arr[0]\n",
    "    for i in range(1, len(arr)):\n",
    "        current = max(current+arr[i], arr[i])\n",
    "        if current > res:\n",
    "            res =  current\n",
    "    return res\n",
    "\n",
    "arr = [1,-3,2,1,-1,3,-2]\n",
    "kadane_algo(arr)   "
   ]
  },
  {
   "cell_type": "code",
   "execution_count": 6,
   "metadata": {},
   "outputs": [
    {
     "ename": "StopIteration",
     "evalue": "",
     "output_type": "error",
     "traceback": [
      "\u001b[1;31m---------------------------------------------------------------------------\u001b[0m",
      "\u001b[1;31mStopIteration\u001b[0m                             Traceback (most recent call last)",
      "\u001b[1;32m<ipython-input-6-f53fd9aa6bd2>\u001b[0m in \u001b[0;36m<module>\u001b[1;34m()\u001b[0m\n\u001b[0;32m     23\u001b[0m \u001b[1;33m\u001b[0m\u001b[0m\n\u001b[0;32m     24\u001b[0m \u001b[0marr\u001b[0m \u001b[1;33m=\u001b[0m \u001b[1;33m[\u001b[0m\u001b[1;36m0\u001b[0m\u001b[1;33m,\u001b[0m\u001b[1;36m0\u001b[0m\u001b[1;33m,\u001b[0m\u001b[1;36m0\u001b[0m\u001b[1;33m,\u001b[0m\u001b[1;36m0\u001b[0m\u001b[1;33m,\u001b[0m\u001b[1;36m0\u001b[0m\u001b[1;33m,\u001b[0m\u001b[1;36m0\u001b[0m\u001b[1;33m]\u001b[0m\u001b[1;33m\u001b[0m\u001b[0m\n\u001b[1;32m---> 25\u001b[1;33m \u001b[0mfunction\u001b[0m\u001b[1;33m(\u001b[0m\u001b[0marr\u001b[0m\u001b[1;33m)\u001b[0m\u001b[1;33m\u001b[0m\u001b[0m\n\u001b[0m",
      "\u001b[1;32m<ipython-input-6-f53fd9aa6bd2>\u001b[0m in \u001b[0;36mfunction\u001b[1;34m(seats)\u001b[0m\n\u001b[0;32m      2\u001b[0m \u001b[1;32mdef\u001b[0m \u001b[0mfunction\u001b[0m\u001b[1;33m(\u001b[0m\u001b[0mseats\u001b[0m\u001b[1;33m)\u001b[0m\u001b[1;33m:\u001b[0m\u001b[1;33m\u001b[0m\u001b[0m\n\u001b[0;32m      3\u001b[0m     \u001b[0mpeople\u001b[0m \u001b[1;33m=\u001b[0m \u001b[1;33m(\u001b[0m\u001b[0mi\u001b[0m \u001b[1;32mfor\u001b[0m \u001b[0mi\u001b[0m\u001b[1;33m,\u001b[0m \u001b[0mseat\u001b[0m \u001b[1;32min\u001b[0m \u001b[0menumerate\u001b[0m\u001b[1;33m(\u001b[0m\u001b[0mseats\u001b[0m\u001b[1;33m)\u001b[0m \u001b[1;32mif\u001b[0m \u001b[0mseat\u001b[0m\u001b[1;33m)\u001b[0m\u001b[1;33m\u001b[0m\u001b[0m\n\u001b[1;32m----> 4\u001b[1;33m     \u001b[0mprev\u001b[0m\u001b[1;33m,\u001b[0m \u001b[0mfuture\u001b[0m \u001b[1;33m=\u001b[0m \u001b[1;32mNone\u001b[0m\u001b[1;33m,\u001b[0m \u001b[0mnext\u001b[0m\u001b[1;33m(\u001b[0m\u001b[0mpeople\u001b[0m\u001b[1;33m)\u001b[0m\u001b[1;33m\u001b[0m\u001b[0m\n\u001b[0m\u001b[0;32m      5\u001b[0m \u001b[1;33m\u001b[0m\u001b[0m\n\u001b[0;32m      6\u001b[0m     \u001b[0mres\u001b[0m \u001b[1;33m=\u001b[0m \u001b[1;36m0\u001b[0m\u001b[1;33m\u001b[0m\u001b[0m\n",
      "\u001b[1;31mStopIteration\u001b[0m: "
     ]
    }
   ],
   "source": [
    "# leetcode 849\n",
    "def function(seats):\n",
    "    people = (i for i, seat in enumerate(seats) if seat)\n",
    "    prev, future = None, next(people)\n",
    "    \n",
    "    res = 0\n",
    "    for i, seat in enumerate(seats):\n",
    "        if seat: prev = i\n",
    "        else:\n",
    "            while future is not None and future < i:\n",
    "                future = next(people, None)\n",
    "            \n",
    "            if prev is None: left = float('inf')\n",
    "            else: left = i-prev\n",
    "                \n",
    "            if future is None: right = float('inf')\n",
    "            else: right = future - i\n",
    "                \n",
    "            res = max(res, min(left, right))\n",
    "    \n",
    "    return res\n",
    "    \n",
    "    \n",
    "arr = [0,0,0,0,0,0]\n",
    "function(arr)"
   ]
  },
  {
   "cell_type": "code",
   "execution_count": 10,
   "metadata": {},
   "outputs": [
    {
     "ename": "TypeError",
     "evalue": "int() argument must be a string, a bytes-like object or a number, not 'list'",
     "output_type": "error",
     "traceback": [
      "\u001b[1;31m---------------------------------------------------------------------------\u001b[0m",
      "\u001b[1;31mTypeError\u001b[0m                                 Traceback (most recent call last)",
      "\u001b[1;32m<ipython-input-10-809c072fffc2>\u001b[0m in \u001b[0;36m<module>\u001b[1;34m()\u001b[0m\n\u001b[0;32m      1\u001b[0m \u001b[0marr\u001b[0m \u001b[1;33m=\u001b[0m \u001b[1;33m[\u001b[0m\u001b[1;36m1\u001b[0m\u001b[1;33m,\u001b[0m\u001b[1;36m2\u001b[0m\u001b[1;33m,\u001b[0m\u001b[1;36m3\u001b[0m\u001b[1;33m,\u001b[0m\u001b[1;36m6\u001b[0m\u001b[1;33m,\u001b[0m\u001b[1;36m5\u001b[0m\u001b[1;33m,\u001b[0m\u001b[1;36m4\u001b[0m\u001b[1;33m]\u001b[0m\u001b[1;33m\u001b[0m\u001b[0m\n\u001b[1;32m----> 2\u001b[1;33m \u001b[0mprint\u001b[0m\u001b[1;33m(\u001b[0m\u001b[0mint\u001b[0m\u001b[1;33m(\u001b[0m\u001b[0marr\u001b[0m\u001b[1;33m[\u001b[0m\u001b[1;36m4\u001b[0m\u001b[1;33m:\u001b[0m\u001b[1;36m4\u001b[0m\u001b[1;33m]\u001b[0m\u001b[1;33m)\u001b[0m\u001b[1;33m)\u001b[0m\u001b[1;33m\u001b[0m\u001b[0m\n\u001b[0m",
      "\u001b[1;31mTypeError\u001b[0m: int() argument must be a string, a bytes-like object or a number, not 'list'"
     ]
    }
   ],
   "source": [
    "arr = [1,2,3,6,5,4]\n",
    "print(int(arr[4:4]))"
   ]
  }
 ],
 "metadata": {
  "kernelspec": {
   "display_name": "Python 3",
   "language": "python",
   "name": "python3"
  },
  "language_info": {
   "codemirror_mode": {
    "name": "ipython",
    "version": 3
   },
   "file_extension": ".py",
   "mimetype": "text/x-python",
   "name": "python",
   "nbconvert_exporter": "python",
   "pygments_lexer": "ipython3",
   "version": "3.7.0"
  }
 },
 "nbformat": 4,
 "nbformat_minor": 2
}
