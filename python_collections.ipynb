{
 "cells": [
  {
   "cell_type": "code",
   "execution_count": 10,
   "metadata": {},
   "outputs": [
    {
     "name": "stdout",
     "output_type": "stream",
     "text": [
      "Counter({'r': 5, 'd': 3, 'f': 3, 'a': 2, 'b': 2, 'c': 2})\n",
      "dict_items([('a', 2), ('b', 2), ('c', 2), ('d', 3), ('f', 3), ('r', 5)])\n",
      "dict_keys(['a', 'b', 'c', 'd', 'f', 'r'])\n",
      "dict_values([2, 2, 2, 3, 3, 5])\n",
      "[('r', 5), ('d', 3)]\n",
      "r\n",
      "['a', 'a', 'b', 'b', 'c', 'c', 'd', 'd', 'd', 'f', 'f', 'f', 'r', 'r', 'r', 'r', 'r']\n"
     ]
    }
   ],
   "source": [
    "\"\"\"\n",
    "Counter\n",
    "namedtuple\n",
    "OrderedDict\n",
    "defaultdict\n",
    "deque\n",
    "\"\"\"\n",
    "from collections import Counter\n",
    "string = \"aabbccdddfffrrrrr\"\n",
    "my_counter = Counter(string)\n",
    "print(my_counter)\n",
    "print(my_counter.items())\n",
    "print(my_counter.keys())\n",
    "print(my_counter.values())\n",
    "print(my_counter.most_common(2))\n",
    "print(my_counter.most_common(2)[0][0])\n",
    "print(list(my_counter.elements()))"
   ]
  },
  {
   "cell_type": "code",
   "execution_count": 13,
   "metadata": {},
   "outputs": [
    {
     "name": "stdout",
     "output_type": "stream",
     "text": [
      "Point(x=1, y=10)\n",
      "1 10\n"
     ]
    }
   ],
   "source": [
    "# named tuple:\n",
    "from collections import namedtuple\n",
    "Point = namedtuple(\"Point\", 'x,y')   # namedtuple(class_name, 'attributes')\n",
    "\n",
    "pt = Point(1,10)\n",
    "print(pt)\n",
    "print(pt.x, pt.y)"
   ]
  },
  {
   "cell_type": "code",
   "execution_count": 14,
   "metadata": {},
   "outputs": [
    {
     "name": "stdout",
     "output_type": "stream",
     "text": [
      "OrderedDict([('a', 1), ('b', 2), ('c', 3), ('d', 4)])\n"
     ]
    }
   ],
   "source": [
    "# OrderedDict\n",
    "from collections import OrderedDict\n",
    "dict1 = OrderedDict()\n",
    "dict1['a'] = 1\n",
    "dict1['b'] = 2\n",
    "dict1['c'] = 3\n",
    "dict1['d'] = 4\n",
    "print(dict1)"
   ]
  },
  {
   "cell_type": "code",
   "execution_count": null,
   "metadata": {},
   "outputs": [],
   "source": [
    "# defaultdict\n",
    "from collections import defaultdict\n"
   ]
  },
  {
   "cell_type": "code",
   "execution_count": 52,
   "metadata": {},
   "outputs": [
    {
     "name": "stdout",
     "output_type": "stream",
     "text": [
      "deque([0, 1, 2, 3, 4, 5, 6, 7, 8, 9])\n",
      "###############################################\n",
      "deque(['a', 'b', 'c', 'd', 'e', 'f', 'g', 'h', 'i', 'j', 'k'])\n",
      "deque(['a', 'b', 'c', 'd', 'e', 'f', 'g', 'h', 'i', 'j', 'k'])\n",
      "False\n",
      "False\n",
      "True\n",
      "4\n",
      "deque(['a', 'b', 'c', 'd', 'e', 'f', 'g', 'h', 'i', 'j', 'k', 'L'])\n",
      "11\n",
      "**************************************************************************************************************\n",
      "['append', 'appendleft', 'clear', 'copy', 'count', 'extend', 'extendleft', 'index', 'insert', 'maxlen', 'pop', 'popleft', 'remove', 'reverse', 'rotate']\n",
      "#############################################################################################\n",
      "deque([0, 1, 2, 3, 4, 5, 6, 7, 8, 9], maxlen=10)\n",
      "deque([0, 0, 0, 1, 2, 3, 4, 5, 6, 7], maxlen=10)\n",
      "@@@@@@@@@@@@@@@@@@@@@@@@@@@@@@@@@@@@@@@@@@@@@@@@@@@@@@@@@@@@@@@@@@@@@@@@@@@@@@@@@@@@@@@@@@@@@@@\n",
      "deque([2, 4, 5, 10, 15])\n",
      "deque([2, 4, 5, 10])\n",
      "deque([4, 5, 10])\n",
      "deque([])\n",
      "deque([0, 5, 10, 15, 20, 25, 30, 31, 32, 33, 34, 35, 40, 45, 50])\n",
      "deque([45, 50, 0, 5, 10, 15, 20, 25, 30, 31, 32, 33, 34, 35, 40])\n",
      "deque([0, 5, 10, 15, 20, 25, 30, 31, 32, 33, 34, 35, 40, 45, 50])\n"
     ]
    }
   ],
   "source": [
    "# deque --> double ended queue\n",
    "\"\"\"\n",
    "--> fast appends and fast pop's at either end \n",
    "--> \n",
    "\"\"\"\n",
    "from collections import deque\n",
    "iterable = range(10)\n",
    "dq = deque(iterable)\n",
    "print(dq)\n",
    "print('###############################################')\n",
    "\n",
    "alpha = deque('abcdefghijk')\n",
    "print(alpha)\n",
    "copy = alpha.copy()  # shallow copy\n",
    "print(copy)\n",
    "print(copy is alpha)\n",
    "print(copy in alpha)\n",
    "print(copy == alpha)\n",
    "print(alpha.index('e'))\n",
    "alpha.append('L')\n",
    "print(alpha)\n",
    "print(alpha.index('L', 1))\n",
    "#print(alpha.index('a', 1,10))  # gives you the value error \" 'a' is not in deque\"  (item, start_index, end_index)\n",
    "print('**************************************************************************************************************')\n",
    "print([name for name in dir(deque) if not name.startswith('_')])   # functions can perform with deque\n",
    "print('#############################################################################################')\n",
    "d1 = deque(iterable, maxlen = 10)   # we are bounding teh deck length\n",
    "print(d1)\n",
    "d1.appendleft(0)\n",
    "d1.appendleft(0)\n",
    "print(d1)\n",
    "print('###############################################################################################')\n",
    "\n",
    "\n",
    "d = deque()\n",
    "d.append(5)\n",
    "d.append(10)\n",
    "d.append(15)\n",
    "d.appendleft(4)\n",
    "d.appendleft(2)\n",
    "print(d)\n",
    "# we can remove the elements from both the ends\n",
    "d.pop()\n",
    "print(d)\n",
    "d.popleft()\n",
    "print(d)\n",
    "d.clear()\n",
    "print(d)\n",
    "d.append(25)\n",
    "d.append(30)\n",
    "d.appendleft(20)\n",
    "d.extend(range(31,35))\n",
    "d.extend([35,40,45,50])\n",
    "d.extendleft([15,10,5,0])\n",
    "print(d)\n",
    "d.rotate(2)   # right rotation of 2 digits, default --> rotate()--> one step right rotation\n",
    "print(d)\n",
    "d.rotate(-2)  # -ve implies left rotation\n",
    "print(d)"
   ]
  },
  {
   "cell_type": "code",
   "execution_count": 56,
   "metadata": {},
   "outputs": [
    {
     "name": "stdout",
     "output_type": "stream",
     "text": [
      "deque([0, 1, 2, 3, 4, 5, 6, 7, 8, 9])\n",
      "left 0\n",
      "right 9\n",
      "left 1\n",
      "right 8\n",
      "left 2\n",
      "right 7\n",
      "left 3\n",
      "right 6\n",
      "left 4\n",
      "right 5\n",
      "left 2\n",
      "right 7\n",
      "left Done!\n",
      "right Done!\n",
      "left 3\n",
      "right 6\n",
      "left 4\n",
      "right 5\n",
      "left Done!\n",
      "right Done!\n"
     ]
    }
   ],
   "source": [
    "from collections import deque\n",
    "import time\n",
    "from threading import Thread\n",
    "iterable = range(10)\n",
    "candle = deque(iterable)\n",
    "print(candle)\n",
    "def burn(direction, next_source):\n",
    "    while True:\n",
    "        try:\n",
    "            next = next_source()\n",
    "        except IndexError:\n",
    "            break\n",
    "        else:\n",
    "            print(direction, next)\n",
    "            time.sleep(1) # waiting time\n",
    "    print(direction, \"Done!\")\n",
    "    \n",
    "left = Thread(target = burn, args = ('left', candle.popleft))\n",
    "right = Thread(target = burn, args=('right', candle.pop))\n",
    "left.start()\n",
    "right.start()\n",
    "    "
   ]
  },
  {
   "cell_type": "code",
   "execution_count": 58,
   "metadata": {},
   "outputs": [
    {
     "data": {
      "text/plain": [
       "deque(['this is line number: 85.\\n',\n",
       "       'this is line number: 86.\\n',\n",
       "       'this is line number: 87.\\n',\n",
       "       'this is line number: 88.\\n',\n",
       "       'this is line number: 89.\\n',\n",
       "       'this is line number: 90.\\n',\n",
       "       'this is line number: 91.\\n',\n",
       "       'this is line number: 92.\\n',\n",
       "       'this is line number: 93.\\n',\n",
       "       'this is line number: 94.\\n',\n",
       "       'this is line number: 95.\\n',\n",
       "       'this is line number: 96.\\n',\n",
       "       'this is line number: 97.\\n',\n",
       "       'this is line number: 98.\\n',\n",
       "       'this is line number: 99.\\n'])"
      ]
     },
     "execution_count": 58,
     "metadata": {},
     "output_type": "execute_result"
    }
   ],
   "source": [
    "def tail(filename, n = 10):\n",
    "    with open(filename) as f:\n",
    "        return deque(f, n)\n",
    "    \n",
    "with open('file1.txt','w') as f:\n",
    "    for i in range(100):\n",
    "        f.write(f'this is line number: {i}.\\n')\n",
    "tail('file1.txt', n = 15)"
   ]
  },
  {
   "cell_type": "code",
   "execution_count": 61,
   "metadata": {},
   "outputs": [
    {
     "name": "stdout",
     "output_type": "stream",
     "text": [
      "deque(10*1000 rotations):3.510299999106792 ms\n",
      "list(10*1000 rotations):624.1639999989275 ms\n"
     ]
    }
   ],
   "source": [
    "# this example to show deque rotation very faster than list\n",
    "from timeit import Timer\n",
    "from functools import partial\n",
    "dq = deque(range(10000))\n",
    "_list = list(range(10000))\n",
    "\n",
    "def rotate_deque(dq):\n",
    "    for i in range(1000):\n",
    "        dq.rotate()\n",
    "def rotate_list(_list):\n",
    "    for i in range(1000):\n",
    "        _list = _list[-i:] + _list[:-i]\n",
    "        \n",
    "deque_timer = Timer(partial(rotate_deque, dq))\n",
    "list_timer = Timer(partial(rotate_list, _list))\n",
    "\n",
    "print(f'deque(10*1000 rotations):{deque_timer.timeit(10)*1000} ms')\n",
    "print(f'list(10*1000 rotations):{list_timer.timeit(10)*1000} ms')"
   ]
  }
 ],
 "metadata": {
  "kernelspec": {
   "display_name": "Python 3",
   "language": "python",
   "name": "python3"
  },
  "language_info": {
   "codemirror_mode": {
    "name": "ipython",
    "version": 3
   },
   "file_extension": ".py",
   "mimetype": "text/x-python",
   "name": "python",
   "nbconvert_exporter": "python",
   "pygments_lexer": "ipython3",
   "version": "3.7.0"
  }
 },
 "nbformat": 4,
 "nbformat_minor": 2
}
