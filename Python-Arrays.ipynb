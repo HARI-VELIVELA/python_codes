{
 "cells": [
  {
   "cell_type": "code",
   "execution_count": 1,
   "metadata": {},
   "outputs": [
    {
     "data": {
      "text/plain": [
       "[8, 9, 1, 2, 5, 6, 4]"
      ]
     },
     "execution_count": 1,
     "metadata": {},
     "output_type": "execute_result"
    }
   ],
   "source": [
    "# Split the array and add it to the end:\n",
    "\n",
    "def SPL(arr,n,k):\n",
    "    for i in range(0,k):\n",
    "        temp = arr[0]\n",
    "        for i in range(0,n-1):\n",
    "            arr[i]=arr[i+1]\n",
    "        arr[n-1] = temp\n",
    "    return arr\n",
    "arr = [5,6,4,8,9,1,2]\n",
    "k = 3\n",
    "SPL(arr,len(arr),k)"
   ]
  },
  {
   "cell_type": "code",
   "execution_count": 3,
   "metadata": {},
   "outputs": [
    {
     "name": "stdout",
     "output_type": "stream",
     "text": [
      "8\n"
     ]
    }
   ],
   "source": [
    "def findKth( arr, n, k): \n",
    "  \n",
    "    missing = dict() \n",
    "    count = 0\n",
    "  \n",
    "    # Insert all the elements in a set \n",
    "    for i in range(n): \n",
    "        missing[arr[i]] = 1\n",
    "  \n",
    "    # Find the maximum and minimum element \n",
    "    maxm = max(arr) \n",
    "    minm = min(arr) \n",
    "  \n",
    "    # Traverse from the minimum to maximum element \n",
    "    for i in range(minm + 1, maxm): \n",
    "          \n",
    "        # Check if \"i\" is missing \n",
    "        if (i not in missing.keys()): \n",
    "            count += 1\n",
    "  \n",
    "        # Check if it is kth missing \n",
    "        if (count == k): \n",
    "            return i \n",
    "      \n",
    "    # If no kth element is missing \n",
    "    return -1\n",
    "  \n",
    "# Driver code \n",
    "arr = [2, 18, 9, 4, 14,16,11 ] \n",
    "n = len(arr) \n",
    "k = 5\n",
    "print(findKth(arr, n, k)) "
   ]
  },
  {
   "cell_type": "code",
   "execution_count": 7,
   "metadata": {},
   "outputs": [
    {
     "data": {
      "text/plain": [
       "[7, 8, 4, 9, 6, 5, 2, 1]"
      ]
     },
     "execution_count": 7,
     "metadata": {},
     "output_type": "execute_result"
    }
   ],
   "source": [
    "def rev(arr,start,end):\n",
    "    while (start<end):\n",
    "        temp = arr[start]\n",
    "        arr[start] = arr[end]\n",
    "        arr[end] = temp\n",
    "        start = start+1\n",
    "        end = end-1\n",
    "    return arr\n",
    "arr = [1,2,5,6,9,4,8,7]\n",
    "rev(arr,0,len(arr)-1)"
   ]
  },
  {
   "cell_type": "code",
   "execution_count": 13,
   "metadata": {},
   "outputs": [
    {
     "data": {
      "text/plain": [
       "[9, 6, 5, 8, 1, 2]"
      ]
     },
     "execution_count": 13,
     "metadata": {},
     "output_type": "execute_result"
    }
   ],
   "source": [
    "def rev(arr,start,end):\n",
    "    while (start<end):\n",
    "        temp = arr[start]\n",
    "        arr[start] = arr[end]\n",
    "        arr[end] = temp\n",
    "        start = start+1\n",
    "        end = end-1\n",
    "    return arr\n",
    "def LFR(arr,n,d):\n",
    "    n = len(arr)\n",
    "    for i in range(d):\n",
    "        rev(arr,n-d,n-1)\n",
    "        rev(arr,0,n-d-1)\n",
    "        rev(arr,0,n-1)\n",
    "    return arr\n",
    "arr = [1,2,9,6,5,8]\n",
    "n = len(arr)\n",
    "d = 2\n",
    "LFR(arr,n,d)\n",
    "    "
   ]
  },
  {
   "cell_type": "code",
   "execution_count": 14,
   "metadata": {},
   "outputs": [
    {
     "data": {
      "text/plain": [
       "[2, 3, 4, 7, 1]"
      ]
     },
     "execution_count": 14,
     "metadata": {},
     "output_type": "execute_result"
    }
   ],
   "source": [
    "def LR(a,n,d):\n",
    "    for i in range(d):\n",
    "        return ROT(a,n)\n",
    "def ROT(a,n):\n",
    "    temp = a[0]\n",
    "    for i in range(len(a)-1):\n",
    "        \n",
    "        a[i] = a[i+1]\n",
    "    a[n-1] = temp\n",
    "    return a\n",
    "\n",
    "arr = [1,2,3,4,7]\n",
    "d = 1\n",
    "n = len(arr)\n",
    "LR(arr,n,d)"
   ]
  },
  {
   "cell_type": "code",
   "execution_count": 34,
   "metadata": {},
   "outputs": [
    {
     "data": {
      "text/plain": [
       "[1, 2, 3, 4, 1]"
      ]
     },
     "execution_count": 34,
     "metadata": {},
     "output_type": "execute_result"
    }
   ],
   "source": [
    "def lft(arr,d):\n",
    "    for i in range(d):\n",
    "        temp = arr[0]\n",
    "        arr.pop()\n",
    "        arr.append(temp)\n",
    "    return arr\n",
    "arr = [1,2,3,4,5]\n",
    "lft(arr,4)"
   ]
  },
  {
   "cell_type": "code",
   "execution_count": 33,
   "metadata": {},
   "outputs": [
    {
     "data": {
      "text/plain": [
       "[4, 5, 1, 2, 3]"
      ]
     },
     "execution_count": 33,
     "metadata": {},
     "output_type": "execute_result"
    }
   ],
   "source": [
    "def rt(arr,d,n):\n",
    "    for i in range(d):\n",
    "        temp = arr[n-1]\n",
    "        arr.pop()\n",
    "        arr.insert(0,temp)\n",
    "    return arr\n",
    "arr = [1,2,3,4,5]\n",
    "rt(arr,2,len(arr))"
   ]
  },
  {
   "cell_type": "code",
   "execution_count": 2,
   "metadata": {},
   "outputs": [
    {
     "ename": "ValueError",
     "evalue": "too many values to unpack (expected 2)",
     "output_type": "error",
     "traceback": [
      "\u001b[1;31m---------------------------------------------------------------------------\u001b[0m",
      "\u001b[1;31mValueError\u001b[0m                                Traceback (most recent call last)",
      "\u001b[1;32m<ipython-input-2-98db7309e071>\u001b[0m in \u001b[0;36m<module>\u001b[1;34m()\u001b[0m\n\u001b[0;32m      1\u001b[0m \u001b[0marr1\u001b[0m \u001b[1;33m=\u001b[0m \u001b[1;33m[\u001b[0m\u001b[1;36m1\u001b[0m\u001b[1;33m,\u001b[0m\u001b[1;36m2\u001b[0m\u001b[1;33m,\u001b[0m\u001b[1;36m3\u001b[0m\u001b[1;33m,\u001b[0m\u001b[1;36m4\u001b[0m\u001b[1;33m]\u001b[0m\u001b[1;33m\u001b[0m\u001b[0m\n\u001b[0;32m      2\u001b[0m \u001b[0marr2\u001b[0m \u001b[1;33m=\u001b[0m \u001b[1;33m[\u001b[0m\u001b[1;36m10\u001b[0m\u001b[1;33m,\u001b[0m\u001b[1;36m11\u001b[0m\u001b[1;33m,\u001b[0m\u001b[1;36m12\u001b[0m\u001b[1;33m,\u001b[0m\u001b[1;36m13\u001b[0m\u001b[1;33m]\u001b[0m\u001b[1;33m\u001b[0m\u001b[0m\n\u001b[1;32m----> 3\u001b[1;33m \u001b[1;32mfor\u001b[0m \u001b[0mi\u001b[0m\u001b[1;33m,\u001b[0m \u001b[0mj\u001b[0m \u001b[1;32min\u001b[0m \u001b[0marr1\u001b[0m\u001b[1;33m,\u001b[0m \u001b[0marr2\u001b[0m\u001b[1;33m:\u001b[0m\u001b[1;33m\u001b[0m\u001b[0m\n\u001b[0m\u001b[0;32m      4\u001b[0m     \u001b[0mprint\u001b[0m\u001b[1;33m(\u001b[0m\u001b[0mi\u001b[0m\u001b[1;33m,\u001b[0m \u001b[0mj\u001b[0m\u001b[1;33m)\u001b[0m\u001b[1;33m\u001b[0m\u001b[0m\n",
      "\u001b[1;31mValueError\u001b[0m: too many values to unpack (expected 2)"
     ]
    }
   ],
   "source": [
    "arr1 = [1,2,3,4]\n",
    "arr2 = [10,11,12,13]\n",
    "for i, j in arr1, arr2:\n",
    "    print(i, j)"
   ]
  },
  {
   "cell_type": "code",
   "execution_count": 20,
   "metadata": {},
   "outputs": [
    {
     "data": {
      "text/plain": [
       "4"
      ]
     },
     "execution_count": 20,
     "metadata": {},
     "output_type": "execute_result"
    }
   ],
   "source": [
    "#K th missing element in the sorted array:\n",
    "\n",
    "def KMISS(arr,n,k):\n",
    "    arr.sort()\n",
    "    missing = []\n",
    "    mini = arr[0]\n",
    "    n = len(arr)\n",
    "    maxi = arr[n-1]\n",
    "    for i in range(mini+1,maxi):\n",
    "        \n",
    "        if i not in arr:\n",
    "            missing.append(i)\n",
    "    return missing[k-1]\n",
    "\n",
    "   \n",
    "\n",
    "arr = [2,6,7]\n",
    "k = 2\n",
    "KMISS(arr,n,k)\n",
    "    "
   ]
  },
  {
   "cell_type": "code",
   "execution_count": 21,
   "metadata": {},
   "outputs": [
    {
     "data": {
      "text/plain": [
       "4"
      ]
     },
     "execution_count": 21,
     "metadata": {},
     "output_type": "execute_result"
    }
   ],
   "source": [
    "def kmis(arr,n,k):\n",
    "    missing  = dict()\n",
    "    count = 0\n",
    "    maxi = max(arr)\n",
    "    mini = min(arr)\n",
    "    for i in range(mini+1,maxi):\n",
    "        if (i not in missing.keys()):\n",
    "            count +=1\n",
    "        if (count == k):\n",
    "            return i\n",
    "    return -1\n",
    "\n",
    "arr = [2,6,10,8]\n",
    "k = 2\n",
    "n = len(arr)\n",
    "kmis(arr,n,k)"
   ]
  },
  {
   "cell_type": "code",
   "execution_count": null,
   "metadata": {},
   "outputs": [],
   "source": [
    "# removing the duplicates from the array;\n"
   ]
  },
  {
   "cell_type": "code",
   "execution_count": null,
   "metadata": {},
   "outputs": [],
   "source": [
    "a1 = [1,3,11]\n",
    "a2  = [2,4,8]\n",
    "summations = []\n",
    "lst = []\n",
    "for i in a1:\n",
    "    for j in a2:\n",
    "        summations.append(i+j)\n",
    "print(summations)\n",
    "\n",
    "\n",
    "    \n"
   ]
  },
  {
   "cell_type": "code",
   "execution_count": 23,
   "metadata": {},
   "outputs": [
    {
     "name": "stdout",
     "output_type": "stream",
     "text": [
      "1 2 1 4 1 8 3 2 3 4 3 8 11 2 11 4 11 8 "
     ]
    }
   ],
   "source": [
    "import sys\n",
    "minsum = sys.maxsize\n",
    "a1 = [1,3,11]\n",
    "a2 = [2,4,8]\n",
    "n1 = len(a1)\n",
    "n2 = len(a2)\n",
    "for i in range(0,n1,1):\n",
    "    for j in range(0,n2,1):\n",
    "        if (i+j)<minsum:\n",
    "            minsum = (i+j)\n",
    "        print(a1[i],a2[j],end =\" \")\n"
   ]
  },
  {
   "cell_type": "code",
   "execution_count": 2,
   "metadata": {},
   "outputs": [
    {
     "name": "stdout",
     "output_type": "stream",
     "text": [
      "[11, 1, 10, 2, 9, 3, 8, 4, 7, 5, 6]\n"
     ]
    }
   ],
   "source": [
    "# array in maximum and minimum form\n",
    "arr = [1,2,3,4,5,6,7,8,9,10,11]\n",
    "result = []\n",
    "start = 0 \n",
    "end = (len(arr)-1)\n",
    "while (start<end):\n",
    "    result.append(arr[end])\n",
    "    result.append(arr[start])\n",
    "    start = start+1\n",
    "    end = end-1\n",
    "if start == end:\n",
    "    result.append(arr[end])\n",
    "\n",
    "        \n",
    "print(result)\n",
    "\n",
    "    \n",
    "    "
   ]
  },
  {
   "cell_type": "code",
   "execution_count": null,
   "metadata": {},
   "outputs": [],
   "source": [
    "arr = [9,5,6,4,2,3,1,10]\n",
    "min(arr)\n",
    "    "
   ]
  },
  {
   "cell_type": "code",
   "execution_count": 24,
   "metadata": {},
   "outputs": [
    {
     "data": {
      "text/plain": [
       "6"
      ]
     },
     "execution_count": 24,
     "metadata": {},
     "output_type": "execute_result"
    }
   ],
   "source": [
    "# pair count in the array x<y\n",
    "\n",
    "def countpair(arr,n):\n",
    "    count = 0\n",
    "    for i in range(n):\n",
    "        for j in range(n):\n",
    "            if arr[i]<arr[j]:\n",
    "                count += 1\n",
    "    return count\n",
    "arr = [1,2,3,4]\n",
    "countpair(arr,len(arr))"
   ]
  },
  {
   "cell_type": "code",
   "execution_count": 26,
   "metadata": {},
   "outputs": [
    {
     "name": "stdout",
     "output_type": "stream",
     "text": [
      "{(1, 2), (3, 2), (1, 3), (4, 1), (3, 3), (3, 1), (4, 4), (2, 1), (1, 4), (2, 4), (2, 3), (4, 3), (2, 2), (4, 2), (3, 4), (1, 1)}\n"
     ]
    },
    {
     "data": {
      "text/plain": [
       "16"
      ]
     },
     "execution_count": 26,
     "metadata": {},
     "output_type": "execute_result"
    }
   ],
   "source": [
    "# count of unique pairs:\n",
    "\n",
    "def CountUniquePair(arr,n):\n",
    "    s = set()\n",
    "    for i in range(n):\n",
    "        for j in range(n):\n",
    "            s.add((arr[i],arr[j]))\n",
    "    print(s)\n",
    "    return len(s)\n",
    "arr = [1,2,3,4]\n",
    "n = len(arr)\n",
    "CountUniquePair(arr,n)"
   ]
  },
  {
   "cell_type": "code",
   "execution_count": 28,
   "metadata": {},
   "outputs": [
    {
     "data": {
      "text/plain": [
       "3"
      ]
     },
     "execution_count": 28,
     "metadata": {},
     "output_type": "execute_result"
    }
   ],
   "source": [
    "# finding the elemnts count that divides the sum of all other elements\n",
    "\n",
    "def cod(arr,n):\n",
    "    count = 0\n",
    "    for i in range(n):\n",
    "        if ((sum(arr))%arr[i]) == 0:\n",
    "            count += 1\n",
    "    return count\n",
    "arr = [3,10,4,6,7]\n",
    "n  = len(arr)\n",
    "cod(arr,n)"
   ]
  },
  {
   "cell_type": "code",
   "execution_count": null,
   "metadata": {},
   "outputs": [],
   "source": [
    "arr.index(2)"
   ]
  },
  {
   "cell_type": "code",
   "execution_count": null,
   "metadata": {},
   "outputs": [],
   "source": [
    "#leet code two sum:\n",
    "    \n",
    "arr = [1,2,3,4,8]\n",
    "list1 = []\n",
    "target = 9\n",
    "k=0\n",
    "for i in arr:\n",
    "    k+=1\n",
    "    if target-i in arr[k:]:\n",
    "        list1.append(k-1)\n",
    "        list1.append(arr[k:].index(target-i)+k)\n",
    "print(list1)\n",
    "    "
   ]
  },
  {
   "cell_type": "code",
   "execution_count": null,
   "metadata": {},
   "outputs": [],
   "source": [
    "arr = [100,9,10,2,3,4,45,54,12,11,17,19,101,91,1,89,0,84,57,-58]\n",
    "\n",
    "maxi = arr[0]\n",
    "for i in arr[1:]:\n",
    "    if i>maxi:\n",
    "        maxi = i\n",
    "print(maxi)"
   ]
  },
  {
   "cell_type": "code",
   "execution_count": 29,
   "metadata": {},
   "outputs": [
    {
     "name": "stdout",
     "output_type": "stream",
     "text": [
      "7\n",
      "4\n"
     ]
    }
   ],
   "source": [
    "arr = [2,4,6,8,10,5,7,9,12,14,13]\n",
    "even = []\n",
    "odd = []\n",
    "prime = []\n",
    "for i in arr:\n",
    "    if i%2 ==0:\n",
    "        even.append(i)\n",
    "    else:\n",
    "        odd.append(i)\n",
    "        \n",
    "print(len(even))\n",
    "print(len(odd))"
   ]
  },
  {
   "cell_type": "code",
   "execution_count": null,
   "metadata": {},
   "outputs": [],
   "source": [
    "# missing element in the array:\n",
    "arr  = [1,2,3,4,5,7]\n",
    "n = len(arr)\n",
    "total = (n+1)*(n+2)/2\n",
    "sum_arr = sum(arr)\n",
    "print(int(total-sum_arr))"
   ]
  },
  {
   "cell_type": "code",
   "execution_count": null,
   "metadata": {},
   "outputs": [],
   "source": [
    "\n",
    "def stockSpan(arr,s,n):\n",
    "    s = []\n",
    "    s[i] = 1\n",
    "    s.append(1)\n",
    "    n = len(arr)\n",
    "    for i in arr[1:]:\n",
    "        j = i-1\n",
    "        if arr[i]<arr[j]:\n",
    "            s[i] +=0\n",
    "            s.append(s[i])\n",
    "        else:\n",
    "            s[i] +=1\n",
    "            s.append(s[i])\n",
    "            \n",
    "arr = [100, 80, 60, 70, 60, 75, 85]   \n",
    "\n",
    "\n"
   ]
  },
  {
   "cell_type": "code",
   "execution_count": 31,
   "metadata": {},
   "outputs": [
    {
     "name": "stdout",
     "output_type": "stream",
     "text": [
      "['a', '2', 'b', '4', 'c', '2', 'd', '1', 'e', '2']\n",
      "10\n"
     ]
    }
   ],
   "source": [
    "list1 = ['a','b','b','b','b','c','c','d','e','e','a']\n",
    "result = []\n",
    "\n",
    "for char in list1:\n",
    "    if char not in result:\n",
    "        result.append(char)\n",
    "        result.append(str(list1.count(char)))\n",
    "        list1.remove(char)\n",
    "        \n",
    "print(result)\n",
    "print(len(result))\n"
   ]
  },
  {
   "cell_type": "code",
   "execution_count": null,
   "metadata": {},
   "outputs": [],
   "source": [
    "#leetcode 1\n",
    "def twoSum(nums,target):\n",
    "    list1 = []\n",
    "    k=0\n",
    "    for i in nums:\n",
    "        k +=1\n",
    "        if target-i in nums[k:]:\n",
    "            list1.append(k-1)\n",
    "            list1.append(nums[k:].index(target-i)+k)\n",
    "    return list1\n",
    "nums = [11,15,2,7]\n",
    "target = 9\n",
    "twoSum(nums,target)"
   ]
  },
  {
   "cell_type": "code",
   "execution_count": 32,
   "metadata": {},
   "outputs": [
    {
     "name": "stdout",
     "output_type": "stream",
     "text": [
      "1\n"
     ]
    }
   ],
   "source": [
    "arr = [5,3,4,1,4,8,1,2,7,7,6,1]\n",
    "s = 13\n",
    "min_length = len(arr) \n",
    "start = 0\n",
    "end = 0\n",
    "current_sum = 0\n",
    "for end in range(len(arr)):\n",
    "    current_sum += arr[end]\n",
    "    while(current_sum>s):\n",
    "        min_length = min(min_length, end - start)\n",
    "        current_sum -= arr[start]\n",
    "        start += 1\n",
    "print(min_length)\n",
    "        \n",
    "    "
   ]
  },
  {
   "cell_type": "code",
   "execution_count": null,
   "metadata": {},
   "outputs": [],
   "source": [
    "# Kth missing number in unsorted arry:\n",
    "\n",
    "arr = [1,5,9,10]\n",
    "#miss = [2,3,4,6,7,8]\n",
    "miss = []\n",
    "mini = min(arr)\n",
    "maxi = max(arr)\n",
    "for i in range(mini+1, maxi):\n",
    "    if i not in arr:\n",
    "        miss.append(i)\n",
    "print(miss)"
   ]
  },
  {
   "cell_type": "code",
   "execution_count": null,
   "metadata": {},
   "outputs": [],
   "source": [
    "\"\"\"# to print all the files in the directory\n",
    "import os\n",
    "listOfFiles = os.listdir(r\"C:\\python-arrays\")\n",
    "for l in listOfFiles:\n",
    "    print(l)\n",
    "    \n",
    "    \n",
    "# 2nd way:\n",
    "import glob\n",
    "dirList = glob.glob(r\"C:\\python-arrays\")\n",
    "for d in dirList:\n",
    "    print(d)\n",
    "    \n",
    "    \n",
    "\"\"\"\n",
    "\n",
    "# 3rd way:\n",
    "from os import walk\n",
    "path = \"C:/Users/veliv/Desktop/Simplilearn\"\n",
    "for(dirpath,dirnames,filenames) in walk(path):\n",
    "    print(dirnames, filenames)\n",
    "    break\n",
    "    "
   ]
  },
  {
   "cell_type": "code",
   "execution_count": null,
   "metadata": {},
   "outputs": [],
   "source": [
    "# palendrome:\n",
    "\n",
    "x = str(input(\"enter\"))\n",
    "print(x[::-1])\n",
    "if x[::-1] == x:\n",
    "    print(True)\n",
    "else:\n",
    "    print(False)\n",
    "    \n"
   ]
  },
  {
   "cell_type": "code",
   "execution_count": 5,
   "metadata": {},
   "outputs": [
    {
     "data": {
      "text/plain": [
       "2"
      ]
     },
     "execution_count": 5,
     "metadata": {},
     "output_type": "execute_result"
    }
   ],
   "source": [
    "#GCD\n",
    "\"\"\"def gcd(a,b):\n",
    "    if b==0:\n",
    "        return a\n",
    "    else:\n",
    "        return gcd(b,a%b)\n",
    "    \n",
    "gcd(48,60)\"\"\"\n",
    "\n",
    "def gcd(x,y):\n",
    "    while(y):\n",
    "        x,y = y,x%y\n",
    "    return x\n",
    "gcd(2,4)"
   ]
  },
  {
   "cell_type": "code",
   "execution_count": null,
   "metadata": {},
   "outputs": [],
   "source": [
    "# elevator design problem:\n"
   ]
  },
  {
   "cell_type": "code",
   "execution_count": null,
   "metadata": {},
   "outputs": [],
   "source": [
    "# most frequent element in the list:\n",
    "\n",
    "lis = [1,2, 2, 2, 1, 3,1,1,2]\n",
    "count = 0\n",
    "for i in lis:\n",
    "    if lis.count(i) > count:\n",
    "        count = lis.count(i)\n",
    "\n",
    "print(i)\n",
    "    "
   ]
  },
  {
   "cell_type": "code",
   "execution_count": null,
   "metadata": {},
   "outputs": [],
   "source": [
    "# prime number program:\n",
    "\n",
    "lower = 2\n",
    "upper = 10\n",
    "for i in range(lower,upper+1):\n",
    "    if i>1:\n",
    "        for j in range(2,i):\n",
    "            if i%j == 0:\n",
    "                break\n",
    "        else:\n",
    "            print(i)"
   ]
  },
  {
   "cell_type": "code",
   "execution_count": null,
   "metadata": {},
   "outputs": [],
   "source": [
    "# to check whether the given number is prime or not?\n",
    "num = 10\n",
    "count = 0\n",
    "if num>1:\n",
    "    for i in range(2,num,1):\n",
    "        if (num%i) == 0:\n",
    "            break\n",
    "    else:\n",
    "        count+=1\n",
    "            \n",
    "print(count)"
   ]
  },
  {
   "cell_type": "code",
   "execution_count": null,
   "metadata": {},
   "outputs": [],
   "source": [
    "# finding the first closest pont to the target:\n",
    "\n",
    "arr  = [1,5,9,10,6,7,15]\n",
    "target  = 8\n",
    "dist =  []\n",
    "for i in range(len(arr)):\n",
    "    dist.append((target-arr[i]))\n",
    "\n",
    "if min(dist)<0:\n",
    "    print(target-(min(dist)))\n",
    "else:\n",
    "    print(target-min(dist))\n",
    "    "
   ]
  },
  {
   "cell_type": "code",
   "execution_count": 34,
   "metadata": {},
   "outputs": [
    {
     "name": "stdout",
     "output_type": "stream",
     "text": [
      "[15, 17, 21]\n"
     ]
    }
   ],
   "source": [
    "# k maximum elements present in the array------- minimum heap\n",
    "\n",
    "arr = [8,1,9,14,15,17,21,6,3]\n",
    "k = 3\n",
    "temp = arr[0:k]\n",
    "for i in range(k-1,len(arr),1):\n",
    "    \n",
    "    if min(temp)<arr[i]:\n",
    "        temp.remove(min(temp))\n",
    "        temp.append(arr[i])\n",
    "        \n",
    "print(temp)"
   ]
  },
  {
   "cell_type": "code",
   "execution_count": 35,
   "metadata": {},
   "outputs": [
    {
     "name": "stdout",
     "output_type": "stream",
     "text": [
      "[1, 6, 3]\n"
     ]
    }
   ],
   "source": [
    "# k minimum elements in the array------ maximum heap:\n",
    "\n",
    "arr = [8,1,9,14,15,17,21,6,3]\n",
    "k = 3\n",
    "temp = arr[0:k]\n",
    "for i in range(k-1,len(arr),1):\n",
    "    if max(temp)>arr[i]:\n",
    "        temp.remove(max(temp))\n",
    "        temp.append(arr[i])\n",
    "print(temp)"
   ]
  },
  {
   "cell_type": "code",
   "execution_count": 36,
   "metadata": {},
   "outputs": [
    {
     "name": "stdout",
     "output_type": "stream",
     "text": [
      "1 8\n"
     ]
    }
   ],
   "source": [
    "# first and second smallest elements in the list\n",
    "arr = [15,12,10,1,9,11,8]\n",
    "first = arr[0]\n",
    "second = arr[0]\n",
    "for i in range(1,len(arr)):\n",
    "    if arr[i]<first:\n",
    "        second = first\n",
    "        first = arr[i]\n",
    "        \n",
    "    elif (arr[i] < second and arr[i] != first): \n",
    "        second = arr[i]\n",
    "print(first,second)\n",
    "\n",
    "        "
   ]
  },
  {
   "cell_type": "code",
   "execution_count": null,
   "metadata": {},
   "outputs": [],
   "source": [
    "# largest perfect square in an array:\n",
    "\n",
    "from math import sqrt\n",
    "def chk(n):\n",
    "    d = sqrt(n)\n",
    "    if d*d == n:\n",
    "        return True\n",
    "    return False\n",
    "\n",
    "def larg(arr,n):\n",
    "    maxi = -1\n",
    "    for i in range(len(arr)):\n",
    "        if chk(arr[i]):\n",
    "            maxi = max(maxi,arr[i])\n",
    "    return maxi\n",
    "\n",
    "arr = [1,2,3,9,16,100,256,400,1011]\n",
    "larg(arr,len(arr))"
   ]
  },
  {
   "cell_type": "code",
   "execution_count": null,
   "metadata": {},
   "outputs": [],
   "source": [
    "\"\"\"BFS and DFS:\n",
    "Breadth First Search----- Level order Traversal:\n",
    "Depth First Search --> Inorder Traversal---> left-root-right\n",
    "                       Pre-Order Traversal--> root-left-right\n",
    "                       \n",
    "                       Post order Traversal--> left-right-root\"\"\"\n",
    "\n",
    "\n",
    "\n",
    "from collections import defaultdict\n",
    "class Graph:\n",
    "    def __init__(self):\n",
    "        self.graph = defaultdict(list)\n",
    "    def addEdge(self,u,v):\n",
    "        self.graph[u].append(v)\n",
    "\n",
    "    def BFS(self,s):\n",
    "        visited = [False]*(len(self.graph))\n",
    "        queue = []\n",
    "        \n",
    "        queue.append(s)\n",
    "        visited[s] = True\n",
    "        \n",
    "        while queue:\n",
    "            s = queue.pop(0)\n",
    "            print(s, end = \" \")\n",
    "            \n",
    "            for i in self.graph[s]:\n",
    "                if visited[i] == False:\n",
    "                    queue.append(i)\n",
    "                    visited[i] = True\n",
    "                    \n",
    "g = Graph() \n",
    "g.addEdge(0, 1) \n",
    "g.addEdge(0, 2) \n",
    "g.addEdge(1, 2) \n",
    "g.addEdge(2, 0) \n",
    "g.addEdge(2, 3) \n",
    "g.addEdge(3, 3) \n",
    "g.BFS(2)"
   ]
  },
  {
   "cell_type": "code",
   "execution_count": null,
   "metadata": {},
   "outputs": [],
   "source": [
    "from collections import defaultdict\n",
    "class Graph:\n",
    "    def __init__(self):\n",
    "        self.graph = defaultdict(list)\n",
    "    def addEdge(self,x,y):\n",
    "        self.graph[x].append(y)\n",
    "    def BFS(self,s):\n",
    "        visited = [False]*(len(self.graph))\n",
    "        q = []\n",
    "        \n",
    "        q.append(s)\n",
    "        visited[s] = True\n",
    "        while q:\n",
    "            s = q.pop(0)\n",
    "            print(s, end = \" \")\n",
    "            \n",
    "            for i in self.graph[s]:\n",
    "                if visited[i] == False:\n",
    "                    q.append(i)\n",
    "                    visited[i] = True\n",
    "                    \n",
    "g = Graph()\n",
    "g.addEdge(2,1)\n",
    "g.addEdge(1,0)\n",
    "g.addEdge(0,0,)\n",
    "g.addEdge(1,4)\n",
    "g.addEdge(0,4)\n",
    "\n",
    "\n",
    "g.BFS(2)\n",
    "        \n",
    "    "
   ]
  },
  {
   "cell_type": "code",
   "execution_count": null,
   "metadata": {},
   "outputs": [],
   "source": [
    "class Node:\n",
    "    def __init__(self,data):\n",
    "        self.data = data\n",
    "        self.next = None\n",
    "class LinkedList:\n",
    "    def __init__(self):\n",
    "        self.head = None\n",
    "    def ATB(self,new_data):\n",
    "        New_Node = Node(new_data)\n",
    "        New_Node.next = self.head\n",
    "        self.head = New_Node\n",
    "    def IB(self,middle_node, new_data):\n",
    "        New_Node = Node(new_data)\n",
    "        New_Node.next = middle_node.next\n",
    "        middle_node.next = New_Node\n",
    "    def End(self, new_data):\n",
    "        New_Node = Node(new_data)\n",
    "        last = self.head\n",
    "        while last.next:\n",
    "            last = last.next\n",
    "        last.next = New_Node\n",
    "    def print_LList(self):\n",
    "        temp = self.head\n",
    "        while temp:\n",
    "            print(temp.data)\n",
    "            temp = temp.next\n",
    "    \n",
    "llist = LinkedList()\n",
    "llist.head = Node(\"Radha Krishna Murthy\")\n",
    "second = Node(\"edukondalu\")\n",
    "third = Node(\"hari velivela\")\n",
    "fourth = Node(\"kcp\")\n",
    "\n",
    "llist.head.next = second\n",
    "second.next = third\n",
    "third.next = fourth\n",
    "llist.ATB(\"venkaiah- Manikyamma\")\n",
    "llist.IB(second,\"venkata Ramana\")\n",
    "llist.IB(second,\"Rangamma\")\n",
    "llist.End(\"Krishna Mandir\")\n",
    "llist.print_LList()"
   ]
  },
  {
   "cell_type": "code",
   "execution_count": null,
   "metadata": {},
   "outputs": [],
   "source": [
    "# fibanocci series:\n",
    "\n",
    "def fib(n):\n",
    "    a,b = 0,1\n",
    "    while a<n:\n",
    "        print(a, end = \" \")\n",
    "        \n",
    "        a,b = b, a+b\n",
    "    return \n",
    "fib(1000)"
   ]
  },
  {
   "cell_type": "code",
   "execution_count": null,
   "metadata": {},
   "outputs": [],
   "source": [
    "def insertAtBottom(stack, item): \n",
    "    if isEmpty(stack): \n",
    "        push(stack, item) \n",
    "    else: \n",
    "        temp = pop(stack) \n",
    "        insertAtBottom(stack, item) \n",
    "        push(stack, temp)  \n",
    "def reverse(stack): \n",
    "    if not isEmpty(stack): \n",
    "        temp = pop(stack) \n",
    "        reverse(stack) \n",
    "        insertAtBottom(stack, temp) \n",
    "def createStack():\n",
    "    stack = [] \n",
    "    return stack \n",
    "  \n",
    "def isEmpty( stack ): \n",
    "    return len(stack) == 0\n",
    "  \n",
    "def push( stack, item ): \n",
    "    stack.append( item ) \n",
    "\n",
    "def pop( stack ): \n",
    "    if(isEmpty( stack )): \n",
    "        print(\"Stack Underflow \") \n",
    "        exit(1) \n",
    "  \n",
    "    return stack.pop() \n",
    "\n",
    "def prints(stack): \n",
    "    for i in range(len(stack)-1, -1, -1): \n",
    "        print(stack[i], end = ' ') \n",
    "    print() \n",
    "  "
   ]
  },
  {
   "cell_type": "code",
   "execution_count": null,
   "metadata": {},
   "outputs": [],
   "source": [
    "# BFS:\n",
    "graph = {'A': ['B', 'C', 'E'],\n",
    "         'B': ['A','D', 'E'],\n",
    "         'C': ['A', 'F', 'G'],\n",
    "         'D': ['B'],\n",
    "         'E': ['A', 'B','D'],\n",
    "         'F': ['C'],\n",
    "         'G': ['C']}\n",
    "def BFS(graph,start):\n",
    "    visited = []\n",
    "    queue = []\n",
    "    queue.append(start)\n",
    "    while queue:\n",
    "        node = queue.pop(0)\n",
    "        if node not in visited:\n",
    "            visited.append(node)\n",
    "            neighbors = graph[node]\n",
    "            for neighbor in neighbors:\n",
    "                queue.append(neighbor)\n",
    "    return visited\n",
    "\n",
    "BFS(graph,'A')\n",
    "\n",
    "\n",
    "    "
   ]
  },
  {
   "cell_type": "code",
   "execution_count": null,
   "metadata": {},
   "outputs": [],
   "source": [
    "# DFS:\n",
    "\n",
    "def DFS(graph,start,path =[]):\n",
    "    path.append(start)\n",
    "    for neighbor in graph[start]:\n",
    "        if neighbor not in path:\n",
    "            path = DFS(graph,neighbor,path)\n",
    "    return path\n",
    "graph = {1: [2, 3], 2: [4, 5],\n",
    "         3: [5], 4: [6], 5: [6],\n",
    "         6: [7], 7: []}\n",
    "    \n",
    "    \n",
    "DFS(graph,1)"
   ]
  },
  {
   "cell_type": "code",
   "execution_count": null,
   "metadata": {},
   "outputs": [],
   "source": [
    "\"\"\"\n",
    "Apache Airflow\n",
    "\n",
    "1 -- > import the python dependencies\n",
    "2 -- > default arguments like owner, startdate,end date,email,dependson past, email on retry., email on failure,......\n",
    "3 -- > instantiate DAG: name, default_args, description,scheduled_interval\n",
    "4 -- > tasks: layout all the tasks what ETL need to perform\n",
    "5 -- > setting up the dependencies between the tasks \n",
    "\"\"\""
   ]
  },
  {
   "cell_type": "code",
   "execution_count": null,
   "metadata": {},
   "outputs": [],
   "source": [
    "def reverse(string):\n",
    "    if len(string) == 0:\n",
    "        return string\n",
    "    else:\n",
    "        return reverse(string[1:]) + string[0]\n",
    "a = str(input(\"Enter the string to be reversed: \"))\n",
    "print(reverse(a))\n"
   ]
  },
  {
   "cell_type": "code",
   "execution_count": null,
   "metadata": {},
   "outputs": [],
   "source": [
    "\n",
    "def check_inside(x,y):\n",
    "    if x>=0 and x<n and y>=0 and y<n:\n",
    "        return True\n",
    "\n",
    "x_change = [ 1, 2, 2, 1, -1, -2, -2, -1 ] \n",
    "y_change = [ 2, 1, -1, -2, -2, -1, 1, 2 ] \n",
    "\n",
    "def find_probability(r,c,steps):\n",
    "    dp1 = [[[0 for i in range(n+1)]\n",
    "               for j in range(n+1)]\n",
    "               for k in range(n+1)]\n",
    "    for i in range(n):\n",
    "        for j in range(n):\n",
    "            dp1[i][j][0] = 1\n",
    "    for s in range(1,steps+1):\n",
    "        for x in range(n):\n",
    "            for y in range(n):\n",
    "                pr = 0.0\n",
    "                \n",
    "                for i in range(n):\n",
    "                    tx = x + x_change[i]\n",
    "                    ty = y + y_change[i]\n",
    "                    \n",
    "                    if check_inside(tx,ty):\n",
    "                        pr += dp1[tx][ty][s-1]/8.0\n",
    "                dp1[x][y][s] = pr\n",
    "    return dp1[r][c][steps]\n",
    "\n",
    "n = 3\n",
    "find_probability(0,0,3)"
   ]
  },
  {
   "cell_type": "code",
   "execution_count": 37,
   "metadata": {},
   "outputs": [
    {
     "name": "stdout",
     "output_type": "stream",
     "text": [
      "20\n",
      "80\n"
     ]
    }
   ],
   "source": [
    "#common elements in 3 arrays:    \n",
    "def common3(arr1,arr2,arr3):\n",
    "    n1 = len(arr1)\n",
    "    n2 = len(arr2)\n",
    "    n3 = len(arr3)\n",
    "    i,j,k = 0,0,0\n",
    "    while(i<n1 and j<n2 and k<n3):\n",
    "        if (arr1[i] == arr2[j]) and (arr2[j] == arr3[k]):\n",
    "            print(arr1[i])\n",
    "            i+=1\n",
    "            j+=1\n",
    "            k+=1\n",
    "        elif arr1[i]<arr2[j]:\n",
    "            i+=1\n",
    "        elif arr2[j]<arr3[k]:\n",
    "            j+=1\n",
    "        else:\n",
    "            k+=1\n",
    "arr1 = [1, 5, 10, 20, 40, 80] \n",
    "arr2 = [6, 7, 20, 80, 100] \n",
    "arr3 = [3, 4, 15, 20, 30, 70, 80, 120] \n",
    "\n",
    "common3(arr1,arr2,arr3)\n",
    "            "
   ]
  },
  {
   "cell_type": "code",
   "execution_count": 38,
   "metadata": {},
   "outputs": [
    {
     "name": "stdout",
     "output_type": "stream",
     "text": [
      "[1, 0, 1]\n"
     ]
    }
   ],
   "source": [
    "# hacker rank \n",
    "l1 = ['def','de','fgh']\n",
    "\n",
    "l2 = ['de','lmn','fgh']\n",
    "res = []\n",
    "for i in l2:\n",
    "    p = l1.count(i)\n",
    "    res.append(p)\n",
    "print(res)"
   ]
  },
  {
   "cell_type": "code",
   "execution_count": null,
   "metadata": {},
   "outputs": [],
   "source": [
    "def fun(n,n1):\n",
    "    arr =[0]*n\n",
    "    for i in range(n1):\n",
    "        "
   ]
  },
  {
   "cell_type": "code",
   "execution_count": 39,
   "metadata": {},
   "outputs": [
    {
     "ename": "IndexError",
     "evalue": "list assignment index out of range",
     "output_type": "error",
     "traceback": [
      "\u001b[1;31m---------------------------------------------------------------------------\u001b[0m",
      "\u001b[1;31mIndexError\u001b[0m                                Traceback (most recent call last)",
      "\u001b[1;32m<ipython-input-39-e7c7517440f2>\u001b[0m in \u001b[0;36m<module>\u001b[1;34m()\u001b[0m\n\u001b[0;32m      5\u001b[0m     \u001b[1;32mif\u001b[0m \u001b[0mi\u001b[0m\u001b[1;33m<=\u001b[0m\u001b[0mk\u001b[0m\u001b[1;33m:\u001b[0m\u001b[1;33m\u001b[0m\u001b[0m\n\u001b[0;32m      6\u001b[0m         \u001b[0ml\u001b[0m\u001b[1;33m.\u001b[0m\u001b[0msort\u001b[0m\u001b[1;33m(\u001b[0m\u001b[1;33m)\u001b[0m\u001b[1;33m\u001b[0m\u001b[0m\n\u001b[1;32m----> 7\u001b[1;33m         \u001b[0ml\u001b[0m\u001b[1;33m[\u001b[0m\u001b[0mi\u001b[0m\u001b[1;33m]\u001b[0m \u001b[1;33m=\u001b[0m \u001b[1;36m1\u001b[0m\u001b[1;33m*\u001b[0m\u001b[0ml\u001b[0m\u001b[1;33m[\u001b[0m\u001b[0ml\u001b[0m\u001b[1;33m.\u001b[0m\u001b[0mindex\u001b[0m\u001b[1;33m(\u001b[0m\u001b[0mi\u001b[0m\u001b[1;33m)\u001b[0m\u001b[1;33m]\u001b[0m\u001b[1;33m+\u001b[0m\u001b[1;36m2\u001b[0m\u001b[1;33m*\u001b[0m\u001b[0ml\u001b[0m\u001b[1;33m[\u001b[0m\u001b[0ml\u001b[0m\u001b[1;33m.\u001b[0m\u001b[0mindex\u001b[0m\u001b[1;33m(\u001b[0m\u001b[0mi\u001b[0m\u001b[1;33m)\u001b[0m\u001b[1;33m+\u001b[0m\u001b[1;36m1\u001b[0m\u001b[1;33m]\u001b[0m\u001b[1;33m\u001b[0m\u001b[0m\n\u001b[0m\u001b[0;32m      8\u001b[0m         \u001b[0ml\u001b[0m\u001b[1;33m.\u001b[0m\u001b[0mremove\u001b[0m\u001b[1;33m(\u001b[0m\u001b[0mi\u001b[0m\u001b[1;33m)\u001b[0m\u001b[1;33m\u001b[0m\u001b[0m\n\u001b[0;32m      9\u001b[0m         \u001b[0ml\u001b[0m\u001b[1;33m.\u001b[0m\u001b[0mappend\u001b[0m\u001b[1;33m(\u001b[0m\u001b[0ml\u001b[0m\u001b[1;33m[\u001b[0m\u001b[1;36m0\u001b[0m\u001b[1;33m]\u001b[0m\u001b[1;33m)\u001b[0m\u001b[1;33m\u001b[0m\u001b[0m\n",
      "\u001b[1;31mIndexError\u001b[0m: list assignment index out of range"
     ]
    }
   ],
   "source": [
    "l = [13,47,74,12,89,74,18,38]\n",
    "count = 0\n",
    "k = 90\n",
    "for i in l:\n",
    "    if i<=k:\n",
    "        l.sort()\n",
    "        l[i] = 1*l[l.index(i)]+2*l[l.index(i)+1]\n",
    "        l.remove(i)\n",
    "        l.append(l[0])\n",
    "        \n",
    "        count+=1\n",
    "    if sum(l)<k:\n",
    "        print(-1)\n",
    "print(count)"
   ]
  },
  {
   "cell_type": "code",
   "execution_count": null,
   "metadata": {},
   "outputs": [],
   "source": [
    "l = []\n",
    "n = 3\n",
    "for i in range(1,(n**2+1),1):\n",
    "    l.append(i)\n",
    "print(l)"
   ]
  },
  {
   "cell_type": "code",
   "execution_count": null,
   "metadata": {},
   "outputs": [],
   "source": [
    "\n",
    "\n",
    "def fun(a,start,end):\n",
    "    for i in range(start,end):\n",
    "        a[start],a[i] = a[i],a[start]\n",
    "        fun(a,start+1,end)\n",
    "        a[end],a[i] = a[i],a[end]\n",
    "    return ''.join(a)\n",
    "\n",
    "a = \"123\"\n",
    "fun(a,0,3)"
   ]
  },
  {
   "cell_type": "code",
   "execution_count": null,
   "metadata": {},
   "outputs": [],
   "source": [
    "# prime number program:\n",
    "n = 10\n",
    "c = 0\n",
    "for i in range(2,n+1):\n",
    "    if i>1:\n",
    "        for j in range(2,i):\n",
    "            if i%j == 0:\n",
    "                break\n",
    "        else:\n",
    "            c+=1\n",
    "print(c)\n"
   ]
  },
  {
   "cell_type": "code",
   "execution_count": null,
   "metadata": {},
   "outputs": [],
   "source": [
    "n  = 1520\n",
    "n = [int(i) for i in str(n)]\n",
    "print(n)"
   ]
  },
  {
   "cell_type": "code",
   "execution_count": null,
   "metadata": {},
   "outputs": [],
   "source": [
    "arr = [1,2,3,5,2]\n",
    "sum1 = 0\n",
    "sum2 = 0\n",
    "for i in range(0,len(arr),2):\n",
    "    sum1 = sum1+arr[i]\n",
    "for j in range(1,len(arr),2):\n",
    "    \n",
    "    sum2 = sum2 + arr[j]\n",
    "print(max(sum1,sum2))"
   ]
  },
  {
   "cell_type": "code",
   "execution_count": null,
   "metadata": {},
   "outputs": [],
   "source": [
    "\n",
    "def median(arr1):\n",
    "    n = len(arr1)\n",
    "    if n == 1:\n",
    "        return float(arr1[0])\n",
    "    if n>1:\n",
    "        mid = int(n/2)\n",
    "        if n%2 !=0:\n",
    "            arr1.sort()\n",
    "            return float(arr1[mid])\n",
    "        else:\n",
    "            arr1.sort()\n",
    "            return float((arr1[mid]+arr1[mid-1])/2)\n",
    "        \n",
    "        \n",
    "arr = [12,4,5,3,8,7]\n",
    "for i in range(len(arr)):\n",
    "    print(median(arr[0:i+1]))"
   ]
  },
  {
   "cell_type": "code",
   "execution_count": null,
   "metadata": {},
   "outputs": [],
   "source": [
    "arr = [1,2,5,4]\n",
    "a = [i for i, e in enumerate(arr) if e==1]\n",
    "print(a)"
   ]
  },
  {
   "cell_type": "code",
   "execution_count": null,
   "metadata": {},
   "outputs": [],
   "source": [
    "def myPow(x, n):\n",
    "    if n >0:\n",
    "        return x**n\n",
    "    else:\n",
    "        return (1/x**abs(n))\n",
    "myPow(2.00000,-2)"
   ]
  },
  {
   "cell_type": "code",
   "execution_count": null,
   "metadata": {},
   "outputs": [],
   "source": [
    "# third largest element in the array:\n",
    "\n",
    "arr = [-1,2,0]\n",
    "k = 2\n",
    "n = len(arr)\n",
    "h = arr[0:k]\n",
    "for i in range(k,len(arr),1):\n",
    "    if min(h)<arr[i]:\n",
    "        h.remove(min(h))\n",
    "        h.append(arr[i])\n",
    "h.sort()        \n",
    "print(h)\n",
    "    \n",
    "        \n",
    "\n",
    "        "
   ]
  },
  {
   "cell_type": "code",
   "execution_count": null,
   "metadata": {},
   "outputs": [],
   "source": [
    "k = 14\n",
    "def spli(k):\n",
    "    k = [int(x) for x in str(k)]\n",
    "for i in k:\n",
    "    k.append(sum(i**2))\n",
    "    "
   ]
  },
  {
   "cell_type": "code",
   "execution_count": null,
   "metadata": {},
   "outputs": [],
   "source": [
    "def moveZeroes(nums):\n",
    "    x = nums.count(0)\n",
    "    print(x)\n",
    "    if x==0:\n",
    "        return nums\n",
    "        \n",
    "    if x ==len(nums):\n",
    "        return nums\n",
    "    element = 0\n",
    "    for element in nums:\n",
    "        if element ==0:\n",
    "            nums.remove(element)\n",
    "            for i in range(x):\n",
    "                nums.append(0)\n",
    "            return nums\n",
    "\n",
    "arr  =[1,0,0]\n",
    "moveZeroes(arr)"
   ]
  },
  {
   "cell_type": "code",
   "execution_count": null,
   "metadata": {},
   "outputs": [],
   "source": [
    "nums = [1,0,0]\n",
    "x = nums.count(0)\n",
    "element = 0\n",
    "for i in range(x):\n",
    "    if element ==0:\n",
    "        nums.remove(element)\n",
    "print(nums)\n",
    "for j in range(x):\n",
    "    nums.append(0)\n",
    "print(nums)"
   ]
  },
  {
   "cell_type": "code",
   "execution_count": null,
   "metadata": {},
   "outputs": [],
   "source": [
    "def canWinNim(n):\n",
    "    if n%4 !=0:\n",
    "        return True\n",
    "    else:\n",
    "        return False\n",
    "canWinNim(7)"
   ]
  },
  {
   "cell_type": "code",
   "execution_count": null,
   "metadata": {},
   "outputs": [],
   "source": [
    "a = [1,2,6]\n",
    "b = [3,4,7,9]\n",
    "c = a+[0]*len(b)\n",
    "print(a)\n",
    "for i in range(len(b)):\n",
    "    c[i+len(a)] = b[i]\n",
    "c.sort()\n",
    "print(c)\n",
    "    "
   ]
  },
  {
   "cell_type": "code",
   "execution_count": null,
   "metadata": {},
   "outputs": [],
   "source": [
    "k = [1,8,9,7]\n",
    "k = [str(i) for i in k]\n",
    "k = int(\"\".join(k))\n",
    "print(k)\n",
    "s = [int(i) for i in str(k)]\n",
    "s"
   ]
  },
  {
   "cell_type": "code",
   "execution_count": null,
   "metadata": {},
   "outputs": [],
   "source": [
    "\n",
    "res=[]\n",
    "def cc(prices):\n",
    "    for i in range(len(prices)):\n",
    "        if prices[i+1] <= prices[i]:\n",
    "            return 0\n",
    "        else:\n",
    "            return max(k)-min(k)\n",
    "        \n",
    "    \n",
    "k = [1,2,4,8,9]\n",
    "cc(k)"
   ]
  },
  {
   "cell_type": "code",
   "execution_count": null,
   "metadata": {},
   "outputs": [],
   "source": [
    "7//2"
   ]
  },
  {
   "cell_type": "code",
   "execution_count": null,
   "metadata": {},
   "outputs": [],
   "source": [
    "arr =[1,0,2,0,0]\n",
    "ind = len(arr)-1\n",
    "count = 0\n",
    "for i in range(ind,0,-1):\n",
    "    if arr[i] ==0:\n",
    "        count +=1\n",
    "        ind -=1\n",
    "    else:\n",
    "        break\n",
    "print(count)"
   ]
  },
  {
   "cell_type": "code",
   "execution_count": null,
   "metadata": {},
   "outputs": [],
   "source": [
    "class Solution(object):\n",
    "    def fact(n):\n",
    "        if n==1:\n",
    "            return n\n",
    "        else:\n",
    "            return n*fact(n-1)\n",
    "    def trailingZeroes(self, n):\n",
    "        n = [int(i) for i in str(fact(n))]\n",
    "        ind = len(n)-1\n",
    "        count = 0\n",
    "        for i in range(ind,0,-1):\n",
    "            if i ==0:\n",
    "                count +=1\n",
    "                ind -=1\n",
    "            else:\n",
    "                break\n",
    "        return count\n",
    "        "
   ]
  },
  {
   "cell_type": "code",
   "execution_count": null,
   "metadata": {},
   "outputs": [],
   "source": [
    "def fp(nums):\n",
    "    for i in range(len(nums)-1):\n",
    "        if nums[i]>nums[i-1] & nums[i]>nums[i+1]:\n",
    "            return i\n",
    "nums = [1,2,3,1]\n",
    "fp(nums)"
   ]
  },
  {
   "cell_type": "code",
   "execution_count": null,
   "metadata": {},
   "outputs": [],
   "source": [
    "k  = [2]\n",
    "k.index(max(k))"
   ]
  },
  {
   "cell_type": "code",
   "execution_count": null,
   "metadata": {},
   "outputs": [],
   "source": [
    "st = \" hi hari nag\"\n",
    "st = st.split()\n",
    "res = [str(i) for i in st]\n",
    "print(res[::-1])\n",
    "print(\" \".join(res[::-1]))\n",
    "\n",
    "\n"
   ]
  },
  {
   "cell_type": "code",
   "execution_count": 40,
   "metadata": {},
   "outputs": [
    {
     "data": {
      "text/plain": [
       "13"
      ]
     },
     "execution_count": 40,
     "metadata": {},
     "output_type": "execute_result"
    }
   ],
   "source": [
    "def fib(n):\n",
    "    if n == 1:\n",
    "        return 1\n",
    "    if n ==0:\n",
    "        return 0\n",
    "    if n>1:\n",
    "        return fib(n-1)+fib(n-2)\n",
    "fib(7)"
   ]
  },
  {
   "cell_type": "code",
   "execution_count": null,
   "metadata": {},
   "outputs": [],
   "source": [
    "arr = [4,15,112,3,15,-8]\n",
    "\n",
    "for i in range(n-1):\n",
    "    temp = arr[0]\n",
    "        \n",
    "    arr[i] = arr[i+1]\n",
    "    arr[n-1] = temp\n",
    "    \n",
    "print(arr)\n",
    "\n",
    "\n"
   ]
  },
  {
   "cell_type": "code",
   "execution_count": null,
   "metadata": {},
   "outputs": [],
   "source": [
    "count = 0\n",
    "n = 8\n",
    "if n ==1:\n",
    "    print(0)\n",
    "else:\n",
    "    if n%2 == 0:\n",
    "        n = n/2\n",
    "        count +=1\n",
    "        \n",
    "    else:\n",
    "        n = n-1\n",
    "        count +=1\n",
    "print(count)"
   ]
  },
  {
   "cell_type": "code",
   "execution_count": null,
   "metadata": {},
   "outputs": [],
   "source": [
    "arr = [0,2,1,2,1,0]\n",
    "res = []\n",
    "for i in range(len(arr)):\n",
    "    res.append(min(arr))\n",
    "    arr.remove(min(arr))\n",
    "print(res)"
   ]
  },
  {
   "cell_type": "code",
   "execution_count": null,
   "metadata": {},
   "outputs": [],
   "source": [
    "def sort012( a): \n",
    "    lo = 0\n",
    "    hi = len(a) - 1\n",
    "    mid = 0\n",
    "    while mid <= hi: \n",
    "        if a[mid] == 0: \n",
    "            a[lo],a[mid] = a[mid],a[lo] \n",
    "            lo = lo + 1\n",
    "            mid = mid + 1\n",
    "        elif a[mid] == 1: \n",
    "            mid = mid + 1\n",
    "        else: \n",
    "            a[mid],a[hi] = a[hi],a[mid]  \n",
    "            hi = hi - 1\n",
    "    return a \n",
    "arr = [1,0,1,0,2,0,0,0,1,1,2,2,1,0]\n",
    "sort012(arr)"
   ]
  },
  {
   "cell_type": "code",
   "execution_count": null,
   "metadata": {},
   "outputs": [],
   "source": [
    "# ***********************************************************************************\n",
    "# **************************************************************************************\n",
    "def sortColors(nums):\n",
    "    i = j = 0\n",
    "    for k in range(len(nums)):\n",
    "        v = nums[k]\n",
    "        nums[k] = 2\n",
    "        if v < 2:\n",
    "            nums[j] = 1\n",
    "            j += 1\n",
    "        if v == 0:\n",
    "            nums[i] = 0\n",
    "            i += 1\n",
    "    return nums\n",
    "\n",
    "arr = [0,1,0,1,2,2,1,0]\n",
    "sortColors(arr)\n"
   ]
  },
  {
   "cell_type": "code",
   "execution_count": null,
   "metadata": {},
   "outputs": [],
   "source": [
    "# 402 leet code\n",
    "\n",
    "def rem(num,k):\n",
    "    num = [int(i) for i in str(num)]\n",
    "    stk = []\n",
    "    stk.append(num[0])\n",
    "    count = 0\n",
    "    if len(num) ==0:\n",
    "        return \"0\"\n",
    "\n",
    "    for i in range(1,len(num)):\n",
    "        if num[i]>=stk[-1]:\n",
    "            stk.append(num[i])\n",
    "        else:\n",
    "            while (count<k and len(stk)>0):\n",
    "                stk.pop()\n",
    "                count +=1\n",
    "            stk.append(num[i])\n",
    "    while(count<k):\n",
    "        stk.remove(stk[len(stk)-1])\n",
    "        count +=1\n",
    "    while(len(stk)>0 and stk[0] == 0):\n",
    "        stk.remove(stk[0])\n",
    "    return \"\".join(str(x) for x in stk)\n",
    "                \n",
    "            \n",
    "num = \"1111111\"\n",
    "k = 2\n",
    "rem(num,k)\n",
    "    "
   ]
  },
  {
   "cell_type": "code",
   "execution_count": null,
   "metadata": {},
   "outputs": [],
   "source": [
    "num = \"1432219\"\n",
    "num = [int(i) for i in str(num)]\n",
    "print(num)"
   ]
  },
  {
   "cell_type": "code",
   "execution_count": null,
   "metadata": {},
   "outputs": [],
   "source": [
    "a=[0,2,3,0]\n",
    "b=\"\".join(str(x) for x in a)\n",
    "b"
   ]
  },
  {
   "cell_type": "code",
   "execution_count": null,
   "metadata": {},
   "outputs": [],
   "source": [
    "# python matrix sorting:\n",
    "\n",
    "arr = [[6,5,4],[9,10,15],[3,2,1]]\n",
    "r = c = 3\n",
    "temp = [0]*(r*c)\n",
    "k = 0\n",
    "for i in range(r):\n",
    "    for j in range(c):\n",
    "        temp[k] = arr[i][j]\n",
    "        k +=1\n",
    "temp.sort()\n",
    "print(temp)\n",
    "\n",
    "k = 0\n",
    "for i in range(r):\n",
    "    for j in range(c):\n",
    "        arr[i][j] = temp[k]\n",
    "        k+=1\n",
    "print(arr)\n",
    "        \n"
   ]
  },
  {
   "cell_type": "code",
   "execution_count": 30,
   "metadata": {},
   "outputs": [
    {
     "name": "stdout",
     "output_type": "stream",
     "text": [
      "[[7, 4, 1], [8, 5, 2], [9, 6, 3]]\n"
     ]
    }
   ],
   "source": [
    "# python code to rotate the matrix  90 degrees IN anti clockwisw direction\n",
    "\n",
    "n = 3\n",
    "arr = [[1,2,3],\n",
    "       [4,5,6],\n",
    "       [7,8,9]]\n",
    "for i in range(0,int(n/2)):\n",
    "    \n",
    "    for j in range(i,n-i-1):\n",
    "        temp = arr[i][j]\n",
    "        arr[i][j] = arr[n-1-j][i]\n",
    "        arr[n-1-j][i] = arr[n-1-i][n-1-j]\n",
    "        arr[n-1-i][n-1-j] = arr[j][n-1-i]\n",
    "        arr[j][n-1-i]=temp\n",
    "        \n",
    "print(arr)\n",
    "        \n"
   ]
  },
  {
   "cell_type": "code",
   "execution_count": null,
   "metadata": {},
   "outputs": [],
   "source": [
    "# python matrix rotation with finding the transpose of matrix\n",
    "\n",
    "arr = [[1,2,3,4],[5,6,7,8],[9,10,11,12],[13,14,15,16]]\n",
    "r=c=4\n",
    "for i in range(r):\n",
    "    for j in range(i,c):\n",
    "        temp = arr[i][j]\n",
    "        arr[i][j] = arr[j][i]\n",
    "        arr[j][i] = temp\n",
    "print(arr)\n",
    "\n",
    "for i in range(c):\n",
    "    j = 0\n",
    "    k = c-1\n",
    "    while j<k:\n",
    "        temp  =arr[j][i]\n",
    "        arr[j][i] = arr[k][i]\n",
    "        arr[k][i] = temp\n",
    "        j+=1\n",
    "        k-=1\n",
    "print(arr)\n",
    "        \n",
    "        \n",
    "        "
   ]
  },
  {
   "cell_type": "code",
   "execution_count": null,
   "metadata": {},
   "outputs": [],
   "source": [
    "# python program to rotate the matrix in 180\n",
    "\n",
    "arr = [[1,2,3,4],\n",
    "       [5,6,7,8],\n",
    "       [9,10,11,12],\n",
    "       [13,14,15,16]]\n",
    "r = c = 4\n",
    "n = r-1\n",
    "for i in range(n):\n",
    "    for j in range(i,c):\n",
    "        temp = arr[i][j]\n",
    "        arr[i][j] = arr[n-i][n-j]\n",
    "        arr[n-i][n-j] = temp\n",
    "print(arr)\n",
    "        "
   ]
  },
  {
   "cell_type": "code",
   "execution_count": null,
   "metadata": {},
   "outputs": [],
   "source": [
    "arr = [[1,2],\n",
    "      [3,4]]\n",
    "r = c = 2\n",
    "n = r-1\n",
    "for i in range(n):\n",
    "    for j in range(i,c):\n",
    "        temp = arr[i][j]\n",
    "        arr[i][j] = arr[n-i][n-j]\n",
    "        arr[n-i][n-j] = temp\n",
    "print(arr)\n",
    "        "
   ]
  },
  {
   "cell_type": "code",
   "execution_count": null,
   "metadata": {},
   "outputs": [],
   "source": [
    "arr = [[0],\n",
    "       [1]]\n",
    "rows = set()\n",
    "col = set()\n",
    "for i in range(len(arr)):\n",
    "    for j in range(len(arr[0])):\n",
    "        if arr[i][j] == 0:\n",
    "            rows.add(i)\n",
    "            col.add(j)\n",
    "for i in range(len(arr)):\n",
    "    for j in range(len(arr[0])):\n",
    "        if i in rows or j in col:\n",
    "            arr[i][j] =0\n",
    "            \n",
    "            \n",
    "print(arr)"
   ]
  },
  {
   "cell_type": "code",
   "execution_count": null,
   "metadata": {},
   "outputs": [],
   "source": [
    "arr = [[0],\n",
    "       [1]]\n",
    "len(arr)"
   ]
  },
  {
   "cell_type": "code",
   "execution_count": null,
   "metadata": {},
   "outputs": [],
   "source": [
    "k=[2,4,18,22,22]\n",
    "for i in k:\n",
    "    if k.count(i)>1:\n",
    "        print(True)\n",
    "        break\n",
    "else:\n",
    "    print(False)\n",
    "    "
   ]
  },
  {
   "cell_type": "code",
   "execution_count": null,
   "metadata": {},
   "outputs": [],
   "source": [
    "arr = [2,1,1,2]\n",
    "last,now = 0,0\n",
    "for i in arr:\n",
    "    last = now\n",
    "    now = max(last+i,now)\n",
    "print(now)"
   ]
  },
  {
   "cell_type": "code",
   "execution_count": null,
   "metadata": {},
   "outputs": [],
   "source": [
    "arr = [[1,3,5,7],\n",
    "       [10,11,16,20],\n",
    "       [23,30,34,50]]\n",
    "target = 3\n",
    "for i in range(len(arr)):\n",
    "    for j in range(len(arr)):\n",
    "        if arr[i][j] == target:\n",
    "            print(True)\n",
    "        else:\n",
    "            False"
   ]
  },
  {
   "cell_type": "code",
   "execution_count": null,
   "metadata": {},
   "outputs": [],
   "source": [
    "#leetcode twosum:\n",
    "\n",
    "def twoSum(nums,target):\n",
    "    dict1 = {}\n",
    "    for i, num in enumerate(nums):\n",
    "        n = target-num\n",
    "        if n not in dict1:\n",
    "            dict1[num] = i\n",
    "        else:\n",
    "            return [dict1[n],i]\n",
    "        \n",
    "    \n",
    "nums = [1,2,5,9,4]\n",
    "twoSum(nums,13)"
   ]
  },
  {
   "cell_type": "code",
   "execution_count": null,
   "metadata": {},
   "outputs": [],
   "source": [
    "def clean(s):\n",
    "    y = ''\n",
    "    c = [',','.','-','?']\n",
    "    for i in s:\n",
    "        if i in c:\n",
    "            continue\n",
    "        else:\n",
    "            y+=i\n",
    "    return y\n",
    "                \n",
    "s = \"i am going to school and doing. Hi hari, how are you? i-am very good.\"\n",
    "\n",
    "clean(s)\n"
   ]
  },
  {
   "cell_type": "code",
   "execution_count": null,
   "metadata": {},
   "outputs": [],
   "source": [
    "def median(x,y):\n",
    "    l = len(x)+len(y)\n",
    "    if l%2 == 1:\n",
    "        return kth(x,y,l//2)\n",
    "    else:\n",
    "        return (kth(x, y, l // 2) + kth(x, y, l // 2 - 1)) / 2\n",
    "\n",
    "def kth(a,b,k):\n",
    "    if not a:\n",
    "        return b[k]\n",
    "    if not b:\n",
    "        return a[k]\n",
    "    ia, ib = len(a)//2 , len(b)//2\n",
    "    ma,mb = a[ia],b[ib]\n",
    "    \n",
    "    if ia+ib < k:\n",
    "        if ma>mb:\n",
    "            return kth(a, b[ib+1:], k-ib-1)\n",
    "        else:\n",
    "            return kth(a[ia+1:], b, k-ia-1)\n",
    "    else:\n",
    "        if ma>mb:\n",
    "            kth(a[:ia],b,k)\n",
    "        else:\n",
    "            kth(a,b[:ib],k)\n",
    "    \n",
    "    \n",
    "a = [1,2]\n",
    "b = [3,4]\n",
    "median(a,b)"
   ]
  },
  {
   "cell_type": "code",
   "execution_count": null,
   "metadata": {},
   "outputs": [],
   "source": [
    "def klm(A, B):\n",
    "    l = len(A) + len(B)\n",
    "    if l % 2 == 1:\n",
    "        return kth(A, B, l // 2)\n",
    "    else:\n",
    "        return (kth(A, B, l // 2) + kth(A, B, l // 2 - 1)) / 2  \n",
    "    \n",
    "def kth(a, b, k):\n",
    "    if not a:\n",
    "        return b[k]\n",
    "    if not b:\n",
    "        return a[k]\n",
    "    ia, ib = len(a) // 2 , len(b) // 2\n",
    "    ma, mb = a[ia], b[ib] \n",
    "    if ia + ib < k:\n",
    "        if ma > mb:\n",
    "            return kth(a, b[ib + 1:], k - ib - 1)\n",
    "        else:\n",
    "            return kth(a[ia + 1:], b, k - ia - 1)\n",
    "    else:\n",
    "        if ma > mb:\n",
    "            return kth(a[:ia], b, k)\n",
    "        else:\n",
    "            return kth(a, b[:ib], k)\n",
    "        \n",
    "a = [1,2]\n",
    "b = [3,4]\n",
    "klm(a,b)"
   ]
  },
  {
   "cell_type": "code",
   "execution_count": null,
   "metadata": {},
   "outputs": [],
   "source": [
    "def medi(x,y):\n",
    "    l = len(x)+len(y)\n",
    "    if l %2 == 1:\n",
    "        return kth(x,y,l//2)\n",
    "    else:\n",
    "        return (kth(x,y,l//2) + kth(x,y,l//2 - 1))/2\n",
    "def kth(a,b,k):\n",
    "    if not a:\n",
    "        return b[k]\n",
    "    if not b:\n",
    "        return a[k]\n",
    "    ia,ib = len(a)//2,len(b)//2\n",
    "    ma,mb = a[ia], b[ib]\n",
    "    \n",
    "    if ia+ib <k:\n",
    "        if ma>mb:\n",
    "            return kth(a,b[ib+1:], k-ib-1)\n",
    "        else:\n",
    "            return kth(a[ia+1:], b, k-ia-1)\n",
    "            \n",
    "    else:\n",
    "        if ma>mb:\n",
    "            return kth(a[:ia],b,k)\n",
    "        else:\n",
    "            return kth(a,b[:ib],k)\n",
    "\n",
    "a = [1,2]\n",
    "b = [3,4]\n",
    "medi(a,b)\n",
    "        "
   ]
  },
  {
   "cell_type": "code",
   "execution_count": null,
   "metadata": {},
   "outputs": [],
   "source": [
    "x = [[0]*3 for _ in range(3)]\n",
    "x"
   ]
  },
  {
   "cell_type": "code",
   "execution_count": null,
   "metadata": {},
   "outputs": [],
   "source": [
    "arr = [1,2,5,9,7]\n",
    "arr[2] = 99\n",
    "print(arr)"
   ]
  },
  {
   "cell_type": "code",
   "execution_count": null,
   "metadata": {},
   "outputs": [],
   "source": [
    "k = [1,1,2,2,5]\n",
    "res = 2*sum(set(k))-sum(k)\n",
    "print(res)"
   ]
  },
  {
   "cell_type": "code",
   "execution_count": null,
   "metadata": {},
   "outputs": [],
   "source": [
    "class Node:\n",
    "    def __init__(self,data):\n",
    "        self.data = data\n",
    "        self.next = None\n",
    "class LinkedList:\n",
    "    def __init__(self):\n",
    "        self.head = None\n",
    "        \n",
    "    def length(self):\n",
    "        count = 0\n",
    "        currentNode = self.head\n",
    "        while currentNode is not None:\n",
    "            count += 1\n",
    "            currentNode = currentNode.next\n",
    "        return count\n",
    "    \n",
    "    def printList(self):\n",
    "        if self.head is None:\n",
    "            print(\"linkedlist is empty\")\n",
    "            return\n",
    "        currentNode = self.head\n",
    "        while True:\n",
    "            if currentNode is None:\n",
    "                break\n",
    "            print(currentNode.data)\n",
    "            currentNode = currentNode.next\n",
    "    def insert(self,data):\n",
    "        newNode = Node(data)\n",
    "        if self.head is None:\n",
    "            self.head = newNode\n",
    "        else:\n",
    "            lastNode = self.head\n",
    "            while True:\n",
    "                if lastNode.next is None:\n",
    "                    break\n",
    "                lastNode = lastNode.next\n",
    "            lastNode.next = newNode\n",
    "        \n",
    "ll = LinkedList()\n",
    "ll.insert(10)\n",
    "ll.insert(120)\n",
    "#ll.insert(45)\n",
    "ll.printList()\n",
    "ll.length()\n",
    "        \n",
    "        "
   ]
  },
  {
   "cell_type": "code",
   "execution_count": null,
   "metadata": {},
   "outputs": [],
   "source": [
    "# merging the two linked lists:\n",
    "\n",
    "class Node:\n",
    "    def __init__(self,data):\n",
    "        self.data = data\n",
    "        self.next = None\n",
    "class LinkedList:\n",
    "    def __init__(self):\n",
    "        self.head = None\n",
    "        \n",
    "    def insert(self,data):\n",
    "        newNode = Node(data)\n",
    "        if self.head is None:\n",
    "            self.head = newNode\n",
    "        else:\n",
    "            lastNode = self.head\n",
    "            while True:\n",
    "                if lastNode.next is None:\n",
    "                    break\n",
    "                lastNode = lastNode.next\n",
    "            lastNode.next = newNode\n",
    "    def printList(self):\n",
    "        if self.head is None:\n",
    "            print(\"linkedlist is empty\")\n",
    "            return\n",
    "        currentNode = self.head\n",
    "        while True:\n",
    "            if currentNode is None:\n",
    "                break\n",
    "            print(currentNode.data)\n",
    "            currentNode = currentNode.next\n",
    "            \n",
    "    def insertEnd(self,data):\n",
    "        newNode = Node(data)\n",
    "        if self.head is None:\n",
    "            self.head = newNode\n",
    "        else:\n",
    "            lastNode = self.head\n",
    "            while True:\n",
    "                if lastNode.next is None:\n",
    "                    break\n",
    "                lastNode = lastNode.next\n",
    "            lastNode.next = newNode\n",
    "            \n",
    "    def merge(self,l1,l2,res):\n",
    "        currentFirst = l1.self.head\n",
    "        currentSecond = l2.self.head\n",
    "        \n",
    "        while True:\n",
    "            if currentFirst is None:\n",
    "                res.self.insertEnd(currentSecond)\n",
    "                break\n",
    "            if currentSecond is None:\n",
    "                res.self.insertEnd(currentFirst)\n",
    "                break\n",
    "            if currentFirst.data<currentSecond.data:\n",
    "                currentFirstNext = currentFirst.next\n",
    "                currentFirst.next = None\n",
    "                res.self.insertEnd(currentFirst)\n",
    "                currentFirst = currentFirstNext\n",
    "            else:\n",
    "                currentSecondNext = currentSecond.next\n",
    "                currentSecond.next = None\n",
    "                res.self.insertEnd(currentSecond)\n",
    "                currentSecond = currentSecondNext\n",
    "                \n",
    "            \n",
    "            \n",
    "list1 = LinkedList()\n",
    "list2 = LinkedList()\n",
    "MergeList = LinkedList()\n",
    "\n",
    "list1.insert(1)\n",
    "list1.insert(3)\n",
    "list1.insert(4)\n",
    "list1.printList()\n",
    "\n",
    "list2.insert(2)\n",
    "list2.insert(7)\n",
    "list2.insert(9)\n",
    "list2.printList()\n",
    "\n",
    "merge(list1,list2,MergeList)\n",
    "del list1\n",
    "del list2\n",
    "print(\"******\")\n",
    "MergeList.printList()\n",
    "\n",
    "    \n",
    "        \n"
   ]
  },
  {
   "cell_type": "code",
   "execution_count": null,
   "metadata": {},
   "outputs": [],
   "source": [
    "#from singlyLinkedList import Node,LinkedList\n",
    "\n",
    "ll = LinkedList()\n",
    "\n",
    "ll.insert(1)\n",
    "\n",
    "def merge(l1,l2,res):\n",
    "    currentFirst = l1.head\n",
    "    currentSecond = l2.head\n",
    "        \n",
    "    while True:\n",
    "        if currentFirst is None:\n",
    "            res.insertEnd(currentSecond)\n",
    "            break\n",
    "        if currentSecond is None:\n",
    "            res.insertEnd(currentFirst)\n",
    "            break\n",
    "        if currentFirst.data<currentSecond.data:\n",
    "            currentFirstNext = currentFirst.next\n",
    "            currentFirst.next = None\n",
    "            res.insertEnd(currentFirst)\n",
    "            currentFirst = currentFirstNext\n",
    "        else:\n",
    "            currentSecondNext = currentSecond.next\n",
    "            currentSecond.next = None\n",
    "            res.insertEnd(currentSecond)\n",
    "            currentSecond = currentSecondNext\n",
    "                \n",
    "            \n",
    "            \n",
    "list1 = LinkedList()\n",
    "list2 = LinkedList()\n",
    "MergeList = LinkedList()\n",
    "\n",
    "list1.insert(1)\n",
    "list1.insert(3)\n",
    "list1.insert(4)\n",
    "list1.printList()\n",
    "\n",
    "list2.insert(2)\n",
    "list2.insert(7)\n",
    "list2.insert(9)\n",
    "list2.printList()\n",
    "\n",
    "merge(list1,list2,MergeList)\n",
    "del list1\n",
    "del list2\n",
    "print(\"******\")\n",
    "MergeList.printList()\n"
   ]
  },
  {
   "cell_type": "code",
   "execution_count": null,
   "metadata": {},
   "outputs": [],
   "source": [
    "arr = [-4,6,2,4,8,-3]\n",
    "res = []\n",
    "for i in range(len(arr)):\n",
    "    res.append(i*i)\n",
    "    res.sort()\n",
    "print(res)"
   ]
  },
  {
   "cell_type": "code",
   "execution_count": null,
   "metadata": {},
   "outputs": [],
   "source": [
    "# spiral\n",
    "\n",
    "matrix = [[1,2,3,10],\n",
    "          [4,5,6,11],\n",
    "          [7,8,9,12],\n",
    "         [14,15,17,20]]\n",
    "            \n",
    "res = []\n",
    "while matrix:\n",
    "    for x in matrix.pop(0):\n",
    "        res.append(x)\n",
    "    for v in matrix:\n",
    "        res.append(v.pop())\n",
    "    if matrix:\n",
    "        for x in matrix.pop()[::-1]:\n",
    "            res.append(x)\n",
    "    for v in matrix[::-1]:\n",
    "        res.append(v.pop(0))\n",
    "print(res)\n",
    " \n",
    "    "
   ]
  },
  {
   "cell_type": "code",
   "execution_count": null,
   "metadata": {},
   "outputs": [],
   "source": [
    "def spiral(matrix):\n",
    "    spiral_array=[]\n",
    "    for row in range(len(matrix)):\n",
    "        if row%2==0:\n",
    "            spiral_array.extend(matrix[row])\n",
    "        else:\n",
    "            matrix[row].reverse()\n",
    "            spiral_array.extend(matrix[row])\n",
    "    return spiral_array \n",
    "\n",
    "matrix = [[1,2,3,10],\n",
    "          [4,5,6,11],\n",
    "          [7,8,9,12],\n",
    "         [14,15,17,20]]\n",
    "spiral(matrix)"
   ]
  },
  {
   "cell_type": "code",
   "execution_count": 3,
   "metadata": {},
   "outputs": [
    {
     "data": {
      "text/plain": [
       "11"
      ]
     },
     "execution_count": 3,
     "metadata": {},
     "output_type": "execute_result"
    }
   ],
   "source": [
    "def xsecondMax(arr):\n",
    "    firstMax = 0\n",
    "    secondMax = 0\n",
    "    for i in arr:\n",
    "        if firstMax<i or firstMax == 0:\n",
    "            secondMax = firstMax\n",
    "            firstMax = i\n",
    "        else:\n",
    "            secondMax = i\n",
    "    return secondMax\n",
    "arr = [1,5,4,6,8,9,11,14]\n",
    "xsecondMax(arr)"
   ]
  },
  {
   "cell_type": "code",
   "execution_count": 18,
   "metadata": {},
   "outputs": [
    {
     "data": {
      "text/plain": [
       "[2, 3, 4]"
      ]
     },
     "execution_count": 18,
     "metadata": {},
     "output_type": "execute_result"
    }
   ],
   "source": [
    "def aff(arr,num):\n",
    "    arr  = [str(i) for i in arr]\n",
    "    arr= int(\"\".join(arr))\n",
    "    arr +=n\n",
    "    arr = [int(i) for i in str(arr)]\n",
    "    return arr\n",
    "\n",
    "arr = [1,2,3]\n",
    "n = 111\n",
    "aff(arr,n)\n",
    "\n",
    "    "
   ]
  },
  {
   "cell_type": "code",
   "execution_count": 24,
   "metadata": {},
   "outputs": [
    {
     "data": {
      "text/plain": [
       "[]"
      ]
     },
     "execution_count": 24,
     "metadata": {},
     "output_type": "execute_result"
    }
   ],
   "source": [
    "def fun(nums):\n",
    "    res = []\n",
    "    if len(nums)>0:\n",
    "        for i in range(min(nums),max(nums),1):\n",
    "            if i not in nums:\n",
    "                res.append(i)\n",
    "    return res\n",
    "\n",
    "nums = []\n",
    "fun(nums)\n",
    "        "
   ]
  },
  {
   "cell_type": "code",
   "execution_count": 3,
   "metadata": {},
   "outputs": [
    {
     "name": "stdout",
     "output_type": "stream",
     "text": [
      "0\n"
     ]
    }
   ],
   "source": [
    "num1 = \"0\"\n",
    "num2 = \"0\"\n",
    "num1 = [i for i in num1]\n",
    "num1 = int(\"\".join(num1))\n",
    "num2 = [i for i in num2]\n",
    "num2 = int(\"\".join(num2))\n",
    "print(num1+num2)"
   ]
  },
  {
   "cell_type": "code",
   "execution_count": 10,
   "metadata": {},
   "outputs": [
    {
     "name": "stdout",
     "output_type": "stream",
     "text": [
      "[1, 5]\n"
     ]
    }
   ],
   "source": [
    "arr = [1,5,6,4]\n",
    "arr.sort()\n",
    "res = []\n",
    "arr = zip(arr[::2], arr[1::2])\n",
    "for i in arr:\n",
    "    res.append(min(i))\n",
    "print(res)\n"
   ]
  },
  {
   "cell_type": "code",
   "execution_count": 3,
   "metadata": {},
   "outputs": [
    {
     "data": {
      "text/plain": [
       "12"
      ]
     },
     "execution_count": 3,
     "metadata": {},
     "output_type": "execute_result"
    }
   ],
   "source": [
    "li = [1,2,3,5]\n",
    "li.append(12)\n",
    "li.pop()"
   ]
  },
  {
   "cell_type": "code",
   "execution_count": 2,
   "metadata": {},
   "outputs": [
    {
     "ename": "TypeError",
     "evalue": "'str' object does not support item assignment",
     "output_type": "error",
     "traceback": [
      "\u001b[1;31m---------------------------------------------------------------------------\u001b[0m",
      "\u001b[1;31mTypeError\u001b[0m                                 Traceback (most recent call last)",
      "\u001b[1;32m<ipython-input-2-eaef45cedbbf>\u001b[0m in \u001b[0;36m<module>\u001b[1;34m()\u001b[0m\n\u001b[0;32m     12\u001b[0m     \u001b[1;32mreturn\u001b[0m \u001b[0mstring1\u001b[0m\u001b[1;33m\u001b[0m\u001b[0m\n\u001b[0;32m     13\u001b[0m \u001b[1;33m\u001b[0m\u001b[0m\n\u001b[1;32m---> 14\u001b[1;33m \u001b[0mreverse_vowels\u001b[0m\u001b[1;33m(\u001b[0m\u001b[1;34m\"hello\"\u001b[0m\u001b[1;33m)\u001b[0m\u001b[1;33m\u001b[0m\u001b[0m\n\u001b[0m",
      "\u001b[1;32m<ipython-input-2-eaef45cedbbf>\u001b[0m in \u001b[0;36mreverse_vowels\u001b[1;34m(string1)\u001b[0m\n\u001b[0;32m      9\u001b[0m     \u001b[1;32mfor\u001b[0m \u001b[0mj\u001b[0m \u001b[1;32min\u001b[0m \u001b[0midx\u001b[0m\u001b[1;33m[\u001b[0m\u001b[1;33m:\u001b[0m\u001b[1;33m:\u001b[0m\u001b[1;33m-\u001b[0m\u001b[1;36m1\u001b[0m\u001b[1;33m]\u001b[0m\u001b[1;33m:\u001b[0m\u001b[1;33m\u001b[0m\u001b[0m\n\u001b[0;32m     10\u001b[0m         \u001b[1;32mfor\u001b[0m \u001b[0mk\u001b[0m \u001b[1;32min\u001b[0m \u001b[0mvowels\u001b[0m\u001b[1;33m:\u001b[0m\u001b[1;33m\u001b[0m\u001b[0m\n\u001b[1;32m---> 11\u001b[1;33m             \u001b[0mstring1\u001b[0m\u001b[1;33m[\u001b[0m\u001b[0mj\u001b[0m\u001b[1;33m]\u001b[0m \u001b[1;33m=\u001b[0m \u001b[0mk\u001b[0m\u001b[1;33m\u001b[0m\u001b[0m\n\u001b[0m\u001b[0;32m     12\u001b[0m     \u001b[1;32mreturn\u001b[0m \u001b[0mstring1\u001b[0m\u001b[1;33m\u001b[0m\u001b[0m\n\u001b[0;32m     13\u001b[0m \u001b[1;33m\u001b[0m\u001b[0m\n",
      "\u001b[1;31mTypeError\u001b[0m: 'str' object does not support item assignment"
     ]
    }
   ],
   "source": [
    "def reverse_vowels(string1):\n",
    "    vow = \"aeiou\"\n",
    "    idx = []\n",
    "    vowels = []\n",
    "    for i in range(len(string1)):\n",
    "        if string1[i] in vow:\n",
    "            idx.append(i)\n",
    "            vowels.append(string1[i])\n",
    "    for j in idx[::-1]:\n",
    "        for k in vowels:\n",
    "            string1[j] = k\n",
    "    return string1\n",
    "\n",
    "reverse_vowels(\"hello\")\n"
   ]
  },
  {
   "cell_type": "code",
   "execution_count": 11,
   "metadata": {},
   "outputs": [
    {
     "data": {
      "text/plain": [
       "'h a r i'"
      ]
     },
     "execution_count": 11,
     "metadata": {},
     "output_type": "execute_result"
    }
   ],
   "source": [
    "s1=\"hari\"\n",
    "s2 = \"   \"\n",
    "def ve(s1,s2):\n",
    "    if not s1:\n",
    "        return s2\n",
    "    if not s2:\n",
    "        return s1\n",
    "    else:\n",
    "        return s1[0]+s2[0] +ve(s1[1:len(s1)],s2[1:len(s2)])\n",
    "ve(s1,s2)\n"
   ]
  },
  {
   "cell_type": "code",
   "execution_count": 11,
   "metadata": {},
   "outputs": [
    {
     "name": "stdout",
     "output_type": "stream",
     "text": [
      "5\n"
     ]
    }
   ],
   "source": [
    "h1 = [7,1,5,3,6,4]\n",
    "res = []\n",
    "for i in h1[:len(h)//2]:\n",
    "    for j in h1[len(h)//2:len(h1)]:\n",
    "        if (j-i)> 0:\n",
    "            res.append(j-i)\n",
    "print(max(res))\n",
    "        "
   ]
  },
  {
   "cell_type": "code",
   "execution_count": 1,
   "metadata": {},
   "outputs": [
    {
     "data": {
      "text/plain": [
       "3"
      ]
     },
     "execution_count": 1,
     "metadata": {},
     "output_type": "execute_result"
    }
   ],
   "source": [
    "def countbits(x):\n",
    "    numbits = 0\n",
    "    while x:\n",
    "        numbits += x&1\n",
    "        x>>=1\n",
    "    return numbits\n",
    "countbits(13)"
   ]
  },
  {
   "cell_type": "markdown",
   "metadata": {},
   "source": [
    "#### Rearrange Array into Even-Odd"
   ]
  },
  {
   "cell_type": "code",
   "execution_count": 61,
   "metadata": {},
   "outputs": [
    {
     "data": {
      "text/plain": [
       "[4, 2, 1, 1]"
      ]
     },
     "execution_count": 61,
     "metadata": {},
     "output_type": "execute_result"
    }
   ],
   "source": [
    "def function1(arr):\n",
    "    start,end = 0, len(arr)-1\n",
    "    while start<end:\n",
    "        if arr[start] % 2 == 0:\n",
    "            start += 1\n",
    "        else:\n",
    "            arr[start],arr[end] = arr[end],arr[start]\n",
    "            end -= 1\n",
    "    return arr\n",
    "    \n",
    "arr=[1,2,3,4,5,6,7,8,9,10,11,12,13]\n",
    "a=[4,1,2,1]\n",
    "function1(a)\n"
   ]
  },
  {
   "cell_type": "code",
   "execution_count": 5,
   "metadata": {},
   "outputs": [
    {
     "data": {
      "text/plain": [
       "[2, 4, 6, 8, 10, 12, 1, 3, 5, 7, 9, 11, 13]"
      ]
     },
     "execution_count": 5,
     "metadata": {},
     "output_type": "execute_result"
    }
   ],
   "source": [
    "def even_odd(arr):\n",
    "    x = []\n",
    "    for i in arr:\n",
    "        if i % 2 == 0:\n",
    "            x.append(i)\n",
    "    for j in arr:\n",
    "        if j not in x:\n",
    "            x.append(j)\n",
    "    \n",
    "    return x\n",
    "    \n",
    "arr=[1,2,3,4,5,6,7,8,9,10,11,12,13]\n",
    "even_odd(arr)\n",
    "# but this method will take both time and space complexities as O(n)"
   ]
  },
  {
   "cell_type": "code",
   "execution_count": 6,
   "metadata": {},
   "outputs": [
    {
     "data": {
      "text/plain": [
       "[8, 25, 9, 6, 5, 4, 2, 3, 2, 42]"
      ]
     },
     "execution_count": 6,
     "metadata": {},
     "output_type": "execute_result"
    }
   ],
   "source": [
    "li = [8,9,6,5,4,2,3,14,2]\n",
    "li.remove(14)\n",
    "li.insert(1,25)\n",
    "li.append(42)"
   ]
  },
  {
   "cell_type": "code",
   "execution_count": 10,
   "metadata": {},
   "outputs": [
    {
     "data": {
      "text/plain": [
       "[2, 2, 5, 6, 8, 9, 14]"
      ]
     },
     "execution_count": 10,
     "metadata": {},
     "output_type": "execute_result"
    }
   ],
   "source": [
    "li = [8,9,6,5,4,2,3,14,2]\n",
    "li.reverse()\n",
    "li.sort()\n",
    "\n",
    "del li[2:4]\n",
    "li"
   ]
  },
  {
   "cell_type": "code",
   "execution_count": 18,
   "metadata": {},
   "outputs": [
    {
     "data": {
      "text/plain": [
       "[(1, 'a'),\n",
       " (1, 'b'),\n",
       " (2, 'a'),\n",
       " (2, 'b'),\n",
       " (3, 'a'),\n",
       " (3, 'b'),\n",
       " (4, 'a'),\n",
       " (4, 'b')]"
      ]
     },
     "execution_count": 18,
     "metadata": {},
     "output_type": "execute_result"
    }
   ],
   "source": [
    "a = [1,2,3,4]\n",
    "b = ['a','b']\n",
    "[(x,y) for x in a for y in b]"
   ]
  },
  {
   "cell_type": "code",
   "execution_count": 19,
   "metadata": {},
   "outputs": [
    {
     "data": {
      "text/plain": [
       "[1, 2, 3, 4, 5, 6]"
      ]
     },
     "execution_count": 19,
     "metadata": {},
     "output_type": "execute_result"
    }
   ],
   "source": [
    "M = [[1,2,3],[4,5,6]]\n",
    "[x for row in M for x in row]"
   ]
  },
  {
   "cell_type": "code",
   "execution_count": 22,
   "metadata": {},
   "outputs": [
    {
     "data": {
      "text/plain": [
       "[[1, 4, 9], [16, 25, 36]]"
      ]
     },
     "execution_count": 22,
     "metadata": {},
     "output_type": "execute_result"
    }
   ],
   "source": [
    "[[i ** 2 for i in row] for row in M]"
   ]
  },
  {
   "cell_type": "code",
   "execution_count": 12,
   "metadata": {},
   "outputs": [
    {
     "data": {
      "text/plain": [
       "[0, 1, 2, 3, 4, 5, 6, 7, 8, 9]"
      ]
     },
     "execution_count": 12,
     "metadata": {},
     "output_type": "execute_result"
    }
   ],
   "source": [
    "[1]+ [0]*10\n",
    "list(range(10))"
   ]
  },
  {
   "cell_type": "code",
   "execution_count": 24,
   "metadata": {},
   "outputs": [
    {
     "name": "stdout",
     "output_type": "stream",
     "text": [
      "[0, 1, 2, 3, 4, 5, 6, 7, 8, 9]\n"
     ]
    }
   ],
   "source": [
    "arr = [0, 1, 2, 3, 6, 7, 8, 9,5,4]\n",
    "print(sorted(arr))"
   ]
  },
  {
   "cell_type": "code",
   "execution_count": 16,
   "metadata": {},
   "outputs": [
    {
     "name": "stdout",
     "output_type": "stream",
     "text": [
      "3\n",
      "3\n"
     ]
    }
   ],
   "source": [
    "import bisect\n",
    "arr = [0,1, 3, 4, 4, 4, 6, 7]\n",
    "print(bisect.bisect_right(arr,4,0,3))\n",
    "print(bisect.bisect_left(arr,4,0,6))"
   ]
  },
  {
   "cell_type": "code",
   "execution_count": 10,
   "metadata": {},
   "outputs": [
    {
     "data": {
      "text/plain": [
       "[1, 4, 9, 16, 25, 36, 49, 64, 81]"
      ]
     },
     "execution_count": 10,
     "metadata": {},
     "output_type": "execute_result"
    }
   ],
   "source": [
    "M = [[1,2,3],[4,5,6],[7,8,9]]\n",
    "[x**2 for row in M for x in row]"
   ]
  },
  {
   "cell_type": "code",
   "execution_count": 2,
   "metadata": {},
   "outputs": [],
   "source": [
    "arr = [0,1,2,1,2,1,2,0,1,0,1,2]\n"
   ]
  },
  {
   "cell_type": "code",
   "execution_count": 6,
   "metadata": {},
   "outputs": [
    {
     "data": {
      "text/plain": [
       "[0, 0, 0, 1, 1, 2, 2]"
      ]
     },
     "execution_count": 6,
     "metadata": {},
     "output_type": "execute_result"
    }
   ],
   "source": [
    "def dutch_national_flag(p_index, arr):\n",
    "    pivot = arr[p_index]\n",
    "    low,mid,high = 0,0,len(arr)\n",
    "    while mid<high:\n",
    "        if arr[mid] < pivot:\n",
    "            arr[low],arr[mid] = arr[mid],arr[low]\n",
    "            low +=1\n",
    "            mid+=1\n",
    "        elif arr[mid] == pivot:\n",
    "            mid +=1\n",
    "        else:\n",
    "            high -= 1\n",
    "            arr[mid],arr[high] = arr[high],arr[mid]\n",
    "    return arr\n",
    "\n",
    "arr = [0,1,2,1,2,1,2,0,1,0,1,2]\n",
    "arr1 = [2,1,0,1,2,0,0]\n",
    "dutch_national_flag(1,arr1)"
   ]
  },
  {
   "cell_type": "code",
   "execution_count": 19,
   "metadata": {},
   "outputs": [
    {
     "name": "stdout",
     "output_type": "stream",
     "text": [
      "[(0, 1), (1, 2), (2, 3), (3, 4), (4, 1), (5, 2)]\n"
     ]
    }
   ],
   "source": [
    "arr = [1,2,3,4,1,2]\n",
    "en_arr = enumerate(arr)\n",
    "print(list(en_arr))"
   ]
  },
  {
   "cell_type": "code",
   "execution_count": 1,
   "metadata": {},
   "outputs": [
    {
     "name": "stdout",
     "output_type": "stream",
     "text": [
      "0\n"
     ]
    }
   ],
   "source": [
    "arr = []\n",
    "print(len(arr))"
   ]
  },
  {
   "cell_type": "code",
   "execution_count": null,
   "metadata": {},
   "outputs": [],
   "source": [
    "# last stone weight leetcode problem 1046\n",
    "\n",
    "def lastStoneWeight(stones) -> int:\n",
    "    stones.sort()\n",
    "    while len(stones) != 0:\n",
    "        if stones[-1] == stones[-2]:\n",
    "            del stones[-1]\n",
    "            del stones[-2]\n",
    "        else:\n",
    "            stones[0:-2].append(stones[-1] - stones[-2])\n",
    "    return stones[0]\n",
    "\n",
    "arr = [2,4,9,8,5,1,4]\n",
    "lastStoneWeight(arr)"
   ]
  },
  {
   "cell_type": "code",
   "execution_count": 13,
   "metadata": {},
   "outputs": [
    {
     "data": {
      "text/plain": [
       "2"
      ]
     },
     "execution_count": 13,
     "metadata": {},
     "output_type": "execute_result"
    }
   ],
   "source": [
    "# most frequently occuring element in the array:\n",
    "# think of what's the solution for it if it has more than one element with same count\n",
    "\n",
    "def most_frequent(arr):\n",
    "    max_count = -1\n",
    "    max_item = None\n",
    "    count = {}\n",
    "    for i in arr:\n",
    "        if i not in count:\n",
    "            count[i] = 1\n",
    "        else:\n",
    "            count[i] += 1\n",
    "        if count[i]>max_count:\n",
    "            max_count = count[i]\n",
    "            max_item = i\n",
    "    return max_item\n",
    "            \n",
    "arr = [1,2,1,2,1,2,4]\n",
    "most_frequent(arr)"
   ]
  },
  {
   "cell_type": "code",
   "execution_count": 1,
   "metadata": {},
   "outputs": [
    {
     "data": {
      "text/plain": [
       "[1, 2, 6, 5]"
      ]
     },
     "execution_count": 1,
     "metadata": {},
     "output_type": "execute_result"
    }
   ],
   "source": [
    "# common elements in the two arrays of lengths l1 and l2\n",
    "# solution has to come up with O(max(l1,l2))\n",
    "\n",
    "def common_elements(arr1,arr2):\n",
    "    res = []\n",
    "    for i in arr1:\n",
    "        if i in arr2:\n",
    "            res.append(i)\n",
    "    return res\n",
    "\n",
    "\n",
    "def common_elements1(arr1,arr2):\n",
    "    result = []\n",
    "    p1,p2 = 0,0\n",
    "    while p1<len(arr1) and p2 <len(arr2):\n",
    "        if arr1[p1] == arr2[p2]:\n",
    "            result.append(arr1[p1])\n",
    "        elif arr1[p1] > arr2[p2]:\n",
    "            p2 +=1\n",
    "        else:\n",
    "            p1+=1\n",
    "    return result\n",
    "arr1 = [1,2,6,5,8]\n",
    "arr2 = [1,5,4,7,6,9,10,2]\n",
    "common_elements(arr1,arr2)\n",
    "\n",
    "\n",
    "    "
   ]
  },
  {
   "cell_type": "code",
   "execution_count": 4,
   "metadata": {},
   "outputs": [
    {
     "data": {
      "text/plain": [
       "True"
      ]
     },
     "execution_count": 4,
     "metadata": {},
     "output_type": "execute_result"
    }
   ],
   "source": [
    "# is one array is rotation of another array:\n",
    "def is_rotation_another(l1,l2):\n",
    "    count = 1\n",
    "    if len(l1) != len(l2):\n",
    "        return False\n",
    "    while count<len(l1) and l1 != l2:\n",
    "        temp = l1[0]\n",
    "        l1.remove(temp)\n",
    "        l1.append(temp)\n",
    "        count +=1\n",
    "    if l1 == l2:\n",
    "        return True\n",
    "    else:\n",
    "        return False\n",
    "\n",
    "\n",
    "A = [1,2,3,4,5,6,7]\n",
    "B = [4,5,6,7,1,2,3]\n",
    "is_rotation_another(A,B)\n"
   ]
  },
  {
   "cell_type": "code",
   "execution_count": 10,
   "metadata": {},
   "outputs": [
    {
     "data": {
      "text/plain": [
       "8"
      ]
     },
     "execution_count": 10,
     "metadata": {},
     "output_type": "execute_result"
    }
   ],
   "source": [
    "# maximumm sum in the array :\n",
    "\n",
    "def max_sum(arr):\n",
    "    n = len(arr)\n",
    "    if n == 0 or arr is None:\n",
    "        return 0\n",
    "    pick = [0 for _ in range(n)] # pick = [0,0,0,0,0]\n",
    "    dpick = [0 for _ in range(n)] # dpick = [0,0,0,0,0]\n",
    "    pick[0] = arr[0]\n",
    "    for i in range(1,n):\n",
    "        pick[i] = dpick[i-1] + arr[i]\n",
    "        dpick[i] = max(dpick[i-1], pick[i-1])\n",
    "    return max(pick[-1], dpick[-1])\n",
    "\n",
    "arr  = [1,3,4,5]\n",
    "max_sum(arr)\n"
   ]
  },
  {
   "cell_type": "code",
   "execution_count": 17,
   "metadata": {},
   "outputs": [
    {
     "data": {
      "text/plain": [
       "3"
      ]
     },
     "execution_count": 17,
     "metadata": {},
     "output_type": "execute_result"
    }
   ],
   "source": [
    "# maximumm sum in the array :\n",
    "\n",
    "def max_sum(arr):\n",
    "    n = len(arr)\n",
    "    if n == 0 or arr is None:\n",
    "        return 0\n",
    "    pick= arr[0]\n",
    "    dpick = 0\n",
    "    for i in range(1,n):\n",
    "        pick, dpick = dpick + arr[i], max(dpick, pick)\n",
    "    return max(pick, dpick)\n",
    "\n",
    "arr  = [-50,1,3]\n",
    "max_sum(arr)\n"
   ]
  },
  {
   "cell_type": "code",
   "execution_count": 21,
   "metadata": {},
   "outputs": [
    {
     "data": {
      "text/plain": [
       "15"
      ]
     },
     "execution_count": 21,
     "metadata": {},
     "output_type": "execute_result"
    }
   ],
   "source": [
    "# if the given array is circular:\n",
    "def max_sum(arr):\n",
    "    n = len(arr)\n",
    "    if n == 0 or arr is None:\n",
    "        return 0\n",
    "    if n == 2:\n",
    "        return max(arr)\n",
    "    pick1= arr[0]\n",
    "    dpick1 = 0\n",
    "    for i in range(1,n-1):\n",
    "        pick1, dpick1 = dpick1 + arr[i], max(dpick1, pick1)\n",
    "    l1 = max(pick1, dpick1)\n",
    "    \n",
    "    pick2 = arr[1]\n",
    "    dpick2 = 0\n",
    "    for i in range(2,n):\n",
    "        pick2, dpick2 = dpick2 + arr[i], max(dpick2, pick2)\n",
    "    l2 = max(pick2, dpick2)\n",
    "    \n",
    "    return max(l1,l2)\n",
    "    \n",
    "arr = [1,7,9,8,6]\n",
    "max_sum(arr)"
   ]
  },
  {
   "cell_type": "code",
   "execution_count": 35,
   "metadata": {},
   "outputs": [
    {
     "data": {
      "text/plain": [
       "list"
      ]
     },
     "execution_count": 35,
     "metadata": {},
     "output_type": "execute_result"
    }
   ],
   "source": [
    "highest = [float('-inf')]\n",
    "highest\n",
    "\n"
   ]
  },
  {
   "cell_type": "code",
   "execution_count": 1,
   "metadata": {},
   "outputs": [
    {
     "data": {
      "text/plain": [
       "16"
      ]
     },
     "execution_count": 1,
     "metadata": {},
     "output_type": "execute_result"
    }
   ],
   "source": [
    "#arr = [1,5,9,8]\n",
    "#operations = [+, -, *, /]\n",
    "\n",
    "def max_value(arr):\n",
    "    highest = [float('-inf')]\n",
    "    def directed_max_value(pick, summed):\n",
    "        if pick == len(arr):\n",
    "            highest[0] = max(highest[0],summed)\n",
    "            return\n",
    "        directed_max_value(pick + 1, summed + arr[pick])\n",
    "        directed_max_value(pick + 1, summed - arr[pick])\n",
    "        directed_max_value(pick + 1, summed * arr[pick])\n",
    "        if arr[pick] != 0:\n",
    "            directed_max_value(pick + 1, summed / arr[pick])\n",
    "        \n",
    "    directed_max_value(1,arr[0])\n",
    "    directed_max_value(1,-arr[0])\n",
    "    return highest[0]\n",
    "        \n",
    "    \n",
    "x = [1,3,4]\n",
    "max_value(x)"
   ]
  },
  {
   "cell_type": "code",
   "execution_count": 25,
   "metadata": {},
   "outputs": [
    {
     "name": "stdout",
     "output_type": "stream",
     "text": [
      "c\n",
      "h\n"
     ]
    }
   ],
   "source": [
    "# non repeating caharcter in string\n",
    "\n",
    "def non_repeating_char(string1):\n",
    "    dict1 = {}\n",
    "    for char in string1:\n",
    "        if char in dict1:\n",
    "            dict1[char] += 1\n",
    "        else:\n",
    "            dict1[char] = 1\n",
    "    \n",
    "    for i in string1:\n",
    "        if dict1[i] == 1:\n",
    "            return i\n",
    "\n",
    "        \n",
    "print(non_repeating_char(\"abbacab\"))\n",
    "print(non_repeating_char(\"aabbahcd\"))"
   ]
  },
  {
   "cell_type": "code",
   "execution_count": 39,
   "metadata": {},
   "outputs": [
    {
     "name": "stdout",
     "output_type": "stream",
     "text": [
      "False\n",
      "False\n"
     ]
    }
   ],
   "source": [
    "# one away strings:\n",
    "def one_away_strings(s1,s2):# len(s1) = len(s2)\n",
    "    count_diff = 0\n",
    "    for i in range(len(s1)-1):\n",
    "        if s1[i] != s2[i]:\n",
    "            count_diff += 1\n",
    "            if count_diff > 1:\n",
    "                return False\n",
    "    return True\n",
    "\n",
    "print(one_away_strings(\"abacd\",\"ccdfg\"))\n",
    "        \n",
    "    \n",
    "def one_away_strings1(s1,s2):# len(s1) = len(s2)+1\n",
    "    i = 0\n",
    "    count_diff = 0\n",
    "    while i< len(s2):\n",
    "        if s1[i+count_diff] == s2[i]:\n",
    "            i += 1\n",
    "        else:\n",
    "            count_diff += 1\n",
    "            if count_diff > 1:\n",
    "                return False\n",
    "    return True\n",
    " \n",
    "print(one_away_strings1(\"abacdb\",\"abada\"))\n",
    "\n",
    "def one_away_strings2(s1,s2):\n",
    "    if abs(len(s1) - len(s2)) >= 2:\n",
    "        return False\n",
    "    elif len(s1) == len(s2):\n",
    "        return one_away_strings(s1,s2)\n",
    "    elif len(s1)>len(s2):\n",
    "        return one_away_strings1(s1,s2)\n",
    "    else:\n",
    "        return one_away_strings1(s2,s1)\n",
    "    \n",
    "    "
   ]
  },
  {
   "cell_type": "code",
   "execution_count": 21,
   "metadata": {},
   "outputs": [
    {
     "data": {
      "text/plain": [
       "[[-1, -1, 2, 1], [2, 3, -1, 1], [0, 1, 1, 1]]"
      ]
     },
     "execution_count": 21,
     "metadata": {},
     "output_type": "execute_result"
    }
   ],
   "source": [
    "# mine sweeper\n",
    "\n",
    "def mine_sweeper(bombs, r, c):\n",
    "    field = [[0 for i in range(c)] for i in range(r)]\n",
    "    for bomb in bombs:\n",
    "        (row_i,col_i) = bomb\n",
    "        field[row_i][col_i] = -1\n",
    "        for i in range(row_i - 1, row_i + 2):\n",
    "            for j in range(col_i - 1, col_i + 2):\n",
    "                if (0<=i < r and 0<=j<c and field[i][j] != -1):\n",
    "                    field[i][j] += 1\n",
    "    return field\n",
    "\n",
    "mine_sweeper([[0,0],[0,1],[1,2]],3,4)\n",
    "    \n",
    "    \n"
   ]
  },
  {
   "cell_type": "code",
   "execution_count": 38,
   "metadata": {},
   "outputs": [
    {
     "data": {
      "text/plain": [
       "[[7, 4, 1], [8, 5, 2], [9, 6, 3]]"
      ]
     },
     "execution_count": 38,
     "metadata": {},
     "output_type": "execute_result"
    }
   ],
   "source": [
    "def matrix_rotation(mat,n):\n",
    "    for i in range(0,int(n/2)):\n",
    "        for j in range(i, n-i-1):\n",
    "            temp = mat[i][j]\n",
    "            mat[i][j] = mat[n-1-j][i]\n",
    "            mat[n-1-j][i] = mat[n-1-i][n-1-j]\n",
    "            mat[n-1-i][n-1-j] = mat[j][n-1-i]\n",
    "            mat[j][n-1-i] = temp\n",
    "    return mat\n",
    "            \n",
    "mat = [[1,2,3],\n",
    "       [4,5,6],\n",
    "       [7,8,9]]\n",
    "matrix_rotation(mat,3)"
   ]
  },
  {
   "cell_type": "code",
   "execution_count": 55,
   "metadata": {},
   "outputs": [
    {
     "name": "stdout",
     "output_type": "stream",
     "text": [
      "[[3, 6, 9], [2, 5, 8], [1, 4, 7]]\n"
     ]
    }
   ],
   "source": [
    "import copy\n",
    "def rotate_sub(i,j,n):\n",
    "    return n - 1 - j, i\n",
    "def matrix_roatation_anti_clock(matrix,n):\n",
    "    rotated = copy.deepcopy(matrix)\n",
    "    for i in range(0,n):\n",
    "        for j in range(0,n):\n",
    "            (new_i,new_j) = rotate_sub(i,j,n)\n",
    "            rotated[new_i][new_j] = matrix[i][j]\n",
    "    return rotated\n",
    "                \n",
    "    \n",
    "mat = [[1,2,3],\n",
    "       [4,5,6],\n",
    "       [7,8,9]]\n",
    "print(matrix_roatation_anti_clock(mat,3))"
   ]
  },
  {
   "cell_type": "code",
   "execution_count": 1,
   "metadata": {},
   "outputs": [
    {
     "data": {
      "text/plain": [
       "5"
      ]
     },
     "execution_count": 1,
     "metadata": {},
     "output_type": "execute_result"
    }
   ],
   "source": [
    "# buying and selling stocks\n",
    "\n",
    "def buy_sell(stocks):\n",
    "    if len(stocks) < 2:\n",
    "        return 0\n",
    "    mn,d = stocks[0],0\n",
    "    for i in range(1,len(stocks)):\n",
    "        mn, d = min(mn,stocks[i]), max(d, stocks[i]-mn)\n",
    "        \n",
    "    return d\n",
    "\n",
    "arr = [7,1,5,3,6,4]\n",
    "buy_sell(arr)"
   ]
  },
  {
   "cell_type": "code",
   "execution_count": 6,
   "metadata": {},
   "outputs": [
    {
     "data": {
      "text/plain": [
       "7"
      ]
     },
     "execution_count": 6,
     "metadata": {},
     "output_type": "execute_result"
    }
   ],
   "source": [
    "# buying and selling stocks 2:\n",
    "\n",
    "def buy_sell2(prices):\n",
    "    stack = [float(\"inf\")]\n",
    "    profit = 0\n",
    "    for i in prices:\n",
    "        if stack[-1] > i:\n",
    "            stack[-1] = i\n",
    "        else:\n",
    "            profit += i - stack[-1]\n",
    "            stack[-1] = i\n",
    "    return profit\n",
    "arr = [7,1,5,3,6,4]\n",
    "buy_sell2(arr)\n"
   ]
  },
  {
   "cell_type": "code",
   "execution_count": 4,
   "metadata": {},
   "outputs": [
    {
     "data": {
      "text/plain": [
       "<function __main__.method1()>"
      ]
     },
     "execution_count": 4,
     "metadata": {},
     "output_type": "execute_result"
    }
   ],
   "source": [
    "def method1():\n",
    "    l = []\n",
    "    for i in range(10):\n",
    "        l = l + [i]\n",
    "    return l\n",
    "method1"
   ]
  },
  {
   "cell_type": "code",
   "execution_count": 40,
   "metadata": {},
   "outputs": [
    {
     "data": {
      "text/plain": [
       "'given strings are not anagrams1'"
      ]
     },
     "execution_count": 40,
     "metadata": {},
     "output_type": "execute_result"
    }
   ],
   "source": [
    "# Anagram checking:\n",
    "def Anagram_check(s1,s2):\n",
    "    char1 = character_count(s1)\n",
    "    char2 = character_count(s2)\n",
    "    if char1 == char2:\n",
    "        for i in s1:\n",
    "            if s1.count(i) == s2.count(i):\n",
    "                return \"given strings are anagrams\"\n",
    "            else:\n",
    "                return \"given strings are not anagrams2\"\n",
    "    else:\n",
    "        return \"given strings are not anagrams1\"\n",
    "        \n",
    "def character_count(st):\n",
    "    count = 0\n",
    "    i = 0\n",
    "    while i<len(st):\n",
    "        if st[i] != ' ':\n",
    "            count += 1\n",
    "        i += 1\n",
    "    return count\n",
    "\n",
    "s1 = \"hi man\"\n",
    "s2 = \"man\"\n",
    "\n",
    "\n",
    "Anagram_check(s1,s2)"
   ]
  },
  {
   "cell_type": "code",
   "execution_count": 45,
   "metadata": {},
   "outputs": [
    {
     "data": {
      "text/plain": [
       "True"
      ]
     },
     "execution_count": 45,
     "metadata": {},
     "output_type": "execute_result"
    }
   ],
   "source": [
    "def Anagram_check2(s1,s2):\n",
    "    s1 = s1.replace(' ','').lower()\n",
    "    s2 = s2.replace(' ','').lower()\n",
    "    \n",
    "    #return sorted(s1) == sorted(s2)\n",
    "    if len(s1) != len(s2):\n",
    "        return False\n",
    "    \n",
    "    dict1 = {}\n",
    "    for i in s1:\n",
    "        if i not in dict1:\n",
    "            dict1[i] = 1\n",
    "        else:\n",
    "            dict1[i] += 1\n",
    "    for i in s2:\n",
    "        if i not in dict1:\n",
    "            dict1[i] = 1\n",
    "        else:\n",
    "            dict1[i] -= 1\n",
    "    for k in dict1:\n",
    "        if dict1[k] != 0:\n",
    "            return False\n",
    "    return True\n",
    "\n",
    "s1 = \"clint eastwood\"\n",
    "s2 = \"old west action\"\n",
    "Anagram_check2(s1,s2)"
   ]
  },
  {
   "cell_type": "code",
   "execution_count": 2,
   "metadata": {},
   "outputs": [
    {
     "name": "stdout",
     "output_type": "stream",
     "text": [
      "{1, 4, 6, 8, 9}\n"
     ]
    },
    {
     "data": {
      "text/plain": [
       "[(1, 5), (0, 6)]"
      ]
     },
     "execution_count": 2,
     "metadata": {},
     "output_type": "execute_result"
    }
   ],
   "source": [
    "#two sum\n",
    "def pair_Sum1(arr,target):\n",
    "    if len(arr)<2:\n",
    "        return \n",
    "    seen = set()\n",
    "    output = set()\n",
    "    for i in arr:\n",
    "        rem = target-i\n",
    "        if rem not in seen:\n",
    "            seen.add(i)\n",
    "        else:\n",
    "            output.add( ((min(i,rem)),max(i,rem)) )\n",
    "    print(seen)\n",
    "    return list(output)\n",
    "                   \n",
    "\n",
    "\n",
    "arr = [1,8,9,4,5,6,0]\n",
    "target  = 6\n",
    "    \n",
    "pair_Sum1(arr,target)"
   ]
  },
  {
   "cell_type": "code",
   "execution_count": 12,
   "metadata": {},
   "outputs": [
    {
     "data": {
      "text/plain": [
       "False"
      ]
     },
     "execution_count": 12,
     "metadata": {},
     "output_type": "execute_result"
    }
   ],
   "source": [
    "# N and 2*N exists in  the array or not\n",
    "\n",
    "def function(arr):\n",
    "    s = set()\n",
    "    for x in arr:\n",
    "        if 2*x in s or x/2 in s:\n",
    "            return True\n",
    "        s.add(x)\n",
    "    return False\n",
    "\n",
    "function([2,3,1,7,4,11])"
   ]
  },
  {
   "cell_type": "code",
   "execution_count": 25,
   "metadata": {},
   "outputs": [
    {
     "ename": "TypeError",
     "evalue": "'int' object is not iterable",
     "output_type": "error",
     "traceback": [
      "\u001b[1;31m---------------------------------------------------------------------------\u001b[0m",
      "\u001b[1;31mTypeError\u001b[0m                                 Traceback (most recent call last)",
      "\u001b[1;32m<ipython-input-25-ede2917d4c63>\u001b[0m in \u001b[0;36m<module>\u001b[1;34m()\u001b[0m\n\u001b[0;32m      7\u001b[0m \u001b[0mcount\u001b[0m \u001b[1;33m=\u001b[0m \u001b[1;36m0\u001b[0m\u001b[1;33m\u001b[0m\u001b[0m\n\u001b[0;32m      8\u001b[0m \u001b[1;32mfor\u001b[0m \u001b[0mi\u001b[0m \u001b[1;32min\u001b[0m \u001b[0mrange\u001b[0m\u001b[1;33m(\u001b[0m\u001b[0mlen\u001b[0m\u001b[1;33m(\u001b[0m\u001b[0mmat\u001b[0m\u001b[1;33m)\u001b[0m\u001b[1;33m)\u001b[0m\u001b[1;33m:\u001b[0m\u001b[1;33m\u001b[0m\u001b[0m\n\u001b[1;32m----> 9\u001b[1;33m     \u001b[1;32mfor\u001b[0m \u001b[0mj\u001b[0m \u001b[1;32min\u001b[0m \u001b[0mi\u001b[0m\u001b[1;33m:\u001b[0m\u001b[1;33m\u001b[0m\u001b[0m\n\u001b[0m\u001b[0;32m     10\u001b[0m         \u001b[1;32mif\u001b[0m \u001b[0mj\u001b[0m \u001b[1;33m==\u001b[0m \u001b[1;36m1\u001b[0m\u001b[1;33m:\u001b[0m\u001b[1;33m\u001b[0m\u001b[0m\n\u001b[0;32m     11\u001b[0m             \u001b[0mcount\u001b[0m \u001b[1;33m+=\u001b[0m \u001b[1;36m1\u001b[0m\u001b[1;33m\u001b[0m\u001b[0m\n",
      "\u001b[1;31mTypeError\u001b[0m: 'int' object is not iterable"
     ]
    }
   ],
   "source": [
    "mat = [[1,1,0,0,0],\n",
    "       [1,1,1,1,0],\n",
    "       [1,0,0,0,0],\n",
    "       [1,1,0,0,0],\n",
    "       [1,1,1,1,1]]\n",
    "dict1 = {}\n",
    "count = 0\n",
    "for i in range(len(mat)):\n",
    "    for j in i:\n",
    "        if j == 1:\n",
    "            count += 1\n",
    "    dict1[i] = count\n",
    "    \n",
    "print(dict1)"
   ]
  },
  {
   "cell_type": "code",
   "execution_count": 45,
   "metadata": {},
   "outputs": [
    {
     "data": {
      "text/plain": [
       "[-2, -1, 0, 1, 2]"
      ]
     },
     "execution_count": 45,
     "metadata": {},
     "output_type": "execute_result"
    }
   ],
   "source": [
    "def sumZero(n):\n",
    "    if n==1:\n",
    "        return [0]\n",
    "    if n>=2:\n",
    "        if n%2 == 0:\n",
    "            return [i for i in range(-(n//2),(n//2)+1) if i!=0]\n",
    "            \n",
    "        else:\n",
    "            return [i for i in range(-(n//2),(n//2)+1)]\n",
    "            \n",
    "        \n",
    "    \n",
    "sumZero(5)"
   ]
  },
  {
   "cell_type": "code",
   "execution_count": 50,
   "metadata": {},
   "outputs": [
    {
     "data": {
      "text/plain": [
       "2"
      ]
     },
     "execution_count": 50,
     "metadata": {},
     "output_type": "execute_result"
    }
   ],
   "source": [
    "# leetcode 1295\n",
    "\n",
    "def function(arr):\n",
    "    count = 0\n",
    "    arr = [str(i) for i in arr]\n",
    "    for i in arr:\n",
    "        if len(i)%2 == 0:\n",
    "            count += 1\n",
    "            \n",
    "    return count\n",
    "\n",
    "    \n",
    "arr = [12,345,2,6,7896]\n",
    "function(arr)"
   ]
  },
  {
   "cell_type": "code",
   "execution_count": 51,
   "metadata": {},
   "outputs": [
    {
     "data": {
      "text/plain": [
       "True"
      ]
     },
     "execution_count": 51,
     "metadata": {},
     "output_type": "execute_result"
    }
   ],
   "source": [
    "#leetcode 1296\n",
    "def function(arr,k):\n",
    "    if len(arr)%k == 0:\n",
    "        return True\n",
    "    return False\n",
    "arr = [15,16,17,18,19,16,17,18,19,20,6,7,8,9,10,3,4,5,6,20]\n",
    "k = 5\n",
    "function(arr,k)"
   ]
  },
  {
   "cell_type": "code",
   "execution_count": 3,
   "metadata": {},
   "outputs": [
    {
     "data": {
      "text/plain": [
       "[0, 0]"
      ]
     },
     "execution_count": 3,
     "metadata": {},
     "output_type": "execute_result"
    }
   ],
   "source": [
    "# leetcode 34\n",
    "import numpy as np\n",
    "def function(arr,target):\n",
    "    low = 0\n",
    "    high = len(arr)\n",
    "    if len(arr) ==1 and arr[0] == len(arr):\n",
    "        return [0,0]\n",
    "    while low<=high:\n",
    "        mid = int(np.floor((low+high)/2))\n",
    "        if arr[mid] == target:\n",
    "            if arr[mid-1] == target:\n",
    "                return [mid-1,mid]\n",
    "            else:\n",
    "                return [mid,mid+1]\n",
    "        elif target<arr[mid]:\n",
    "            high = mid-1\n",
    "        else:\n",
    "            low = mid+1\n",
    "    return [-1,-1]\n",
    "            \n",
    "            \n",
    "            \n",
    "nums = [1]\n",
    "target = 1\n",
    "function(nums,target)\n",
    "        "
   ]
  },
  {
   "cell_type": "code",
   "execution_count": 7,
   "metadata": {},
   "outputs": [
    {
     "data": {
      "text/plain": [
       "[0, 0]"
      ]
     },
     "execution_count": 7,
     "metadata": {},
     "output_type": "execute_result"
    }
   ],
   "source": [
    "# leetcode 34 -------> O(n)\n",
    "\n",
    "\n",
    "def function(arr,target):\n",
    "    for i in range(len(nums)):\n",
    "        if arr[i] == target:\n",
    "            left_index = i\n",
    "            break\n",
    "        return [-1,-1]\n",
    "    for j in range(len(arr)-1, -1, -1):\n",
    "        if arr[j] == target:\n",
    "            right_index = j\n",
    "            break\n",
    "    return [left_index,right_index]\n",
    "\n",
    "nums = [1]\n",
    "target = 1\n",
    "function(nums,target)"
   ]
  },
  {
   "cell_type": "code",
   "execution_count": 9,
   "metadata": {},
   "outputs": [
    {
     "data": {
      "text/plain": [
       "[0, 1, 2, 3, 4]"
      ]
     },
     "execution_count": 9,
     "metadata": {},
     "output_type": "execute_result"
    }
   ],
   "source": [
    "def removeDuplicates(arr):\n",
    "    for i in range(len(arr)-1,0,-1):\n",
    "        if arr[i] == arr[i-1]:\n",
    "            del arr[i]\n",
    "    return arr\n",
    "    \n",
    "\n",
    "nums = [0,0,1,1,1,2,2,3,3,4]\n",
    "removeDuplicates(nums)\n"
   ]
  },
  {
   "cell_type": "code",
   "execution_count": 11,
   "metadata": {},
   "outputs": [
    {
     "ename": "TypeError",
     "evalue": "unsupported operand type(s) for *: 'int' and 'NoneType'",
     "output_type": "error",
     "traceback": [
      "\u001b[1;31m---------------------------------------------------------------------------\u001b[0m",
      "\u001b[1;31mTypeError\u001b[0m                                 Traceback (most recent call last)",
      "\u001b[1;32m<ipython-input-11-f6bef16cf4db>\u001b[0m in \u001b[0;36m<module>\u001b[1;34m()\u001b[0m\n\u001b[0;32m     17\u001b[0m \u001b[1;33m\u001b[0m\u001b[0m\n\u001b[0;32m     18\u001b[0m \u001b[0mnums\u001b[0m \u001b[1;33m=\u001b[0m \u001b[1;33m[\u001b[0m\u001b[1;36m1\u001b[0m\u001b[1;33m,\u001b[0m\u001b[1;36m2\u001b[0m\u001b[1;33m,\u001b[0m\u001b[1;36m3\u001b[0m\u001b[1;33m,\u001b[0m\u001b[1;36m4\u001b[0m\u001b[1;33m,\u001b[0m\u001b[1;36m5\u001b[0m\u001b[1;33m]\u001b[0m\u001b[1;33m\u001b[0m\u001b[0m\n\u001b[1;32m---> 19\u001b[1;33m \u001b[0mfunction\u001b[0m\u001b[1;33m(\u001b[0m\u001b[0mnums\u001b[0m\u001b[1;33m)\u001b[0m\u001b[1;33m\u001b[0m\u001b[0m\n\u001b[0m\u001b[0;32m     20\u001b[0m \u001b[1;33m\u001b[0m\u001b[0m\n\u001b[0;32m     21\u001b[0m \u001b[1;33m\u001b[0m\u001b[0m\n",
      "\u001b[1;32m<ipython-input-11-f6bef16cf4db>\u001b[0m in \u001b[0;36mfunction\u001b[1;34m(arr)\u001b[0m\n\u001b[0;32m     12\u001b[0m         \u001b[0mright_products\u001b[0m\u001b[1;33m[\u001b[0m\u001b[0mi\u001b[0m\u001b[1;33m]\u001b[0m \u001b[1;33m=\u001b[0m \u001b[0marr\u001b[0m\u001b[1;33m[\u001b[0m\u001b[0mi\u001b[0m\u001b[1;33m+\u001b[0m\u001b[1;36m1\u001b[0m\u001b[1;33m]\u001b[0m \u001b[1;33m*\u001b[0m \u001b[0mright_products\u001b[0m\u001b[1;33m[\u001b[0m\u001b[0mi\u001b[0m\u001b[1;33m+\u001b[0m\u001b[1;36m1\u001b[0m\u001b[1;33m]\u001b[0m\u001b[1;33m\u001b[0m\u001b[0m\n\u001b[0;32m     13\u001b[0m     \u001b[1;32mfor\u001b[0m \u001b[0mi\u001b[0m \u001b[1;32min\u001b[0m \u001b[0mrange\u001b[0m\u001b[1;33m(\u001b[0m\u001b[0mlen\u001b[0m\u001b[1;33m(\u001b[0m\u001b[0marr\u001b[0m\u001b[1;33m)\u001b[0m\u001b[1;33m)\u001b[0m\u001b[1;33m:\u001b[0m\u001b[1;33m\u001b[0m\u001b[0m\n\u001b[1;32m---> 14\u001b[1;33m         \u001b[0moutput_products\u001b[0m\u001b[1;33m[\u001b[0m\u001b[0mi\u001b[0m\u001b[1;33m]\u001b[0m \u001b[1;33m=\u001b[0m \u001b[0mleft_products\u001b[0m\u001b[1;33m[\u001b[0m\u001b[0mi\u001b[0m\u001b[1;33m]\u001b[0m\u001b[1;33m*\u001b[0m\u001b[0mright_products\u001b[0m\u001b[1;33m[\u001b[0m\u001b[0mi\u001b[0m\u001b[1;33m]\u001b[0m\u001b[1;33m\u001b[0m\u001b[0m\n\u001b[0m\u001b[0;32m     15\u001b[0m \u001b[1;33m\u001b[0m\u001b[0m\n\u001b[0;32m     16\u001b[0m     \u001b[1;32mreturn\u001b[0m \u001b[0moutput_products\u001b[0m\u001b[1;33m\u001b[0m\u001b[0m\n",
      "\u001b[1;31mTypeError\u001b[0m: unsupported operand type(s) for *: 'int' and 'NoneType'"
     ]
    }
   ],
   "source": [
    "# product of an arry excpet self:\n",
    "def function(arr):\n",
    "    left_products = len(arr)*[None]\n",
    "    right_products =len(arr)*[None]\n",
    "    output_products = len(arr)*[None]\n",
    "    left_products[0] = 1\n",
    "    right_products[len(arr) - 1] = 1\n",
    "    for i in range(1,len(arr)):\n",
    "        left_products[i] = arr[i-1] * left_products[i-1]\n",
    "        \n",
    "    for i in range(len(arr)-2,0,-1):\n",
    "        right_products[i] = arr[i+1] * right_products[i+1]\n",
    "    for i in range(len(arr)):\n",
    "        output_products[i] = left_products[i]*right_products[i]\n",
    "\n",
    "    return output_products\n",
    "\n",
    "nums = [1,2,3,4,5]\n",
    "function(nums)\n",
    "        \n",
    "        \n",
    "    \n"
   ]
  },
  {
   "cell_type": "code",
   "execution_count": 5,
   "metadata": {},
   "outputs": [
    {
     "data": {
      "text/plain": [
       "[4, 0, 1, 1, 3]"
      ]
     },
     "execution_count": 5,
     "metadata": {},
     "output_type": "execute_result"
    }
   ],
   "source": [
    "#leetcode 1365\n",
    "\n",
    "def function(nums):\n",
    "    dict1 = {}\n",
    "    for idx,num in enumerate(sorted(nums)):\n",
    "        dict1.setdefault(num,idx)\n",
    "    return [dict1[num] for num in nums]\n",
    "\n",
    "arr = [8,1,2,2,3]\n",
    "function(arr)\n",
    "        \n"
   ]
  },
  {
   "cell_type": "code",
   "execution_count": 12,
   "metadata": {},
   "outputs": [
    {
     "data": {
      "text/plain": [
       "[4, 0, 1, 1, 3]"
      ]
     },
     "execution_count": 12,
     "metadata": {},
     "output_type": "execute_result"
    }
   ],
   "source": [
    "def function(nums):\n",
    "    count = [0] * 102\n",
    "    for num in nums:\n",
    "        count[num+1] += 1\n",
    "    for i in range(1,102):\n",
    "        count[i] += count[i-1]\n",
    "    return [count[num] for num in nums]\n",
    "\n",
    "arr = [8,1,2,2,3]\n",
    "function(arr)\n",
    "    "
   ]
  },
  {
   "cell_type": "code",
   "execution_count": 16,
   "metadata": {},
   "outputs": [
    {
     "name": "stdout",
     "output_type": "stream",
     "text": [
      "[0, 0, 1, 2, 1, 0, 0, 0, 0, 1, 0, 0, 0, 0, 0, 0, 0, 0, 0, 0, 0, 0, 0, 0, 0, 0, 0, 0, 0, 0, 0, 0, 0, 0, 0, 0, 0, 0, 0, 0, 0, 0, 0, 0, 0, 0, 0, 0, 0, 0, 0, 0, 0, 0, 0, 0, 0, 0, 0, 0, 0, 0, 0, 0, 0, 0, 0, 0, 0, 0, 0, 0, 0, 0, 0, 0, 0, 0, 0, 0, 0, 0, 0, 0, 0, 0, 0, 0, 0, 0, 0, 0, 0, 0, 0, 0, 0, 0, 0, 0, 0, 0]\n"
     ]
    }
   ],
   "source": [
    "nums = [8,1,2,2,3]\n",
    "count = [0]*102\n",
    "for num in nums:\n",
    "    count[num+1] += 1\n",
    "print(count)\n",
    "for i in range(1,102):\n",
    "    count[i] += count[i-1]\n",
    "\n"
   ]
  },
  {
   "cell_type": "code",
   "execution_count": 30,
   "metadata": {},
   "outputs": [
    {
     "data": {
      "text/plain": [
       "[2, 0, 1, 0]"
      ]
     },
     "execution_count": 30,
     "metadata": {},
     "output_type": "execute_result"
    }
   ],
   "source": [
    "#leetcode 315\n",
    "\"\"\"def function(nums):\n",
    "    \n",
    "    dict1 = {}\n",
    "    for i in range(len(nums)):\n",
    "        cnt = 0\n",
    "        for j in nums[i+1::]:\n",
    "            if nums[i]>j:\n",
    "                cnt += 1\n",
    "            j+=1\n",
    "            \n",
    "        dict1[nums[i]] = cnt\n",
    "    return [dict1[num] for num in nums]\n",
    "\n",
    "arr = [5,2,6,4]\n",
    "function(arr)\n",
    "\n",
    "\"\"\"\n",
    "import bisect\n",
    "result =[]\n",
    "sorted_arr = []\n",
    "def function2(nums):\n",
    "    for i in range(len(nums)-1,-1,-1):\n",
    "        idx = bisect.bisect_left(sorted_arr,nums[i])\n",
    "        sorted_arr.insert(idx,nums[i])\n",
    "        result.append(idx)\n",
    "    return result[::-1]\n",
    "\n",
    "arr=[5,2,6,4]\n",
    "\n",
    "function2(arr)"
   ]
  },
  {
   "cell_type": "code",
   "execution_count": 39,
   "metadata": {},
   "outputs": [
    {
     "data": {
      "text/plain": [
       "[7, 6, 5, 4, 3, 0, 0, 0]"
      ]
     },
     "execution_count": 39,
     "metadata": {},
     "output_type": "execute_result"
    }
   ],
   "source": [
    "# return the count of largest elements to the right of nums[i]\n",
    "import bisect\n",
    "def function(nums):\n",
    "    result = []\n",
    "    sorted_arr =[]\n",
    "    for i in range(len(nums)):\n",
    "        idx = bisect.bisect_right(sorted(sorted_arr,reverse = True),nums[i])\n",
    "        sorted_arr.insert(idx,nums[i])\n",
    "        result.append(idx)\n",
    "    return result[::-1]\n",
    "\n",
    "arr = [6,3,1,4,9,8,11,7]\n",
    "function(arr)\n",
    "       \n",
    "    \n",
    "    \"\"\"         HOLD                      \"\"\"\n",
    "    "
   ]
  },
  {
   "cell_type": "code",
   "execution_count": 44,
   "metadata": {},
   "outputs": [
    {
     "data": {
      "text/plain": [
       "9"
      ]
     },
     "execution_count": 44,
     "metadata": {},
     "output_type": "execute_result"
    }
   ],
   "source": [
    "# Kth largest element in the array:\n",
    "def function(arr,k):\n",
    "    for i in range(k-1):\n",
    "        arr[arr.index(max(arr))] =0\n",
    "        \n",
    "    return max(arr)\n",
    "arr = [9,6,4,8,7,1,11,15]\n",
    "function(arr,3)\n",
    "\n"
   ]
  },
  {
   "cell_type": "code",
   "execution_count": 47,
   "metadata": {},
   "outputs": [
    {
     "ename": "ValueError",
     "evalue": "max() arg is an empty sequence",
     "output_type": "error",
     "traceback": [
      "\u001b[1;31m---------------------------------------------------------------------------\u001b[0m",
      "\u001b[1;31mValueError\u001b[0m                                Traceback (most recent call last)",
      "\u001b[1;32m<ipython-input-47-b66a08dddd20>\u001b[0m in \u001b[0;36m<module>\u001b[1;34m()\u001b[0m\n\u001b[0;32m      7\u001b[0m \u001b[1;33m\u001b[0m\u001b[0m\n\u001b[0;32m      8\u001b[0m \u001b[0mnums\u001b[0m \u001b[1;33m=\u001b[0m \u001b[1;33m[\u001b[0m\u001b[1;36m2\u001b[0m\u001b[1;33m,\u001b[0m\u001b[1;36m2\u001b[0m\u001b[1;33m,\u001b[0m\u001b[1;36m3\u001b[0m\u001b[1;33m]\u001b[0m\u001b[1;33m\u001b[0m\u001b[0m\n\u001b[1;32m----> 9\u001b[1;33m \u001b[0mKth_Max\u001b[0m\u001b[1;33m(\u001b[0m\u001b[0mnums\u001b[0m\u001b[1;33m,\u001b[0m\u001b[1;36m3\u001b[0m\u001b[1;33m)\u001b[0m\u001b[1;33m\u001b[0m\u001b[0m\n\u001b[0m",
      "\u001b[1;32m<ipython-input-47-b66a08dddd20>\u001b[0m in \u001b[0;36mKth_Max\u001b[1;34m(arr, k)\u001b[0m\n\u001b[0;32m      4\u001b[0m     \u001b[1;32melse\u001b[0m\u001b[1;33m:\u001b[0m\u001b[1;33m\u001b[0m\u001b[0m\n\u001b[0;32m      5\u001b[0m         \u001b[0mm\u001b[0m \u001b[1;33m=\u001b[0m \u001b[0mmax\u001b[0m\u001b[1;33m(\u001b[0m\u001b[0marr\u001b[0m\u001b[1;33m)\u001b[0m\u001b[1;33m\u001b[0m\u001b[0m\n\u001b[1;32m----> 6\u001b[1;33m         \u001b[1;32mreturn\u001b[0m\u001b[1;33m(\u001b[0m\u001b[0mKth_Max\u001b[0m\u001b[1;33m(\u001b[0m\u001b[1;33m[\u001b[0m\u001b[0mx\u001b[0m \u001b[1;32mfor\u001b[0m \u001b[0mx\u001b[0m \u001b[1;32min\u001b[0m \u001b[0marr\u001b[0m \u001b[1;32mif\u001b[0m \u001b[0mx\u001b[0m\u001b[1;33m!=\u001b[0m\u001b[0mm\u001b[0m\u001b[1;33m]\u001b[0m\u001b[1;33m,\u001b[0m \u001b[0mk\u001b[0m\u001b[1;33m-\u001b[0m\u001b[1;36m1\u001b[0m\u001b[1;33m)\u001b[0m\u001b[1;33m)\u001b[0m\u001b[1;33m\u001b[0m\u001b[0m\n\u001b[0m\u001b[0;32m      7\u001b[0m \u001b[1;33m\u001b[0m\u001b[0m\n\u001b[0;32m      8\u001b[0m \u001b[0mnums\u001b[0m \u001b[1;33m=\u001b[0m \u001b[1;33m[\u001b[0m\u001b[1;36m2\u001b[0m\u001b[1;33m,\u001b[0m\u001b[1;36m2\u001b[0m\u001b[1;33m,\u001b[0m\u001b[1;36m3\u001b[0m\u001b[1;33m]\u001b[0m\u001b[1;33m\u001b[0m\u001b[0m\n",
      "\u001b[1;32m<ipython-input-47-b66a08dddd20>\u001b[0m in \u001b[0;36mKth_Max\u001b[1;34m(arr, k)\u001b[0m\n\u001b[0;32m      4\u001b[0m     \u001b[1;32melse\u001b[0m\u001b[1;33m:\u001b[0m\u001b[1;33m\u001b[0m\u001b[0m\n\u001b[0;32m      5\u001b[0m         \u001b[0mm\u001b[0m \u001b[1;33m=\u001b[0m \u001b[0mmax\u001b[0m\u001b[1;33m(\u001b[0m\u001b[0marr\u001b[0m\u001b[1;33m)\u001b[0m\u001b[1;33m\u001b[0m\u001b[0m\n\u001b[1;32m----> 6\u001b[1;33m         \u001b[1;32mreturn\u001b[0m\u001b[1;33m(\u001b[0m\u001b[0mKth_Max\u001b[0m\u001b[1;33m(\u001b[0m\u001b[1;33m[\u001b[0m\u001b[0mx\u001b[0m \u001b[1;32mfor\u001b[0m \u001b[0mx\u001b[0m \u001b[1;32min\u001b[0m \u001b[0marr\u001b[0m \u001b[1;32mif\u001b[0m \u001b[0mx\u001b[0m\u001b[1;33m!=\u001b[0m\u001b[0mm\u001b[0m\u001b[1;33m]\u001b[0m\u001b[1;33m,\u001b[0m \u001b[0mk\u001b[0m\u001b[1;33m-\u001b[0m\u001b[1;36m1\u001b[0m\u001b[1;33m)\u001b[0m\u001b[1;33m)\u001b[0m\u001b[1;33m\u001b[0m\u001b[0m\n\u001b[0m\u001b[0;32m      7\u001b[0m \u001b[1;33m\u001b[0m\u001b[0m\n\u001b[0;32m      8\u001b[0m \u001b[0mnums\u001b[0m \u001b[1;33m=\u001b[0m \u001b[1;33m[\u001b[0m\u001b[1;36m2\u001b[0m\u001b[1;33m,\u001b[0m\u001b[1;36m2\u001b[0m\u001b[1;33m,\u001b[0m\u001b[1;36m3\u001b[0m\u001b[1;33m]\u001b[0m\u001b[1;33m\u001b[0m\u001b[0m\n",
      "\u001b[1;32m<ipython-input-47-b66a08dddd20>\u001b[0m in \u001b[0;36mKth_Max\u001b[1;34m(arr, k)\u001b[0m\n\u001b[0;32m      1\u001b[0m \u001b[1;32mdef\u001b[0m \u001b[0mKth_Max\u001b[0m\u001b[1;33m(\u001b[0m\u001b[0marr\u001b[0m\u001b[1;33m,\u001b[0m\u001b[0mk\u001b[0m\u001b[1;33m)\u001b[0m\u001b[1;33m:\u001b[0m\u001b[1;33m\u001b[0m\u001b[0m\n\u001b[0;32m      2\u001b[0m     \u001b[1;32mif\u001b[0m \u001b[0mk\u001b[0m\u001b[1;33m==\u001b[0m\u001b[1;36m1\u001b[0m\u001b[1;33m:\u001b[0m\u001b[1;33m\u001b[0m\u001b[0m\n\u001b[1;32m----> 3\u001b[1;33m         \u001b[1;32mreturn\u001b[0m \u001b[0mmax\u001b[0m\u001b[1;33m(\u001b[0m\u001b[0marr\u001b[0m\u001b[1;33m)\u001b[0m\u001b[1;33m\u001b[0m\u001b[0m\n\u001b[0m\u001b[0;32m      4\u001b[0m     \u001b[1;32melse\u001b[0m\u001b[1;33m:\u001b[0m\u001b[1;33m\u001b[0m\u001b[0m\n\u001b[0;32m      5\u001b[0m         \u001b[0mm\u001b[0m \u001b[1;33m=\u001b[0m \u001b[0mmax\u001b[0m\u001b[1;33m(\u001b[0m\u001b[0marr\u001b[0m\u001b[1;33m)\u001b[0m\u001b[1;33m\u001b[0m\u001b[0m\n",
      "\u001b[1;31mValueError\u001b[0m: max() arg is an empty sequence"
     ]
    }
   ],
   "source": [
    "def Kth_Max(arr,k):\n",
    "    if k==1:\n",
    "        return max(arr)\n",
    "    else:\n",
    "        m = max(arr)\n",
    "        return(Kth_Max([x for x in arr if x!=m], k-1))\n",
    "    \n",
    "nums = [2,2,3]\n",
    "Kth_Max(nums,3)"
   ]
  },
  {
   "cell_type": "code",
   "execution_count": 6,
   "metadata": {},
   "outputs": [
    {
     "data": {
      "text/plain": [
       "[0, 4, 1, 3, 2]"
      ]
     },
     "execution_count": 6,
     "metadata": {},
     "output_type": "execute_result"
    }
   ],
   "source": [
    "# leetcode 1389:\n",
    "\n",
    "def function(nums,index):\n",
    "    target = []\n",
    "    j = 0\n",
    "    for i in nums:\n",
    "        if j<len(index):\n",
    "            idx = index[j]\n",
    "        target.insert(idx, i)\n",
    "        j+=1\n",
    "    return target\n",
    "\n",
    "nums = [0,1,2,3,4]\n",
    "index = [0,1,2,2,1]\n",
    "function(nums,index)\n",
    "            "
   ]
  },
  {
   "cell_type": "code",
   "execution_count": 16,
   "metadata": {},
   "outputs": [
    {
     "data": {
      "text/plain": [
       "[2, 4, 4, 4]"
      ]
     },
     "execution_count": 16,
     "metadata": {},
     "output_type": "execute_result"
    }
   ],
   "source": [
    "# leetcode 1313\n",
    "\n",
    "#[1,2,3,4]\n",
    "#[2,4,4,4]\n",
    "def function(nums):\n",
    "    target = []\n",
    "    for i in range(0,len(nums),2):\n",
    "        freq, new = nums[i], nums[i+1]\n",
    "        new_arr = [new]*freq\n",
    "        #print(new_arr)\n",
    "        target = target + new_arr\n",
    "    return target\n",
    "\n",
    "function([1,2,3,4])\n",
    "        \n",
    "        \n",
    "    "
   ]
  },
  {
   "cell_type": "code",
   "execution_count": 33,
   "metadata": {},
   "outputs": [
    {
     "data": {
      "text/plain": [
       "6"
      ]
     },
     "execution_count": 33,
     "metadata": {},
     "output_type": "execute_result"
    }
   ],
   "source": [
    "# leetcode 1252:\n",
    "def function(n,m,inc):\n",
    "    matrix = [[0 for i in range(m)] for j in range(n)]\n",
    "    for i in inc:\n",
    "        x,y = i[0],i[1]\n",
    "        for c in range(len(matrix[0])):\n",
    "            matrix[x][c] += 1\n",
    "        for r in range(len(matrix)):\n",
    "            matrix[r][y] += 1\n",
    "            \n",
    "    count = 0\n",
    "    matrix = [x for row in matrix for x in row]\n",
    "    for i in matrix:\n",
    "        if i %2 != 0:\n",
    "            count +=1\n",
    "    return count\n",
    "\n",
    "function(2,3,[[0,1],[1,1]])"
   ]
  },
  {
   "cell_type": "code",
   "execution_count": 13,
   "metadata": {},
   "outputs": [
    {
     "data": {
      "text/plain": [
       "[[1, 0, 0], [0, 1, 0], [1, 1, 1]]"
      ]
     },
     "execution_count": 13,
     "metadata": {},
     "output_type": "execute_result"
    }
   ],
   "source": [
    "# leetcode 832\n",
    "# Flippinmg an Image\n",
    "def function(matrix):\n",
    "    matrix = [[j for j in i[::-1]] for i in matrix]\n",
    "    matrix = [[0 if j==1 else 1 for j in i]for i in matrix]\n",
    "    return matrix\n",
    "\n",
    "function([[1,1,0],[1,0,1],[0,0,0]])"
   ]
  },
  {
   "cell_type": "code",
   "execution_count": 17,
   "metadata": {},
   "outputs": [
    {
     "data": {
      "text/plain": [
       "[2, 4, 3, 1]"
      ]
     },
     "execution_count": 17,
     "metadata": {},
     "output_type": "execute_result"
    }
   ],
   "source": [
    "# leetcode 905\n",
    "# Sort the Array by Parity\n",
    "\n",
    "def function(arr):\n",
    "    even, odd = [], []\n",
    "    for i in arr:\n",
    "        if i%2 == 0:\n",
    "            even.append(i)\n",
    "        else:\n",
    "            odd.append(i)\n",
    "    return even+odd\n",
    "function([3,1,2,4])"
   ]
  },
  {
   "cell_type": "code",
   "execution_count": 18,
   "metadata": {},
   "outputs": [
    {
     "ename": "SyntaxError",
     "evalue": "unexpected EOF while parsing (<ipython-input-18-8c4882872d49>, line 4)",
     "output_type": "error",
     "traceback": [
      "\u001b[1;36m  File \u001b[1;32m\"<ipython-input-18-8c4882872d49>\"\u001b[1;36m, line \u001b[1;32m4\u001b[0m\n\u001b[1;33m    \u001b[0m\n\u001b[1;37m    ^\u001b[0m\n\u001b[1;31mSyntaxError\u001b[0m\u001b[1;31m:\u001b[0m unexpected EOF while parsing\n"
     ]
    }
   ],
   "source": [
    "# leetcode 83\n",
    "# lucky number in the matrix:\n",
    "def function(matrix):\n",
    "    "
   ]
  },
  {
   "cell_type": "code",
   "execution_count": 30,
   "metadata": {},
   "outputs": [
    {
     "data": {
      "text/plain": [
       "[15]"
      ]
     },
     "execution_count": 30,
     "metadata": {},
     "output_type": "execute_result"
    }
   ],
   "source": [
    "# leetcode 1380:\n",
    "def function(matrix):\n",
    "    column = list(zip(*matrix))\n",
    "    res = []\n",
    "    for i in matrix:\n",
    "        r_idx = i.index(min(i))\n",
    "        if i[r_idx] == max(column[r_idx]):\n",
    "            res.append(i[r_idx])\n",
    "    return res\n",
    "\n",
    "function([[3,7,8],[9,11,13],[15,16,17]])\n",
    "        "
   ]
  },
  {
   "cell_type": "code",
   "execution_count": 33,
   "metadata": {},
   "outputs": [
    {
     "data": {
      "text/plain": [
       "3"
      ]
     },
     "execution_count": 33,
     "metadata": {},
     "output_type": "execute_result"
    }
   ],
   "source": [
    "# leetcode 1051:\n",
    "def function(arr):\n",
    "    sort_arr = sorted(arr)\n",
    "    count = 0\n",
    "    for i in range(len(arr)):\n",
    "        if arr[i] != sort_arr[i]:\n",
    "            count+=1\n",
    "    return count\n",
    "\n",
    "function([1,1,4,2,1,3])\n"
   ]
  },
  {
   "cell_type": "code",
   "execution_count": 36,
   "metadata": {},
   "outputs": [],
   "source": [
    "# leetcode 941  ---> Mountain Array\n",
    "\n",
    "def function(arr):\n",
    "    if len(arr) < 3:\n",
    "        return Fasle\n",
    "    max_idx = arr.index(max(arr))\n",
    "    for i in range(0,max_idx):\n",
    "        if arr[i]>=arr[i+1]:\n",
    "            return False \n",
    "    for j in range(max_idx, len(arr)-1):\n",
    "        if arr[i] <= arr[i+1]:\n",
    "            return False\n",
    "    return True\n",
    "    "
   ]
  },
  {
   "cell_type": "code",
   "execution_count": 51,
   "metadata": {},
   "outputs": [
    {
     "data": {
      "text/plain": [
       "[2, 0, 3]"
      ]
     },
     "execution_count": 51,
     "metadata": {},
     "output_type": "execute_result"
    }
   ],
   "source": [
    "# leetcode 1337\n",
    "def function(matrix,k):\n",
    "    dict1 = {}\n",
    "    for i in range(len(matrix)):\n",
    "        dict1[i] = matrix[i].count(1)\n",
    "    x = sorted(dict1.items(), key = lambda x:x[1])\n",
    "    out = [i[0] for i in x]\n",
    "    return out[0:k]\n",
    "function([[1,1,0,0,0],\n",
    "          [1,1,1,1,0],\n",
    "          [1,0,0,0,0],\n",
    "          [1,1,0,0,0],\n",
    "          [1,1,1,1,1]],3)"
   ]
  },
  {
   "cell_type": "code",
   "execution_count": 53,
   "metadata": {},
   "outputs": [
    {
     "data": {
      "text/plain": [
       "3"
      ]
     },
     "execution_count": 53,
     "metadata": {},
     "output_type": "execute_result"
    }
   ],
   "source": [
    "# leetcode 1394:\n",
    "def function(arr):\n",
    "    luck = []\n",
    "    for i in arr:\n",
    "        if arr.count(i) == i:\n",
    "            luck.append(i)\n",
    "            arr.remove(i)\n",
    "        \n",
    "    if len(luck)>0:\n",
    "        return max(luck)\n",
    "    return -1\n",
    "\n",
    "function([1,2,2,3,3,3])\n",
    "        "
   ]
  },
  {
   "cell_type": "code",
   "execution_count": 78,
   "metadata": {},
   "outputs": [
    {
     "data": {
      "text/plain": [
       "[4, 1, 2, 1]"
      ]
     },
     "execution_count": 78,
     "metadata": {},
     "output_type": "execute_result"
    }
   ],
   "source": [
    "#leetcode 922:\n",
    "def function1(arr):\n",
    "    start, end = 0, len(arr) -1\n",
    "    while start<end:\n",
    "        if arr[start] %2 == 0:\n",
    "            start +=1\n",
    "        else:\n",
    "            arr[start], arr[end] = arr[end], arr[start]\n",
    "            end -= 1\n",
    "    print(arr)\n",
    "    start = 0\n",
    "    end = len(arr)-1\n",
    "    res = []\n",
    "    while start< end:\n",
    "        res.append(arr[start])\n",
    "        start += 1\n",
    "        res.append(arr[end])\n",
    "        end -= 1\n",
    "    return res\n",
    "\n",
    "\n",
    "def function2(arr):\n",
    "    evn, odd = 0,1\n",
    "    res = [0]*len(arr)\n",
    "    for i in arr:\n",
    "        if i%2 == 0:\n",
    "            res[evn]=i\n",
    "            evn += 2\n",
    "        else:\n",
    "            res[odd]=i\n",
    "            odd+=2\n",
    "    return res\n",
    "\n",
    "def function3(arr):\n",
    "    even, odd = 0, 1\n",
    "    while even < len(arr) and odd< len(arr):\n",
    "        \n",
    "        if arr[even]%2 == 0:\n",
    "            even += 2\n",
    "        elif arr[odd]%2 == 1:\n",
    "            odd+=2\n",
    "        else:\n",
    "            arr[even], arr[odd] = arr[odd], arr[even]\n",
    "    return arr\n",
    "\n",
    "\n",
    "function3([4,1,1,2])"
   ]
  },
  {
   "cell_type": "code",
   "execution_count": 16,
   "metadata": {},
   "outputs": [
    {
     "data": {
      "text/plain": [
       "7"
      ]
     },
     "execution_count": 16,
     "metadata": {},
     "output_type": "execute_result"
    }
   ],
   "source": [
    "# leetcode 1160:\n",
    "\n",
    "def function(words, chars):\n",
    "    count = 0\n",
    "    for i in words:\n",
    "        char_list = list(chars)\n",
    "        for j in i:\n",
    "            if j in char_list:\n",
    "                char_list.remove(j)\n",
    "        if len(chars) - len(i) == len(char_list):\n",
    "            count += len(i)\n",
    "    return count\n",
    "    \n",
    "function([\"acat\",\"bt\",\"hat\",\"tree\"], \"atach\")\n"
   ]
  },
  {
   "cell_type": "code",
   "execution_count": 36,
   "metadata": {},
   "outputs": [
    {
     "data": {
      "text/plain": [
       "[2, 2, 2, 1, 4, 3, 3, 9, 6, 7, 19]"
      ]
     },
     "execution_count": 36,
     "metadata": {},
     "output_type": "execute_result"
    }
   ],
   "source": [
    "# leetcode: 1122\n",
    "def relative_sort(arr1, arr2):\n",
    "    res = []\n",
    "    for i in range(len(arr2)):\n",
    "        for j in range(arr1.count(arr2[i])):\n",
    "            res.append(arr2[i])\n",
    "            arr1.remove(arr2[i])\n",
    "    return res + arr1\n",
    "    \n",
    "arr1 = [2,3,1,3,2,4,6,7,9,2,19]\n",
    "arr2 = [2,1,4,3,9,6]\n",
    "relative_sort(arr1, arr2)"
   ]
  },
  {
   "cell_type": "code",
   "execution_count": 46,
   "metadata": {},
   "outputs": [
    {
     "data": {
      "text/plain": [
       "[21, 11, 26, 20, 1, 18, 34, 50]"
      ]
     },
     "execution_count": 46,
     "metadata": {},
     "output_type": "execute_result"
    }
   ],
   "source": [
    "# leetcode: 1122\n",
    "def relative_sort(arr1, arr2):\n",
    "    dict1 = {}\n",
    "    for i, e in enumerate(arr2):\n",
    "        dict1[e] = i\n",
    "    def sort(x):\n",
    "        if x in dict1:\n",
    "            return (False, dict1[x])\n",
    "        else:\n",
    "            return (True,x)\n",
    "    arr1.sort(key = lambda a: (sort(a), a))\n",
    "    return arr1\n",
    "arr1 =[26,21,11,20,50,34,1,18]\n",
    "arr2 = [21,11,26,20]\n",
    "\n",
    "relative_sort(arr1, arr2)\n"
   ]
  },
  {
   "cell_type": "code",
   "execution_count": 53,
   "metadata": {},
   "outputs": [
    {
     "data": {
      "text/plain": [
       "[[-14, -10], [19, 23], [23, 27]]"
      ]
     },
     "execution_count": 53,
     "metadata": {},
     "output_type": "execute_result"
    }
   ],
   "source": [
    "# leetcode 1200\n",
    "def function(arr):\n",
    "    arr.sort()\n",
    "    minDiff = float('inf')\n",
    "    res = []\n",
    "    for i in range(len(arr)-1):\n",
    "        minDiff = min(minDiff, abs(arr[i]-arr[i+1]))\n",
    "    for i in range(len(arr)-1):\n",
    "        if abs(arr[i]-arr[i+1]) == minDiff:\n",
    "            res.append([arr[i], arr[i+1]])\n",
    "    return res\n",
    "\n",
    "arr = [3,8,-10,23,19,-4,-14,27]\n",
    "function(arr)"
   ]
  },
  {
   "cell_type": "code",
   "execution_count": 73,
   "metadata": {},
   "outputs": [
    {
     "data": {
      "text/plain": [
       "21"
      ]
     },
     "execution_count": 73,
     "metadata": {},
     "output_type": "execute_result"
    }
   ],
   "source": [
    "# leetcode 1281:\n",
    "def subtractProductAndSum(n):\n",
    "    n = list(str(n))\n",
    "    prod, total = 1, 0\n",
    "    for i in n:\n",
    "        prod *= int(i)\n",
    "        total += int(i)\n",
    "    return prod-total\n",
    "subtractProductAndSum(4421)       "
   ]
  },
  {
   "cell_type": "code",
   "execution_count": 42,
   "metadata": {},
   "outputs": [
    {
     "data": {
      "text/plain": [
       "'Tuesday'"
      ]
     },
     "execution_count": 42,
     "metadata": {},
     "output_type": "execute_result"
    }
   ],
   "source": [
    "# leetcode: 1185\n",
    "import calendar\n",
    "def function(day, month, year):\n",
    "    days = {\"Sunday\":6, \"Monday\":0, \"Tuesday\":1, \"Wednesday\":2, \"Thursday\":3, \"Friday\":4, \"Saturday\":5}\n",
    "    result = calendar.weekday(year, month, day)\n",
    "    for key, value in days.items():\n",
    "        if result == value:\n",
    "            return key\n",
    "function(14,4,2020)\n",
    " \n"
   ]
  },
  {
   "cell_type": "code",
   "execution_count": 41,
   "metadata": {},
   "outputs": [
    {
     "data": {
      "text/plain": [
       "'Tuesday'"
      ]
     },
     "execution_count": 41,
     "metadata": {},
     "output_type": "execute_result"
    }
   ],
   "source": [
    "#leetcode 1185\n",
    "import datetime\n",
    "def function(day, month, year):\n",
    "    days= {6:\"Sunday\", 0:\"Monday\", 1:\"Tuesday\", 2:\"Wednesday\", 3:\"Thursday\", 4:\"Friday\", 5:\"Saturday\"}\n",
    "    today  = datetime.datetime(year, month, day)\n",
    "    return days[today.weekday()]\n",
    "function(14,4,2020)"
   ]
  },
  {
   "cell_type": "code",
   "execution_count": 23,
   "metadata": {},
   "outputs": [
    {
     "data": {
      "text/plain": [
       "'Tuesday'"
      ]
     },
     "execution_count": 23,
     "metadata": {},
     "output_type": "execute_result"
    }
   ],
   "source": [
    "#leetcode 1185\n",
    "import calendar as cn\n",
    "import datetime as dt\n",
    "def function(day, month, year):\n",
    "    res = cn.weekday(year, month, day)\n",
    "    return fnn(res)\n",
    "def fnn(num):\n",
    "    dictVals = {\n",
    "        0 : \"Monday\",\n",
    "        1 : \"Tuesday\",\n",
    "        2 : \"Wednesday\",\n",
    "        3 : \"Thursday\",\n",
    "        4 : \"Friday\",\n",
    "        5 : \"Saturday\",\n",
    "        6 : \"Sunday\"\n",
    "    }\n",
    "    return dictVals[num]\n",
    "function(14,4,2020)"
   ]
  },
  {
   "cell_type": "code",
   "execution_count": 43,
   "metadata": {},
   "outputs": [
    {
     "data": {
      "text/plain": [
       "array([[ 1,  4,  7, 10],\n",
       "       [ 2,  5,  8, 11],\n",
       "       [ 3,  6,  9, 12]])"
      ]
     },
     "execution_count": 43,
     "metadata": {},
     "output_type": "execute_result"
    }
   ],
   "source": [
    "# leetcode 867:\n",
    "import numpy as np\n",
    "def function(matrix):\n",
    "    rows, cols = len(matrix), len(matrix[0])\n",
    "    new_matrix = np.zeros([cols,rows], dtype = int)\n",
    "    for i in range(rows):\n",
    "        for j in range(cols):\n",
    "            new_matrix[j][i] = matrix[i][j]\n",
    "    \n",
    "    return new_matrix\n",
    "\n",
    "matrix = [[1,2,3],[4,5,6],[7,8,9],[10,11,12]]\n",
    "function(matrix)\n",
    "    \n",
    "        \n",
    "                "
   ]
  },
  {
   "cell_type": "code",
   "execution_count": 1,
   "metadata": {},
   "outputs": [
    {
     "data": {
      "text/plain": [
       "-1"
      ]
     },
     "execution_count": 1,
     "metadata": {},
     "output_type": "execute_result"
    }
   ],
   "source": [
    "# leetcode 747\n",
    "\n",
    "def function(arr):\n",
    "    if len(arr) == 0:\n",
    "        return -1\n",
    "    max_num = arr[0]\n",
    "    max_ptr = 0\n",
    "    \n",
    "    for i in range(len(arr)):\n",
    "        if arr[i]>max_num:\n",
    "            max_num = arr[i]\n",
    "            max_ptr = i\n",
    "    for i in range(len(arr)):\n",
    "        if arr[i]*2 > max_num and arr[i] != max_num:\n",
    "            return -1\n",
    "    return max_ptr\n",
    "\n",
    "function([1,2,3,4])"
   ]
  },
  {
   "cell_type": "code",
   "execution_count": 17,
   "metadata": {},
   "outputs": [
    {
     "data": {
      "text/plain": [
       "True"
      ]
     },
     "execution_count": 17,
     "metadata": {},
     "output_type": "execute_result"
    }
   ],
   "source": [
    "# leetcode 896:\n",
    "def function1(arr):\n",
    "    g_f = True\n",
    "    l_f = True\n",
    "    for i in range(1,len(arr)):\n",
    "        if arr[i]>arr[i-1]:\n",
    "            g_f = False\n",
    "        elif arr[i]< arr[i-1]:\n",
    "            l_f = False\n",
    "    return g_f or l_f\n",
    "        \n",
    "    \n",
    "def function2(arr):\n",
    "    return (all(arr[i-1]>=arr[i] for i in range(1,len(arr))) or\n",
    "           all(arr[i-1]<=arr[i] for i in range(1, len(arr))))\n",
    "\n",
    "\n",
    "    \n",
    "function2([1,5,6,9,4])\n",
    "            "
   ]
  },
  {
   "cell_type": "code",
   "execution_count": 34,
   "metadata": {},
   "outputs": [
    {
     "data": {
      "text/plain": [
       "[8, 6, 2, 4]"
      ]
     },
     "execution_count": 34,
     "metadata": {},
     "output_type": "execute_result"
    }
   ],
   "source": [
    "\n",
    "# leetcode 985 ---------------> time limit exceeded\n",
    "def function(arr, queries):\n",
    "    res = []\n",
    "    for i in range(len(queries)):\n",
    "        idx = queries[i][1]\n",
    "        arr[idx]+=queries[i][0]\n",
    "        res.append(even_sum(arr))\n",
    "    return res\n",
    "        \n",
    "def even_sum(arr):\n",
    "    total =0\n",
    "    for i in arr:\n",
    "        if i%2==0:\n",
    "            total+=i\n",
    "    return total  \n",
    "    \n",
    "A = [1,2,3,4] \n",
    "queries = [[1,0],[-3,1],[-4,0],[2,3]]\n",
    "function(A, queries)"
   ]
  },
  {
   "cell_type": "code",
   "execution_count": 13,
   "metadata": {},
   "outputs": [
    {
     "data": {
      "text/plain": [
       "'100'"
      ]
     },
     "execution_count": 13,
     "metadata": {},
     "output_type": "execute_result"
    }
   ],
   "source": [
    "# leetcode 67:\n",
    "def Bin_add(a,b):\n",
    "    result = bin(int(a,2)+int(b,2))\n",
    "    return result[2:]\n",
    "a  = \"11\"\n",
    "b = \"1\"\n",
    "Bin_add(a,b)"
   ]
  },
  {
   "cell_type": "code",
   "execution_count": 20,
   "metadata": {},
   "outputs": [
    {
     "data": {
      "text/plain": [
       "[3, 4, 8]"
      ]
     },
     "execution_count": 20,
     "metadata": {},
     "output_type": "execute_result"
    }
   ],
   "source": [
    "# leetcode 658:******************************************************* time complexity******************\n",
    "def K_closest_elements(arr, k, x):\n",
    "    while len(arr)>k:\n",
    "        if abs(arr[0]-x) > abs(arr[-1]-x):\n",
    "            arr.remove(arr[0])\n",
    "        else:\n",
    "            arr.remove(arr[-1])\n",
    "    return arr\n",
    "\n",
    "nums = [1,2,3,4,8,9,10,12]\n",
    "k = 3\n",
    "x = 6\n",
    "K_closest_elements(nums,k,x)"
   ]
  },
  {
   "cell_type": "code",
   "execution_count": 35,
   "metadata": {},
   "outputs": [
    {
     "name": "stdout",
     "output_type": "stream",
     "text": [
      "[1, 2, 3, 4, 5, 6, 7, 8, 9]\n",
      "9\n"
     ]
    },
    {
     "data": {
      "text/plain": [
       "[[9, 1, 2], [3, 4, 5], [6, 7, 8]]"
      ]
     },
     "execution_count": 35,
     "metadata": {},
     "output_type": "execute_result"
    }
   ],
   "source": [
    "# leetcode 1260:\n",
    "def shift_grid(matrix, k):\n",
    "    cols = len(matrix[0])\n",
    "    matrix = [x for row in matrix for x in row]\n",
    "    print(matrix)\n",
    "    matrix = right_shift(matrix, k)\n",
    "    print(len(matrix))\n",
    "    matrix = [matrix[i:i+cols] for i in range(0, len(matrix), cols)]\n",
    "    return matrix\n",
    "def right_shift(arr,k):\n",
    "    for i in range(k):\n",
    "        temp = arr[len(arr)-1]\n",
    "        arr.pop()\n",
    "        arr.insert(0,temp)\n",
    "    return arr\n",
    "\n",
    "grid = [[1,2,3],[4,5,6],[7,8,9]]\n",
    "k = 1\n",
    "shift_grid(grid,k)\n",
    "    "
   ]
  },
  {
   "cell_type": "code",
   "execution_count": 40,
   "metadata": {},
   "outputs": [
    {
     "data": {
      "text/plain": [
       "-1"
      ]
     },
     "execution_count": 40,
     "metadata": {},
     "output_type": "execute_result"
    }
   ],
   "source": [
    "# leetcode 724: Find the pivot index:\n",
    "def pivot_index(arr):\n",
    "    mid = len(arr)//2\n",
    "    half1 = tot(arr[0:mid])\n",
    "    half2 = tot(arr[mid+1:len(arr)])\n",
    "    if half1 == half2:\n",
    "        return mid\n",
    "    elif half1<half2:\n",
    "        mid += 1\n",
    "    elif half1>half2:\n",
    "        mid -= 1\n",
    "    return -1\n",
    "def tot(arr):\n",
    "    total = 0\n",
    "    for i in arr:\n",
    "        total += i\n",
    "    return total\n",
    "\n",
    "arr = [1,7,3,6,5,6]\n",
    "pivot_index(arr)\n",
    "\n",
    "arr1 = [1,2,3]\n",
    "pivot_index(arr1)\n"
   ]
  },
  {
   "cell_type": "code",
   "execution_count": 53,
   "metadata": {},
   "outputs": [
    {
     "data": {
      "text/plain": [
       "3"
      ]
     },
     "execution_count": 53,
     "metadata": {},
     "output_type": "execute_result"
    }
   ],
   "source": [
    "# leetcode 724:\n",
    "def function(arr):\n",
    "    S = sum(arr)\n",
    "    left_sum = 0\n",
    "    \n",
    "    for i, x in enumerate(arr):\n",
    "        if left_sum == (S-left_sum-x):\n",
    "            return i\n",
    "        left_sum+=x\n",
    "    return -1 \n",
    "\n",
    "arr = [1,7,3,6,5,6]\n",
    "function(arr)"
   ]
  },
  {
   "cell_type": "code",
   "execution_count": 54,
   "metadata": {},
   "outputs": [
    {
     "data": {
      "text/plain": [
       "3"
      ]
     },
     "execution_count": 54,
     "metadata": {},
     "output_type": "execute_result"
    }
   ],
   "source": [
    "# leetcode 724:\n",
    "def function(arr):\n",
    "    if len(arr) ==0:\n",
    "        return -1\n",
    "    for i in range(len(arr)):\n",
    "        if sum(arr[0:i]) == sum(arr[i+1:len(arr)]):\n",
    "            return i\n",
    "    return -1\n",
    "arr = [1,7,3,6,5,6]\n",
    "function(arr)"
   ]
  },
  {
   "cell_type": "code",
   "execution_count": 90,
   "metadata": {},
   "outputs": [
    {
     "data": {
      "text/plain": [
       "[4, 1, 2, 3, 1, 5]"
      ]
     },
     "execution_count": 90,
     "metadata": {},
     "output_type": "execute_result"
    }
   ],
   "source": [
    "# leetcode 1331 ***********************\n",
    "def function(arr):\n",
    "    sort_arr = sorted(arr)\n",
    "    dict1 = {}\n",
    "    k = 0\n",
    "    for i in sort_arr:\n",
    "        if k<=len(sort_arr) and i not in dict1:\n",
    "            k+=1\n",
    "        dict1[i] = k\n",
    "    for i in range(len(arr)):\n",
    "        arr[i] = dict1[arr[i]]\n",
    "    return arr\n",
    "arr = [40,10,20,30,10,55]\n",
    "function(arr)"
   ]
  },
  {
   "cell_type": "code",
   "execution_count": 92,
   "metadata": {},
   "outputs": [
    {
     "data": {
      "text/plain": [
       "6"
      ]
     },
     "execution_count": 92,
     "metadata": {},
     "output_type": "execute_result"
    }
   ],
   "source": [
    "# leetcode 1287:\n",
    "def function(arr):\n",
    "    count = int((25/100)*len(arr))\n",
    "    for i in arr:\n",
    "        if arr.count(i) > count:\n",
    "            return i\n",
    "        \n",
    "arr = [1,2,2,6,6,6,6,7,10]\n",
    "function(arr)"
   ]
  },
  {
   "cell_type": "code",
   "execution_count": 1,
   "metadata": {},
   "outputs": [
    {
     "ename": "IndexError",
     "evalue": "list assignment index out of range",
     "output_type": "error",
     "traceback": [
      "\u001b[1;31m---------------------------------------------------------------------------\u001b[0m",
      "\u001b[1;31mIndexError\u001b[0m                                Traceback (most recent call last)",
      "\u001b[1;32m<ipython-input-1-fc9093a56d4b>\u001b[0m in \u001b[0;36m<module>\u001b[1;34m()\u001b[0m\n\u001b[0;32m     15\u001b[0m \u001b[1;33m\u001b[0m\u001b[0m\n\u001b[0;32m     16\u001b[0m \u001b[0marr\u001b[0m \u001b[1;33m=\u001b[0m \u001b[1;33m[\u001b[0m\u001b[1;36m1\u001b[0m\u001b[1;33m,\u001b[0m\u001b[1;36m0\u001b[0m\u001b[1;33m,\u001b[0m\u001b[1;36m2\u001b[0m\u001b[1;33m,\u001b[0m\u001b[1;36m3\u001b[0m\u001b[1;33m,\u001b[0m\u001b[1;36m0\u001b[0m\u001b[1;33m,\u001b[0m\u001b[1;36m4\u001b[0m\u001b[1;33m,\u001b[0m\u001b[1;36m5\u001b[0m\u001b[1;33m,\u001b[0m\u001b[1;36m0\u001b[0m\u001b[1;33m]\u001b[0m\u001b[1;33m\u001b[0m\u001b[0m\n\u001b[1;32m---> 17\u001b[1;33m \u001b[0mfunction\u001b[0m\u001b[1;33m(\u001b[0m\u001b[0marr\u001b[0m\u001b[1;33m)\u001b[0m\u001b[1;33m\u001b[0m\u001b[0m\n\u001b[0m",
      "\u001b[1;32m<ipython-input-1-fc9093a56d4b>\u001b[0m in \u001b[0;36mfunction\u001b[1;34m(arr)\u001b[0m\n\u001b[0;32m     10\u001b[0m             \u001b[0mdestination\u001b[0m\u001b[1;33m[\u001b[0m\u001b[0md\u001b[0m\u001b[1;33m]\u001b[0m \u001b[1;33m=\u001b[0m\u001b[1;36m0\u001b[0m\u001b[1;33m\u001b[0m\u001b[0m\n\u001b[0;32m     11\u001b[0m         \u001b[1;32melse\u001b[0m\u001b[1;33m:\u001b[0m\u001b[1;33m\u001b[0m\u001b[0m\n\u001b[1;32m---> 12\u001b[1;33m             \u001b[0mdestination\u001b[0m\u001b[1;33m[\u001b[0m\u001b[0md\u001b[0m\u001b[1;33m]\u001b[0m \u001b[1;33m=\u001b[0m \u001b[0marr\u001b[0m\u001b[1;33m[\u001b[0m\u001b[0ms\u001b[0m\u001b[1;33m]\u001b[0m\u001b[1;33m\u001b[0m\u001b[0m\n\u001b[0m\u001b[0;32m     13\u001b[0m         \u001b[0md\u001b[0m\u001b[1;33m+=\u001b[0m\u001b[1;36m1\u001b[0m\u001b[1;33m\u001b[0m\u001b[0m\n\u001b[0;32m     14\u001b[0m     \u001b[1;32mreturn\u001b[0m \u001b[0mdestination\u001b[0m\u001b[1;33m\u001b[0m\u001b[0m\n",
      "\u001b[1;31mIndexError\u001b[0m: list assignment index out of range"
     ]
    }
   ],
   "source": [
    "# leetcode: 1089\n",
    "import copy\n",
    "def function(arr):\n",
    "    d = 0\n",
    "    destination = copy.deepcopy(arr)\n",
    "    for s in range(len(arr)):\n",
    "        if arr[s] == 0:\n",
    "            destination[d] =0\n",
    "            d+=1\n",
    "            destination[d] =0\n",
    "        else:\n",
    "            destination[d] = arr[s]\n",
    "        d+=1\n",
    "    return destination\n",
    "\n",
    "arr = [1,0,2,3,0,4,5,0]\n",
    "function(arr)"
   ]
  },
  {
   "cell_type": "code",
   "execution_count": 10,
   "metadata": {},
   "outputs": [
    {
     "name": "stdout",
     "output_type": "stream",
     "text": [
      "{0: 0, 1: 2, 2: 5, 3: 6, 6: 1, 7: 4}\n"
     ]
    },
    {
     "data": {
      "text/plain": [
       "[[9, 0], [8, 1]]"
      ]
     },
     "execution_count": 10,
     "metadata": {},
     "output_type": "execute_result"
    }
   ],
   "source": [
    "def two_sum(arr,target):\n",
    "    dict1 = {}\n",
    "    result = []\n",
    "    for i, num in enumerate(arr):\n",
    "        rem = target-num\n",
    "        if rem in dict1:\n",
    "            result.append([num,rem])\n",
    "        else:\n",
    "            dict1[i] = num\n",
    "    print(dict1)\n",
    "    return result\n",
    "arr = [0,2,5,6,9,8,1,4]\n",
    "target = 9\n",
    "two_sum(arr,target)\n",
    "    \n",
    "        "
   ]
  },
  {
   "cell_type": "code",
   "execution_count": 42,
   "metadata": {},
   "outputs": [
    {
     "name": "stdout",
     "output_type": "stream",
     "text": [
      "3\n"
     ]
    },
    {
     "data": {
      "text/plain": [
       "[2, 3]"
      ]
     },
     "execution_count": 42,
     "metadata": {},
     "output_type": "execute_result"
    }
   ],
   "source": [
    "def function(A,B):\n",
    "    total = (sum(A)+sum(B))//2\n",
    "    print(total)\n",
    "    for i in A:\n",
    "        if total+i-sum(A) in set(B):\n",
    "            return [i,total+i-sum(A)]\n",
    "A = [2]\n",
    "B = [1,3]\n",
    "function(A,B)"
   ]
  },
  {
   "cell_type": "code",
   "execution_count": 60,
   "metadata": {},
   "outputs": [
    {
     "data": {
      "text/plain": [
       "5"
      ]
     },
     "execution_count": 60,
     "metadata": {},
     "output_type": "execute_result"
    }
   ],
   "source": [
    "#leetcode 961:\n",
    "def function(arr):\n",
    "    dict1 = {}\n",
    "    for i in arr:\n",
    "        if i in dict1:\n",
    "            dict1[i] +=1\n",
    "        else:\n",
    "            dict1[i] =1\n",
    "\n",
    "    for j in dict1:\n",
    "        if dict1[j] == len(arr)//2:\n",
    "            return j\n",
    "        \n",
    "arr = [5,1,5,2,5,3,5,4]\n",
    "function(arr)"
   ]
  },
  {
   "cell_type": "code",
   "execution_count": 50,
   "metadata": {},
   "outputs": [
    {
     "data": {
      "text/plain": [
       "5"
      ]
     },
     "execution_count": 50,
     "metadata": {},
     "output_type": "execute_result"
    }
   ],
   "source": [
    "# leetcode 485:\n",
    "def function(arr):\n",
    "    for i in range(1,len(arr)):\n",
    "        if arr[i] == 1:\n",
    "            arr[i] = arr[i-1] +1\n",
    "    return max(arr)\n",
    "arr = [1,1,0,1,1,1,1,0,0,0,1,1,1,1,1]\n",
    "function(arr)"
   ]
  },
  {
   "cell_type": "code",
   "execution_count": 61,
   "metadata": {},
   "outputs": [
    {
     "name": "stdout",
     "output_type": "stream",
     "text": [
      "[0, 1, 1, 0, 1, 1, 1, 1, 0, 1, 1, 0]\n"
     ]
    },
    {
     "data": {
      "text/plain": [
       "4"
      ]
     },
     "execution_count": 61,
     "metadata": {},
     "output_type": "execute_result"
    }
   ],
   "source": [
    "# leetcode 485:\n",
    "def function(arr):\n",
    "    arr.insert(0,0)\n",
    "    arr.append(0)\n",
    "    Max, start = 0,1\n",
    "    print(arr)\n",
    "    for i in range(1,len(arr)):\n",
    "        if arr[i] ==0:\n",
    "            if i-start >Max:\n",
    "                Max = i-start\n",
    "            start = i+1\n",
    "    return Max\n",
    "\n",
    "arr = [1,1,0,1,1,1,1,0,1,1]\n",
    "function(arr)\n",
    "        \n",
    "        \n",
    "        "
   ]
  },
  {
   "cell_type": "code",
   "execution_count": 20,
   "metadata": {},
   "outputs": [
    {
     "data": {
      "text/plain": [
       "1"
      ]
     },
     "execution_count": 20,
     "metadata": {},
     "output_type": "execute_result"
    }
   ],
   "source": [
    "#leetcode 697:\n",
    "def function(arr):\n",
    "    return max(set(arr), key = arr.count)\n",
    "\n",
    "arr = [1, 2, 2, 3, 1]\n",
    "function(arr)"
   ]
  },
  {
   "cell_type": "code",
   "execution_count": 8,
   "metadata": {},
   "outputs": [
    {
     "data": {
      "text/plain": [
       "[1, 2]"
      ]
     },
     "execution_count": 8,
     "metadata": {},
     "output_type": "execute_result"
    }
   ],
   "source": [
    "def most_freq(arr):\n",
    "    dict1 = {}\n",
    "    res = []\n",
    "    for i in arr:\n",
    "        if i in dict1:\n",
    "            dict1[i] +=1\n",
    "        else:\n",
    "            dict1[i] = 1\n",
    "    max_key = max(dict1, key = dict1.get)\n",
    "    max_value = max(dict1.values())\n",
    "    for key, value in dict1.items():\n",
    "        if dict1[key] == max_value:\n",
    "            res.append(key)\n",
    "    return res\n",
    "    \n",
    "most_freq([7,5,1,1,2,2,2,2,1,1,0,3])"
   ]
  },
  {
   "cell_type": "code",
   "execution_count": 22,
   "metadata": {},
   "outputs": [
    {
     "data": {
      "text/plain": [
       "6"
      ]
     },
     "execution_count": 22,
     "metadata": {},
     "output_type": "execute_result"
    }
   ],
   "source": [
    "#*****************************************************************************bit tricky*****************\n",
    "def function(arr):\n",
    "    dict1 ={}\n",
    "    degree = 0\n",
    "    first_seen ={}\n",
    "    min_length = 0\n",
    "    for i in range(len(arr)):\n",
    "        if arr[i] not in first_seen:\n",
    "            first_seen[arr[i]] = i\n",
    "        if arr[i] in dict1:\n",
    "            dict1[arr[i]] += 1\n",
    "        else:\n",
    "            dict1[arr[i]] = 1\n",
    "        if dict1[arr[i]]>degree:\n",
    "            degree = dict1[arr[i]]\n",
    "            min_length = i-first_seen[arr[i]] + 1\n",
    "        elif dict1[arr[i]] == degree:\n",
    "            min_length = min(min_length, i-first_seen[arr[i]]+1)\n",
    "            \n",
    "    return min_length\n",
    "        \n",
    "\n",
    "arr = [1, 2, 2, 3,1,1,5,7,9,2]\n",
    "function(arr)"
   ]
  },
  {
   "cell_type": "code",
   "execution_count": 93,
   "metadata": {},
   "outputs": [
    {
     "data": {
      "text/plain": [
       "5"
      ]
     },
     "execution_count": 93,
     "metadata": {},
     "output_type": "execute_result"
    }
   ],
   "source": [
    "#leetcode 581\n",
    "def find_unsorted(nums):\n",
    "    arr = sorted(nums)\n",
    "    if arr == nums:\n",
    "        return 0\n",
    "    else:\n",
    "        pt1, pt2 = 0, len(nums)-1\n",
    "        for i in range(len(arr)):\n",
    "            if nums[i]==arr[i]:\n",
    "                pt1 +=1\n",
    "            else:\n",
    "                break\n",
    "        for j in range(len(arr)-1,0,-1):\n",
    "            if nums[j] == arr[j]:\n",
    "                pt2-=1\n",
    "            else:\n",
    "                break\n",
    "    return pt2-pt1+1\n",
    "find_unsorted([2, 6, 4, 8, 10, 9, 15])"
   ]
  },
  {
   "cell_type": "code",
   "execution_count": 111,
   "metadata": {},
   "outputs": [
    {
     "name": "stdout",
     "output_type": "stream",
     "text": [
      "[0, 1, 2, 3]\n",
      "[0, 6, 5, 4]\n"
     ]
    },
    {
     "data": {
      "text/plain": [
       "3"
      ]
     },
     "execution_count": 111,
     "metadata": {},
     "output_type": "execute_result"
    }
   ],
   "source": [
    "# Leetcode:********************************************** 849\n",
    "\n",
    "def function(arr):\n",
    "    n = len(arr)\n",
    "    left, right = [n]*n, [n]*n\n",
    "    for i in range(n):\n",
    "        if arr[i] == 1:\n",
    "            left[i] =0\n",
    "        elif i>0:\n",
    "            left[i] = left[i-1] + 1\n",
    "    for i in range(n-1, -1,-1):\n",
    "        if arr[i] == 1:\n",
    "            right[i] =0\n",
    "        elif i<n-1:\n",
    "            right[i] = right[i+1] + 1\n",
    "    print(left)\n",
    "    print(right)\n",
    "    return max(min(left[i], right[i]) for i, seat in enumerate(arr) if not seat)\n",
    "    \n",
    "    return left\n",
    "function([1,0,0,0])"
   ]
  },
  {
   "cell_type": "code",
   "execution_count": 32,
   "metadata": {},
   "outputs": [
    {
     "data": {
      "text/plain": [
       "1"
      ]
     },
     "execution_count": 32,
     "metadata": {},
     "output_type": "execute_result"
    }
   ],
   "source": [
    "# leetcode 532: *****************************************************************************************************************\n",
    "def function(arr,k):\n",
    "    st = set()\n",
    "    count = 0\n",
    "    if k == 0:\n",
    "        seen = set()\n",
    "        for i in arr:\n",
    "            if i in st and i not in seen:\n",
    "                count+=1\n",
    "                seen.add(i)\n",
    "            st.add(i)\n",
    "        return count\n",
    "    elif k<0:\n",
    "        return 0\n",
    "    else:\n",
    "        for i in arr:\n",
    "            st.add(i)\n",
    "    \n",
    "        for i in st:\n",
    "            \n",
    "            if i+k in st:\n",
    "                count +=1\n",
    "            if i-k in st:\n",
    "                count += 1\n",
    "        return count // 2\n",
    "\n",
    "arr = [1,1,1,2,1]\n",
    "k = 1\n",
    "function(arr,k)"
   ]
  },
  {
   "cell_type": "code",
   "execution_count": 1,
   "metadata": {},
   "outputs": [
    {
     "name": "stdout",
     "output_type": "stream",
     "text": [
      "[3, 2, 4, 1]\n",
      "[4, 2, 3, 1]\n",
      "[1, 3, 2]\n",
      "[3, 1, 2]\n",
      "[2, 1]\n"
     ]
    },
    {
     "data": {
      "text/plain": [
       "[3, 4, 2, 3, 2]"
      ]
     },
     "execution_count": 1,
     "metadata": {},
     "output_type": "execute_result"
    }
   ],
   "source": [
    "# Leetcode 969:\n",
    "def reverse(nums):\n",
    "    return nums[::-1]\n",
    "def function(arr):\n",
    "    result = []\n",
    "    sort_arr = sorted(arr)\n",
    "    if not arr==sort_arr:\n",
    "        counter = 0\n",
    "        new_arr = arr\n",
    "        while counter<=len(arr) and len(new_arr)>1:\n",
    "            print(new_arr)\n",
    "            max_element = max(new_arr)\n",
    "            max_idx = new_arr.index(max_element)\n",
    "            \n",
    "            if max_idx == len(new_arr)-1:\n",
    "                new_arr.pop()\n",
    "                counter += 1\n",
    "            else:\n",
    "                if max_idx == 0:\n",
    "                    result.append(len(new_arr))\n",
    "                    new_arr = reverse(new_arr)\n",
    "                    new_arr.pop()\n",
    "                    counter +=1\n",
    "                else:\n",
    "                    result.append(max_idx+1)\n",
    "                    new_arr = reverse(new_arr[0:max_idx+1])+new_arr[max_idx+1:len(new_arr)]\n",
    "                    counter+=1\n",
    "              \n",
    "                    \n",
    "    return result\n",
    "function([3,2,4,1])"
   ]
  },
  {
   "cell_type": "code",
   "execution_count": 14,
   "metadata": {},
   "outputs": [
    {
     "data": {
      "text/plain": [
       "{0: 1, 1: 2, 2: 5, 3: 3, 4: 6}"
      ]
     },
     "execution_count": 14,
     "metadata": {},
     "output_type": "execute_result"
    }
   ],
   "source": [
    "def function(arr):\n",
    "    dict1 = {}\n",
    "    for num,i in enumerate(arr):\n",
    "        dict1[num] = i\n",
    "    return dict1\n",
    "def function2(arr):\n",
    "    pass\n",
    "\n",
    "\n",
    "arr = [1,2,5,3,6]\n",
    "function(arr)"
   ]
  },
  {
   "cell_type": "code",
   "execution_count": 38,
   "metadata": {},
   "outputs": [
    {
     "data": {
      "text/plain": [
       "([1, 5, 5, 1, 7], [3, 4, 2, 5])"
      ]
     },
     "execution_count": 38,
     "metadata": {},
     "output_type": "execute_result"
    }
   ],
   "source": [
    "def divide_arr_equal_sum(arr):\n",
    "    \n",
    "    left_sum = arr[0]\n",
    "    right_sum = arr[len(arr)-1]\n",
    "   \n",
    "    start, end = 1, len(arr)-2\n",
    "    while start<=end:\n",
    "        \n",
    "        if left_sum>right_sum:\n",
    "            right_sum+=arr[end]\n",
    "            end = end-1\n",
    "        elif left_sum<right_sum:\n",
    "            left_sum += arr[start]\n",
    "            start+=1\n",
    "        else:\n",
    "            start +=1\n",
    "            end -= 1\n",
    "    if left_sum==right_sum:\n",
    "        return arr[0:start], arr[start:]\n",
    "          \n",
    "   \n",
    "arr1 = [1,5,5,1,7,3,4,2,5]\n",
    "divide_arr_equal_sum(arr1)\n"
   ]
  },
  {
   "cell_type": "code",
   "execution_count": 49,
   "metadata": {},
   "outputs": [
    {
     "name": "stdout",
     "output_type": "stream",
     "text": [
      "1\n",
      "6\n"
     ]
    },
    {
     "data": {
      "text/plain": [
       "True"
      ]
     },
     "execution_count": 49,
     "metadata": {},
     "output_type": "execute_result"
    }
   ],
   "source": [
    "def canThreePartsEqualSum(A):\n",
    "    sum_ = sum(A) // 3\n",
    "    length = len(A)\n",
    "    idx1, idx2 = 0, 0\n",
    "        \n",
    "    count = 0\n",
    "    for i in range(length):\n",
    "        count += A[i]\n",
    "        if count == sum_:\n",
    "            idx1 = i\n",
    "            break\n",
    "    print(idx1)\n",
    "        \n",
    "    count = 0\n",
    "    for i in range(idx1+1, length):\n",
    "        count += A[i]\n",
    "        if count == sum_:\n",
    "            idx2 = i\n",
    "            break\n",
    "    print(count)\n",
    "    if idx1 >= idx2 or idx2 == length-1:\n",
    "        return False\n",
    "    return True\n",
    "\n",
    "arr = [3,3,6,5,-2,2,5,1,-9,4]\n",
    "canThreePartsEqualSum(arr)"
   ]
  },
  {
   "cell_type": "code",
   "execution_count": 57,
   "metadata": {},
   "outputs": [
    {
     "data": {
      "text/plain": [
       "2"
      ]
     },
     "execution_count": 57,
     "metadata": {},
     "output_type": "execute_result"
    }
   ],
   "source": [
    "def maxProfit(prices):\n",
    "    max_profit = 0\n",
    "    if len(prices)<=1:\n",
    "        return max_profit\n",
    "    else:\n",
    "        count = 0\n",
    "        profit = 0\n",
    "        for i in range(1, len(prices)):\n",
    "            if count<=2 and (prices[i]-prices[i-1]>0):\n",
    "                max_profit += max(max_profit, prices[i]-prices[i-1])\n",
    "            count +=1\n",
    "    return max_profit\n",
    "\n",
    "arr = [3,3,5,0,0,3,1,4]\n",
    "maxProfit(arr)"
   ]
  },
  {
   "cell_type": "code",
   "execution_count": 86,
   "metadata": {},
   "outputs": [
    {
     "name": "stdout",
     "output_type": "stream",
     "text": [
      "['alice', 'is', 'a', 'good', 'girl', 'she', 'is', 'a', 'good', 'student']\n",
      "{'alice is': 'alice is', 'girl she is': 'girl she is', 'student': 'student'}\n"
     ]
    }
   ],
   "source": [
    "a = \"alice is a good girl she is a good student\"\n",
    "print(a.split(' '))\n",
    "dict1=dict()\n",
    "for word in a.split(' a'+' '+'good '):\n",
    "    if word in dict1:\n",
    "        dict1[word] = list(a.split(' '))[list(a.split(' ')).index(word)+1]\n",
    "    else:\n",
    "        dict1[word] = word\n",
    "print(dict1)"
   ]
  },
  {
   "cell_type": "code",
   "execution_count": 141,
   "metadata": {},
   "outputs": [
    {
     "data": {
      "text/plain": [
       "True"
      ]
     },
     "execution_count": 141,
     "metadata": {},
     "output_type": "execute_result"
    }
   ],
   "source": [
    "# leetcode 219\n",
    "def function(arr,k):\n",
    "    dict1 = {}\n",
    "    for i in range(len(arr)):\n",
    "        if arr[i] in dict1:\n",
    "            if abs(i-dict1[arr[i]]) <= k:\n",
    "                return True\n",
    "            dict1[i] = i\n",
    "        else:\n",
    "            dict1[i] = i\n",
    "    return False\n",
    "    \n",
    "arr = [1,0,1,1]\n",
    "k = 1\n",
    "function(arr,k)"
   ]
  },
  {
   "cell_type": "code",
   "execution_count": 159,
   "metadata": {},
   "outputs": [
    {
     "data": {
      "text/plain": [
       "True"
      ]
     },
     "execution_count": 159,
     "metadata": {},
     "output_type": "execute_result"
    }
   ],
   "source": [
    "def function(s,t):\n",
    "    if len(s) != len(t):\n",
    "        return False\n",
    "    else:\n",
    "        dict1 = {}\n",
    "        for i in s:\n",
    "            if i in dict1:\n",
    "                dict1[i] += 1\n",
    "            else:\n",
    "                dict1[i] = 1\n",
    "        for i in t:\n",
    "            if i not in dict1:\n",
    "                return False\n",
    "            else:\n",
    "                pass\n",
    "        for j in t:\n",
    "            if j in dict1:\n",
    "                dict1[j] -= 1\n",
    "            else:\n",
    "                return False\n",
    "        flag = True\n",
    "        for item in dict1:\n",
    "            if dict1[item] == 0:\n",
    "                flag = True\n",
    "            else:\n",
    "                flag = False\n",
    "        return flag\n",
    "s = \"anagram\"\n",
    "t = \"nagaaam\"\n",
    "function(s,t)\n",
    "            "
   ]
  },
  {
   "cell_type": "code",
   "execution_count": 179,
   "metadata": {},
   "outputs": [
    {
     "data": {
      "text/plain": [
       "True"
      ]
     },
     "execution_count": 179,
     "metadata": {},
     "output_type": "execute_result"
    }
   ],
   "source": [
    "def ANAGRAM(s,t):\n",
    "    str1 = sorted(list(s))\n",
    "    str2 = sorted(list(t))\n",
    "    return str1==str2\n",
    "\n",
    "s = \"anagram\"\n",
    "t = \"nagaram\"\n",
    "ANAGRAM(s,t) \n",
    "    \n",
    "    "
   ]
  },
  {
   "cell_type": "code",
   "execution_count": 35,
   "metadata": {},
   "outputs": [],
   "source": [
    "# leetcode 994:\n",
    "def function(matrix):\n",
    "    pass\n",
    "    "
   ]
  },
  {
   "cell_type": "code",
   "execution_count": 13,
   "metadata": {},
   "outputs": [
    {
     "data": {
      "text/plain": [
       "['asdfghjkl', 'qwertyuiop', 'zxcvbnm']"
      ]
     },
     "execution_count": 13,
     "metadata": {},
     "output_type": "execute_result"
    }
   ],
   "source": [
    "# leetcode 500:\n",
    "def function1(words):\n",
    "    result = []\n",
    "    rows = [['q','w','e','r','t','y','u','i','o','p'], ['a','s','d','f','g','h','j','k','l'],['z','x','c','v','b','n','m']]\n",
    "    for word in words:\n",
    "        row = -1\n",
    "        first_char = word[0].lower()\n",
    "        if first_char in rows[0]:\n",
    "            row = 0\n",
    "        if first_char in rows[1]:\n",
    "            row = 1\n",
    "        if first_char in rows[2]:\n",
    "            row = 2\n",
    "        isSingleRow = True\n",
    "        for char in word:\n",
    "            if char.lower() not in rows[row]:\n",
    "                isSingleRow = False\n",
    "                break\n",
    "            isSingleRow = True\n",
    "        if isSingleRow:\n",
    "            result.append(word)\n",
    "    return result\n",
    "\n",
    "def function2(words):\n",
    "    result = []\n",
    "    rows = {\n",
    "        \"0\":set([\"q\",\"w\",\"e\",\"r\",\"t\",\"y\",\"u\",\"i\",\"o\",\"p\",\"Q\",\"W\",\"R\",\"T\",\"Y\",\"U\",\"I\",\"O\",\"P\"]),\n",
    "        \"1\":set([\"A\",\"S\",\"D\",\"F\",\"G\",\"H\",\"J\",\"K\",\"L\",\"a\",\"s\",\"d\",\"f\",\"g\",\"h\",\"j\",\"k\",\"l\"]),\n",
    "        \"2\":set([\"z\",\"Z\",\"c\",\"C\",\"v\",\"V\",\"b\",\"B\",\"n\",\"N\",\"m\",\"M\"])\n",
    "    }\n",
    "    \n",
    "    for word in words:\n",
    "        set1 = set(word)\n",
    "        for i in rows:\n",
    "            if len(list(set1.difference(rows[i]))) ==0:\n",
    "                result.append(word)\n",
    "    return result\n",
    "\n",
    "\n",
    "\n",
    "words = [\"Hello\", \"Alaska\", \"Dad\", \"Peace\"]\n",
    "function2(words)\n",
    "\n",
    "    \n",
    "    "
   ]
  },
  {
   "cell_type": "code",
   "execution_count": 14,
   "metadata": {},
   "outputs": [
    {
     "data": {
      "text/plain": [
       "['asdfghjkl', 'qwertyuiop', 'zxcvbnm']"
      ]
     },
     "execution_count": 14,
     "metadata": {},
     "output_type": "execute_result"
    }
   ],
   "source": [
    "# leetcode 500\n",
    "def function(words):\n",
    "    rows = [[\"q\",\"w\",\"e\",\"r\",\"t\",\"y\",\"u\",\"i\",\"o\",\"p\",\"Q\",\"W\",\"R\",\"T\",\"Y\",\"U\",\"I\",\"O\",\"P\"],\n",
    "            [\"A\",\"S\",\"D\",\"F\",\"G\",\"H\",\"J\",\"K\",\"L\",\"a\",\"s\",\"d\",\"f\",\"g\",\"h\",\"j\",\"k\",\"l\"],\n",
    "            [\"z\",\"Z\",\"c\",\"C\",\"v\",\"V\",\"b\",\"B\",\"n\",\"N\",\"m\",\"M\"]]\n",
    "    for word in words:\n",
    "        for x in rows:\n",
    "            if word[0] in x:\n",
    "                row = rows.index(x)\n",
    "                break\n",
    "        flag = True\n",
    "        for char in word:\n",
    "            if char not in rows[row]:\n",
    "                flag = False\n",
    "                break\n",
    "            flag = True\n",
    "        if flag:\n",
    "            result.append(word)\n",
    "    return result\n",
    "                    \n",
    "x = [\"asdfghjkl\",\"qwertyuiop\",\"zxcvbnm\"]\n",
    "function1(x)\n",
    "            "
   ]
  },
  {
   "cell_type": "code",
   "execution_count": 27,
   "metadata": {},
   "outputs": [],
   "source": [
    "# leetcode 884:\n",
    "def function(text1, text2):\n",
    "    A =list(A.split(' ')) + list(B.split(' '))\n",
    "    dict1 = {}\n",
    "    res = []\n",
    "    for i in A:\n",
    "        if i in dict1:\n",
    "            dict1[i] -= 1\n",
    "        else:\n",
    "            dict1[i] = 1\n",
    "    for i in dict1:\n",
    "        if dict1[i] == 1:\n",
    "            res.append(i)\n",
    "    return res\n"
   ]
  },
  {
   "cell_type": "code",
   "execution_count": 68,
   "metadata": {},
   "outputs": [
    {
     "name": "stdout",
     "output_type": "stream",
     "text": [
      "[1, 1, 2, 2, 3, 3]\n",
      "[1, 1, 2] [2, 3, 3]\n"
     ]
    },
    {
     "data": {
      "text/plain": [
       "3"
      ]
     },
     "execution_count": 68,
     "metadata": {},
     "output_type": "execute_result"
    }
   ],
   "source": [
    "# leetcode 884:\n",
    "def function(candies):\n",
    "    n = len(candies)\n",
    "    brother, sister = candies[0:n//2], candies[(n//2):]\n",
    "\n",
    "    return min(len(set(candies)), len(sister))\n",
    "    \n",
    "    \n",
    "    \n",
    "candies = [1,1,2,3,2,3]\n",
    "function(candies)"
   ]
  },
  {
   "cell_type": "code",
   "execution_count": 71,
   "metadata": {},
   "outputs": [
    {
     "ename": "IndentationError",
     "evalue": "expected an indented block (<ipython-input-71-b86122d14bed>, line 8)",
     "output_type": "error",
     "traceback": [
      "\u001b[1;36m  File \u001b[1;32m\"<ipython-input-71-b86122d14bed>\"\u001b[1;36m, line \u001b[1;32m8\u001b[0m\n\u001b[1;33m    def unit_distance((x,y),(a,b)):\u001b[0m\n\u001b[1;37m                                   ^\u001b[0m\n\u001b[1;31mIndentationError\u001b[0m\u001b[1;31m:\u001b[0m expected an indented block\n"
     ]
    }
   ],
   "source": [
    "# leetcode:463*****************************************************************************************************\n",
    "def function(matrix):\n",
    "    for row in range(1, len(matrix)):\n",
    "        for col in matrix[row]:\n",
    "            if matrix[row][col] == 1:\n",
    "                \n",
    "        \n",
    "def unit_distance((x,y),(a,b)):\n",
    "    return abs(x-a) + abs(y-b)\n",
    "\n",
    "    "
   ]
  },
  {
   "cell_type": "code",
   "execution_count": 115,
   "metadata": {},
   "outputs": [
    {
     "name": "stdout",
     "output_type": "stream",
     "text": [
      "{'k': 12, 'r': 25, 'h': 19, 'i': 29, 'z': 17, 'm': 26, 'g': 25, 'c': 23, 'e': 20, 'y': 14, 'l': 21, 'j': 23, 'q': 17, 'd': 16, 'o': 21, 't': 20, 'p': 24, 'w': 17, 'b': 15, 'v': 18, 'u': 20, 'n': 15, 'a': 20, 'f': 16, 'x': 13, 's': 14}\n",
      "['b', 'a', 'l', 'l', 'o', 'o', 'n']\n",
      "15\n",
      "15\n",
      "10\n",
      "10\n",
      "10\n",
      "10\n",
      "10\n"
     ]
    },
    {
     "data": {
      "text/plain": [
       "10"
      ]
     },
     "execution_count": 115,
     "metadata": {},
     "output_type": "execute_result"
    }
   ],
   "source": [
    "# leetcode 1189:\n",
    "def function(text):\n",
    "    dict1 = {}\n",
    "    for i in text:\n",
    "        if i in dict1:\n",
    "            dict1[i] += 1\n",
    "        else:\n",
    "            dict1[i] = 1\n",
    "    print(dict1)\n",
    "    word =list(\"balloon\")\n",
    "    print(word)\n",
    "    if word[0] in dict1:\n",
    "        count = int(dict1[word[0]]/word.count(word[0]))\n",
    "    else:\n",
    "        return 0\n",
    "    print(count)\n",
    "    for i in word[1:]:\n",
    "        if i in dict1:\n",
    "            count = min(count, int(dict1[i]/word.count(i)))\n",
    "            print(count)\n",
    "        else:\n",
    "            return 0\n",
    "        \n",
    "    return count\n",
    "\n",
    "text = \"krhizmmgmcrecekgyljqkldocicziihtgpqwbticmvuyznragqoyrukzopfmjhjjxemsxmrsxuqmnkrzhgvtgdgtykhcglurvppvcwhrhrjoislonvvglhdciilduvuiebmffaagxerjeewmtcwmhmtwlxtvlbocczlrppmpjbpnifqtlninyzjtmazxdbzwxthpvrfulvrspycqcghuopjirzoeuqhetnbrcdakilzmklxwudxxhwilasbjjhhfgghogqoofsufysmcqeilaivtmfziumjloewbkjvaahsaaggteppqyuoylgpbdwqubaalfwcqrjeycjbbpifjbpigjdnnswocusuprydgrtxuaojeriigwumlovafxnpibjopjfqzrwemoinmptxddgcszmfprdrichjeqcvikynzigleaajcysusqasqadjemgnyvmzmbcfrttrzonwafrnedglhpudovigwvpimttiketopkvqw\"\n",
    "function(text)"
   ]
  },
  {
   "cell_type": "code",
   "execution_count": 4,
   "metadata": {},
   "outputs": [
    {
     "data": {
      "text/plain": [
       "[1, 2, 3, 0]"
      ]
     },
     "execution_count": 4,
     "metadata": {},
     "output_type": "execute_result"
    }
   ],
   "source": [
    "# leetcode 1103:\n",
    "def function(cand, ppl):\n",
    "    res = [0]*ppl\n",
    "    i = 0\n",
    "    loops = 0\n",
    "    while cand>0:\n",
    "        if i==ppl:\n",
    "            i = 0\n",
    "            loops +=1\n",
    "        \n",
    "        current_cand = (loops*ppl)+(i+1)\n",
    "        if cand - current_cand < 0:\n",
    "            res[i] += cand\n",
    "        else:\n",
    "            res[i] += current_cand\n",
    "        i+=1\n",
    "        cand -= current_cand\n",
    "\n",
    "    return res\n",
    "    \n",
    "function(6,4)\n",
    "        "
   ]
  },
  {
   "cell_type": "code",
   "execution_count": 71,
   "metadata": {},
   "outputs": [
    {
     "data": {
      "text/plain": [
       "[1, 2, 3, 4, 5, 6, 7, 8, 9, 11, 12, 15, 21, 22]"
      ]
     },
     "execution_count": 71,
     "metadata": {},
     "output_type": "execute_result"
    }
   ],
   "source": [
    "# leetcode 728\n",
    "def check_self_dividing_num(num):\n",
    "    for i in str(num):\n",
    "        flag = True\n",
    "        if int(i)==0:\n",
    "            flag = False\n",
    "            break\n",
    "        else:\n",
    "            if num%int(i) == 0:\n",
    "                flag = True\n",
    "            else:\n",
    "                flag = False\n",
    "    if flag:\n",
    "        return True\n",
    "    return False\n",
    "def function(start, end):\n",
    "    result = []\n",
    "    for i in range(start, end+1):\n",
    "        if len(str(i)) == 1:\n",
    "            result.append(i)\n",
    "        else:\n",
    "            if check_self_dividing_num(i) == True:\n",
    "                result.append(i)\n",
    "    return result\n",
    "\n",
    "function(1,22)"
   ]
  },
  {
   "cell_type": "code",
   "execution_count": 49,
   "metadata": {},
   "outputs": [
    {
     "data": {
      "text/plain": [
       "True"
      ]
     },
     "execution_count": 49,
     "metadata": {},
     "output_type": "execute_result"
    }
   ],
   "source": [
    "# leetcode 507:\n",
    "import math\n",
    "def function1(num):\n",
    "    i = 1\n",
    "    div = []\n",
    "    total = 0\n",
    "    while i<n:\n",
    "        if (n%i) ==0:\n",
    "            div.append(i)\n",
    "        i = i+1\n",
    "    for i in div:\n",
    "        total += i\n",
    "    if total == n:\n",
    "        return True\n",
    "    return False\n",
    "def function2(n):\n",
    "    i = 1\n",
    "    div =[]\n",
    "    while i <= math.sqrt(n):\n",
    "        if (n%i) == 0:\n",
    "            if n/i == i:\n",
    "                div.append(int(i))\n",
    "            else:\n",
    "                div.append(int(i))\n",
    "                div.append(int(n/i))\n",
    "        i += 1\n",
    "    total = 0\n",
    "    for i in div:\n",
    "        if i != n:\n",
    "            total += i\n",
    "    if total == n:\n",
    "        return True\n",
    "    return False\n",
    "function2(28)"
   ]
  },
  {
   "cell_type": "code",
   "execution_count": 57,
   "metadata": {},
   "outputs": [
    {
     "data": {
      "text/plain": [
       "[[1],\n",
       " [1, 1],\n",
       " [1, 2, 1],\n",
       " [1, 3, 3, 1],\n",
       " [1, 4, 6, 4, 1],\n",
       " [1, 5, 10, 10, 5, 1],\n",
       " [1, 6, 15, 20, 15, 6, 1],\n",
       " [1, 7, 21, 35, 35, 21, 7, 1],\n",
       " [1, 8, 28, 56, 70, 56, 28, 8, 1],\n",
       " [1, 9, 36, 84, 126, 126, 84, 36, 9, 1]]"
      ]
     },
     "execution_count": 57,
     "metadata": {},
     "output_type": "execute_result"
    }
   ],
   "source": [
    "# leetcode 118:\n",
    "def pascal_triangle(n):\n",
    "    List = []\n",
    "    if n==0:\n",
    "        return List\n",
    "    list2 = []\n",
    "    list2.append(1)\n",
    "    List.append(list2)\n",
    "    for i in range(1,n):\n",
    "        previous = List[i-1]\n",
    "        current = []\n",
    "        current.append(1)\n",
    "        for j in range(1,i):\n",
    "            current.append(previous[j-1]+previous[j])\n",
    "        current.append(1)\n",
    "        List.append(current)    \n",
    "    return List\n",
    "        \n",
    "pascal_triangle(10)  "
   ]
  },
  {
   "cell_type": "code",
   "execution_count": 71,
   "metadata": {},
   "outputs": [
    {
     "data": {
      "text/plain": [
       "[1, 4, 6, 4, 1]"
      ]
     },
     "execution_count": 71,
     "metadata": {},
     "output_type": "execute_result"
    }
   ],
   "source": [
    "def function(row):\n",
    "    if row == 0:\n",
    "        return [1]\n",
    "    previous = function(row-1)\n",
    "    current = []\n",
    "    for i in range(len(previous)-1):\n",
    "        current.append(previous[i] + previous[1+i])\n",
    "    return [1]+current+[1]\n",
    "function(4)"
   ]
  },
  {
   "cell_type": "code",
   "execution_count": 72,
   "metadata": {},
   "outputs": [
    {
     "data": {
      "text/plain": [
       "'\"def getRow(rowIndex):\\n    if(rowIndex == 0):\\n        cache[rowIndex] = [1]\\n        return [1]\\n    cache = {}\\n    if(rowIndex in cache):\\n        return cache[rowIndex]\\n    else:\\n        prev_row = rowIndex-1\\n        cache[rowIndex] = [1] + [prev_row[i] + prev_row[i+1] for i in range(prev_row-1)] + [1]\\n        rowIndex -=1\\n    print(cache)\\n    return [1] + [prev_row[i] + prev_row[i+1] for i in range(prev_row-1)] + [1]\\n\\ngetRow(7)'"
      ]
     },
     "execution_count": 72,
     "metadata": {},
     "output_type": "execute_result"
    }
   ],
   "source": [
    "\"\"\"\"def getRow(rowIndex):\n",
    "    if(rowIndex == 0):\n",
    "        cache[rowIndex] = [1]\n",
    "        return [1]\n",
    "    cache = {}\n",
    "    if(rowIndex in cache):\n",
    "        return cache[rowIndex]\n",
    "    else:\n",
    "        prev_row = rowIndex-1\n",
    "        cache[rowIndex] = [1] + [prev_row[i] + prev_row[i+1] for i in range(prev_row-1)] + [1]\n",
    "        rowIndex -=1\n",
    "    print(cache)\n",
    "    return [1] + [prev_row[i] + prev_row[i+1] for i in range(prev_row-1)] + [1]\n",
    "\n",
    "getRow(7)\"\"\""
   ]
  },
  {
   "cell_type": "code",
   "execution_count": 11,
   "metadata": {},
   "outputs": [
    {
     "data": {
      "text/plain": [
       "3"
      ]
     },
     "execution_count": 11,
     "metadata": {},
     "output_type": "execute_result"
    }
   ],
   "source": [
    "# leetcode 1010:\n",
    "def function(arr):\n",
    "    res = []\n",
    "    for i in range(len(arr)):\n",
    "        for rem in arr[i:]:\n",
    "            if (rem+arr[i])%60 == 0 and i!= arr.index(rem):\n",
    "                res.append((arr[i], rem))\n",
    "    return len(res)\n",
    "\n",
    "function([30,20,150,100,40,120])"
   ]
  },
  {
   "cell_type": "code",
   "execution_count": 65,
   "metadata": {},
   "outputs": [
    {
     "name": "stdout",
     "output_type": "stream",
     "text": [
      "30\n",
      "30\n",
      "0\n",
      "[0, 0, 0, 0, 0, 0, 0, 0, 0, 0, 0, 0, 0, 0, 0, 0, 0, 0, 0, 0, 0, 0, 0, 0, 0, 0, 0, 0, 0, 0, 1, 0, 0, 0, 0, 0, 0, 0, 0, 0, 0, 0, 0, 0, 0, 0, 0, 0, 0, 0, 0, 0, 0, 0, 0, 0, 0, 0, 0, 0]\n",
      "20\n",
      "40\n",
      "0\n",
      "[0, 0, 0, 0, 0, 0, 0, 0, 0, 0, 0, 0, 0, 0, 0, 0, 0, 0, 0, 0, 1, 0, 0, 0, 0, 0, 0, 0, 0, 0, 1, 0, 0, 0, 0, 0, 0, 0, 0, 0, 0, 0, 0, 0, 0, 0, 0, 0, 0, 0, 0, 0, 0, 0, 0, 0, 0, 0, 0, 0]\n",
      "30\n",
      "30\n",
      "1\n",
      "[0, 0, 0, 0, 0, 0, 0, 0, 0, 0, 0, 0, 0, 0, 0, 0, 0, 0, 0, 0, 1, 0, 0, 0, 0, 0, 0, 0, 0, 0, 2, 0, 0, 0, 0, 0, 0, 0, 0, 0, 0, 0, 0, 0, 0, 0, 0, 0, 0, 0, 0, 0, 0, 0, 0, 0, 0, 0, 0, 0]\n",
      "40\n",
      "20\n",
      "2\n",
      "[0, 0, 0, 0, 0, 0, 0, 0, 0, 0, 0, 0, 0, 0, 0, 0, 0, 0, 0, 0, 1, 0, 0, 0, 0, 0, 0, 0, 0, 0, 2, 0, 0, 0, 0, 0, 0, 0, 0, 0, 1, 0, 0, 0, 0, 0, 0, 0, 0, 0, 0, 0, 0, 0, 0, 0, 0, 0, 0, 0]\n",
      "40\n",
      "20\n",
      "3\n",
      "[0, 0, 0, 0, 0, 0, 0, 0, 0, 0, 0, 0, 0, 0, 0, 0, 0, 0, 0, 0, 1, 0, 0, 0, 0, 0, 0, 0, 0, 0, 2, 0, 0, 0, 0, 0, 0, 0, 0, 0, 2, 0, 0, 0, 0, 0, 0, 0, 0, 0, 0, 0, 0, 0, 0, 0, 0, 0, 0, 0]\n"
     ]
    },
    {
     "data": {
      "text/plain": [
       "3"
      ]
     },
     "execution_count": 65,
     "metadata": {},
     "output_type": "execute_result"
    }
   ],
   "source": [
    "def function(arr):\n",
    "    count_arr = [0]*60\n",
    "    res = 0\n",
    "    for i in arr:\n",
    "        rem = i%60\n",
    "        print(rem)\n",
    "        compl = (60-rem)%60\n",
    "        print(compl)\n",
    "        res += count_arr[compl]\n",
    "        print(res)\n",
    "        count_arr[rem]  += 1\n",
    "        print(count_arr)\n",
    "        \n",
    "    return res\n",
    "function([30,20,150,100,40])"
   ]
  },
  {
   "cell_type": "code",
   "execution_count": 1,
   "metadata": {},
   "outputs": [
    {
     "name": "stdout",
     "output_type": "stream",
     "text": [
      "30\n",
      "30\n",
      "{30: 1}\n",
      "0\n",
      "40\n",
      "20\n",
      "{30: 1, 40: 1}\n",
      "0\n",
      "20\n",
      "40\n",
      "{30: 1, 40: 1, 20: 1}\n",
      "1\n",
      "30\n",
      "30\n",
      "{30: 2, 40: 1, 20: 1}\n",
      "2\n",
      "40\n",
      "20\n",
      "{30: 2, 40: 2, 20: 1}\n",
      "3\n"
     ]
    },
    {
     "data": {
      "text/plain": [
       "3"
      ]
     },
     "execution_count": 1,
     "metadata": {},
     "output_type": "execute_result"
    }
   ],
   "source": [
    "def function(arr):\n",
    "    dict1 = {}\n",
    "    res = 0\n",
    "    for i in arr:\n",
    "        rem = i%60\n",
    "        print(rem)\n",
    "        compl = (60-rem)%60\n",
    "        print(compl)\n",
    "        if compl in dict1:\n",
    "            res+=dict1[compl]\n",
    "        if rem in dict1:\n",
    "            dict1[rem] += 1\n",
    "        else:\n",
    "            dict1[rem] = 1\n",
    "        print(dict1)\n",
    "        print(res)\n",
    "    return res\n",
    "function([30,40,20,150,100])"
   ]
  },
  {
   "cell_type": "code",
   "execution_count": 20,
   "metadata": {},
   "outputs": [
    {
     "name": "stdout",
     "output_type": "stream",
     "text": [
      "2\n",
      "4\n",
      "6\n",
      "7\n"
     ]
    },
    {
     "data": {
      "text/plain": [
       "True"
      ]
     },
     "execution_count": 20,
     "metadata": {},
     "output_type": "execute_result"
    }
   ],
   "source": [
    "def function(bits):\n",
    "    i  =0\n",
    "    while i<len(bits)-1:\n",
    "        i += bits[i] + 1\n",
    "        print(i)\n",
    "    return i == len(bits)-1\n",
    "\n",
    "bits = [1,0,1,1,1,0,0,0]\n",
    "function(bits)"
   ]
  },
  {
   "cell_type": "code",
   "execution_count": 160,
   "metadata": {},
   "outputs": [
    {
     "data": {
      "text/plain": [
       "[1.0, 1.5, 1.3333333333333333, 1.25, 1.0]"
      ]
     },
     "execution_count": 160,
     "metadata": {},
     "output_type": "execute_result"
    }
   ],
   "source": [
    "def function(coordinates):\n",
    "    Start = coordinates[0]\n",
    "    Else =coordinates[1:]\n",
    "    final = []\n",
    "    for i in range(len(Else)):\n",
    "        if (Start[0]-Else[i][0]) == 0:\n",
    "            return False\n",
    "        else:\n",
    "            final.append((Start[1]-Else[i][1])/(Start[0]-Else[i][0]))\n",
    "    return final\n",
    "    #return len(set(final))==1\n",
    "\n",
    "x = [[1,1],[2,2],[3,4],[4,5],[5,6],[7,7]]\n",
    "function(x)"
   ]
  },
  {
   "cell_type": "code",
   "execution_count": 31,
   "metadata": {},
   "outputs": [
    {
     "data": {
      "text/plain": [
       "2"
      ]
     },
     "execution_count": 31,
     "metadata": {},
     "output_type": "execute_result"
    }
   ],
   "source": [
    "def gcd(x,y):\n",
    "    while(y):\n",
    "        x,y = y,x%y\n",
    "    return x\n",
    "gcd(2,4)\n",
    "\n",
    "def function(arr):\n",
    "    result = arr[0]\n",
    "    for i in range(1,len(arr)):\n",
    "        result = gcd(result, arr[i])\n",
    "    return result\n",
    "\n",
    "arr = [2,4,6,8,28,54,10000,14]\n",
    "function(arr)"
   ]
  },
  {
   "cell_type": "code",
   "execution_count": 40,
   "metadata": {},
   "outputs": [
    {
     "data": {
      "text/plain": [
       "False"
      ]
     },
     "execution_count": 40,
     "metadata": {},
     "output_type": "execute_result"
    }
   ],
   "source": [
    "def function(deck):\n",
    "    arr = []\n",
    "    for i in deck:\n",
    "        arr.append(deck.count(i))\n",
    "    arr1 = list(set(arr))\n",
    "    if len(arr1)>1:\n",
    "        res = arr1[0]\n",
    "        for i in range(1, len(arr1)):\n",
    "            res = GCD(res, arr[i])\n",
    "        if res >=2:\n",
    "            return True\n",
    "        return False\n",
    "    elif len(arr1) ==1 and arr1[0] >=2:\n",
    "        return True\n",
    "    else:\n",
    "        return False\n",
    "        \n",
    "def GCD(x,y):\n",
    "    while y:\n",
    "        x,y = y, x%y\n",
    "    return x\n",
    "function([1,2,2,1,2])"
   ]
  },
  {
   "cell_type": "code",
   "execution_count": 47,
   "metadata": {},
   "outputs": [
    {
     "data": {
      "text/plain": [
       "55"
      ]
     },
     "execution_count": 47,
     "metadata": {},
     "output_type": "execute_result"
    }
   ],
   "source": [
    "# Kadane's Algorithm fior maximum subarray problem:\n",
    "def function(arr):\n",
    "    current_max, global_max = arr[0], arr[0]\n",
    "    for i in range(1,len(arr)):\n",
    "        current_max = max(arr[i], current_max+arr[i])\n",
    "        if global_max < current_max:\n",
    "            global_max = current_max\n",
    "    return global_max\n",
    "\n",
    "function([1,12,-5,-6,50,3])"
   ]
  },
  {
   "cell_type": "code",
   "execution_count": 50,
   "metadata": {},
   "outputs": [
    {
     "ename": "SyntaxError",
     "evalue": "invalid syntax (<ipython-input-50-4588cd756c92>, line 3)",
     "output_type": "error",
     "traceback": [
      "\u001b[1;36m  File \u001b[1;32m\"<ipython-input-50-4588cd756c92>\"\u001b[1;36m, line \u001b[1;32m3\u001b[0m\n\u001b[1;33m    https://www.geeksforgeeks.org/sliding-window-maximum-maximum-of-all-subarrays-of-size-k/\u001b[0m\n\u001b[1;37m           ^\u001b[0m\n\u001b[1;31mSyntaxError\u001b[0m\u001b[1;31m:\u001b[0m invalid syntax\n"
     ]
    }
   ],
   "source": [
    "# Sliding window technique: \n",
    "def function(arr):\n",
    "    https://www.geeksforgeeks.org/sliding-window-maximum-maximum-of-all-subarrays-of-size-k/\n",
    "    pass"
   ]
  },
  {
   "cell_type": "code",
   "execution_count": 120,
   "metadata": {},
   "outputs": [
    {
     "data": {
      "text/plain": [
       "-1"
      ]
     },
     "execution_count": 120,
     "metadata": {},
     "output_type": "execute_result"
    }
   ],
   "source": [
    "# maximum subarray with K elements in the array python -----> BruteForce Approach\n",
    "#leetcode: 643 \n",
    "import math\n",
    "def BruteForce(arr,k):\n",
    "    max_sum = -math.inf\n",
    "    print(max_sum)\n",
    "    for i in range(len(arr)+1-k):\n",
    "        window_sum = 0\n",
    "        for j in range(i, i+k):\n",
    "            window_sum += arr[j]\n",
    "        print(window_sum)\n",
    "        max_sum = max(max_sum, window_sum)\n",
    "    return max_sum\n",
    "\n",
    "def optimize_function(arr,k):\n",
    "    window_sum = 0\n",
    "    for i in range(k):\n",
    "        window_sum += arr[i]\n",
    "    max_sum = window_sum\n",
    "    for j in range(k,len(arr)):\n",
    "        window_sum += arr[j] - arr[j-k]\n",
    "        max_sum = max(max_sum, window_sum)\n",
    "    return max_sum\n",
    "\n",
    "arr = [-1]\n",
    "k = 1\n",
    "optimize_function(arr,k)\n",
    "    "
   ]
  },
  {
   "cell_type": "code",
   "execution_count": 4,
   "metadata": {},
   "outputs": [
    {
     "data": {
      "text/plain": [
       "[5, 6]"
      ]
     },
     "execution_count": 4,
     "metadata": {},
     "output_type": "execute_result"
    }
   ],
   "source": [
    "#twoSum\n",
    "def function(arr, target):\n",
    "    dict1 = {}\n",
    "    for i, num in enumerate(arr):\n",
    "        rem = target - num\n",
    "        if rem in dict1:\n",
    "            return [dict1[rem],i]\n",
    "        else:\n",
    "            dict1[num] = i\n",
    "    return 0\n",
    "    \n",
    "    \n",
    "arr = [1,2, 11, 15, 6,9, 0,100,120]\n",
    "target = 9\n",
    "function(arr, target)"
   ]
  },
  {
   "cell_type": "code",
   "execution_count": 8,
   "metadata": {},
   "outputs": [
    {
     "data": {
      "text/plain": [
       "[15, 6]"
      ]
     },
     "execution_count": 8,
     "metadata": {},
     "output_type": "execute_result"
    }
   ],
   "source": [
    "def function(arr, target):\n",
    "    start = 0\n",
    "    end = len(arr)-1\n",
    "    res = []\n",
    "    while start<end:\n",
    "        \n",
    "        \n",
    "arr = [-1,2, 11, 15, 6,9,100,120]\n",
    "target = 9\n",
    "function(arr, target)"
   ]
  },
  {
   "cell_type": "code",
   "execution_count": 25,
   "metadata": {},
   "outputs": [
    {
     "data": {
      "text/plain": [
       "[2, 100]"
      ]
     },
     "execution_count": 25,
     "metadata": {},
     "output_type": "execute_result"
    }
   ],
   "source": [
    "# leetcode 167:\n",
    "def function(arr, target):\n",
    "    start = 0\n",
    "    end = len(arr)-1\n",
    "    while start<end:\n",
    "        if (arr[start]+arr[end])>target:\n",
    "            end-=1\n",
    "        elif (arr[start]+arr[end])<target:\n",
    "            start += 1\n",
    "        else:\n",
    "            return [arr[start], arr[end]]\n",
    "    return []\n",
    "\n",
    "arr = [-1,2, 10, 15, 6,9,100,120]\n",
    "target = 102\n",
    "function(arr,target)"
   ]
  },
  {
   "cell_type": "code",
   "execution_count": 1,
   "metadata": {},
   "outputs": [
    {
     "name": "stdout",
     "output_type": "stream",
     "text": [
      "[0, 5, 3, 4]\n"
     ]
    },
    {
     "data": {
      "text/plain": [
       "True"
      ]
     },
     "execution_count": 1,
     "metadata": {},
     "output_type": "execute_result"
    }
   ],
   "source": [
    "# leetcode 486\n",
    "def function1(arr)->bool:\n",
    "    return winner1(arr, 0, len(arr)-1,1)\n",
    "def winner1(nums, start, end, turn):\n",
    "    if start == end:\n",
    "        return turn*nums[start]\n",
    "    p1 = turn*nums[start]+winner1(nums,start+1, end, -turn)\n",
    "    p2 = turn*nums[end]+winner1(nums, start,end-1, -turn)\n",
    "    \n",
    "    return turn*max(turn*p1, turn*p2)\n",
    "\n",
    "#*************************************************************\n",
    "def function2(arr):\n",
    "    memo = [[0]*len(arr)]*len(arr)\n",
    "    return winner2(arr, 0, len(arr)-1, memo)\n",
    "def winner2(nums, start, end, memo):\n",
    "    if start == end:\n",
    "        return nums[start]\n",
    "    if memo[start][end] != None:\n",
    "        return memo[start][end]\n",
    "    p1 = nums[start]-winner2(nums, start+1, end, memo)\n",
    "    p2 = nums[end]-winner2(nums, start, end-1, memo)\n",
    "    memo[start][end] = max(p1, p2)\n",
    "    return memo[start][end]\n",
    "#***************************************************************\n",
    "def function_DP1(arr):\n",
    "    dp = [[0]*len(arr)]*len(arr)\n",
    "    for start in range(len(arr),-1,-1):\n",
    "        for end in range(start+1, len(arr)):\n",
    "            p1 = arr[start]-dp[start+1][end]\n",
    "            p2 = arr[end] - dp[start][end-1]\n",
    "            dp[start][end] = max(p1, p2)\n",
    "            \n",
    "    print(dp)\n",
    "    return dp[0][len(arr)-1] >=0\n",
    "#**************************************************************\n",
    "def function_DP2(arr):\n",
    "    dp = [0]*len(arr)\n",
    "    for start in range(len(arr),-1,-1):\n",
    "        for end in range(start+1, len(arr)):\n",
    "            p1 = arr[start]-dp[end]\n",
    "            p2 = arr[end]-dp[end-1]\n",
    "            dp[end] = max(p1, p2)\n",
    "    print(dp)\n",
    "    return dp[len(arr)-1]>=0\n",
    "    \n",
    "\n",
    "\n",
    "arr = [1,5,8,4]\n",
    "#function_DP1(arr)\n",
    "function_DP2(arr)"
   ]
  },
  {
   "cell_type": "code",
   "execution_count": 65,
   "metadata": {},
   "outputs": [
    {
     "name": "stdout",
     "output_type": "stream",
     "text": [
      "21\n",
      "15\n",
      "18\n",
      "17\n"
     ]
    },
    {
     "data": {
      "text/plain": [
       "18"
      ]
     },
     "execution_count": 65,
     "metadata": {},
     "output_type": "execute_result"
    }
   ],
   "source": [
    "# leetcode 410\n",
    "import math\n",
    "def function(arr, m):\n",
    "    total = 0\n",
    "    max_val = -math.inf\n",
    "    for i in arr:\n",
    "        total+=i\n",
    "        max_val = max(max_val, i)\n",
    "                      \n",
    "    low = max_val\n",
    "    hi = total\n",
    "    while low<hi:\n",
    "        mid = low+(hi-low)//2\n",
    "        print(mid)\n",
    "        if can_divide(arr, mid, m):\n",
    "            hi = mid\n",
    "        else:\n",
    "            low = mid + 1\n",
    "    return low\n",
    "\n",
    "def can_divide(arr, mid, m)->bool:\n",
    "    total = 0\n",
    "    count  = 1\n",
    "    for i in arr:\n",
    "        if total + i>mid:\n",
    "            count += 1\n",
    "            total = 0\n",
    "            if count > m:\n",
    "                return False\n",
    "        total += i\n",
    "    return True\n",
    "    \n",
    "\n",
    "arr = [7,2,5,10,8]\n",
    "m = 2\n",
    "function(arr, m)\n",
    "#can_divide(arr, 21, 2)\n",
    "    \n",
    "    "
   ]
  },
  {
   "cell_type": "code",
   "execution_count": 85,
   "metadata": {},
   "outputs": [
    {
     "data": {
      "text/plain": [
       "True"
      ]
     },
     "execution_count": 85,
     "metadata": {},
     "output_type": "execute_result"
    }
   ],
   "source": [
    "# leetcode 633:\n",
    "# bruteforce:\n",
    "def function1(num):\n",
    "    for i in range(0,num+1):\n",
    "        for j in range(0,num+1):\n",
    "            if i**i + j**j == num:\n",
    "                return True\n",
    "    return False\n",
    "#better bruteforce:\n",
    "def function2(num):\n",
    "    for i in range(num+1):\n",
    "        b = num - int(i*i)\n",
    "        summ = 0\n",
    "        p = 1\n",
    "        while (summ<b):\n",
    "            summ += p\n",
    "            p += 2\n",
    "        print(summ)\n",
    "        if summ == b:\n",
    "            return True\n",
    "    return False\n",
    "# using Binary Fuction:\n",
    "def function3(num):\n",
    "    for i in range(0, num+1):\n",
    "        b = num - int(i*i)\n",
    "        if binary_search(0,b,b):\n",
    "            return True\n",
    "    return False\n",
    "def binary_search(start, end, n):\n",
    "    if start > end:\n",
    "        return False\n",
    "    mid = start+(end-start)//2\n",
    "    if mid*mid == n:\n",
    "        return True\n",
    "    if mid*mid>n:\n",
    "        return binary_search(start, mid-1, n)\n",
    "    else:\n",
    "        return binary_search(mid+1, end, n)\n",
    "    \n",
    "# Fermat Theorem:\n",
    "def function4(num):\n",
    "    pass\n",
    "    \n",
    "function3(5)"
   ]
  },
  {
   "cell_type": "code",
   "execution_count": 95,
   "metadata": {},
   "outputs": [
    {
     "data": {
      "text/plain": [
       "9999"
      ]
     },
     "execution_count": 95,
     "metadata": {},
     "output_type": "execute_result"
    }
   ],
   "source": [
    "# leetcode 1323:\n",
    "def function(num):\n",
    "    num = list(str(num))\n",
    "    for i in range(len(num)):\n",
    "        if num[i] == '6':\n",
    "            num[i]='9'\n",
    "            break\n",
    "    num1 = ''\n",
    "    return int(num1.join(num))\n",
    "\n",
    "function(9999)\n",
    "    "
   ]
  },
  {
   "cell_type": "code",
   "execution_count": 99,
   "metadata": {},
   "outputs": [
    {
     "data": {
      "text/plain": [
       "[0, 1, 2, 5, 3, 4]"
      ]
     },
     "execution_count": 99,
     "metadata": {},
     "output_type": "execute_result"
    }
   ],
   "source": [
    "# leetcode 942: DI string match:\n",
    "def function(S):\n",
    "    low, high = 0, len(S)\n",
    "    result = []\n",
    "    for i in range(len(S)):\n",
    "        if S[i] =='I':\n",
    "            result.append(low)\n",
    "            low+=1\n",
    "        else:\n",
    "            result.append(high)\n",
    "            high-=1\n",
    "    result.append(high)\n",
    "    return result\n",
    "function(\"IIIDI\")"
   ]
  },
  {
   "cell_type": "code",
   "execution_count": 148,
   "metadata": {},
   "outputs": [
    {
     "name": "stdout",
     "output_type": "stream",
     "text": [
      "5\n"
     ]
    },
    {
     "data": {
      "text/plain": [
       "14"
      ]
     },
     "execution_count": 148,
     "metadata": {},
     "output_type": "execute_result"
    }
   ],
   "source": [
    "# leetcode 883:\n",
    "def projectionArea(grid):\n",
    "    return top_view(grid)+side_view1(grid)+side_view2(grid)\n",
    "def top_view(grid):\n",
    "    total = 0\n",
    "    for row in range(len(grid)):\n",
    "        for col in range(len(grid[row])):\n",
    "            if grid[row][col] != 0:\n",
    "                total+=1\n",
    "    return total   \n",
    "def side_view1(grid):\n",
    "    total = 0\n",
    "    max_val = 0\n",
    "    for row in range(len(grid)):\n",
    "        for col in range(len(grid[row])):\n",
    "            if grid[col][row]>max_val:\n",
    "                max_val = grid[col][row]\n",
    "        total+=max_val\n",
    "        max_val = 0\n",
    "    return total\n",
    "def side_view2(grid):\n",
    "    total = 0\n",
    "    max_val = 0\n",
    "    for row in range(len(grid)):\n",
    "        for col in range(len(grid[row])):\n",
    "            if grid[row][col]>max_val:\n",
    "                max_val = grid[row][col]\n",
    "        total+=max_val\n",
    "        max_val = 0\n",
    "    return total\n",
    "    \n",
    "\n",
    "matrix = [[1,4],[1,1]]\n",
    "\n",
    "projectionArea(matrix)"
   ]
  },
  {
   "cell_type": "code",
   "execution_count": 12,
   "metadata": {},
   "outputs": [
    {
     "data": {
      "text/plain": [
       "True"
      ]
     },
     "execution_count": 12,
     "metadata": {},
     "output_type": "execute_result"
    }
   ],
   "source": [
    "# leetcode 836:\n",
    "def function(rec1, rec2):\n",
    "    return intersection(rec1[0],rec1[2], rec2[0], rec2[2]) and intersection(rec1[1], rec1[3], rec2[1], rec2[3]) \n",
    "\n",
    "def intersection(p1, p2, q1, q2):\n",
    "    return min(p2, q2) > max(p1, q1)\n",
    "\n",
    "\n",
    "rec1 = [0,0,2,2]\n",
    "rec2 = [0,0,3,3]\n",
    "function(rec1, rec2)"
   ]
  },
  {
   "cell_type": "code",
   "execution_count": 14,
   "metadata": {},
   "outputs": [],
   "source": [
    "# leetcode 223: Rectanle AREA\n",
    "def function():\n",
    "    pass"
   ]
  },
  {
   "cell_type": "code",
   "execution_count": 19,
   "metadata": {},
   "outputs": [
    {
     "name": "stdout",
     "output_type": "stream",
     "text": [
      "648125"
     ]
    }
   ],
   "source": [
    "def square_digit(num):\n",
    "    num = list(str(num))\n",
    "    res = []\n",
    "    for i in num:\n",
    "        res.append(int(i)*int(i))\n",
    "    for i in res:\n",
    "        print(i, end=\"\")\n",
    "\n",
    "num = 895\n",
    "square_digit(num)"
   ]
  },
  {
   "cell_type": "code",
   "execution_count": 21,
   "metadata": {},
   "outputs": [],
   "source": [
    "def square_digits(num):\n",
    "    ret = \"\"\n",
    "    for x in str(num):\n",
    "        ret += str(int(x)**2)\n",
    "    return int(ret)"
   ]
  },
  {
   "cell_type": "code",
   "execution_count": 1,
   "metadata": {},
   "outputs": [
    {
     "data": {
      "text/plain": [
       "'HiHiHiHiHiHiHiHiHiHi'"
      ]
     },
     "execution_count": 1,
     "metadata": {},
     "output_type": "execute_result"
    }
   ],
   "source": [
    "def string_times(st,num):\n",
    "    res = \"\"\n",
    "    for i in range(num):\n",
    "        res+=st\n",
    "    return res\n",
    "string_times(\"Hi\",10)\n"
   ]
  },
  {
   "cell_type": "code",
   "execution_count": 26,
   "metadata": {},
   "outputs": [
    {
     "data": {
      "text/plain": [
       "7"
      ]
     },
     "execution_count": 26,
     "metadata": {},
     "output_type": "execute_result"
    }
   ],
   "source": [
    "def rectangle_area(a,b,c,d,e,f,g,h):\n",
    "    rec1_area = abs(c-a)*abs(d-b)\n",
    "    rec2_area = abs(g-e)*abs(h-f)\n",
    "    total_area = rec1_area+rec2_area\n",
    "    if rectangle_overlap(a,b,c,d,e,f,g,h) == False:\n",
    "        return total_area\n",
    "    else:\n",
    "        overlap_area = abs(min(c,g)-max(a,e))*abs(min(d,h)-max(b,f))\n",
    "        return (total_area - overlap_area)\n",
    "def rectangle_overlap(a,b,c,d,e,f,g,h):\n",
    "    return not ((d<=f) or (b>=h) or (a>=g) or (c<= e))\n",
    "                                                      \n",
    "rectangle_area(0,0,2,2,1,1,3,3)"
   ]
  },
  {
   "cell_type": "code",
   "execution_count": 2,
   "metadata": {},
   "outputs": [
    {
     "data": {
      "text/plain": [
       "True"
      ]
     },
     "execution_count": 2,
     "metadata": {},
     "output_type": "execute_result"
    }
   ],
   "source": [
    "#leetcode 202:\n",
    "def happy_num(num):\n",
    "    dict1 = set()\n",
    "    while num != 1:\n",
    "        current_num = num\n",
    "        summ = 0\n",
    "        while current_num != 0:\n",
    "            summ+=(current_num%10)*(current_num%10)\n",
    "            current_num //= 10\n",
    "        if summ in dict1:\n",
    "            return False\n",
    "        else:\n",
    "            dict1.add(summ)\n",
    "            num = summ\n",
    "    return True\n",
    "\n",
    "#***************************** TIME LIMIT EXCEEDED *************************\n",
    "happy_num(19)\n",
    "        "
   ]
  },
  {
   "cell_type": "code",
   "execution_count": 7,
   "metadata": {},
   "outputs": [
    {
     "data": {
      "text/plain": [
       "False"
      ]
     },
     "execution_count": 7,
     "metadata": {},
     "output_type": "execute_result"
    }
   ],
   "source": [
    "# leetcode  202:\n",
    "def happy_num(num):\n",
    "    def square_sum(num):\n",
    "        res = 0\n",
    "        while num>0:\n",
    "            r = num%10\n",
    "            res = res+r*r\n",
    "            num = num // 10\n",
    "        return res\n",
    "    seen = set()\n",
    "    while square_sum(num) not in seen:\n",
    "        summ = square_sum(num)\n",
    "        if summ  == 1:\n",
    "            return True\n",
    "        else:\n",
    "            seen.add(summ)\n",
    "            num = summ\n",
    "    return False\n",
    "\n",
    "happy_num (2)\n"
   ]
  },
  {
   "cell_type": "code",
   "execution_count": 10,
   "metadata": {},
   "outputs": [
    {
     "name": "stdout",
     "output_type": "stream",
     "text": [
      "[5, 5]\n"
     ]
    },
    {
     "data": {
      "text/plain": [
       "True"
      ]
     },
     "execution_count": 10,
     "metadata": {},
     "output_type": "execute_result"
    }
   ],
   "source": [
    "#leetcode 263:\n",
    "def ugly_num(n):\n",
    "    i = 2\n",
    "    factors = []\n",
    "    while i * i <= n:\n",
    "        if n % i!=0:\n",
    "            i += 1\n",
    "        else:\n",
    "            n //= i\n",
    "            factors.append(i)\n",
    "    if n > 1:\n",
    "        factors.append(n)\n",
    "    print(factors)\n",
    "    return len(set(factors+[2,3,5]))<=3\n",
    "\n",
    "ugly_num(25)"
   ]
  },
  {
   "cell_type": "code",
   "execution_count": 5,
   "metadata": {},
   "outputs": [
    {
     "data": {
      "text/plain": [
       "12"
      ]
     },
     "execution_count": 5,
     "metadata": {},
     "output_type": "execute_result"
    }
   ],
   "source": [
    "# leetcode 264:\n",
    "# Bruteforce solution:\n",
    "def ugly_num2_BF(n):\n",
    "    counter = 1\n",
    "    i = 2\n",
    "    while counter<n:\n",
    "        if is_ugly(i):\n",
    "            counter+=1\n",
    "            if counter == n:\n",
    "                return i\n",
    "        i+=1\n",
    "    return counter\n",
    "    \n",
    "def is_ugly(num):\n",
    "    i=2\n",
    "    factors = []\n",
    "    while i*i <= num:\n",
    "        if num % i != 0:\n",
    "            i+=1\n",
    "        else:\n",
    "            num //=i\n",
    "            factors.append(i)\n",
    "    if num > 1:\n",
    "        factors.append(num)\n",
    "    return len(set(factors+[2,3,5]))<=3\n",
    "\n",
    "#********************************************\n",
    "# Dynamic programming: Bottom-up approach:\n",
    "\n",
    "def uglynum2_DP(num):\n",
    "    ugly = [0]*num\n",
    "    idx2, idx3, idx5 = 0,0,0\n",
    "    num2, num3, num5 = 2,3,5\n",
    "    next_ugly = 1\n",
    "    ugly[0] = 1\n",
    "    for i in range(1,len(ugly)):\n",
    "        next_ugly = min(num2, num3, num5)\n",
    "        ugly[i] = next_ugly\n",
    "        if next_ugly == num2:\n",
    "            idx2+=1\n",
    "            num2 = ugly[idx2]*2\n",
    "        if next_ugly == num3:\n",
    "            idx3 += 1\n",
    "            num3 = ugly[idx3]*3\n",
    "        if next_ugly == num5:\n",
    "            idx5+=1\n",
    "            num5 = ugly[idx5]*5\n",
    "    return next_ugly\n",
    "#ugly_num2(1000)\n",
    "\n",
    "uglynum2_DP(10)\n",
    "    "
   ]
  },
  {
   "cell_type": "code",
   "execution_count": 18,
   "metadata": {},
   "outputs": [
    {
     "data": {
      "text/plain": [
       "16244105063830431823239215311759575035108538820596640863335672483325211601368209812790155410766601562500000000000000000000000000000000000000000000000000000000000000000000000000000000"
      ]
     },
     "execution_count": 18,
     "metadata": {},
     "output_type": "execute_result"
    }
   ],
   "source": [
    "def ugly_DP(num):\n",
    "    ugly = [0]*num\n",
    "    ugly[0] = 1\n",
    "    idx2, idx3, idx5 = 0,0,0\n",
    "    next_ugly = ugly[0]\n",
    "    for i in range(1, len(ugly)):\n",
    "        num2, num3, num5 = ugly[idx2]*2, ugly[idx3]*3, ugly[idx5]*5\n",
    "        next_ugly = min(num2, num3, num5)\n",
    "        if next_ugly == num2:\n",
    "            idx2+=1\n",
    "        if next_ugly == num3:\n",
    "            idx3+=1\n",
    "        if next_ugly == num5:\n",
    "            idx5+=1\n",
    "        \n",
    "        ugly[i] = next_ugly\n",
    "        \n",
    "    return next_ugly\n",
    "ugly_DP(10000000)"
   ]
  },
  {
   "cell_type": "code",
   "execution_count": 49,
   "metadata": {},
   "outputs": [
    {
     "data": {
      "text/plain": [
       "348499"
      ]
     },
     "execution_count": 49,
     "metadata": {},
     "output_type": "execute_result"
    }
   ],
   "source": [
    "# leetcode 204:\n",
    "def count_primes(num):\n",
    "    count = 0\n",
    "    for i in range(1,num):\n",
    "        if is_prime3(i):\n",
    "            count+=1\n",
    "    return count  \n",
    "\n",
    "def is_prime1(num):\n",
    "    if num == 1:\n",
    "        return False\n",
    "    for i in range(2, num):\n",
    "        if num%i ==0:\n",
    "            return False\n",
    "    return True\n",
    "# test all the divisors upto sqrt(num):\n",
    "def is_prime2(num):\n",
    "    if num == 1:\n",
    "        return False\n",
    "    max_div = int(pow(num, 0.5))\n",
    "    for i in range(2, max_div+1):\n",
    "        if n %i == 0:\n",
    "            return False\n",
    "    return True    \n",
    "def is_prime3(x):\n",
    "    if x ==1:\n",
    "        return False\n",
    "    if x== 2:\n",
    "        return True\n",
    "    if x>2 and x%2 == 0:\n",
    "        return False\n",
    "    for d in range(3, 1+int(pow(x,0.5)), 2):\n",
    "        if x%d == 0:\n",
    "            return False\n",
    "    return True\n",
    "count_primes(4999799)\n"
   ]
  },
  {
   "cell_type": "code",
   "execution_count": 52,
   "metadata": {},
   "outputs": [
    {
     "data": {
      "text/plain": [
       "[2, 3, 5, 7]"
      ]
     },
     "execution_count": 52,
     "metadata": {},
     "output_type": "execute_result"
    }
   ],
   "source": [
    "# list the prime numbers less than n:\n",
    "def list_prime1(num):\n",
    "    for number in range(2, num+1):\n",
    "        for i in range(2,number//2+1):\n",
    "            if number%i == 0:\n",
    "                break\n",
    "        else:\n",
    "            print(number, end = ' ')\n",
    "    \n",
    "def list_prime2(num):\n",
    "    for number in range(2, num+1):\n",
    "        max_div = int(pow(number,0.5))\n",
    "        for i in range(2,max_div+1):\n",
    "            if number%i == 0:\n",
    "                break\n",
    "        else:\n",
    "            print(number, end = ' ')\n",
    "\n",
    "def list_prime3(num):\n",
    "    res = [2]\n",
    "    for number in range(3,num+1,2):\n",
    "        max_div = int(pow(number, 0.5))\n",
    "        for i in range(2, max_div+1):\n",
    "            if number%i == 0:\n",
    "                break\n",
    "        else:\n",
    "            res.append(number)\n",
    "    return res \n",
    "\n",
    "list_prime3(10)                   "
   ]
  },
  {
   "cell_type": "code",
   "execution_count": 6,
   "metadata": {},
   "outputs": [
    {
     "name": "stdout",
     "output_type": "stream",
     "text": [
      "[0, 1, 2, 3, 4, 5, 6, 7, 8]\n",
      "[1, 4]\n",
      "[0, 1, 2, 3, 1, 2, 3, 4, 2]\n"
     ]
    },
    {
     "data": {
      "text/plain": [
       "2"
      ]
     },
     "execution_count": 6,
     "metadata": {},
     "output_type": "execute_result"
    }
   ],
   "source": [
    "# leetcode 279\n",
    "def function(n):\n",
    "    dp = [i for i in range(n+1)]\n",
    "    print(dp)\n",
    "    sqrs = [sq**2 for sq in range(1, int(n**0.5)+1)]\n",
    "    print(sqrs)\n",
    "    for i in range(1, n+1):\n",
    "        dp[i] = min([dp[i-sq]+1 for sq in sqrs if i-sq>=0] + [dp[i]])\n",
    "    print(dp)\n",
    "    return dp[n]\n",
    "\n",
    "function(8)"
   ]
  },
  {
   "cell_type": "code",
   "execution_count": 7,
   "metadata": {},
   "outputs": [
    {
     "name": "stdout",
     "output_type": "stream",
     "text": [
      "[0, 1, 2, 3, 1, 2, 3, 4, 2, 1, 2, 3, 3, 2, 3, 4, 1, 2, 2, 3, 2, 3, 3, 4, 3, 1, 2, 3, 4, 2, 3, 4, 2, 3, 2, 3, 1, 2, 3, 4, 2, 2, 3, 3, 3, 2, 3, 4, 3, 1, 2, 3, 2, 2, 3]\n"
     ]
    },
    {
     "data": {
      "text/plain": [
       "3"
      ]
     },
     "execution_count": 7,
     "metadata": {},
     "output_type": "execute_result"
    }
   ],
   "source": [
    "# Leetcode 279:*************************************************************************************************\n",
    "def function(n):\n",
    "    dp = [i for i in range(n+1)]\n",
    "    for i in range(1, n+1):\n",
    "        Min = i\n",
    "        for j in range(1,i):\n",
    "            nxt = j*j\n",
    "            if i-nxt >=0:\n",
    "                Min = min(dp[i-nxt]+1,Min)\n",
    "        if dp[i] == i:\n",
    "            dp[i] = Min\n",
    "    print(dp)\n",
    "    \n",
    "    return dp[n]\n",
    "\n",
    "function(54)"
   ]
  },
  {
   "cell_type": "code",
   "execution_count": 2,
   "metadata": {},
   "outputs": [
    {
     "name": "stdout",
     "output_type": "stream",
     "text": [
      "['0129', '0192', '0219', '0291', '0912', '0921', '1029', '1092', '1209', '1290', '1902', '1920', '2019', '2091', '2109', '2190', '2901', '2910', '9012', '9021', '9102', '9120', '9201', '9210']\n",
      "21:90\n"
     ]
    }
   ],
   "source": [
    "#****************************************** wrong *************\n",
    "from itertools import permutations\n",
    "def largest(arr):\n",
    "    lst = []\n",
    "    for i in permutations(arr, len(arr)):\n",
    "        lst.append(\"\".join(map(str,i)))\n",
    "        \n",
    "    lst.sort()\n",
    "    print(lst)\n",
    "    for i in lst[::-1]:\n",
    "        if int(i)<2359:\n",
    "            x = i\n",
    "            break\n",
    "        else:\n",
    "            x=\"\"\n",
    "    res = \"\"\n",
    "    for i in str(x):\n",
    "        res+=i\n",
    "        if len(res) == 2:\n",
    "            res+=':'\n",
    "    return res\n",
    "print(largest([0,2,1,9]))"
   ]
  },
  {
   "cell_type": "code",
   "execution_count": 23,
   "metadata": {},
   "outputs": [
    {
     "data": {
      "text/plain": [
       "[]"
      ]
     },
     "execution_count": 23,
     "metadata": {},
     "output_type": "execute_result"
    }
   ],
   "source": [
    "def tribonacci(signature, n):\n",
    "    dp = [0]*n\n",
    "    if n>2:\n",
    "        \n",
    "        dp[0] = signature[0]\n",
    "        dp[1] = signature[1]\n",
    "        dp[2] = signature[2]\n",
    "        for i in range(3,len(dp)):\n",
    "            dp[i] = dp[i-1]+dp[i-2]+dp[i-3]\n",
    "        return dp\n",
    "    else:\n",
    "        res = []\n",
    "        for i in range(n):\n",
    "            res.append(signature[i])\n",
    "        return res\n",
    "\n",
    "signature = [1,1,1]\n",
    "n = 0\n",
    "tribonacci(signature, n)"
   ]
  },
  {
   "cell_type": "code",
   "execution_count": 103,
   "metadata": {},
   "outputs": [
    {
     "data": {
      "text/plain": [
       "'<i>Hello</i>'"
      ]
     },
     "execution_count": 103,
     "metadata": {},
     "output_type": "execute_result"
    }
   ],
   "source": [
    "def make_tags(tag, word):\n",
    "    return \"<{0}>{1}</{0}>\".format(tag, word)\n",
    "make_tags('i','Hello')"
   ]
  },
  {
   "cell_type": "code",
   "execution_count": 113,
   "metadata": {},
   "outputs": [
    {
     "data": {
      "text/plain": [
       "'<<hi>>'"
      ]
     },
     "execution_count": 113,
     "metadata": {},
     "output_type": "execute_result"
    }
   ],
   "source": [
    "def function(out, word):\n",
    "    return out[0:2]+word+out[2:4]\n",
    "function('<<>>', 'hi')"
   ]
  },
  {
   "cell_type": "code",
   "execution_count": 122,
   "metadata": {},
   "outputs": [
    {
     "data": {
      "text/plain": [
       "'hi'"
      ]
     },
     "execution_count": 122,
     "metadata": {},
     "output_type": "execute_result"
    }
   ],
   "source": [
    "def combo_string(a, b):\n",
    "    if len(a)>len(b):\n",
    "        short = b\n",
    "        longg = a\n",
    "    else:\n",
    "        short = a\n",
    "        longg = b\n",
    "    return short+longg+short\n",
    "\n",
    "combo_string(\"\", \"hi\")"
   ]
  },
  {
   "cell_type": "code",
   "execution_count": 130,
   "metadata": {},
   "outputs": [
    {
     "data": {
      "text/plain": [
       "True"
      ]
     },
     "execution_count": 130,
     "metadata": {},
     "output_type": "execute_result"
    }
   ],
   "source": [
    "def function(arr):\n",
    "    if len(arr)>=1:\n",
    "        return arr[0]==arr[-1]\n",
    "    return False\n",
    "\n",
    "arr = [7]\n",
    "function(arr)"
   ]
  },
  {
   "cell_type": "code",
   "execution_count": 1,
   "metadata": {},
   "outputs": [
    {
     "data": {
      "text/plain": [
       "3"
      ]
     },
     "execution_count": 1,
     "metadata": {},
     "output_type": "execute_result"
    }
   ],
   "source": [
    "def sum13(nums):\n",
    "    if len(nums) == 0:\n",
    "        return 0\n",
    "    i = 0\n",
    "    total = 0\n",
    "    while i<len(nums):\n",
    "        if nums[i]==13:\n",
    "            i+=2\n",
    "        else:\n",
    "            total+=nums[i]\n",
    "            i+=1\n",
    "    return total\n",
    "sum13([13, 1, 2, 13, 2, 1, 13])"
   ]
  },
  {
   "cell_type": "code",
   "execution_count": 2,
   "metadata": {},
   "outputs": [],
   "source": [
    "def sum67(arr):\n",
    "    if len(arr) == 0:\n",
    "        return 0\n",
    "    if len(arr)>0:\n",
    "        total = 0\n",
    "        for i in range(len(arr)):\n",
    "            if arr[i]!=6:\n",
    "                total+=arr[i]\n",
    "            else:\n",
    "                toatl+=0\n",
    "                \n",
    "        "
   ]
  },
  {
   "cell_type": "code",
   "execution_count": 29,
   "metadata": {},
   "outputs": [
    {
     "data": {
      "text/plain": [
       "False"
      ]
     },
     "execution_count": 29,
     "metadata": {},
     "output_type": "execute_result"
    }
   ],
   "source": [
    "def fix_teen(n):\n",
    "    if (n>=13 and n<=19):\n",
    "        if n == 15 or n==16:\n",
    "            return True\n",
    "        else:\n",
    "            return False\n",
    "            \n",
    "    return True\n",
    "fix_teen(14)"
   ]
  },
  {
   "cell_type": "code",
   "execution_count": 48,
   "metadata": {},
   "outputs": [
    {
     "data": {
      "text/plain": [
       "17"
      ]
     },
     "execution_count": 48,
     "metadata": {},
     "output_type": "execute_result"
    }
   ],
   "source": [
    "def function(arr):\n",
    "    summ = 0\n",
    "    flag = True\n",
    "    for i in range(len(arr)):\n",
    "        if flag:\n",
    "            if arr[i]!=6:\n",
    "                summ+=arr[i]\n",
    "            else:\n",
    "                flag=False\n",
    "        if flag==False and arr[i]==7:\n",
    "            flag=True\n",
    "    return summ\n",
    "\n",
    "arr = [1,2,3,6,7,9,6,8,7,2]\n",
    "function(arr)"
   ]
  },
  {
   "cell_type": "code",
   "execution_count": 71,
   "metadata": {},
   "outputs": [
    {
     "data": {
      "text/plain": [
       "3"
      ]
     },
     "execution_count": 71,
     "metadata": {},
     "output_type": "execute_result"
    }
   ],
   "source": [
    "# leetcode: split the string into balanced strings\n",
    "def function(string):\n",
    "    r_c = 0\n",
    "    l_c = 0\n",
    "    r_count, l_count = 0,0\n",
    "    count=0\n",
    "    for i in range(len(string)):\n",
    "        if string[r_c]=='R':\n",
    "            r_count+=1\n",
    "        else:\n",
    "            l_count+=1\n",
    "        if r_count == l_count:\n",
    "            count+=1\n",
    "            r_count,l_count = 0,0\n",
    "            r_c+=1\n",
    "            l_c+=1\n",
    "        else:\n",
    "            r_c+=1\n",
    "            l_c+=1\n",
    "    return count\n",
    "function(\"RLLLLRRRLR\")         \n",
    "        "
   ]
  },
  {
   "cell_type": "code",
   "execution_count": 73,
   "metadata": {},
   "outputs": [],
   "source": [
    "# leetcode:1436\n",
    "def function(paths):\n",
    "    pass\n",
    "\n",
    "    "
   ]
  },
  {
   "cell_type": "code",
   "execution_count": 92,
   "metadata": {},
   "outputs": [
    {
     "data": {
      "text/plain": [
       "['et', 'code']"
      ]
     },
     "execution_count": 92,
     "metadata": {},
     "output_type": "execute_result"
    }
   ],
   "source": [
    "# leetcode 1408:\n",
    "def function1(words):\n",
    "    words.sort(key = len)\n",
    "    result = []\n",
    "    for i, small_word in enumerate(words):\n",
    "        lw = len(small_word)\n",
    "        for big_word in words[i+1:]:\n",
    "            if len(big_word)>lw and small_word in big_word:\n",
    "                result.append(small_word)\n",
    "                break\n",
    "    return result\n",
    "def function2(words):\n",
    "    result = []\n",
    "    for small_word in words:\n",
    "        a = words.copy()\n",
    "        a.remove(small_word)\n",
    "        for word2 in a:\n",
    "            if small_word in word2:\n",
    "                result.append(small_word)\n",
    "                break\n",
    "    return result\n",
    "words = [\"leetcode\", \"et\", \"code\"]\n",
    "words1 = [\"mass\",\"as\",\"hero\",\"superhero\"]\n",
    "function2(words)\n",
    "        "
   ]
  },
  {
   "cell_type": "code",
   "execution_count": 117,
   "metadata": {},
   "outputs": [
    {
     "name": "stdout",
     "output_type": "stream",
     "text": [
      "['a', 'b', 'c', 'e', 'j', 'k', 'l', 's']\n"
     ]
    },
    {
     "data": {
      "text/plain": [
       "'abcejklssecbaabccba'"
      ]
     },
     "execution_count": 117,
     "metadata": {},
     "output_type": "execute_result"
    }
   ],
   "source": [
    "def max_min(s):\n",
    "    res = \"\"\n",
    "    dict1 = {}\n",
    "    for i in s:\n",
    "        if i in dict1:\n",
    "            dict1[i]+=1\n",
    "        else:\n",
    "            dict1[i] = 1\n",
    "    keys = sorted(dict1.keys())\n",
    "    print(keys)\n",
    "    while len(res)<len(s):\n",
    "        for i in keys:\n",
    "            if dict1[i]>0:\n",
    "                res+=i\n",
    "                dict1[i]-=1\n",
    "        temp = \"\"\n",
    "        for j in keys:\n",
    "            if dict1[j]>0:\n",
    "                temp+=j\n",
    "                dict1[j]-=1\n",
    "        res+=temp[::-1]\n",
    "    return res\n",
    "\n",
    "max_min(\"aaeejssklaabbbbcccc\")"
   ]
  },
  {
   "cell_type": "code",
   "execution_count": 121,
   "metadata": {},
   "outputs": [
    {
     "data": {
      "text/plain": [
       "\"s'teL ekat edocteel tsetnoc\""
      ]
     },
     "execution_count": 121,
     "metadata": {},
     "output_type": "execute_result"
    }
   ],
   "source": [
    "# leetcode 557:\n",
    "def function(text):\n",
    "    res = \"\"\n",
    "    for i in text.split(\" \"):\n",
    "        ad = i[::-1]\n",
    "        res+=ad+\" \"\n",
    "    return res.rstrip()\n",
    "text = \"Let's take leetcode contest\"\n",
    "function(text)"
   ]
  },
  {
   "cell_type": "code",
   "execution_count": 41,
   "metadata": {},
   "outputs": [
    {
     "data": {
      "text/plain": [
       "'Imaa peaksmaaa oatGmaaaa atinLmaaaaa'"
      ]
     },
     "execution_count": 41,
     "metadata": {},
     "output_type": "execute_result"
    }
   ],
   "source": [
    "#Leetcode 824:\n",
    "def function(string):\n",
    "    res = \"\"\n",
    "    vowels = ('a','e','i','o','u','A','E','I','O','U')\n",
    "    for word in string.split(\" \"):\n",
    "        if word.startswith(vowels):\n",
    "            res+=word+\"ma \"\n",
    "        else:\n",
    "            res+=word[1:]+word[0]+\"ma \"\n",
    "    count = 1\n",
    "    res1 = \"\"\n",
    "    for word in res.split(\" \"):\n",
    "        if len(word)>0:\n",
    "            res1+=word+(count*\"a\")+\" \"\n",
    "            count += 1\n",
    "    return res1.rstrip()\n",
    "    \n",
    "string = \"I speak Goat Latin\"\n",
    "function(string)"
   ]
  },
  {
   "cell_type": "code",
   "execution_count": 80,
   "metadata": {},
   "outputs": [
    {
     "data": {
      "text/plain": [
       "[1, 2]"
      ]
     },
     "execution_count": 80,
     "metadata": {},
     "output_type": "execute_result"
    }
   ],
   "source": [
    "# leetcode 1170:\n",
    "def numSmallerByFrequency1(q,w):\n",
    "    res = []\n",
    "    for query in q:\n",
    "        count = 0\n",
    "        for word in w:\n",
    "            if function1(query)<function1(word):\n",
    "                count+=1\n",
    "        res.append(count)\n",
    "    return res\n",
    "def function1(string):\n",
    "    return string.count(sorted(string)[0])\n",
    "\n",
    "####################################################################\n",
    "def numSmallerBFrequency2(q, words):\n",
    "    res = []\n",
    "    d_words = {}\n",
    "    for i in words:\n",
    "        if i.count(min(i)) in d_words:\n",
    "            d_words[i.count(min(i))] += 1\n",
    "        else:\n",
    "            d_words[i.count(min(i))] = 1\n",
    "    for query in q:\n",
    "        count = query.count(min(query))\n",
    "        res.append(function2(count, d_words))\n",
    "    return res\n",
    "def function2(n, d):\n",
    "    temp = 0\n",
    "    for i in d:\n",
    "        if i>n:\n",
    "            temp+=d[i]\n",
    "    return temp\n",
    "########################################################################\n",
    "from bisect import bisect\n",
    "def function3(queries, words):\n",
    "    res = [0]*len(queries)\n",
    "    q_arr = [0]*len(queries)\n",
    "    w_arr = [0]*len(words)\n",
    "    for i, q in enumerate(queries):\n",
    "        q_arr[i] = q.count(min(q))\n",
    "    for i, w in enumerate(words):\n",
    "        w_arr[i] = w.count(min(w))\n",
    "    w_arr.sort()\n",
    "    for i, num in enumerate(q_arr):\n",
    "        res[i] = len(w_arr)-bisect(w_arr,num)\n",
    "    return res\n",
    "queries = [\"bbb\",\"cc\"]    \n",
    "words =  [\"a\",\"aa\",\"aaa\",\"aaaa\"]\n",
    "#numSmallerByFrequency(queries,words)\n",
    "function3(queries, words)"
   ]
  },
  {
   "cell_type": "code",
   "execution_count": 19,
   "metadata": {},
   "outputs": [
    {
     "data": {
      "text/plain": [
       "3"
      ]
     },
     "execution_count": 19,
     "metadata": {},
     "output_type": "execute_result"
    }
   ],
   "source": [
    "# No.of palindromic sequences in the string\n",
    "def function(string):\n",
    "    count = 0\n",
    "    l = len(string)\n",
    "    p1=0\n",
    "    p2 = l-1\n",
    "    while p2>=p1:\n",
    "        if string[p1]!=string[p2]:\n",
    "            p2-=1\n",
    "        else:\n",
    "            if is_pal(string[p1:p2+1]):\n",
    "                count+=1\n",
    "                p1=p2+1\n",
    "                p2=l-1\n",
    "            else:\n",
    "                p2-=1\n",
    "    return count\n",
    "                  \n",
    "def is_pal(s):\n",
    "    return s==s[::-1]\n",
    "function(\"bbaabaaa\")"
   ]
  },
  {
   "cell_type": "code",
   "execution_count": 35,
   "metadata": {},
   "outputs": [
    {
     "data": {
      "text/plain": [
       "'dc-ba'"
      ]
     },
     "execution_count": 35,
     "metadata": {},
     "output_type": "execute_result"
    }
   ],
   "source": [
    "# reverse only letters: leetcode 917\n",
    "def function1(string):\n",
    "    string = list(string)\n",
    "    p1, p2 = 0, len(string)-1\n",
    "    while p2>p1:\n",
    "        if not string[p1].isalpha():\n",
    "            p1+=1\n",
    "        if not string[p2].isalpha():\n",
    "            p2-=1\n",
    "        if string[p1].isalpha() and string[p2].isalpha():\n",
    "            temp = string[p1]\n",
    "            string[p1] = string[p2]\n",
    "            string[p2] = temp\n",
    "            p1+=1\n",
    "            p2-=1\n",
    "    return \"\".join(string)\n",
    "\n",
    "def function2(string):\n",
    "    letters = [char for char in string if char.isalpha()]\n",
    "    result = []\n",
    "    for char in string:\n",
    "        if char.isalpha():\n",
    "            result.append(letters.pop())\n",
    "        else:\n",
    "            result.append(char)\n",
    "    return \"\".join(result)\n",
    "\n",
    "def function3(string):\n",
    "    res = []\n",
    "    end = len(string)-1\n",
    "    for i, char in enumerate(string):\n",
    "        if char.isalpha():\n",
    "            while not string[end].isalpha():\n",
    "                end-=1\n",
    "            res.append(string[end])\n",
    "            end-=1\n",
    "        else:\n",
    "            res.append(char)\n",
    "    return \"\".join(res)\n",
    "\n",
    "function3(\"ab-cd\")\n",
    "            "
   ]
  },
  {
   "cell_type": "code",
   "execution_count": 49,
   "metadata": {},
   "outputs": [
    {
     "data": {
      "text/plain": [
       "'c2o0v1i9d'"
      ]
     },
     "execution_count": 49,
     "metadata": {},
     "output_type": "execute_result"
    }
   ],
   "source": [
    "def function(string):\n",
    "    char_arr = []\n",
    "    int_arr = []\n",
    "    res = []\n",
    "    for i in string:\n",
    "        if i.isalpha():\n",
    "            char_arr.append(i)\n",
    "        else:\n",
    "            int_arr.append(i)\n",
    "    if abs(len(char_arr)-len(int_arr)) >=2:\n",
    "        return \"\"\n",
    "    else:\n",
    "        if len(int_arr)>=len(char_arr):\n",
    "            for i in range(len(char_arr)+1):\n",
    "                if i<=len(int_arr)-1:\n",
    "                    res.append(int_arr[i])\n",
    "                if i<=len(char_arr)-1:\n",
    "                    res.append(char_arr[i])\n",
    "        else:\n",
    "            for i in range(len(char_arr)+1):\n",
    "                if i<=len(char_arr)-1:\n",
    "                    res.append(char_arr[i])\n",
    "                if i<=len(int_arr)-1:\n",
    "                    res.append(int_arr[i])\n",
    "            \n",
    "    return \"\".join(res)\n",
    "function(\"covid2019\")"
   ]
  },
  {
   "cell_type": "code",
   "execution_count": 55,
   "metadata": {},
   "outputs": [
    {
     "data": {
      "text/plain": [
       "2"
      ]
     },
     "execution_count": 55,
     "metadata": {},
     "output_type": "execute_result"
    }
   ],
   "source": [
    "# leetcode 1247:\n",
    "def swap_xy(string1, string2):\n",
    "    if (string1.count('x')+string1.count('x'))%2 == 0 and (string1.count('y')+string2.count('y'))%2 ==0:\n",
    "        xy_count = 0\n",
    "        yx_count = 0\n",
    "        for i, j in zip(string1, string2):\n",
    "            if i=='x'and j=='y':\n",
    "                xy_count += 1\n",
    "            if i=='y' and j == 'x':\n",
    "                yx_count += 1\n",
    "        return (xy_count//2+xy_count%2+yx_count//2+yx_count%2)\n",
    "    else:\n",
    "        return -1\n",
    "    \n",
    "s1 = \"xy\"\n",
    "s2 = \"yx\"\n",
    "swap_xy(s1,s2)"
   ]
  },
  {
   "cell_type": "code",
   "execution_count": 3,
   "metadata": {},
   "outputs": [
    {
     "data": {
      "text/plain": [
       "'ranynar'"
      ]
     },
     "execution_count": 3,
     "metadata": {},
     "output_type": "execute_result"
    }
   ],
   "source": [
    "def longestPalindrome(string):\n",
    "    pal_dict = {}\n",
    "    l = len(string)\n",
    "    p1 = 0\n",
    "    p2 = l-1\n",
    "    while p2>=p1:\n",
    "        if string[p1]!=string[p2]:\n",
    "            p2-=1\n",
    "        else:\n",
    "            if p1!=p2:\n",
    "                if is_palindrome(string[p1:p2+1]) and string[p1:p2+1] not in pal_dict:\n",
    "                    pal_dict[string[p1:p2+1]] = len(string[p1:p2+1])\n",
    "                    p1 +=1\n",
    "                    p2 = l-1\n",
    "                else:\n",
    "                    p2-=1\n",
    "            else:\n",
    "                if string[p1] not in pal_dict:\n",
    "                    pal_dict[string[p1]] = len(string[p1])\n",
    "                    p1 += 1\n",
    "                    p2=l-1\n",
    "                else:\n",
    "                    p1+=1\n",
    "                    p2 = l-1\n",
    "    if len(pal_dict)>0:\n",
    "        return max(pal_dict, key = pal_dict.get)\n",
    "    else:\n",
    "        return \"\"\n",
    "                    \n",
    "def is_palindrome(string1):\n",
    "    return string1==string1[::-1]\n",
    "\n",
    "longestPalindrome(\"civilwartestingwhetherthatnaptionoranynartion\")\n"
   ]
  },
  {
   "cell_type": "code",
   "execution_count": 25,
   "metadata": {},
   "outputs": [
    {
     "data": {
      "text/plain": [
       "[3, 4]"
      ]
     },
     "execution_count": 25,
     "metadata": {},
     "output_type": "execute_result"
    }
   ],
   "source": [
    "#leetcode: 34\n",
    "def function(arr, target):\n",
    "    res = [0]*2\n",
    "    res[0] = start_index(arr, target)\n",
    "    res[1] = end_index(arr, target)\n",
    "    return res\n",
    "def start_index(arr, target):\n",
    "    idx = -1\n",
    "    start = 0\n",
    "    end = len(arr)-1\n",
    "    while start<=end:\n",
    "        mid = start+(end-start)//2\n",
    "        if arr[mid]>=target:\n",
    "            end = mid-1\n",
    "        else:\n",
    "            start = mid+1\n",
    "        if arr[mid]==target:\n",
    "            idx = mid\n",
    "    return idx\n",
    "def end_index(arr, target):\n",
    "    idx = -1\n",
    "    start = 0\n",
    "    end = len(arr)-1\n",
    "    while start<=end:\n",
    "        mid = start+(end-start)//2\n",
    "        if arr[mid]<=target:\n",
    "            start = mid+1\n",
    "        else:\n",
    "            end = mid-1\n",
    "        if arr[mid]==target:\n",
    "            idx = mid\n",
    "    return idx\n",
    "\n",
    "nums = [5,7,7,8,8,10]\n",
    "target = 8\n",
    "function(nums, target)\n",
    "    "
   ]
  },
  {
   "cell_type": "code",
   "execution_count": 7,
   "metadata": {},
   "outputs": [
    {
     "data": {
      "text/plain": [
       "4"
      ]
     },
     "execution_count": 7,
     "metadata": {},
     "output_type": "execute_result"
    }
   ],
   "source": [
    "# longest subarray with given sum equals to k: leetcode 325\n",
    "def max_subarray_length_equal_k(arr, k):\n",
    "    dict1 = {}\n",
    "    dict1[0] = -1\n",
    "    cumulative_sum = 0\n",
    "    max_length = 0\n",
    "    for i in range(len(arr)):\n",
    "        cumulative_sum += arr[i]\n",
    "        if cumulative_sum - k in dict1:\n",
    "            max_length = max(max_length, i-dict1[cumulative_sum - k])\n",
    "        if cumulative_sum not in dict1:\n",
    "            dict1[cumulative_sum] = i\n",
    "    return max_length\n",
    "\n",
    "arr = [10,5,7,1,2,5,3]\n",
    "k = 15\n",
    "max_subarray_length_equal_k(arr, k)"
   ]
  },
  {
   "cell_type": "code",
   "execution_count": 8,
   "metadata": {},
   "outputs": [
    {
     "data": {
      "text/plain": [
       "2"
      ]
     },
     "execution_count": 8,
     "metadata": {},
     "output_type": "execute_result"
    }
   ],
   "source": [
    "# no.of subarrays with sum equals to k: leetcode 560\n",
    "def total_subarrays_equal_to_k(arr,k):\n",
    "    count = 0\n",
    "    dict1 = {}\n",
    "    dict1[0] = 1\n",
    "    cumulative_sum = 0\n",
    "    for i in arr:\n",
    "        cumulative_sum += i\n",
    "        if cumulative_sum - k in dict1:\n",
    "            count += dict1[cumulative_sum-k]\n",
    "        if cumulative_sum in dict1:\n",
    "            dict1[cumulative_sum] += 1\n",
    "        else:\n",
    "            dict1[cumulative_sum] = 1\n",
    "    return count\n",
    "\n",
    "arr = [3,4,7,2,3,-1,4,2]\n",
    "k = 7\n",
    "total_subarrays_equal_to_k(arr,k)"
   ]
  },
  {
   "cell_type": "code",
   "execution_count": 1,
   "metadata": {},
   "outputs": [
    {
     "data": {
      "text/plain": [
       "[29, 32]"
      ]
     },
     "execution_count": 1,
     "metadata": {},
     "output_type": "execute_result"
    }
   ],
   "source": [
    "def function(arr, time_stamp):\n",
    "    for p in time_stamp:\n",
    "        count = 0\n",
    "        idx=0\n",
    "        while arr:\n",
    "            if arr[idx]>p:\n",
    "                break\n",
    "            if arr[idx]<=p:\n",
    "                count +=1\n",
    "                arr.remove(arr[idx])\n",
    "                if count ==5:\n",
    "                    break\n",
    "    return arr\n",
    "    \n",
    "arr = [2,4,5,6,10,11,12,15,16,18,19,21,24,25,28,29,32]\n",
    "time_stamp = [0, 15,25,30]\n",
    "function(arr, time_stamp)"
   ]
  },
  {
   "cell_type": "code",
   "execution_count": 6,
   "metadata": {},
   "outputs": [
    {
     "data": {
      "text/plain": [
       "7"
      ]
     },
     "execution_count": 6,
     "metadata": {},
     "output_type": "execute_result"
    }
   ],
   "source": [
    "def lucky_number(arr):\n",
    "    d = {}\n",
    "    for i in arr:\n",
    "        if i in d:\n",
    "            d[i] += 1\n",
    "        else:\n",
    "            d[i] = 1\n",
    "    num = -1\n",
    "    for i in d:\n",
    "        if d[i] == i:\n",
    "            num = max(num, i)       \n",
    "    return num\n",
    "               \n",
    "arr = [7,7,7,7,7,7,7]\n",
    "lucky_number(arr)   "
   ]
  },
  {
   "cell_type": "code",
   "execution_count": 9,
   "metadata": {},
   "outputs": [
    {
     "name": "stdout",
     "output_type": "stream",
     "text": [
      "[2, 3]\n"
     ]
    },
    {
     "data": {
      "text/plain": [
       "[1, 1, 0, 0]"
      ]
     },
     "execution_count": 9,
     "metadata": {},
     "output_type": "execute_result"
    }
   ],
   "source": [
    "def next_min(arr):\n",
    "    stack = []\n",
    "    res = [0]*len(arr)\n",
    "    stack.append(0)\n",
    "    for i in range(1, len(arr)):\n",
    "        if not stack:\n",
    "            stack.append(i)\n",
    "            continue\n",
    "        while (stack and arr[stack[-1]] >= arr[i]):\n",
    "            res[stack.pop()] = arr[i]\n",
    "        stack.append(i)\n",
    "    print(stack)\n",
    "   \n",
    "    return res\n",
    "            \n",
    "\n",
    "arr = [10,1,1,6]\n",
    "next_min(arr)"
   ]
  },
  {
   "cell_type": "code",
   "execution_count": 5,
   "metadata": {},
   "outputs": [
    {
     "data": {
      "text/plain": [
       "2"
      ]
     },
     "execution_count": 5,
     "metadata": {},
     "output_type": "execute_result"
    }
   ],
   "source": [
    "# finding the duplicate value in the array:\n",
    "def function(arr):\n",
    "    if not arr: return 0\n",
    "    slow = arr[0]\n",
    "    fast = arr[0]\n",
    "    while True:\n",
    "        slow = arr[slow]\n",
    "        fast = arr[arr[fast]]\n",
    "        if slow == fast: break\n",
    "    slow = arr[0]\n",
    "    while slow != fast:\n",
    "        slow = arr[slow]\n",
    "        fast = arr[fast]\n",
    "    return fast\n",
    "\n",
    "arr = [5,4,2,3,1,2,]\n",
    "function(arr)"
   ]
  },
  {
   "cell_type": "code",
   "execution_count": 45,
   "metadata": {},
   "outputs": [
    {
     "data": {
      "text/plain": [
       "[396562,\n",
       " 396563,\n",
       " 396564,\n",
       " 396565,\n",
       " 396566,\n",
       " 396567,\n",
       " 396568,\n",
       " 396569,\n",
       " 396570,\n",
       " 396571]"
      ]
     },
     "execution_count": 45,
     "metadata": {},
     "output_type": "execute_result"
    }
   ],
   "source": [
    "def findClosestElements(arr, k, x):\n",
    "    if k == len(arr): return arr\n",
    "    # case1: x is present in the array range\n",
    "    if x >= arr[0] and x <= arr[-1]:\n",
    "        diff = []\n",
    "        for i in arr:\n",
    "            diff.append(abs(x-i))\n",
    "        min_idx = diff.index(min(diff))\n",
    "        if min_idx == 0: return arr[0:k]\n",
    "        elif min_idx == len(arr)-1: return arr[-k:]\n",
    "        hp = diff[0:k]\n",
    "        for i in diff[k:]:\n",
    "            if i < max(hp):\n",
    "                hp[hp.index(max(hp))] = i\n",
    "                \n",
    "        indexes = []\n",
    "        for i in hp:\n",
    "            if i in diff:\n",
    "                indexes.append(diff.index(i))\n",
    "                diff[diff.index(i)] = \"\"\n",
    "    \n",
    "        for i in range(len(indexes)):\n",
    "            indexes[i] = arr[indexes[i]]\n",
    "        return sorted(indexes)   \n",
    "        \n",
    "        # case 2: x is not present in the array range:\n",
    "        #         sub-case1: x value is less than arr[0] \n",
    "        #         sub-case2: x value is grater than arr[-1] \n",
    "        \n",
    "    else:\n",
    "        if x>arr[-1]:\n",
    "            return arr[-k:]\n",
    "        elif x<arr[0]:\n",
    "            return arr[0:k]\n",
    "        \n",
    "        \n",
    "arr = [i for i in range(1, 1000000)]\n",
    "k = 10\n",
    "x = 396567\n",
    "findClosestElements(arr, k, x)"
   ]
  },
  {
   "cell_type": "code",
   "execution_count": 4,
   "metadata": {},
   "outputs": [
    {
     "data": {
      "text/plain": [
       "[98, 74, 65]"
      ]
     },
     "execution_count": 4,
     "metadata": {},
     "output_type": "execute_result"
    }
   ],
   "source": [
    "import heapq\n",
    "a = [5,6,21,65,98,74,1,23,25]\n",
    "heapq.heapify(a)\n",
    "heapq.nsmallest(3, a)\n",
    "heapq.nlargest(3, a)"
   ]
  },
  {
   "cell_type": "code",
   "execution_count": 12,
   "metadata": {},
   "outputs": [
    {
     "data": {
      "text/plain": [
       "1"
      ]
     },
     "execution_count": 12,
     "metadata": {},
     "output_type": "execute_result"
    }
   ],
   "source": [
    "# find the number of occurances of element in the array:\n",
    "def function(arr, target):\n",
    "    n = len(arr)\n",
    "    start = 0\n",
    "    end = len(arr)-1\n",
    "    count = 0\n",
    "    while start < end:\n",
    "        mid = start+(end-start) //2\n",
    "        if target < arr[mid]:\n",
    "            end = mid-1\n",
    "        elif target > arr[mid]:\n",
    "            start = mid+1\n",
    "        else:\n",
    "            count += 1\n",
    "            if mid != len(arr)-1: p1 = mid+1\n",
    "            if mid != 0: p2 = mid-1\n",
    "            if p1 or p2:\n",
    "                while arr[p1] == target and p1<=len(arr)-1:\n",
    "                    count+=1\n",
    "                    p1+=1\n",
    "                while arr[p2] == target and p2>=0:\n",
    "                    count+=1\n",
    "                    p2-=1\n",
    "            break\n",
    "    return count       \n",
    "    \n",
    "arr = [ 8, 8, 8, 16, 23, 23, 42, 44,45,47,49,52,56]\n",
    "target = 44\n",
    "    \n",
    "function(arr, target)\n",
    "    "
   ]
  },
  {
   "cell_type": "code",
   "execution_count": 9,
   "metadata": {
    "scrolled": true
   },
   "outputs": [
    {
     "name": "stdout",
     "output_type": "stream",
     "text": [
      "OrderedDict([(2, 1), (3, 2), (4, 2), (5, 1), (1, 1), (6, 1)])\n"
     ]
    }
   ],
   "source": [
    "from collections import OrderedDict\n",
    "arr = [2,3,3,4,4,5,1,6]\n",
    "d = OrderedDict()\n",
    "for i in arr:\n",
    "    if i in d:\n",
    "        d[i] +=1\n",
    "    else:\n",
    "        d[i] = 1\n",
    "print(d)"
   ]
  },
  {
   "cell_type": "code",
   "execution_count": 1,
   "metadata": {},
   "outputs": [],
   "source": [
    "# check if pairsum exists in the two dimensional array(matrix)\n",
    "def check_pairSumExists(row, col, arr, target):\n",
    "    pass"
   ]
  },
  {
   "cell_type": "code",
   "execution_count": 28,
   "metadata": {},
   "outputs": [
    {
     "data": {
      "text/plain": [
       "True"
      ]
     },
     "execution_count": 28,
     "metadata": {},
     "output_type": "execute_result"
    }
   ],
   "source": [
    "def check_pairsum_exists1(arr, target): # O(n^2)T and O(1)S --> Bruteforce appraoch\n",
    "    for i in range(len(arr)):\n",
    "        for j in range(i+1, len(arr)):\n",
    "            if arr[i]+arr[j] == target:\n",
    "                return True\n",
    "    return False\n",
    "\n",
    "def check_pairsum_exists2(arr, target): # sort + binary search --> O(n logn)T and O(n)S-> merge sort, O(1)S-> heap sort\n",
    "    arr.sort()\n",
    "    for i in range(len(arr)):\n",
    "        e = arr[i]\n",
    "        arr.remove(arr[i])\n",
    "        x = binary_search(arr,0,len(arr)-1, target-e)\n",
    "        arr.insert(i, e)\n",
    "        if x: return True\n",
    "    return False\n",
    "def binary_search(arr, start, end, target):\n",
    "    while start <= end:\n",
    "        mid = start+(end-start)//2\n",
    "        if arr[mid] == target: return True\n",
    "        elif arr[mid] > target: end = mid-1\n",
    "        else: start = mid+1\n",
    "    return False\n",
    "        \n",
    "    \n",
    "def check_pairsum_exists3(arr, target): #O(n logn)T and O(1)s -> heapsort, O(n)->merge sort\n",
    "    arr.sort()\n",
    "    i, j = 0, len(arr)-1\n",
    "    while i<j:\n",
    "        if arr[i]+arr[j] == target:\n",
    "            return True\n",
    "        elif arr[i]+arr[j] > target:\n",
    "            j-=1\n",
    "        else: i+=1\n",
    "    return False\n",
    "\n",
    "\n",
    "def check_pairsum_exists4(arr, target): #\n",
    "    hashset = set()\n",
    "    for i in arr:\n",
    "        if target-i in hashset:\n",
    "            return True\n",
    "        else:\n",
    "            hashset.add(i)\n",
    "    return False\n",
    "    \n",
    "    \n",
    "arr = [-5, 1, -40, 20, 6, 8, 7 ]\n",
    "target = -34\n",
    "check_pairsum_exists4(arr, target)"
   ]
  },
  {
   "cell_type": "code",
   "execution_count": 1,
   "metadata": {},
   "outputs": [
    {
     "data": {
      "text/plain": [
       "5"
      ]
     },
     "execution_count": 1,
     "metadata": {},
     "output_type": "execute_result"
    }
   ],
   "source": [
    "# maximum length of subarry sum equals to k\n",
    "def function(arr, k):\n",
    "    d = {0:-1}\n",
    "    current = 0\n",
    "    res = 0\n",
    "    for i in range(len(arr)):\n",
    "        current += arr[i]\n",
    "        if current not in d:\n",
    "            d[current] = i\n",
    "        if current - k in d:\n",
    "            res = max(res, i-d[current-k])\n",
    "    return res\n",
    "arr = [-2,-1,2,1,1]\n",
    "k = 1\n",
    "function(arr, k)"
   ]
  },
  {
   "cell_type": "code",
   "execution_count": 3,
   "metadata": {},
   "outputs": [
    {
     "name": "stdout",
     "output_type": "stream",
     "text": [
      "0\n"
     ]
    },
    {
     "data": {
      "text/plain": [
       "0"
      ]
     },
     "execution_count": 3,
     "metadata": {},
     "output_type": "execute_result"
    }
   ],
   "source": [
    "def function(arr, target):\n",
    "    start = 0\n",
    "    end = len(arr)-1\n",
    "    while start <= end:\n",
    "        mid = start +(end-start)//2\n",
    "        print(mid)\n",
    "        if arr[mid] == target: return mid\n",
    "        elif arr[mid]>target: end = mid-1\n",
    "        else: start = mid+1\n",
    "    return -1\n",
    "\n",
    "\n",
    "arr = [5]\n",
    "t = 5\n",
    "function(arr, t)"
   ]
  },
  {
   "cell_type": "code",
   "execution_count": 32,
   "metadata": {},
   "outputs": [
    {
     "name": "stdout",
     "output_type": "stream",
     "text": [
      "1111111111111110100010001111111\n"
     ]
    },
    {
     "data": {
      "text/plain": [
       "3"
      ]
     },
     "execution_count": 32,
     "metadata": {},
     "output_type": "execute_result"
    }
   ],
   "source": [
    "# Maximum binary gap:\n",
    "def Binary_gap(n):\n",
    "    n = str(bin(n))\n",
    "    s = n[2:]\n",
    "    print(s)\n",
    "    p1, p2 = 0, 0\n",
    "    res = 0\n",
    "    while p1 < len(s) and p2<len(s):\n",
    "        if s[p1]=='1':\n",
    "            p1+=1\n",
    "            p2+=1\n",
    "        else:\n",
    "            p2+=1\n",
    "            while (p2 < len(s) and s[p2]== '0'):\n",
    "                p2+=1\n",
    "            if p2 < len(s) and p2-p1 > res:\n",
    "                res = p2-p1\n",
    "            p1=p2     \n",
    "    return res\n",
    "n = 2147435647\n",
    "Binary_gap(n)\n",
    "            "
   ]
  },
  {
   "cell_type": "code",
   "execution_count": 1,
   "metadata": {},
   "outputs": [
    {
     "data": {
      "text/plain": [
       "[6, 10, 12, 8, 4, 13, 11, 9, 5, 7, 3, 1]"
      ]
     },
     "execution_count": 1,
     "metadata": {},
     "output_type": "execute_result"
    }
   ],
   "source": [
    "#4/7/2021\n",
    "# even_odd array\n",
    "\n",
    "def even_odd(arr):\n",
    "    p1, p2 = 0, len(arr)-1\n",
    "    while p1 < p2:\n",
    "        if arr[p1] % 2 == 0:\n",
    "            p1 += 1\n",
    "        else:\n",
    "            arr[p1], arr[p2] = arr[p2], arr[p1]\n",
    "            p2 -= 1\n",
    "    return arr\n",
    "\n",
    "arr = [1,7,9,8,4,13,12,11,10,5,6,3]\n",
    "even_odd(arr)"
   ]
  },
  {
   "cell_type": "code",
   "execution_count": 14,
   "metadata": {},
   "outputs": [
    {
     "data": {
      "text/plain": [
       "[[1, 4, 9], [16, 25, 36]]"
      ]
     },
     "execution_count": 14,
     "metadata": {},
     "output_type": "execute_result"
    }
   ],
   "source": [
    "arr = [[1,2,3],[4,5,6]]\n",
    "[x for row in arr for x in row]\n",
    "[[x**2 for x in row] for row in arr]"
   ]
  },
  {
   "cell_type": "code",
   "execution_count": 7,
   "metadata": {},
   "outputs": [
    {
     "name": "stdout",
     "output_type": "stream",
     "text": [
      "[2, 1, 3, 4, 6, 8, 9, 7, 10]\n"
     ]
    },
    {
     "data": {
      "text/plain": [
       "[2, 1, 3, 4, 10, 6, 8, 9, 7]"
      ]
     },
     "execution_count": 7,
     "metadata": {},
     "output_type": "execute_result"
    }
   ],
   "source": [
    "# The Dutch national flag problem\n",
    "def dutch_national_1(arr, pivot_idx): # time -> O(n^2), space -> O(1)\n",
    "    pivot = arr[pivot_idx]\n",
    "    for i in range(len(arr)):\n",
    "        for j in range(i+1, len(arr)):\n",
    "            if arr[j]<pivot:\n",
    "                arr[i], arr[j] = arr[j], arr[i]\n",
    "                break\n",
    "    for i in reversed(range(len(arr))):\n",
    "        for j in reversed(range(i)):\n",
    "            if arr[j]> pivot:\n",
    "                arr[i], arr[j] = arr[j], arr[i]\n",
    "                break\n",
    "    return arr\n",
    "\n",
    "\"\"\"\n",
    "pivot = 4\n",
    "[8,6,2,4,1,3,9,7,10]\n",
    "\n",
    "\n",
    "\"\"\"\n",
    "\n",
    "def dutch_national_2(arr, pivot_idx): # time -> O(n), space -> O(1)\n",
    "    pivot = arr[pivot_idx]\n",
    "    smaller = 0\n",
    "    for i in range(len(arr)):\n",
    "        if arr[i]<pivot:\n",
    "            arr[i], arr[smaller] = arr[smaller], arr[i]\n",
    "            smaller += 1\n",
    "    larger = len(arr)-1        \n",
    "    for i in reversed(range(len(arr))):\n",
    "        if arr[i]>pivot:\n",
    "            arr[i], arr[larger] = arr[larger], arr[i]\n",
    "            larger -= 1\n",
    "    return arr\n",
    "\n",
    "def dutch_national_3(arr, pivot_idx): # time -> O(n), space -> O(1)\n",
    "    pivot = arr[pivot_idx]\n",
    "    smaller, equal, larger = 0, 0, len(arr)\n",
    "    while equal < larger:\n",
    "        if arr[equal] < pivot:\n",
    "            arr[smaller], arr[equal] = arr[equal], arr[smaller]\n",
    "            smaller += 1\n",
    "            equal += 1\n",
    "        elif arr[equal] == pivot:\n",
    "            equal += 1\n",
    "        else:\n",
    "            larger -= 1\n",
    "            arr[equal], arr[larger] = arr[larger], arr[equal]\n",
    "    return arr\n",
    "\n",
    "\n",
    "arr = [8,6,2,4,1,3,9,7,10]\n",
    "dutch_national_1(arr, 3)\n",
    "    "
   ]
  },
  {
   "cell_type": "code",
   "execution_count": 12,
   "metadata": {},
   "outputs": [
    {
     "data": {
      "text/plain": [
       "[2, 2, 2, 2, 2, 2, 2, 2, 2, 3, 3, 3, 3, 3, 4, 4, 4, 4, 4, 4]"
      ]
     },
     "execution_count": 12,
     "metadata": {},
     "output_type": "execute_result"
    }
   ],
   "source": [
    "# variant-1, page 44:\n",
    "# grouping the same values together( three kinds)\n",
    "\n",
    "def grouping_together(arr):\n",
    "    st = sorted(set(arr))\n",
    "    pivot = st[1]\n",
    "    smaller, equal, larger = 0, 0, len(arr)\n",
    "    while equal < larger:\n",
    "        if arr[equal] < pivot:\n",
    "            arr[smaller], arr[equal] = arr[equal], arr[smaller]\n",
    "            smaller += 1\n",
    "            equal += 1\n",
    "        elif arr[equal] == pivot:\n",
    "            equal += 1\n",
    "        else:\n",
    "            larger -= 1\n",
    "            arr[larger], arr[equal] = arr[equal], arr[larger]\n",
    "    return arr\n",
    "    \n",
    "\n",
    "arr = [2,2,3,4,4,2,3,4,2,3,4,4,2,3,2,2,4,3,2,2]\n",
    "grouping_together(arr)"
   ]
  },
  {
   "cell_type": "code",
   "execution_count": 28,
   "metadata": {},
   "outputs": [
    {
     "name": "stdout",
     "output_type": "stream",
     "text": [
      "[1, 2, 3, 4]\n"
     ]
    },
    {
     "data": {
      "text/plain": [
       "[1, 1, 1, 1, 1, 1, 2, 2, 2, 2, 2, 2, 2, 3, 3, 3, 3, 3, 4, 4, 4, 4, 4, 4]"
      ]
     },
     "execution_count": 28,
     "metadata": {},
     "output_type": "execute_result"
    }
   ],
   "source": [
    "# variant-2, page 44:\n",
    "# grouping the same values together(Four kind)\n",
    "def grouping_together_1(arr):\n",
    "    st = list(set(arr))\n",
    "    print(st)\n",
    "    i = 0\n",
    "    start= 0\n",
    "    while i < len(st):\n",
    "        current = st[i]\n",
    "        start2 = start\n",
    "        while start2 < len(arr):\n",
    "            if arr[start2] == current:\n",
    "                arr[start], arr[start2] = arr[start2], arr[start]\n",
    "                start += 1\n",
    "                start2 += 1\n",
    "            else:\n",
    "                start2 += 1\n",
    "        i += 1\n",
    "    return arr\n",
    "arr = [2,2,3,4,4,1,1,2,1,3,4,1,2,3,1,4,4,1,2,3,2,2,4,3]\n",
    "arr2 = [1,2,3,4,1,2,3,4]\n",
    "grouping_together_1(arr)\n"
   ]
  },
  {
   "cell_type": "code",
   "execution_count": 29,
   "metadata": {},
   "outputs": [
    {
     "data": {
      "text/plain": [
       "['false', 'false', 'false', 'true', 'true', 'true']"
      ]
     },
     "execution_count": 29,
     "metadata": {},
     "output_type": "execute_result"
    }
   ],
   "source": [
    "# Variant-3, page 44:\n",
    "# grouping booleans\n",
    "def grouping_booleans(arr):\n",
    "    start, end = 0, len(arr)-1\n",
    "    while start < end:\n",
    "        if arr[end] == \"true\":\n",
    "            end -= 1\n",
    "        elif arr[start] == \"false\":\n",
    "            start += 1\n",
    "        elif arr[start] != arr[end]:\n",
    "            arr[start], arr[end] = arr[end], arr[start]\n",
    "            start += 1\n",
    "            end -= 1\n",
    "    return arr\n",
    "\n",
    "arr = [\"true\", \"false\", \"false\", \"true\", \"true\", \"false\"]\n",
    "grouping_booleans(arr)"
   ]
  },
  {
   "cell_type": "code",
   "execution_count": 6,
   "metadata": {},
   "outputs": [
    {
     "name": "stdout",
     "output_type": "stream",
     "text": [
      "hi\n"
     ]
    },
    {
     "data": {
      "text/plain": [
       "[1, 0, 0]"
      ]
     },
     "execution_count": 6,
     "metadata": {},
     "output_type": "execute_result"
    }
   ],
   "source": [
    "# Increment an arbitary precision integer:\n",
    "def plus_one(arr):\n",
    "    arr[-1] += 1\n",
    "    for i in reversed(range(1, len(arr))):\n",
    "        if arr[i] != 10: break\n",
    "        arr[i] = 0\n",
    "        arr[i-1] += 1\n",
    "    else:\n",
    "        if arr[0] == 10:\n",
    "            arr[0] = 1\n",
    "            arr.append(0)\n",
    "    return arr\n",
    "\n",
    "arr = [9,9]\n",
    "plus_one(arr)"
   ]
  },
  {
   "cell_type": "code",
   "execution_count": 19,
   "metadata": {},
   "outputs": [
    {
     "name": "stdout",
     "output_type": "stream",
     "text": [
      "[0, 1]\n"
     ]
    },
    {
     "data": {
      "text/plain": [
       "[1]"
      ]
     },
     "execution_count": 19,
     "metadata": {},
     "output_type": "execute_result"
    }
   ],
   "source": [
    "# Multiply two arbitary precision arrays:\n",
    "def multiply_arrays(arr1, arr2):\n",
    "    sign = -1 if (arr1[0]<0) ^ (arr2[0]<0) else 1\n",
    "    arr1[0] = abs(arr1[0])\n",
    "    arr2[0] = abs(arr2[0])\n",
    "    res = [0]*(len(arr1)+len(arr2))\n",
    "    for i in reversed(range(len(arr1))):\n",
    "        for j in reversed(range(len(arr2))):\n",
    "            res[i+j+1] += arr1[i]*arr2[j]\n",
    "            res[i+j] += res[i+j+1]//10\n",
    "            res[i+j+1] %= 10\n",
    "    print(res)\n",
    "    res = res[next((i for i,x in enumerate(res) if x != 0), len(res)):] or [0]\n",
    "    return [sign*res[0]]+res[1:]\n",
    "\n",
    "arr1 = [1] #9\n",
    "arr2 = [1] #12\n",
    "multiply_arrays(arr1, arr2)"
   ]
  },
  {
   "cell_type": "code",
   "execution_count": 12,
   "metadata": {},
   "outputs": [
    {
     "data": {
      "text/plain": [
       "True"
      ]
     },
     "execution_count": 12,
     "metadata": {},
     "output_type": "execute_result"
    }
   ],
   "source": [
    "# Advancing through an array:\n",
    "def can_reach_end(arr ): # O(n) Time\n",
    "    current_reach = 0\n",
    "    last = len(arr)-1\n",
    "    i = 0\n",
    "    while i <= current_reach and current_reach < last:\n",
    "        current_reach = max(current_reach, i + arr[i])\n",
    "        i += 1\n",
    "    return current_reach >= last\n",
    "\n",
    "arr = [1,5,2,1,3,0,0,2,1,1]\n",
    "can_reach_end(arr)\n",
    "    "
   ]
  },
  {
   "cell_type": "code",
   "execution_count": 14,
   "metadata": {},
   "outputs": [
    {
     "data": {
      "text/plain": [
       "4"
      ]
     },
     "execution_count": 14,
     "metadata": {},
     "output_type": "execute_result"
    }
   ],
   "source": [
    "# Variant - 1, page 47\n",
    "# write a program to compute the minimum number of steps needed to advance to the last location of the array:\n",
    "def min_steps(arr):\n",
    "    res = 0\n",
    "    current_reach = previous = 0\n",
    "    last = len(arr)-1\n",
    "    i = 0\n",
    "    while i <= current_reach and current_reach < last:\n",
    "        current_reach = max(current_reach, i + arr[i])\n",
    "        if current_reach != previous:\n",
    "            res += 1\n",
    "            previous = current_reach\n",
    "        i += 1\n",
    "    return res\n",
    "arr = [1,5,2,1,3,0,0,2,1,1]\n",
    "min_steps(arr)"
   ]
  },
  {
   "cell_type": "code",
   "execution_count": 17,
   "metadata": {},
   "outputs": [
    {
     "name": "stdout",
     "output_type": "stream",
     "text": [
      "[2, 3, 5, 7, 11, 13, 11, 11, 13]\n"
     ]
    },
    {
     "data": {
      "text/plain": [
       "6"
      ]
     },
     "execution_count": 17,
     "metadata": {},
     "output_type": "execute_result"
    }
   ],
   "source": [
    "# delete duplicates from the sorted array and return the number of valid elements\n",
    "def delete_duplicates(arr):\n",
    "    if not arr: return 0\n",
    "    idx = 1\n",
    "    for i in range(1, len(arr)):\n",
    "        if arr[idx-1] != arr[i]:\n",
    "            arr[idx] = arr[i]\n",
    "            idx += 1\n",
    "    print(arr)\n",
    "    return idx\n",
    "\n",
    "arr = [2,3,5,5,7,11,11,11,13]\n",
    "delete_duplicates(arr)"
   ]
  },
  {
   "cell_type": "code",
   "execution_count": 3,
   "metadata": {},
   "outputs": [
    {
     "data": {
      "text/plain": [
       "[3, 7, 3, 4, 5, 7, 1, 9, 4]"
      ]
     },
     "execution_count": 3,
     "metadata": {},
     "output_type": "execute_result"
    }
   ],
   "source": [
    "# Variant - 1, page 48\n",
    "def delete_all_occurances(arr, key): # O(n) time and O(1) space\n",
    "    i = j = 0\n",
    "    while j < len(arr):\n",
    "        while arr[j] == key:\n",
    "            j += 1\n",
    "        arr[i], arr[j] = arr[j], arr[i]\n",
    "        i += 1\n",
    "        j += 1       \n",
    "    return arr[:i]\n",
    "\n",
    "arr = [2,3,7,2,2,2,3,4,5,7,2,2,1,9,4]\n",
    "key = 2\n",
    "delete_all_occurances(arr, key)"
   ]
  },
  {
   "cell_type": "code",
   "execution_count": null,
   "metadata": {},
   "outputs": [],
   "source": [
    "# Variant 2, page 48:\n"
   ]
  },
  {
   "cell_type": "code",
   "execution_count": 15,
   "metadata": {},
   "outputs": [
    {
     "data": {
      "text/plain": [
       "30"
      ]
     },
     "execution_count": 15,
     "metadata": {},
     "output_type": "execute_result"
    }
   ],
   "source": [
    "# buy and sell the stock once:\n",
    "# method 1:\n",
    "def buy_sell_stock(arr): # bruteforce approach -> O(n^2) time and O(1) space\n",
    "    res = float(\"-inf\")\n",
    "    for i in range(len(arr)-1):\n",
    "        for j in range(i, len(arr)):\n",
    "            if arr[j] - arr[i] > res:\n",
    "                res = arr[j] - arr[i]\n",
    "    return res\n",
    "\n",
    "def buy_sell_stock_2(arr): # divide and conquer\n",
    "    pass\n",
    "\n",
    "def buy_sell_stock_3(arr): # O(n) time, and O(1) space\n",
    "    min_so_far = float(\"inf\")\n",
    "    max_profit = 0\n",
    "    for price in arr:\n",
    "        today_profit = price - min_so_far\n",
    "        max_profit = max(max_profit, today_profit)\n",
    "        min_so_far = min(min_so_far, price)\n",
    "    return max_profit\n",
    "        \n",
    "\n",
    "arr = [310,315,275,295,260,270,290,230,255,250]\n",
    "buy_sell_stock_3(arr)"
   ]
  },
  {
   "cell_type": "code",
   "execution_count": 26,
   "metadata": {},
   "outputs": [
    {
     "data": {
      "text/plain": [
       "6"
      ]
     },
     "execution_count": 26,
     "metadata": {},
     "output_type": "execute_result"
    }
   ],
   "source": [
    "# Variant 1, page 50\n",
    "def max_subarray_length(arr):\n",
    "    max_length = 0\n",
    "    i, j = 0, 0\n",
    "    while j < len(arr):\n",
    "        count = 0\n",
    "        while j < len(arr) and arr[i] == arr[j]:\n",
    "            count += 1\n",
    "            j += 1\n",
    "        max_length = max(max_length, count)\n",
    "        i = j\n",
    "    return max(max_length, count)\n",
    "\n",
    "arr = [1,2,2,2,3,3,3,3,4,4,5,6,7,7,7,7,7,7]\n",
    "max_subarray_length(arr)"
   ]
  },
  {
   "cell_type": "code",
   "execution_count": 3,
   "metadata": {},
   "outputs": [
    {
     "data": {
      "text/plain": [
       "115"
      ]
     },
     "execution_count": 3,
     "metadata": {},
     "output_type": "execute_result"
    }
   ],
   "source": [
    "# buy and sell stock twice:\n",
    "\n",
    "def buy_and_sell_twice(arr):\n",
    "    # dynamic programming:\n",
    "    if len(arr)<=1: return 0\n",
    "    leftMin, rightMax = arr[0], arr[-1]\n",
    "    leftProfits, rightProfits = [0]*len(arr), [0]*(len(arr)+1)\n",
    "    for i in range(1, len(arr)):\n",
    "        leftProfits[i] = max(leftProfits[i-1], arr[i]-leftMin)\n",
    "        leftMin = min(leftMin, arr[i])\n",
    "        r = len(arr)-1-i\n",
    "        rightProfits[r] = max(rightProfits[r+1], rightMax-arr[r])\n",
    "        rightMax = max(rightMax, arr[i])\n",
    "    max_profit = 0\n",
    "    for i in range(len(arr)):\n",
    "        max_profit = max(max_profit, leftProfits[i]+rightProfits[i+1])\n",
    "    return max_profit\n",
    "    \n",
    "def buy_and_sell_twice_2(arr):\n",
    "    t1_cost = t2_cost = float(\"inf\")\n",
    "    t1_profit = t2_profit = 0\n",
    "    for price in prices:\n",
    "        t1_cost = min(t1_cost, price)\n",
    "        t1_profit = max(t1_profit, price-t1_cost)\n",
    "            \n",
    "        t2_cost = min(t2_cost, price-t1_profit)\n",
    "        t2_profit = max(t2_profit, price-t2_cost)   \n",
    "    return t2_profit\n",
    "\n",
    "\n",
    "arr = [310,315,275,295,260,270,290,230,255,250]\n",
    "buy_and_sell_twice(arr)"
   ]
  },
  {
   "cell_type": "code",
   "execution_count": 1,
   "metadata": {},
   "outputs": [
    {
     "data": {
      "text/plain": [
       "80"
      ]
     },
     "execution_count": 1,
     "metadata": {},
     "output_type": "execute_result"
    }
   ],
   "source": [
    "# buy and sell stocks to get the maximum profit and we can do as many transactions as we want\n",
    "def buy_sell_1(arr):\n",
    "    # peak-valley approach\n",
    "    i,max_profit = 0, 0\n",
    "    valley = peak = arr[0]\n",
    "    while i< len(arr)-1:\n",
    "        # we need to find the valley:\n",
    "        while i < len(arr)-1 and arr[i]>=arr[i+1]: i+=1\n",
    "        valley = arr[i]\n",
    "        # we need to find the peak\n",
    "        while i < len(arr)-1 and arr[i] <= arr[i+1]: i+=1\n",
    "        peak = arr[i]\n",
    "        max_profit += peak - valley\n",
    "    return max_profit\n",
    "\n",
    "def buy_sell_2(arr):\n",
    "    max_profit = 0\n",
    "    for i in range(1, len(arr)):\n",
    "        if arr[i]>arr[i-1]:\n",
    "            max_profit += arr[i]-arr[i-1]\n",
    "    return max_profit\n",
    "\n",
    "arr = [310,315,275,295,260,270,290,230,255,250]\n",
    "buy_sell_2(arr)"
   ]
  },
  {
   "cell_type": "code",
   "execution_count": null,
   "metadata": {},
   "outputs": [],
   "source": [
    "#Find the maximum profit you can achieve. You may complete at most k transactions.\n"
   ]
  },
  {
   "cell_type": "code",
   "execution_count": 8,
   "metadata": {},
   "outputs": [
    {
     "data": {
      "text/plain": [
       "1"
      ]
     },
     "execution_count": 8,
     "metadata": {},
     "output_type": "execute_result"
    }
   ],
   "source": [
    "def function(arr):\n",
    "    res = float(\"-inf\")\n",
    "    mini = float(\"inf\")\n",
    "    for i in range(len(arr)):\n",
    "        if abs(arr[i]) <= mini and res < arr[i]:\n",
    "            mini = abs(arr[i])\n",
    "            res = arr[i]\n",
    "    return res\n",
    "\n",
    "arr = [-2,1,2,3]\n",
    "function(arr)"
   ]
  }
 ],
 "metadata": {
  "kernelspec": {
   "display_name": "Python 3",
   "language": "python",
   "name": "python3"
  },
  "language_info": {
   "codemirror_mode": {
    "name": "ipython",
    "version": 3
   },
   "file_extension": ".py",
   "mimetype": "text/x-python",
   "name": "python",
   "nbconvert_exporter": "python",
   "pygments_lexer": "ipython3",
   "version": "3.7.0"
  }
 },
 "nbformat": 4,
 "nbformat_minor": 2
}
