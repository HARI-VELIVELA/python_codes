{
 "cells": [
  {
   "cell_type": "code",
   "execution_count": 2,
   "metadata": {},
   "outputs": [
    {
     "data": {
      "text/plain": [
       "4"
      ]
     },
     "execution_count": 2,
     "metadata": {},
     "output_type": "execute_result"
    }
   ],
   "source": [
    "# check for number of bits(1's) in a binary formatted number\n",
    "\n",
    "def count_bits(x):\n",
    "    result = 0\n",
    "    while x:\n",
    "        result += x&1\n",
    "        x >>= 1\n",
    "    return result\n",
    "\n",
    "count_bits(15)"
   ]
  },
  {
   "cell_type": "code",
   "execution_count": 5,
   "metadata": {},
   "outputs": [
    {
     "data": {
      "text/plain": [
       "0"
      ]
     },
     "execution_count": 5,
     "metadata": {},
     "output_type": "execute_result"
    }
   ],
   "source": [
    "# check for parity bits(even number of 1's --> 0, odd number of 1's --> 1)\n",
    "# 1. Brute force approach\n",
    "\n",
    "def parity(x):\n",
    "    result = 0\n",
    "    while x:\n",
    "        result ^= x&1\n",
    "        x >>= 1\n",
    "    return result\n",
    "parity(15)\n",
    "        "
   ]
  },
  {
   "cell_type": "code",
   "execution_count": 9,
   "metadata": {},
   "outputs": [
    {
     "data": {
      "text/plain": [
       "1"
      ]
     },
     "execution_count": 9,
     "metadata": {},
     "output_type": "execute_result"
    }
   ],
   "source": [
    "# 2. erasing the lowest bit\n",
    "def parityTwo(x):\n",
    "    result = 0\n",
    "    while x:\n",
    "        result ^= 1\n",
    "        x &= x-1\n",
    "    return result\n",
    "\n",
    "parityTwo(14)"
   ]
  },
  {
   "cell_type": "code",
   "execution_count": 12,
   "metadata": {},
   "outputs": [
    {
     "ename": "IndentationError",
     "evalue": "unexpected indent (<ipython-input-12-651fd972cd18>, line 7)",
     "output_type": "error",
     "traceback": [
      "\u001b[1;36m  File \u001b[1;32m\"<ipython-input-12-651fd972cd18>\"\u001b[1;36m, line \u001b[1;32m7\u001b[0m\n\u001b[1;33m    PRECOMPUTED_PARITY[(x >> (2* MASK_SIZE)) & BIT_MASK] ^\u001b[0m\n\u001b[1;37m    ^\u001b[0m\n\u001b[1;31mIndentationError\u001b[0m\u001b[1;31m:\u001b[0m unexpected indent\n"
     ]
    }
   ],
   "source": [
    "# 3. for 64 Bit number\n",
    "\n",
    "def parityThree(x):\n",
    "    MASK_SIZE = 16\n",
    "    BIT_MASK = 0xFFFF\n",
    "    return(PRECOMPUTED_PARITY[x >> (3*MASK_SIZE)] ^\n",
    "           PRECOMPUTED_PARITY[(x >> (2* MASK_SIZE)) & BIT_MASK] ^\n",
    "           PRECOMPUTED_PARITY[(x >> MASK_SIZE) & BIT_MASK]^\n",
    "           PRECOMPUTED_PARITY[x & BIT_MASK ])\n",
    "\n",
    "parityThree(105)"
   ]
  },
  {
   "cell_type": "code",
   "execution_count": 24,
   "metadata": {},
   "outputs": [
    {
     "data": {
      "text/plain": [
       "28"
      ]
     },
     "execution_count": 24,
     "metadata": {},
     "output_type": "execute_result"
    }
   ],
   "source": [
    "# Swapping the bits:\n",
    "def swapping(x,i,j):\n",
    "    if (x>>i)&1 != (x>>j)&1:\n",
    "        mask = 1<<i | 1<<j\n",
    "        x ^= mask\n",
    "    return x\n",
    "    \n",
    "swapping(21,0,3)"
   ]
  },
  {
   "cell_type": "code",
   "execution_count": 35,
   "metadata": {},
   "outputs": [
    {
     "data": {
      "text/plain": [
       "239"
      ]
     },
     "execution_count": 35,
     "metadata": {},
     "output_type": "execute_result"
    }
   ],
   "source": [
    "# reverse the bits: ---> using lookup table\n",
    "def reverse_bits(x):"
   ]
  },
  {
   "cell_type": "code",
   "execution_count": 8,
   "metadata": {},
   "outputs": [
    {
     "data": {
      "text/plain": [
       "11"
      ]
     },
     "execution_count": 8,
     "metadata": {},
     "output_type": "execute_result"
    }
   ],
   "source": [
    "# closest integer with the same weight\n",
    "\"\"\" weight of non-negative integer means the number of 1's present in it's binary representation\"\"\"\n",
    "\n",
    "def closest_integer(x):\n",
    "    #num = 64\n",
    "    for i in range(len(bin(x))-1):\n",
    "        if (x>>i)&1 != (x>>(i+1))&1:\n",
    "            x ^= (1<<i)| (1<<(i+1))\n",
    "        return x\n",
    "\n",
    "closest_integer(11)"
   ]
  },
  {
   "cell_type": "code",
   "execution_count": 9,
   "metadata": {},
   "outputs": [
    {
     "data": {
      "text/plain": [
       "30"
      ]
     },
     "execution_count": 9,
     "metadata": {},
     "output_type": "execute_result"
    }
   ],
   "source": [
    "def multiplication(x,y):\n",
    "    res = 0\n",
    "    for i in range(x):\n",
    "        res += y\n",
    "    return res\n",
    "\n",
    "multiplication(10,3)\n",
    "        "
   ]
  },
  {
   "cell_type": "code",
   "execution_count": 14,
   "metadata": {},
   "outputs": [
    {
     "data": {
      "text/plain": [
       "32"
      ]
     },
     "execution_count": 14,
     "metadata": {},
     "output_type": "execute_result"
    }
   ],
   "source": [
    "# binary multiplication without using * symbol\n",
    "\n",
    "def multi(x,y):\n",
    "    def add(a,b):\n",
    "        running_sum, carryin,k,temp_a,temp_b = 0,0,1,a,b\n",
    "        while temp_a or temp_b:\n",
    "            ak,bk = a & k, b & k\n",
    "            carryout = (ak&bk) | (ak&carryin) | (bk&carryin)\n",
    "            running_sum = ak ^ bk ^ carryin\n",
    "            carryin,k,temp_a,temp_b = (carryout << 1, k << 1,temp_a >> 1,temp_b >> 1)\n",
    "        return running_sum | carryin\n",
    "    \n",
    "    running_sum = 0\n",
    "    while x:\n",
    "        if x&1:\n",
    "            running_sum = add(running_sum,y)\n",
    "        x,y = x >> 1,y << 1\n",
    "    return running_sum\n",
    "\n",
    "multi(10,5)\n",
    "            \n",
    "\"\"\" have to look into it again\"\"\""
   ]
  },
  {
   "cell_type": "markdown",
   "metadata": {},
   "source": [
    "#### Hari Velivela "
   ]
  },
  {
   "cell_type": "code",
   "execution_count": null,
   "metadata": {},
   "outputs": [],
   "source": []
  }
 ],
 "metadata": {
  "kernelspec": {
   "display_name": "Python 3",
   "language": "python",
   "name": "python3"
  },
  "language_info": {
   "codemirror_mode": {
    "name": "ipython",
    "version": 3
   },
   "file_extension": ".py",
   "mimetype": "text/x-python",
   "name": "python",
   "nbconvert_exporter": "python",
   "pygments_lexer": "ipython3",
   "version": "3.7.0"
  }
 },
 "nbformat": 4,
 "nbformat_minor": 2
}
