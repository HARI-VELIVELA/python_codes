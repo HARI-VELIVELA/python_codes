{
 "cells": [
  {
   "cell_type": "code",
   "execution_count": 2,
   "metadata": {},
   "outputs": [
    {
     "data": {
      "text/plain": [
       "33"
      ]
     },
     "execution_count": 2,
     "metadata": {},
     "output_type": "execute_result"
    }
   ],
   "source": [
    "# find the no.of sets of numbers that add to the target:\n",
    "# recursive solution:\n",
    "def count_sets(arr,target):\n",
    "    return rec(arr,target,len(arr)-1)\n",
    "\n",
    "def rec(arr,target,i):\n",
    "    # if target =0 means only empty subset is possible:\n",
    "    if target == 0:\n",
    "        return 1\n",
    "    elif target<0:\n",
    "        return 0\n",
    "    elif i<0:\n",
    "        return 0\n",
    "    elif total<arr[i]:\n",
    "        return rec(arr,target,i-1)\n",
    "    else:\n",
    "        return rec(arr,target-arr[i],i-1) + rec(arr,target,i-1)\n",
    "    \n",
    "nums = [2,4,6,10,11,15,6,2,1,8,18,17]\n",
    "total = 24\n",
    "\n",
    "count_sets(nums,total)\n",
    "    \n",
    "    "
   ]
  },
  {
   "cell_type": "code",
   "execution_count": 3,
   "metadata": {},
   "outputs": [
    {
     "data": {
      "text/plain": [
       "2"
      ]
     },
     "execution_count": 3,
     "metadata": {},
     "output_type": "execute_result"
    }
   ],
   "source": [
    "# using Dynamic Programming:\n",
    "def count_sets_dp(arr,target):\n",
    "    mem = {}\n",
    "    return dp(arr,target,len(arr)-1,mem)\n",
    "    \n",
    "def dp(arr,target,i,mem):\n",
    "    key = str(target) + \":\" + str(i)\n",
    "    if key in mem:\n",
    "        return mem[key]\n",
    "    if target == 0:\n",
    "        return 1\n",
    "    elif target<0:\n",
    "        return 0\n",
    "    elif i<0:\n",
    "        return 0\n",
    "    elif total<arr[i]:\n",
    "        to_return = dp(arr,target,i-1,mem)\n",
    "    else:\n",
    "        to_return = dp(arr,target - arr[i],i-1,mem) + dp(arr,target,i-1,mem)\n",
    "        \n",
    "    mem[key] = to_return\n",
    "\n",
    "    return to_return\n",
    "    \n",
    "    \n",
    "nums  = [2,4,6,10]\n",
    "total = 16\n",
    "count_sets_dp(nums,total)"
   ]
  },
  {
   "cell_type": "code",
   "execution_count": 13,
   "metadata": {
    "scrolled": true
   },
   "outputs": [
    {
     "data": {
      "text/plain": [
       "8"
      ]
     },
     "execution_count": 13,
     "metadata": {},
     "output_type": "execute_result"
    }
   ],
   "source": [
    "# recursive stair case problem:\n",
    "# recursion:\n",
    "\n",
    "def DP_function(n):\n",
    "    if n==0 or n==1:\n",
    "        return 1\n",
    "    else:\n",
    "        new = [0]*(n+1)\n",
    "        new[0] = 1\n",
    "        new[1] = 1\n",
    "        for i in range(2,n+1):\n",
    "            new[i] = new[i-1] + new[i-2]\n",
    "    return new[n] \n",
    "\n",
    "n = 5\n",
    "DP_function(n)\n"
   ]
  },
  {
   "cell_type": "code",
   "execution_count": 20,
   "metadata": {},
   "outputs": [
    {
     "data": {
      "text/plain": [
       "3"
      ]
     },
     "execution_count": 20,
     "metadata": {},
     "output_type": "execute_result"
    }
   ],
   "source": [
    "# if the arguments involved in function are no.of steps:\n",
    "\n",
    "def num_ways_x(n,x):\n",
    "    if  n==0:\n",
    "        return 1\n",
    "    total = 0\n",
    "    for i in x:\n",
    "        if n-i>=0:\n",
    "            total += num_ways_x(n-i,x)\n",
    "    return total\n",
    "\n",
    "s = 4\n",
    "x = [1,3,5]\n",
    "num_ways_x(s,x)"
   ]
  },
  {
   "cell_type": "code",
   "execution_count": 14,
   "metadata": {},
   "outputs": [],
   "source": [
    "def num_ways_x_bottom_up(n,x):\n",
    "    if n==0:\n",
    "        return 1\n",
    "    steps = [None]*(n+1)\n",
    "    steps[0] = 1\n",
    "    for i in range(1,n):\n",
    "        total = 0\n",
    "        for j in x:\n",
    "            if i-j>=0:\n",
    "                total += steps[i-j]\n",
    "        steps[i] = total\n",
    "    return steps[n]\n",
    "\n",
    "s = 4\n",
    "x = [1,3,5]\n",
    "num_ways_x_bottom_up(s,x)\n"
   ]
  },
  {
   "cell_type": "code",
   "execution_count": 5,
   "metadata": {},
   "outputs": [
    {
     "data": {
      "text/plain": [
       "3"
      ]
     },
     "execution_count": 5,
     "metadata": {},
     "output_type": "execute_result"
    }
   ],
   "source": [
    "# no of ways to decode the message:\n",
    "\n",
    "def helper(data, k):\n",
    "    if  k== 0:\n",
    "        return 1\n",
    "    s = len(data) - k\n",
    "    if data[s] == '0':\n",
    "        return 0\n",
    "    result = helper(data, k-1)\n",
    "    if k>=2 and int(data[s:s+2]) <= 26:\n",
    "        result += helper(data,k-2)\n",
    "    return result\n",
    "\n",
    "def No_ways(data):\n",
    "    return helper(data,len(data))\n",
    "\n",
    "No_ways(\"1236\")\n"
   ]
  },
  {
   "cell_type": "code",
   "execution_count": 13,
   "metadata": {},
   "outputs": [
    {
     "data": {
      "text/plain": [
       "2"
      ]
     },
     "execution_count": 13,
     "metadata": {},
     "output_type": "execute_result"
    }
   ],
   "source": [
    "# no of ways to decode the message:\n",
    "\n",
    "def helper(data, k, memo):\n",
    "    if k==0:\n",
    "        return 1\n",
    "    s = len(data) - k\n",
    "    if data[s] == '0':\n",
    "        return 0\n",
    "    if memo[k] != None:\n",
    "        return memo[k]\n",
    "    result = helper(data,k-1,memo)\n",
    "    if k>=2 and int(data[s:s+2]) <= 26:\n",
    "        result += helper(data, k-2, memo)\n",
    "    memo[k] = result\n",
    "    return result\n",
    "def no_ways_DP(data):\n",
    "    memo = [None]*(len(data)+1)\n",
    "    return helper(data,len(data),memo)\n",
    "no_ways_DP(\"12\")"
   ]
  },
  {
   "cell_type": "code",
   "execution_count": 5,
   "metadata": {},
   "outputs": [
    {
     "data": {
      "text/plain": [
       "[(-1, 0), (0, -2)]"
      ]
     },
     "execution_count": 5,
     "metadata": {},
     "output_type": "execute_result"
    }
   ],
   "source": [
    "# k closest points to the origin\n",
    "\"\"\" The operator module exports a set of efficient functions corresponding to the intrinsic operators of Python. \n",
    "    For example, operator.add(x, y) is equivalent to the expression x+y.\"\"\"\n",
    "import numpy as np\n",
    "import operator\n",
    "def function(points,k):\n",
    "    dict1 = {}\n",
    "    for i in points:\n",
    "        result = distance_to_origin(i[0],i[1])\n",
    "        dict1[i] = result\n",
    "    dict1 = sorted(dict1.items(), key = operator.itemgetter(1)) # it will give you the list as output\n",
    "    return [dict1[i][0] for i in range(k)]\n",
    "            \n",
    "    \n",
    "def distance_to_origin(x,y):\n",
    "    return np.sqrt((x)**2 + (y)**2)\n",
    "\n",
    "points = [(-2,4),(0,-2),(-1,0),(3,5),(-2,-3),(3,2)]\n",
    "\n",
    "function(points,2)"
   ]
  },
  {
   "cell_type": "code",
   "execution_count": 3,
   "metadata": {},
   "outputs": [
    {
     "data": {
      "text/plain": [
       "6"
      ]
     },
     "execution_count": 3,
     "metadata": {},
     "output_type": "execute_result"
    }
   ],
   "source": [
    "# leetcode 53:  Bruteforce solution gives you the O(n^2) time complexity \n",
    "\n",
    "# kadane's algorithm\n",
    "\n",
    "def max_subarray(arr):\n",
    "    max_current = arr[0]\n",
    "    max_global = arr[0]\n",
    "    for i in range(1, len(arr)):\n",
    "        max_current = max(arr[i], max_current+arr[i])\n",
    "        if max_current>max_global:\n",
    "            max_global = max_current\n",
    "            \n",
    "    return max_global\n",
    "\n",
    "max_subarray([-2,1,-3,4,-1,2,1,-5,4])\n",
    "            \n",
    "    \n"
   ]
  },
  {
   "cell_type": "code",
   "execution_count": 6,
   "metadata": {},
   "outputs": [
    {
     "data": {
      "text/plain": [
       "6"
      ]
     },
     "execution_count": 6,
     "metadata": {},
     "output_type": "execute_result"
    }
   ],
   "source": [
    "# leetcode 152: Maximum product sub array:\n",
    "\n",
    "def max_product_subarray(nums):\n",
    "    current_max = nums[0]\n",
    "    current_min = nums[0]\n",
    "    globl = nums[0]\n",
    "    for i in range(1, len(nums)):\n",
    "        temp = current_max\n",
    "        current_max = max(max(current_max*nums[i], current_min*nums[i]), nums[i])\n",
    "        current_min = min(min(temp*nums[i], current_min*nums[i]), nums[i])\n",
    "        \n",
    "        if current_max>globl:\n",
    "            globl = current_max\n",
    "            \n",
    "    return globl\n",
    "\n",
    "arr = [2,3,-2,4]\n",
    "max_product_subarray(arr)"
   ]
  },
  {
   "cell_type": "code",
   "execution_count": 12,
   "metadata": {},
   "outputs": [
    {
     "data": {
      "text/plain": [
       "8"
      ]
     },
     "execution_count": 12,
     "metadata": {},
     "output_type": "execute_result"
    }
   ],
   "source": [
    "# subarray product less tahn K : leetcode 713\n",
    "\n",
    "# we are using the sliding window technique right here\n",
    "def subarr_product(nums, k):\n",
    "    if (k<1):\n",
    "        return 0\n",
    "    product = 1\n",
    "    count = 0\n",
    "    left = 0\n",
    "    right =0\n",
    "    while right<len(nums):\n",
    "        product *= nums[right]\n",
    "        while(product>=k):\n",
    "            product /= nums[left]\n",
    "            left +=1\n",
    "        count += (right-left +1)\n",
    "        right += 1\n",
    "    return count\n",
    "\n",
    "arr = [10,5,2,6]\n",
    "k = 100\n",
    "subarr_product(arr,k)"
   ]
  },
  {
   "cell_type": "code",
   "execution_count": 15,
   "metadata": {},
   "outputs": [
    {
     "name": "stdout",
     "output_type": "stream",
     "text": [
      "[0, 1, 3, 6, 10, 15]\n"
     ]
    },
    {
     "data": {
      "text/plain": [
       "15"
      ]
     },
     "execution_count": 15,
     "metadata": {},
     "output_type": "execute_result"
    }
   ],
   "source": [
    "# sum of n numbers:\n",
    "def function(num):\n",
    "    dp = [0]*(num+1)\n",
    "    dp[0] = 0\n",
    "    dp[1] = 1\n",
    "    for i in range(2, len(dp)):\n",
    "        dp[i] = dp[i-1]+i\n",
    "    print(dp)\n",
    "    return dp[num]\n",
    "\n",
    "function(5)      \n",
    "        \n",
    "    "
   ]
  },
  {
   "cell_type": "code",
   "execution_count": 99,
   "metadata": {},
   "outputs": [
    {
     "name": "stdout",
     "output_type": "stream",
     "text": [
      "13\n",
      "17\n"
     ]
    }
   ],
   "source": [
    "# no of ways to climb the stair case: 1 - 3 steps\n",
    "def Num_ways1(n_steps):\n",
    "    \"\"\" here the objective is F(i) is the no .of ways to climb to i-th stair\"\"\"\n",
    "    a,b,c= 1,1,2\n",
    "    for i in range(3, n_steps+1):\n",
    "        d=a+b+c\n",
    "        a = b\n",
    "        b = c\n",
    "        c  = d\n",
    "    return d\n",
    "\n",
    "def Num_ways2(n_steps):\n",
    "    dp = [0]*(n_steps+1)\n",
    "    dp[0] = 1\n",
    "    dp[1] = 1\n",
    "    for i in range(2, len(dp)):\n",
    "        dp[i] = dp[i-1]+dp[i-2]\n",
    "    print(dp)\n",
    "    return dp[n_steps]\n",
    "\n",
    "def Num_ways3(n_steps, K):\n",
    "    dp = [0]*(n_steps+1)\n",
    "    dp[0] = 1\n",
    "    dp[1] = 1\n",
    "    for i in range(2, len(dp)):\n",
    "        for j in range(1,K+1):\n",
    "            dp[i]+=dp[i-j]\n",
    "    return dp[n_steps]\n",
    "# time complexity--> O(nK) and space complexity --> O(n), we can optimize the space complexity to O(K)\n",
    "def Num_ways4(n, k):\n",
    "    dp = [0]*(k+1)    \n",
    "    dp[0] = 1\n",
    "    for i in range(1, n+1):\n",
    "        for j in range(1,k+1):\n",
    "            if not i-j<0:\n",
    "                dp[j]+=dp[i-j]\n",
    "    return sum(dp[1:])\n",
    "\n",
    "#print(Num_ways2(4))\n",
    "print(Num_ways3(5,3))\n",
    "#print(Num_ways3(5,3))\n",
    "#print(Num_ways3(3,3))\n",
    "#print(Num_ways1(3))\n",
    "print(Num_ways4(4,3))"
   ]
  },
  {
   "cell_type": "code",
   "execution_count": 21,
   "metadata": {
    "collapsed": true
   },
   "outputs": [
    {
     "data": {
      "text/plain": [
       "[0, 1, 1, 2, 1, 2, 2, 3, 1]"
      ]
     },
     "execution_count": 21,
     "metadata": {},
     "output_type": "execute_result"
    }
   ],
   "source": [
    "# leetcode 338:\n",
    "def countBits(num):\n",
    "    res = []\n",
    "    for i in range(num+1):\n",
    "        res.append(count_ones(i))\n",
    "    return res\n",
    "def count_ones(digit):\n",
    "    digit = bin(digit)\n",
    "    print(digit)\n",
    "    count = 0\n",
    "    for i in range(2,len(digit)):\n",
    "        if digit[i]=='1':\n",
    "            count+=1\n",
    "    return count\n",
    "#countBits(2)\n",
    "#***********************************************\n",
    "\n",
    "def function2(num):\n",
    "    res = []\n",
    "    for i in range(num+1):\n",
    "        if i<2:\n",
    "            res.append(i%2)\n",
    "        else:\n",
    "            count = 0\n",
    "            while i>0:\n",
    "                div = i//2\n",
    "                if div*2==i:\n",
    "                    count+=0\n",
    "                    i=div\n",
    "                else:\n",
    "                    count+=1\n",
    "                    i = div\n",
    "            res.append(count)\n",
    "    return res\n",
    "#*****************************************************\n",
    "\n",
    "def function3(num):\n",
    "    result = [0, 1]\n",
    "    while(len(result) <= num): \n",
    "        result += list(map(lambda x: x + 1, result))\n",
    "    return result[:num+1]\n",
    "\n",
    "#**********************************************************\n",
    "def function4(num):\n",
    "    if num == 0:\n",
    "        return [0]\n",
    "    next_pow_2 = 1\n",
    "    idx = 0\n",
    "    res = [0 for i in range(num+1)]\n",
    "    for i in range(1, num+1):\n",
    "        if i==next_pow_2:\n",
    "            next_pow_2 *= 2\n",
    "            idx = 0\n",
    "        else:\n",
    "            idx+=1\n",
    "        res[i] = 1+res[idx]\n",
    "    return res\n",
    "#***********************************************************\n",
    "function4(8)"
   ]
  },
  {
   "cell_type": "code",
   "execution_count": 52,
   "metadata": {},
   "outputs": [],
   "source": [
    "# leetcode 191:\n",
    "def function1(n):\n",
    "    count = 0\n",
    "    n  = str(n)\n",
    "    for i in range(len(n)):\n",
    "        if n[i]=='1':\n",
    "            count+=1\n",
    "    return count\n",
    "########################################\n",
    "def function2(n):\n",
    "    n  = int(n)\n",
    "    count = 0\n",
    "    while n!=0:\n",
    "        count+=1\n",
    "        n&=(n-1)\n",
    "    return count\n",
    "\n",
    "#x = 00000000000000000000000000001011\n",
    "#function2(x)\n",
    "        "
   ]
  },
  {
   "cell_type": "code",
   "execution_count": 75,
   "metadata": {},
   "outputs": [
    {
     "name": "stdout",
     "output_type": "stream",
     "text": [
      "[0, 0, 0, 0, 0, 0, 0, 0, 0, 0, 0, 0, 0, 0, 0, 0, 0, 0, 0, 0, 0]\n",
      "[0, 1, 0, 0, 1, 0, 1, 1, 1, 0, 0, 0, 0, 0, 0, 0, 0, 0, 0, 0, 1]\n",
      "[0, 2, 4, 6, 7, 7, 7, 7, 9, 11, 13, 14, 14, 14, 14, 16, 18, 20, 21, 21, 21]\n"
     ]
    },
    {
     "data": {
      "text/plain": [
       "21"
      ]
     },
     "execution_count": 75,
     "metadata": {},
     "output_type": "execute_result"
    }
   ],
   "source": [
    "# leetcode 983\n",
    "# not done yet***************************************\n",
    "def function(days, cost):\n",
    "    n = days[len(days)-1]\n",
    "    dp = [0]*(n+1)\n",
    "    travel_day = [0]*(n+1)\n",
    "    print(travel_day)\n",
    "    for i in days:\n",
    "        travel_day[i] = 1\n",
    "    print(travel_day)\n",
    "    for i in range(1, len(dp)):\n",
    "        if travel_day[i]==0:\n",
    "            dp[i] = dp[i-1]\n",
    "        dp[i] = min(dp[i-1]+cost[0],dp[max(i-7,0)]+cost[1], dp[max(i-30,0)]+cost[2])\n",
    "    print(dp)\n",
    "    return dp[n]\n",
    "    \n",
    "days = [1,4,6,7,8,20]\n",
    "cost= [2,7,30]\n",
    "function(days, cost)"
   ]
  },
  {
   "cell_type": "code",
   "execution_count": 76,
   "metadata": {},
   "outputs": [
    {
     "ename": "SyntaxError",
     "evalue": "invalid syntax (<ipython-input-76-f1c3efae02b8>, line 3)",
     "output_type": "error",
     "traceback": [
      "\u001b[1;36m  File \u001b[1;32m\"<ipython-input-76-f1c3efae02b8>\"\u001b[1;36m, line \u001b[1;32m3\u001b[0m\n\u001b[1;33m    dp =\u001b[0m\n\u001b[1;37m         ^\u001b[0m\n\u001b[1;31mSyntaxError\u001b[0m\u001b[1;31m:\u001b[0m invalid syntax\n"
     ]
    }
   ],
   "source": [
    "# leetcode 198:\n",
    "def function(arr):\n",
    "    dp = "
   ]
  },
  {
   "cell_type": "code",
   "execution_count": 33,
   "metadata": {},
   "outputs": [
    {
     "name": "stdout",
     "output_type": "stream",
     "text": [
      "2\n"
     ]
    },
    {
     "data": {
      "text/plain": [
       "[8, 4, 5, 0, 0, 0, 0, 0]"
      ]
     },
     "execution_count": 33,
     "metadata": {},
     "output_type": "execute_result"
    }
   ],
   "source": [
    "# leetcode 1089:\n",
    "def function(arr):\n",
    "    p_d = 0\n",
    "    length = len(arr)-1\n",
    "    for i in range(length+1):\n",
    "        if i>length-p_d:\n",
    "            break\n",
    "        if arr[i] == 0:\n",
    "            if i == length-p_d:\n",
    "                arr[length] = 0\n",
    "                length-=1\n",
    "                break\n",
    "            p_d+=1\n",
    "    print(p_d)\n",
    "    last = length - p_d\n",
    "    for i in range(last,-1,-1):\n",
    "        if arr[i]==0 :\n",
    "            arr[i+p_d] = 0\n",
    "            p_d-=1\n",
    "            arr[i+p_d] = 0\n",
    "        else:\n",
    "            arr[i+p_d] = arr[i]\n",
    "    return arr\n",
    "arr = [8,4,5,0,0,0,0,7]\n",
    "function(arr)"
   ]
  },
  {
   "cell_type": "code",
   "execution_count": null,
   "metadata": {},
   "outputs": [],
   "source": [
    "# trapping the rainwater:\n",
    "# leetcode 1124"
   ]
  },
  {
   "cell_type": "code",
   "execution_count": 6,
   "metadata": {},
   "outputs": [
    {
     "data": {
      "text/plain": [
       "7520"
      ]
     },
     "execution_count": 6,
     "metadata": {},
     "output_type": "execute_result"
    }
   ],
   "source": [
    "import itertools\n",
    "def function(N):\n",
    "    N = str(N)\n",
    "    res = float('-inf')\n",
    "    for i in set(itertools.permutations(list(N)+['5'])):\n",
    "        x = \"\".join(i)\n",
    "        if int(x)>res:\n",
    "            res = int(x)\n",
    "    return res\n",
    "\n",
    "N = 270\n",
    "function(N)\n",
    "        "
   ]
  },
  {
   "cell_type": "code",
   "execution_count": 4,
   "metadata": {},
   "outputs": [
    {
     "data": {
      "text/plain": [
       "5"
      ]
     },
     "execution_count": 4,
     "metadata": {},
     "output_type": "execute_result"
    }
   ],
   "source": [
    "# maximum subarray problem:\n",
    "def max_subarray1(arr):\n",
    "    dp = [0]*(len(arr))\n",
    "    dp[0] = arr[0]\n",
    "    for i in range(1, len(arr)):\n",
    "        dp[i] = max(arr[i], dp[i-1]+arr[i])\n",
    "    return max(dp)\n",
    "\n",
    "def max_subarray2(arr):\n",
    "    max_seen = max_end = 0\n",
    "    for i in arr:\n",
    "        max_end = max(i, i+max_end)\n",
    "        max_seen = max(max_seen, max_end)\n",
    "    return max_seen\n",
    "    \n",
    "arr = [-2,3,1,-7,3,2,-1]\n",
    "max_subarray2(arr)"
   ]
  },
  {
   "cell_type": "code",
   "execution_count": 6,
   "metadata": {},
   "outputs": [
    {
     "data": {
      "text/plain": [
       "55"
      ]
     },
     "execution_count": 6,
     "metadata": {},
     "output_type": "execute_result"
    }
   ],
   "source": [
    "# fibanocci numbers\n",
    "def find_nth_fib(n):\n",
    "    if n<=1: return n\n",
    "    \n",
    "    f2, f1 = 0, 1\n",
    "    for i in range(1, n):\n",
    "        f = f2+f1\n",
    "        f2, f1 = f1, f\n",
    "    return f1\n",
    "\n",
    "n = 10\n",
    "find_nth_fib(n)"
   ]
  },
  {
   "cell_type": "code",
   "execution_count": 7,
   "metadata": {},
   "outputs": [
    {
     "name": "stdout",
     "output_type": "stream",
     "text": [
      "[[1, 0, 0, 0, 0, 0, 0, 0, 0, 0, 0, 0, 0, 0, 0, 0], [1, 0, 0, 0, 0, 0, 0, 0, 0, 0, 0, 0, 0, 0, 0, 0], [1, 0, 0, 0, 0, 0, 0, 0, 0, 0, 0, 0, 0, 0, 0, 0]]\n"
     ]
    },
    {
     "data": {
      "text/plain": [
       "[[1, 0, 1, 0, 1, 0, 1, 0, 1, 0, 1, 0, 1, 0, 1, 0],\n",
       " [1, 0, 1, 1, 1, 1, 2, 1, 2, 2, 2, 2, 3, 2, 3, 3],\n",
       " [1, 0, 1, 1, 1, 1, 2, 2, 2, 3, 3, 3, 4, 4, 5, 5]]"
      ]
     },
     "execution_count": 7,
     "metadata": {},
     "output_type": "execute_result"
    }
   ],
   "source": [
    "# count the number of score combinations:\n",
    "def num_combinations1(total, scores):\n",
    "    dp = [[1]+[0]*total for _ in scores]\n",
    "    print(dp)\n",
    "    \n",
    "    for i in range(len(scores)):\n",
    "        for j in range(1, total+1):\n",
    "            if i >= 1: without = dp[i-1][j]\n",
    "            else: without = 0\n",
    "            \n",
    "            if j >= scores[i]:\n",
    "                with_ = dp[i][j-scores[i]]\n",
    "            else: \n",
    "                with_ = 0\n",
    "                \n",
    "            dp[i][j] = with_ + without\n",
    "    return dp\n",
    "total = 15\n",
    "scores = [2,3,7]\n",
    "num_combinations1(total, scores)\n",
    "# time complexity: O(sn), O(sn)S"
   ]
  },
  {
   "cell_type": "code",
   "execution_count": 12,
   "metadata": {},
   "outputs": [
    {
     "data": {
      "text/plain": [
       "[1, 0, 1, 1, 1, 1, 2, 2, 2, 3, 3, 3, 4, 4, 5, 5]"
      ]
     },
     "execution_count": 12,
     "metadata": {},
     "output_type": "execute_result"
    }
   ],
   "source": [
    "# count the number of score combinations:\n",
    "def num_combinations2(total, scores):\n",
    "    dp = [1]+[0]*total\n",
    "    for i in range(len(scores)):\n",
    "        for j in range(1, total+1):\n",
    "            if j>=scores[i]:\n",
    "                dp[j] = dp[j]+dp[j-scores[i]]\n",
    "    return dp\n",
    "\n",
    "# time complexity --> O(ns)\n",
    "# space complexity --> O(s) --> n is the lenght of scores, s is the total score\n",
    "total = 15\n",
    "scores = [2,3,7]\n",
    "num_combinations2(total, scores)"
   ]
  },
  {
   "cell_type": "code",
   "execution_count": 19,
   "metadata": {},
   "outputs": [
    {
     "data": {
      "text/plain": [
       "4"
      ]
     },
     "execution_count": 19,
     "metadata": {},
     "output_type": "execute_result"
    }
   ],
   "source": [
    "# compute Levenshtein distance\n",
    "\"\"\" Levenshtein distance: minimum number of edits to make on the first string to equal to the second string. edits(insertion,\n",
    "    deletion, substitution)\"\"\"\n",
    "def levenshtein_dist(s1, s2):\n",
    "    def compute_dist(i1, i2):\n",
    "        if i1<0: return i2+1\n",
    "        elif i2<0: return i1+1\n",
    "        if s1[i1] == s2[i2]:\n",
    "            return compute_dist(i1-1, i2-1)\n",
    "        \n",
    "        sub_last = compute_dist(i1-1, i2-1)\n",
    "        add_last = compute_dist(i1, i2-1)\n",
    "        del_last = compute_dist(i1-1, i2)\n",
    "        \n",
    "        return 1+min(sub_last, add_last, del_last)\n",
    "    return compute_dist(len(s1)-1, len(s2)-1)\n",
    "\n",
    "s1 = \"Hariv\"\n",
    "s2 = \"Navya\"\n",
    "levenshtein_dist(s1, s2)\n"
   ]
  },
  {
   "cell_type": "code",
   "execution_count": 27,
   "metadata": {},
   "outputs": [
    {
     "name": "stdout",
     "output_type": "stream",
     "text": [
      "[0, 1, 1, 1, 1]\n",
      "[0, 1, 1, 1, 1]\n",
      "[0, 1, 1, 1, 1]\n",
      "[0, 1, 1, 1, 1]\n",
      "[0, 1, 2, 2, 2]\n",
      "[0, 1, 2, 2, 2]\n",
      "[0, 1, 2, 2, 2]\n",
      "[0, 1, 2, 2, 2]\n",
      "[0, 1, 2, 2, 3]\n",
      "[0, 1, 2, 2, 3]\n"
     ]
    },
    {
     "data": {
      "text/plain": [
       "3"
      ]
     },
     "execution_count": 27,
     "metadata": {},
     "output_type": "execute_result"
    }
   ],
   "source": [
    "# longest sub sequence in the two strings:\n",
    "def longest_sub_seq1(s1, s2): # O(l1*l2)T\n",
    "    l1, l2 = len(s1), len(s2)\n",
    "    @functools.lru_cache(maxsize = None)\n",
    "    def lcs(i, j):\n",
    "        if i<0 or j<0: return 0\n",
    "        if s1[i] == s2[j]:\n",
    "            return 1+lcs(i-1, j-1)\n",
    "        else:\n",
    "            return max(lcs(i-1, j), lcs(i, j-1))\n",
    "    return lcs(l1-1, l2-1)\n",
    "\n",
    "def longest_sub_seq2(s1, s2): # O(l1*l2)T, O(l1*l2)S\n",
    "    l1, l2 = len(s1), len(s2)\n",
    "    dp = [[0]*(l2+1) for _ in range(l1+1)]\n",
    "    for i in range(1, l1+1):\n",
    "        for j in range(1, l2+1):\n",
    "            if s1[i-1] == s2[j-1]:\n",
    "                dp[i][j] = 1+dp[i-1][j-1]\n",
    "            else:\n",
    "                dp[i][j] = max(dp[i-1][j], dp[i][j-1])\n",
    "    return dp[-1][-1]\n",
    "\n",
    "def longest_sub_seq3(s1, s2): # O(l1*l2)T, O(min(l1, l2))S\n",
    "    s2, s1 = sorted((s1, s2), key = len)\n",
    "    l1, l2 = len(s1), len(s2)\n",
    "    dp = [0]*(l2+1)\n",
    "    for i in range(1, l1+1):\n",
    "        ndp = [0]*(l2+1)\n",
    "        for j in range(1, l2+1):\n",
    "            if s1[i-1] == s2[j-1]:\n",
    "                ndp[j] = 1+dp[j-1]\n",
    "            else:\n",
    "                ndp[j] = max(ndp[j-1], dp[j])\n",
    "        dp = ndp\n",
    "    return dp[-1]\n",
    "\n",
    "s1 = \"abcde\"\n",
    "s2 = \"ache\"\n",
    "longest_sub_seq3(s1, s2)\n",
    "    "
   ]
  }
 ],
 "metadata": {
  "kernelspec": {
   "display_name": "Python 3",
   "language": "python",
   "name": "python3"
  },
  "language_info": {
   "codemirror_mode": {
    "name": "ipython",
    "version": 3
   },
   "file_extension": ".py",
   "mimetype": "text/x-python",
   "name": "python",
   "nbconvert_exporter": "python",
   "pygments_lexer": "ipython3",
   "version": "3.7.0"
  }
 },
 "nbformat": 4,
 "nbformat_minor": 2
}
