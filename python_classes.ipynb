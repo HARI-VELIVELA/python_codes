{
 "cells": [
  {
   "cell_type": "code",
   "execution_count": 1,
   "metadata": {},
   "outputs": [
    {
     "name": "stdout",
     "output_type": "stream",
     "text": [
      "110\n"
     ]
    }
   ],
   "source": [
    "class calc:\n",
    "    \n",
    "    def add(x,y):\n",
    "        answer = x+y\n",
    "        print(answer)\n",
    "    \n",
    "    def mul(x,y):\n",
    "        answer = x * y\n",
    "        print(answer)\n",
    "    \n",
    "    def div(x,y):\n",
    "        answer = x / y\n",
    "        print(answer)\n",
    "    \n",
    "    def sub(x,y):\n",
    "        answer = x - y\n",
    "        print(answer)\n",
    "\n",
    "calc.add(45,65)"
   ]
  },
  {
   "cell_type": "code",
   "execution_count": null,
   "metadata": {},
   "outputs": [],
   "source": []
  }
 ],
 "metadata": {
  "kernelspec": {
   "display_name": "Python 3",
   "language": "python",
   "name": "python3"
  },
  "language_info": {
   "codemirror_mode": {
    "name": "ipython",
    "version": 3
   },
   "file_extension": ".py",
   "mimetype": "text/x-python",
   "name": "python",
   "nbconvert_exporter": "python",
   "pygments_lexer": "ipython3",
   "version": "3.7.0"
  }
 },
 "nbformat": 4,
 "nbformat_minor": 2
}
