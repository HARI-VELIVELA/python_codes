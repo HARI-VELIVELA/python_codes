{
 "cells": [
  {
   "cell_type": "markdown",
   "metadata": {},
   "source": [
    "# Deep Learning Project: Pet Classifier using CNN\n",
    "\n",
    "Prepration\n",
    "- Extract the ipynb file and the data in the same folder\n",
    "\n",
    "Data Set\n",
    "- A production grade program as 10,000 training images\n",
    "- This is a small program with 20 images of cats and 20 images of dogs. \n",
    "- The evaluation set has 10 images of cats and 10 images of dogs\n",
    "\n",
    "Runs\n",
    "- The student is expected to run the 100-300 training step\n",
    "- A production grade code would have about 20k-50k training steps"
   ]
  },
  {
   "cell_type": "markdown",
   "metadata": {},
   "source": [
    "### Import modules"
   ]
  },
  {
   "cell_type": "code",
   "execution_count": 10,
   "metadata": {},
   "outputs": [],
   "source": [
    "#from __future__ import absolute_import\n",
    "#from __future__ import division\n",
    "#from __future__ import print_function\n",
    "import os\n",
    "import cv2\n",
    "import glob\n",
    "import matplotlib.pyplot as plt\n",
    "import numpy as np\n",
    "import tensorflow as tf\n",
    "import random\n",
    "import sys\n",
    "\n",
    "# To support both python 2 and python 3\n",
    "#from __future__ import division, print_function, unicode_literals\n",
    "\n",
    "# to make this notebook's output stable across runs\n",
    "def reset_graph(seed=42):\n",
    "    tf.reset_default_graph()\n",
    "    tf.set_random_seed(seed)\n",
    "    np.random.seed(seed)"
   ]
  },
  {
   "cell_type": "markdown",
   "metadata": {},
   "source": [
    "### Set hyper parameters\n",
    "- Run the program with three num_steps : 100,200,300"
   ]
  },
  {
   "cell_type": "code",
   "execution_count": 11,
   "metadata": {},
   "outputs": [],
   "source": [
    "reset_graph()\n",
    "\n",
    "img_size = 32\n",
    "num_channels = 3\n",
    "img_size_flat = img_size * img_size * num_channels\n",
    "img_shape = (img_size, img_size)\n",
    "trainpath=r'C:/Users/veliv/Desktop/Simplilearn/DeepLeraning/DeepLearningcourseCapstoneProject/CapstoneProject/data/train'\n",
    "testpath=r'C:/Users/veliv/Desktop/Simplilearn/DeepLeraning/DeepLearningcourseCapstoneProject/CapstoneProject/data/test'\n",
    "labels = {'cats': 0, 'dogs': 1}\n",
    "fc_size=32 #size of the output of final FC layer\n",
    "num_steps=300 #Try 100, 200, 300. number of steps that training data should be looped. Usually 20K\n",
    "tf.logging.set_verbosity(tf.logging.INFO)"
   ]
  },
  {
   "cell_type": "raw",
   "metadata": {},
   "source": [
    "cd C:\\Users\\veliv\\Desktop\\Simplilearn\\DeepLeraning\\DeepLearningcourseCapstoneProject"
   ]
  },
  {
   "cell_type": "markdown",
   "metadata": {},
   "source": [
    "### Read the image dataset"
   ]
  },
  {
   "cell_type": "code",
   "execution_count": 12,
   "metadata": {},
   "outputs": [
    {
     "name": "stdout",
     "output_type": "stream",
     "text": [
      "length of train image set 40\n",
      "X_data shape: (40, 32, 32, 3)\n",
      "y_data shape: (40,)\n"
     ]
    },
    {
     "data": {
      "image/png": "[encoded data removed]",
      "text/plain": [
       "<Figure size 432x288 with 1 Axes>"
      ]
     },
     "metadata": {
      "needs_background": "light"
     },
     "output_type": "display_data"
    }
   ],
   "source": [
    "def read_images_classes(basepath,imgSize=img_size):\n",
    "    image_stack = []\n",
    "    label_stack = []\n",
    "\n",
    "    for counter, l in enumerate(labels):\n",
    "        path = os.path.join(basepath, l,'*g')\n",
    "        for img in glob.glob(path):\n",
    "            one_hot_vector =np.zeros(len(labels),dtype=np.int16)\n",
    "            one_hot_vector[counter]=1\n",
    "            image = cv2.imread(img)\n",
    "            im_resize = cv2.resize(image,img_shape, interpolation=cv2.INTER_CUBIC)\n",
    "            image_stack.append(im_resize)\n",
    "            label_stack.append(labels[l])            \n",
    "    return np.array(image_stack), np.array(label_stack)\n",
    "\n",
    "X_train, y_train=read_images_classes(trainpath)\n",
    "X_test, y_test=read_images_classes(testpath)\n",
    "\n",
    "#test a sample image\n",
    "print('length of train image set',len(X_train))\n",
    "print('X_data shape:', X_train.shape)\n",
    "print('y_data shape:', y_train.shape)\n",
    "\n",
    "fig1 = plt.figure() \n",
    "ax1 = fig1.add_subplot(2,2,1) \n",
    "img = cv2.resize(X_train[0],(64,64), interpolation=cv2.INTER_CUBIC)\n",
    "ax1.imshow(cv2.cvtColor(img, cv2.COLOR_BGR2RGB))\n",
    "plt.title(y_train[0])\n",
    "plt.show()"
   ]
  },
  {
   "cell_type": "markdown",
   "metadata": {},
   "source": [
    "### Assignment: Define the tensorflow model\n",
    "\n",
    "The model should have the following layers\n",
    "- input later\n",
    "- conv layer 1 with 32 filters of kernel  size[5,5],\n",
    "- pooling layer 1 with pool size[2,2] and stride 2\n",
    "- conv layer 2 with 64 filters of kernel  size[5,5],\n",
    "- pooling layer 2 with pool size[2,2] and stride 2\n",
    "- dense layer whose output size is fixed in the hyper parameter: fc_size=32\n",
    "- drop out layer with droput probability 0.4\n",
    "- predict the class by doing a softmax on the output of the dropout layers\n",
    "\n",
    "Training\n",
    "- For training fefine the loss function and minimize it\n",
    "- For evaluation calculate the accuracy\n",
    "\n",
    "Reading Material\n",
    "- For ideas look at tensorflow layers tutorial"
   ]
  },
  {
   "cell_type": "markdown",
   "metadata": {},
   "source": [
    "### The cnn_model_fn has to be defined here by the student"
   ]
  },
  {
   "cell_type": "code",
   "execution_count": 19,
   "metadata": {},
   "outputs": [],
   "source": [
    "def cnn_model_fn(features, labels, mode):\n",
    "    input_layer = tf.reshape(features[\"x\"], [-1, img_size, img_size, num_channels])\n",
    "    # conv layer 1\n",
    "    conv_layer1 = tf.layers.conv2d(inputs= input_layer, filters = 32, kernel_size = [5,5], padding = 'same', activation = tf.nn.relu)\n",
    "\n",
    "#pooling layer1\n",
    "\n",
    "    pool_layer1 = tf.layers.max_pooling2d(inputs=conv_layer1, pool_size=[2, 2], strides=2)\n",
    "\n",
    "    conv_layer2 = tf.layers.conv2d(inputs=pool_layer1,filters = 64, kernel_size=[5,5], padding='same', activation=tf.nn.relu)\n",
    " \n",
    "    pooling_layer2 = tf.layers.max_pooling2d(inputs=conv_layer2, pool_size=[2, 2], strides=2)\n",
    "\n",
    "\n",
    "\n",
    "\n",
    "#FC layer\n",
    "    layerShape = pooling_layer2.shape\n",
    "    numOfFeatures = layerShape[1:4].num_elements()\n",
    "    pool2_flattened = tf.reshape(pooling_layer2, [-1, numOfFeatures])\n",
    "\n",
    "#Denselayer\n",
    "    denselayer = tf.layers.dense(pool2_flattened, units = fc_size, activation = tf.nn.relu)\n",
    "\n",
    "#dropout\n",
    "    dropout = tf.layers.dropout(inputs=denselayer, rate=0.4, training=mode == tf.estimator.ModeKeys.TRAIN)\n",
    "\n",
    "\n",
    "#logits layer\n",
    "\n",
    "    logits = tf.layers.dense(inputs = dropout, units = 2)\n",
    "    print(\"logits shape is:\" ,logits.get_shape())\n",
    "\n",
    "\n",
    "#PREDICTION\n",
    "    prediction = {'classes': tf.argmax(input = logits, axis = 1),\n",
    "              \"probabilities\": tf.nn.softmax(logits, name ='softmax_tensor')}\n",
    "    if mode == tf.estimator.ModeKeys.PREDICT:\n",
    "        return tf.estimator.EstimatorSpec(mode = mode, predictions = prediction)\n",
    "\n",
    "\n",
    "#loss and define training\n",
    "\n",
    "    oneHotLabels = tf.one_hot(indices = tf.cast(labels, tf.int32), depth = 2)\n",
    "    loss = tf.losses.softmax_cross_entropy(onehot_labels =oneHotLabels, logits = logits)\n",
    "\n",
    "    if mode == tf.estimator.ModeKeys.TRAIN:\n",
    "        optimizer = tf.train.GradientDescentOptimizer(learning_rate = 0.01)\n",
    "        trainingOperation = optimizer.minimize(loss= loss, global_step = tf.train.get_global_step())\n",
    "        return tf.estimator.EstimatorSpec(mode = mode, loss = loss, train_op = trainingOperation)\n",
    "\n",
    "    eval_metrics = {\"accuracy\": tf.metrics.accuracy(labels = labels, predictions = prediction['classes'])}\n",
    "    return tf.estimator.EstimatorSpec(mode = mode, loss = loss, eval_metric_ops = eval_metrics)\n",
    "    \n",
    "\n",
    "\n",
    "    "
   ]
  },
  {
   "cell_type": "markdown",
   "metadata": {},
   "source": [
    "### Run the tensorflow model\n",
    "\n",
    "This section will use the model defined by the student and run the training and evaluation step"
   ]
  },
  {
   "cell_type": "code",
   "execution_count": 20,
   "metadata": {},
   "outputs": [
    {
     "name": "stdout",
     "output_type": "stream",
     "text": [
      "INFO:tensorflow:Using default config.\n",
      "INFO:tensorflow:Using config: {'_model_dir': '/tmp/pets_convnet_model', '_tf_random_seed': None, '_save_summary_steps': 100, '_save_checkpoints_steps': None, '_save_checkpoints_secs': 600, '_session_config': allow_soft_placement: true\n",
      "graph_options {\n",
      "  rewrite_options {\n",
      "    meta_optimizer_iterations: ONE\n",
      "  }\n",
      "}\n",
      ", '_keep_checkpoint_max': 5, '_keep_checkpoint_every_n_hours': 10000, '_log_step_count_steps': 100, '_train_distribute': None, '_device_fn': None, '_protocol': None, '_eval_distribute': None, '_experimental_distribute': None, '_service': None, '_cluster_spec': <tensorflow.python.training.server_lib.ClusterSpec object at 0x000001FABF2B29B0>, '_task_type': 'worker', '_task_id': 0, '_global_id_in_cluster': 0, '_master': '', '_evaluation_master': '', '_is_chief': True, '_num_ps_replicas': 0, '_num_worker_replicas': 1}\n",
      "INFO:tensorflow:Calling model_fn.\n",
      "logits shape is: (10, 2)\n",
      "INFO:tensorflow:Done calling model_fn.\n",
      "INFO:tensorflow:Create CheckpointSaverHook.\n",
      "INFO:tensorflow:Graph was finalized.\n",
      "INFO:tensorflow:Running local_init_op.\n",
      "INFO:tensorflow:Done running local_init_op.\n",
      "WARNING:tensorflow:From C:\\Users\\veliv\\Anaconda3\\envs\\tensorflow\\lib\\site-packages\\tensorflow\\python\\training\\monitored_session.py:809: start_queue_runners (from tensorflow.python.training.queue_runner_impl) is deprecated and will be removed in a future version.\n",
      "Instructions for updating:\n",
      "To construct input pipelines, use the `tf.data` module.\n",
      "INFO:tensorflow:Saving checkpoints for 0 into /tmp/pets_convnet_model\\model.ckpt.\n",
      "INFO:tensorflow:probabilities = [[0.5 0.5]\n",
      " [0.5 0.5]\n",
      " [0.5 0.5]\n",
      " [0.5 0.5]\n",
      " [0.5 0.5]\n",
      " [0.5 0.5]\n",
      " [0.5 0.5]\n",
      " [0.5 0.5]\n",
      " [0.5 0.5]\n",
      " [0.5 0.5]]\n",
      "INFO:tensorflow:loss = 0.6931472, step = 1\n",
      "INFO:tensorflow:probabilities = [[0.5071949  0.49280512]\n",
      " [0.51009864 0.48990133]\n",
      " [0.50658524 0.4934147 ]\n",
      " [0.50980246 0.49019757]\n",
      " [0.50758195 0.49241802]\n",
      " [0.50961167 0.49038827]\n",
      " [0.510151   0.48984903]\n",
      " [0.5092436  0.4907564 ]\n",
      " [0.50657606 0.49342394]\n",
      " [0.5064792  0.4935208 ]] (2.061 sec)\n",
      "INFO:tensorflow:global_step/sec: 29.0874\n",
      "INFO:tensorflow:probabilities = [[0.50331926 0.49668068]\n",
      " [0.50611454 0.4938854 ]\n",
      " [0.50410473 0.49589524]\n",
      " [0.50498533 0.4950147 ]\n",
      " [0.5029644  0.49703556]\n",
      " [0.50612485 0.49387515]\n",
      " [0.50611454 0.4938854 ]\n",
      " [0.5061796  0.4938205 ]\n",
      " [0.50420797 0.49579203]\n",
      " [0.5041143  0.49588567]] (1.379 sec)\n",
      "INFO:tensorflow:loss = 0.6937497, step = 101 (3.440 sec)\n",
      "INFO:tensorflow:probabilities = [[0.5060338  0.4939662 ]\n",
      " [0.5026091  0.4973909 ]\n",
      " [0.5042863  0.49571374]\n",
      " [0.50521183 0.4947882 ]\n",
      " [0.5048317  0.4951684 ]\n",
      " [0.50509465 0.49490535]\n",
      " [0.5041251  0.49587485]\n",
      " [0.50619656 0.49380344]\n",
      " [0.5052004  0.49479967]\n",
      " [0.5042863  0.49571374]] (1.340 sec)\n",
      "INFO:tensorflow:global_step/sec: 37.4417\n",
      "INFO:tensorflow:probabilities = [[0.50384396 0.496156  ]\n",
      " [0.5024277  0.49757236]\n",
      " [0.5033342  0.4966658 ]\n",
      " [0.5000515  0.49994853]\n",
      " [0.5003685  0.4996316 ]\n",
      " [0.50384396 0.496156  ]\n",
      " [0.5035046  0.49649546]\n",
      " [0.50210315 0.4978969 ]\n",
      " [0.5025606  0.49743935]\n",
      " [0.50210315 0.4978969 ]] (1.331 sec)\n",
      "INFO:tensorflow:loss = 0.6916837, step = 201 (2.671 sec)\n",
      "INFO:tensorflow:probabilities = [[0.51457024 0.48542982]\n",
      " [0.5124584  0.48754153]\n",
      " [0.5107891  0.48921084]\n",
      " [0.5131339  0.48686606]\n",
      " [0.5131339  0.48686606]\n",
      " [0.51482564 0.4851744 ]\n",
      " [0.5143376  0.48566237]\n",
      " [0.51482564 0.4851744 ]\n",
      " [0.51225    0.48774996]\n",
      " [0.5124763  0.48752373]] (1.355 sec)\n",
      "INFO:tensorflow:Saving checkpoints for 300 into /tmp/pets_convnet_model\\model.ckpt.\n",
      "INFO:tensorflow:Loss for final step: 0.69401723.\n",
      "INFO:tensorflow:Calling model_fn.\n",
      "logits shape is: (?, 2)\n",
      "INFO:tensorflow:Done calling model_fn.\n",
      "INFO:tensorflow:Starting evaluation at 2019-05-12T18:11:15Z\n",
      "INFO:tensorflow:Graph was finalized.\n",
      "WARNING:tensorflow:From C:\\Users\\veliv\\Anaconda3\\envs\\tensorflow\\lib\\site-packages\\tensorflow\\python\\training\\saver.py:1266: checkpoint_exists (from tensorflow.python.training.checkpoint_management) is deprecated and will be removed in a future version.\n",
      "Instructions for updating:\n",
      "Use standard file APIs to check for files with this prefix.\n",
      "INFO:tensorflow:Restoring parameters from /tmp/pets_convnet_model\\model.ckpt-300\n",
      "INFO:tensorflow:Running local_init_op.\n",
      "INFO:tensorflow:Done running local_init_op.\n",
      "INFO:tensorflow:Finished evaluation at 2019-05-12-18:11:16\n",
      "INFO:tensorflow:Saving dict for global step 300: accuracy = 0.5, global_step = 300, loss = 0.6931511\n",
      "INFO:tensorflow:Saving 'checkpoint_path' summary for global step 300: /tmp/pets_convnet_model\\model.ckpt-300\n",
      "{'accuracy': 0.5, 'loss': 0.6931511, 'global_step': 300}\n"
     ]
    }
   ],
   "source": [
    "#X_train = np.array((X_train/255.0),dtype=np.float16)\n",
    "#X_test = np.array((X_test/255.0), dtype=np.float16)\n",
    "X_train = np.array((X_train/255.0),dtype=np.float32)\n",
    "X_test = np.array((X_test/255.0), dtype=np.float32)\n",
    "\n",
    "pets_classifier = tf.estimator.Estimator(model_fn=cnn_model_fn, model_dir=\"/tmp/pets_convnet_model\")\n",
    "#pets_classifier = tf.estimator.Estimator(model_fn=cnn_model_fn)\n",
    "tensors_to_log = {\"probabilities\": \"softmax_tensor\"}\n",
    "logging_hook = tf.train.LoggingTensorHook(tensors=tensors_to_log, every_n_iter=50)\n",
    "train_input_fn = tf.estimator.inputs.numpy_input_fn(x={\"x\": X_train}, y=y_train, batch_size=10,\n",
    "                                                      num_epochs=None, shuffle=True)\n",
    "pets_classifier.train(input_fn=train_input_fn, steps=num_steps, hooks=[logging_hook])\n",
    "eval_input_fn = tf.estimator.inputs.numpy_input_fn(x={\"x\": X_test}, y=y_test, num_epochs=1,shuffle=False)\n",
    "eval_results = pets_classifier.evaluate(input_fn=eval_input_fn)\n",
    "print(eval_results)"
   ]
  },
  {
   "cell_type": "code",
   "execution_count": null,
   "metadata": {
    "collapsed": true
   },
   "outputs": [],
   "source": []
  }
 ],
 "metadata": {
  "kernelspec": {
   "display_name": "Python 3",
   "language": "python",
   "name": "python3"
  },
  "language_info": {
   "codemirror_mode": {
    "name": "ipython",
    "version": 3
   },
   "file_extension": ".py",
   "mimetype": "text/x-python",
   "name": "python",
   "nbconvert_exporter": "python",
   "pygments_lexer": "ipython3",
   "version": "3.7.0"
  }
 },
 "nbformat": 4,
 "nbformat_minor": 2
}
