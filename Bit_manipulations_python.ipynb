{
 "cells": [
  {
   "cell_type": "code",
   "execution_count": 1,
   "metadata": {
    "scrolled": true
   },
   "outputs": [
    {
     "data": {
      "text/plain": [
       "'\\nbinary format of 13 -> 1101\\nto represent it as binary -> 0b1101\\n\\n'"
      ]
     },
     "execution_count": 1,
     "metadata": {},
     "output_type": "execute_result"
    }
   ],
   "source": [
    "# to change the normal number into binary just prefix with 0b in front.\n",
    "\"\"\"\n",
    "binary format of 13 -> 1101\n",
    "to represent it as binary -> 0b1101\n",
    "\n",
    "\"\"\""
   ]
  },
  {
   "cell_type": "code",
   "execution_count": null,
   "metadata": {},
   "outputs": [],
   "source": [
    "# and (&), or(|), not(~), XOR(^)\n",
    "\n",
    "# Bitwise not (~)\n",
    "\"\"\" \n",
    "~10 -> ~(0b1010) -> -(0b1010 + 1) -> -(1011) -> -11\n",
    "-11 -> 2's compliment of +11\n",
    "finding the 2's compliment: -> 1's compliment + 1\n",
    "0100 ->1's compliment\n",
    "   1\n",
    "------\n",
    "0101\n",
    "-----\n",
    "\n",
    "\"\"\""
   ]
  },
  {
   "cell_type": "code",
   "execution_count": 4,
   "metadata": {},
   "outputs": [
    {
     "data": {
      "text/plain": [
       "3"
      ]
     },
     "execution_count": 4,
     "metadata": {},
     "output_type": "execute_result"
    }
   ],
   "source": [
    "# count the number of bits that are set to 1:\n",
    "def count_bits(x: int) -> int:\n",
    "    res = 0\n",
    "    while x:\n",
    "        res += x & 1\n",
    "        x >>= 1 #right shift the digits\n",
    "    return res\n",
    "    \n",
    "count_bits(14)\n",
    "# time complexity -> O(n) -> n is the number of bits needed to reperesent the x in binary format."
   ]
  },
  {
   "cell_type": "code",
   "execution_count": 6,
   "metadata": {},
   "outputs": [
    {
     "data": {
      "text/plain": [
       "9223372036854775807"
      ]
     },
     "execution_count": 6,
     "metadata": {},
     "output_type": "execute_result"
    }
   ],
   "source": [
    "\"\"\"\n",
    "import sys\n",
    "sys.maxsize --> 2**63 - 1 (On 64 bit machine)\n",
    "\n",
    "integers in python are unbounded, the maximum integer representable is a function of available memory.\n",
    "****************\n",
    "Bounds on floating number are specified as\n",
    "\n",
    "import sys\n",
    "sys.float_info\n",
    "\"\"\""
   ]
  },
  {
   "cell_type": "code",
   "execution_count": 12,
   "metadata": {},
   "outputs": [
    {
     "data": {
      "text/plain": [
       "3.12"
      ]
     },
     "execution_count": 12,
     "metadata": {},
     "output_type": "execute_result"
    }
   ],
   "source": [
    "\"\"\"\n",
    "Methods in random:\n",
    "-> random.randrange(28)\n",
    "-> random.randint(8,16)\n",
    "-> random.random()\n",
    "-> random.shuffle(A)\n",
    "-> random.choice(A)\n",
    "\"\"\""
   ]
  },
  {
   "cell_type": "code",
   "execution_count": 14,
   "metadata": {},
   "outputs": [
    {
     "data": {
      "text/plain": [
       "1"
      ]
     },
     "execution_count": 14,
     "metadata": {},
     "output_type": "execute_result"
    }
   ],
   "source": [
    "# computing the parity of a word\n",
    "# number of 1 bits is odd -> parity 1 , even -> parity 0\n",
    "# method 1-> count the number of 1's in binary word and return result %2 --> 0 even else odd\n",
    "# method 2 -> by erasing the lowest set bit of given integer\n",
    "\n",
    "def method2(x: int) -> int: # O(k) -> k is number of set bits in the given binary representation\n",
    "    res = 0\n",
    "    while x:\n",
    "        res ^= 1\n",
    "        x &= x-1\n",
    "    return res\n",
    "method2(28)\n",
    "\n",
    "def method1(x: int)-> int: # O(n) -> n is total number of bits in the binary representation\n",
    "    res = 0\n",
    "    while x:\n",
    "        res ^= x&1\n",
    "        x >> 1\n",
    "    return res\n"
   ]
  },
  {
   "cell_type": "code",
   "execution_count": 2,
   "metadata": {},
   "outputs": [
    {
     "data": {
      "text/plain": [
       "11"
      ]
     },
     "execution_count": 2,
     "metadata": {},
     "output_type": "execute_result"
    }
   ],
   "source": [
    "# swap bits\n",
    "def swap_Bits(x, i, j):\n",
    "    if (x>>i) & 1 != (x>>j)&1: #checking whether the bits in the positions are not equal.If they equal don't need to do anything\n",
    "        bit_mask = (1 << i) | (1 << j)\n",
    "        x ^= bit_mask\n",
    "    return x\n",
    "swap_Bits(73, 1, 6)"
   ]
  },
  {
   "cell_type": "code",
   "execution_count": null,
   "metadata": {},
   "outputs": [],
   "source": [
    "# reverse the bits;"
   ]
  },
  {
   "cell_type": "code",
   "execution_count": 22,
   "metadata": {},
   "outputs": [
    {
     "data": {
      "text/plain": [
       "42"
      ]
     },
     "execution_count": 22,
     "metadata": {},
     "output_type": "execute_result"
    }
   ],
   "source": [
    "# Find the closest integer with the same weight:(number of 1's present in the binary format)\n",
    "def find_closest_integer1(x: int)-> int: # swap the two rightmost consecutive bits that differ. -> O(n) Time complexity\n",
    "    num_bits = 64\n",
    "    for i in range(num_bits-1):\n",
    "        if (x>>i) & 1 != (x >> (i+1)) & 1:\n",
    "            x ^= (1<<i)|(1 << (i+1))\n",
    "            return x\n",
    "    raise ValueError(\"All bits are 0 or 1\")\n",
    "\n",
    "import sys\n",
    "def find_closest_integer2(x: int)->int: # O(1) time complexity\n",
    "    if x & sys.maxsize in {sys.maxsize, 0}: raise ValueError(\"all bits are 0 or 1\")\n",
    "    rightmost_set_bit = x & ~(x-1)\n",
    "    next_un_set_bit = ~x & (x+1)\n",
    "    if next_un_set_bit > rightmost_set_bit: # shift 0 to the right\n",
    "        x += next_un_set_bit - (next_un_set_bit >> 1)\n",
    "    else: # shift 1 to the right\n",
    "        x -= rightmost_set_bit - (rightmost_set_bit>>1)\n",
    "    return x\n",
    "        \n",
    "        \n",
    "x = 44\n",
    "find_closest_integer2(x)"
   ]
  },
  {
   "cell_type": "code",
   "execution_count": 23,
   "metadata": {},
   "outputs": [
    {
     "data": {
      "text/plain": [
       "117"
      ]
     },
     "execution_count": 23,
     "metadata": {},
     "output_type": "execute_result"
    }
   ],
   "source": [
    "# multiplication without using arithmatic operators:\n",
    "def multiply(x, y): # O(n^2) time, n -> number of bits needed to represent the operand and n additions for single multiplication\n",
    "    def add(a, b):\n",
    "        return a if b==0 else add(a^b, (a&b)<<1)\n",
    "    result = 0\n",
    "    while x:\n",
    "        if x & 1: result = add(result, y)\n",
    "        x, y = x >> 1, y << 1\n",
    "    return result\n",
    "\n",
    "multiply(13,9)\n",
    "    "
   ]
  },
  {
   "cell_type": "code",
   "execution_count": 5,
   "metadata": {},
   "outputs": [
    {
     "data": {
      "text/plain": [
       "5"
      ]
     },
     "execution_count": 5,
     "metadata": {},
     "output_type": "execute_result"
    }
   ],
   "source": [
    "# Compute the quotient without arithmetic operators:\n",
    "def divide(x, y): # O(n^2) time complexity\n",
    "    # n bits to represent the x/y and if k is largest, then each iteration takes time O(n) this leads to O(n^2)\n",
    "    res, power = 0, 32\n",
    "    y_power = y << power\n",
    "    while x >= y:\n",
    "        while y_power > x:\n",
    "            y_power >>= 1\n",
    "            power -= 1\n",
    "        res += 1 << power\n",
    "        x -= y_power\n",
    "    return res\n",
    "    \n",
    "    \n",
    "# compute the quotient if x is any kind of integer(Positve, negative, zero) and y is of non zero integer\n",
    "def divide_2(x, y):\n",
    "    #if both are negative, no need to do anything\n",
    "    #otherwise\n",
    "    #flag = -1\n",
    "    #multiply the result with flag.\n",
    "    pass\n",
    "x, y = 11,2\n",
    "divide(x, y)"
   ]
  },
  {
   "cell_type": "code",
   "execution_count": 1,
   "metadata": {},
   "outputs": [
    {
     "data": {
      "text/plain": [
       "1000.0"
      ]
     },
     "execution_count": 1,
     "metadata": {},
     "output_type": "execute_result"
    }
   ],
   "source": [
    "# compute the power(x, y)\n",
    "def power(x: float, y: int) -> float:\n",
    "    result, power = 1.0, y\n",
    "    if y < 0:\n",
    "        power = -power\n",
    "        x = 1.0 / x\n",
    "    while power:\n",
    "        if power & 1:\n",
    "            result *= x\n",
    "        x, power = x*x, power >> 1\n",
    "    return result\n",
    "\n",
    "power(10, 3)"
   ]
  },
  {
   "cell_type": "code",
   "execution_count": 3,
   "metadata": {},
   "outputs": [
    {
     "data": {
      "text/plain": [
       "2311"
      ]
     },
     "execution_count": 3,
     "metadata": {},
     "output_type": "execute_result"
    }
   ],
   "source": [
    "# reverse bits: given an integer and return it's reverse form\n",
    "def reverse_bits(x: int) -> int:\n",
    "    result, new_x = 0, abs(x)\n",
    "    while new_x:\n",
    "        result = result*10 + new_x % 10\n",
    "        new_x //= 10\n",
    "    return -result if x < 0 else result\n",
    "\n",
    "reverse_bits(1132)"
   ]
  },
  {
   "cell_type": "code",
   "execution_count": 5,
   "metadata": {},
   "outputs": [
    {
     "data": {
      "text/plain": [
       "True"
      ]
     },
     "execution_count": 5,
     "metadata": {},
     "output_type": "execute_result"
    }
   ],
   "source": [
    "import math\n",
    "# check if decimal integer is a plindrome or not:\n",
    "def palindromic_number(x: int) -> bool:\n",
    "    if x <= 0: return x == 0\n",
    "    num_digits = math.floor(math.log10(x)) + 1\n",
    "    msd_mask = 10**(num_digits - 1)\n",
    "    for i in range(num_digits // 2):\n",
    "        if x // msd_mask != x % 10: return False\n",
    "        x %= msd_mask\n",
    "        x //= 10\n",
    "        msd_mask //= 100\n",
    "    return True\n",
    "\n",
    "palindromic_number(15151)"
   ]
  },
  {
   "cell_type": "code",
   "execution_count": null,
   "metadata": {},
   "outputs": [],
   "source": [
    "# generate uniform random numbers:\n",
    " "
   ]
  },
  {
   "cell_type": "code",
   "execution_count": 8,
   "metadata": {},
   "outputs": [
    {
     "data": {
      "text/plain": [
       "False"
      ]
     },
     "execution_count": 8,
     "metadata": {},
     "output_type": "execute_result"
    }
   ],
   "source": [
    "# rectangle intersection\n",
    "def rectangle_intersection(r1, r2):\n",
    "    if is_intersect(r1, r2):\n",
    "        if (r1[2]-r1[0]==0 or r1[3]-r1[1]==0 or r2[2]-r2[0]==0 or r2[3]-r2[1]==0): return False\n",
    "        else: return True\n",
    "    else:\n",
    "        return False\n",
    "def is_intersect(r1, r2):\n",
    "    return (r1[0]<r2[0]+(r2[2]-r2[0]) and r1[0]+(r1[2]-r1[0])>r2[0] and\n",
    "            r1[1]<r2[1]+(r2[3]-r2[1]) and r1[1]+(r1[3]-r1[1])>r2[1])\n",
    "\n",
    "r1 = [1,2,4,6]\n",
    "r2 = [5,3,7,7]\n",
    "rectangle_intersection(r1, r2)"
   ]
  }
 ],
 "metadata": {
  "kernelspec": {
   "display_name": "Python 3",
   "language": "python",
   "name": "python3"
  },
  "language_info": {
   "codemirror_mode": {
    "name": "ipython",
    "version": 3
   },
   "file_extension": ".py",
   "mimetype": "text/x-python",
   "name": "python",
   "nbconvert_exporter": "python",
   "pygments_lexer": "ipython3",
   "version": "3.7.0"
  }
 },
 "nbformat": 4,
 "nbformat_minor": 2
}
