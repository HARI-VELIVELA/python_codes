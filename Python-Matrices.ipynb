{
 "cells": [
  {
   "cell_type": "code",
   "execution_count": 1,
   "metadata": {},
   "outputs": [
    {
     "name": "stdout",
     "output_type": "stream",
     "text": [
      "[[0, 0, 0, 0, 0], [0, 0, 0, 0, 0], [0, 0, 0, 0, 0]]\n"
     ]
    }
   ],
   "source": [
    "rows= 3\n",
    "cols = 5\n",
    "arr = [[0 for i in range(cols)] for j in range(rows)]\n",
    "print(arr)\n",
    "\n",
    "a = [1,2,3,4,5,6,7,8,9]\n",
    "a = [i ]"
   ]
  },
  {
   "cell_type": "code",
   "execution_count": 2,
   "metadata": {},
   "outputs": [],
   "source": [
    "def check_pairsum_exists(row, col, matrix, target):\n",
    "    pass\n",
    "\n"
   ]
  },
  {
   "cell_type": "code",
   "execution_count": 4,
   "metadata": {},
   "outputs": [
    {
     "data": {
      "text/plain": [
       "'pecocko'"
      ]
     },
     "execution_count": 4,
     "metadata": {},
     "output_type": "execute_result"
    }
   ],
   "source": [
    "def remove_vowels(s):\n",
    "    i = 0\n",
    "    n = len(s)\n",
    "    vowels = \"aeiouAEIOU\"\n",
    "    s = list(s)\n",
    "    while i < n:\n",
    "        if s[i] in vowels:\n",
    "            s.remove(s[i])\n",
    "            n-=1\n",
    "            continue\n",
    "        else:\n",
    "            i+=1\n",
    "        \n",
    "    return \"\".join(s)\n",
    "\n",
    "def remove_consecutive_vowels(s):\n",
    "    i = 0\n",
    "    n = len(s)\n",
    "    vowels = \"aeiouAEIOU\"\n",
    "    s = list(s)\n",
    "    while i < n:\n",
    "        if s[i] not in vowels:\n",
    "            i+=1\n",
    "        else:\n",
    "            i+=1\n",
    "            while i != n and s[i] in vowels:\n",
    "                s.pop(i)\n",
    "                n-=1 \n",
    "    return \"\".join(s)\n",
    "s = \"pecoiuickoo\"\n",
    "remove_consecutive_vowels(s)"
   ]
  },
  {
   "cell_type": "code",
   "execution_count": 7,
   "metadata": {},
   "outputs": [
    {
     "data": {
      "text/plain": [
       "'an-)&ikhj#ba@'"
      ]
     },
     "execution_count": 7,
     "metadata": {},
     "output_type": "execute_result"
    }
   ],
   "source": [
    "# reverse the alphabet characters in the given string\n",
    "def reverse_alphabets(s):\n",
    "    i, j = 0, len(s)-1\n",
    "    s = list(s)\n",
    "    while i<j:\n",
    "        if s[i].isalpha() and s[j].isalpha():\n",
    "            s[i], s[j] = s[j], s[i]\n",
    "            i+=1\n",
    "            j-=1\n",
    "        elif s[i].isalpha() and not s[j].isalpha(): j-=1\n",
    "        elif not s[i].isalpha() and s[j].isalpha(): i+=1\n",
    "        else:\n",
    "            i+=1\n",
    "            j-=1\n",
    "    return \"\".join(s)\n",
    "\n",
    "s = \"ab-)&jhki#na@\"\n",
    "reverse_alphabets(s)"
   ]
  },
  {
   "cell_type": "code",
   "execution_count": 45,
   "metadata": {},
   "outputs": [
    {
     "data": {
      "text/plain": [
       "True"
      ]
     },
     "execution_count": 45,
     "metadata": {},
     "output_type": "execute_result"
    }
   ],
   "source": [
    "# this function returns true if product(even_places) == product(odd_places) else return false\n",
    "def compare_product(num):\n",
    "    if num < 10: return False\n",
    "    p1, p2 = 1, 1\n",
    "    while n>0:\n",
    "        digit = num % 10\n",
    "        p1 *= digit\n",
    "        num = num//10\n",
    "        \n",
    "        if num == 0 or num<10: break\n",
    "        digit = num % 10\n",
    "        p2 *= digit\n",
    "        num = num // 10\n",
    "    p2 *= num%10\n",
    "    \n",
    "    if p1 == p2: return True\n",
    "    else: return False\n",
    "\n",
    "n = 6239\n",
    "compare_product(n)\n",
    "        "
   ]
  },
  {
   "cell_type": "code",
   "execution_count": 46,
   "metadata": {},
   "outputs": [
    {
     "name": "stdout",
     "output_type": "stream",
     "text": [
      "252 200\n"
     ]
    },
    {
     "data": {
      "text/plain": [
       "False"
      ]
     },
     "execution_count": 46,
     "metadata": {},
     "output_type": "execute_result"
    }
   ],
   "source": [
    "def compare_product(num):\n",
    "    if num < 10: return False\n",
    "    p1, p2 = 1, 1\n",
    "    num = str(num)\n",
    "    i = 0\n",
    "    while i < len(num):\n",
    "        if i %2 == 0:\n",
    "            p1*= int(num[i])\n",
    "        else:\n",
    "            p2 *= int(num[i])\n",
    "        i+=1\n",
    "    print(p1, p2)\n",
    "    return p1==p2\n",
    "\n",
    "n = 2578952\n",
    "compare_product(n)       "
   ]
  },
  {
   "cell_type": "code",
   "execution_count": 47,
   "metadata": {},
   "outputs": [],
   "source": [
    "# count triplet sum permutations:\n",
    "def count_triplet_sum(n, arr, target):\n",
    "    pass\n",
    "    "
   ]
  },
  {
   "cell_type": "code",
   "execution_count": 66,
   "metadata": {},
   "outputs": [
    {
     "name": "stdout",
     "output_type": "stream",
     "text": [
      "314-49-9001-159265-35897-14-9323-8462643383279-4-793-\n"
     ]
    },
    {
     "data": {
      "text/plain": [
       "3"
      ]
     },
     "execution_count": 66,
     "metadata": {},
     "output_type": "execute_result"
    }
   ],
   "source": [
    "# there is a string and list as arguments to the function: task is to find the number of spaces required to split the string\n",
    "# so that i can get those splitted strings in the list\n",
    "\n",
    "def function(s, l):\n",
    "    new = \"\"\n",
    "    for i in l:\n",
    "        new+=i+\"-\"\n",
    "    print(new)\n",
    "    p, q = 0, 0\n",
    "    count = 0\n",
    "    start_p = 0\n",
    "    while p < len(s) and q < len(new):\n",
    "        if p == len(s):\n",
    "            break\n",
    "        if s[p] == new[q]:\n",
    "            p+=1\n",
    "            q+=1\n",
    "        elif s[p]!=new[q] and new[q] != \"-\":\n",
    "            if p >start_p:\n",
    "                start_p = p\n",
    "                count += 1\n",
    "            q+=1\n",
    "        elif s[p] != new[q]:\n",
    "            q+=1    \n",
    "    return count\n",
    "\n",
    "\n",
    "s = \"3141592653589793238462643383279\"\n",
    "#    314-49-9001-15926535897-14-9323-8462643383279-4-793-\n",
    "l = ['314', '49', '9001', '159265', '35897', '14', '9323', '8462643383279', '4', '793']\n",
    "function(s, l)"
   ]
  },
  {
   "cell_type": "code",
   "execution_count": 1,
   "metadata": {},
   "outputs": [
    {
     "data": {
      "text/plain": [
       "[2, 5]"
      ]
     },
     "execution_count": 1,
     "metadata": {},
     "output_type": "execute_result"
    }
   ],
   "source": [
    "def function(arr1, arr2, arr3):\n",
    "    i = 0\n",
    "    j = 0\n",
    "    k = 0\n",
    "        \n",
    "    res = []\n",
    "    arr1 = list(set(arr1))\n",
    "    arr2 = list(set(arr2))\n",
    "    arr3 = list(set(arr3))\n",
    "        \n",
    "    while i < len(arr1) and j < len(arr2) and k < len(arr3):\n",
    "        if arr1[i] == arr2[j] == arr3[k]:\n",
    "            res.append(arr1[i])\n",
    "            i += 1\n",
    "            j += 1\n",
    "            k += 1\n",
    "        elif arr1[i] == arr2[j] and arr1[i] != arr3[k]:\n",
    "            if arr3[k] > arr1[i]:\n",
    "                i += 1\n",
    "                j += 1\n",
    "            else:\n",
    "                k += 1\n",
    "        elif arr1[i] == arr3[k] and arr2[j] != arr1[i]:\n",
    "            if arr2[j] > arr1[i]:\n",
    "                i += 1\n",
    "                k += 1\n",
    "            else:\n",
    "                j += 1\n",
    "        elif arr2[j] == arr3[k] and arr1[i] != arr2[j]:\n",
    "            if arr1[i] > arr3[k]:\n",
    "                j += 1\n",
    "                k += 1\n",
    "            else:\n",
    "                i += 1\n",
    "        else:\n",
    "            if arr1[i] < arr2[j] and arr1[i] < arr3[k]:\n",
    "                i += 1\n",
    "            elif arr1[i] > arr2[j] and arr1[i] < arr3[k]:\n",
    "                j += 1\n",
    "            else:\n",
    "                k += 1              \n",
    "    return res\n",
    "\n",
    "arr1 = [1,2,3,4,5]\n",
    "arr2 = [1,2,5,7,9]\n",
    "arr3 = [2,3,4,5,8]\n",
    "function(arr1, arr2, arr3)"
   ]
  },
  {
   "cell_type": "code",
   "execution_count": 4,
   "metadata": {},
   "outputs": [
    {
     "name": "stdout",
     "output_type": "stream",
     "text": [
      "4\n",
      "3\n",
      "2\n"
     ]
    },
    {
     "data": {
      "text/plain": [
       "'12'"
      ]
     },
     "execution_count": 4,
     "metadata": {},
     "output_type": "execute_result"
    }
   ],
   "source": [
    "def countAndSay(n: int) -> str:\n",
    "    if n <= 0: return \"\"\n",
    "    res = \"1\"\n",
    "    while n > 1:\n",
    "        print(n)\n",
    "        current = \"\"\n",
    "        for i in range(len(res)):\n",
    "            count = 1\n",
    "            while (i<len(res)-1 and res[i] == res[i+1]):\n",
    "                count += 1\n",
    "                i+=1\n",
    "            current = current + str(count)\n",
    "            current = current + str(res[i])\n",
    "            print(current)\n",
    "        res=current \n",
    "        n-=1  \n",
    "    return res\n",
    "n = 4\n",
    "countAndSay(n)"
   ]
  },
  {
   "cell_type": "code",
   "execution_count": 4,
   "metadata": {},
   "outputs": [
    {
     "data": {
      "text/plain": [
       "[[0, 0, 0], [0, 0, 0], [0, 0, 0], [0, 0, 0], [0, 0, 0]]"
      ]
     },
     "execution_count": 4,
     "metadata": {},
     "output_type": "execute_result"
    }
   ],
   "source": [
    "row, cols = (5, 3)\n",
    "arr = [[0 for i in range(cols)] for j in range(row)]\n",
    "arr"
   ]
  },
  {
   "cell_type": "code",
   "execution_count": 17,
   "metadata": {},
   "outputs": [
    {
     "data": {
      "text/plain": [
       "[[0, 0, 0, 0, 0], [0, 0, 0, 0, 0], [0, 0, 0, 0, 0]]"
      ]
     },
     "execution_count": 17,
     "metadata": {},
     "output_type": "execute_result"
    }
   ],
   "source": [
    "matrix = [[1,5,6],[8,7,3],[1,5,9]]\n",
    "#matrix = [x for row in matrix for x in row]\n",
    "matrix = [[x for x in row] for row in matrix]\n",
    "matrix\n",
    "\n",
    "r = 3\n",
    "c = 5\n",
    "\n",
    "x = [[0 for i in range(c)] for j in range(r)]\n",
    "x"
   ]
  },
  {
   "cell_type": "code",
   "execution_count": 20,
   "metadata": {},
   "outputs": [
    {
     "data": {
      "text/plain": [
       "[[4, 1, 2, 3], [7, 8, 5, 10], [13, 9, 6, 11], [14, 15, 16, 12]]"
      ]
     },
     "execution_count": 20,
     "metadata": {},
     "output_type": "execute_result"
    }
   ],
   "source": [
    "# rotate the matrix elements:\n",
    "def matrix_rotation(m):\n",
    "    top = 0\n",
    "    bottom = len(matrix)-1\n",
    "    left = 0\n",
    "    right = len(matrix[0])-1\n",
    "    \n",
    "    while left < right and top<bottom:\n",
    "        prev = matrix[top+1][left]\n",
    "        \n",
    "        # move the elements of the first row:\n",
    "        for i in range(left, right+1):\n",
    "            current = matrix[top][i]\n",
    "            matrix[top][i] = prev\n",
    "            prev = current\n",
    "        top+=1\n",
    "        \n",
    "        # move the elements in the rightmost column:\n",
    "        for i in range(top, bottom+1):\n",
    "            current = matrix[i][right]\n",
    "            matrix[i][right] = prev\n",
    "            prev = current\n",
    "        right -=1\n",
    "        \n",
    "        # move the elements in the bottom\n",
    "        for i in range(right, left-1, -1):\n",
    "            current = matrix[bottom][i]\n",
    "            matrix[bottom][i] = prev\n",
    "            prev = current\n",
    "        bottom -= 1\n",
    "        \n",
    "        # move the left most column elements:\n",
    "        for i in range(bottom, top-1, -1):\n",
    "            current = matrix[i][left]\n",
    "            matrix[i][left] = prev\n",
    "            prev = current\n",
    "        left += 1\n",
    "        \n",
    "    return matrix\n",
    "    \n",
    "matrix = [[1, 2, 3, 10],\n",
    "          [4, 5, 6, 11],\n",
    "          [7, 8, 9, 12],\n",
    "          [13,14,15,16]]\n",
    "matrix_rotation(matrix)\n"
   ]
  },
  {
   "cell_type": "code",
   "execution_count": 22,
   "metadata": {},
   "outputs": [
    {
     "data": {
      "text/plain": [
       "[[4, 1, 2, 3], [7, 13, 5, 10], [13, 9, 6, 11], [14, 15, 16, 12]]"
      ]
     },
     "execution_count": 22,
     "metadata": {},
     "output_type": "execute_result"
    }
   ],
   "source": [
    "def function_rotate_matrix(m):\n",
    "    top, bottom, left, right = 0, len(m)-1, 0, len(m[0])-1\n",
    "    while top<bottom and left<right:\n",
    "        prev = m[top+1][0]\n",
    "        # move the top row elements:\n",
    "        for i in range(left, right+1):\n",
    "            current = m[top][i]\n",
    "            m[top][i] = prev\n",
    "            prev = current\n",
    "        top+=1\n",
    "        \n",
    "        # move right most column:\n",
    "        for i in range(top, bottom+1):\n",
    "            current = m[i][right]\n",
    "            m[i][right] = prev\n",
    "            prev = current\n",
    "        right -= 1\n",
    "        \n",
    "        for i in range(right, left-1, -1):\n",
    "            current = m[bottom][i]\n",
    "            m[bottom][i] = prev\n",
    "            prev = current\n",
    "        bottom -=1 \n",
    "        \n",
    "        for i in range(bottom, top-1, -1):\n",
    "            current = m[i][left]\n",
    "            m[i][left] = prev\n",
    "            prev = current\n",
    "        left += 1\n",
    "    return m\n",
    "\n",
    "matrix = [[1, 2, 3, 10],\n",
    "          [4, 5, 6, 11],\n",
    "          [7, 8, 9, 12],\n",
    "          [13,14,15,16]]\n",
    "function_rotate_matrix(matrix)"
   ]
  },
  {
   "cell_type": "code",
   "execution_count": 49,
   "metadata": {},
   "outputs": [
    {
     "data": {
      "text/plain": [
       "[[4, 8, 12, 16], [3, 7, 11, 15], [2, 6, 10, 14], [1, 5, 9, 13]]"
      ]
     },
     "execution_count": 49,
     "metadata": {},
     "output_type": "execute_result"
    }
   ],
   "source": [
    "# rotate the matrix elements by 90 degrees in anticlockwise direction:\n",
    "\n",
    "# clockwise: matrix transpose + reverse the each row\n",
    "# anticlock: matrix transpose + reverse the matrix\n",
    "\n",
    "def function1(m):\n",
    "    n = len(m)\n",
    "    for i in range(n//2):\n",
    "        for j in range(i, n-i-1):\n",
    "            temp = m[i][j]\n",
    "            m[i][j] = m[j][n-1-i]\n",
    "            m[j][n-1-i] = m[n-1-i][n-1-j]\n",
    "            m[n-1-i][n-1-j] = m[n-1-j][i]\n",
    "            m[n-1-j][i] = temp\n",
    "    return m\n",
    "#############################################\n",
    "def function2(m):\n",
    "    m = transpose(m)\n",
    "    return reverse(m)\n",
    "def transpose(m):\n",
    "    for i in range(len(m)):\n",
    "        for j in range(i, len(m)):\n",
    "            m[j][i], m[i][j] = m[i][j], m[j][i]\n",
    "    return m\n",
    "def reverse(m):\n",
    "    i, j = 0, len(m)-1\n",
    "    while i<j:\n",
    "        temp = m[i]\n",
    "        m[i] = m[j]\n",
    "        m[j] = temp\n",
    "        i+=1\n",
    "        j-=1\n",
    "    return m\n",
    "##################################################\n",
    "matrix = [[1,2,3,4],\n",
    "          [5,6,7,8],\n",
    "          [9,10,11,12],\n",
    "          [13,14,15,16]]\n",
    "function2(matrix)           "
   ]
  },
  {
   "cell_type": "code",
   "execution_count": 55,
   "metadata": {},
   "outputs": [
    {
     "data": {
      "text/plain": [
       "[[13, 9, 5, 1], [14, 10, 6, 2], [15, 11, 7, 3], [16, 12, 8, 4]]"
      ]
     },
     "execution_count": 55,
     "metadata": {},
     "output_type": "execute_result"
    }
   ],
   "source": [
    "# rotate the matrix elements in the clockwise direction:\n",
    "def function1(m):\n",
    "    n = len(m)\n",
    "    for i in range(n//2):\n",
    "        for j in range(i, n-1-i):\n",
    "            temp = m[i][j]\n",
    "            m[i][j] = m[n-1-j][i]\n",
    "            m[n-1-j][i] = m[n-1-i][n-1-j]\n",
    "            m[n-1-i][n-1-j] = m[j][n-1-i]\n",
    "            m[j][n-1-i] = temp  \n",
    "    return m\n",
    "\n",
    "def function2(m):\n",
    "    m = transpose(m)\n",
    "    for i in range(len(m)):\n",
    "        m[i] = m[i][::-1]\n",
    "    return m\n",
    "    \n",
    "def transpose(m):\n",
    "    for i in range(len(m)):\n",
    "        for j in range(i, len(m)):\n",
    "            m[j][i], m[i][j] = m[i][j], m[j][i]\n",
    "    return m\n",
    "matrix = [[1,2,3,4],\n",
    "          [5,6,7,8],\n",
    "          [9,10,11,12],\n",
    "          [13,14,15,16]]          \n",
    "            \n",
    "function2(matrix)"
   ]
  },
  {
   "cell_type": "code",
   "execution_count": 57,
   "metadata": {},
   "outputs": [
    {
     "data": {
      "text/plain": [
       "[[9, 8, 7], [6, 5, 4], [3, 2, 1]]"
      ]
     },
     "execution_count": 57,
     "metadata": {},
     "output_type": "execute_result"
    }
   ],
   "source": [
    "# rotate the matrix by 180 degrees:\n",
    "def function(m):\n",
    "    for i in range(len(m)):\n",
    "        m[i] = m[i][::-1]\n",
    "    i = 0\n",
    "    j = len(m)-1\n",
    "    while i<j:\n",
    "        temp = m[i]\n",
    "        m[i] = m[j]\n",
    "        m[j] = temp\n",
    "        i+=1\n",
    "        j-=1\n",
    "    return m\n",
    "\n",
    "m = [[1,2,3],[4,5,6],[7,8,9]]\n",
    "function(m)\n",
    "    \n",
    "    "
   ]
  },
  {
   "cell_type": "code",
   "execution_count": 39,
   "metadata": {},
   "outputs": [
    {
     "data": {
      "text/plain": [
       "[3, 4, 5, 6, 7, 8, 9, 10, 1, 2, 11, 12]"
      ]
     },
     "execution_count": 39,
     "metadata": {},
     "output_type": "execute_result"
    }
   ],
   "source": [
    "# rotate each ring of matrix anticlockwise by k elements:\n",
    "def spiral_traverse(m, k):\n",
    "    row = len(m)\n",
    "    col = len(m[0])\n",
    "    temp = []\n",
    "    result = [[0 for i in range(row)] for j in range(col)]\n",
    "    \n",
    "    left, right, top, bottom = 0, len(m[0])-1, 0, len(m)-1\n",
    "    d = 0\n",
    "    temp_start = 0\n",
    "    temp_end = 0\n",
    "    while left <= right and top<= bottom:\n",
    "        if d == 0:\n",
    "            for i in range(left, right+1):\n",
    "                temp.append(m[top][i])\n",
    "            top+=1\n",
    "        elif d == 1:\n",
    "            for i in range(top, bottom+1):\n",
    "                temp.append(m[i][right])\n",
    "            right -=1\n",
    "        elif d == 2:\n",
    "            for i in range(right, left-1, -1):\n",
    "                temp.append(m[bottom][i])\n",
    "            bottom-=1\n",
    "        elif d == 3:\n",
    "            for i in range(bottom, top-1, -1):\n",
    "                temp.append(m[i][left])\n",
    "            left += 1\n",
    "        d =(d+1)%4\n",
    "        if d == 0:\n",
    "            temp_end = len(temp)\n",
    "            temp = shift_k(temp[temp_start:temp_end], k)\n",
    "        temp_start = temp_end\n",
    "    temp_end = len(temp)\n",
    "    if len(temp[temp_start:temp_end]) > k:\n",
    "        t = shift_k(temp[temp_start:temp_end], k)\n",
    "        temp[temp_start:] = t\n",
    "        \n",
    "    return temp\n",
    "    \n",
    "\n",
    "def shift_k(arr, k):\n",
    "    # shift the arr k bits either clockwise or anticlockwise based on the given problem\n",
    "    if k == 0: return \n",
    "    n = len(arr)\n",
    "    reverse(arr, 0, k-1)\n",
    "    reverse(arr, k, n-1)\n",
    "    reverse(arr, 0, n-1)\n",
    "    return arr\n",
    "def reverse(arr, start, end):\n",
    "    while start<end:\n",
    "        t = arr[start]\n",
    "        arr[start] = arr[end]\n",
    "        arr[end] = t\n",
    "        start += 1\n",
    "        end -=1\n",
    "        \n",
    "\n",
    "m = [[1, 2, 3, 4],\n",
    "     [10, 11, 12, 5],\n",
    "     [9, 8, 7, 6]]\n",
    "k = 2\n",
    "spiral_traverse(m, k)"
   ]
  },
  {
   "cell_type": "code",
   "execution_count": 2,
   "metadata": {},
   "outputs": [],
   "source": [
    "# spiral form of matrix\n",
    "def spiral_form(matrix):\n",
    "    top, bottom, left, right = 0, len(matrix), 0, len(matrix[0])\n",
    "    "
   ]
  },
  {
   "cell_type": "code",
   "execution_count": 1,
   "metadata": {},
   "outputs": [
    {
     "data": {
      "text/plain": [
       "[[1, 1], [1, 2], [1, 0], [0, 0], [0, 1], [0, 2], [0, 3], [1, 3]]"
      ]
     },
     "execution_count": 1,
     "metadata": {},
     "output_type": "execute_result"
    }
   ],
   "source": [
    "#  leetcode 885:\n",
    "def spiral_matrix3(r, c, r0, c0):\n",
    "    # r-> number of rows; c->number of columns; r0-> starting row location; c0-> starting column location\n",
    "    \n",
    "    res = [[r0, c0]]\n",
    "    dirs = [(0,1), (1,0), (0,-1), (-1, 0)]\n",
    "    dir_idx = 0\n",
    "    steps = 1\n",
    "    increment = 1\n",
    "    while len(res) < r*c:\n",
    "        for i in range(increment):\n",
    "            r0, c0 = r0+dirs[dir_idx][0], c0+dirs[dir_idx][1]\n",
    "            if r0>=0 and r0<r and c0>=0 and c0<c:\n",
    "                res.append([r0, c0])\n",
    "                \n",
    "        dir_idx = (dir_idx+1)%4\n",
    "        if steps % 2 ==0 :\n",
    "            increment += 1\n",
    "        steps+=1\n",
    "    return res\n",
    "r = 2\n",
    "c = 4\n",
    "r0 = 1\n",
    "c0 = 1\n",
    "spiral_matrix3(r, c, r0, c0)\n",
    "    \n",
    " "
   ]
  },
  {
   "cell_type": "code",
   "execution_count": 60,
   "metadata": {},
   "outputs": [
    {
     "name": "stdout",
     "output_type": "stream",
     "text": [
      "[[1, 5, 9, 13], [2, 6, 10, 14], [3, 7, 11, 15], [4, 8, 12, 16]]\n"
     ]
    },
    {
     "data": {
      "text/plain": [
       "[[13, 9, 5, 1], [14, 10, 6, 2], [15, 11, 7, 3], [16, 12, 8, 4]]"
      ]
     },
     "execution_count": 60,
     "metadata": {},
     "output_type": "execute_result"
    }
   ],
   "source": []
  },
  {
   "cell_type": "code",
   "execution_count": 72,
   "metadata": {},
   "outputs": [
    {
     "data": {
      "text/plain": [
       "[[13, 9, 5, 1], [14, 10, 6, 2], [15, 11, 7, 3], [16, 12, 8, 4]]"
      ]
     },
     "execution_count": 72,
     "metadata": {},
     "output_type": "execute_result"
    }
   ],
   "source": [
    "# rotate the matrix by 90 degerees:\n",
    "#  but this transpose methode works only if the matrix is square  matrix\n",
    "def rotate_matrix(m):\n",
    "    # transpose\n",
    "    for i in range(len(m)): # row\n",
    "        for j in range(i, len(m)): # cols\n",
    "            m[j][i], m[i][j] =  m[i][j], m[j][i]\n",
    "    for i in range(len(m)):\n",
    "        m[i] = m[i][::-1]\n",
    "    return m\n",
    "        \n",
    "m = [[1,2,3,4],\n",
    "     [5,6,7,8],\n",
    "     [9,10,11,12],\n",
    "     [13,14,15,16]]  \n",
    "rotate_matrix(m)"
   ]
  },
  {
   "cell_type": "code",
   "execution_count": 80,
   "metadata": {},
   "outputs": [
    {
     "data": {
      "text/plain": [
       "[[9, 5, 1], [10, 6, 2], [11, 7, 3], [12, 8, 4]]"
      ]
     },
     "execution_count": 80,
     "metadata": {},
     "output_type": "execute_result"
    }
   ],
   "source": [
    "# rotate the matrix by 90 degerees:\n",
    "#  but this transpose methode works only if the matrix is square  matrix\n",
    "def rotate_matrix(m):\n",
    "    # transpose\n",
    "    m_t = [[0 for i in range(len(m))] for j in range(len(m[0]))]\n",
    "    for i in range(len(m[0])): # cols\n",
    "        for j in range(len(m)): # rows\n",
    "            m_t[i][j] = m[j][i]\n",
    "    for i in range(len(m_t)):\n",
    "        m_t[i] = reverse(m_t[i])\n",
    "    return m_t\n",
    "def reverse(arr):\n",
    "    start = 0\n",
    "    end = len(arr)-1\n",
    "    while start < end:\n",
    "        temp = arr[start]\n",
    "        arr[start] = arr[end]\n",
    "        arr[end] = temp\n",
    "        start+=1\n",
    "        end -= 1\n",
    "    return arr\n",
    "m = [[1,2,3,4],\n",
    "     [5,6,7,8],\n",
    "     [9,10,11,12]]  \n",
    "rotate_matrix(m)"
   ]
  },
  {
   "cell_type": "code",
   "execution_count": 9,
   "metadata": {},
   "outputs": [
    {
     "data": {
      "text/plain": [
       "False"
      ]
     },
     "execution_count": 9,
     "metadata": {},
     "output_type": "execute_result"
    }
   ],
   "source": [
    "# check if all the rows of matrix are circularly rotate to each other.\n",
    "def check_rows_circularly_rotate(m):\n",
    "    for i in range(len(m)):\n",
    "        for j in range(len(m[0])):\n",
    "            m[i][j] = str(m[i][j])\n",
    "    s = \"\"\n",
    "    for i in m[0]:\n",
    "        s+=str(i)\n",
    "    s+=s\n",
    "    for i in range(1, len(m)):\n",
    "        if \"\".join(m[i]) not in s:\n",
    "            return False\n",
    "    return True\n",
    "\n",
    "m = [[1,2,3],[3,2,1],[2,3,1]]\n",
    "check_rows_circularly_rotate(m)\n"
   ]
  },
  {
   "cell_type": "code",
   "execution_count": 17,
   "metadata": {},
   "outputs": [
    {
     "data": {
      "text/plain": [
       "-1"
      ]
     },
     "execution_count": 17,
     "metadata": {},
     "output_type": "execute_result"
    }
   ],
   "source": [
    "# find the row with maximum number of 1's\n",
    "def row_with_maximum_1_1(m):\n",
    "    res = 0\n",
    "    idx = 0\n",
    "    for i in range(len(m)):\n",
    "        if count_(m[i]) > res:\n",
    "            res = count_(m[i])\n",
    "            idx = i\n",
    "    return idx\n",
    "    \n",
    "def count_(arr):\n",
    "    c = 0\n",
    "    for i in arr:\n",
    "        if i == 1: c+=1\n",
    "    return c\n",
    "###########################################################\n",
    "\n",
    "def row_with_maximum_1_2(m):\n",
    "    idx = 0\n",
    "    res = 0\n",
    "    col = len(m[0])\n",
    "    for i in range(len(m)):\n",
    "        temp = count_1(m[i])\n",
    "        if col - temp > res:\n",
    "            res = col-temp\n",
    "            idx = i\n",
    "    return idx\n",
    "def count_1(arr):\n",
    "    start = 0\n",
    "    end = len(arr)\n",
    "    while start<end:\n",
    "        mid = start+(end-start) //2\n",
    "        if (mid == 0 or arr[mid-1] == 0) and arr[mid] == 1:\n",
    "            return mid\n",
    "        elif arr[mid] == 0:\n",
    "            start = mid+1\n",
    "        else:\n",
    "            end = mid-1\n",
    "    return -1\n",
    "\n",
    "m = [[0,1,1,1],[0,0,1,1],[1,1,1,1],[0,0,0,0]]\n",
    "row_with_maximum_1_2(m)\n",
    "arr = [0,1,1,1,1]\n",
    "count_1(arr)"
   ]
  },
  {
   "cell_type": "code",
   "execution_count": 4,
   "metadata": {},
   "outputs": [
    {
     "data": {
      "text/plain": [
       "[[1, 2, 3], [8, 9, 4], [7, 6, 5]]"
      ]
     },
     "execution_count": 4,
     "metadata": {},
     "output_type": "execute_result"
    }
   ],
   "source": [
    "def printSpiralOrder(A, mat):\n",
    "    M = N = len(mat)\n",
    "    top = left = 0\n",
    "    bottom = M - 1\n",
    "    right = N - 1\n",
    "\n",
    "    index = 0\n",
    "\n",
    "    while True:\n",
    "        if left > right: break\n",
    "        for i in range(left, right + 1):\n",
    "            mat[top][i] = A[index]\n",
    "            index = index + 1\n",
    "        top = top + 1\n",
    "        if top > bottom: break\n",
    "        for i in range(top, bottom + 1):\n",
    "            mat[i][right] = A[index]\n",
    "            index = index + 1\n",
    "        right = right - 1\n",
    "        if left > right: break\n",
    "        for i in range(right, left - 1, -1):\n",
    "            mat[bottom][i] = A[index]\n",
    "            index = index + 1\n",
    "        bottom = bottom - 1\n",
    "        if top > bottom: break\n",
    "        for i in range(bottom, top - 1, -1):\n",
    "            mat[i][left] = A[index]\n",
    "            index = index + 1\n",
    "        left = left + 1\n",
    "    return mat\n",
    "\n",
    "a = [1,2,3,4,5,6,7,8,9]\n",
    "m = [[0,0,0],[0,0,0],[0,0,0,]]\n",
    "printSpiralOrder(a, m)"
   ]
  },
  {
   "cell_type": "code",
   "execution_count": null,
   "metadata": {},
   "outputs": [],
   "source": []
  }
 ],
 "metadata": {
  "kernelspec": {
   "display_name": "Python 3",
   "language": "python",
   "name": "python3"
  },
  "language_info": {
   "codemirror_mode": {
    "name": "ipython",
    "version": 3
   },
   "file_extension": ".py",
   "mimetype": "text/x-python",
   "name": "python",
   "nbconvert_exporter": "python",
   "pygments_lexer": "ipython3",
   "version": "3.7.0"
  }
 },
 "nbformat": 4,
 "nbformat_minor": 2
}
