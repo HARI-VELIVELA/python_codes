{
 "cells": [
  {
   "cell_type": "code",
   "execution_count": 2,
   "metadata": {},
   "outputs": [],
   "source": [
    "# writng to the file\n",
    "\n",
    "text_to_write = \"hari, how are you man\"\n",
    "\n",
    "x = open(\"fileout\",'w')\n",
    "x.write(text_to_write)\n",
    "x.close()"
   ]
  },
  {
   "cell_type": "code",
   "execution_count": 10,
   "metadata": {},
   "outputs": [],
   "source": [
    "# appendig a file:\n",
    "\n",
    "text_to_append = \"how is it going?\"\n",
    "\n",
    "x = open(\"fileout\",'a')\n",
    "x.write('\\n')\n",
    "x.write(text_to_append)\n",
    "x.close()"
   ]
  },
  {
   "cell_type": "code",
   "execution_count": 12,
   "metadata": {},
   "outputs": [
    {
     "name": "stdout",
     "output_type": "stream",
     "text": [
      "hari, how are you manhow is it going?\n",
      "how is it going?\n",
      "how is it going?\n",
      "how is it going?\n",
      "['hari, how are you manhow is it going?\\n', 'how is it going?\\n', 'how is it going?\\n', 'how is it going?']\n",
      "['hari, how are you manhow is it going?', 'how is it going?', 'how is it going?', 'how is it going?']\n"
     ]
    }
   ],
   "source": [
    "# Reading from a file:\n",
    "\n",
    "y = open(\"fileout\",'r').read()\n",
    "\n",
    "print(y)\n",
    "y1 = open(\"fileout\",'r').readlines()\n",
    "print(y1)\n",
    "print(y.split('\\n'))"
   ]
  },
  {
   "cell_type": "code",
   "execution_count": null,
   "metadata": {},
   "outputs": [],
   "source": []
  }
 ],
 "metadata": {
  "kernelspec": {
   "display_name": "Python 3",
   "language": "python",
   "name": "python3"
  },
  "language_info": {
   "codemirror_mode": {
    "name": "ipython",
    "version": 3
   },
   "file_extension": ".py",
   "mimetype": "text/x-python",
   "name": "python",
   "nbconvert_exporter": "python",
   "pygments_lexer": "ipython3",
   "version": "3.7.0"
  }
 },
 "nbformat": 4,
 "nbformat_minor": 2
}
