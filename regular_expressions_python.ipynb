{
 "cells": [
  {
   "cell_type": "code",
   "execution_count": null,
   "metadata": {},
   "outputs": [],
   "source": [
    "\"\"\"\n",
    ".   --> anything(it might be character, dot, digit, symbol, or any special character)\n",
    "\\   --> used for escape character\n",
    "\\d  --> pattern to find the digits(0-9)  # \\d\\d\\d --> gives you the three digit pair\n",
    "\\D  --> not a digit(0 - 9)\n",
    "\\w  --> word character(a-z, A-Z, 0-9)\n",
    "\\W  --> not a word character\n",
    "\\s  --> whitespace (space, tab, newline)\n",
    "\\S  --> not a white space (space, tab, newline)\n",
    "\n",
    "\\b  --> word boundary\n",
    "\\B  --> not a word boundary\n",
    "^   --> beginning of the string    # ^start\n",
    "if we put the carrot sign in the character set it means negate(~)--> except the characters\n",
    "if we put the carrot sign before the character set it means it matches with strings start with the letters mentioned in [] \n",
    "\n",
    "$   --> end of the string          # end$\n",
    "\n",
    "()   --> to create the group\n",
    "|    --> either or \n",
    "\n",
    "\n",
    "Quantifiers:\n",
    "------------\n",
    "*    -> 0 or more\n",
    "+    -> 1 or more\n",
    "?    -> 0 or one\n",
    "{3}  -> exact number\n",
    "{3,4}-> range of numbers (minimum to maximum)\n",
    "\n",
    "\n",
    "\"\"\"\n"
   ]
  },
  {
   "cell_type": "code",
   "execution_count": 86,
   "metadata": {},
   "outputs": [
    {
     "name": "stdout",
     "output_type": "stream",
     "text": [
      "\n",
      "google.com\n",
      "coreyms.com\n",
      "chase.com\n",
      "youtube.com\n",
      "nasa.gov\n",
      "\n",
      "<callable_iterator object at 0x000001F0495A07B8>\n",
      "<re.Match object; span=(1, 23), match='https://www.google.com'>\n",
      "<re.Match object; span=(24, 42), match='http://coreyms.com'>\n",
      "<re.Match object; span=(43, 60), match='https://chase.com'>\n",
      "<re.Match object; span=(61, 80), match='https://youtube.com'>\n",
      "<re.Match object; span=(81, 101), match='https://www.nasa.gov'>\n"
     ]
    }
   ],
   "source": [
    "urls = '''\n",
    "https://www.google.com\n",
    "http://coreyms.com\n",
    "https://chase.com\n",
    "https://youtube.com\n",
    "https://www.nasa.gov\n",
    "'''\n",
    "#pattern = re.compile(r'https?://(www.)?\\w+\\.\\w+')\n",
    "pattern = re.compile(r'https?://(www\\.)?(\\w+)(\\.\\w+)')\n",
    "subbed_urls = pattern.sub(r'\\2\\3', urls)\n",
    "print(subbed_urls)\n",
    "matches = pattern.finditer(urls)\n",
    "print(matches)\n",
    "for i in matches:\n",
    "    print(i)"
   ]
  },
  {
   "cell_type": "code",
   "execution_count": 73,
   "metadata": {},
   "outputs": [
    {
     "name": "stdout",
     "output_type": "stream",
     "text": [
      "<callable_iterator object at 0x000001F0495A02B0>\n",
      "<re.Match object; span=(1, 24), match='harivelivela1@gmail.com'>\n",
      "<re.Match object; span=(25, 48), match='CoreyMSchafar@ymail.com'>\n",
      "<re.Match object; span=(49, 76), match='James.Pattinson@my-work.net'>\n",
      "<re.Match object; span=(77, 109), match='Corey-321-schafer@university.edu'>\n",
      "<re.Match object; span=(110, 137), match='James.Pattinson@my-work.net'>\n"
     ]
    }
   ],
   "source": [
    "import re\n",
    "string = '''Hi Hari abcdefghijklmnopqrstuvwxyz hey 9809109  816-482-2070 alpharetta, GA 800-256-5968 900-256-4789\n",
    "          944-179-0641 984*584*5869 123#456#7890\n",
    "          Mr. Hari Velivela\n",
    "          Mr James Robbinson\n",
    "          Mr. Tim Paine\n",
    "          Mr. Joe Root\n",
    "          Mr. T\n",
    "          Ms. Davis\n",
    "          Mrs. Rob\n",
    "          cat mat bat rat fat \n",
    "'''\n",
    "emails = '''\n",
    "harivelivela1@gmail.com\n",
    "CoreyMSchafar@ymail.com\n",
    "James.Pattinson@my-work.net\n",
    "Corey-321-schafer@university.edu\n",
    "James.Pattinson@my-work.net\n",
    "'''\n",
    "# pattern = re.compile(r'[a-zA-Z0-9]+@[a-zA-Z]+\\.com')\n",
    "#pattern = re.compile(r'[a-zA-Z0-9.]+@[a-zA-Z]+\\.(com|edu|net)')\n",
    "pattern = re.compile(r'[a-zA-Z0-9.-]+@[a-zA-Z-]+\\.(com|edu|net)')\n",
    "matches = pattern.finditer(emails)\n",
    "print(matches)\n",
    "for i in matches:\n",
    "    print(i)"
   ]
  },
  {
   "cell_type": "code",
   "execution_count": 62,
   "metadata": {},
   "outputs": [
    {
     "name": "stdout",
     "output_type": "stream",
     "text": [
      "<callable_iterator object at 0x000001F049583748>\n",
      "<re.Match object; span=(177, 185), match='Mr. Hari'>\n",
      "<re.Match object; span=(205, 213), match='Mr James'>\n",
      "<re.Match object; span=(234, 241), match='Mr. Tim'>\n",
      "<re.Match object; span=(258, 265), match='Mr. Joe'>\n",
      "<re.Match object; span=(281, 286), match='Mr. T'>\n",
      "<re.Match object; span=(297, 306), match='Ms. Davis'>\n",
      "<re.Match object; span=(317, 325), match='Mrs. Rob'>\n"
     ]
    }
   ],
   "source": [
    "import re\n",
    "string = '''Hi Hari abcdefghijklmnopqrstuvwxyz hey 9809109 hari.v@gmail.com 816-482-2070 alpharetta, GA 800-256-5968 900-256-4789\n",
    "          944-179-0641 984*584*5869 123#456#7890\n",
    "          Mr. Hari Velivela\n",
    "          Mr James Robbinson\n",
    "          Mr. Tim Paine\n",
    "          Mr. Joe Root\n",
    "          Mr. T\n",
    "          Ms. Davis\n",
    "          Mrs. Rob\n",
    "          cat mat bat rat fat \n",
    "'''\n",
    "# i want the words that match ending with 'at' in the end except bat.\n",
    "# pattern = re.compile(r'M(r|s|rs)\\.?\\s[A-Z]\\w*')\n",
    "pattern = re.compile(r'(Mr|Ms|Mrs)\\.?\\s[A-Z]\\w*')\n",
    "matches = pattern.finditer(string)\n",
    "print(matches)\n",
    "for i in matches:\n",
    "    print(i)"
   ]
  },
  {
   "cell_type": "code",
   "execution_count": 55,
   "metadata": {},
   "outputs": [
    {
     "name": "stdout",
     "output_type": "stream",
     "text": [
      "<callable_iterator object at 0x000001F049579E80>\n",
      "<re.Match object; span=(177, 185), match='Mr. Hari'>\n",
      "<re.Match object; span=(205, 213), match='Mr James'>\n",
      "<re.Match object; span=(260, 267), match='Mr. Joe'>\n",
      "<re.Match object; span=(283, 288), match='Mr. T'>\n"
     ]
    }
   ],
   "source": [
    "import re\n",
    "string = '''Hi Hari abcdefghijklmnopqrstuvwxyz hey 9809109 hari.v@gmail.com 816-482-2070 alpharetta, GA 800-256-5968 900-256-4789\n",
    "          944-179-0641 984*584*5869 123#456#7890\n",
    "          Mr. Hari Velivela\n",
    "          Mr James Robbinson\n",
    "          Mr.   Tim Paine\n",
    "          Mr. Joe Root\n",
    "          Mr. T\n",
    "          Ms. Davis\n",
    "          Mrs. Rob\n",
    "          cat mat bat rat fat \n",
    "'''\n",
    "# i want the words that match ending with 'at' in the end except bat.\n",
    "pattern = re.compile(r'Mr\\.?\\s[A-Z]\\w*')\n",
    "matches = pattern.finditer(string)\n",
    "print(matches)\n",
    "for i in matches:\n",
    "    print(i)"
   ]
  },
  {
   "cell_type": "code",
   "execution_count": 25,
   "metadata": {},
   "outputs": [
    {
     "name": "stdout",
     "output_type": "stream",
     "text": [
      "<callable_iterator object at 0x000001F049579160>\n",
      "<re.Match object; span=(129, 132), match='cat'>\n",
      "<re.Match object; span=(133, 136), match='mat'>\n",
      "<re.Match object; span=(141, 144), match='rat'>\n",
      "<re.Match object; span=(145, 148), match='fat'>\n"
     ]
    }
   ],
   "source": [
    "import re\n",
    "\n",
    "string = '''Hi Hari abcdefghijklmnopqrstuvwxyz hey 9809109 hari.v@gmail.com 816-482-2070 alpharetta, GA 800-256-5968 900-256-4789\n",
    "          944-179-0641 984*584*5869 123#456#7890\n",
    "          cat mat bat rat fat \n",
    "'''\n",
    "# i want the words that match ending with 'at' in the end except bat.\n",
    "pattern = re.compile(r'[^b]at')\n",
    "matches = pattern.finditer(string)\n",
    "print(matches)\n",
    "for i in matches:\n",
    "    print(i)"
   ]
  },
  {
   "cell_type": "code",
   "execution_count": 19,
   "metadata": {},
   "outputs": [
    {
     "name": "stdout",
     "output_type": "stream",
     "text": [
      "<callable_iterator object at 0x000001F0494CF5F8>\n",
      "<re.Match object; span=(92, 104), match='800-256-5968'>\n",
      "<re.Match object; span=(105, 117), match='900-256-4789'>\n"
     ]
    }
   ],
   "source": [
    "import re\n",
    "\n",
    "string = \"Hi Hari abcdefghijklmnopqrstuvwxyz hey 9809109 hari.v@gmail.com 816-482-2070 alpharetta, GA 800-256-5968 900-256-4789\"\n",
    "pattern = re.compile(r'[89]00[.-]\\d\\d\\d[.-]\\d\\d\\d\\d')\n",
    "matches = pattern.finditer(string)\n",
    "print(matches)\n",
    "for i in matches:\n",
    "    print(i)"
   ]
  },
  {
   "cell_type": "code",
   "execution_count": 16,
   "metadata": {},
   "outputs": [
    {
     "name": "stdout",
     "output_type": "stream",
     "text": [
      "<callable_iterator object at 0x000001F0494CF668>\n",
      "<re.Match object; span=(64, 76), match='816-482-2070'>\n",
      "<re.Match object; span=(92, 104), match='944.179.0641'>\n"
     ]
    }
   ],
   "source": [
    "import re\n",
    "\n",
    "string = \"Hi Hari abcdefghijklmnopqrstuvwxyz hey 9809109 hari.v@gmail.com 816-482-2070 alpharetta, GA 944.179.0641 990*849*1199\"\n",
    "pattern = re.compile(r'\\d\\d\\d[.-]\\d\\d\\d[.-]\\d\\d\\d\\d')\n",
    "matches = pattern.finditer(string)\n",
    "print(matches)\n",
    "for i in matches:\n",
    "    print(i)"
   ]
  }
 ],
 "metadata": {
  "kernelspec": {
   "display_name": "Python 3",
   "language": "python",
   "name": "python3"
  },
  "language_info": {
   "codemirror_mode": {
    "name": "ipython",
    "version": 3
   },
   "file_extension": ".py",
   "mimetype": "text/x-python",
   "name": "python",
   "nbconvert_exporter": "python",
   "pygments_lexer": "ipython3",
   "version": "3.7.0"
  }
 },
 "nbformat": 4,
 "nbformat_minor": 2
}
