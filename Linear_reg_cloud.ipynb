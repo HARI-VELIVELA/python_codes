{
 "cells": [
  {
   "cell_type": "code",
   "execution_count": 15,
   "metadata": {},
   "outputs": [],
   "source": [
    "# imports\n",
    "import numpy as np\n",
    "import pandas as pd\n",
    "import matplotlib.pyplot as plt\n",
    "\n",
    "# this allows plots to appear directly in the notebook\n",
    "%matplotlib inline"
   ]
  },
  {
   "cell_type": "code",
   "execution_count": 2,
   "metadata": {},
   "outputs": [
    {
     "data": {
      "text/html": [
       "<div>\n",
       "<style scoped>\n",
       "    .dataframe tbody tr th:only-of-type {\n",
       "        vertical-align: middle;\n",
       "    }\n",
       "\n",
       "    .dataframe tbody tr th {\n",
       "        vertical-align: top;\n",
       "    }\n",
       "\n",
       "    .dataframe thead th {\n",
       "        text-align: right;\n",
       "    }\n",
       "</style>\n",
       "<table border=\"1\" class=\"dataframe\">\n",
       "  <thead>\n",
       "    <tr style=\"text-align: right;\">\n",
       "      <th></th>\n",
       "      <th>DistrictID</th>\n",
       "      <th>Autism</th>\n",
       "      <th>Kstudent</th>\n",
       "      <th>Rate</th>\n",
       "      <th>Area_km</th>\n",
       "      <th>LC11</th>\n",
       "      <th>LC21</th>\n",
       "      <th>LC2B</th>\n",
       "      <th>LC31</th>\n",
       "      <th>LC4</th>\n",
       "      <th>...</th>\n",
       "      <th>LC2B06</th>\n",
       "      <th>LC3106</th>\n",
       "      <th>LC406</th>\n",
       "      <th>LC5206</th>\n",
       "      <th>LC7106</th>\n",
       "      <th>LC806</th>\n",
       "      <th>LC906</th>\n",
       "      <th>RLC2B06</th>\n",
       "      <th>RLC406</th>\n",
       "      <th>RLC7106</th>\n",
       "    </tr>\n",
       "  </thead>\n",
       "  <tbody>\n",
       "    <tr>\n",
       "      <th>0</th>\n",
       "      <td>1</td>\n",
       "      <td>1</td>\n",
       "      <td>338</td>\n",
       "      <td>2.96</td>\n",
       "      <td>11.3</td>\n",
       "      <td>0.04</td>\n",
       "      <td>8.81</td>\n",
       "      <td>17.41</td>\n",
       "      <td>0.00</td>\n",
       "      <td>60.02</td>\n",
       "      <td>...</td>\n",
       "      <td>17.29</td>\n",
       "      <td>0.00</td>\n",
       "      <td>60.57</td>\n",
       "      <td>2.59</td>\n",
       "      <td>10.70</td>\n",
       "      <td>0.00</td>\n",
       "      <td>0.00</td>\n",
       "      <td>1.729</td>\n",
       "      <td>6.057</td>\n",
       "      <td>1.070</td>\n",
       "    </tr>\n",
       "    <tr>\n",
       "      <th>1</th>\n",
       "      <td>2</td>\n",
       "      <td>54</td>\n",
       "      <td>5516</td>\n",
       "      <td>9.79</td>\n",
       "      <td>868.6</td>\n",
       "      <td>0.01</td>\n",
       "      <td>3.31</td>\n",
       "      <td>3.57</td>\n",
       "      <td>6.03</td>\n",
       "      <td>0.01</td>\n",
       "      <td>...</td>\n",
       "      <td>2.96</td>\n",
       "      <td>6.03</td>\n",
       "      <td>0.02</td>\n",
       "      <td>87.33</td>\n",
       "      <td>0.23</td>\n",
       "      <td>0.21</td>\n",
       "      <td>0.07</td>\n",
       "      <td>0.296</td>\n",
       "      <td>0.002</td>\n",
       "      <td>0.023</td>\n",
       "    </tr>\n",
       "    <tr>\n",
       "      <th>2</th>\n",
       "      <td>3</td>\n",
       "      <td>0</td>\n",
       "      <td>111</td>\n",
       "      <td>0.00</td>\n",
       "      <td>171.6</td>\n",
       "      <td>0.19</td>\n",
       "      <td>3.05</td>\n",
       "      <td>1.21</td>\n",
       "      <td>0.15</td>\n",
       "      <td>37.29</td>\n",
       "      <td>...</td>\n",
       "      <td>1.21</td>\n",
       "      <td>0.16</td>\n",
       "      <td>37.30</td>\n",
       "      <td>26.27</td>\n",
       "      <td>21.46</td>\n",
       "      <td>10.02</td>\n",
       "      <td>0.33</td>\n",
       "      <td>0.121</td>\n",
       "      <td>3.730</td>\n",
       "      <td>2.146</td>\n",
       "    </tr>\n",
       "    <tr>\n",
       "      <th>3</th>\n",
       "      <td>4</td>\n",
       "      <td>16</td>\n",
       "      <td>6837</td>\n",
       "      <td>2.34</td>\n",
       "      <td>169.0</td>\n",
       "      <td>0.17</td>\n",
       "      <td>5.07</td>\n",
       "      <td>9.46</td>\n",
       "      <td>0.04</td>\n",
       "      <td>19.55</td>\n",
       "      <td>...</td>\n",
       "      <td>9.18</td>\n",
       "      <td>0.04</td>\n",
       "      <td>19.56</td>\n",
       "      <td>21.23</td>\n",
       "      <td>21.28</td>\n",
       "      <td>22.92</td>\n",
       "      <td>0.47</td>\n",
       "      <td>0.918</td>\n",
       "      <td>1.956</td>\n",
       "      <td>2.128</td>\n",
       "    </tr>\n",
       "    <tr>\n",
       "      <th>4</th>\n",
       "      <td>5</td>\n",
       "      <td>0</td>\n",
       "      <td>53</td>\n",
       "      <td>0.00</td>\n",
       "      <td>52.4</td>\n",
       "      <td>0.00</td>\n",
       "      <td>3.01</td>\n",
       "      <td>1.67</td>\n",
       "      <td>0.89</td>\n",
       "      <td>0.00</td>\n",
       "      <td>...</td>\n",
       "      <td>1.67</td>\n",
       "      <td>0.89</td>\n",
       "      <td>0.00</td>\n",
       "      <td>0.00</td>\n",
       "      <td>31.53</td>\n",
       "      <td>62.71</td>\n",
       "      <td>0.20</td>\n",
       "      <td>0.167</td>\n",
       "      <td>0.000</td>\n",
       "      <td>3.153</td>\n",
       "    </tr>\n",
       "  </tbody>\n",
       "</table>\n",
       "<p>5 rows × 47 columns</p>\n",
       "</div>"
      ],
      "text/plain": [
       "   DistrictID  Autism  Kstudent  Rate  Area_km  LC11  LC21   LC2B  LC31  \\\n",
       "0           1       1       338  2.96     11.3  0.04  8.81  17.41  0.00   \n",
       "1           2      54      5516  9.79    868.6  0.01  3.31   3.57  6.03   \n",
       "2           3       0       111  0.00    171.6  0.19  3.05   1.21  0.15   \n",
       "3           4      16      6837  2.34    169.0  0.17  5.07   9.46  0.04   \n",
       "4           5       0        53  0.00     52.4  0.00  3.01   1.67  0.89   \n",
       "\n",
       "     LC4   ...     LC2B06  LC3106  LC406  LC5206  LC7106  LC806  LC906  \\\n",
       "0  60.02   ...      17.29    0.00  60.57    2.59   10.70   0.00   0.00   \n",
       "1   0.01   ...       2.96    6.03   0.02   87.33    0.23   0.21   0.07   \n",
       "2  37.29   ...       1.21    0.16  37.30   26.27   21.46  10.02   0.33   \n",
       "3  19.55   ...       9.18    0.04  19.56   21.23   21.28  22.92   0.47   \n",
       "4   0.00   ...       1.67    0.89   0.00    0.00   31.53  62.71   0.20   \n",
       "\n",
       "   RLC2B06  RLC406  RLC7106  \n",
       "0    1.729   6.057    1.070  \n",
       "1    0.296   0.002    0.023  \n",
       "2    0.121   3.730    2.146  \n",
       "3    0.918   1.956    2.128  \n",
       "4    0.167   0.000    3.153  \n",
       "\n",
       "[5 rows x 47 columns]"
      ]
     },
     "execution_count": 2,
     "metadata": {},
     "output_type": "execute_result"
    }
   ],
   "source": [
    "data = pd.read_csv(\"cleaned.csv\")\n",
    "data.head()"
   ]
  },
  {
   "cell_type": "code",
   "execution_count": 3,
   "metadata": {},
   "outputs": [
    {
     "data": {
      "text/plain": [
       "(543, 47)"
      ]
     },
     "execution_count": 3,
     "metadata": {},
     "output_type": "execute_result"
    }
   ],
   "source": [
    "data.shape\n"
   ]
  },
  {
   "cell_type": "code",
   "execution_count": 4,
   "metadata": {},
   "outputs": [
    {
     "data": {
      "text/plain": [
       "Index(['DistrictID', 'Autism', 'Kstudent', 'Rate', 'Area_km', 'LC11', 'LC21',\n",
       "       'LC2B', 'LC31', 'LC4', 'LC52', 'LC71', 'LC8', 'LC9', 'Avecanopy',\n",
       "       'Roadensity', 'Rd4', 'Pop', 'Popm', 'Popf', 'Malep', 'Femalep',\n",
       "       'Popden', 'Age19l', 'Age65m', 'Whitep', 'Blackp', 'Asisanp', 'Unemploy',\n",
       "       'Income_median', 'Income_sd_median', 'RLC2b', 'RLC4', 'RLC71',\n",
       "       'Rcanopy', 'LC1106', 'LC2106', 'LC2B06', 'LC3106', 'LC406', 'LC5206',\n",
       "       'LC7106', 'LC806', 'LC906', 'RLC2B06', 'RLC406', 'RLC7106'],\n",
       "      dtype='object')"
      ]
     },
     "execution_count": 4,
     "metadata": {},
     "output_type": "execute_result"
    }
   ],
   "source": [
    "data.columns"
   ]
  },
  {
   "cell_type": "code",
   "execution_count": 5,
   "metadata": {},
   "outputs": [
    {
     "data": {
      "text/html": [
       "<div>\n",
       "<style scoped>\n",
       "    .dataframe tbody tr th:only-of-type {\n",
       "        vertical-align: middle;\n",
       "    }\n",
       "\n",
       "    .dataframe tbody tr th {\n",
       "        vertical-align: top;\n",
       "    }\n",
       "\n",
       "    .dataframe thead th {\n",
       "        text-align: right;\n",
       "    }\n",
       "</style>\n",
       "<table border=\"1\" class=\"dataframe\">\n",
       "  <thead>\n",
       "    <tr style=\"text-align: right;\">\n",
       "      <th></th>\n",
       "      <th>DistrictID</th>\n",
       "      <th>Autism</th>\n",
       "      <th>Kstudent</th>\n",
       "      <th>Rate</th>\n",
       "      <th>Area_km</th>\n",
       "      <th>LC11</th>\n",
       "      <th>LC21</th>\n",
       "      <th>LC2B</th>\n",
       "      <th>LC31</th>\n",
       "      <th>LC4</th>\n",
       "      <th>...</th>\n",
       "      <th>LC2B06</th>\n",
       "      <th>LC3106</th>\n",
       "      <th>LC406</th>\n",
       "      <th>LC5206</th>\n",
       "      <th>LC7106</th>\n",
       "      <th>LC806</th>\n",
       "      <th>LC906</th>\n",
       "      <th>RLC2B06</th>\n",
       "      <th>RLC406</th>\n",
       "      <th>RLC7106</th>\n",
       "    </tr>\n",
       "  </thead>\n",
       "  <tbody>\n",
       "    <tr>\n",
       "      <th>0</th>\n",
       "      <td>1</td>\n",
       "      <td>1</td>\n",
       "      <td>338</td>\n",
       "      <td>2.96</td>\n",
       "      <td>11.3</td>\n",
       "      <td>0.04</td>\n",
       "      <td>8.81</td>\n",
       "      <td>17.41</td>\n",
       "      <td>0.00</td>\n",
       "      <td>60.02</td>\n",
       "      <td>...</td>\n",
       "      <td>17.29</td>\n",
       "      <td>0.00</td>\n",
       "      <td>60.57</td>\n",
       "      <td>2.59</td>\n",
       "      <td>10.70</td>\n",
       "      <td>0.00</td>\n",
       "      <td>0.00</td>\n",
       "      <td>1.729</td>\n",
       "      <td>6.057</td>\n",
       "      <td>1.070</td>\n",
       "    </tr>\n",
       "    <tr>\n",
       "      <th>1</th>\n",
       "      <td>2</td>\n",
       "      <td>54</td>\n",
       "      <td>5516</td>\n",
       "      <td>9.79</td>\n",
       "      <td>868.6</td>\n",
       "      <td>0.01</td>\n",
       "      <td>3.31</td>\n",
       "      <td>3.57</td>\n",
       "      <td>6.03</td>\n",
       "      <td>0.01</td>\n",
       "      <td>...</td>\n",
       "      <td>2.96</td>\n",
       "      <td>6.03</td>\n",
       "      <td>0.02</td>\n",
       "      <td>87.33</td>\n",
       "      <td>0.23</td>\n",
       "      <td>0.21</td>\n",
       "      <td>0.07</td>\n",
       "      <td>0.296</td>\n",
       "      <td>0.002</td>\n",
       "      <td>0.023</td>\n",
       "    </tr>\n",
       "    <tr>\n",
       "      <th>2</th>\n",
       "      <td>3</td>\n",
       "      <td>0</td>\n",
       "      <td>111</td>\n",
       "      <td>0.00</td>\n",
       "      <td>171.6</td>\n",
       "      <td>0.19</td>\n",
       "      <td>3.05</td>\n",
       "      <td>1.21</td>\n",
       "      <td>0.15</td>\n",
       "      <td>37.29</td>\n",
       "      <td>...</td>\n",
       "      <td>1.21</td>\n",
       "      <td>0.16</td>\n",
       "      <td>37.30</td>\n",
       "      <td>26.27</td>\n",
       "      <td>21.46</td>\n",
       "      <td>10.02</td>\n",
       "      <td>0.33</td>\n",
       "      <td>0.121</td>\n",
       "      <td>3.730</td>\n",
       "      <td>2.146</td>\n",
       "    </tr>\n",
       "    <tr>\n",
       "      <th>3</th>\n",
       "      <td>4</td>\n",
       "      <td>16</td>\n",
       "      <td>6837</td>\n",
       "      <td>2.34</td>\n",
       "      <td>169.0</td>\n",
       "      <td>0.17</td>\n",
       "      <td>5.07</td>\n",
       "      <td>9.46</td>\n",
       "      <td>0.04</td>\n",
       "      <td>19.55</td>\n",
       "      <td>...</td>\n",
       "      <td>9.18</td>\n",
       "      <td>0.04</td>\n",
       "      <td>19.56</td>\n",
       "      <td>21.23</td>\n",
       "      <td>21.28</td>\n",
       "      <td>22.92</td>\n",
       "      <td>0.47</td>\n",
       "      <td>0.918</td>\n",
       "      <td>1.956</td>\n",
       "      <td>2.128</td>\n",
       "    </tr>\n",
       "    <tr>\n",
       "      <th>4</th>\n",
       "      <td>5</td>\n",
       "      <td>0</td>\n",
       "      <td>53</td>\n",
       "      <td>0.00</td>\n",
       "      <td>52.4</td>\n",
       "      <td>0.00</td>\n",
       "      <td>3.01</td>\n",
       "      <td>1.67</td>\n",
       "      <td>0.89</td>\n",
       "      <td>0.00</td>\n",
       "      <td>...</td>\n",
       "      <td>1.67</td>\n",
       "      <td>0.89</td>\n",
       "      <td>0.00</td>\n",
       "      <td>0.00</td>\n",
       "      <td>31.53</td>\n",
       "      <td>62.71</td>\n",
       "      <td>0.20</td>\n",
       "      <td>0.167</td>\n",
       "      <td>0.000</td>\n",
       "      <td>3.153</td>\n",
       "    </tr>\n",
       "  </tbody>\n",
       "</table>\n",
       "<p>5 rows × 47 columns</p>\n",
       "</div>"
      ],
      "text/plain": [
       "   DistrictID  Autism  Kstudent  Rate  Area_km  LC11  LC21   LC2B  LC31  \\\n",
       "0           1       1       338  2.96     11.3  0.04  8.81  17.41  0.00   \n",
       "1           2      54      5516  9.79    868.6  0.01  3.31   3.57  6.03   \n",
       "2           3       0       111  0.00    171.6  0.19  3.05   1.21  0.15   \n",
       "3           4      16      6837  2.34    169.0  0.17  5.07   9.46  0.04   \n",
       "4           5       0        53  0.00     52.4  0.00  3.01   1.67  0.89   \n",
       "\n",
       "     LC4   ...     LC2B06  LC3106  LC406  LC5206  LC7106  LC806  LC906  \\\n",
       "0  60.02   ...      17.29    0.00  60.57    2.59   10.70   0.00   0.00   \n",
       "1   0.01   ...       2.96    6.03   0.02   87.33    0.23   0.21   0.07   \n",
       "2  37.29   ...       1.21    0.16  37.30   26.27   21.46  10.02   0.33   \n",
       "3  19.55   ...       9.18    0.04  19.56   21.23   21.28  22.92   0.47   \n",
       "4   0.00   ...       1.67    0.89   0.00    0.00   31.53  62.71   0.20   \n",
       "\n",
       "   RLC2B06  RLC406  RLC7106  \n",
       "0    1.729   6.057    1.070  \n",
       "1    0.296   0.002    0.023  \n",
       "2    0.121   3.730    2.146  \n",
       "3    0.918   1.956    2.128  \n",
       "4    0.167   0.000    3.153  \n",
       "\n",
       "[5 rows x 47 columns]"
      ]
     },
     "execution_count": 5,
     "metadata": {},
     "output_type": "execute_result"
    }
   ],
   "source": [
    "data_new = data[['DistrictID', 'Autism', 'Kstudent', 'Rate', 'Area_km', 'LC11', 'LC21',\n",
    "       'LC2B', 'LC31', 'LC4', 'LC52', 'LC71', 'LC8', 'LC9', 'Avecanopy',\n",
    "       'Roadensity', 'Rd4', 'Pop', 'Popm', 'Popf', 'Malep', 'Femalep',\n",
    "       'Popden', 'Age19l', 'Age65m', 'Whitep', 'Blackp', 'Asisanp', 'Unemploy',\n",
    "       'Income_median', 'Income_sd_median', 'RLC2b', 'RLC4', 'RLC71',\n",
    "       'Rcanopy', 'LC1106', 'LC2106', 'LC2B06', 'LC3106', 'LC406', 'LC5206',\n",
    "       'LC7106', 'LC806', 'LC906', 'RLC2B06', 'RLC406', 'RLC7106']]\n",
    "data_new.head()"
   ]
  },
  {
   "cell_type": "code",
   "execution_count": 8,
   "metadata": {},
   "outputs": [
    {
     "name": "stdout",
     "output_type": "stream",
     "text": [
      "   DistrictID  Autism  Kstudent  Rate  Area_km  LC11  LC21   LC2B  LC31  \\\n",
      "0           1       1       338  2.96     11.3  0.04  8.81  17.41  0.00   \n",
      "1           2      54      5516  9.79    868.6  0.01  3.31   3.57  6.03   \n",
      "2           3       0       111  0.00    171.6  0.19  3.05   1.21  0.15   \n",
      "3           4      16      6837  2.34    169.0  0.17  5.07   9.46  0.04   \n",
      "4           5       0        53  0.00     52.4  0.00  3.01   1.67  0.89   \n",
      "\n",
      "     LC4   ...     LC2B06  LC3106  LC406  LC5206  LC7106  LC806  LC906  \\\n",
      "0  60.02   ...      17.29    0.00  60.57    2.59   10.70   0.00   0.00   \n",
      "1   0.01   ...       2.96    6.03   0.02   87.33    0.23   0.21   0.07   \n",
      "2  37.29   ...       1.21    0.16  37.30   26.27   21.46  10.02   0.33   \n",
      "3  19.55   ...       9.18    0.04  19.56   21.23   21.28  22.92   0.47   \n",
      "4   0.00   ...       1.67    0.89   0.00    0.00   31.53  62.71   0.20   \n",
      "\n",
      "   RLC2B06  RLC406  RLC7106  \n",
      "0    1.729   6.057    1.070  \n",
      "1    0.296   0.002    0.023  \n",
      "2    0.121   3.730    2.146  \n",
      "3    0.918   1.956    2.128  \n",
      "4    0.167   0.000    3.153  \n",
      "\n",
      "[5 rows x 47 columns]\n",
      "0    2.96\n",
      "1    9.79\n",
      "2    0.00\n",
      "3    2.34\n",
      "4    0.00\n",
      "Name: Rate, dtype: float64\n"
     ]
    }
   ],
   "source": [
    "X = data_new\n",
    "print(X.head())\n",
    "y = data_new.Rate\n",
    "print(y.head())"
   ]
  },
  {
   "cell_type": "code",
   "execution_count": 9,
   "metadata": {},
   "outputs": [
    {
     "data": {
      "text/plain": [
       "LinearRegression(copy_X=True, fit_intercept=True, n_jobs=1, normalize=False)"
      ]
     },
     "execution_count": 9,
     "metadata": {},
     "output_type": "execute_result"
    }
   ],
   "source": [
    "# follow the usual sklearn pattern: import, instantiate, fit\n",
    "from sklearn.linear_model import LinearRegression\n",
    "lm = LinearRegression()\n",
    "lm.fit(X, y)\n"
   ]
  },
  {
   "cell_type": "code",
   "execution_count": 10,
   "metadata": {},
   "outputs": [
    {
     "name": "stdout",
     "output_type": "stream",
     "text": [
      "3.34621255149159e-08\n",
      "[-3.09454772e-15  5.76713641e-13 -5.13928716e-15  1.00000000e+00\n",
      "  7.79597072e-15 -2.75801776e-11 -2.62422054e-11 -2.66618787e-11\n",
      " -2.67043279e-11 -2.64463037e-11 -2.68858622e-11 -2.65345769e-11\n",
      " -2.67966507e-11 -2.68374246e-11 -1.30353624e-13  4.82078412e-12\n",
      "  3.35584231e-13  4.65886123e-13 -4.65678048e-13 -4.66271718e-13\n",
      " -3.07814736e-10 -3.07710304e-10 -1.38588350e-15  2.11254065e-14\n",
      " -1.95328914e-13  1.64773326e-13 -3.08462849e-13  2.71203387e-13\n",
      " -6.57923650e-13 -1.85757542e-16 -2.23485418e-16 -2.75319149e-12\n",
      " -2.64024559e-12 -2.63785929e-12 -1.20473113e-14  1.51956627e-13\n",
      " -8.76063887e-14 -7.11702593e-16 -1.13890450e-13 -5.24707989e-14\n",
      "  3.35650073e-14 -7.55442879e-15 -6.86234413e-14 -1.94917565e-13\n",
      " -6.48880529e-16 -7.58230141e-15 -1.04479479e-15]\n"
     ]
    }
   ],
   "source": [
    "print(lm.intercept_)\n",
    "print(lm.coef_)"
   ]
  },
  {
   "cell_type": "code",
   "execution_count": 11,
   "metadata": {},
   "outputs": [
    {
     "name": "stdout",
     "output_type": "stream",
     "text": [
      "(407, 47) (136, 47) (407,) (136,)\n"
     ]
    },
    {
     "name": "stderr",
     "output_type": "stream",
     "text": [
      "C:\\Users\\veliv\\Anaconda3\\lib\\site-packages\\sklearn\\cross_validation.py:41: DeprecationWarning: This module was deprecated in version 0.18 in favor of the model_selection module into which all the refactored classes and functions are moved. Also note that the interface of the new CV iterators are different from that of this module. This module will be removed in 0.20.\n",
      "  \"This module will be removed in 0.20.\", DeprecationWarning)\n"
     ]
    }
   ],
   "source": [
    "    \n",
    "from sklearn import cross_validation\n",
    "x_train,x_test,y_train,y_test  = cross_validation.train_test_split(X,y)\n",
    "\n",
    "print(x_train.shape, x_test.shape, y_train.shape, y_test.shape)"
   ]
  },
  {
   "cell_type": "code",
   "execution_count": 16,
   "metadata": {},
   "outputs": [
    {
     "name": "stdout",
     "output_type": "stream",
     "text": [
      "mean Square Error vale is 0.00\n"
     ]
    }
   ],
   "source": [
    "lm.fit(x_train, y_train)\n",
    "print(\"mean Square Error vale is %.2f\"%np.mean((lm.predict(x_test)-y_test)**2))\n"
   ]
  },
  {
   "cell_type": "code",
   "execution_count": 19,
   "metadata": {},
   "outputs": [
    {
     "name": "stdout",
     "output_type": "stream",
     "text": [
      "variance is 1.00\n"
     ]
    }
   ],
   "source": [
    "\n",
    "#variance\n",
    "\n",
    "print(\"variance is %.2f\"%lm.score(x_test,y_test))\n",
    "\n"
   ]
  },
  {
   "cell_type": "code",
   "execution_count": 20,
   "metadata": {},
   "outputs": [
    {
     "name": "stdout",
     "output_type": "stream",
     "text": [
      "[ 2.23400000e+01  8.18000000e+00  1.76800000e+01  1.06124865e-12\n",
      "  1.52100000e+01  1.11100000e+01  1.35000000e+00  1.27100000e+01\n",
      "  1.32460868e-13  1.21200000e+01 -1.56045326e-12  2.86002559e-12\n",
      "  6.50000000e+00  6.49000000e+00  1.12500000e+01  9.75000000e+00\n",
      " -8.98800903e-12  1.80098027e-12  2.41000000e+00  1.04300000e+01\n",
      " -1.13303087e-12  3.30933318e-13  6.50000000e+00 -1.97403082e-12\n",
      "  3.62000000e+00  4.67000000e+00  1.31400000e+01 -2.57007194e-12\n",
      "  1.69500000e+01  5.31000000e+00  3.24000000e+00  8.81000000e+00\n",
      "  8.10000000e+00  9.89366518e-12 -5.35231097e-12  5.67000000e+00\n",
      "  2.22955576e-12 -1.60435056e-12  1.13500000e+01  1.05300000e+01\n",
      "  9.98331582e-13  9.79000000e+00  8.93000000e+00  2.89900000e+01\n",
      "  1.14100000e+01  1.05947253e-12  3.14000000e+00  8.44000000e+00\n",
      "  1.27100000e+01  1.10300000e+01  1.76000000e+00 -1.79278304e-12\n",
      " -5.29661000e-12  1.12264354e-12  3.78832617e-12  4.16700000e+01\n",
      "  9.07000000e+00 -6.07075342e-12  1.28200000e+01  7.65000000e+00\n",
      "  2.07000000e+00  7.04000000e+00  9.17000000e+00  5.22165952e-13\n",
      " -2.96182708e-13  4.60876837e-12  1.55900000e+01  4.59000000e+00\n",
      "  1.13600000e+01  7.38000000e+00  1.14000000e+01  4.89000000e+00\n",
      "  2.15394342e-12  9.54366581e-13  8.00000000e+00  8.24000000e+00\n",
      "  3.80000000e+00 -3.16862853e-13  8.39000000e+00  1.86100000e+01\n",
      "  2.64000000e+00  1.62838214e-12  8.68000000e+00  1.69874314e-13\n",
      "  5.83000000e+00  7.24000000e+00 -6.93192305e-13 -4.43049379e-14\n",
      "  6.26535980e-13  3.17000000e+00 -2.12275696e-12  1.75000000e+00\n",
      "  8.19000000e+00  6.82000000e+00 -2.96192893e-12  2.93533804e-12\n",
      " -5.17351038e-12  3.57100000e+01  1.93044565e-12  2.06217347e-12\n",
      " -1.89834867e-13  1.54321600e-12  6.01000000e+00  9.89000000e+00\n",
      "  1.28300000e+01  3.62000000e+00  2.03605675e-12  6.21000000e+00\n",
      "  5.25000000e+00  1.00200000e+01  2.77977704e-12  7.69000000e+00\n",
      " -1.01841660e-12 -7.69819717e-13  4.96000000e+00  3.13000000e+00\n",
      "  1.30700000e+01  2.77538208e-12  4.21551978e-12  3.76000000e+00\n",
      "  2.47124233e-12  4.22000000e+00  1.62999256e-13  7.73000000e+00\n",
      "  8.95000000e+00  2.10576191e-12  3.95000000e+00 -3.49932945e-13\n",
      "  2.12400000e+01  1.19400000e+01  1.82000000e+01  1.00500000e+01\n",
      " -9.72096456e-13  2.87000000e+00  3.55000000e+00  4.76000000e+00]\n"
     ]
    }
   ],
   "source": [
    "predictions = lm.predict(x_test)\n",
    "print(predictions)"
   ]
  },
  {
   "cell_type": "code",
   "execution_count": 21,
   "metadata": {},
   "outputs": [
    {
     "data": {
      "text/plain": [
       "1.0"
      ]
     },
     "execution_count": 21,
     "metadata": {},
     "output_type": "execute_result"
    }
   ],
   "source": [
    "lm.score(x_train,y_train)"
   ]
  },
  {
   "cell_type": "code",
   "execution_count": 22,
   "metadata": {},
   "outputs": [
    {
     "data": {
      "text/plain": [
       "1.0"
      ]
     },
     "execution_count": 22,
     "metadata": {},
     "output_type": "execute_result"
    }
   ],
   "source": [
    "lm.score(x_test,y_test)"
   ]
  },
  {
   "cell_type": "code",
   "execution_count": null,
   "metadata": {},
   "outputs": [],
   "source": []
  }
 ],
 "metadata": {
  "kernelspec": {
   "display_name": "Python 3",
   "language": "python",
   "name": "python3"
  },
  "language_info": {
   "codemirror_mode": {
    "name": "ipython",
    "version": 3
   },
   "file_extension": ".py",
   "mimetype": "text/x-python",
   "name": "python",
   "nbconvert_exporter": "python",
   "pygments_lexer": "ipython3",
   "version": "3.7.0"
  }
 },
 "nbformat": 4,
 "nbformat_minor": 2
}
