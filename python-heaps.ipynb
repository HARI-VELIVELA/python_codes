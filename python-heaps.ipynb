{
 "cells": [
  {
   "cell_type": "code",
   "execution_count": 1,
   "metadata": {},
   "outputs": [
    {
     "data": {
      "text/plain": [
       "\"\\nheaps are of two types:\\n1. min_heap --> root value is less than it's child values\\n2. max_heap  -> root value is grater than it's child value\\n\\nmin_heap:\\n\\ninsertion: insert the element at the empty space and if it's not following the rule of min/max heap bubble it up(swap with root)\\n           until it's fall under min/max heap proerty.\\n\\ndelete:\\n\\n\\n\\n\\n\""
      ]
     },
     "execution_count": 1,
     "metadata": {},
     "output_type": "execute_result"
    }
   ],
   "source": [
    "\"\"\"\n",
    "heaps are of two types:\n",
    "1. min_heap --> root value is less than it's child values\n",
    "2. max_heap  -> root value is grater than it's child value\n",
    "\n",
    "min_heap:\n",
    "\n",
    "insertion: insert the element at the empty space and if it's not following the rule of min/max heap bubble it up(swap with root)\n",
    "           until it's fall under min/max heap proerty.\n",
    "\n",
    "delete:\n",
    "\n",
    "O(1) --> get the maximum of heap\n",
    "O(log n) --> insertion and deletion\n",
    "\n",
    "current node = i\n",
    "left child = 2*i + 1\n",
    "right child = 2*i + 2\n",
    "parent node = floor((i-1)/2)\n",
    "\n",
    "\"\"\""
   ]
  },
  {
   "cell_type": "code",
   "execution_count": 16,
   "metadata": {},
   "outputs": [
    {
     "name": "stdout",
     "output_type": "stream",
     "text": [
      "[-1, -1, -1, -1, -1, -1, -1, -1, -1, -1]\n",
      "[-1, 819, 29, 19, 21, 10, 12, 18, 4, 15]\n"
     ]
    }
   ],
   "source": [
    "#from exceptions import Empty\n",
    "\n",
    "class ArrayHeap:\n",
    "    def __init__(self):\n",
    "        self.maxSize = 10\n",
    "        self.data = [-1]*self.maxSize\n",
    "        print(self.data)\n",
    "        self.currentSize = 0\n",
    "\n",
    "    def __len__(self):\n",
    "        return len(self.data)\n",
    "    def isempty(self):\n",
    "        return len(self.data) == 0\n",
    "    \n",
    "    def max_heap(self):\n",
    "        if self.currentSize == 0:\n",
    "            raise Empty(\"heap is empty\")\n",
    "        else: return self.data[1]\n",
    "        \n",
    "    def insert(self, key):\n",
    "        if self.currentSize == self.maxSize:\n",
    "            raise Empty(\"No space\")\n",
    "            \n",
    "        self.currentSize += 1\n",
    "        i = self.currentSize\n",
    "        while i != 1 and key > self.data[i//2]:\n",
    "            self.data[i] = self.data[i//2]\n",
    "            i = i // 2\n",
    "        self.data[i] = key\n",
    "        \n",
    "        \n",
    "    def delete_max(self):\n",
    "        if self.currentSize == 0: raise Empty(\"Heap is empty\")\n",
    "        x = self.data[1]\n",
    "        y = self.data[self.currentSize]\n",
    "        self.currentSize -= 1\n",
    "        \n",
    "        i, ci = 1, 2\n",
    "        while ci <= self.currentSize:\n",
    "            if ci <= self.currentSize and self.data[ci] < self.data[ci+1]: ci += 1  \n",
    "            if y > self.data[ci]: break\n",
    "                \n",
    "            self.data[i] = self.data[ci]\n",
    "            i = ci\n",
    "            ci = ci * 2\n",
    "        self.data[i] = y    \n",
    "        \n",
    "hp = ArrayHeap()\n",
    "hp.insert(10)\n",
    "hp.insert(15)\n",
    "hp.insert(12)\n",
    "hp.insert(4)\n",
    "hp.insert(21)\n",
    "hp.insert(19)\n",
    "hp.insert(18)\n",
    "hp.insert(29)\n",
    "hp.insert(819)\n",
    "\n",
    "\n",
    "print(hp.data)\n",
    "        "
   ]
  },
  {
   "cell_type": "code",
   "execution_count": 1,
   "metadata": {},
   "outputs": [
    {
     "name": "stdout",
     "output_type": "stream",
     "text": [
      "[2, 3, 5, 8, 10, 14, 6]\n",
      "[2, 3, 5, 8, 10, 14, 6, 25, 13, 57]\n",
      "[3, 8, 5, 13, 10, 14, 6, 25, 57]\n",
      "[5, 8, 6, 13, 10, 14, 21, 25, 57]\n",
      "[6, 8, 14, 13, 10, 24, 21, 25, 57]\n",
      "[57, 25, 24]\n",
      "[6, 8, 10]\n"
     ]
    }
   ],
   "source": [
    "\"\"\"\n",
    "heapq module:\n",
    "-----------------------\n",
    "heappush --> it will add the element to the heap without altering the heap -> adds element to the end\n",
    "heappop  ->  remove the element at the first index\n",
    "heapify -->  convert normal list into heap. first element in the heap is the smallest element and rest may not in sorted order\n",
    "heapreplace/heappushpop--> removes the smallest element in the heap and new element to the heap in any order\n",
    "\n",
    "nlargest --> retruns n largest elements in the heap\n",
    "\"\"\"\n",
    "\n",
    "import heapq\n",
    "h = [8,3,6,2,10,14,5]\n",
    "heapq.heapify(h)\n",
    "print(h)\n",
    "heapq.heappush(h, 25)\n",
    "heapq.heappush(h, 13)\n",
    "heapq.heappush(h, 57)\n",
    "print(h)\n",
    "heapq.heappop(h)\n",
    "print(h)\n",
    "heapq.heapreplace(h, 21)\n",
    "print(h)\n",
    "heapq.heappushpop(h, 24)\n",
    "print(h)\n",
    "\n",
    "l1 = heapq.nlargest(3, h)\n",
    "print(l1)\n",
    "l2 = heapq.nsmallest(3, h)\n",
    "print(l2)"
   ]
  },
  {
   "cell_type": "code",
   "execution_count": null,
   "metadata": {},
   "outputs": [],
   "source": [
    "\"\"\"\n",
    "priority queues: priority queues under the hood uses the min and max heap for it's implementation.\n",
    "\n",
    "\n",
    "\n",
    "\"\"\""
   ]
  },
  {
   "cell_type": "code",
   "execution_count": 1,
   "metadata": {},
   "outputs": [
    {
     "name": "stdout",
     "output_type": "stream",
     "text": [
      "[2, 3, 8, 5, 4]\n",
      "[4, 5, 8]\n"
     ]
    }
   ],
   "source": [
    "nums = [4,5,8,2]\n",
    "import heapq\n",
    "heapq.heapify(nums)\n",
    "heapq.heappush(nums, 3)\n",
    "print(nums)\n",
    "while len(nums)>3:\n",
    "    heapq.heappop(nums)\n",
    "print(nums)"
   ]
  },
  {
   "cell_type": "code",
   "execution_count": 3,
   "metadata": {},
   "outputs": [
    {
     "data": {
      "text/plain": [
       "[98, 74, 65]"
      ]
     },
     "execution_count": 3,
     "metadata": {},
     "output_type": "execute_result"
    }
   ],
   "source": [
    "import heapq\n",
    "a = [5,6,21,65,98,74,1,23,25]\n",
    "heapq.heapify(a)\n",
    "heapq.nsmallest(3, a)\n",
    "heapq.nlargest(3, a)"
   ]
  },
  {
   "cell_type": "code",
   "execution_count": 17,
   "metadata": {},
   "outputs": [
    {
     "data": {
      "text/plain": [
       "[0, 0, 3, 5, 6, 6, 7, 28]"
      ]
     },
     "execution_count": 17,
     "metadata": {},
     "output_type": "execute_result"
    }
   ],
   "source": [
    "# merge k sorted arrays:\n",
    "import heapq\n",
    "def merge_k_sorted1(list_of_list):\n",
    "    res  = []\n",
    "    min_heap = []\n",
    "    sorted_arr = [iter(x) for x in list_of_list] # creating the list iterator object\n",
    "    \n",
    "    # put the first element from each iterator in min_heap\n",
    "    for i, it in enumerate(sorted_arr):\n",
    "        first = next(it, None)\n",
    "        if first is not None:\n",
    "            heapq.heappush(min_heap, (first, i)) # here we aslo tracking the index of array\n",
    "    \n",
    "    while min_heap:\n",
    "        small, small_arr_i = heapq.heappop(min_heap)\n",
    "        res.append(small)\n",
    "        iter_arr = sorted_arr[small_arr_i]\n",
    "        next_element = next(iter_arr, None)\n",
    "        if next_element is not None:\n",
    "            heapq.heappush(min_heap, (next_element, small_arr_i))\n",
    "    return res\n",
    "\n",
    "def merge_k_sorted2(arrays):\n",
    "    return list(heapq.merge(*arrays))\n",
    "\n",
    "# time complexity --> O(nlogk)\n",
    "\"\"\" for extraction it will take O(1)T cuz, always we are popping the first element\n",
    "    but for insertion(heappush) while k elements in the min_heap, so it takes O(logk)T\n",
    "    so the total time complexity --> O(nlogk) --> n--> no.of elements and k -> no.of arrays we need to merge\n",
    "    \n",
    "    space complexity --> O(k) each time the min_heap only has k no.of elements in it\"\"\"\n",
    "\n",
    "arr = [[3,5,7],[0,6],[0,6,28]]\n",
    "merge_k_sorted1(arr)"
   ]
  },
  {
   "cell_type": "code",
   "execution_count": 14,
   "metadata": {},
   "outputs": [
    {
     "data": {
      "text/plain": [
       "[57, 131, 190, 221, 294, 339, 418, 442, 452, 493]"
      ]
     },
     "execution_count": 14,
     "metadata": {},
     "output_type": "execute_result"
    }
   ],
   "source": [
    "# sort the increasing and decreasing array:\n",
    "def sort_k_increasing_decreasing(arr):\n",
    "    sorted_subarrays = []\n",
    "    subarray_type = increasing\n",
    "    start_idx = 0\n",
    "    for i in range(1, len(arr)+1):\n",
    "        if i == len(arr) or (arr[i-1]<arr[i] and subarray_type==decreasing) or (arr[i-1]>=arr[i] and subarray_type==increasing):\n",
    "            if subarray_type is increasing:\n",
    "                sorted_subarrays.append(arr[start_idx:i])\n",
    "            else:\n",
    "                sorted_subarrays.append(arr[i-1:start_idx-1:-1])\n",
    "            \n",
    "            start_idx = i\n",
    "            subarray_type = decreasing if subarray_type is increasing else increasing\n",
    "    return merge_sorted_arrays(sorted_subarrays)\n",
    "\n",
    "def merge_sorted_arrays(arr):\n",
    "    min_heap = []\n",
    "    sorted_array_iter = [iter(x) for x in arr]\n",
    "    \n",
    "    for i, it in enumerate(sorted_array_iter):\n",
    "        first = next(it, None)\n",
    "        if first is not None:\n",
    "            heapq.heappush(min_heap, (first, i))\n",
    "    res = []\n",
    "    while min_heap:\n",
    "        val, iter_i = heapq.heappop(min_heap)\n",
    "        res.append(val)\n",
    "        next_iter = sorted_array_iter[iter_i]\n",
    "        next_element = next(next_iter, None)\n",
    "        \n",
    "        if next_element is not None:\n",
    "            heapq.heappush(min_heap, (next_element, iter_i))\n",
    "    return res\n",
    "        \n",
    "    \n",
    "\n",
    "arr = [57,131,493,294,221,339,418,452,442,190]\n",
    "sort_k_increasing_decreasing(arr)"
   ]
  },
  {
   "cell_type": "code",
   "execution_count": 32,
   "metadata": {},
   "outputs": [
    {
     "data": {
      "text/plain": [
       "[-1, -1, 2, 2, 3, 3, 4, 5, 6, 8]"
      ]
     },
     "execution_count": 32,
     "metadata": {},
     "output_type": "execute_result"
    }
   ],
   "source": [
    "################********************************************\n",
    "import itertools\n",
    "def sort_approximately_sorted_array(sequence, k):\n",
    "    min_heap = []\n",
    "    for x in itertools.islice(sequence, k):\n",
    "        heapq.heappush(min_heap, x)\n",
    "    result = []\n",
    "    for x in sequence:\n",
    "        smallest = heapq.heappushpop(min_heap, x)\n",
    "        result.append(smallest)   \n",
    "    while min_heap:\n",
    "        smallest = heapq.heappop(min_heap)\n",
    "        result.append(smallest)\n",
    "    return result\n",
    "\n",
    "arr = [3,-1,2,6,4,5,8]\n",
    "\n",
    "sort_approximately_sorted_array(arr, 3)\n"
   ]
  },
  {
   "cell_type": "code",
   "execution_count": 3,
   "metadata": {},
   "outputs": [
    {
     "data": {
      "text/plain": [
       "[(-1, 1), (1, -1), (1, 1)]"
      ]
     },
     "execution_count": 3,
     "metadata": {},
     "output_type": "execute_result"
    }
   ],
   "source": [
    "# find k closest points to the origin\n",
    "import heapq\n",
    "def distance(x, y):\n",
    "    return (x**2+y**2)\n",
    "def find_closest_points(arr, k):\n",
    "    max_heap = []\n",
    "    for p in arr:\n",
    "        heapq.heappush(max_heap, (-distance(p[0], p[1]),p))\n",
    "        if len(max_heap) == k+1:\n",
    "            heapq.heappop(max_heap)\n",
    "    return [s[1] for s in max_heap]\n",
    "\n",
    "\n",
    "arr = [(-3,1),(-1,-2),(-1,1),(1,-1),(1,3),(1,1),(2,0)]\n",
    "find_closest_points(arr, 3)    \n",
    "    \n"
   ]
  },
  {
   "cell_type": "code",
   "execution_count": 20,
   "metadata": {},
   "outputs": [
    {
     "data": {
      "text/plain": [
       "[1, 0.5, 1, 2.0, 2, 1.5, 1]"
      ]
     },
     "execution_count": 20,
     "metadata": {},
     "output_type": "execute_result"
    }
   ],
   "source": [
    "# finding the median of online data:\n",
    "import heapq\n",
    "def online_median(sequence):\n",
    "    min_heap = []\n",
    "    max_heap = []\n",
    "    res = []\n",
    "    for x in sequence:\n",
    "        heapq.heappush(max_heap, -heapq.heappushpop(min_heap, x))\n",
    "        if len(max_heap) > len(min_heap):\n",
    "            heapq.heappush(min_heap, -heapq.heappop(max_heap))\n",
    "        \n",
    "        \n",
    "        #res.append(0.5*(min_heap[0] + (-max_heap[0])) if len(min_heap) == len(max_heap) else min_heap[0])\n",
    "        if len(min_heap) == len(max_heap):\n",
    "            res.append((min_heap[0]+(-max_heap[0]))/2)\n",
    "        else:\n",
    "            res.append(min_heap[0])\n",
    "    return res\n",
    "            \n",
    "# time complexity of this algorithm is O(log n) --> insertion and extraction from the heap\n",
    "    \n",
    "arr = [1,0,3,5,2,0,1]\n",
    "online_median(arr)"
   ]
  },
  {
   "cell_type": "code",
   "execution_count": 2,
   "metadata": {},
   "outputs": [
    {
     "name": "stdout",
     "output_type": "stream",
     "text": [
      "[(-401, 2), (-314, 1)]\n",
      "[(-359, 5), (-314, 1), (-271, 6)]\n",
      "[(-314, 1), (-271, 6)]\n"
     ]
    },
    {
     "data": {
      "text/plain": [
       "[561, 401, 359]"
      ]
     },
     "execution_count": 2,
     "metadata": {},
     "output_type": "execute_result"
    }
   ],
   "source": [
    "# computer the k largest element in the max-heap\n",
    "import heapq\n",
    "def k_largest_elements_binary_heap(arr, k):\n",
    "    if k<=0: return []\n",
    "    max_heap = []\n",
    "    max_heap.append((-arr[0], 0))\n",
    "    \n",
    "    res = []\n",
    "    for _ in range(k):\n",
    "        idx = max_heap[0][1]\n",
    "        res.append(-heapq.heappop(max_heap)[0])\n",
    "        left_idx = 2*idx+1\n",
    "        if left_idx<len(arr):\n",
    "            heapq.heappush(max_heap, (-arr[left_idx], left_idx))\n",
    "            \n",
    "        right_idx = 2*idx+2\n",
    "        if right_idx < len(arr):\n",
    "            heapq.heappush(max_heap, (-arr[right_idx], right_idx))\n",
    "        \n",
    "        print(max_heap)\n",
    "    return res\n",
    "\n",
    "\n",
    "k = 3\n",
    "arr = [561,314,401,228,156,359,271,11,3]\n",
    "k_largest_elements_binary_heap(arr, k)        \n",
    "            \n",
    "            \n",
    "            "
   ]
  },
  {
   "cell_type": "code",
   "execution_count": 1,
   "metadata": {},
   "outputs": [
    {
     "name": "stdout",
     "output_type": "stream",
     "text": [
      "[-3, -1, -3]\n",
      "[-5, -3, -1]\n",
      "[-3, -1, -3]\n",
      "[-6, -3, -1]\n",
      "[-7, -1, -3]\n"
     ]
    },
    {
     "data": {
      "text/plain": [
       "[3, 3, 5, 3, 6]"
      ]
     },
     "execution_count": 1,
     "metadata": {},
     "output_type": "execute_result"
    }
   ],
   "source": [
    "import heapq\n",
    "def function(arr, k):\n",
    "    max_heap = arr[0:k]\n",
    "    for i in range(len(max_heap)):\n",
    "        if max_heap[i]>0: max_heap[i]*= -1\n",
    "    heapq.heapify(max_heap)\n",
    "    e = arr[0]\n",
    "    i = k\n",
    "    res = []\n",
    "    while i < len(arr):\n",
    "        res.append(-max_heap[0])\n",
    "        if e <= 0: max_heap.remove(e)\n",
    "        else: max_heap.remove(-e)\n",
    "        e = arr[i]\n",
    "        heapq.heappush(max_heap, arr[i] if arr[i]<=0 else -arr[i]) \n",
    "        print(max_heap)\n",
    "        i+=1\n",
    "    return res\n",
    "    \n",
    "    ############## WRONG ############\n",
    "arr = [1,3,-1,-3,5,3,6,7]\n",
    "k = 3\n",
    "function(arr, k)"
   ]
  },
  {
   "cell_type": "code",
   "execution_count": 1,
   "metadata": {},
   "outputs": [
    {
     "name": "stdout",
     "output_type": "stream",
     "text": [
      "[(0, 0, 1), (2, 1, 2)]\n",
      "[(2, 0, 2), (2, 1, 2)]\n",
      "[(2, 1, 2)]\n",
      "[]\n"
     ]
    },
    {
     "data": {
      "text/plain": [
       "2"
      ]
     },
     "execution_count": 1,
     "metadata": {},
     "output_type": "execute_result"
    }
   ],
   "source": [
    "import heapq\n",
    "def function(nums, k):\n",
    "    n = len(nums)\n",
    "    nums.sort()\n",
    "    heap = [(nums[i+1]-nums[i], i, i+1) for i in range(n-1)]\n",
    "    heapq.heapify(heap)\n",
    "    print(heap)\n",
    "    \n",
    "    for _ in range(k):\n",
    "        d, root, nei = heapq.heappop(heap)\n",
    "        if nei + 1< n:\n",
    "            heapq.heappush(heap, (nums[nei+1]-nums[root], root, nei+1))\n",
    "        print(heap)\n",
    "    return d\n",
    "\n",
    "nums = [1,3,1]\n",
    "k = 3\n",
    "function(nums, k)\n",
    "    "
   ]
  },
  {
   "cell_type": "code",
   "execution_count": 16,
   "metadata": {},
   "outputs": [
    {
     "data": {
      "text/plain": [
       "[[3, 4]]"
      ]
     },
     "execution_count": 16,
     "metadata": {},
     "output_type": "execute_result"
    }
   ],
   "source": [
    "def employee_free_time(schedule: [[]]):\n",
    "    sorted_schedule = []\n",
    "    for employee in schedule:\n",
    "        for interval in employee:\n",
    "            sorted_schedule.append(interval)        \n",
    "    sorted_schedule.sort(key = lambda x: x[0])\n",
    "    current = sorted_schedule[0]\n",
    "    res = [current]\n",
    "    for i in sorted_schedule[1:]:\n",
    "        current_start, current_end = current[0], current[1]\n",
    "        next_start, next_end = i[0], i[1]\n",
    "        if next_start < current_end:\n",
    "            res[-1][1] = max(current_end, next_end)\n",
    "        else:\n",
    "            res.append(i)\n",
    "            current = i\n",
    "    result = []\n",
    "    for i in range(len(res)-1):\n",
    "        result.append([res[i][1], res[i+1][0]])\n",
    "    return result\n",
    "    \n",
    "    \n",
    "sc = [[[1,2],[5,6]],[[1,3]],[[4,10]]]\n",
    "employee_free_time(sc)"
   ]
  },
  {
   "cell_type": "code",
   "execution_count": 1,
   "metadata": {},
   "outputs": [],
   "source": [
    "#leetcode : 56 merge intervals\n",
    "\n",
    "def merge_intervals(intervals):\n",
    "    pass\n"
   ]
  },
  {
   "cell_type": "code",
   "execution_count": 4,
   "metadata": {},
   "outputs": [
    {
     "data": {
      "text/plain": [
       "[1, 5, 2, 3]"
      ]
     },
     "execution_count": 4,
     "metadata": {},
     "output_type": "execute_result"
    }
   ],
   "source": []
  }
 ],
 "metadata": {
  "kernelspec": {
   "display_name": "Python 3",
   "language": "python",
   "name": "python3"
  },
  "language_info": {
   "codemirror_mode": {
    "name": "ipython",
    "version": 3
   },
   "file_extension": ".py",
   "mimetype": "text/x-python",
   "name": "python",
   "nbconvert_exporter": "python",
   "pygments_lexer": "ipython3",
   "version": "3.7.0"
  }
 },
 "nbformat": 4,
 "nbformat_minor": 2
}
