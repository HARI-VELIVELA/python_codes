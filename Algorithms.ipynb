{
 "cells": [
  {
   "cell_type": "code",
   "execution_count": 13,
   "metadata": {},
   "outputs": [
    {
     "name": "stdout",
     "output_type": "stream",
     "text": [
      "6\n",
      "None\n"
     ]
    }
   ],
   "source": [
    "# Binary search:\n",
    "\n",
    "def BinarySearch(list,val):\n",
    "    idx0 = 0\n",
    "    len_list = len(list)-1\n",
    "    idxn = len_list \n",
    "    while idx0<=idxn:\n",
    "        mid_value = (idx0+idxn)//2\n",
    "        \n",
    "        if list[mid_value] == val:\n",
    "            return mid_value\n",
    "        \n",
    "        if val>list[mid_value]:\n",
    "            idx0 = mid_value + 1\n",
    "        else:\n",
    "            idxn = mid_value - 1\n",
    "    else:\n",
    "        return None\n",
    "    \n",
    "    \n",
    "list1 = [1,2,3,4,5,6,7]\n",
    "\n",
    "print(BinarySearch(list1,7))\n",
    "    \n",
    "print(BinarySearch(list1,24))\n"
   ]
  },
  {
   "cell_type": "code",
   "execution_count": 14,
   "metadata": {},
   "outputs": [
    {
     "data": {
      "text/plain": [
       "2"
      ]
     },
     "execution_count": 14,
     "metadata": {},
     "output_type": "execute_result"
    }
   ],
   "source": [
    "5//2"
   ]
  },
  {
   "cell_type": "code",
   "execution_count": 28,
   "metadata": {},
   "outputs": [
    {
     "name": "stdout",
     "output_type": "stream",
     "text": [
      "7\n",
      "4\n"
     ]
    }
   ],
   "source": [
    "# recursion: Implementation using Binary Search:\n",
    "\n",
    "def BinarySearch(list,index0,indexn,val):\n",
    "    if indexn >= index0:\n",
    "        mid_value = index0 + ((indexn-index0)//2)\n",
    "        if list[mid_value] == val:\n",
    "            return mid_value\n",
    "        elif list[mid_value]<val:\n",
    "            return BinarySearch(list,mid_value+1,indexn,val)\n",
    "        else:\n",
    "            return BinarySearch(list,index0,mid_value-1,val)\n",
    "    else:\n",
    "        return None\n",
    "\n",
    "    \n",
    "list1 = [5,6,8,9,10,14,19,24,25,26,54,65]    \n",
    "print(BinarySearch(list1,0,11,24))\n",
    "print(BinarySearch(list1,0,5,10))\n"
   ]
  },
  {
   "cell_type": "code",
   "execution_count": 9,
   "metadata": {},
   "outputs": [
    {
     "name": "stdout",
     "output_type": "stream",
     "text": [
      "[10, 12, 15, 20, 21, 25, 35, 36, 65]\n",
      "[25, 21, 20, 15, 12, 10, 35, 36, 65]\n",
      "[10, 12, 15, 20, 21, 65, 36, 35, 25]\n"
     ]
    }
   ],
   "source": [
    "# Tree traversals:\n",
    "\n",
    "# Inorder traversal:\n",
    "# Pre-Order Traversal\n",
    "# Post-Order Traversal\n",
    "\n",
    "class Node:\n",
    "    \n",
    "    def __init__(self,data):\n",
    "        self.left = None\n",
    "        self.right = None\n",
    "        self.data = data\n",
    "        \n",
    "    def insert(self,data):\n",
    "        if self.data:\n",
    "            if data<self.data:\n",
    "                if self.left is None:\n",
    "                    self.left = Node(data)\n",
    "                else:\n",
    "                    self.left.insert(data)\n",
    "            elif data>self.data:\n",
    "                if self.right is None:\n",
    "                    self.right = Node(data)\n",
    "                else:\n",
    "                    self.right.insert(data)\n",
    "        else:\n",
    "            self.data = data\n",
    "        \n",
    "    def PrintTree(self):\n",
    "        if self.left:\n",
    "            self.left.PrintTree()\n",
    "        print(self.data)\n",
    "        if self.right:\n",
    "            self.right.PrintTree()\n",
    "            \n",
    "    def IOT(self,root):\n",
    "        res = []\n",
    "        if root:\n",
    "            res = self.IOT(root.left)\n",
    "            res.append(root.data)\n",
    "            res = res + self.IOT(root.right)\n",
    "        return res\n",
    "    \n",
    "    def PreOrderTraversal(self,root):\n",
    "        res1 = []\n",
    "        \n",
    "        if root:\n",
    "            res1.append(root.data)\n",
    "            res1 = res1 + self.PreOrderTraversal(root.left)\n",
    "            \n",
    "            res1 = res1 + self.PreOrderTraversal(root.right)\n",
    "            \n",
    "        return res1\n",
    "    \n",
    "    def PostOrderTraversal(self,root):\n",
    "        res2 = []\n",
    "        if root:\n",
    "            res2 = self.PostOrderTraversal(root.left)\n",
    "            res2 = res2 + self.PostOrderTraversal(root.right)\n",
    "            res2.append(root.data)\n",
    "        return res2\n",
    "    \n",
    "root = Node(25)\n",
    "\n",
    "root.insert(21)\n",
    "root.insert(20)\n",
    "root.insert(15)\n",
    "root.insert(12)\n",
    "root.insert(10)\n",
    "root.insert(35)\n",
    "root.insert(36)\n",
    "root.insert(65)\n",
    "\n",
    "print(root.IOT(root))\n",
    "\n",
    "print(root.PreOrderTraversal(root))\n",
    "\n",
    "print(root.PostOrderTraversal(root))\n",
    "            "
   ]
  },
  {
   "cell_type": "code",
   "execution_count": 33,
   "metadata": {},
   "outputs": [
    {
     "name": "stdout",
     "output_type": "stream",
     "text": [
      "[1, 2, 5, 8, 9, 21, 25, 65]\n"
     ]
    }
   ],
   "source": [
    "# Sorting Algorithms;\n",
    "\n",
    "# 1. Bubble sort:\n",
    "\n",
    "def Bubblesort(list):\n",
    "    \n",
    "    for ite_num in range(len(list)-1,0,-1):\n",
    "        for i in range(ite_num):\n",
    "            if list[i] > list[i+1]:\n",
    "                temp = list[i]\n",
    "                list[i] = list[i+1]\n",
    "                list[i+1] = temp\n",
    "    return list\n",
    "list1 = [25,65,21,1,2,5,8,9]\n",
    "print(Bubblesort(list1))"
   ]
  },
  {
   "cell_type": "code",
   "execution_count": 17,
   "metadata": {},
   "outputs": [
    {
     "name": "stdout",
     "output_type": "stream",
     "text": [
      "[1, 2, 4, 5, 6, 9, 25, 26, 29, 95]\n"
     ]
    }
   ],
   "source": [
    "# 2. Merge sort:\n",
    "\n",
    "def merge_sort(listx):\n",
    "    if len(listx) <= 1:\n",
    "        return listx\n",
    "    middle = len(listx) //2 \n",
    "    left_half = listx[ : middle]\n",
    "    right_half = listx[middle :]\n",
    "    \n",
    "    left_list = merge_sort(left_half)\n",
    "    right_list = merge_sort(right_half)\n",
    "    \n",
    "    return list(merge(left_list, right_list))\n",
    "\n",
    "def merge(left_half,right_half):\n",
    "    \n",
    "    res = []\n",
    "    \n",
    "    while len(left_half) != 0 and len(right_half) != 0:\n",
    "        \n",
    "        if left_half[0] < right_half[0]:\n",
    "            \n",
    "            res.append(left_half[0])\n",
    "            left_half.remove(left_half[0])\n",
    "            \n",
    "        else:\n",
    "            res.append(right_half[0])\n",
    "            right_half.remove(right_half[0])\n",
    "            \n",
    "    if len(left_half) == 0:\n",
    "        res = res + right_half\n",
    "        \n",
    "    else:\n",
    "        res = res + left_half\n",
    "    return res\n",
    "        \n",
    "listx = [25,26,29,95,1,5,6,4,2,9]\n",
    "\n",
    "print(merge_sort(listx))\n",
    "    "
   ]
  },
  {
   "cell_type": "code",
   "execution_count": 29,
   "metadata": {},
   "outputs": [
    {
     "name": "stdout",
     "output_type": "stream",
     "text": [
      "[1, 2, 4, 5, 6]\n"
     ]
    }
   ],
   "source": [
    "# insertion sort\n",
    "\n",
    "def insertionsort(list):\n",
    "    for i in range(1,len(list)):\n",
    "        j = i-1\n",
    "        next_element = list[i]\n",
    "        \n",
    "        while (list[j]> next_element) and (j>=0):\n",
    "            list[j+1] = list[j]\n",
    "            j = j-1\n",
    "        list[j+1] = next_element\n",
    "    \n",
    "            \n",
    "list1 = [4,5,6,1,2]\n",
    "insertionsort(list1)\n",
    "print(list1)"
   ]
  },
  {
   "cell_type": "code",
   "execution_count": 5,
   "metadata": {},
   "outputs": [
    {
     "name": "stdout",
     "output_type": "stream",
     "text": [
      "[1, 2, 5, 6, 7, 8, 9, 19]\n"
     ]
    }
   ],
   "source": [
    "# Shell-sort:\n",
    "\n",
    "def shellSort(input_list):\n",
    "    \n",
    "    gap = len(input_list) // 2\n",
    "    while gap > 0:\n",
    "\n",
    "        for i in range(gap, len(input_list)):\n",
    "            temp = input_list[i]\n",
    "            j = i\n",
    "# Sort the sub list for this gap\n",
    "\n",
    "            while j >= gap and input_list[j - gap] > temp:\n",
    "                input_list[j] = input_list[j - gap]\n",
    "                j = j-gap\n",
    "            input_list[j] = temp\n",
    "\n",
    "# Reduce the gap for the next element\n",
    "\n",
    "        gap = gap//2\n",
    "\n",
    "listx = [19,5,6,8,9,1,2,7]\n",
    "\n",
    "shellSort(listx)\n",
    "print(listx)            "
   ]
  },
  {
   "cell_type": "code",
   "execution_count": 10,
   "metadata": {},
   "outputs": [
    {
     "name": "stdout",
     "output_type": "stream",
     "text": [
      "[1, 2, 3, 4, 5, 6, 6, 7, 8, 9, 10]\n"
     ]
    }
   ],
   "source": [
    "# Selection Sorting:\n",
    "\n",
    "def SelectionSort(list):\n",
    "    for i in range(len(list)):\n",
    "        min_index = i\n",
    "        \n",
    "        for j in range(i+1,len(list)):\n",
    "            if list[min_index] > list[j]:\n",
    "                min_index = j\n",
    "        list[i],list[min_index] = list[min_index],list[i]\n",
    "        \n",
    "        \n",
    "l1 = [10,9,6,8,7,4,6,5,3,2,1]\n",
    "SelectionSort(l1)\n",
    "print(l1)"
   ]
  },
  {
   "cell_type": "code",
   "execution_count": 8,
   "metadata": {},
   "outputs": [
    {
     "ename": "TypeError",
     "evalue": "'int' object is not subscriptable",
     "output_type": "error",
     "traceback": [
      "\u001b[1;31m---------------------------------------------------------------------------\u001b[0m",
      "\u001b[1;31mTypeError\u001b[0m                                 Traceback (most recent call last)",
      "\u001b[1;32m<ipython-input-8-358f5b34f24a>\u001b[0m in \u001b[0;36m<module>\u001b[1;34m()\u001b[0m\n\u001b[0;32m      2\u001b[0m \u001b[1;33m\u001b[0m\u001b[0m\n\u001b[0;32m      3\u001b[0m \u001b[0ms\u001b[0m \u001b[1;33m=\u001b[0m \u001b[1;36m101\u001b[0m\u001b[1;33m\u001b[0m\u001b[0m\n\u001b[1;32m----> 4\u001b[1;33m \u001b[0mrs\u001b[0m \u001b[1;33m=\u001b[0m \u001b[0ms\u001b[0m\u001b[1;33m[\u001b[0m\u001b[1;33m:\u001b[0m\u001b[1;33m:\u001b[0m\u001b[1;33m-\u001b[0m\u001b[1;36m1\u001b[0m\u001b[1;33m]\u001b[0m\u001b[1;33m\u001b[0m\u001b[0m\n\u001b[0m\u001b[0;32m      5\u001b[0m \u001b[1;32mif\u001b[0m \u001b[0ms\u001b[0m\u001b[1;33m==\u001b[0m\u001b[0mrs\u001b[0m\u001b[1;33m:\u001b[0m\u001b[1;33m\u001b[0m\u001b[0m\n\u001b[0;32m      6\u001b[0m     \u001b[0mprint\u001b[0m\u001b[1;33m(\u001b[0m\u001b[1;32mTrue\u001b[0m\u001b[1;33m)\u001b[0m\u001b[1;33m\u001b[0m\u001b[0m\n",
      "\u001b[1;31mTypeError\u001b[0m: 'int' object is not subscriptable"
     ]
    }
   ],
   "source": [
    "# palendrome:\n",
    "\n",
    "s = 101\n",
    "rs = s[::-1]\n",
    "if s==rs:\n",
    "    print(True)\n",
    "else:\n",
    "    print(False)"
   ]
  },
  {
   "cell_type": "code",
   "execution_count": 11,
   "metadata": {},
   "outputs": [
    {
     "data": {
      "text/plain": [
       "0"
      ]
     },
     "execution_count": 11,
     "metadata": {},
     "output_type": "execute_result"
    }
   ],
   "source": [
    "1//10"
   ]
  },
  {
   "cell_type": "code",
   "execution_count": 4,
   "metadata": {},
   "outputs": [
    {
     "name": "stdout",
     "output_type": "stream",
     "text": [
      "[1, 2, 3]\n"
     ]
    }
   ],
   "source": [
    "inp = 123\n",
    "l = [int(i) for i in str(inp)]\n",
    "print(l)\n",
    "def rev(l,n):\n",
    "    temp = l[0]\n",
    "    l[n-1] = temp\n",
    "    return l"
   ]
  },
  {
   "cell_type": "code",
   "execution_count": 13,
   "metadata": {},
   "outputs": [
    {
     "data": {
      "text/plain": [
       "[6, 5, 2, 1]"
      ]
     },
     "execution_count": 13,
     "metadata": {},
     "output_type": "execute_result"
    }
   ],
   "source": [
    "def rev(arr,start,end):\n",
    "    while(start<end):\n",
    "        temp = arr[start]\n",
    "        arr[start] = arr[end]\n",
    "        arr[end] = temp\n",
    "        start = start+1\n",
    "        end = end-1\n",
    "    return l\n",
    "l = [1,2,5,6]\n",
    "n = len(l)-1\n",
    "rev(l,0,n)"
   ]
  },
  {
   "cell_type": "code",
   "execution_count": 15,
   "metadata": {},
   "outputs": [
    {
     "data": {
      "text/plain": [
       "0"
      ]
     },
     "execution_count": 15,
     "metadata": {},
     "output_type": "execute_result"
    }
   ],
   "source": [
    "1//10"
   ]
  },
  {
   "cell_type": "code",
   "execution_count": null,
   "metadata": {},
   "outputs": [],
   "source": [
    "\n",
    "def reverse(num):\n",
    "    result = 0\n",
    "    while (num>0):\n",
    "        rem = num %10\n",
    "        result = (result*10) + rem\n",
    "        num = num // 10\n",
    "    return result\n",
    "num = int(input())\n",
    "reverse(num)"
   ]
  },
  {
   "cell_type": "code",
   "execution_count": 6,
   "metadata": {},
   "outputs": [
    {
     "name": "stdout",
     "output_type": "stream",
     "text": [
      "100\n",
      "90\n",
      "80\n",
      "70\n"
     ]
    }
   ],
   "source": [
    "#linked lists:\n",
    "class Node:\n",
    "    def __init__(self,data):\n",
    "        self.data = data\n",
    "        self.next = None\n",
    "class linkedList:\n",
    "    def printLL(self):\n",
    "        temp = self.head\n",
    "        while temp:\n",
    "            print(temp.data)\n",
    "            temp = temp.next\n",
    "llist = linkedList()\n",
    "llist.head = Node(100)\n",
    "second = Node(90)\n",
    "third = Node(80)\n",
    "fourth = Node(70)\n",
    "    \n",
    "llist.head.next = second\n",
    "second.next = third\n",
    "third.next = fourth\n",
    "llist.printLL()\n",
    "\n"
   ]
  },
  {
   "cell_type": "code",
   "execution_count": null,
   "metadata": {},
   "outputs": [],
   "source": [
    "class Node:\n",
    "    def __init__(self,data):\n",
    "        self.data = data\n",
    "        self.next = None\n",
    "class linkedList:\n",
    "    def \n",
    "    self.head  = None\n"
   ]
  }
 ],
 "metadata": {
  "kernelspec": {
   "display_name": "Python 3",
   "language": "python",
   "name": "python3"
  },
  "language_info": {
   "codemirror_mode": {
    "name": "ipython",
    "version": 3
   },
   "file_extension": ".py",
   "mimetype": "text/x-python",
   "name": "python",
   "nbconvert_exporter": "python",
   "pygments_lexer": "ipython3",
   "version": "3.7.0"
  }
 },
 "nbformat": 4,
 "nbformat_minor": 2
}
