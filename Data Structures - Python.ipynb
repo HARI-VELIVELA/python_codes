{
 "cells": [
  {
   "cell_type": "code",
   "execution_count": 1,
   "metadata": {},
   "outputs": [
    {
     "name": "stdout",
     "output_type": "stream",
     "text": [
      "10\n",
      "20\n",
      "30\n"
     ]
    }
   ],
   "source": [
    "#Linked Lists\n",
    "\n",
    "class Node:\n",
    "    \n",
    "    def __init__(self,data):\n",
    "        self.data = data\n",
    "        self.next = None\n",
    "    \n",
    "class LinkedList:\n",
    "    \n",
    "    def __init__(self):\n",
    "        self.head = None\n",
    "        \n",
    "    def pl(self):\n",
    "        temp = self.head\n",
    "        while(temp):\n",
    "            print (temp.data)\n",
    "            temp = temp.next\n",
    "        \n",
    "if __name__=='__main__':\n",
    "    \n",
    "    llist = LinkedList()\n",
    "    llist.head = Node(10)\n",
    "    second = Node(20)\n",
    "    third = Node(30)\n",
    "    \n",
    "    llist.head.next = second \n",
    "    second.next = third\n",
    "llist.pl()"
   ]
  },
  {
   "cell_type": "code",
   "execution_count": 12,
   "metadata": {},
   "outputs": [
    {
     "name": "stdout",
     "output_type": "stream",
     "text": [
      "monday\n",
      "tuesday\n",
      "Wednesday\n",
      "Thursday\n"
     ]
    }
   ],
   "source": [
    "class Node:\n",
    "    def __init__(self,data):\n",
    "        self.data = data\n",
    "        self.next = None\n",
    "class LinkedList:\n",
    "    def __init__(self):\n",
    "        self.head = None\n",
    "    def pr(self):\n",
    "        temp = self.head\n",
    "        while(temp):\n",
    "            print(temp.data)\n",
    "            temp  =temp.next\n",
    "        \n",
    "        \n",
    "llist = LinkedList()\n",
    "llist.head = Node(\"monday\")\n",
    "second = Node(\"tuesday\")\n",
    "third = Node(\"Wednesday\")\n",
    "fourth = Node(\"Thursday\")\n",
    "\n",
    "llist.head.next = second\n",
    "second.next = third\n",
    "third.next = fourth\n",
    "\n",
    "\n",
    "llist.pr()"
   ]
  },
  {
   "cell_type": "code",
   "execution_count": 24,
   "metadata": {},
   "outputs": [
    {
     "name": "stdout",
     "output_type": "stream",
     "text": [
      "Sun\n",
      "monday\n",
      "tuesday\n",
      "Wednesday\n",
      "Thursday\n"
     ]
    }
   ],
   "source": [
    "class Node:\n",
    "    def __init__(self,data):\n",
    "        self.data = data\n",
    "        self.next = None\n",
    "class LinkedList:\n",
    "    def __init__(self):\n",
    "        self.head = None\n",
    "    def pr(self):\n",
    "        temp = self.head\n",
    "        while(temp):\n",
    "            print(temp.data)\n",
    "            temp  =temp.next\n",
    "    def AtBegin(self,newdata):\n",
    "        NewNode = Node(newdata)\n",
    "        \n",
    "        NewNode.next = self.head\n",
    "        self.head = NewNode\n",
    "        \n",
    "llist = LinkedList()\n",
    "llist.head = Node(\"monday\")\n",
    "second = Node(\"tuesday\")\n",
    "third = Node(\"Wednesday\")\n",
    "fourth = Node(\"Thursday\")\n",
    "\n",
    "llist.head.next= second\n",
    "second.next = third\n",
    "third.next = fourth\n",
    "\n",
    "\n",
    "llist.AtBegin(\"Sun\")\n",
    "\n",
    "llist.pr()\n",
    "        "
   ]
  },
  {
   "cell_type": "code",
   "execution_count": 1,
   "metadata": {},
   "outputs": [
    {
     "name": "stdout",
     "output_type": "stream",
     "text": [
      "ki\n",
      "hari\n",
      "naga\n",
      "Raju\n",
      "Velivela\n"
     ]
    }
   ],
   "source": [
    "class Node:\n",
    "    def __init__(self,data):\n",
    "        self.data = data\n",
    "        self.next = None\n",
    "class Linkedlist:\n",
    "    def __init__(self):\n",
    "        self.head = None\n",
    "    def pr(self):\n",
    "        temp = self.head\n",
    "        while(temp):\n",
    "            print(temp.data)\n",
    "            temp = temp.next\n",
    "    def ATB(self,new_data):\n",
    "        NewNode = Node(new_data)\n",
    "        \n",
    "       \n",
    "        NewNode.next = self.head\n",
    "        self.head = NewNode\n",
    "        \n",
    "            \n",
    "l1 = Linkedlist()\n",
    "l1.head = Node(\"hari\")\n",
    "d2 = Node(\"naga\")\n",
    "d3 = Node(\"Raju\")\n",
    "d4 = Node(\"Velivela\")\n",
    "\n",
    "\n",
    "l1.head.next = d2\n",
    "d2.next  = d3\n",
    "d3.next = d4\n",
    "l1.ATB(\"ki\")\n",
    "l1.pr()\n",
    "\n"
   ]
  },
  {
   "cell_type": "code",
   "execution_count": 9,
   "metadata": {},
   "outputs": [
    {
     "name": "stdout",
     "output_type": "stream",
     "text": [
      "0\n",
      "1\n",
      "2\n",
      "3\n"
     ]
    }
   ],
   "source": [
    "#adding elemnt to the beginning of the linked list\n",
    "\n",
    "class Node:\n",
    "    def __init__(self,data):\n",
    "        self.data = data\n",
    "        self.next = None\n",
    "class linkedlist:\n",
    "    def __init__(self):\n",
    "        self.head = None\n",
    "    def PrintList(self):\n",
    "        temp = self.head\n",
    "        while(temp):\n",
    "            print(temp.data)\n",
    "            temp = temp.next\n",
    "    def ATB(self,newdata):\n",
    "        NewNode = Node(newdata)\n",
    "        \n",
    "        NewNode.next = self.head\n",
    "        self.head = NewNode\n",
    "\n",
    "l2 = linkedlist()\n",
    "l2.head = Node(1)\n",
    "d2 = Node(2)\n",
    "d3 = Node(3)\n",
    "\n",
    "l2.head.next = d2\n",
    "d2.next  = d3\n",
    "\n",
    "l2.ATB(0)\n",
    "l2.PrintList()\n",
    "\n",
    "        "
   ]
  },
  {
   "cell_type": "code",
   "execution_count": 2,
   "metadata": {},
   "outputs": [
    {
     "name": "stdout",
     "output_type": "stream",
     "text": [
      "Wednesday\n"
     ]
    }
   ],
   "source": [
    "#Python Stacks -----> LIFO === PUSH\n",
    "\n",
    "class Stack:\n",
    "    def __init__(self):\n",
    "        self.stack = []\n",
    "        \n",
    "    def add(self,data):\n",
    "        if data not in self.stack:\n",
    "            self.stack.append(data)\n",
    "            return True\n",
    "        else:\n",
    "            return False\n",
    "    def peek(self):\n",
    "        return self.stack[-1]\n",
    "\n",
    "    \n",
    "AStack = Stack()\n",
    "AStack.add(\"Monday\")\n",
    "AStack.add(\"Tuesday\")\n",
    "AStack.add(\"Wednesday\")\n",
    "\n",
    "print(AStack.peek())"
   ]
  },
  {
   "cell_type": "code",
   "execution_count": 7,
   "metadata": {},
   "outputs": [
    {
     "name": "stdout",
     "output_type": "stream",
     "text": [
      "Wednesday\n",
      "Tuesday\n"
     ]
    }
   ],
   "source": [
    "#POP operation \n",
    "\n",
    "class Stack:\n",
    "    def __init__(self):\n",
    "        self.stack = []\n",
    "    def add(self,data):\n",
    "        if data not in self.stack:\n",
    "            self.stack.append(data)\n",
    "            return True\n",
    "        else:\n",
    "            return False\n",
    "    def remove(self):\n",
    "        if len(self.stack) ==0:\n",
    "            return (\"no elements present in the stack\")\n",
    "        else:\n",
    "            return self.stack.pop()\n",
    "        \n",
    "AStack = Stack()\n",
    "AStack.add(\"Monday\")\n",
    "AStack.add(\"Tuesday\")\n",
    "AStack.add(\"Wednesday\")\n",
    "\n",
    "print(AStack.remove())\n",
    "print(AStack.remove())\n",
    "        "
   ]
  },
  {
   "cell_type": "code",
   "execution_count": 11,
   "metadata": {},
   "outputs": [
    {
     "name": "stdout",
     "output_type": "stream",
     "text": [
      "3\n"
     ]
    }
   ],
   "source": [
    "#Python Queue ---insert:\n",
    "\n",
    "class Queue:\n",
    "    def __init__(self):\n",
    "        self.queue = []\n",
    "        \n",
    "    def addtoq(self,data):\n",
    "        if data not in self.queue:\n",
    "            self.queue.insert(0,data)\n",
    "            return True\n",
    "        else:\n",
    "            return False\n",
    "    def size(self):\n",
    "        return len(self.queue)\n",
    "    \n",
    "AQueue = Queue()\n",
    "AQueue.addtoq(10)\n",
    "AQueue.addtoq(20)\n",
    "AQueue.addtoq(30)\n",
    "\n",
    "print(AQueue.size())"
   ]
  },
  {
   "cell_type": "code",
   "execution_count": 13,
   "metadata": {},
   "outputs": [
    {
     "name": "stdout",
     "output_type": "stream",
     "text": [
      "30\n"
     ]
    }
   ],
   "source": [
    "# remove or pop()\n",
    "class Queue:\n",
    "    def __init__(self):\n",
    "        self.queue = []\n",
    "        \n",
    "    def addtoq(self,data):\n",
    "        if data not in self.queue:\n",
    "            self.queue.insert(0,data)\n",
    "            return True\n",
    "        else:\n",
    "            return False\n",
    "    def removefromq(self):\n",
    "        if len(self.queue)>0:\n",
    "            return self.queue.pop()\n",
    "        else:\n",
    "            return (\"there are no elements present in the queue\")\n",
    "        \n",
    "AQueue = Queue()\n",
    "AQueue.addtoq(10)\n",
    "AQueue.addtoq(20)\n",
    "AQueue.addtoq(30)\n",
    "\n",
    "\n",
    "print(AQueue.removefromq())\n"
   ]
  },
  {
   "cell_type": "code",
   "execution_count": 28,
   "metadata": {},
   "outputs": [
    {
     "name": "stdout",
     "output_type": "stream",
     "text": [
      "8\n",
      "10\n",
      "15\n"
     ]
    }
   ],
   "source": [
    "# binary Tree:\n",
    "\n",
    "class Node:\n",
    "    def __init__(self,data):\n",
    "        self.left = None\n",
    "        self.right = None\n",
    "        self.data = data\n",
    "    def insert(self,data):\n",
    "        if self.data:\n",
    "            if data<self.data:\n",
    "                if self.left is None:\n",
    "                    self.left = Node(data)\n",
    "                else:\n",
    "                    self.left.insert(data)\n",
    "            elif data>self.data:\n",
    "                if self.right is None:\n",
    "                    self.right = Node(data) \n",
    "                else:\n",
    "                    self.right.insert(data)\n",
    "                \n",
    "        else:\n",
    "            self.data = data\n",
    "            \n",
    "    def printTree(self):\n",
    "        if self.left:\n",
    "            self.left.printTree()\n",
    "        print(self.data)\n",
    "        if self.right:\n",
    "            self.right.printTree()\n",
    "        \n",
    "root = Node(10)\n",
    "root.insert(8)\n",
    "root.insert(15)\n",
    "root.insert(10)\n",
    "\n",
    "root.printTree()\n",
    "\n"
   ]
  },
  {
   "cell_type": "code",
   "execution_count": 40,
   "metadata": {},
   "outputs": [
    {
     "name": "stdout",
     "output_type": "stream",
     "text": [
      "20\n",
      "25\n",
      "30\n",
      "35\n",
      "30 is found\n"
     ]
    }
   ],
   "source": [
    "class Node:\n",
    "    def __init__(self,data):\n",
    "        self.left = None\n",
    "        self.right = None\n",
    "        self.data = data\n",
    "    def insert(self,data):\n",
    "        if self.data:\n",
    "            if data<self.data:\n",
    "                if self.left is None:\n",
    "                    self.left = Node(data)\n",
    "                else:\n",
    "                    self.left.insert(data)\n",
    "            elif data>self.data:\n",
    "                if self.right is None:\n",
    "                    self.right = Node(data)\n",
    "                else:\n",
    "                    self.right.insert(data)\n",
    "        else:\n",
    "            self.data = data\n",
    "            \n",
    "    def findVal(self,sol):\n",
    "        if sol<self.data:\n",
    "            if self.left is None:\n",
    "                return str(sol) +\" not found\"\n",
    "            else:\n",
    "                return self.left.findVal(sol)\n",
    "        elif sol>self.data:\n",
    "            if self.right is None:\n",
    "                return str(sol)+\" not found\"\n",
    "            else:\n",
    "                return self.right.findVal(sol)\n",
    "        else:\n",
    "            return str(self.data) +\" is found\"\n",
    "            \n",
    "    def printTree(self):\n",
    "        if self.left:\n",
    "            self.left.printTree()\n",
    "        print(self.data)\n",
    "        if self.right:\n",
    "            self.right.printTree()\n",
    "root = Node(25)\n",
    "root.insert(20)\n",
    "root.insert(30)\n",
    "root.insert(35)\n",
    "\n",
    "root.printTree()\n",
    "print(root.findVal(30))"
   ]
  },
  {
   "cell_type": "code",
   "execution_count": 5,
   "metadata": {},
   "outputs": [
    {
     "name": "stdout",
     "output_type": "stream",
     "text": [
      "[7, 8, 9, 21, 67, 23, 56, 58, 54, 69]\n",
      "[7, 8, 9, 21, 10, 23, 56, 58, 54, 69, 67]\n",
      "[8, 10, 9, 21, 67, 23, 56, 58, 54, 69]\n"
     ]
    }
   ],
   "source": [
    "# heaps:\n",
    "\n",
    "import heapq as hq\n",
    "h = [58,21,56,54,69,23,9,8,7,67]\n",
    "hq.heapify(h)\n",
    "print(h)\n",
    "\n",
    "hq.heappush(h,10)\n",
    "print(h)\n",
    "hq.heappop(h)\n",
    "print(h)"
   ]
  },
  {
   "cell_type": "code",
   "execution_count": 1,
   "metadata": {},
   "outputs": [],
   "source": [
    "def GCD(a,b):\n",
    "    return abs(a) if b == 0 else GCD(b, a%b)"
   ]
  },
  {
   "cell_type": "code",
   "execution_count": 2,
   "metadata": {},
   "outputs": [
    {
     "data": {
      "text/plain": [
       "4"
      ]
     },
     "execution_count": 2,
     "metadata": {},
     "output_type": "execute_result"
    }
   ],
   "source": [
    "GCD(100,56)"
   ]
  },
  {
   "cell_type": "code",
   "execution_count": 2,
   "metadata": {},
   "outputs": [
    {
     "name": "stdout",
     "output_type": "stream",
     "text": [
      "['a', 'b', 'c', 'd', 'e']\n"
     ]
    }
   ],
   "source": [
    "#Graphs:\n",
    "\n",
    "class graph:\n",
    "    def __init__(self,gdict = None):\n",
    "        if gdict is None:\n",
    "            gdict = {}\n",
    "        self.gdict = gdict\n",
    "    def getVertices(self):\n",
    "        return list(self.gdict.keys())\n",
    "    \n",
    "graph_elements = { \"a\" : [\"b\",\"c\"],\n",
    "          \"b\" : [\"a\", \"d\"],\n",
    "          \"c\" : [\"a\", \"d\"],\n",
    "          \"d\" : [\"e\"],\n",
    "          \"e\" : [\"d\"]\n",
    "         }\n",
    "\n",
    "g = graph(graph_elements)\n",
    "\n",
    "print(g.getVertices())"
   ]
  },
  {
   "cell_type": "code",
   "execution_count": 8,
   "metadata": {},
   "outputs": [
    {
     "name": "stdout",
     "output_type": "stream",
     "text": [
      "[{'b', 'a'}, {'c', 'a'}, {'d', 'b'}, {'c', 'd'}, {'d', 'e'}]\n"
     ]
    }
   ],
   "source": [
    "#accessing the graph edges:\n",
    "\n",
    "class graph:\n",
    "    def __init__(self,gdict = None):\n",
    "        if gdict is None:\n",
    "            gdict = {}\n",
    "        self.gdict = gdict\n",
    "    \n",
    "    def edges(self):\n",
    "        return self.findedges()\n",
    "    \n",
    "    def findedges(self):\n",
    "        edgeName = []\n",
    "        \n",
    "        for v in self.gdict:\n",
    "            for nv in self.gdict[v]:\n",
    "                if {nv,v} not in edgeName:\n",
    "                    edgeName.append({nv,v})\n",
    "        return edgeName\n",
    "        \n",
    "graph_elements = { \"a\" : [\"b\",\"c\"],\"b\" : [\"a\", \"d\"],\"c\" : [\"a\", \"d\"],\"d\" : [\"e\"],\"e\" : [\"d\"] }\n",
    "\n",
    "g = graph(graph_elements)\n",
    "\n",
    "\n",
    "print(g.edges())"
   ]
  },
  {
   "cell_type": "code",
   "execution_count": 14,
   "metadata": {},
   "outputs": [
    {
     "name": "stdout",
     "output_type": "stream",
     "text": [
      "['a', 'b', 'c', 'd', 'e', 'h']\n"
     ]
    }
   ],
   "source": [
    "# adding vertex:\n",
    "\n",
    "class graph:\n",
    "    def __init__(self,gdict = None):\n",
    "        if gdict is None:\n",
    "            gdict = {}\n",
    "        self.gdict = gdict\n",
    "            \n",
    "    def getVertices(self):\n",
    "        return list(self.gdict.keys())\n",
    "        \n",
    "    \n",
    "    def AddVertex(self,ver):\n",
    "        if ver not in self.gdict:\n",
    "            self.gdict[ver] = []\n",
    "            \n",
    "            \n",
    "graph_elements = { \"a\" : [\"b\",\"c\"],\n",
    "          \"b\" : [\"a\", \"d\"],\n",
    "          \"c\" : [\"a\", \"d\"],\n",
    "          \"d\" : [\"e\"],\n",
    "          \"e\" : [\"d\"]\n",
    "         }\n",
    "\n",
    "g = graph(graph_elements)\n",
    "\n",
    "\n",
    "g.AddVertex(\"h\")\n",
    "print(g.getVertices())        "
   ]
  },
  {
   "cell_type": "code",
   "execution_count": 16,
   "metadata": {},
   "outputs": [
    {
     "name": "stdout",
     "output_type": "stream",
     "text": [
      "[{'b', 'a'}, {'c', 'a'}, {'d', 'b'}, {'b', 'e'}, {'c', 'd'}, {'d', 'e'}]\n"
     ]
    }
   ],
   "source": [
    "# Adding an edge:\n",
    "\n",
    "\n",
    "class graph:\n",
    "    def __init__(self,gdict = None):\n",
    "        if gdict is None:\n",
    "            gdict = {}\n",
    "        self.gdict = gdict\n",
    "        \n",
    "    def edges(self):\n",
    "        return self.findedge()\n",
    "    \n",
    "    def findedge(self):\n",
    "        edgeName = []\n",
    "        \n",
    "        for v in self.gdict:\n",
    "            for nv in self.gdict[v]:\n",
    "                if {v,nv} not in edgeName:\n",
    "                    edgeName.append({v,nv})\n",
    "        return edgeName\n",
    "    \n",
    "    def Addedge(self,edge):\n",
    "        edge = set(edge)\n",
    "        \n",
    "        (v1,v2) = tuple(edge)\n",
    "        \n",
    "        if v1 in self.gdict:\n",
    "            self.gdict[v1].append(v2)\n",
    "        else:\n",
    "            self.gdict[v1] = [v2]\n",
    "            \n",
    "graph_elements = { \"a\" : [\"b\",\"c\"],\n",
    "          \"b\" : [\"a\", \"d\"],\n",
    "          \"c\" : [\"a\", \"d\"],\n",
    "          \"d\" : [\"e\"],\n",
    "          \"e\" : [\"d\"]\n",
    "         }\n",
    "\n",
    "g = graph(graph_elements)\n",
    "\n",
    "g.Addedge({'b','e'})\n",
    "\n",
    "print(g.edges())"
   ]
  },
  {
   "cell_type": "code",
   "execution_count": 6,
   "metadata": {},
   "outputs": [
    {
     "name": "stdout",
     "output_type": "stream",
     "text": [
      "grandpa\n",
      "father\n",
      "son\n"
     ]
    }
   ],
   "source": [
    "class Node:\n",
    "    def __init__(self,data):\n",
    "        self.data = data\n",
    "        self.next = None\n",
    "class LinkedList:\n",
    "    def __init__(self):\n",
    "        self.head = None\n",
    "    \n",
    "    \n",
    "LL = LinkedList()\n",
    "data1 = \"grandpa\"\n",
    "data2 = \"father\"\n",
    "data3 = \"son\"\n",
    "LL.insert(data1)\n",
    "LL.insert(data2)\n",
    "LL.insert(data3)\n",
    "\n",
    "LL.printLL()\n",
    "\n"
   ]
  },
  {
   "cell_type": "code",
   "execution_count": 7,
   "metadata": {},
   "outputs": [
    {
     "data": {
      "text/plain": [
       "[]"
      ]
     },
     "execution_count": 7,
     "metadata": {},
     "output_type": "execute_result"
    }
   ],
   "source": [
    "arr = [1,2,3,5,6,9,4,8]\n",
    "arr[:0:]"
   ]
  },
  {
   "cell_type": "code",
   "execution_count": 3,
   "metadata": {},
   "outputs": [
    {
     "name": "stdout",
     "output_type": "stream",
     "text": [
      "3.0\n"
     ]
    }
   ],
   "source": [
    "sentence = \"hi hari how are you\"\n",
    "sentence = sentence.split()\n",
    "avg = sum(len(words) for words in sentence)/len(sentence)\n",
    "print(avg)"
   ]
  },
  {
   "cell_type": "code",
   "execution_count": 6,
   "metadata": {},
   "outputs": [
    {
     "data": {
      "text/plain": [
       "'HARIVELIVELA'"
      ]
     },
     "execution_count": 6,
     "metadata": {},
     "output_type": "execute_result"
    }
   ],
   "source": [
    "def recupper(x):\n",
    "    return x.upper()\n",
    "x = 'harivelivela'\n",
    "recupper(x)"
   ]
  },
  {
   "cell_type": "code",
   "execution_count": 2,
   "metadata": {},
   "outputs": [
    {
     "data": {
      "text/plain": [
       "[3, 4, 5, 6, 1, 2]"
      ]
     },
     "execution_count": 2,
     "metadata": {},
     "output_type": "execute_result"
    }
   ],
   "source": [
    "def spl(arr,n,k):\n",
    "    for i in range(k):\n",
    "        temp = arr[0]\n",
    "        for i in range(0,n-1):\n",
    "            arr[i] = arr[i+1]\n",
    "        arr[n-1] = temp\n",
    "    return arr\n",
    "arr = [1,2,3,4,5,6]\n",
    "spl(arr,len(arr),2)"
   ]
  },
  {
   "cell_type": "code",
   "execution_count": 3,
   "metadata": {},
   "outputs": [
    {
     "data": {
      "text/plain": [
       "1"
      ]
     },
     "execution_count": 3,
     "metadata": {},
     "output_type": "execute_result"
    }
   ],
   "source": [
    "def min_element(arr):\n",
    "    min_e = arr[0]\n",
    "    for i in range(1,len(arr)):\n",
    "        if arr[i] < min_e:\n",
    "            min_e = arr[i]\n",
    "    return min_e\n",
    "\n",
    "arr = [8,5,6,1,2,4]\n",
    "min_element(arr)\n",
    "        "
   ]
  },
  {
   "cell_type": "code",
   "execution_count": null,
   "metadata": {},
   "outputs": [],
   "source": []
  }
 ],
 "metadata": {
  "kernelspec": {
   "display_name": "Python 3",
   "language": "python",
   "name": "python3"
  },
  "language_info": {
   "codemirror_mode": {
    "name": "ipython",
    "version": 3
   },
   "file_extension": ".py",
   "mimetype": "text/x-python",
   "name": "python",
   "nbconvert_exporter": "python",
   "pygments_lexer": "ipython3",
   "version": "3.7.0"
  }
 },
 "nbformat": 4,
 "nbformat_minor": 2
}
