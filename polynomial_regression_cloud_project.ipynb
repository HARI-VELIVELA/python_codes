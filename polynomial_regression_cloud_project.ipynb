{
 "cells": [
  {
   "cell_type": "code",
   "execution_count": 1,
   "metadata": {},
   "outputs": [],
   "source": [
    "# imports\n",
    "import numpy as np\n",
    "import pandas as pd\n",
    "import matplotlib.pyplot as plt\n",
    "\n",
    "# this allows plots to appear directly in the notebook\n",
    "%matplotlib inline"
   ]
  },
  {
   "cell_type": "code",
   "execution_count": 2,
   "metadata": {},
   "outputs": [
    {
     "data": {
      "text/html": [
       "<div>\n",
       "<style scoped>\n",
       "    .dataframe tbody tr th:only-of-type {\n",
       "        vertical-align: middle;\n",
       "    }\n",
       "\n",
       "    .dataframe tbody tr th {\n",
       "        vertical-align: top;\n",
       "    }\n",
       "\n",
       "    .dataframe thead th {\n",
       "        text-align: right;\n",
       "    }\n",
       "</style>\n",
       "<table border=\"1\" class=\"dataframe\">\n",
       "  <thead>\n",
       "    <tr style=\"text-align: right;\">\n",
       "      <th></th>\n",
       "      <th>DistrictID</th>\n",
       "      <th>Autism</th>\n",
       "      <th>Kstudent</th>\n",
       "      <th>Rate</th>\n",
       "      <th>Area_km</th>\n",
       "      <th>LC11</th>\n",
       "      <th>LC21</th>\n",
       "      <th>LC2B</th>\n",
       "      <th>LC31</th>\n",
       "      <th>LC4</th>\n",
       "      <th>...</th>\n",
       "      <th>LC2B06</th>\n",
       "      <th>LC3106</th>\n",
       "      <th>LC406</th>\n",
       "      <th>LC5206</th>\n",
       "      <th>LC7106</th>\n",
       "      <th>LC806</th>\n",
       "      <th>LC906</th>\n",
       "      <th>RLC2B06</th>\n",
       "      <th>RLC406</th>\n",
       "      <th>RLC7106</th>\n",
       "    </tr>\n",
       "  </thead>\n",
       "  <tbody>\n",
       "    <tr>\n",
       "      <th>0</th>\n",
       "      <td>1</td>\n",
       "      <td>1</td>\n",
       "      <td>338</td>\n",
       "      <td>2.96</td>\n",
       "      <td>11.3</td>\n",
       "      <td>0.04</td>\n",
       "      <td>8.81</td>\n",
       "      <td>17.41</td>\n",
       "      <td>0.00</td>\n",
       "      <td>60.02</td>\n",
       "      <td>...</td>\n",
       "      <td>17.29</td>\n",
       "      <td>0.00</td>\n",
       "      <td>60.57</td>\n",
       "      <td>2.59</td>\n",
       "      <td>10.70</td>\n",
       "      <td>0.00</td>\n",
       "      <td>0.00</td>\n",
       "      <td>1.729</td>\n",
       "      <td>6.057</td>\n",
       "      <td>1.070</td>\n",
       "    </tr>\n",
       "    <tr>\n",
       "      <th>1</th>\n",
       "      <td>2</td>\n",
       "      <td>54</td>\n",
       "      <td>5516</td>\n",
       "      <td>9.79</td>\n",
       "      <td>868.6</td>\n",
       "      <td>0.01</td>\n",
       "      <td>3.31</td>\n",
       "      <td>3.57</td>\n",
       "      <td>6.03</td>\n",
       "      <td>0.01</td>\n",
       "      <td>...</td>\n",
       "      <td>2.96</td>\n",
       "      <td>6.03</td>\n",
       "      <td>0.02</td>\n",
       "      <td>87.33</td>\n",
       "      <td>0.23</td>\n",
       "      <td>0.21</td>\n",
       "      <td>0.07</td>\n",
       "      <td>0.296</td>\n",
       "      <td>0.002</td>\n",
       "      <td>0.023</td>\n",
       "    </tr>\n",
       "    <tr>\n",
       "      <th>2</th>\n",
       "      <td>3</td>\n",
       "      <td>0</td>\n",
       "      <td>111</td>\n",
       "      <td>0.00</td>\n",
       "      <td>171.6</td>\n",
       "      <td>0.19</td>\n",
       "      <td>3.05</td>\n",
       "      <td>1.21</td>\n",
       "      <td>0.15</td>\n",
       "      <td>37.29</td>\n",
       "      <td>...</td>\n",
       "      <td>1.21</td>\n",
       "      <td>0.16</td>\n",
       "      <td>37.30</td>\n",
       "      <td>26.27</td>\n",
       "      <td>21.46</td>\n",
       "      <td>10.02</td>\n",
       "      <td>0.33</td>\n",
       "      <td>0.121</td>\n",
       "      <td>3.730</td>\n",
       "      <td>2.146</td>\n",
       "    </tr>\n",
       "    <tr>\n",
       "      <th>3</th>\n",
       "      <td>4</td>\n",
       "      <td>16</td>\n",
       "      <td>6837</td>\n",
       "      <td>2.34</td>\n",
       "      <td>169.0</td>\n",
       "      <td>0.17</td>\n",
       "      <td>5.07</td>\n",
       "      <td>9.46</td>\n",
       "      <td>0.04</td>\n",
       "      <td>19.55</td>\n",
       "      <td>...</td>\n",
       "      <td>9.18</td>\n",
       "      <td>0.04</td>\n",
       "      <td>19.56</td>\n",
       "      <td>21.23</td>\n",
       "      <td>21.28</td>\n",
       "      <td>22.92</td>\n",
       "      <td>0.47</td>\n",
       "      <td>0.918</td>\n",
       "      <td>1.956</td>\n",
       "      <td>2.128</td>\n",
       "    </tr>\n",
       "    <tr>\n",
       "      <th>4</th>\n",
       "      <td>5</td>\n",
       "      <td>0</td>\n",
       "      <td>53</td>\n",
       "      <td>0.00</td>\n",
       "      <td>52.4</td>\n",
       "      <td>0.00</td>\n",
       "      <td>3.01</td>\n",
       "      <td>1.67</td>\n",
       "      <td>0.89</td>\n",
       "      <td>0.00</td>\n",
       "      <td>...</td>\n",
       "      <td>1.67</td>\n",
       "      <td>0.89</td>\n",
       "      <td>0.00</td>\n",
       "      <td>0.00</td>\n",
       "      <td>31.53</td>\n",
       "      <td>62.71</td>\n",
       "      <td>0.20</td>\n",
       "      <td>0.167</td>\n",
       "      <td>0.000</td>\n",
       "      <td>3.153</td>\n",
       "    </tr>\n",
       "  </tbody>\n",
       "</table>\n",
       "<p>5 rows × 47 columns</p>\n",
       "</div>"
      ],
      "text/plain": [
       "   DistrictID  Autism  Kstudent  Rate  Area_km  LC11  LC21   LC2B  LC31  \\\n",
       "0           1       1       338  2.96     11.3  0.04  8.81  17.41  0.00   \n",
       "1           2      54      5516  9.79    868.6  0.01  3.31   3.57  6.03   \n",
       "2           3       0       111  0.00    171.6  0.19  3.05   1.21  0.15   \n",
       "3           4      16      6837  2.34    169.0  0.17  5.07   9.46  0.04   \n",
       "4           5       0        53  0.00     52.4  0.00  3.01   1.67  0.89   \n",
       "\n",
       "     LC4   ...     LC2B06  LC3106  LC406  LC5206  LC7106  LC806  LC906  \\\n",
       "0  60.02   ...      17.29    0.00  60.57    2.59   10.70   0.00   0.00   \n",
       "1   0.01   ...       2.96    6.03   0.02   87.33    0.23   0.21   0.07   \n",
       "2  37.29   ...       1.21    0.16  37.30   26.27   21.46  10.02   0.33   \n",
       "3  19.55   ...       9.18    0.04  19.56   21.23   21.28  22.92   0.47   \n",
       "4   0.00   ...       1.67    0.89   0.00    0.00   31.53  62.71   0.20   \n",
       "\n",
       "   RLC2B06  RLC406  RLC7106  \n",
       "0    1.729   6.057    1.070  \n",
       "1    0.296   0.002    0.023  \n",
       "2    0.121   3.730    2.146  \n",
       "3    0.918   1.956    2.128  \n",
       "4    0.167   0.000    3.153  \n",
       "\n",
       "[5 rows x 47 columns]"
      ]
     },
     "execution_count": 2,
     "metadata": {},
     "output_type": "execute_result"
    }
   ],
   "source": [
    "data = pd.read_csv(\"cleaned.csv\")\n",
    "data.head()"
   ]
  },
  {
   "cell_type": "code",
   "execution_count": 3,
   "metadata": {},
   "outputs": [
    {
     "data": {
      "text/plain": [
       "Index(['DistrictID', 'Autism', 'Kstudent', 'Rate', 'Area_km', 'LC11', 'LC21',\n",
       "       'LC2B', 'LC31', 'LC4', 'LC52', 'LC71', 'LC8', 'LC9', 'Avecanopy',\n",
       "       'Roadensity', 'Rd4', 'Pop', 'Popm', 'Popf', 'Malep', 'Femalep',\n",
       "       'Popden', 'Age19l', 'Age65m', 'Whitep', 'Blackp', 'Asisanp', 'Unemploy',\n",
       "       'Income_median', 'Income_sd_median', 'RLC2b', 'RLC4', 'RLC71',\n",
       "       'Rcanopy', 'LC1106', 'LC2106', 'LC2B06', 'LC3106', 'LC406', 'LC5206',\n",
       "       'LC7106', 'LC806', 'LC906', 'RLC2B06', 'RLC406', 'RLC7106'],\n",
       "      dtype='object')"
      ]
     },
     "execution_count": 3,
     "metadata": {},
     "output_type": "execute_result"
    }
   ],
   "source": [
    "data.columns \n"
   ]
  },
  {
   "cell_type": "code",
   "execution_count": 4,
   "metadata": {},
   "outputs": [
    {
     "data": {
      "text/html": [
       "<div>\n",
       "<style scoped>\n",
       "    .dataframe tbody tr th:only-of-type {\n",
       "        vertical-align: middle;\n",
       "    }\n",
       "\n",
       "    .dataframe tbody tr th {\n",
       "        vertical-align: top;\n",
       "    }\n",
       "\n",
       "    .dataframe thead th {\n",
       "        text-align: right;\n",
       "    }\n",
       "</style>\n",
       "<table border=\"1\" class=\"dataframe\">\n",
       "  <thead>\n",
       "    <tr style=\"text-align: right;\">\n",
       "      <th></th>\n",
       "      <th>DistrictID</th>\n",
       "      <th>Autism</th>\n",
       "      <th>Kstudent</th>\n",
       "      <th>Rate</th>\n",
       "      <th>Area_km</th>\n",
       "      <th>LC11</th>\n",
       "      <th>LC21</th>\n",
       "      <th>LC2B</th>\n",
       "      <th>LC31</th>\n",
       "      <th>LC4</th>\n",
       "      <th>...</th>\n",
       "      <th>Whitep</th>\n",
       "      <th>Blackp</th>\n",
       "      <th>Asisanp</th>\n",
       "      <th>Unemploy</th>\n",
       "      <th>Income_median</th>\n",
       "      <th>Income_sd_median</th>\n",
       "      <th>RLC2b</th>\n",
       "      <th>RLC4</th>\n",
       "      <th>RLC71</th>\n",
       "      <th>Rcanopy</th>\n",
       "    </tr>\n",
       "  </thead>\n",
       "  <tbody>\n",
       "    <tr>\n",
       "      <th>0</th>\n",
       "      <td>1</td>\n",
       "      <td>1</td>\n",
       "      <td>338</td>\n",
       "      <td>2.96</td>\n",
       "      <td>11.3</td>\n",
       "      <td>0.04</td>\n",
       "      <td>8.81</td>\n",
       "      <td>17.41</td>\n",
       "      <td>0.00</td>\n",
       "      <td>60.02</td>\n",
       "      <td>...</td>\n",
       "      <td>95.72</td>\n",
       "      <td>0.67</td>\n",
       "      <td>2.77</td>\n",
       "      <td>3.58</td>\n",
       "      <td>65139</td>\n",
       "      <td>6.5139</td>\n",
       "      <td>1.741</td>\n",
       "      <td>6.002</td>\n",
       "      <td>1.095</td>\n",
       "      <td>4.674</td>\n",
       "    </tr>\n",
       "    <tr>\n",
       "      <th>1</th>\n",
       "      <td>2</td>\n",
       "      <td>54</td>\n",
       "      <td>5516</td>\n",
       "      <td>9.79</td>\n",
       "      <td>868.6</td>\n",
       "      <td>0.01</td>\n",
       "      <td>3.31</td>\n",
       "      <td>3.57</td>\n",
       "      <td>6.03</td>\n",
       "      <td>0.01</td>\n",
       "      <td>...</td>\n",
       "      <td>62.33</td>\n",
       "      <td>17.81</td>\n",
       "      <td>4.68</td>\n",
       "      <td>16.71</td>\n",
       "      <td>50395</td>\n",
       "      <td>5.0395</td>\n",
       "      <td>0.357</td>\n",
       "      <td>0.001</td>\n",
       "      <td>0.023</td>\n",
       "      <td>0.002</td>\n",
       "    </tr>\n",
       "    <tr>\n",
       "      <th>2</th>\n",
       "      <td>3</td>\n",
       "      <td>0</td>\n",
       "      <td>111</td>\n",
       "      <td>0.00</td>\n",
       "      <td>171.6</td>\n",
       "      <td>0.19</td>\n",
       "      <td>3.05</td>\n",
       "      <td>1.21</td>\n",
       "      <td>0.15</td>\n",
       "      <td>37.29</td>\n",
       "      <td>...</td>\n",
       "      <td>73.65</td>\n",
       "      <td>1.83</td>\n",
       "      <td>0.40</td>\n",
       "      <td>6.30</td>\n",
       "      <td>75903</td>\n",
       "      <td>7.5903</td>\n",
       "      <td>0.121</td>\n",
       "      <td>3.729</td>\n",
       "      <td>2.142</td>\n",
       "      <td>3.225</td>\n",
       "    </tr>\n",
       "    <tr>\n",
       "      <th>3</th>\n",
       "      <td>4</td>\n",
       "      <td>16</td>\n",
       "      <td>6837</td>\n",
       "      <td>2.34</td>\n",
       "      <td>169.0</td>\n",
       "      <td>0.17</td>\n",
       "      <td>5.07</td>\n",
       "      <td>9.46</td>\n",
       "      <td>0.04</td>\n",
       "      <td>19.55</td>\n",
       "      <td>...</td>\n",
       "      <td>68.23</td>\n",
       "      <td>1.37</td>\n",
       "      <td>6.24</td>\n",
       "      <td>13.83</td>\n",
       "      <td>48597</td>\n",
       "      <td>4.8597</td>\n",
       "      <td>0.946</td>\n",
       "      <td>1.955</td>\n",
       "      <td>2.127</td>\n",
       "      <td>1.393</td>\n",
       "    </tr>\n",
       "    <tr>\n",
       "      <th>4</th>\n",
       "      <td>5</td>\n",
       "      <td>0</td>\n",
       "      <td>53</td>\n",
       "      <td>0.00</td>\n",
       "      <td>52.4</td>\n",
       "      <td>0.00</td>\n",
       "      <td>3.01</td>\n",
       "      <td>1.67</td>\n",
       "      <td>0.89</td>\n",
       "      <td>0.00</td>\n",
       "      <td>...</td>\n",
       "      <td>63.33</td>\n",
       "      <td>21.43</td>\n",
       "      <td>0.00</td>\n",
       "      <td>47.56</td>\n",
       "      <td>19375</td>\n",
       "      <td>1.9375</td>\n",
       "      <td>0.167</td>\n",
       "      <td>0.000</td>\n",
       "      <td>3.053</td>\n",
       "      <td>0.000</td>\n",
       "    </tr>\n",
       "  </tbody>\n",
       "</table>\n",
       "<p>5 rows × 34 columns</p>\n",
       "</div>"
      ],
      "text/plain": [
       "   DistrictID  Autism  Kstudent  Rate  Area_km  LC11  LC21   LC2B  LC31  \\\n",
       "0           1       1       338  2.96     11.3  0.04  8.81  17.41  0.00   \n",
       "1           2      54      5516  9.79    868.6  0.01  3.31   3.57  6.03   \n",
       "2           3       0       111  0.00    171.6  0.19  3.05   1.21  0.15   \n",
       "3           4      16      6837  2.34    169.0  0.17  5.07   9.46  0.04   \n",
       "4           5       0        53  0.00     52.4  0.00  3.01   1.67  0.89   \n",
       "\n",
       "     LC4   ...     Whitep  Blackp  Asisanp  Unemploy  Income_median  \\\n",
       "0  60.02   ...      95.72    0.67     2.77      3.58          65139   \n",
       "1   0.01   ...      62.33   17.81     4.68     16.71          50395   \n",
       "2  37.29   ...      73.65    1.83     0.40      6.30          75903   \n",
       "3  19.55   ...      68.23    1.37     6.24     13.83          48597   \n",
       "4   0.00   ...      63.33   21.43     0.00     47.56          19375   \n",
       "\n",
       "   Income_sd_median  RLC2b   RLC4  RLC71  Rcanopy  \n",
       "0            6.5139  1.741  6.002  1.095    4.674  \n",
       "1            5.0395  0.357  0.001  0.023    0.002  \n",
       "2            7.5903  0.121  3.729  2.142    3.225  \n",
       "3            4.8597  0.946  1.955  2.127    1.393  \n",
       "4            1.9375  0.167  0.000  3.053    0.000  \n",
       "\n",
       "[5 rows x 34 columns]"
      ]
     },
     "execution_count": 4,
     "metadata": {},
     "output_type": "execute_result"
    }
   ],
   "source": [
    "data_new = data[['DistrictID', 'Autism', 'Kstudent', 'Rate', 'Area_km', 'LC11', 'LC21',\n",
    "       'LC2B', 'LC31', 'LC4', 'LC52', 'LC71', 'LC8', 'LC9', 'Avecanopy',\n",
    "       'Roadensity', 'Rd4', 'Pop', 'Popm', 'Malep', 'Femalep',\n",
    "       'Popden', 'Age19l', 'Age65m', 'Whitep', 'Blackp', 'Asisanp', 'Unemploy',\n",
    "       'Income_median', 'Income_sd_median', 'RLC2b', 'RLC4', 'RLC71',\n",
    "       'Rcanopy']]\n",
    "data_new.head()"
   ]
  },
  {
   "cell_type": "code",
   "execution_count": 6,
   "metadata": {},
   "outputs": [
    {
     "data": {
      "text/html": [
       "<div>\n",
       "<style scoped>\n",
       "    .dataframe tbody tr th:only-of-type {\n",
       "        vertical-align: middle;\n",
       "    }\n",
       "\n",
       "    .dataframe tbody tr th {\n",
       "        vertical-align: top;\n",
       "    }\n",
       "\n",
       "    .dataframe thead th {\n",
       "        text-align: right;\n",
       "    }\n",
       "</style>\n",
       "<table border=\"1\" class=\"dataframe\">\n",
       "  <thead>\n",
       "    <tr style=\"text-align: right;\">\n",
       "      <th></th>\n",
       "      <th>DistrictID</th>\n",
       "      <th>Autism</th>\n",
       "      <th>Kstudent</th>\n",
       "      <th>Rate</th>\n",
       "      <th>Area_km</th>\n",
       "      <th>LC11</th>\n",
       "      <th>LC21</th>\n",
       "      <th>LC2B</th>\n",
       "      <th>LC31</th>\n",
       "      <th>LC4</th>\n",
       "      <th>...</th>\n",
       "      <th>Whitep</th>\n",
       "      <th>Blackp</th>\n",
       "      <th>Asisanp</th>\n",
       "      <th>Unemploy</th>\n",
       "      <th>Income_median</th>\n",
       "      <th>Income_sd_median</th>\n",
       "      <th>RLC2b</th>\n",
       "      <th>RLC4</th>\n",
       "      <th>RLC71</th>\n",
       "      <th>Rcanopy</th>\n",
       "    </tr>\n",
       "  </thead>\n",
       "  <tbody>\n",
       "    <tr>\n",
       "      <th>0</th>\n",
       "      <td>1</td>\n",
       "      <td>1</td>\n",
       "      <td>338</td>\n",
       "      <td>2.96</td>\n",
       "      <td>11.3</td>\n",
       "      <td>0.04</td>\n",
       "      <td>8.81</td>\n",
       "      <td>17.41</td>\n",
       "      <td>0.00</td>\n",
       "      <td>60.02</td>\n",
       "      <td>...</td>\n",
       "      <td>95.72</td>\n",
       "      <td>0.67</td>\n",
       "      <td>2.77</td>\n",
       "      <td>3.58</td>\n",
       "      <td>65139</td>\n",
       "      <td>6.5139</td>\n",
       "      <td>1.741</td>\n",
       "      <td>6.002</td>\n",
       "      <td>1.095</td>\n",
       "      <td>4.674</td>\n",
       "    </tr>\n",
       "    <tr>\n",
       "      <th>1</th>\n",
       "      <td>2</td>\n",
       "      <td>54</td>\n",
       "      <td>5516</td>\n",
       "      <td>9.79</td>\n",
       "      <td>868.6</td>\n",
       "      <td>0.01</td>\n",
       "      <td>3.31</td>\n",
       "      <td>3.57</td>\n",
       "      <td>6.03</td>\n",
       "      <td>0.01</td>\n",
       "      <td>...</td>\n",
       "      <td>62.33</td>\n",
       "      <td>17.81</td>\n",
       "      <td>4.68</td>\n",
       "      <td>16.71</td>\n",
       "      <td>50395</td>\n",
       "      <td>5.0395</td>\n",
       "      <td>0.357</td>\n",
       "      <td>0.001</td>\n",
       "      <td>0.023</td>\n",
       "      <td>0.002</td>\n",
       "    </tr>\n",
       "    <tr>\n",
       "      <th>2</th>\n",
       "      <td>3</td>\n",
       "      <td>0</td>\n",
       "      <td>111</td>\n",
       "      <td>0.00</td>\n",
       "      <td>171.6</td>\n",
       "      <td>0.19</td>\n",
       "      <td>3.05</td>\n",
       "      <td>1.21</td>\n",
       "      <td>0.15</td>\n",
       "      <td>37.29</td>\n",
       "      <td>...</td>\n",
       "      <td>73.65</td>\n",
       "      <td>1.83</td>\n",
       "      <td>0.40</td>\n",
       "      <td>6.30</td>\n",
       "      <td>75903</td>\n",
       "      <td>7.5903</td>\n",
       "      <td>0.121</td>\n",
       "      <td>3.729</td>\n",
       "      <td>2.142</td>\n",
       "      <td>3.225</td>\n",
       "    </tr>\n",
       "    <tr>\n",
       "      <th>3</th>\n",
       "      <td>4</td>\n",
       "      <td>16</td>\n",
       "      <td>6837</td>\n",
       "      <td>2.34</td>\n",
       "      <td>169.0</td>\n",
       "      <td>0.17</td>\n",
       "      <td>5.07</td>\n",
       "      <td>9.46</td>\n",
       "      <td>0.04</td>\n",
       "      <td>19.55</td>\n",
       "      <td>...</td>\n",
       "      <td>68.23</td>\n",
       "      <td>1.37</td>\n",
       "      <td>6.24</td>\n",
       "      <td>13.83</td>\n",
       "      <td>48597</td>\n",
       "      <td>4.8597</td>\n",
       "      <td>0.946</td>\n",
       "      <td>1.955</td>\n",
       "      <td>2.127</td>\n",
       "      <td>1.393</td>\n",
       "    </tr>\n",
       "    <tr>\n",
       "      <th>4</th>\n",
       "      <td>5</td>\n",
       "      <td>0</td>\n",
       "      <td>53</td>\n",
       "      <td>0.00</td>\n",
       "      <td>52.4</td>\n",
       "      <td>0.00</td>\n",
       "      <td>3.01</td>\n",
       "      <td>1.67</td>\n",
       "      <td>0.89</td>\n",
       "      <td>0.00</td>\n",
       "      <td>...</td>\n",
       "      <td>63.33</td>\n",
       "      <td>21.43</td>\n",
       "      <td>0.00</td>\n",
       "      <td>47.56</td>\n",
       "      <td>19375</td>\n",
       "      <td>1.9375</td>\n",
       "      <td>0.167</td>\n",
       "      <td>0.000</td>\n",
       "      <td>3.053</td>\n",
       "      <td>0.000</td>\n",
       "    </tr>\n",
       "  </tbody>\n",
       "</table>\n",
       "<p>5 rows × 34 columns</p>\n",
       "</div>"
      ],
      "text/plain": [
       "   DistrictID  Autism  Kstudent  Rate  Area_km  LC11  LC21   LC2B  LC31  \\\n",
       "0           1       1       338  2.96     11.3  0.04  8.81  17.41  0.00   \n",
       "1           2      54      5516  9.79    868.6  0.01  3.31   3.57  6.03   \n",
       "2           3       0       111  0.00    171.6  0.19  3.05   1.21  0.15   \n",
       "3           4      16      6837  2.34    169.0  0.17  5.07   9.46  0.04   \n",
       "4           5       0        53  0.00     52.4  0.00  3.01   1.67  0.89   \n",
       "\n",
       "     LC4   ...     Whitep  Blackp  Asisanp  Unemploy  Income_median  \\\n",
       "0  60.02   ...      95.72    0.67     2.77      3.58          65139   \n",
       "1   0.01   ...      62.33   17.81     4.68     16.71          50395   \n",
       "2  37.29   ...      73.65    1.83     0.40      6.30          75903   \n",
       "3  19.55   ...      68.23    1.37     6.24     13.83          48597   \n",
       "4   0.00   ...      63.33   21.43     0.00     47.56          19375   \n",
       "\n",
       "   Income_sd_median  RLC2b   RLC4  RLC71  Rcanopy  \n",
       "0            6.5139  1.741  6.002  1.095    4.674  \n",
       "1            5.0395  0.357  0.001  0.023    0.002  \n",
       "2            7.5903  0.121  3.729  2.142    3.225  \n",
       "3            4.8597  0.946  1.955  2.127    1.393  \n",
       "4            1.9375  0.167  0.000  3.053    0.000  \n",
       "\n",
       "[5 rows x 34 columns]"
      ]
     },
     "execution_count": 6,
     "metadata": {},
     "output_type": "execute_result"
    }
   ],
   "source": [
    "X = data_new\n",
    "X.head()"
   ]
  },
  {
   "cell_type": "code",
   "execution_count": 7,
   "metadata": {},
   "outputs": [
    {
     "data": {
      "text/plain": [
       "0    2.96\n",
       "1    9.79\n",
       "2    0.00\n",
       "3    2.34\n",
       "4    0.00\n",
       "Name: Rate, dtype: float64"
      ]
     },
     "execution_count": 7,
     "metadata": {},
     "output_type": "execute_result"
    }
   ],
   "source": [
    "y = data_new['Rate']\n",
    "y.head()"
   ]
  },
  {
   "cell_type": "code",
   "execution_count": 14,
   "metadata": {},
   "outputs": [
    {
     "data": {
      "text/plain": [
       "LinearRegression(copy_X=True, fit_intercept=True, n_jobs=1, normalize=False)"
      ]
     },
     "execution_count": 14,
     "metadata": {},
     "output_type": "execute_result"
    }
   ],
   "source": [
    "from sklearn.linear_model import LinearRegression\n",
    "lm = LinearRegression()\n",
    "lm.fit(X, y)\n"
   ]
  },
  {
   "cell_type": "code",
   "execution_count": 20,
   "metadata": {},
   "outputs": [],
   "source": [
    "from sklearn.preprocessing import PolynomialFeatures\n",
    "polyFeature = PolynomialFeatures(degree = 4)\n",
    "poly_matrix = polyFeature.fit_transform(X)"
   ]
  },
  {
   "cell_type": "code",
   "execution_count": 21,
   "metadata": {},
   "outputs": [
    {
     "data": {
      "text/plain": [
       "LinearRegression(copy_X=True, fit_intercept=True, n_jobs=1, normalize=False)"
      ]
     },
     "execution_count": 21,
     "metadata": {},
     "output_type": "execute_result"
    }
   ],
   "source": [
    "lm2 = LinearRegression()\n",
    "lm2.fit(poly_matrix,y)"
   ]
  },
  {
   "cell_type": "code",
   "execution_count": 70,
   "metadata": {},
   "outputs": [
    {
     "name": "stdout",
     "output_type": "stream",
     "text": [
      "(407, 34) (136, 34) (407,) (136,)\n",
      "501    12.12\n",
      "278     0.00\n",
      "105     0.00\n",
      "234     3.27\n",
      "256    15.21\n",
      "409     8.96\n",
      "290    16.95\n",
      "339     3.66\n",
      "288     9.64\n",
      "398     4.22\n",
      "80     11.23\n",
      "513    13.22\n",
      "421     1.35\n",
      "113    18.62\n",
      "19      2.63\n",
      "392     0.00\n",
      "449    16.15\n",
      "397     0.00\n",
      "101     0.00\n",
      "302     8.61\n",
      "450     3.68\n",
      "535     0.00\n",
      "204     0.00\n",
      "505     8.57\n",
      "282     0.00\n",
      "366     8.99\n",
      "109    27.03\n",
      "380     0.00\n",
      "388     2.66\n",
      "365     2.48\n",
      "       ...  \n",
      "33     21.09\n",
      "206     0.00\n",
      "29      3.31\n",
      "118    12.66\n",
      "230     6.97\n",
      "226     0.00\n",
      "406     6.62\n",
      "537    14.43\n",
      "427    12.75\n",
      "169     0.00\n",
      "172     0.00\n",
      "124    18.67\n",
      "140    11.29\n",
      "115     0.00\n",
      "61      9.89\n",
      "507     8.68\n",
      "185     6.01\n",
      "249     3.14\n",
      "157    14.48\n",
      "251     4.59\n",
      "192     2.93\n",
      "506     0.00\n",
      "143    11.80\n",
      "367     0.00\n",
      "298    16.13\n",
      "147     6.71\n",
      "13     11.92\n",
      "71      0.00\n",
      "10      0.00\n",
      "324     7.47\n",
      "Name: Rate, Length: 136, dtype: float64\n"
     ]
    }
   ],
   "source": [
    "from sklearn import cross_validation\n",
    "x_train,x_test,y_train,y_test  = cross_validation.train_test_split(X,y)\n",
    "\n",
    "print(x_train.shape, x_test.shape, y_train.shape, y_test.shape)\n",
    "print(y_test)"
   ]
  },
  {
   "cell_type": "code",
   "execution_count": 23,
   "metadata": {},
   "outputs": [
    {
     "name": "stdout",
     "output_type": "stream",
     "text": [
      "[-4.80704898e-09  1.04432019e-07  5.66999999e+00  5.99000002e+00\n",
      " -3.95451139e-09 -6.34128128e-09  8.77000000e+00  4.29000000e+00\n",
      "  2.91000000e+00  4.76617856e-09 -3.73429998e-09 -4.59581884e-09\n",
      "  6.36370601e-09 -2.90688718e-09  2.57247734e-09  3.55000000e+00\n",
      "  1.42134127e-09  7.23999999e+00  1.02600000e+01  3.12999998e+00\n",
      "  2.86999999e+00  7.19999985e-01  2.38600000e+01  2.07000000e+00\n",
      "  6.99000000e+00  8.23000000e+00  1.35400000e+01 -1.81498194e-09\n",
      "  5.25000000e+00  1.31400000e+01 -9.58866053e-09  1.04300000e+01\n",
      "  6.21000000e+00  8.44000002e+00  2.43900000e+01  1.53800000e+01\n",
      "  7.04000005e+00  2.91300000e+01  9.78999999e+00 -4.86247131e-09\n",
      "  9.74999999e+00  1.32300000e+01 -8.28327984e-09  7.89500000e+01\n",
      "  6.50000001e+00  3.95999999e+00  1.29200000e+01  7.05000000e+00\n",
      "  1.13600000e+01  3.75415254e-09  1.18100000e+01  4.76000000e+00\n",
      "  5.14999999e+00  1.35900000e+01  8.93000000e+00  3.20999999e+00\n",
      "  1.53100000e+01  1.69500000e+01 -1.21897870e-09 -9.98934979e-09\n",
      "  8.00000000e+00  9.05000000e+00  8.67999999e+00 -1.05492859e-08\n",
      "  1.30700000e+01 -2.15955254e-08  1.52700000e+01  4.53107418e-09\n",
      "  1.03100000e+01  1.19200000e+01  8.39000000e+00  6.62000002e+00\n",
      "  1.28300000e+01  1.43500000e+01  5.58000002e+00  2.68616418e-09\n",
      " -7.39484562e-09  8.57000004e+00  1.78700001e+01 -1.36183331e-09\n",
      "  4.02999996e+00  1.48600000e+01  8.19000001e+00  2.64000000e+00\n",
      "  1.38000000e+01  3.09680104e-09  1.92224547e-09  1.76000001e+00\n",
      "  1.61300000e+01  2.96000001e+00  1.19400000e+01  9.89000000e+00\n",
      "  5.60700000e+01 -6.55109034e-09 -4.20985202e-09  8.61000000e+00\n",
      "  1.31000000e+01 -1.75014350e-08  9.37999999e+00  5.49000000e+00\n",
      " -1.08614415e-08  1.18000000e+01  9.80000002e+00  1.52463429e-08\n",
      "  1.09799996e+01  5.16400000e+01  9.95000002e+00  1.12900000e+01\n",
      " -3.10328119e-09  1.42900000e+01  9.12999999e+00  3.77960419e-09\n",
      "  3.59000001e+00  3.79000000e+00  8.56999999e+00  1.22392692e-08\n",
      "  1.52100000e+01  4.23321467e-09  7.99999999e+00  8.39000000e+00\n",
      " -1.13275576e-08  7.73000003e+00  8.83000002e+00 -1.44388252e-08\n",
      "  6.53000000e+00  4.11999999e+00  1.74263448e-09 -8.29223268e-09\n",
      "  1.23900000e+01  1.21200000e+01 -3.45633566e-09  6.42000000e+00\n",
      "  4.85000000e+00  6.94000000e+00  8.82408813e-10  7.34999997e+00]\n"
     ]
    }
   ],
   "source": [
    "predict_poly = lm2.predict(polyFeature.fit_transform(x_test))\n",
    "print(predict_poly)"
   ]
  },
  {
   "cell_type": "code",
   "execution_count": 24,
   "metadata": {},
   "outputs": [
    {
     "data": {
      "text/plain": [
       "1.0"
      ]
     },
     "execution_count": 24,
     "metadata": {},
     "output_type": "execute_result"
    }
   ],
   "source": [
    "lm2.score(poly_matrix,y)"
   ]
  },
  {
   "cell_type": "code",
   "execution_count": 39,
   "metadata": {},
   "outputs": [
    {
     "data": {
      "text/plain": [
       "1.0"
      ]
     },
     "execution_count": 39,
     "metadata": {},
     "output_type": "execute_result"
    }
   ],
   "source": [
    "lm.score(X,y)"
   ]
  },
  {
   "cell_type": "code",
   "execution_count": 46,
   "metadata": {},
   "outputs": [],
   "source": [
    "data1_new = data[['LC1106', 'LC2106', 'LC2B06', 'LC3106', 'LC406', 'LC5206',\n",
    "       'LC7106', 'LC806', 'LC906', 'RLC2B06', 'RLC406', 'RLC7106']]\n",
    "X1 = data1_new\n",
    "y1 = data['Rate']\n"
   ]
  },
  {
   "cell_type": "code",
   "execution_count": 56,
   "metadata": {},
   "outputs": [
    {
     "data": {
      "text/plain": [
       "LinearRegression(copy_X=True, fit_intercept=True, n_jobs=1, normalize=False)"
      ]
     },
     "execution_count": 56,
     "metadata": {},
     "output_type": "execute_result"
    }
   ],
   "source": [
    "from sklearn.linear_model import LinearRegression\n",
    "lr = LinearRegression()\n",
    "lr.fit(X1, y1)\n"
   ]
  },
  {
   "cell_type": "code",
   "execution_count": 57,
   "metadata": {},
   "outputs": [],
   "source": [
    "from sklearn.preprocessing import PolynomialFeatures\n",
    "polyFeature = PolynomialFeatures(degree = 5)\n",
    "poly_matrix1 = polyFeature.fit_transform(X1)"
   ]
  },
  {
   "cell_type": "code",
   "execution_count": 58,
   "metadata": {},
   "outputs": [
    {
     "data": {
      "text/plain": [
       "LinearRegression(copy_X=True, fit_intercept=True, n_jobs=1, normalize=False)"
      ]
     },
     "execution_count": 58,
     "metadata": {},
     "output_type": "execute_result"
    }
   ],
   "source": [
    "lm3 = LinearRegression()\n",
    "lm3.fit(poly_matrix1,y1)"
   ]
  },
  {
   "cell_type": "code",
   "execution_count": 59,
   "metadata": {},
   "outputs": [
    {
     "name": "stdout",
     "output_type": "stream",
     "text": [
      "(407, 12) (136, 12) (407,) (136,)\n"
     ]
    }
   ],
   "source": [
    "from sklearn import cross_validation\n",
    "x1_train,x1_test,y1_train,y1_test  = cross_validation.train_test_split(X1,y1)\n",
    "\n",
    "print(x1_train.shape, x1_test.shape, y1_train.shape, y1_test.shape)"
   ]
  },
  {
   "cell_type": "code",
   "execution_count": 60,
   "metadata": {},
   "outputs": [
    {
     "name": "stdout",
     "output_type": "stream",
     "text": [
      "[ 7.04000000e+00  1.49300000e+01  9.75000000e+00  4.98000000e+00\n",
      " -6.18456397e-11  5.65000000e+00  2.51020538e-10  7.36000000e+00\n",
      "  6.39000000e+00  3.52883944e-10  1.89174898e-10  1.05300000e+01\n",
      "  8.18000000e+00  3.67435860e-10  1.06400000e+01  5.82076609e-11\n",
      "  1.56200000e+01  5.71162673e-10  1.35000000e+00  1.19400000e+01\n",
      " -1.85536919e-10  3.80000000e+00  1.94000000e+00  3.89263732e-10\n",
      "  1.35700000e+01  8.09000000e+00  1.03100000e+01  1.11100000e+01\n",
      " -6.91215973e-11  1.86900000e+01  9.82000000e+00  1.69500000e+01\n",
      "  5.88000000e+00  2.10900000e+01  1.10300000e+01  3.29000000e+00\n",
      "  8.23000000e+00  4.41000000e+00  7.35000000e+00  1.82000000e+01\n",
      "  4.83851181e-10  3.65000000e+00  3.96000000e+00  2.65000000e+00\n",
      "  1.61300000e+01 -2.61934474e-10  3.52883944e-10  6.00266503e-10\n",
      "  2.65572453e-10  2.58296495e-10  1.18100000e+01  3.53000000e+00\n",
      "  8.68000000e+00  1.93000000e+00  7.50000000e+00  2.12800000e+01\n",
      "  2.21916707e-10  1.49700000e+01  9.80000000e+00  5.25000000e+00\n",
      "  7.89441401e-10  1.42000000e+01  1.39800000e+01  1.09800000e+01\n",
      " -2.08456186e-09 -2.58296495e-10  2.87000000e+00  4.59000000e+00\n",
      "  3.17000000e+00  6.15000000e+00  1.30700000e+01  9.64000000e+00\n",
      "  6.71000000e+00  5.22000000e+00  4.98000000e+00  5.49000000e+00\n",
      "  8.44000000e+00  8.40000000e+00 -6.29370334e-10  2.89900000e+01\n",
      "  3.14000000e+00  6.00266503e-10 -2.72848411e-10  8.93000000e+00\n",
      "  3.13000000e+00 -3.45607987e-10  1.35900000e+01  8.03993316e-10\n",
      " -4.03815648e-10  1.28300000e+01  7.69000000e+00  1.86700000e+01\n",
      "  1.22000000e+01  1.26400000e+01  6.95000000e+00  2.03726813e-10\n",
      " -4.47471393e-10  6.87577995e-10  1.03500000e+01  4.40195436e-10\n",
      "  2.07364792e-10  6.18456397e-11  1.26600000e+01 -4.51109372e-10\n",
      "  1.50300000e+01  8.67000000e+00  4.65000000e+00  1.17600000e+01\n",
      "  1.06000000e+01  1.52700000e+01 -1.70985004e-10  4.11091605e-10\n",
      "  6.28000000e+00  4.79000000e+00  1.41881173e-10  1.10600000e+01\n",
      "  2.07000000e+00  1.56000000e+00  1.62500000e+01  1.12500000e+01\n",
      "  5.15000000e+00  5.51000000e+00  6.00266503e-10  6.29370334e-10\n",
      "  1.14100000e+01  2.34000000e+00  8.99000000e+00  2.41000000e+00\n",
      "  2.27000000e+00  1.12300000e+01 -1.85536919e-10  9.89000000e+00\n",
      "  1.00000000e+01  2.14640750e-10  2.28000000e+00  7.38000000e+00]\n"
     ]
    }
   ],
   "source": [
    "predict_poly1 = lm3.predict(polyFeature.fit_transform(x1_test))\n",
    "print(predict_poly1)"
   ]
  },
  {
   "cell_type": "code",
   "execution_count": 61,
   "metadata": {},
   "outputs": [
    {
     "data": {
      "text/plain": [
       "1.0"
      ]
     },
     "execution_count": 61,
     "metadata": {},
     "output_type": "execute_result"
    }
   ],
   "source": [
    "lm3.score(poly_matrix1,y1)"
   ]
  },
  {
   "cell_type": "code",
   "execution_count": 66,
   "metadata": {},
   "outputs": [
    {
     "data": {
      "text/plain": [
       "0.11112804999789605"
      ]
     },
     "execution_count": 66,
     "metadata": {},
     "output_type": "execute_result"
    }
   ],
   "source": [
    "lr.score(X1,y1)"
   ]
  },
  {
   "cell_type": "code",
   "execution_count": null,
   "metadata": {},
   "outputs": [],
   "source": []
  }
 ],
 "metadata": {
  "kernelspec": {
   "display_name": "Python 3",
   "language": "python",
   "name": "python3"
  },
  "language_info": {
   "codemirror_mode": {
    "name": "ipython",
    "version": 3
   },
   "file_extension": ".py",
   "mimetype": "text/x-python",
   "name": "python",
   "nbconvert_exporter": "python",
   "pygments_lexer": "ipython3",
   "version": "3.7.0"
  }
 },
 "nbformat": 4,
 "nbformat_minor": 2
}
