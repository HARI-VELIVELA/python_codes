{
 "cells": [
  {
   "cell_type": "code",
   "execution_count": 11,
   "metadata": {},
   "outputs": [
    {
     "data": {
      "text/plain": [
       "7"
      ]
     },
     "execution_count": 11,
     "metadata": {},
     "output_type": "execute_result"
    }
   ],
   "source": [
    "# Binary search using iterative metod\n",
    "import numpy as np\n",
    "def Binary_search_iterative(arr,key):\n",
    "    low = 0\n",
    "    high = len(arr)\n",
    "    while low <= high:\n",
    "        mid = int(np.floor((high+low)/2))\n",
    "        if key == arr[mid]:\n",
    "            return mid\n",
    "        if key < arr[mid]:\n",
    "            high = mid-1\n",
    "        else:\n",
    "            low = mid+1\n",
    "    return 'value not found in the given Arry'\n",
    "    \n",
    "arr = [1,5,6,8,9,12,15,16,21,24,29,35,65,87,89,96]\n",
    "key = 16\n",
    "Binary_search_iterative(arr,key)"
   ]
  },
  {
   "cell_type": "code",
   "execution_count": 12,
   "metadata": {},
   "outputs": [
    {
     "data": {
      "text/plain": [
       "7"
      ]
     },
     "execution_count": 12,
     "metadata": {},
     "output_type": "execute_result"
    }
   ],
   "source": [
    "# Binary Search using recursive approach:\n",
    "\n",
    "import numpy as np\n",
    "def Binary_search_recursive(arr,low,high,key):\n",
    "    if low == high:\n",
    "        if arr[low] == key:\n",
    "            return low\n",
    "        else:\n",
    "            return 'item not found in the array'\n",
    "    else:\n",
    "        mid = int(np.floor((low+high)/2))\n",
    "        if arr[mid] == key:\n",
    "            return mid\n",
    "        elif key<arr[mid]:\n",
    "            return Binary_search_recursive(arr,low,mid-1,key)\n",
    "        else:\n",
    "            return Binary_search_recursive(arr,mid+1,high,key)\n",
    "        \n",
    "arr = [1,5,6,8,9,12,15,16,21,24,29,35,65,87,89,96]\n",
    "key = 16\n",
    "low,high = 0,len(arr)\n",
    "Binary_search_recursive(arr,low,high,key)"
   ]
  },
  {
   "cell_type": "code",
   "execution_count": 1,
   "metadata": {},
   "outputs": [],
   "source": [
    "# time compexity for both the methods is O(logn)"
   ]
  },
  {
   "cell_type": "code",
   "execution_count": 2,
   "metadata": {},
   "outputs": [
    {
     "data": {
      "text/plain": [
       "1"
      ]
     },
     "execution_count": 2,
     "metadata": {},
     "output_type": "execute_result"
    }
   ],
   "source": [
    "# leetcode 852:\n",
    "\n",
    "def function(arr):\n",
    "    return arr.index(max(arr))\n",
    "arr = [0,1,0]\n",
    "function(arr)"
   ]
  },
  {
   "cell_type": "code",
   "execution_count": 6,
   "metadata": {},
   "outputs": [
    {
     "data": {
      "text/plain": [
       "[2]"
      ]
     },
     "execution_count": 6,
     "metadata": {},
     "output_type": "execute_result"
    }
   ],
   "source": [
    "#leetcode 349:\n",
    "def function(nums1,nums2):\n",
    "    result = []\n",
    "    for i in nums1:\n",
    "        if i in nums2 and i not in result:\n",
    "            result.append(i)\n",
    "    return result\n",
    "nums1 = [1,2,2,1]\n",
    "nums2 = [2,2]\n",
    "function(nums1,nums2)"
   ]
  },
  {
   "cell_type": "code",
   "execution_count": 20,
   "metadata": {},
   "outputs": [
    {
     "data": {
      "text/plain": [
       "True"
      ]
     },
     "execution_count": 20,
     "metadata": {},
     "output_type": "execute_result"
    }
   ],
   "source": [
    "# leetcode 392:\n",
    "\n",
    "\"\"\"def inter_section(s1,s2):\n",
    "    inter = []\n",
    "    for i in s1:\n",
    "        if i in s2 and len(inter)<=min(len(s1),len(s2)):\n",
    "            inter.append(i)\n",
    "    return inter\n",
    "def is_sub(s1,s2):\n",
    "    comp = inter_section(s1,s2)\n",
    "    if comp == list(s1):\n",
    "        return True\n",
    "    return False\n",
    "s = \"axc\"\n",
    "t = \"ahbgdc\"\n",
    "is_sub(s,t)\"\"\"\n",
    "\n",
    "def function(s1,s2):\n",
    "    i  = 0\n",
    "    for char in s1:\n",
    "        new = s2[(i):].find(char)\n",
    "        if new == -1:\n",
    "            return False\n",
    "        i = i+1+new\n",
    "    return True\n",
    "\n",
    "s = \"axc\"\n",
    "t = \"ahbbxxdc\"\n",
    "function(s,t)"
   ]
  },
  {
   "cell_type": "code",
   "execution_count": 18,
   "metadata": {},
   "outputs": [
    {
     "name": "stdout",
     "output_type": "stream",
     "text": [
      "0\n",
      "3\n",
      "6\n"
     ]
    }
   ],
   "source": [
    "s1 = \"axc\"\n",
    "s2 = \"ahbxgdc\"\n",
    "i = 0\n",
    "for char in s1:\n",
    "    new = s2[(i):].find(char)\n",
    "    print(new)"
   ]
  },
  {
   "cell_type": "code",
   "execution_count": 1,
   "metadata": {},
   "outputs": [],
   "source": [
    "dict1 = {}\n",
    "dict1[\"hari\"] = \"velivela\"\n",
    "dict1[\"Kodanda Ram\"] = \"10th class\"\n",
    "dict1[(\"hari\",\"Jyothi\")] = \"7th class\"\n"
   ]
  },
  {
   "cell_type": "code",
   "execution_count": null,
   "metadata": {},
   "outputs": [],
   "source": [
    "# No of ways to decode thr msg:\n"
   ]
  },
  {
   "cell_type": "code",
   "execution_count": 14,
   "metadata": {},
   "outputs": [
    {
     "data": {
      "text/plain": [
       "31"
      ]
     },
     "execution_count": 14,
     "metadata": {},
     "output_type": "execute_result"
    }
   ],
   "source": [
    "-10^-23"
   ]
  },
  {
   "cell_type": "code",
   "execution_count": 3,
   "metadata": {},
   "outputs": [
    {
     "data": {
      "text/plain": [
       "'0b11111'"
      ]
     },
     "execution_count": 3,
     "metadata": {},
     "output_type": "execute_result"
    }
   ],
   "source": [
    "bin(31)"
   ]
  }
 ],
 "metadata": {
  "kernelspec": {
   "display_name": "Python 3",
   "language": "python",
   "name": "python3"
  },
  "language_info": {
   "codemirror_mode": {
    "name": "ipython",
    "version": 3
   },
   "file_extension": ".py",
   "mimetype": "text/x-python",
   "name": "python",
   "nbconvert_exporter": "python",
   "pygments_lexer": "ipython3",
   "version": "3.7.0"
  }
 },
 "nbformat": 4,
 "nbformat_minor": 2
}
