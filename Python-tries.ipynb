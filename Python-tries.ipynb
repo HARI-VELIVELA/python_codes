{
 "cells": [
  {
   "cell_type": "code",
   "execution_count": null,
   "metadata": {},
   "outputs": [],
   "source": [
    "\"\"\"\n",
    "Trie: Tree Data structure used for storing the collections of strings. Search for the string availabiity is very easy in Tries.\n",
    "      pre-fix search also can be done very fast. sorting the strings in lexographic order also done in Tries.\n",
    "      \n",
    "      In hashtable prefix search for string is not possible. alos not memory efficient in storing the vast number of strings.\n",
    "      \n",
    "      Time complexities:\n",
    "      \n",
    "      Insertion: O(l*n) --> l - average length of word and n - no of words\n",
    "      search   : 1. prefix search \n",
    "                 2. whole word search             time complexity for both types O(l) --> l is length of the word we searching.\n",
    "\"\"\"\n"
   ]
  },
  {
   "cell_type": "code",
   "execution_count": 13,
   "metadata": {},
   "outputs": [
    {
     "name": "stdout",
     "output_type": "stream",
     "text": [
      "True\n",
      "False\n",
      "True\n"
     ]
    }
   ],
   "source": [
    "class Trie:\n",
    "    def __init__(self):\n",
    "        self.root = {}\n",
    "    def insert_word(self, word):\n",
    "        current = self.root\n",
    "        for letter in word:\n",
    "            if letter not in current:\n",
    "                current[letter] = {}\n",
    "            current = current[letter]\n",
    "        current[\"*\"] = \"*\"\n",
    "        \n",
    "    def does_exist(self, word):\n",
    "        current = self.root\n",
    "        for letter in word:\n",
    "            if letter not in current:\n",
    "                return False\n",
    "            current = current[letter]\n",
    "        return \"*\" in current\n",
    "\n",
    "    \n",
    "trie = Trie()\n",
    "words = ['wait','waiter','shop','shopper']\n",
    "for word in words:\n",
    "    trie.insert_word(word)\n",
    "    \n",
    "print(trie.does_exist(\"wait\"))\n",
    "print(trie.does_exist(\"football\"))\n",
    "print(trie.does_exist(\"shopper\"))"
   ]
  },
  {
   "cell_type": "code",
   "execution_count": 29,
   "metadata": {},
   "outputs": [
    {
     "name": "stdout",
     "output_type": "stream",
     "text": [
      "True\n",
      "False\n",
      "True\n"
     ]
    }
   ],
   "source": [
    "class TrieNode:\n",
    "    def __init__(self, letter):\n",
    "        self.letter = letter\n",
    "        self.children = {}\n",
    "        self.isEndOfWord = False    \n",
    "class Trie:\n",
    "    def __init__(self):\n",
    "        self.root = TrieNode(self)\n",
    "        \n",
    "    def insert_word(self, word):\n",
    "        current = self.root\n",
    "        for letter in word:\n",
    "            if letter not in current.children:\n",
    "                current.children[letter] = TrieNode(letter)\n",
    "            current = current.children[letter]\n",
    "        current.isEndOfWord = True\n",
    "        \n",
    "    def does_exist(self, word):\n",
    "        if word == \"\": return True\n",
    "        current = self.root\n",
    "        for letter in word:\n",
    "            if letter not in current.children:\n",
    "                return False\n",
    "            current = current.children[letter]\n",
    "        return current.isEndOfWord\n",
    "    \n",
    "    def starts_with(self, word):\n",
    "        current = self.root\n",
    "        for letter in word:\n",
    "            if letter not in current.children:\n",
    "                return False\n",
    "            current = current.children[letter]\n",
    "        return True\n",
    "    \n",
    "    def prefix_search(self, word):\n",
    "        n = len(word)\n",
    "        def find(node, idx):\n",
    "            if idx == n: return node.isEndOfWord\n",
    "            \n",
    "            char = word[idx]\n",
    "            if char == \".\":\n",
    "                for key in node.children:\n",
    "                    if find(node.children[key], idx+1): return True\n",
    "                return False\n",
    "            elif char not in node.children: return False\n",
    "            else:\n",
    "                return find(node.children[char], idx+1)\n",
    "        return find(self.root, 0)\n",
    "        \n",
    "    \n",
    "trie = Trie()\n",
    "words = ['wait','waiter','shop','shopper',\"apple\", \"application\"]\n",
    "for word in words:\n",
    "    trie.insert_word(word)\n",
    "\n",
    "print(trie.does_exist(\"shop\"))\n",
    "print(trie.prefix_search(\"sh..\"))"
   ]
  },
  {
   "cell_type": "code",
   "execution_count": 4,
   "metadata": {},
   "outputs": [
    {
     "name": "stdout",
     "output_type": "stream",
     "text": [
      "0101\n"
     ]
    },
    {
     "data": {
      "text/plain": [
       "0"
      ]
     },
     "execution_count": 4,
     "metadata": {},
     "output_type": "execute_result"
    }
   ],
   "source": [
    "def bin_to_dec(s):\n",
    "    res = 0\n",
    "    s = s[::-1]\n",
    "    print(s)\n",
    "    for i in range(len(s)):\n",
    "        if s[i] == 1:\n",
    "            res+=(2^i)\n",
    "    return res\n",
    "s = '1010'\n",
    "bin_to_dec(s)"
   ]
  }
 ],
 "metadata": {
  "kernelspec": {
   "display_name": "Python 3",
   "language": "python",
   "name": "python3"
  },
  "language_info": {
   "codemirror_mode": {
    "name": "ipython",
    "version": 3
   },
   "file_extension": ".py",
   "mimetype": "text/x-python",
   "name": "python",
   "nbconvert_exporter": "python",
   "pygments_lexer": "ipython3",
   "version": "3.7.0"
  }
 },
 "nbformat": 4,
 "nbformat_minor": 2
}
